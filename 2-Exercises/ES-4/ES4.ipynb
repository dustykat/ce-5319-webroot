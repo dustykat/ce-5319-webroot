{
 "cells": [
  {
   "cell_type": "markdown",
   "metadata": {},
   "source": [
    "**Download** (right-click, save target as ...) this page as a Jupyterlab notebook from: [ES-4](http://54.243.252.9/ce-5319-webroot/2-Exercises/ES-4/ES4.ipynb)\n",
    "\n",
    "___"
   ]
  },
  {
   "cell_type": "markdown",
   "metadata": {},
   "source": [
    "# <font color=darkblue>CE 5319 Machine Learning for Civil Engineers <br> Fall 2022 Exercise Set 3</font>\n",
    "\n",
    "**LAST NAME, FIRST NAME**\n",
    "\n",
    "**R00000000**\n",
    "\n",
    "___\n",
    "\n",
    "### Purpose : \n",
    "Obtain databases for use in class and homework exercises.\n",
    " \n",
    "### Assessment Criteria : \n",
    "Completion, results plausible, format correct, calculations (Jupyter Notebook) are shown.  \n",
    "___"
   ]
  },
  {
   "cell_type": "markdown",
   "metadata": {},
   "source": [
    "---\n",
    "\n",
    "## Problem 1\n",
    "\n",
    "Use the National Bridge Inventory Database and perform a rudimentary data analysis and content summary (just use ES-2 results).\n",
    "\n",
    "Extract a Texas-subset, Extract a North Dakota-subset.\n",
    "\n",
    "Use the North Dakota subset and make a classification model (logistic) that identifies failed (code 3 or smaller) and adequate bridges using the prediction variables described in [Prediction of Bridge Component Ratings Using Ordinal Logistic Regression Model](http://54.243.252.9/ce-5319-webroot/3-Readings/bridgeDatabase9797584.pdf)\n",
    "\n",
    "Repeat with the Texas subset.\n",
    "\n",
    "Comment on the performance of your model(s).\n"
   ]
  },
  {
   "cell_type": "markdown",
   "metadata": {},
   "source": [
    "---\n",
    "\n",
    "## Problem 2\n",
    "\n",
    "Use the Algerian forest fire dataset https://archive.ics.uci.edu/ml/datasets/Algerian+Forest+Fires+Dataset++\n",
    "\n",
    "Make a classification model (logistic) that predicts fire/not-fire based on remaining variables.  \n",
    "\n",
    "Does region (one of the input variables) matter?  \n",
    "\n",
    "Suppose you make a model based on only a single region.  How well does that model perform on the other region.?\n"
   ]
  },
  {
   "cell_type": "markdown",
   "metadata": {},
   "source": [
    "---\n",
    "\n",
    "## Problem 3\n",
    "\n",
    "Repeat the above problems (1 and 2) using KNN as the classification engine.  Be sure to use the same training sets.  Does KNN perorm any better/worse (your opinion) than logistic regression?\n",
    "\n"
   ]
  },
  {
   "cell_type": "code",
   "execution_count": null,
   "metadata": {},
   "outputs": [],
   "source": []
  }
 ],
 "metadata": {
  "kernelspec": {
   "display_name": "Python 3",
   "language": "python",
   "name": "python3"
  },
  "language_info": {
   "codemirror_mode": {
    "name": "ipython",
    "version": 3
   },
   "file_extension": ".py",
   "mimetype": "text/x-python",
   "name": "python",
   "nbconvert_exporter": "python",
   "pygments_lexer": "ipython3",
   "version": "3.8.10"
  }
 },
 "nbformat": 4,
 "nbformat_minor": 4
}
