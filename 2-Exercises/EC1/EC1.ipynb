{
 "cells": [
  {
   "cell_type": "markdown",
   "metadata": {},
   "source": [
    "**Download** (right-click, save target as ...) this page as a Jupyterlab notebook from: [ES-1](http://54.243.252.9/ce-5319-webroot/2-Exercises/EC1/EC1.ipynb)\n",
    "\n",
    "___"
   ]
  },
  {
   "cell_type": "markdown",
   "metadata": {},
   "source": [
    "# <font color=darkblue>CE 5319 Machine Learning for Civil Engineers <br> Fall 2022 Extra Credit Exercises</font>\n",
    "\n",
    "**LAST NAME, FIRST NAME**\n",
    "\n",
    "**R00000000**\n",
    "\n",
    "___\n",
    "\n",
    "### Purpose : \n",
    "Demonstrate self-training using on-line tools\n",
    " \n",
    "### Assessment Criteria : \n",
    "Completion certificate issued by the training vendor.  \n",
    "___"
   ]
  },
  {
   "cell_type": "markdown",
   "metadata": {},
   "source": [
    "## Problem 1\n",
    "\n",
    "Complete the on-line training course [Introduction to Programming](https://www.kaggle.com/learn/intro-to-programming?utm_medium=email&utm_source=gamma&utm_campaign=intro-programming-announcement).  \n",
    "Submit the completion certificate issued by the on-line vendor showing success\n",
    "\n",
    "> The vendor claims the course is free, if you hit a paywall stop - screen capture the paywall and submit that screen capture <br>\n",
    "> The vendor estimates total time to complete is 5 hours, so do this on a weekend <br>\n",
    "> The certificate is worth up to 2.5% of the course grade\n",
    "\n",
    "\n",
    "## Problem 2\n",
    "\n",
    "Complete the on-line training course [Python Programming](https://www.kaggle.com/learn/python).  \n",
    "Submit the completion certificate issued by the on-line vendor showing success\n",
    "\n",
    "> The vendor claims the course is free, if you hit a paywall stop - screen capture the paywall and submit that screen capture <br>\n",
    "> The vendor estimates total time to complete is 5 hours, so do this on a weekend <br>\n",
    "> The certificate is worth up to 2.5% of the course grade\n",
    "\n",
    "\n",
    "The combined available extra credit is 5% of the course grade, roughly the same weight as attendance"
   ]
  },
  {
   "cell_type": "code",
   "execution_count": null,
   "metadata": {},
   "outputs": [],
   "source": []
  }
 ],
 "metadata": {
  "kernelspec": {
   "display_name": "Python 3",
   "language": "python",
   "name": "python3"
  },
  "language_info": {
   "codemirror_mode": {
    "name": "ipython",
    "version": 3
   },
   "file_extension": ".py",
   "mimetype": "text/x-python",
   "name": "python",
   "nbconvert_exporter": "python",
   "pygments_lexer": "ipython3",
   "version": "3.8.10"
  }
 },
 "nbformat": 4,
 "nbformat_minor": 4
}
