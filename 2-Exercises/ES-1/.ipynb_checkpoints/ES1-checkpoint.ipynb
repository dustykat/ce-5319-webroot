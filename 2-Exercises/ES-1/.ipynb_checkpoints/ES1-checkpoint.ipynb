{
 "cells": [
  {
   "cell_type": "markdown",
   "metadata": {},
   "source": [
    "**Download** (right-click, save target as ...) this page as a Jupyterlab notebook from: [ES-1](http://54.243.252.9/ce-5319-webroot/2-Exercises/ES-1/ES1.ipynb)\n",
    "\n",
    "___"
   ]
  },
  {
   "cell_type": "markdown",
   "metadata": {},
   "source": [
    "# <font color=darkblue>CE 5319 Machine Learning for Civil Engineers <br> Fall 2022 Exercise Set 1</font>\n",
    "\n",
    "**LAST NAME, FIRST NAME**\n",
    "\n",
    "**R00000000**\n",
    "\n",
    "___\n",
    "\n",
    "### Purpose : \n",
    "Demonstrate ability to build simple (naive) prediction and classification engines using primative python.\n",
    " \n",
    "### Assessment Criteria : \n",
    "Completion, results plausible, format correct, calculations (Jupyter Notebook) are shown.  \n",
    "___"
   ]
  },
  {
   "cell_type": "markdown",
   "metadata": {},
   "source": [
    "## Problem 1\n",
    "\n",
    "Build a simple prediction engine for a dive computer device\n",
    "\n",
    "![](http://54.243.252.9/ce-5319-webroot/2-Exercises/ES-1/TechDiving_NOAA.png)\n",
    "\n",
    "| Diver with Computer |\n",
    "|---|\n",
    "\n",
    "### Background \n",
    "Scuba divers circa 1980's used to memorize dive tables which provided safe depth-duration combinations (e.g. 60 feet for 60 minutes).  Commerical divers used similar tables. A bounce would occur when a diver at depth notices a shiny object and descends deeper for a very short interval to recover the object - usually something worthless, but occassionally something very valuable. Bounce dives can be quite dangerous - more so if the diver is trying to adapt a memorized dive table to his/her current situation, hence the development of dive computers.\n",
    "\n",
    "The US Navy started development of dive computers in the 1950's to relieve the human of the somewhat tricky task of multi-level dive planning and monitoring. The first digital dive computer was a laboratory model, the XDC-1, based on a desktop electronic calculator, converted to run a DCIEM four-tissue algorithm in 1975. It used pneumofathometer depth input from surface-air supplied divers. \n",
    "\n",
    "In 1976 the diving equipment company Dacor developed and marketed a digital dive computer which used a **table lookup** based on stored US Navy tables rather than a real-time tissue gas saturation model. The Dacor Dive Computer (DDC), displayed output on light-emitting diodes for: current depth; elapsed dive time; surface interval; maximum depth of the dive; repetitive dive data; ascent rate, with a warning for exceeding 20 metres per minute; warning when no-decompression limit is reached; battery low warning light; and required decompression. \n",
    "\n",
    "In the subsequent decade several firms developed and marketed dive computers; by 1989, the advent of dive computers had not met with what might be considered widespread acceptance. Combined with the general mistrust, at the time, of taking a piece of electronics that your life might depend upon underwater, there were also objections expressed ranging from dive resorts believing that the increased bottom time would upset their boat and meal schedules, to that of experienced divers who felt that the increased bottom time would, regardless of the claims, result in many more cases of decompression sickness.\n",
    "\n",
    "By 2015 sophisticated dive computers using real-time tissue gas saturation models were commonplace and comparatively inexpensive (circa 2020 computers are programmable for exotic gasses - greatly relieving the diver's workload in planning and monitoring multi-level (bounce) dives).\n",
    "\n",
    "![](http://54.243.252.9/ce-5319-webroot/2-Exercises/ES-1/HELOX.png)\n",
    "\n",
    "|Helium-Oxygen Dive Computer Readout|\n",
    "|---|\n",
    "\n",
    "### Problem Statement\n",
    "\n",
    "Using the data below develop a prediction for a dive computer that uses Dacor's original approach (i.e. table lookup in this case replaced by an data model). The table lists allowable time at prescribed depths for a recreational diver with a safety decompression stop at 10 feet depth.\n",
    "\n",
    "![](http://54.243.252.9/ce-5319-webroot/2-Exercises/ES-1/DiveTable.png)\n",
    "\n",
    "<!--|Depth (feet)|Time (minutes) with Safety Stop|Time (minutes) without Safety Stop|\n",
    "|---|---|---|\n",
    "35 |205|139|\n",
    "40 |140|104|\n",
    "50 |80|63|\n",
    "60 |55|47|\n",
    "70 |45|33|\n",
    "80 |35|25|\n",
    "90 |25|21|\n",
    "100 |22|none|\n",
    "110 | 16|none|\n",
    "120| 13|none|\n",
    "130| 10|none|\n",
    "140| 8|none|-->\n",
    "\n",
    "In the context of ML the supplied table is the \"truth table\" and initially our goal is to fit some kind of hypothesis to this table.  Avoid the temptation to just apply linear regression and instead mimic the naive learner in the class notes.\n",
    "\n",
    "Consider the two hypothesis structures below and decide which produces a more useful model.\n",
    "\n",
    "1. $\\text{Time} = \\beta_{0}+\\beta_{1}*\\text{Depth}$\n",
    "2. $\\text{Time} = \\beta_{0}+\\beta_{1}*log_{10}(\\text{Depth}+\\beta_{3})$\n",
    "\n",
    "\n",
    "Summarize your efforts into a brief blog-post type of report (i.e. in a Jupyter Notebook)"
   ]
  },
  {
   "cell_type": "markdown",
   "metadata": {},
   "source": [
    "---\n",
    "\n",
    "## Problem 2\n",
    "\n",
    "Build a simple classifier to determine a bug type based upon 1200 examples supplied in the file [bugs-train.csv](http://54.243.252.9/ce-5319-webroot/2-Exercises/ES-1/bugs-train.csv).\n",
    "\n",
    "### Suggested Workflow:\n",
    "\n",
    "1. Download the training file.  \n",
    "2. Perform visual EDA by plotting the two feature variables on a scatterplot, assign the class variables two colors.\n",
    "3. Decide if the two groups are seperable based on the EDA plot.\n",
    "4. Mimicing the course notes construct a classifier that automatically finds a separation line in the feature space.\n",
    "5. Test your classifier using [bugs-train.csv](http://54.243.252.9/ce-5319-webroot/2-Exercises/ES-1/bugs-train.csv).\n",
    "6. Then challenge the classifier with the small challenge set [bugs-challenge.csv](http://54.243.252.9/ce-5319-webroot/2-Exercises/ES-1/bugs-train.csv) that does not contain the labels. \n",
    "7. Summarize your efforts into a brief blog-post type of report (i.e. in a Jupyter Notebook)"
   ]
  }
 ],
 "metadata": {
  "kernelspec": {
   "display_name": "Python 3",
   "language": "python",
   "name": "python3"
  },
  "language_info": {
   "codemirror_mode": {
    "name": "ipython",
    "version": 3
   },
   "file_extension": ".py",
   "mimetype": "text/x-python",
   "name": "python",
   "nbconvert_exporter": "python",
   "pygments_lexer": "ipython3",
   "version": "3.8.10"
  }
 },
 "nbformat": 4,
 "nbformat_minor": 4
}
