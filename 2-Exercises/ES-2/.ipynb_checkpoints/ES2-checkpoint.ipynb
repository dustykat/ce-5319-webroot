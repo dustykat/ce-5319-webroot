{
 "cells": [
  {
   "cell_type": "markdown",
   "metadata": {},
   "source": [
    "**Download** (right-click, save target as ...) this page as a Jupyterlab notebook from: [ES-1](http://54.243.252.9/ce-5319-webroot/2-Exercises/ES-1/ES1.ipynb)\n",
    "\n",
    "___"
   ]
  },
  {
   "cell_type": "markdown",
   "metadata": {},
   "source": [
    "# <font color=darkblue>CE 5319 Machine Learning for Civil Engineers <br> Fall 2022 Exercise Set 2</font>\n",
    "\n",
    "**LAST NAME, FIRST NAME**\n",
    "\n",
    "**R00000000**\n",
    "\n",
    "___\n",
    "\n",
    "### Purpose : \n",
    "Obtain databases for use in class and homework exercises.\n",
    " \n",
    "### Assessment Criteria : \n",
    "Completion, results plausible, format correct, calculations (Jupyter Notebook) are shown.  \n",
    "___"
   ]
  },
  {
   "cell_type": "markdown",
   "metadata": {},
   "source": [
    "## Problem 1\n",
    "\n",
    "Obtain the Concrete Strength Database and perform a rudimentary exploratory data analysis and summary.\n",
    "\n",
    "The source database is at:  [https://archive.ics.uci.edu/ml/machine-learning-databases/concrete/compressive/Concrete_Data.xls](https://archive.ics.uci.edu/ml/machine-learning-databases/concrete/compressive/Concrete_Data.xls)  Observe it is an Excel file, so you will need to use pandas to read it into a dataframe.\n"
   ]
  },
  {
   "cell_type": "markdown",
   "metadata": {},
   "source": [
    "---\n",
    "\n",
    "## Problem 2\n",
    "\n",
    "Obtain the National Bridge Inventory Database and perform a rudimentary data analysis and content summary.\n",
    "\n",
    "The source database is at: [https://www.fhwa.dot.gov/bridge/nbi/2021allstatesallrecsdel.zip](https://www.fhwa.dot.gov/bridge/nbi/2021allstatesallrecsdel.zip)  Notice the URL is to a zip file, after download you have to extract the file.\n",
    "\n",
    "Determine which state code is Texas.\n",
    "\n",
    "\n",
    "\n"
   ]
  },
  {
   "cell_type": "markdown",
   "metadata": {},
   "source": [
    "---\n",
    "\n",
    "## Problem 3\n",
    "\n",
    "Mirror the Crack Images Database Directory.\n",
    "\n",
    "The container directory is at: [http://54.243.252.9/ce-5319-webroot/1-Databases/MaterialCracking/](http://54.243.252.9/ce-5319-webroot/1-Databases/MaterialCracking/)\n",
    "\n",
    "The literature document from which this data arises is [Machine Learning Classifiers for Surface Crack Detection in Fracture\n",
    "Experiments](http://54.243.252.9/ce-5319-webroot/3-Readings/1-s2.0-S002074032100429X-main.pdf)\n",
    "\n"
   ]
  },
  {
   "cell_type": "markdown",
   "metadata": {},
   "source": [
    "---\n",
    "\n",
    "## Problem 4\n",
    "\n",
    "Obtain the two databases related to forest fires; the container directories are:\n",
    "\n",
    "1. https://archive-beta.ics.uci.edu/ml/datasets/forest+fires \n",
    "2. https://archive-beta.ics.uci.edu/ml/datasets/algerian+forest+fires+dataset\n",
    "\n",
    "Prepare written description of these two datasets, what do they contain, and can they be merged into a larger single database (i.e. what are the common features, maybe with different names)"
   ]
  },
  {
   "cell_type": "code",
   "execution_count": null,
   "metadata": {},
   "outputs": [],
   "source": []
  }
 ],
 "metadata": {
  "kernelspec": {
   "display_name": "Python 3",
   "language": "python",
   "name": "python3"
  },
  "language_info": {
   "codemirror_mode": {
    "name": "ipython",
    "version": 3
   },
   "file_extension": ".py",
   "mimetype": "text/x-python",
   "name": "python",
   "nbconvert_exporter": "python",
   "pygments_lexer": "ipython3",
   "version": "3.8.10"
  }
 },
 "nbformat": 4,
 "nbformat_minor": 4
}
