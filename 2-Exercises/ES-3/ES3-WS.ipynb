{
 "cells": [
  {
   "cell_type": "markdown",
   "metadata": {},
   "source": [
    "**Download** (right-click, save target as ...) this page as a Jupyterlab notebook from: [ES-1](http://54.243.252.9/ce-5319-webroot/2-Exercises/ES-4/ES4.ipynb)\n",
    "\n",
    "___"
   ]
  },
  {
   "cell_type": "markdown",
   "metadata": {},
   "source": [
    "# <font color=darkblue>CE 5319 Machine Learning for Civil Engineers <br> Fall 2022 Exercise Set 4</font>\n",
    "\n",
    "**LAST NAME, FIRST NAME**\n",
    "\n",
    "**R00000000**\n",
    "\n",
    "___\n",
    "\n",
    "### Purpose : \n",
    "Obtain databases for use in class and homework exercises.\n",
    " \n",
    "### Assessment Criteria : \n",
    "Completion, results plausible, format correct, calculations (Jupyter Notebook) are shown.  \n",
    "___"
   ]
  },
  {
   "cell_type": "markdown",
   "metadata": {},
   "source": [
    "## Problem 1\n",
    "\n",
    "Consider fingerprinting of origin of a nuclear event (suppose something goes boom, and you are tasked with placing blame).  A fusion device would discharge some unreacted plutonium 238, fingerprinting to either the USA, Russia, UK, France or China.  It is not believed India or North Korea have viable fusion devices. Plutionium mixed with other fallout materials is hard to detect, but even minute amounts emit alpha particles (which can be traced!).\n",
    "\n",
    "Alpha detectors record the intensity of alpha particle strikes in counts per second.  A prediction engine (regression model) is used to estimate the alpha counts (target variable) from plutonium activity (feature variable).  \n",
    "\n",
    "Consider the calibration set contained at [PLUTONIUM.DAT](http://54.243.252.9/ce-5319-webroot/2-Exercises/ES-3/PLUTONIUM.DAT).  The first column is alpha strikes per second, the second is plutonium activity. These data are from four different plutonium standards containing known plutonium activity. The levels are 0.0, 5.0, 10.0, 20.0 picocuries per gram.  Each standard was exposed to the detetection device from 4 to 10 times and the rate of alpha strikes was observed for each replication.\n",
    "\n",
    "Using these data build a prediction engine that takes as input alpha strikes per second and predicts plutonium activity (an inverse regression) for a particular detector instrument.  \n",
    "\n",
    "In your model building consider\n",
    "- Do any of the data appear to be outliers?  \n",
    "- Likely your original prototype engine will be $Y_{\\alpha} \\propto X_{Pu}$\n",
    "- Is the variance constant at different plutonium activities?\n",
    "\n",
    "Next consider some transformations\n",
    "- First transformation $\\sqrt{Y_{\\alpha}} \\propto X_{Pu}$\n",
    "- Second transformation $\\sqrt{Y_{\\alpha}} \\propto \\sqrt{X_{Pu}}$\n",
    "\n",
    "Using your favorite engine render an opinion of residue from a smoldering crater was caused by a fusion device if the instrument measures an alpha activity of 0.0061 counts per second\n"
   ]
  },
  {
   "cell_type": "markdown",
   "metadata": {},
   "source": [
    "## Acquire and Load the Data"
   ]
  },
  {
   "cell_type": "code",
   "execution_count": 21,
   "metadata": {},
   "outputs": [
    {
     "data": {
      "text/html": [
       "<div>\n",
       "<style scoped>\n",
       "    .dataframe tbody tr th:only-of-type {\n",
       "        vertical-align: middle;\n",
       "    }\n",
       "\n",
       "    .dataframe tbody tr th {\n",
       "        vertical-align: top;\n",
       "    }\n",
       "\n",
       "    .dataframe thead th {\n",
       "        text-align: right;\n",
       "    }\n",
       "</style>\n",
       "<table border=\"1\" class=\"dataframe\">\n",
       "  <thead>\n",
       "    <tr style=\"text-align: right;\">\n",
       "      <th></th>\n",
       "      <th>alpha</th>\n",
       "      <th>Pu</th>\n",
       "    </tr>\n",
       "  </thead>\n",
       "  <tbody>\n",
       "    <tr>\n",
       "      <th>0</th>\n",
       "      <td>0.150</td>\n",
       "      <td>20</td>\n",
       "    </tr>\n",
       "    <tr>\n",
       "      <th>1</th>\n",
       "      <td>0.004</td>\n",
       "      <td>0</td>\n",
       "    </tr>\n",
       "    <tr>\n",
       "      <th>2</th>\n",
       "      <td>0.069</td>\n",
       "      <td>10</td>\n",
       "    </tr>\n",
       "    <tr>\n",
       "      <th>3</th>\n",
       "      <td>0.030</td>\n",
       "      <td>5</td>\n",
       "    </tr>\n",
       "    <tr>\n",
       "      <th>4</th>\n",
       "      <td>0.011</td>\n",
       "      <td>0</td>\n",
       "    </tr>\n",
       "  </tbody>\n",
       "</table>\n",
       "</div>"
      ],
      "text/plain": [
       "   alpha  Pu\n",
       "0  0.150  20\n",
       "1  0.004   0\n",
       "2  0.069  10\n",
       "3  0.030   5\n",
       "4  0.011   0"
      ]
     },
     "execution_count": 21,
     "metadata": {},
     "output_type": "execute_result"
    }
   ],
   "source": [
    "import pandas as pd\n",
    "# Read the remote directly from its url (Jupyter):\n",
    "url = \"http://54.243.252.9/ce-5319-webroot/2-Exercises/ES-3/PLUTONIUM.DAT\"\n",
    "# Assign colum names to the dataset\n",
    "names = ['alpha', 'plutonium']\n",
    "# Read dataset to pandas dataframe\n",
    "dataset = pd.read_csv(url, delim_whitespace=True )\n",
    "#dataset = pd.read_csv(url)\n",
    "dataset.head()"
   ]
  },
  {
   "cell_type": "markdown",
   "metadata": {},
   "source": [
    "## Exploratory Plotting"
   ]
  },
  {
   "cell_type": "code",
   "execution_count": 23,
   "metadata": {},
   "outputs": [
    {
     "data": {
      "image/png": "[encoded data removed]",
      "text/plain": [
       "<Figure size 432x288 with 1 Axes>"
      ]
     },
     "metadata": {
      "needs_background": "light"
     },
     "output_type": "display_data"
    }
   ],
   "source": [
    "import matplotlib.pyplot as plt\n",
    "_ = plt.plot(dataset['Pu'],dataset['alpha'], 'o', label='Original data', markersize=5)\n",
    "#_ = plt.plot(x, m*x + c, 'r', label='Fitted line')\n",
    "_ = plt.legend()\n",
    "\n",
    "plt.show()"
   ]
  },
  {
   "cell_type": "markdown",
   "metadata": {},
   "source": [
    "Visual examination of the various responses at different inputs suggests variance changes with input.  Also the Alpha value at (0,0.11) is different from at least 4 other values at the zero input level - this observation might be some kind of outlier.\n",
    "\n",
    "Proceeding with naive OLS"
   ]
  },
  {
   "cell_type": "code",
   "execution_count": 29,
   "metadata": {},
   "outputs": [
    {
     "data": {
      "image/png": "[encoded data removed]",
      "text/plain": [
       "<Figure size 432x288 with 1 Axes>"
      ]
     },
     "metadata": {
      "needs_background": "light"
     },
     "output_type": "display_data"
    }
   ],
   "source": [
    "from sklearn.linear_model import LinearRegression, Lasso, Ridge\n",
    "\n",
    "# Linear Regression\n",
    "lr = LinearRegression()\n",
    "# Lasso Regression\n",
    "lasso = Lasso(alpha=1) #alpha is the lambda weight close to 0 is ordinary linear regression\n",
    "# Ridge Regression\n",
    "ridge = Ridge(alpha=1)  #alpha is the lambda weight close to 0 is ordinary linear regression\n",
    "\n",
    "X = dataset['Pu'].values\n",
    "y = dataset['alpha'].values\n",
    "\n",
    "lr.fit(X.reshape(-1, 1), y) # fit a linear model\n",
    "y_pred_lr = lr.predict(X.reshape(-1, 1)) # make predictions\n",
    "\n",
    "_ = plt.plot(dataset['Pu'],dataset['alpha'], 'o', label='Original data', markersize=5)\n",
    "_ = plt.plot(dataset['Pu'], y_pred_lr, 'r', label='Fitted line')\n",
    "_ = plt.legend()\n",
    "\n",
    "plt.show()"
   ]
  },
  {
   "cell_type": "code",
   "execution_count": null,
   "metadata": {},
   "outputs": [],
   "source": [
    "Now repeat, but will drop the outlier"
   ]
  },
  {
   "cell_type": "code",
   "execution_count": 37,
   "metadata": {},
   "outputs": [
    {
     "data": {
      "text/html": [
       "<div>\n",
       "<style scoped>\n",
       "    .dataframe tbody tr th:only-of-type {\n",
       "        vertical-align: middle;\n",
       "    }\n",
       "\n",
       "    .dataframe tbody tr th {\n",
       "        vertical-align: top;\n",
       "    }\n",
       "\n",
       "    .dataframe thead th {\n",
       "        text-align: right;\n",
       "    }\n",
       "</style>\n",
       "<table border=\"1\" class=\"dataframe\">\n",
       "  <thead>\n",
       "    <tr style=\"text-align: right;\">\n",
       "      <th></th>\n",
       "      <th>alpha</th>\n",
       "      <th>Pu</th>\n",
       "    </tr>\n",
       "  </thead>\n",
       "  <tbody>\n",
       "    <tr>\n",
       "      <th>21</th>\n",
       "      <td>0.002</td>\n",
       "      <td>0</td>\n",
       "    </tr>\n",
       "    <tr>\n",
       "      <th>22</th>\n",
       "      <td>0.049</td>\n",
       "      <td>5</td>\n",
       "    </tr>\n",
       "    <tr>\n",
       "      <th>23</th>\n",
       "      <td>0.106</td>\n",
       "      <td>0</td>\n",
       "    </tr>\n",
       "  </tbody>\n",
       "</table>\n",
       "</div>"
      ],
      "text/plain": [
       "    alpha  Pu\n",
       "21  0.002   0\n",
       "22  0.049   5\n",
       "23  0.106   0"
      ]
     },
     "execution_count": 37,
     "metadata": {},
     "output_type": "execute_result"
    }
   ],
   "source": [
    "dataset.tail(3)"
   ]
  },
  {
   "cell_type": "code",
   "execution_count": 38,
   "metadata": {},
   "outputs": [
    {
     "data": {
      "text/html": [
       "<div>\n",
       "<style scoped>\n",
       "    .dataframe tbody tr th:only-of-type {\n",
       "        vertical-align: middle;\n",
       "    }\n",
       "\n",
       "    .dataframe tbody tr th {\n",
       "        vertical-align: top;\n",
       "    }\n",
       "\n",
       "    .dataframe thead th {\n",
       "        text-align: right;\n",
       "    }\n",
       "</style>\n",
       "<table border=\"1\" class=\"dataframe\">\n",
       "  <thead>\n",
       "    <tr style=\"text-align: right;\">\n",
       "      <th></th>\n",
       "      <th>alpha</th>\n",
       "      <th>Pu</th>\n",
       "    </tr>\n",
       "  </thead>\n",
       "  <tbody>\n",
       "    <tr>\n",
       "      <th>21</th>\n",
       "      <td>0.002</td>\n",
       "      <td>0</td>\n",
       "    </tr>\n",
       "    <tr>\n",
       "      <th>22</th>\n",
       "      <td>0.049</td>\n",
       "      <td>5</td>\n",
       "    </tr>\n",
       "  </tbody>\n",
       "</table>\n",
       "</div>"
      ],
      "text/plain": [
       "    alpha  Pu\n",
       "21  0.002   0\n",
       "22  0.049   5"
      ]
     },
     "execution_count": 38,
     "metadata": {},
     "output_type": "execute_result"
    }
   ],
   "source": [
    "dfnew = dataset.drop([23])\n",
    "dfnew.tail(2)"
   ]
  },
  {
   "cell_type": "code",
   "execution_count": 39,
   "metadata": {},
   "outputs": [
    {
     "data": {
      "image/png": "[encoded data removed]",
      "text/plain": [
       "<Figure size 432x288 with 1 Axes>"
      ]
     },
     "metadata": {
      "needs_background": "light"
     },
     "output_type": "display_data"
    }
   ],
   "source": [
    "X = dfnew['Pu'].values\n",
    "y = dfnew['alpha'].values\n",
    "\n",
    "lr.fit(X.reshape(-1, 1), y) # fit a linear model\n",
    "y_pred_lr = lr.predict(X.reshape(-1, 1)) # make predictions\n",
    "\n",
    "_ = plt.plot(dfnew['Pu'],dfnew['alpha'], 'o', label='Original data', markersize=5)\n",
    "_ = plt.plot(dfnew['Pu'], y_pred_lr, 'r', label='Fitted line')\n",
    "_ = plt.legend()\n",
    "\n",
    "plt.show()"
   ]
  },
  {
   "cell_type": "markdown",
   "metadata": {},
   "source": [
    "Now some transformations on the data (keeping the outlier out)."
   ]
  },
  {
   "cell_type": "code",
   "execution_count": 47,
   "metadata": {},
   "outputs": [
    {
     "data": {
      "image/png": "[encoded data removed]",
      "text/plain": [
       "<Figure size 432x288 with 1 Axes>"
      ]
     },
     "metadata": {
      "needs_background": "light"
     },
     "output_type": "display_data"
    }
   ],
   "source": [
    "#mydf['reallynew'] = mydf['col2'].apply(times2)\n",
    "\n",
    "def root(x):\n",
    "    import math\n",
    "    root = math.sqrt(x)\n",
    "    return(root)\n",
    "\n",
    "X = dfnew['Pu'].values\n",
    "y = dfnew['alpha'].apply(root).values\n",
    "\n",
    "lr.fit(X.reshape(-1, 1), y) # fit a linear model\n",
    "y_pred_lr = lr.predict(X.reshape(-1, 1)) # make predictions\n",
    "\n",
    "_ = plt.plot(dfnew['Pu'],dfnew['alpha'].apply(root), 'o', label='Original data', markersize=5)\n",
    "_ = plt.plot(dfnew['Pu'], y_pred_lr, 'r', label='Fitted line')\n",
    "_ = plt.legend()\n",
    "\n",
    "plt.show()"
   ]
  },
  {
   "cell_type": "code",
   "execution_count": 49,
   "metadata": {},
   "outputs": [
    {
     "data": {
      "image/png": "[encoded data removed]",
      "text/plain": [
       "<Figure size 432x288 with 1 Axes>"
      ]
     },
     "metadata": {
      "needs_background": "light"
     },
     "output_type": "display_data"
    }
   ],
   "source": [
    "X = dfnew['Pu'].apply(root).values\n",
    "y = dfnew['alpha'].apply(root).values\n",
    "\n",
    "lr.fit(X.reshape(-1, 1), y) # fit a linear model\n",
    "y_pred_lr = lr.predict(X.reshape(-1, 1)) # make predictions\n",
    "\n",
    "_ = plt.plot(dfnew['Pu'].apply(root),dfnew['alpha'].apply(root), 'o', label='Original data', markersize=5)\n",
    "_ = plt.plot(dfnew['Pu'].apply(root), y_pred_lr, 'r', label='Fitted line')\n",
    "_ = plt.legend()\n",
    "\n",
    "plt.show()"
   ]
  },
  {
   "cell_type": "markdown",
   "metadata": {},
   "source": [
    "---\n",
    "\n",
    "## Problem 2\n",
    "\n",
    "Obtain the National Bridge Inventory Database (from ES-2)and perform a rudimentary data analysis and content summary.\n",
    "\n",
    "Extract Texas-data\n",
    "\n",
    "Extract North\n",
    "\n",
    "\n",
    "\n",
    "\n",
    "\n"
   ]
  },
  {
   "cell_type": "markdown",
   "metadata": {},
   "source": [
    "---\n",
    "\n",
    "## Problem 3\n",
    "\n",
    "Mirror the Crack Images Database Directory.\n",
    "\n",
    "The container directory is at: [http://54.243.252.9/ce-5319-webroot/1-Databases/MaterialCracking/](http://54.243.252.9/ce-5319-webroot/1-Databases/MaterialCracking/)\n",
    "\n",
    "The literature document from which this data arises is [Machine Learning Classifiers for Surface Crack Detection in Fracture\n",
    "Experiments](http://54.243.252.9/ce-5319-webroot/3-Readings/1-s2.0-S002074032100429X-main.pdf)\n",
    "\n"
   ]
  },
  {
   "cell_type": "markdown",
   "metadata": {},
   "source": [
    "---\n",
    "\n",
    "## Problem 4\n",
    "\n",
    "Obtain the two databases related to forest fires; the container directories are:\n",
    "\n",
    "1. https://archive-beta.ics.uci.edu/ml/datasets/forest+fires \n",
    "2. https://archive-beta.ics.uci.edu/ml/datasets/algerian+forest+fires+dataset\n",
    "\n",
    "Prepare written description of these two datasets, what do they contain, and can they be merged into a larger single database (i.e. what are the common features, maybe with different names)"
   ]
  },
  {
   "cell_type": "code",
   "execution_count": null,
   "metadata": {},
   "outputs": [],
   "source": []
  }
 ],
 "metadata": {
  "kernelspec": {
   "display_name": "Python 3",
   "language": "python",
   "name": "python3"
  },
  "language_info": {
   "codemirror_mode": {
    "name": "ipython",
    "version": 3
   },
   "file_extension": ".py",
   "mimetype": "text/x-python",
   "name": "python",
   "nbconvert_exporter": "python",
   "pygments_lexer": "ipython3",
   "version": "3.8.10"
  }
 },
 "nbformat": 4,
 "nbformat_minor": 4
}
