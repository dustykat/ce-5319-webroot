{
 "cells": [
  {
   "cell_type": "markdown",
   "metadata": {},
   "source": [
    "**Download** (right-click, save target as ...) this page as a Jupyterlab notebook from: [ES-1](http://54.243.252.9/ce-5319-webroot/2-Exercises/ES-1/ES1.ipynb)\n",
    "\n",
    "___"
   ]
  },
  {
   "cell_type": "markdown",
   "metadata": {},
   "source": [
    "# <font color=darkblue>CE 5319 Machine Learning for Civil Engineers <br> Fall 2022 Exercise Set 3</font>\n",
    "\n",
    "**LAST NAME, FIRST NAME**\n",
    "\n",
    "**R00000000**\n",
    "\n",
    "___\n",
    "\n",
    "### Purpose : \n",
    "Obtain databases for use in class and homework exercises.\n",
    " \n",
    "### Assessment Criteria : \n",
    "Completion, results plausible, format correct, calculations (Jupyter Notebook) are shown.  \n",
    "___"
   ]
  },
  {
   "cell_type": "markdown",
   "metadata": {},
   "source": [
    "## Problem 1\n",
    "\n",
    "Consider fingerprinting of origin of a nuclear event (suppose something goes boom, and you are tasked with placing blame).  A fusion device would discharge some unreacted plutonium 238, fingerprinting to either the USA, Russia, UK, France or China.  It is not believed India or North Korea have viable fusion devices. Plutionium mixed with other fallout materials is hard to detect, but even minute amounts emit alpha particles (which can be traced!).\n",
    "\n",
    "Alpha detectors record the intensity of alpha particle strikes in counts per second.  A prediction engine (regression model) is used to estimate the alpha counts (target variable) from plutonium activity (feature variable).  \n",
    "\n",
    "Consider the calibration set contained at [PLUTONIUM.DAT](http://54.243.252.9/ce-5319-webroot/2-Exercises/ES-3/PLUTONIUM.DAT).  The first column is alpha strikes per second, the second is plutonium activity. These data are from four different plutonium standards containing known plutonium activity. The levels are 0.0, 5.0, 10.0, 20.0 picocuries per gram.  Each standard was exposed to the detetection device from 4 to 10 times and the rate of alpha strikes was observed for each replication.\n",
    "\n",
    "Using these data build a prediction engine that takes as input alpha strikes per second and predicts plutonium activity (an inverse regression) for a particular detector instrument.  \n",
    "\n",
    "In your model building consider\n",
    "- Do any of the data appear to be outliers?  \n",
    "- Likely your original prototype engine will be $Y_{\\alpha} \\propto X_{Pu}$\n",
    "- Is the variance constant at different plutonium activities?\n",
    "\n",
    "Next consider some transformations\n",
    "- First transformation $\\sqrt{Y_{\\alpha}} \\propto X_{Pu}$\n",
    "- Second transformation $\\sqrt{Y_{\\alpha}} \\propto \\sqrt{X_{Pu}}$\n",
    "\n",
    "Using your favorite engine render an opinion of residue from a smoldering crater was caused by a fusion device if the instrument measures an alpha activity of 0.0061 counts per second\n"
   ]
  },
  {
   "cell_type": "markdown",
   "metadata": {},
   "source": [
    "---\n",
    "\n",
    "## Problem 2\n",
    "\n",
    "Obtain the National Bridge Inventory Database and perform a rudimentary data analysis and content summary.\n",
    "\n",
    "The source database is at: [https://www.fhwa.dot.gov/bridge/nbi/2021allstatesallrecsdel.zip](https://www.fhwa.dot.gov/bridge/nbi/2021allstatesallrecsdel.zip)  Notice the URL is to a zip file, after download you have to extract the file.\n",
    "\n",
    "Determine which state code is Texas.\n",
    "\n",
    "\n",
    "\n"
   ]
  },
  {
   "cell_type": "markdown",
   "metadata": {},
   "source": [
    "---\n",
    "\n",
    "## Problem 3\n",
    "\n",
    "Mirror the Crack Images Database Directory.\n",
    "\n",
    "The container directory is at: [http://54.243.252.9/ce-5319-webroot/1-Databases/MaterialCracking/](http://54.243.252.9/ce-5319-webroot/1-Databases/MaterialCracking/)\n",
    "\n",
    "The literature document from which this data arises is [Machine Learning Classifiers for Surface Crack Detection in Fracture\n",
    "Experiments](http://54.243.252.9/ce-5319-webroot/3-Readings/1-s2.0-S002074032100429X-main.pdf)\n",
    "\n"
   ]
  },
  {
   "cell_type": "markdown",
   "metadata": {},
   "source": [
    "---\n",
    "\n",
    "## Problem 4\n",
    "\n",
    "Obtain the two databases related to forest fires; the container directories are:\n",
    "\n",
    "1. https://archive-beta.ics.uci.edu/ml/datasets/forest+fires \n",
    "2. https://archive-beta.ics.uci.edu/ml/datasets/algerian+forest+fires+dataset\n",
    "\n",
    "Prepare written description of these two datasets, what do they contain, and can they be merged into a larger single database (i.e. what are the common features, maybe with different names)"
   ]
  },
  {
   "cell_type": "code",
   "execution_count": null,
   "metadata": {},
   "outputs": [],
   "source": []
  }
 ],
 "metadata": {
  "kernelspec": {
   "display_name": "Python 3",
   "language": "python",
   "name": "python3"
  },
  "language_info": {
   "codemirror_mode": {
    "name": "ipython",
    "version": 3
   },
   "file_extension": ".py",
   "mimetype": "text/x-python",
   "name": "python",
   "nbconvert_exporter": "python",
   "pygments_lexer": "ipython3",
   "version": "3.8.10"
  }
 },
 "nbformat": 4,
 "nbformat_minor": 4
}
