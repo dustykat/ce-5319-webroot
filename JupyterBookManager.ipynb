{
 "cells": [
  {
   "cell_type": "code",
   "execution_count": 8,
   "metadata": {},
   "outputs": [
    {
     "name": "stdout",
     "output_type": "stream",
     "text": [
      "\n",
      "\u001b[92m===============================================================================\u001b[0m\n",
      "\n",
      "Your _build directory has been emptied except for .jupyter_cache\n",
      "\n",
      "\u001b[92m===============================================================================\u001b[0m\n",
      "\n"
     ]
    }
   ],
   "source": [
    "! jupyter-book clean ce5319jb"
   ]
  },
  {
   "cell_type": "code",
   "execution_count": null,
   "metadata": {},
   "outputs": [
    {
     "name": "stdout",
     "output_type": "stream",
     "text": [
      "\u001b[32m\u001b[1mRunning Jupyter-Book v0.12.0\u001b[0m\n",
      "\u001b[34m\u001b[1mSource Folder: \u001b[0m/home/sensei/ce-5319-webroot/ce5319jb\n",
      "\u001b[34m\u001b[1mConfig Path: \u001b[0m/home/sensei/ce-5319-webroot/ce5319jb/_config.yml\n",
      "\u001b[34m\u001b[1mOutput Path: \u001b[0m/home/sensei/ce-5319-webroot/ce5319jb/_build/html\n",
      "\u001b[01mRunning Sphinx v3.5.2\u001b[39;49;00m\n",
      "[etoc] Changing master_doc to 'intro'\n",
      "\u001b[01mloading pickled environment... \u001b[39;49;00mchecking for /home/sensei/ce-5319-webroot/ce5319jb/references.bib in bibtex cache... up to date\n",
      "done\n",
      "\u001b[01mmyst v0.15.2:\u001b[39;49;00m MdParserConfig(renderer='sphinx', commonmark_only=False, enable_extensions=['colon_fence', 'dollarmath', 'linkify', 'substitution', 'tasklist'], dmath_allow_labels=True, dmath_allow_space=True, dmath_allow_digits=True, dmath_double_inline=False, update_mathjax=True, mathjax_classes='tex2jax_process|mathjax_process|math|output_area', disable_syntax=[], url_schemes=['mailto', 'http', 'https'], heading_anchors=None, heading_slug_func=None, html_meta=[], footnote_transition=True, substitutions=[], sub_delimiters=['{', '}'], words_per_minute=200)\n",
      "\u001b[01mbuilding [mo]: \u001b[39;49;00mtargets for 0 po files that are out of date\n",
      "\u001b[01mbuilding [html]: \u001b[39;49;00mtargets for 0 source files that are out of date\n",
      "\u001b[01mupdating environment: \u001b[39;49;00m\u001b[01mexecuting outdated notebooks... \u001b[39;49;00mExecuting: /home/sensei/ce-5319-webroot/ce5319jb/lessons/lesson4.1/3readwriteweb.ipynb\n",
      "Execution Succeeded: /home/sensei/ce-5319-webroot/ce5319jb/lessons/lesson4.1/3readwriteweb.ipynb\n",
      "Executing: /home/sensei/ce-5319-webroot/ce5319jb/lessons/lesson5/lesson5.ipynb\n",
      "Execution Succeeded: /home/sensei/ce-5319-webroot/ce5319jb/lessons/lesson5/lesson5.ipynb\n",
      "Executing: /home/sensei/ce-5319-webroot/ce5319jb/lessons/lesson4.1/2readwritecore.ipynb\n",
      "Execution Succeeded: /home/sensei/ce-5319-webroot/ce5319jb/lessons/lesson4.1/2readwritecore.ipynb\n",
      "Executing: /home/sensei/ce-5319-webroot/ce5319jb/lessons/lesson8/exploratorydataanalysisvisual.ipynb\n",
      "Execution Succeeded: /home/sensei/ce-5319-webroot/ce5319jb/lessons/lesson8/exploratorydataanalysisvisual.ipynb\n",
      "Executing: /home/sensei/ce-5319-webroot/ce5319jb/lessons/logisticregression/TexasNBI_database.ipynb\n",
      "Execution Succeeded: /home/sensei/ce-5319-webroot/ce5319jb/lessons/logisticregression/TexasNBI_database.ipynb\n",
      "Executing: /home/sensei/ce-5319-webroot/ce5319jb/lessons/lesson11/regressionModels.ipynb\n",
      "Execution Succeeded: /home/sensei/ce-5319-webroot/ce5319jb/lessons/lesson11/regressionModels.ipynb\n",
      "Executing: /home/sensei/ce-5319-webroot/ce5319jb/lessons/optimization/1topic.ipynb\n",
      "Execution Succeeded: /home/sensei/ce-5319-webroot/ce5319jb/lessons/optimization/1topic.ipynb\n",
      "Executing: /home/sensei/ce-5319-webroot/ce5319jb/lessons/lesson4.1/1filesystems.ipynb\n",
      "Execution Succeeded: /home/sensei/ce-5319-webroot/ce5319jb/lessons/lesson4.1/1filesystems.ipynb\n",
      "Executing: /home/sensei/ce-5319-webroot/ce5319jb/lessons/neuralnetworks/neuralnetworks.ipynb\n",
      "Execution Succeeded: /home/sensei/ce-5319-webroot/ce5319jb/lessons/neuralnetworks/neuralnetworks.ipynb\n",
      "Executing: /home/sensei/ce-5319-webroot/ce5319jb/lessons/logisticregression/poisonmushroom.ipynb\n",
      "Execution Succeeded: /home/sensei/ce-5319-webroot/ce5319jb/lessons/logisticregression/poisonmushroom.ipynb\n",
      "Executing: /home/sensei/ce-5319-webroot/ce5319jb/lessons/lesson3/lesson3.ipynb\n",
      "Execution Succeeded: /home/sensei/ce-5319-webroot/ce5319jb/lessons/lesson3/lesson3.ipynb\n",
      "Executing: /home/sensei/ce-5319-webroot/ce5319jb/lessons/optimization/optimization.ipynb\n",
      "Execution Succeeded: /home/sensei/ce-5319-webroot/ce5319jb/lessons/optimization/optimization.ipynb\n",
      "Executing: /home/sensei/ce-5319-webroot/ce5319jb/lessons/logisticregression/example3.ipynb\n",
      "Execution Succeeded: /home/sensei/ce-5319-webroot/ce5319jb/lessons/logisticregression/example3.ipynb\n",
      "Executing: /home/sensei/ce-5319-webroot/ce5319jb/lessons/neuralnetworks/myann.ipynb\n",
      "Execution Succeeded: /home/sensei/ce-5319-webroot/ce5319jb/lessons/neuralnetworks/myann.ipynb\n",
      "Executing: /home/sensei/ce-5319-webroot/ce5319jb/lessons/lesson8/downloading.ipynb\n",
      "Execution Succeeded: /home/sensei/ce-5319-webroot/ce5319jb/lessons/lesson8/downloading.ipynb\n",
      "Executing: /home/sensei/ce-5319-webroot/ce5319jb/lessons/logisticregression/poissonregression.ipynb\n",
      "Execution Succeeded: /home/sensei/ce-5319-webroot/ce5319jb/lessons/logisticregression/poissonregression.ipynb\n",
      "Executing: /home/sensei/ce-5319-webroot/ce5319jb/lessons/lesson9/lesson9.ipynb\n",
      "Execution Succeeded: /home/sensei/ce-5319-webroot/ce5319jb/lessons/lesson9/lesson9.ipynb\n",
      "Executing: /home/sensei/ce-5319-webroot/ce5319jb/lessons/lesson8/exploratorydataanalysis.ipynb\n",
      "Execution Succeeded: /home/sensei/ce-5319-webroot/ce5319jb/lessons/lesson8/exploratorydataanalysis.ipynb\n",
      "Executing: /home/sensei/ce-5319-webroot/ce5319jb/lessons/lesson8/datatypes.ipynb\n",
      "Execution Succeeded: /home/sensei/ce-5319-webroot/ce5319jb/lessons/lesson8/datatypes.ipynb\n",
      "Executing: /home/sensei/ce-5319-webroot/ce5319jb/lessons/optimization/3topic.ipynb\n",
      "Execution Succeeded: /home/sensei/ce-5319-webroot/ce5319jb/lessons/optimization/3topic.ipynb\n",
      "Executing: /home/sensei/ce-5319-webroot/ce5319jb/lessons/lesson6/lesson6.ipynb\n",
      "Execution Succeeded: /home/sensei/ce-5319-webroot/ce5319jb/lessons/lesson6/lesson6.ipynb\n",
      "Executing: /home/sensei/ce-5319-webroot/ce5319jb/lessons/lesson4/lesson4.ipynb\n",
      "Execution Succeeded: /home/sensei/ce-5319-webroot/ce5319jb/lessons/lesson4/lesson4.ipynb\n",
      "Executing: /home/sensei/ce-5319-webroot/ce5319jb/lessons/logisticregression/example1.ipynb\n",
      "Execution Succeeded: /home/sensei/ce-5319-webroot/ce5319jb/lessons/logisticregression/example1.ipynb\n",
      "Executing: /home/sensei/ce-5319-webroot/ce5319jb/lessons/lesson8/lesson8.ipynb\n",
      "Execution Succeeded: /home/sensei/ce-5319-webroot/ce5319jb/lessons/lesson8/lesson8.ipynb\n",
      "Executing: /home/sensei/ce-5319-webroot/ce5319jb/lessons/nearestneighbor/lesson14.ipynb\n",
      "Execution Succeeded: /home/sensei/ce-5319-webroot/ce5319jb/lessons/nearestneighbor/lesson14.ipynb\n",
      "Executing: /home/sensei/ce-5319-webroot/ce5319jb/lessons/lesson7/lesson7.ipynb\n",
      "Execution Succeeded: /home/sensei/ce-5319-webroot/ce5319jb/lessons/lesson7/lesson7.ipynb\n",
      "Executing: /home/sensei/ce-5319-webroot/ce5319jb/lessons/lesson12/lesson12.ipynb\n",
      "Execution Succeeded: /home/sensei/ce-5319-webroot/ce5319jb/lessons/lesson12/lesson12.ipynb\n",
      "Executing: /home/sensei/ce-5319-webroot/ce5319jb/lessons/lesson4.1/filetransfer.ipynb\n",
      "Execution Succeeded: /home/sensei/ce-5319-webroot/ce5319jb/lessons/lesson4.1/filetransfer.ipynb\n",
      "Executing: /home/sensei/ce-5319-webroot/ce5319jb/lessons/lesson11/lesson11.ipynb\n",
      "Execution Succeeded: /home/sensei/ce-5319-webroot/ce5319jb/lessons/lesson11/lesson11.ipynb\n",
      "Executing: /home/sensei/ce-5319-webroot/ce5319jb/lessons/lesson1/lesson1.ipynb\n",
      "Execution Succeeded: /home/sensei/ce-5319-webroot/ce5319jb/lessons/lesson1/lesson1.ipynb\n",
      "Executing: /home/sensei/ce-5319-webroot/ce5319jb/lessons/randomforest/lesson15.ipynb\n",
      "Execution Succeeded: /home/sensei/ce-5319-webroot/ce5319jb/lessons/randomforest/lesson15.ipynb\n",
      "Executing: /home/sensei/ce-5319-webroot/ce5319jb/lessons/lesson2/lesson2.ipynb\n",
      "Execution Succeeded: /home/sensei/ce-5319-webroot/ce5319jb/lessons/lesson2/lesson2.ipynb\n",
      "Executing: /home/sensei/ce-5319-webroot/ce5319jb/lessons/logisticregression/BridgeDatabase-BuildTexas.ipynb\n",
      "Execution Succeeded: /home/sensei/ce-5319-webroot/ce5319jb/lessons/logisticregression/BridgeDatabase-BuildTexas.ipynb\n",
      "Executing: /home/sensei/ce-5319-webroot/ce5319jb/lessons/validation/validation.ipynb\n",
      "Execution Succeeded: /home/sensei/ce-5319-webroot/ce5319jb/lessons/validation/validation.ipynb\n",
      "Executing: /home/sensei/ce-5319-webroot/ce5319jb/lessons/optimization/2topic.ipynb\n",
      "Execution Succeeded: /home/sensei/ce-5319-webroot/ce5319jb/lessons/optimization/2topic.ipynb\n",
      "Executing: /home/sensei/ce-5319-webroot/ce5319jb/lessons/logisticregression/example2.ipynb\n",
      "Execution Succeeded: /home/sensei/ce-5319-webroot/ce5319jb/lessons/logisticregression/example2.ipynb\n",
      "Executing: /home/sensei/ce-5319-webroot/ce5319jb/lessons/logisticregression/logisticregression.ipynb\n"
     ]
    }
   ],
   "source": [
    "! jupyter-book build ce5319jb"
   ]
  },
  {
   "cell_type": "code",
   "execution_count": null,
   "metadata": {},
   "outputs": [],
   "source": []
  },
  {
   "cell_type": "code",
   "execution_count": null,
   "metadata": {},
   "outputs": [],
   "source": []
  }
 ],
 "metadata": {
  "kernelspec": {
   "display_name": "Python 3",
   "language": "python",
   "name": "python3"
  },
  "language_info": {
   "codemirror_mode": {
    "name": "ipython",
    "version": 3
   },
   "file_extension": ".py",
   "mimetype": "text/x-python",
   "name": "python",
   "nbconvert_exporter": "python",
   "pygments_lexer": "ipython3",
   "version": "3.8.10"
  }
 },
 "nbformat": 4,
 "nbformat_minor": 4
}
