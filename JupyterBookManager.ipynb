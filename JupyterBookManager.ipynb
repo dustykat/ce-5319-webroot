{
 "cells": [
  {
   "cell_type": "code",
   "execution_count": 5,
   "metadata": {},
   "outputs": [
    {
     "name": "stdout",
     "output_type": "stream",
     "text": [
      "\n",
      "\u001b[92m===============================================================================\u001b[0m\n",
      "\n",
      "Your _build directory has been emptied except for .jupyter_cache\n",
      "\n",
      "\u001b[92m===============================================================================\u001b[0m\n",
      "\n"
     ]
    }
   ],
   "source": [
    "! jupyter-book clean ce5319jb"
   ]
  },
  {
   "cell_type": "code",
   "execution_count": 6,
   "metadata": {},
   "outputs": [
    {
     "name": "stdout",
     "output_type": "stream",
     "text": [
      "\u001b[32m\u001b[1mRunning Jupyter-Book v0.12.0\u001b[0m\n",
      "\u001b[34m\u001b[1mSource Folder: \u001b[0m/home/sensei/ce-5319-webroot/ce5319jb\n",
      "\u001b[34m\u001b[1mConfig Path: \u001b[0m/home/sensei/ce-5319-webroot/ce5319jb/_config.yml\n",
      "\u001b[34m\u001b[1mOutput Path: \u001b[0m/home/sensei/ce-5319-webroot/ce5319jb/_build/html\n",
      "\u001b[01mRunning Sphinx v3.5.2\u001b[39;49;00m\n",
      "\u001b[01mmaking output directory... \u001b[39;49;00mdone\n",
      "[etoc] Changing master_doc to 'intro'\n",
      "checking for /home/sensei/ce-5319-webroot/ce5319jb/references.bib in bibtex cache... not found\n",
      "parsing bibtex file /home/sensei/ce-5319-webroot/ce5319jb/references.bib... parsed 5 entries\n",
      "\u001b[01mmyst v0.15.2:\u001b[39;49;00m MdParserConfig(renderer='sphinx', commonmark_only=False, enable_extensions=['colon_fence', 'dollarmath', 'linkify', 'substitution', 'tasklist'], dmath_allow_labels=True, dmath_allow_space=True, dmath_allow_digits=True, dmath_double_inline=False, update_mathjax=True, mathjax_classes='tex2jax_process|mathjax_process|math|output_area', disable_syntax=[], url_schemes=['mailto', 'http', 'https'], heading_anchors=None, heading_slug_func=None, html_meta=[], footnote_transition=True, substitutions=[], sub_delimiters=['{', '}'], words_per_minute=200)\n",
      "\u001b[01mbuilding [mo]: \u001b[39;49;00mtargets for 0 po files that are out of date\n",
      "\u001b[01mbuilding [html]: \u001b[39;49;00mtargets for 31 source files that are out of date\n",
      "\u001b[01mupdating environment: \u001b[39;49;00m[new config] 31 added, 0 changed, 0 removed\n",
      "Executing: lessons/lesson1/lesson1 in: /home/sensei/ce-5319-webroot/ce5319jb/lessons/lesson1                    \n",
      "Executing: lessons/lesson10/1topic in: /home/sensei/ce-5319-webroot/ce5319jb/lessons/lesson10                   \n",
      "Executing: lessons/lesson10/2topic in: /home/sensei/ce-5319-webroot/ce5319jb/lessons/lesson10                   \n",
      "Executing: lessons/lesson10/3topic in: /home/sensei/ce-5319-webroot/ce5319jb/lessons/lesson10                   \n",
      "Executing: lessons/lesson10/lesson10 in: /home/sensei/ce-5319-webroot/ce5319jb/lessons/lesson10                 \n",
      "Executing: lessons/lesson10/optimization in: /home/sensei/ce-5319-webroot/ce5319jb/lessons/lesson10             \n",
      "Executing: lessons/lesson11/lesson11 in: /home/sensei/ce-5319-webroot/ce5319jb/lessons/lesson11                 \n",
      "Executing: lessons/lesson12/lesson12 in: /home/sensei/ce-5319-webroot/ce5319jb/lessons/lesson12                 \n",
      "Executing: lessons/lesson13/lesson13 in: /home/sensei/ce-5319-webroot/ce5319jb/lessons/lesson13                 \n",
      "Executing: lessons/lesson14/lesson14 in: /home/sensei/ce-5319-webroot/ce5319jb/lessons/lesson14                 \n",
      "Executing: lessons/lesson15/lesson15 in: /home/sensei/ce-5319-webroot/ce5319jb/lessons/lesson15                 \n",
      "Executing: lessons/lesson16/lesson16 in: /home/sensei/ce-5319-webroot/ce5319jb/lessons/lesson16                 \n",
      "Executing: lessons/lesson2/lesson2 in: /home/sensei/ce-5319-webroot/ce5319jb/lessons/lesson2                    \n",
      "Executing: lessons/lesson3/lesson3 in: /home/sensei/ce-5319-webroot/ce5319jb/lessons/lesson3                    \n",
      "Executing: lessons/lesson4.1/1filesystems in: /home/sensei/ce-5319-webroot/ce5319jb/lessons/lesson4.1           \n",
      "Executing: lessons/lesson4.1/2readwritecore in: /home/sensei/ce-5319-webroot/ce5319jb/lessons/lesson4.1         \n",
      "Executing: lessons/lesson4.1/3readwriteweb in: /home/sensei/ce-5319-webroot/ce5319jb/lessons/lesson4.1          \n",
      "Executing: lessons/lesson4.1/filetransfer in: /home/sensei/ce-5319-webroot/ce5319jb/lessons/lesson4.1           \n",
      "Executing: lessons/lesson4/lesson4 in: /home/sensei/ce-5319-webroot/ce5319jb/lessons/lesson4                    \n",
      "Executing: lessons/lesson5/lesson5 in: /home/sensei/ce-5319-webroot/ce5319jb/lessons/lesson5                    \n",
      "Executing: lessons/lesson6/lesson6 in: /home/sensei/ce-5319-webroot/ce5319jb/lessons/lesson6                    \n",
      "Executing: lessons/lesson7/lesson7 in: /home/sensei/ce-5319-webroot/ce5319jb/lessons/lesson7                    \n",
      "Executing: lessons/lesson8/datatypes in: /home/sensei/ce-5319-webroot/ce5319jb/lessons/lesson8                  \n",
      "Executing: lessons/lesson8/downloading in: /home/sensei/ce-5319-webroot/ce5319jb/lessons/lesson8                \n",
      "Executing: lessons/lesson8/exploratorydataanalysis in: /home/sensei/ce-5319-webroot/ce5319jb/lessons/lesson8    \n",
      "Executing: lessons/lesson8/exploratorydataanalysisvisual in: /home/sensei/ce-5319-webroot/ce5319jb/lessons/lesson8\n",
      "Executing: lessons/lesson8/lesson8 in: /home/sensei/ce-5319-webroot/ce5319jb/lessons/lesson8                    \n",
      "Executing: lessons/lesson9/lesson9 in: /home/sensei/ce-5319-webroot/ce5319jb/lessons/lesson9                    \n",
      "Executing: notebooks in: /home/sensei/ce-5319-webroot/ce5319jb9;00m                                             \n",
      "\n",
      "\u001b[01mlooking for now-outdated files... \u001b[39;49;00mnone found\n",
      "\u001b[01mpickling environment... \u001b[39;49;00mdone\n",
      "\u001b[01mchecking consistency... \u001b[39;49;00m\u001b[91m/home/sensei/ce-5319-webroot/ce5319jb/lessons/lesson10/lesson10.ipynb: WARNING: document isn't included in any toctree\u001b[39;49;00m\n",
      "\u001b[91m/home/sensei/ce-5319-webroot/ce5319jb/markdown.md: WARNING: document isn't included in any toctree\u001b[39;49;00m\n",
      "\u001b[91m/home/sensei/ce-5319-webroot/ce5319jb/notebooks.ipynb: WARNING: document isn't included in any toctree\u001b[39;49;00m\n",
      "done\n",
      "\u001b[01mpreparing documents... \u001b[39;49;00mdone\n",
      "\u001b[01mwriting output... \u001b[39;49;00m[100%] \u001b[32mnotebooks\u001b[39;49;00m                                              \n",
      "\u001b[91m/home/sensei/ce-5319-webroot/ce5319jb/lessons/lesson1/lesson1.ipynb:17: WARNING: Pygments lexer name '#' is not known\u001b[39;49;00m\n",
      "\u001b[01mgenerating indices... \u001b[39;49;00mgenindex done\n",
      "\u001b[01mwriting additional pages... \u001b[39;49;00msearch done\n",
      "\u001b[01mcopying images... \u001b[39;49;00m[100%] \u001b[33m_build/jupyter_execute/notebooks_2_0.png\u001b[39;49;00m               al_29_1.png\u001b[39;49;00m\n",
      "\u001b[01mcopying static files... \u001b[39;49;00mdone\n",
      "\u001b[01mcopying extra files... \u001b[39;49;00mdone\n",
      "\u001b[01mdumping search index in English (code: en)... \u001b[39;49;00mdone\n",
      "\u001b[01mdumping object inventory... \u001b[39;49;00mdone\n",
      "\u001b[01mbuild succeeded, 4 warnings.\u001b[39;49;00m\n",
      "\n",
      "The HTML pages are in ce5319jb/_build/html.\n",
      "[etoc] missing index.html written as redirect to 'intro.html'\n",
      "\n",
      "\u001b[92m===============================================================================\u001b[0m\n",
      "\n",
      "Finished generating HTML for book.\n",
      "Your book's HTML pages are here:\n",
      "    ce5319jb/_build/html/\n",
      "You can look at your book by opening this file in a browser:\n",
      "    ce5319jb/_build/html/index.html\n",
      "Or paste this line directly into your browser bar:\n",
      "    file:///home/sensei/ce-5319-webroot/ce5319jb/_build/html/index.html            \n",
      "\n",
      "\u001b[92m===============================================================================\u001b[0m\n",
      "\n"
     ]
    }
   ],
   "source": [
    "! jupyter-book build ce5319jb"
   ]
  },
  {
   "cell_type": "code",
   "execution_count": null,
   "metadata": {},
   "outputs": [],
   "source": []
  }
 ],
 "metadata": {
  "kernelspec": {
   "display_name": "Python 3",
   "language": "python",
   "name": "python3"
  },
  "language_info": {
   "codemirror_mode": {
    "name": "ipython",
    "version": 3
   },
   "file_extension": ".py",
   "mimetype": "text/x-python",
   "name": "python",
   "nbconvert_exporter": "python",
   "pygments_lexer": "ipython3",
   "version": "3.8.10"
  }
 },
 "nbformat": 4,
 "nbformat_minor": 4
}
