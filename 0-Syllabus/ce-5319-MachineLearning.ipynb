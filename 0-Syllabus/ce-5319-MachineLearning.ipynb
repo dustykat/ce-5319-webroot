{
 "cells": [
  {
   "cell_type": "code",
   "execution_count": null,
   "metadata": {},
   "outputs": [],
   "source": [
    "Introduction to machine learning, classification and regression, supervised,\n",
    "unsupervised and reinforcement learning paradigms; A basic introduction to Python –\n",
    "Numpy and Pandas libraries"
   ]
  },
  {
   "cell_type": "markdown",
   "metadata": {},
   "source": [
    "## Course Schedule \n",
    "\n",
    "| Date | Lesson | Readings | Homework |\n",
    "|:---|:---|:---|:---|\n",
    "||<font color =\"brown\">Machine Learning Introduction</font>|||\n",
    "|25 AUG 2022|0. Computational Tools <br> - Jupyter Notebooks <br> - iPython| topic name <br> - subtopic1 <br> -subtopic 2 ||\n",
    "|30 AUG 2022|1. Prediction Engines <br> - Description <br> - Regression <br> - Interpolation | topic name <br> - subtopic1 <br> - subtopic 2 ||\n",
    "|01 SEP 2022|2. Classification Engines <br> - Description <br> - Discrete Choices | <br> - subtopic1 <br> -subtopic 2||\n",
    "|06 SEP 2022|3. Supervised Learning<br> - Description <br> -subtopic 2| Ch 2 <br> - 2.1-2.2 <br> - subtopic 2 | ES1 Due|\n",
    "|08 SEP 2022|4. Unsupervised Learning<br> - Description <br> -subtopic 2| Ch 2 <br> - 2.3-2.7 <br> - subtopic 2||\n",
    "|13 SEP 2022|5. Reinforcement Learning <br> - Description <br> -subtopic 2| Ch 2 <br> - 2.8 <br> -subtopic 2 |ES2 Due|\n",
    "||<font color =\"brown\">Machine Learning by Example</font>|||\n",
    "|15 SEP 2022|6. Momentum - I<br> - Definition <br> -subtopic 2| Ch 3 <br> - 3.1-3.3 <br> -subtopic 2||\n",
    "|20 SEP 2022|7. Momentum - II<br> - Applications <br> -subtopic 2| Ch 3 <br> - 3.4-3.5 <br> -subtopic 2 |ES3 Due|\n",
    "|22 SEP 2022|8. Momentum - III<br> - Applications <br> -subtopic 2| Ch 3 <br> - 3.5-3.6 <br> -subtopic 2||\n",
    "|27 SEP 2022|9. Uniform Flow - I<br> - Definitions <br> -subtopic 2| Ch 4 <br> - 4.1-4.5 <br> -subtopic 2 |ES4 Due|\n",
    "|29 SEP 2022|10. Uniform Flow - II<br> - Applications <br> -subtopic 2| Ch 4 <br> - 4.6-4.9 <br> -subtopic 2||\n",
    "|04 OCT 2022|11. Uniform Flow - III <br> - Applications <br> -subtopic 2| Ch 4 <br> - 4.10-4.12 <br> -subtopic 2 |ES5 Due|\n",
    "|06 OCT 2022|12. Uniform Flow - IV<br> - Applications <br> -subtopic 2| Ch 4 <br> - 4.13-4.15 <br> -subtopic 2||\n",
    "|10 OCT 2022|[<font color=\"red\">Exam 1 Due</font>](link)|<font color=\"red\">Submit on Blackboard</font>|\n",
    "|11 OCT 2022|13. Uniform Flow - V <br> - Applications <br> -subtopic 2| Ch 4 <br> - 4.16-4.18 <br> -subtopic 2||\n",
    "|13 OCT 2022|14. Gradually Varied Flow - I<br> - Definition <br> -subtopic 2| Ch 5 <br> - 5.1-5.3 <br> -subtopic 2||\n",
    "|18 OCT 2022|15. Gradually Varied Flow - II<br> - Applications <br> -subtopic 2| Ch 5 <br> - 5.4-5.7 <br> -subtopic 2 |ES6 Due|\n",
    "|20 OCT 2022|16. Gradually Varied Flow - III<br> - Applications <br> -subtopic 2| Ch 5 <br> - 5.8-5.10 <br> -subtopic 2||\n",
    "|25 OCT 2022|17. Culvert Design <br> - subtopic1 <br> -subtopic 2| Mays Ch. 16 <br> - subtopic1 <br> -subtopic 2 |ES7 Due|\n",
    "|27 OCT 2022|18. Other Hydraulic Structures <br> - subtopic1 <br> -subtopic 2| Mays Ch. 16 <br> - subtopic1 <br> -subtopic 2|\n",
    "|01 NOV 2022|19. Other Hydraulic Structures <br> - subtopic1 <br> -subtopic 2| Mays Ch. 16 <br> - subtopic1 <br> -subtopic 2 |\n",
    "|03 NOV 2022|20. HEC-RAS Introduction <br> - subtopic1 <br> -subtopic 2| topic name <br> - subtopic1 <br> -subtopic 2|\n",
    "|08 NOV 2022|21. HEC-RAS Steady  <br> - subtopic1 <br> -subtopic 2| topic name <br> - subtopic1 <br> -subtopic 2 |\n",
    "|10 NOV 2022|22. HEC-RAS Application <br> - subtopic1 <br> -subtopic 2| topic name <br> - subtopic1 <br> -subtopic 2|\n",
    "|14 NOV 2022|[<font color=\"red\">Exam 2 Due</font>](link)|<font color=\"red\">Submit on Blackboard</font>|\n",
    "|15 NOV 2022|23. HEC-RAS Application <br> - subtopic1 <br> -subtopic 2| topic name <br> - subtopic1 <br> -subtopic 2|\n",
    "|17 NOV 2022|24. Sediment Transport <br> - subtopic1 <br> -subtopic 2| Mays Ch. 18 <br> - subtopic1 <br> -subtopic 2|\n",
    "|22 NOV 2022|25. Hydraulic Profiles in Wastewater Plants - I<br> - subtopic1 <br> -subtopic 2| topic name <br> - subtopic1 <br> -subtopic 2 |\n",
    "|29 NOV 2022|26. Hydraulic Profiles in Wastewater Plants - II<br> - subtopic1 <br> -subtopic 2| topic name <br> - subtopic1 <br> -subtopic 2|\n",
    "|01 DEC 2022|Design Presentations<br> - subtopic1 <br> -subtopic 2| topic name <br> - subtopic1 <br> -subtopic 2|\n",
    "|06 DEC 2022|Design Presentations<br> - subtopic1 <br> -subtopic 2| topic name <br> - subtopic1 <br> -subtopic 2|\n",
    "|13 DEC 2022|[<font color=\"red\">Exam 3 Due</font>](link)|<font color=\"red\">Submit on Blackboard</font>|"
   ]
  },
  {
   "cell_type": "code",
   "execution_count": null,
   "metadata": {},
   "outputs": [],
   "source": []
  },
  {
   "cell_type": "code",
   "execution_count": null,
   "metadata": {},
   "outputs": [],
   "source": []
  },
  {
   "cell_type": "code",
   "execution_count": null,
   "metadata": {},
   "outputs": [],
   "source": []
  }
 ],
 "metadata": {
  "kernelspec": {
   "display_name": "Python 3",
   "language": "python",
   "name": "python3"
  },
  "language_info": {
   "codemirror_mode": {
    "name": "ipython",
    "version": 3
   },
   "file_extension": ".py",
   "mimetype": "text/x-python",
   "name": "python",
   "nbconvert_exporter": "python",
   "pygments_lexer": "ipython3",
   "version": "3.8.10"
  }
 },
 "nbformat": 4,
 "nbformat_minor": 4
}
