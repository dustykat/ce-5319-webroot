{
 "cells": [
  {
   "cell_type": "markdown",
   "metadata": {},
   "source": [
    "# CE 5319 Machine Learning for Civil Engineers\n",
    "\n",
    "## Course Catalog Description: \n",
    "\n",
    "CE 5319: Machine Learning for Civil Engineers (3:3:0). Application of machine learning concepts and algorithms in Civil Engineering.\n",
    "\n",
    "## Prerequisites: \n",
    "Graduate Standing <br>\n",
    "CE 5315 or or instructor permission <br>"
   ]
  },
  {
   "cell_type": "markdown",
   "metadata": {},
   "source": [
    "## Course Sections\n",
    "Lesson time, days, and location: \n",
    "\n",
    "1. Section 001; CRN 43344; 1500-1620 T,Th ; Media and Communication 266\n",
    "2. Section D01; CRN 45974; 1500-1620 T,Th ; asnycronous distance (recordings on mediasite)\n",
    "\n",
    "## Course Instructor:\n",
    "\n",
    "Instructor: Theodore G. Cleveland, Ph.D., P.E., M. ASCE, F. EWRI\n",
    "\n",
    "Email: theodore.cleveland@ttu.edu  (put CE 5319 into the subject line for email related to this class)\n",
    "\n",
    "Office location: CECE 203F\n",
    "\n",
    "Office hours: 1630-1730 M,T,W,Th ; CE 203F\n",
    "\n",
    "## Teaching Assistant:\n",
    "\n",
    "Teaching Assistant: none authorized\n",
    "\n",
    "Email : \n",
    "\n",
    "Office location: \n",
    "\n",
    "Office hours: "
   ]
  },
  {
   "cell_type": "markdown",
   "metadata": {},
   "source": [
    "## Course Schedule \n",
    "\n",
    "| Date | Lesson | Readings | Homework |\n",
    "|:---|:---|:---|:---|\n",
    "||<font color =\"brown\">Machine Learning Concepts and Jargon</font>|||\n",
    "|25 AUG 2022|0. Computational Tools <br> - Jupyter Notebooks <br> - iPython| topic name <br> - subtopic1 <br> -subtopic 2 ||\n",
    "|30 AUG 2022|1. Overview <br> - What is Machine Learning? <br> - A Prediction Engine Example <br> - Machine Learning Workflow | Introduction <br> - [Machine Learning Theory and Algorithms pp 19-22](http://ce-5319-webroot/3-Readings/understanding-machine-learning-theory-algorithms.pdf) <br> - [Machine Learning Techniques for Civil Engineering Problems](http://ce-5319-webroot/3-Readings/MachineLearningTechniquesforCivilEngineeringProblems.pdf)| [EC1 Due (allocate about 10 hours)](http://54.243.252.9/ce-5319-webroot/2-Exercises/EC1/EC1.html)|\n",
    "|01 SEP 2022|2. Prediction Engines <br> - A Simple Linear Engine <br> - Discrete Choice| <br> - [StructuraL Response Prediction Engine to Support Advanced Seismic Risk Assessment](http://54.243.252.9/ce-5319-webroot/3-Readings/EERIPaper1805Final.pdf) <br> - [Two-Stage Degradation Assessment and Prediction Method for Aircraft Engines...](http://54.243.252.9/ce-5319-webroot/3-Readings/5876299.pdf) <br> - [Machine Learning Theory and Algorithms pp 22-27](http://54.243.252.9/ce-5319-webroot/3-Readings/understanding-machine-learning-theory-algorithms.pdf) <br> - [Applying Regression Analysis to Predict and Classify Construction Cycle Time]()||\n",
    "|06 SEP 2022|3. Classification Engines<br> - A Simple Classification Engine <br> -subtopic 2| <br> - [Applying Regression Analysis to Predict and Classify Construction Cycle Time](http://54.243.252.9/ce-5319-webroot/3-Readings/IWCCE2013-ApplyingRegressionAnalysistoPredictandClassifyConstructionCycleTime-Francis.pdf) <br> - subtopic 2 | ES1 Due|\n",
    "|08 SEP 2022|4. Supervised Learning<br> - Description <br> -subtopic 2| Ch 2 <br> - 2.3-2.7 <br> - subtopic 2||\n",
    "|13 SEP 2022|5. Unsupervised Learning <br> - Description <br> -subtopic 2| Ch 2 <br> - 2.8 <br> -subtopic 2 |ES2 Due|\n",
    "|15 SEP 2022|6. Reinforcement Learning <br> - subtopic1 <br> -subtopic 2| Ch 3 <br> - [Applied Dynamic Programming Bellman and Dreyfus (1962) pp. 1-21](http://54.243.252.9/ce-5319-webroot/3-Readings/R352.pdf) <br> -subtopic 2||\n",
    "|20 SEP 2022|7. Exploratory Data Analysis <br> - subtopic1 <br> -subtopic 2| Ch 3 <br> - 3.4-3.5 <br> -subtopic 2 |ES3 Due|\n",
    "|22 SEP 2022|8. Probability Distributions <br> - subtopic1 <br> -subtopic 2| Ch 3 <br> - 3.5-3.6 <br> -subtopic 2||\n",
    "|27 SEP 2022|9. Optimization Principles <br> - subtopic1 <br> -subtopic 2| Ch 4 <br> - 4.1-4.5 <br> -subtopic 2 |ES4 Due|\n",
    "|29 SEP 2022|10. Ordinary Regression <br> - subtopic1 <br> -subtopic 2| Ch 4 <br> - 4.6-4.9 <br> -subtopic 2||\n",
    "|04 OCT 2022|11. Non-Linear Regression <br> - subtopic1 <br> -subtopic 2| Ch 4 <br> - 4.10-4.12 <br> -subtopic 2 |ES5 Due|\n",
    "|06 OCT 2022|12. Logistic Regression <br> - subtopic1 <br> -subtopic 2| Ch 4 <br> - 4.13-4.15 <br> -subtopic 2||\n",
    "|10 OCT 2022|[<font color=\"red\">Exam 1 Due</font>](link)|<font color=\"red\">Submit on Blackboard</font>|\n",
    "|11 OCT 2022|13. KNN Classification <br> - subtopic1 <br> -subtopic 2| Ch 4 <br> - 4.16-4.18 <br> -subtopic 2||\n",
    "|13 OCT 2022|14. Decision Tree Classification <br> - subtopic1 <br> -subtopic 2| Ch 5 <br> - 5.1-5.3 <br> -subtopic 2||\n",
    "|18 OCT 2022|15. Topic <br> - subtopic1 <br> -subtopic 2| Ch 5 <br> - 5.4-5.7 <br> -subtopic 2 |ES6 Due|\n",
    "|20 OCT 2022|16. Topic <br> - subtopic1 <br> -subtopic 2| Ch 5 <br> - 5.8-5.10 <br> -subtopic 2||\n",
    "|25 OCT 2022|17. Topic <br> - subtopic1 <br> -subtopic 2| Mays Ch. 16 <br> - subtopic1 <br> -subtopic 2 |ES7 Due|\n",
    "|27 OCT 2022|18. Topic <br> - subtopic1 <br> -subtopic 2| Mays Ch. 16 <br> - subtopic1 <br> -subtopic 2|\n",
    "|01 NOV 2022|19. Topic <br> - subtopic1 <br> -subtopic 2| Mays Ch. 16 <br> - subtopic1 <br> -subtopic 2 |\n",
    "|03 NOV 2022|20. Topic <br> - subtopic1 <br> -subtopic 2| topic name <br> - subtopic1 <br> -subtopic 2|\n",
    "|08 NOV 2022|21. Topic <br> - subtopic1 <br> -subtopic 2| topic name <br> - subtopic1 <br> -subtopic 2 |\n",
    "|10 NOV 2022|22. Topic <br> - subtopic1 <br> -subtopic 2| topic name <br> - subtopic1 <br> -subtopic 2|\n",
    "|14 NOV 2022|[<font color=\"red\">Exam 2 Due</font>](link)|<font color=\"red\">Submit on Blackboard</font>|\n",
    "|15 NOV 2022|23. Topic <br> - subtopic1 <br> -subtopic 2| topic name <br> - subtopic1 <br> -subtopic 2|\n",
    "|17 NOV 2022|24. Topic <br> - subtopic1 <br> -subtopic 2| Mays Ch. 18 <br> - subtopic1 <br> -subtopic 2|\n",
    "|22 NOV 2022|25. Topic <br> - subtopic1 <br> -subtopic 2| topic name <br> - subtopic1 <br> -subtopic 2 |\n",
    "|29 NOV 2022|26. Topic <br> - subtopic1 <br> -subtopic 2| topic name <br> - subtopic1 <br> -subtopic 2|\n",
    "|01 DEC 2022|Project Presentations<br> - subtopic1 <br> -subtopic 2| topic name <br> - subtopic1 <br> -subtopic 2|\n",
    "|06 DEC 2022|Project Presentations<br> - subtopic1 <br> -subtopic 2| topic name <br> - subtopic1 <br> -subtopic 2|\n",
    "|13 DEC 2022|[<font color=\"red\">Exam 3 Due</font>](link)|<font color=\"red\">Submit on Blackboard</font>|\n",
    "||<font color =\"brown\">Machine Learning by Example</font>|||"
   ]
  },
  {
   "cell_type": "code",
   "execution_count": null,
   "metadata": {},
   "outputs": [],
   "source": []
  },
  {
   "cell_type": "code",
   "execution_count": null,
   "metadata": {},
   "outputs": [],
   "source": []
  },
  {
   "cell_type": "code",
   "execution_count": null,
   "metadata": {},
   "outputs": [],
   "source": []
  }
 ],
 "metadata": {
  "kernelspec": {
   "display_name": "Python 3",
   "language": "python",
   "name": "python3"
  },
  "language_info": {
   "codemirror_mode": {
    "name": "ipython",
    "version": 3
   },
   "file_extension": ".py",
   "mimetype": "text/x-python",
   "name": "python",
   "nbconvert_exporter": "python",
   "pygments_lexer": "ipython3",
   "version": "3.8.10"
  }
 },
 "nbformat": 4,
 "nbformat_minor": 4
}
