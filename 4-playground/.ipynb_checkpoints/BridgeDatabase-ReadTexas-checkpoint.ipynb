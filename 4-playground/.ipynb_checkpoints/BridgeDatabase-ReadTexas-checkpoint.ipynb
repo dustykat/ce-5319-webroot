{
 "cells": [
  {
   "cell_type": "code",
   "execution_count": null,
   "metadata": {},
   "outputs": [],
   "source": [
    "# Read bridge database line-by-line, extract state code 48, write result to a subset\n",
    "\n",
    "# Connect to the file\n",
    "\n",
    "# Read in a line\n",
    "\n",
    "# Parse the Line\n",
    "\n",
    "# Check the State Code\n",
    "\n",
    "# Save to Line if Correct Code\n",
    "\n",
    "# Report Number of Lines Read\n",
    "# Report Number of Lines Saved\n",
    "\n",
    "# Write Subset to a File \n"
   ]
  }
 ],
 "metadata": {
  "kernelspec": {
   "display_name": "Python 3",
   "language": "python",
   "name": "python3"
  },
  "language_info": {
   "codemirror_mode": {
    "name": "ipython",
    "version": 3
   },
   "file_extension": ".py",
   "mimetype": "text/x-python",
   "name": "python",
   "nbconvert_exporter": "python",
   "pygments_lexer": "ipython3",
   "version": "3.8.10"
  }
 },
 "nbformat": 4,
 "nbformat_minor": 4
}
