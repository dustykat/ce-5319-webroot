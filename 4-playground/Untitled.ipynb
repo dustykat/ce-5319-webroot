{
 "cells": [
  {
   "cell_type": "code",
   "execution_count": 1,
   "metadata": {},
   "outputs": [
    {
     "name": "stdout",
     "output_type": "stream",
     "text": [
      "Normal Exit Learning Complete\n"
     ]
    }
   ],
   "source": [
    "def km2miles(km,c):\n",
    "    value = km*c\n",
    "    return(value)\n",
    "\n",
    "howmany = 50 # number of iterations\n",
    "clow = 0 # lower limit for c\n",
    "chigh = 1 # upper limit for c\n",
    "x=100 # ground truth value\n",
    "dtrue = 62.137 # ground truth value\n",
    "tol = 1e-6 # desired accuracy\n",
    "\n",
    "import numpy # useful library with absolute value and sign functions\n",
    "\n",
    "############ Learning Phase ################\n",
    "# check if clow and chigh bound a solution\n",
    "if numpy.sign(km2miles(x,clow)-dtrue) == numpy.sign(km2miles(x,chigh)-dtrue):\n",
    "    raise Exception(\"The scalars clow and chigh do not bound a solution\")\n",
    "\n",
    "\n",
    "for iteration in range(howmany):         \n",
    "# get midpoint\n",
    "    m = (clow + chigh)/2\n",
    "\n",
    "    if numpy.abs(km2miles(x,clow)-dtrue) < tol:\n",
    "        # stopping condition, report m as root\n",
    "        print('Normal Exit Learning Complete')\n",
    "        break\n",
    "    elif numpy.sign(km2miles(x,clow)-dtrue) == numpy.sign(km2miles(x,m)-dtrue):\n",
    "        # case where m is an improvement on a. \n",
    "        # Make recursive call with a = m\n",
    "        clow = m # update a with m\n",
    "    elif numpy.sign(km2miles(x,chigh)-dtrue) == numpy.sign(km2miles(x,m)-dtrue):\n",
    "        # case where m is an improvement on b. \n",
    "        # Make recursive call with b = m\n",
    "        chigh = m # update b with m\n",
    "####################################################"
   ]
  },
  {
   "cell_type": "code",
   "execution_count": 2,
   "metadata": {},
   "outputs": [
    {
     "name": "stdout",
     "output_type": "stream",
     "text": [
      "number trials 27\n",
      "model c value 0.6213699989020824\n",
      "100 kilometers is estimated to be  62.137  miles\n",
      "Estimation error is  0.0 miles\n",
      "Testing Complete\n"
     ]
    }
   ],
   "source": [
    "############# Testing Phase ########################\n",
    "y=km2miles(x,m)\n",
    "print('number trials',iteration)\n",
    "print('model c value',m)\n",
    "print(x,'kilometers is estimated to be ',round(y,3),' miles')\n",
    "print('Estimation error is ', round(dtrue-y,3) , 'miles')\n",
    "print('Testing Complete')"
   ]
  },
  {
   "cell_type": "code",
   "execution_count": 3,
   "metadata": {},
   "outputs": [
    {
     "name": "stdout",
     "output_type": "stream",
     "text": [
      "1000 kilometers is estimated to be  621.37  miles\n"
     ]
    }
   ],
   "source": [
    "############ Deployment Phase #######################\n",
    "xx = 1000\n",
    "y=km2miles(xx,m)\n",
    "print(xx,'kilometers is estimated to be ',round(y,3),' miles')"
   ]
  },
  {
   "cell_type": "code",
   "execution_count": null,
   "metadata": {},
   "outputs": [],
   "source": []
  }
 ],
 "metadata": {
  "kernelspec": {
   "display_name": "Python 3 (ipykernel)",
   "language": "python",
   "name": "python3"
  },
  "language_info": {
   "codemirror_mode": {
    "name": "ipython",
    "version": 3
   },
   "file_extension": ".py",
   "mimetype": "text/x-python",
   "name": "python",
   "nbconvert_exporter": "python",
   "pygments_lexer": "ipython3",
   "version": "3.10.12"
  }
 },
 "nbformat": 4,
 "nbformat_minor": 4
}
