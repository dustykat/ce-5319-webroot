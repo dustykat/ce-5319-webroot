{
 "cells": [
  {
   "cell_type": "markdown",
   "metadata": {},
   "source": [
    "# 4. Linear Regression\n",
    "\n",
    ":::{admonition} Course Website \n",
    "http://54.243.252.9/ce-5319-webroot/ \n",
    ":::\n",
    "\n",
    "lorem ipsum"
   ]
  },
  {
   "cell_type": "markdown",
   "metadata": {},
   "source": [
    "# Readings/References\n",
    "\n",
    "1. [Burkov, A. (2019) The One Hundred Page Machine Learning Book pp 21-25](http://ema.cri-info.cm/wp-content/uploads/2019/07/2019BurkovTheHundred-pageMachineLearning.pdf) \n",
    "\n",
    "2. [Rashid, Tariq. (2016) Make Your Own Neural Network. Kindle Edition. ](https://www.goodreads.com/en/book/show/29746976-make-your-own-neural-network)\n",
    "\n",
    "3. [Chan, Jamie. Machine Learning With Python For Beginners: A Step-By-Step Guide with Hands-On Projects (Learn Coding Fast with Hands-On Project Book 7) (p. 106-118). Kindle Edition.](https://www.amazon.com/Machine-Learning-Python-Beginners-Hands-ebook/dp/B09BNYDH5F/ref=sr_1_1?crid=2AWC6H5O8OTXX&dib=eyJ2IjoiMSJ9.lb1DU4Hg5eM1dTpip0RqZQ.FB7zPx86H30WvSkCwGQrxSos7pXT20BjOeJwlfa0m78&dib_tag=se&keywords=Chan%2C+Jamie.+Machine+Learning+With+Python+For+Beginners%3A+A+Step-By-Step+Guide+with+Hands-On+Projects+%28Learn+Coding+Fast+with+Hands-On+Project+Book+7%29&qid=1741388116&sprefix=%2Caps%2C465&sr=8-1)\n"
   ]
  },
  {
   "cell_type": "markdown",
   "metadata": {},
   "source": [
    "## Videos"
   ]
  },
  {
   "cell_type": "code",
   "execution_count": null,
   "metadata": {},
   "outputs": [],
   "source": []
  }
 ],
 "metadata": {
  "kernelspec": {
   "display_name": "Python 3 (ipykernel)",
   "language": "python",
   "name": "python3"
  },
  "language_info": {
   "codemirror_mode": {
    "name": "ipython",
    "version": 3
   },
   "file_extension": ".py",
   "mimetype": "text/x-python",
   "name": "python",
   "nbconvert_exporter": "python",
   "pygments_lexer": "ipython3",
   "version": "3.10.12"
  }
 },
 "nbformat": 4,
 "nbformat_minor": 4
}
