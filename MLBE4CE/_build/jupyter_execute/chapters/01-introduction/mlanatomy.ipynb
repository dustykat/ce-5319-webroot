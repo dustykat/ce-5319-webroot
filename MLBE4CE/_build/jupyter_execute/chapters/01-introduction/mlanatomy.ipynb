{
 "cells": [
  {
   "cell_type": "markdown",
   "metadata": {},
   "source": [
    "# Anatomy of a Machine Learning Algorithm\n",
    "\n",
    "The fundamental building blocks of a ML algorithm, whether **homebrew** or using a **package** consist of three major components:\n",
    "\n",
    "1. a function to assess the quality of a prediction or classification.  Typically a loss function which we want to minimize, or a likelihood function which we want to maximize.  It goes by many names: objective, cost, loss, merit are common names for this function.\n",
    "2. an objective criterion (a goal) based on the loss function (maximize or minimize), and\n",
    "3. an optimization routine that uses the training data to find a solution to the optimization problem posed by the objective criterion.\n",
    "\n",
    "The remainder of this Jupyter Book explores these ideas as well as supporting efforts required for useful ML model building for Civil Engineers (actually anyone).\n"
   ]
  },
  {
   "cell_type": "markdown",
   "metadata": {},
   "source": [
    "## References\n",
    "\n",
    "1. [Andriy Burkov (2019) The Hundred-Page Machine Learning Book](https://www.dropbox.com/s/xpd5x6p6jte3th5/Chapter4.pdf?dl=0)"
   ]
  },
  {
   "cell_type": "code",
   "execution_count": null,
   "metadata": {},
   "outputs": [],
   "source": []
  }
 ],
 "metadata": {
  "kernelspec": {
   "display_name": "Python 3 (ipykernel)",
   "language": "python",
   "name": "python3"
  },
  "language_info": {
   "codemirror_mode": {
    "name": "ipython",
    "version": 3
   },
   "file_extension": ".py",
   "mimetype": "text/x-python",
   "name": "python",
   "nbconvert_exporter": "python",
   "pygments_lexer": "ipython3",
   "version": "3.10.12"
  }
 },
 "nbformat": 4,
 "nbformat_minor": 4
}