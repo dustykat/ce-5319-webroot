{
 "cells": [
  {
   "cell_type": "markdown",
   "metadata": {},
   "source": [
    "# Artifical Neural  Network (Homebrew)\n",
    "\n",
    "\n",
    "This ANN is mostly working, there is more write-up and then convert into a project statement.\n",
    "\n",
    "the databases are too big for github\n",
    "\n",
    "get copies from\n",
    "\n",
    "http://54.243.252.9/engr-1330-psuedo-course/CECE-1330-PsuedoCourse/6-Projects/P-ImageClassification/\n",
    "\n",
    "You need\n",
    "\n",
    "mnist_train.csv and mnist_test.csv"
   ]
  },
  {
   "cell_type": "code",
   "execution_count": 26,
   "metadata": {},
   "outputs": [],
   "source": [
    "import numpy              # useful numerical routines\n",
    "import scipy.special      # special functions library\n",
    "import scipy.misc         # image processing code\n",
    "import imageio           \n",
    "import imageio.v2 as imageio # deprecated as typical\n",
    "import matplotlib.pyplot  # import plotting routines"
   ]
  },
  {
   "cell_type": "code",
   "execution_count": 27,
   "metadata": {},
   "outputs": [
    {
     "name": "stdout",
     "output_type": "stream",
     "text": [
      "image_src/\n",
      "image_src/tree.png\n",
      "image_src/MyOne.png\n",
      "image_src/tree784.png\n",
      "image_src/cat.png\n",
      "image_src/MyEight.png\n",
      "image_src/pictures.png\n",
      "image_src/MySix.png\n",
      "image_src/MyZero.png\n",
      "image_src/people.png\n",
      "image_src/MyFive.png\n",
      "image_src/MyThree.png\n",
      "image_src/people784.png\n",
      "image_src/MyFour.png\n",
      "image_src/MySeven.png\n",
      "image_src/.ipynb_checkpoints/\n",
      "image_src/MyNine.png\n",
      "image_src/MyTwo.png\n",
      "image_src/cat784.png\n"
     ]
    }
   ],
   "source": [
    "# Get data files\n",
    "import requests # Module to process http/https requests\n",
    "import sys # Module to process commands to/from the OS using a shell-type syntax\n",
    "remote_url=\"http://54.243.252.9/engr-1330-psuedo-course/CECE-1330-PsuedoCourse/6-Projects/P-ImageClassification/mnist_train.csv\"  # set the url\n",
    "rget = requests.get(remote_url, allow_redirects=True)  # get the remote resource, follow imbedded links\n",
    "localfile = open('mnist_train.csv','wb') # open connection to a local file same name as remote\n",
    "localfile.write(rget.content) # extract from the remote the contents,insert into the local file same name\n",
    "localfile.close() # close connection to the local file\n",
    "remote_url=\"http://54.243.252.9/engr-1330-psuedo-course/CECE-1330-PsuedoCourse/6-Projects/P-ImageClassification/mnist_test.csv\"  # set the url\n",
    "rget = requests.get(remote_url, allow_redirects=True)  # get the remote resource, follow imbedded links\n",
    "localfile = open('mnist_test.csv','wb') # open connection to a local file same name as remote\n",
    "localfile.write(rget.content) # extract from the remote the contents,insert into the local file same name\n",
    "localfile.close() # close connection to the local file\n",
    "remote_url=\"http://54.243.252.9/engr-1330-psuedo-course/CECE-1330-PsuedoCourse/6-Projects/P-ImageClassification/images.tar\"  # set the url\n",
    "rget = requests.get(remote_url, allow_redirects=True)  # get the remote resource, follow imbedded links\n",
    "localfile = open('images.tar','wb') # open connection to a local file same name as remote\n",
    "localfile.write(rget.content) # extract from the remote the contents,insert into the local file same name\n",
    "localfile.close() # close connection to the local file\n",
    "! tar -xvf images.tar # Extract some images"
   ]
  },
  {
   "cell_type": "code",
   "execution_count": 28,
   "metadata": {},
   "outputs": [
    {
     "name": "stdout",
     "output_type": "stream",
     "text": [
      "neuralNetwork Class Loads OK\n"
     ]
    }
   ],
   "source": [
    "class neuralNetwork:  # Class Definitions \n",
    "\n",
    "    # initialize the neural network\n",
    "    def __init__(self, inputnodes, hiddennodes, outputnodes, learningrate):\n",
    "        # set number of nodes in input, hidden, and output layer\n",
    "        self.inodes = inputnodes\n",
    "        self.hnodes = hiddennodes\n",
    "        self.onodes = outputnodes\n",
    "\n",
    "        # learning rate\n",
    "        self.lr = learningrate\n",
    "        \n",
    "        # initalize weight matrices\n",
    "        #\n",
    "        # link weight matrices, wih (input to hidden) and\n",
    "        #                       who (hidden to output)\n",
    "        # weights inside the arrays are w_i_j where link is from node i\n",
    "        # to node j in next layer\n",
    "        #\n",
    "        # w11 w21\n",
    "        # w12 w22 etc.\n",
    "        \n",
    "        self.wih = (numpy.random.rand(self.hnodes, self.inodes) - 0.5)\n",
    "        self.who = (numpy.random.rand(self.onodes, self.hnodes) - 0.5)\n",
    "\n",
    "        # activation function\n",
    "        self.activation_function = lambda x:scipy.special.expit(x)\n",
    "        pass\n",
    "\n",
    "    # train the neural network\n",
    "    def train(self, inputs_list, targets_list):\n",
    "        # convert input list into 2D array\n",
    "        inputs = numpy.array(inputs_list, ndmin=2).T\n",
    "\n",
    "        # convert target list into 2D array\n",
    "        targets = numpy.array(targets_list, ndmin=2).T\n",
    "        \n",
    "        # calculate signals into hidden layer\n",
    "        hidden_inputs = numpy.dot(self.wih, inputs)\n",
    "\n",
    "        # calculate signals from hidden layer\n",
    "        hidden_outputs = self.activation_function(hidden_inputs)\n",
    "\n",
    "        # calculate signals into output layer\n",
    "        final_inputs = numpy.dot(self.who, hidden_outputs)\n",
    "\n",
    "        # calculate signals from output layer\n",
    "        final_outputs = self.activation_function(final_inputs)\n",
    "\n",
    "        # calculate output errors (target - model)\n",
    "        output_errors = targets - final_outputs\n",
    "\n",
    "        # calculate hidden layer errors (split by weigths recombined in hidden layer)\n",
    "        hidden_errors = numpy.dot(self.who.T, output_errors)\n",
    "\n",
    "        # update the weights for the links from hidden to output layer\n",
    "        self.who += self.lr * numpy.dot((output_errors * final_outputs * (1.0 - final_outputs)), numpy.transpose(hidden_outputs))\n",
    "\n",
    "        # update the weights for the links from input to hidden layer\n",
    "        self.wih += self.lr * numpy.dot((hidden_errors * hidden_outputs * (1.0 - hidden_outputs)), numpy.transpose(inputs))                                       \n",
    "        \n",
    "        pass\n",
    "\n",
    "    # query the neural network\n",
    "    def query(self, inputs_list):\n",
    "        # convert input list into 2D array\n",
    "        inputs = numpy.array(inputs_list, ndmin=2).T\n",
    "\n",
    "        # calculate signals into hidden layer\n",
    "        hidden_inputs = numpy.dot(self.wih, inputs)\n",
    "\n",
    "        # calculate signals from hidden layer\n",
    "        hidden_outputs = self.activation_function(hidden_inputs)\n",
    "\n",
    "        # calculate signals into output layer\n",
    "        final_inputs = numpy.dot(self.who, hidden_outputs)\n",
    "\n",
    "        # calculate signals from output layer\n",
    "        final_outputs = self.activation_function(final_inputs)\n",
    "\n",
    "        return final_outputs\n",
    "\n",
    "        pass\n",
    "print(\"neuralNetwork Class Loads OK\")"
   ]
  },
  {
   "cell_type": "code",
   "execution_count": 29,
   "metadata": {},
   "outputs": [
    {
     "name": "stdout",
     "output_type": "stream",
     "text": [
      "Instance n Created\n"
     ]
    }
   ],
   "source": [
    "# Test case 1 p130 MYONN\n",
    "# number of input, hidden, and output nodes\n",
    "input_nodes  = 784    # 28X28 Pixel Image \n",
    "hidden_nodes = 110    # Should be smaller than input count (or kind of useless)\n",
    "output_nodes =  10    # Classifications\n",
    "learning_rate = 0.1   # set learning rate\n",
    "n = neuralNetwork(input_nodes,hidden_nodes,output_nodes,learning_rate) # create an instance\n",
    "print(\"Instance n Created\")"
   ]
  },
  {
   "cell_type": "code",
   "execution_count": 30,
   "metadata": {},
   "outputs": [
    {
     "name": "stdout",
     "output_type": "stream",
     "text": [
      "training records processed   =  60000\n",
      "training episodes            =  1\n"
     ]
    }
   ],
   "source": [
    "# load a training file\n",
    "# replace code here with a URL get\n",
    "## training_data_file = open(\"mnist_train_100.csv\",'r') #connect the file#\n",
    "training_data_file = open(\"mnist_train.csv\",'r') #connect the file#\n",
    "training_data_list = training_data_file.readlines() #read entire contents of file into object: data_list#\n",
    "training_data_file.close() #disconnect the file#\n",
    "# print(len(training_data_list))   ## activate for debugging otherwise leave disabled\n",
    "# train the neural network\n",
    "howManyTrainingTimes = 0\n",
    "for times in range(0,1):  # added outer loop for repeat training same data set\n",
    "    howManyTrainingRecords = 0\n",
    "    for record in training_data_list:\n",
    "    # split the values on the commas\n",
    "        all_values = record.split(',') # split datalist on commas - all records.  Is thing going to work? #\n",
    "        inputs = (numpy.asarray(all_values[1:], dtype=numpy.float64) / 255.0 * 0.99) + 0.01\n",
    "#        inputs = (numpy.asfarray(all_values[1:])/255.0 * 0.99) + 0.01\n",
    "#        inputs = (numpy.asfarray(all_values[1:])/255.0 * 0.99) + 0.01\n",
    "    # print(inputs)          ## activate for debugging otherwise leave disabled\n",
    "    # create target output values -- all 0.01 except for the label of 0.99\n",
    "        targets = numpy.zeros(output_nodes) + 0.01\n",
    "    # all_values[0] is the target for this record\n",
    "        targets[int(all_values[0])] = 0.99\n",
    "        n.train(inputs, targets)\n",
    "        howManyTrainingRecords += 1\n",
    "        pass\n",
    "    howManyTrainingTimes += 1\n",
    "    learning_rate *= 0.9\n",
    "    pass\n",
    "print (\"training records processed   = \",howManyTrainingRecords)\n",
    "print (\"training episodes            = \",howManyTrainingTimes)\n",
    "# load a production file\n",
    "## test_data_file = open(\"mnist_test_10.csv\",'r') #connect the file#\n",
    "test_data_file = open(\"mnist_test.csv\",'r') #connect the file#\n",
    "test_data_list = test_data_file.readlines() #read entire contents of file into object: data_list#\n",
    "test_data_file.close() #disconnect the file#\n"
   ]
  },
  {
   "cell_type": "code",
   "execution_count": 31,
   "metadata": {},
   "outputs": [
    {
     "name": "stdout",
     "output_type": "stream",
     "text": [
      "production records processed = 10000\n",
      "performance =  0.9533\n"
     ]
    }
   ],
   "source": [
    "# test the neural network\n",
    "scorecard = [] # empty array for keeping score\n",
    "\n",
    "# run through the records in test_data_list\n",
    "howManyTestRecords = 0\n",
    "for record in test_data_list:\n",
    "    # split the values on the commas\n",
    "    all_values = record.split(',') # split datalist on commas - all records #\n",
    "    correct_label = int(all_values[0]) # correct answer is first element of all_values\n",
    "    # scale and shift the inputs\n",
    "    inputs = (numpy.asarray(all_values[1:], dtype=numpy.float64) / 255.0 * 0.99) + 0.01\n",
    "#    inputs = (numpy.asfarray(all_values[1:])/255.0 * 0.99) + 0.01\n",
    "    # query the neural network\n",
    "    outputs = n.query(inputs)\n",
    "    predict_label = numpy.argmax(outputs)\n",
    "    ##    print \"predict =\",predict_label,correct_label,\"= correct\" # activate for small test sets only!\n",
    "    if (predict_label == correct_label):\n",
    "        scorecard.append(1)\n",
    "    else:\n",
    "        scorecard.append(0)\n",
    "        pass\n",
    "    howManyTestRecords += 1\n",
    "    pass\n",
    "print (\"production records processed =\", howManyTestRecords)\n",
    "## print scorecard   # activate for small test sets only!\n",
    "# calculate performance score, fraction of correct answers\n",
    "scorecard_array = numpy.asarray(scorecard, dtype=numpy.float64 )\n",
    "print (\"performance = \",scorecard_array.sum()/scorecard_array.size)"
   ]
  },
  {
   "cell_type": "code",
   "execution_count": 32,
   "metadata": {},
   "outputs": [
    {
     "data": {
      "image/png": "[encoded data removed]",
      "text/plain": [
       "<Figure size 640x480 with 1 Axes>"
      ]
     },
     "metadata": {},
     "output_type": "display_data"
    },
    {
     "name": "stdout",
     "output_type": "stream",
     "text": [
      "my number = 0  my network thinks its =  0\n"
     ]
    }
   ],
   "source": [
    "# lets try one of my own pictures\n",
    "# first read and render\n",
    "#img_array = scipy.misc.imread(\"MyZero.png\", flatten = True) Fuckers deprecated this utility!\n",
    "#img_array = imageio.imread(\"image_src/MyZero.png\", as_gray = True)\n",
    "img_array = imageio.imread(\"image_src/MyZero.png\", mode='L')\n",
    "img_data = 255.0 - img_array.reshape(784)\n",
    "img_data = ((img_data/255.0)*0.99) + 0.01\n",
    "#matplotlib.pyplot.imshow(numpy.asfarray(img_data).reshape((28,28)),cmap = 'Greys') # construct a graphic object #\n",
    "matplotlib.pyplot.imshow(numpy.asarray(img_data, dtype=numpy.float64).reshape((28,28)), cmap='Greys')\n",
    "matplotlib.pyplot.show() # show the graphic object to a window #\n",
    "matplotlib.pyplot.close('all')\n",
    "\n",
    "mynumber = n.query(img_data)\n",
    "mylabel = numpy.argmax(mynumber)\n",
    "\n",
    "m0=img_data.mean()  # gather some statistics\n",
    "v0=img_data.var()\n",
    "\n",
    "print (\"my number = 0 \",\"my network thinks its = \",mylabel)"
   ]
  },
  {
   "cell_type": "code",
   "execution_count": 33,
   "metadata": {},
   "outputs": [
    {
     "data": {
      "image/png": "[encoded data removed]",
      "text/plain": [
       "<Figure size 640x480 with 1 Axes>"
      ]
     },
     "metadata": {},
     "output_type": "display_data"
    },
    {
     "name": "stdout",
     "output_type": "stream",
     "text": [
      "my number = 1  my network thinks its =  1\n"
     ]
    }
   ],
   "source": [
    "#first read and render\n",
    "#img_array = imageio.imread(\"image_src/MyOne.png\", as_gray = True)\n",
    "img_array = imageio.imread(\"image_src/MyOne.png\", mode='L')\n",
    "img_data = 255.0 - img_array.reshape(784)\n",
    "img_data = ((img_data/255.0)*0.99) + 0.01\n",
    "#matplotlib.pyplot.imshow(numpy.asfarray(img_data).reshape((28,28)),cmap = 'Greys') # construct a graphic object #\n",
    "matplotlib.pyplot.imshow(numpy.asarray(img_data, dtype=numpy.float64).reshape((28,28)), cmap='Greys')\n",
    "matplotlib.pyplot.show() # show the graphic object to a window #\n",
    "matplotlib.pyplot.close('all')\n",
    "\n",
    "mynumber = n.query(img_data)\n",
    "mylabel = numpy.argmax(mynumber)\n",
    "\n",
    "m1=img_data.mean()\n",
    "v1=img_data.var()\n",
    "\n",
    "print (\"my number = 1 \",\"my network thinks its = \",mylabel)"
   ]
  },
  {
   "cell_type": "code",
   "execution_count": 34,
   "metadata": {},
   "outputs": [
    {
     "data": {
      "image/png": "[encoded data removed]",
      "text/plain": [
       "<Figure size 640x480 with 1 Axes>"
      ]
     },
     "metadata": {},
     "output_type": "display_data"
    },
    {
     "name": "stdout",
     "output_type": "stream",
     "text": [
      "my number = 2  my network thinks its =  2\n"
     ]
    }
   ],
   "source": [
    "#first read and render\n",
    "#img_array = imageio.imread(\"image_src/MyTwo.png\", as_gray = True)\n",
    "img_array = imageio.imread(\"image_src/MyTwo.png\", mode='L')\n",
    "img_data = 255.0 - img_array.reshape(784)\n",
    "img_data = ((img_data/255.0)*0.99) + 0.01\n",
    "#matplotlib.pyplot.imshow(numpy.asfarray(img_data).reshape((28,28)),cmap = 'Greys') # construct a graphic object #\n",
    "matplotlib.pyplot.imshow(numpy.asarray(img_data, dtype=numpy.float64).reshape((28,28)), cmap='Greys')\n",
    "matplotlib.pyplot.show() # show the graphic object to a window #\n",
    "matplotlib.pyplot.close('all')\n",
    "\n",
    "mynumber = n.query(img_data)\n",
    "mylabel = numpy.argmax(mynumber)\n",
    "\n",
    "m2=img_data.mean()\n",
    "v2=img_data.var()\n",
    "\n",
    "print (\"my number = 2 \",\"my network thinks its = \",mylabel)\n"
   ]
  },
  {
   "cell_type": "code",
   "execution_count": 35,
   "metadata": {},
   "outputs": [
    {
     "data": {
      "image/png": "[encoded data removed]",
      "text/plain": [
       "<Figure size 640x480 with 1 Axes>"
      ]
     },
     "metadata": {},
     "output_type": "display_data"
    },
    {
     "name": "stdout",
     "output_type": "stream",
     "text": [
      "my number = 3  my network thinks its =  3\n"
     ]
    }
   ],
   "source": [
    "#first read and render\n",
    "#img_array = imageio.imread(\"image_src/MyThree.png\", as_gray = True)\n",
    "img_array = imageio.imread(\"image_src/MyThree.png\", mode='L')\n",
    "img_data = 255.0 - img_array.reshape(784)\n",
    "img_data = ((img_data/255.0)*0.99) + 0.01\n",
    "#matplotlib.pyplot.imshow(numpy.asfarray(img_data).reshape((28,28)),cmap = 'Greys') # construct a graphic object #\n",
    "matplotlib.pyplot.imshow(numpy.asarray(img_data, dtype=numpy.float64).reshape((28,28)), cmap='Greys')\n",
    "matplotlib.pyplot.show() # show the graphic object to a window #\n",
    "matplotlib.pyplot.close('all')\n",
    "mynumber = n.query(img_data)\n",
    "mylabel = numpy.argmax(mynumber)\n",
    "\n",
    "m3=img_data.mean()\n",
    "v3=img_data.var()\n",
    "\n",
    "print (\"my number = 3 \",\"my network thinks its = \",mylabel)"
   ]
  },
  {
   "cell_type": "code",
   "execution_count": 36,
   "metadata": {},
   "outputs": [
    {
     "data": {
      "image/png": "[encoded data removed]",
      "text/plain": [
       "<Figure size 640x480 with 1 Axes>"
      ]
     },
     "metadata": {},
     "output_type": "display_data"
    },
    {
     "name": "stdout",
     "output_type": "stream",
     "text": [
      "my number = 4  my network thinks its =  4\n"
     ]
    }
   ],
   "source": [
    "#first read and render\n",
    "#img_array = imageio.imread(\"image_src/MyFour.png\", as_gray = True)\n",
    "img_array = imageio.imread(\"image_src/MyFour.png\", mode='L')\n",
    "img_data = 255.0 - img_array.reshape(784)\n",
    "img_data = ((img_data/255.0)*0.99) + 0.01\n",
    "#matplotlib.pyplot.imshow(numpy.asfarray(img_data).reshape((28,28)),cmap = 'Greys') # construct a graphic object #\n",
    "matplotlib.pyplot.imshow(numpy.asarray(img_data, dtype=numpy.float64).reshape((28,28)), cmap='Greys')\n",
    "matplotlib.pyplot.show() # show the graphic object to a window #\n",
    "matplotlib.pyplot.close('all')\n",
    "\n",
    "mynumber = n.query(img_data)\n",
    "mylabel = numpy.argmax(mynumber)\n",
    "\n",
    "m4=img_data.mean()\n",
    "v4=img_data.var()\n",
    "\n",
    "print (\"my number = 4 \",\"my network thinks its = \",mylabel)"
   ]
  },
  {
   "cell_type": "code",
   "execution_count": 37,
   "metadata": {},
   "outputs": [
    {
     "data": {
      "image/png": "[encoded data removed]",
      "text/plain": [
       "<Figure size 640x480 with 1 Axes>"
      ]
     },
     "metadata": {},
     "output_type": "display_data"
    },
    {
     "name": "stdout",
     "output_type": "stream",
     "text": [
      "my number = 5  my network thinks its =  5\n"
     ]
    }
   ],
   "source": [
    "#first read and render\n",
    "#img_array = imageio.imread(\"image_src/MyFive.png\", as_gray = True)\n",
    "img_array = imageio.imread(\"image_src/MyFive.png\", mode='L')\n",
    "img_data = 255.0 - img_array.reshape(784)\n",
    "img_data = ((img_data/255.0)*0.99) + 0.01\n",
    "#matplotlib.pyplot.imshow(numpy.asfarray(img_data).reshape((28,28)),cmap = 'Greys') # construct a graphic object #\n",
    "matplotlib.pyplot.imshow(numpy.asarray(img_data, dtype=numpy.float64).reshape((28,28)), cmap='Greys')\n",
    "matplotlib.pyplot.show() # show the graphic object to a window #\n",
    "matplotlib.pyplot.close('all')\n",
    "\n",
    "mynumber = n.query(img_data)\n",
    "mylabel = numpy.argmax(mynumber)\n",
    "\n",
    "m5=img_data.mean()\n",
    "v5=img_data.var()\n",
    "\n",
    "print (\"my number = 5 \",\"my network thinks its = \",mylabel)"
   ]
  },
  {
   "cell_type": "code",
   "execution_count": 38,
   "metadata": {},
   "outputs": [
    {
     "data": {
      "image/png": "[encoded data removed]",
      "text/plain": [
       "<Figure size 640x480 with 1 Axes>"
      ]
     },
     "metadata": {},
     "output_type": "display_data"
    },
    {
     "name": "stdout",
     "output_type": "stream",
     "text": [
      "my number = 6  my network thinks its =  5\n"
     ]
    }
   ],
   "source": [
    "#first read and render\n",
    "#img_array = imageio.imread(\"image_src/MySix.png\", as_gray = True)\n",
    "img_array = imageio.imread(\"image_src/MySix.png\", mode='L')\n",
    "img_data = 255.0 - img_array.reshape(784)\n",
    "img_data = ((img_data/255.0)*0.99) + 0.01\n",
    "#matplotlib.pyplot.imshow(numpy.asfarray(img_data).reshape((28,28)),cmap = 'Greys') # construct a graphic object #\n",
    "matplotlib.pyplot.imshow(numpy.asarray(img_data, dtype=numpy.float64).reshape((28,28)), cmap='Greys')\n",
    "matplotlib.pyplot.show() # show the graphic object to a window #\n",
    "matplotlib.pyplot.close('all')\n",
    "\n",
    "mynumber = n.query(img_data)\n",
    "mylabel = numpy.argmax(mynumber)\n",
    "\n",
    "m6=img_data.mean()\n",
    "v6=img_data.var()\n",
    "\n",
    "print (\"my number = 6 \",\"my network thinks its = \",mylabel)"
   ]
  },
  {
   "cell_type": "code",
   "execution_count": 39,
   "metadata": {},
   "outputs": [
    {
     "data": {
      "image/png": "[encoded data removed]",
      "text/plain": [
       "<Figure size 640x480 with 1 Axes>"
      ]
     },
     "metadata": {},
     "output_type": "display_data"
    },
    {
     "name": "stdout",
     "output_type": "stream",
     "text": [
      "my number = 7  my network thinks its =  1\n"
     ]
    }
   ],
   "source": [
    "#first read and render\n",
    "#img_array = imageio.imread(\"image_src/MySeven.png\", as_gray = True)\n",
    "img_array = imageio.imread(\"image_src/MySeven.png\", mode='L')\n",
    "img_data = 255.0 - img_array.reshape(784)\n",
    "img_data = ((img_data/255.0)*0.99) + 0.01\n",
    "#matplotlib.pyplot.imshow(numpy.asfarray(img_data).reshape((28,28)),cmap = 'Greys') # construct a graphic object #\n",
    "matplotlib.pyplot.imshow(numpy.asarray(img_data, dtype=numpy.float64).reshape((28,28)), cmap='Greys')\n",
    "matplotlib.pyplot.show() # show the graphic object to a window #\n",
    "matplotlib.pyplot.close('all')\n",
    "\n",
    "mynumber = n.query(img_data)\n",
    "mylabel = numpy.argmax(mynumber)\n",
    "\n",
    "m7=img_data.mean()\n",
    "v7=img_data.var()\n",
    "\n",
    "print (\"my number = 7 \",\"my network thinks its = \",mylabel)"
   ]
  },
  {
   "cell_type": "code",
   "execution_count": 40,
   "metadata": {},
   "outputs": [
    {
     "data": {
      "image/png": "[encoded data removed]",
      "text/plain": [
       "<Figure size 640x480 with 1 Axes>"
      ]
     },
     "metadata": {},
     "output_type": "display_data"
    },
    {
     "name": "stdout",
     "output_type": "stream",
     "text": [
      "my number = 8  my network thinks its =  9\n"
     ]
    }
   ],
   "source": [
    "#first read and render\n",
    "#img_array = imageio.imread(\"image_src/MyEight.png\", as_gray = True)\n",
    "img_array = imageio.imread(\"image_src/MyEight.png\", mode='L')\n",
    "img_data = 255.0 - img_array.reshape(784)\n",
    "img_data = ((img_data/255.0)*0.99) + 0.01\n",
    "#matplotlib.pyplot.imshow(numpy.asfarray(img_data).reshape((28,28)),cmap = 'Greys') # construct a graphic object #\n",
    "matplotlib.pyplot.imshow(numpy.asarray(img_data, dtype=numpy.float64).reshape((28,28)), cmap='Greys')\n",
    "matplotlib.pyplot.show() # show the graphic object to a window #\n",
    "matplotlib.pyplot.close('all')\n",
    "\n",
    "mynumber = n.query(img_data)\n",
    "mylabel = numpy.argmax(mynumber)\n",
    "\n",
    "m8=img_data.mean()\n",
    "v8=img_data.var()\n",
    "\n",
    "print (\"my number = 8 \",\"my network thinks its = \",mylabel)\n"
   ]
  },
  {
   "cell_type": "code",
   "execution_count": 41,
   "metadata": {},
   "outputs": [
    {
     "data": {
      "image/png": "[encoded data removed]",
      "text/plain": [
       "<Figure size 640x480 with 1 Axes>"
      ]
     },
     "metadata": {},
     "output_type": "display_data"
    },
    {
     "name": "stdout",
     "output_type": "stream",
     "text": [
      "my number = 9  my network thinks its =  9\n"
     ]
    }
   ],
   "source": [
    "#first read and render\n",
    "#img_array = imageio.imread(\"image_src/MyNine.png\", as_gray = True)\n",
    "img_array = imageio.imread(\"image_src/MyNine.png\", mode='L')\n",
    "img_data = 255.0 - img_array.reshape(784)\n",
    "img_data = ((img_data/255.0)*0.99) + 0.01\n",
    "#matplotlib.pyplot.imshow(numpy.asfarray(img_data).reshape((28,28)),cmap = 'Greys') # construct a graphic object #\n",
    "matplotlib.pyplot.imshow(numpy.asarray(img_data, dtype=numpy.float64).reshape((28,28)), cmap='Greys')\n",
    "matplotlib.pyplot.show() # show the graphic object to a window #\n",
    "matplotlib.pyplot.close('all')\n",
    "\n",
    "mynumber = n.query(img_data)\n",
    "mylabel = numpy.argmax(mynumber)\n",
    "\n",
    "m9=img_data.mean()\n",
    "v9=img_data.var()\n",
    "\n",
    "print (\"my number = 9 \",\"my network thinks its = \",mylabel)\n",
    "pass    \n"
   ]
  },
  {
   "cell_type": "code",
   "execution_count": 42,
   "metadata": {},
   "outputs": [
    {
     "name": "stdout",
     "output_type": "stream",
     "text": [
      "my 0 statistics :  0.10840576230492197 0.07128458254994675\n",
      "my 1 statistics :  0.06914150660264105 0.04574784884107456\n",
      "my 2 statistics :  0.10085894357743097 0.06906257575311037\n",
      "my 3 statistics :  0.15961914765906363 0.0712855672599472\n",
      "my 4 statistics :  0.13138295318127252 0.0636436872922038\n",
      "my 5 statistics :  0.11012905162064825 0.07498276958958852\n",
      "my 6 statistics :  0.18414135654261704 0.09940878599954388\n",
      "my 7 statistics :  0.11909213685474189 0.05663173432557299\n",
      "my 8 statistics :  0.12214255702280911 0.08051320649763508\n",
      "my 9 statistics :  0.12318742496998798 0.07515884736605476\n"
     ]
    }
   ],
   "source": [
    "print(\"my 0 statistics : \",m0,v0)\n",
    "print(\"my 1 statistics : \",m1,v1)\n",
    "print(\"my 2 statistics : \",m2,v2)\n",
    "print(\"my 3 statistics : \",m3,v3)\n",
    "print(\"my 4 statistics : \",m4,v4)\n",
    "print(\"my 5 statistics : \",m5,v5)\n",
    "print(\"my 6 statistics : \",m6,v6)\n",
    "print(\"my 7 statistics : \",m7,v7)\n",
    "print(\"my 8 statistics : \",m8,v8)\n",
    "print(\"my 9 statistics : \",m9,v9)"
   ]
  },
  {
   "cell_type": "markdown",
   "metadata": {},
   "source": [
    "## References\n",
    "\n",
    "1. [an-introduction-to-machine-learning](https://www.digitalocean.com/community/tutorials/an-introduction-to-machine-learning)\n",
    "\n",
    "2. [Neural Network Digit Recognizer](http://myselph.de/neuralNet.html)  An online mimic using same dataset\n",
    "\n",
    "3. LazyProgrammer. Unsupervised Machine Learning in Python: Master Data Science and Machine Learning with Cluster Analysis, Gaussian Mixture Models, and Principal Components Analysis . Kindle Edition.\n",
    "\n",
    "4. Rashid, Tariq. Make Your Own Neural Network. Kindle Edition."
   ]
  },
  {
   "cell_type": "code",
   "execution_count": 43,
   "metadata": {},
   "outputs": [
    {
     "data": {
      "image/png": "[encoded data removed]",
      "text/plain": [
       "<Figure size 640x480 with 1 Axes>"
      ]
     },
     "metadata": {},
     "output_type": "display_data"
    },
    {
     "name": "stdout",
     "output_type": "stream",
     "text": [
      "my number = cat784  my network thinks its =  3\n"
     ]
    }
   ],
   "source": [
    "#first read and render\n",
    "#img_array = imageio.imread(\"image_src/cat784.png\", as_gray = True)\n",
    "img_array = imageio.imread(\"image_src/cat784.png\", mode='L')\n",
    "img_data = 255.0 - img_array.reshape(784)\n",
    "img_data = ((img_data/255.0)*0.99) + 0.01\n",
    "#matplotlib.pyplot.imshow(numpy.asfarray(img_data).reshape((28,28)),cmap = 'Greys') # construct a graphic object #\n",
    "matplotlib.pyplot.imshow(numpy.asarray(img_data, dtype=numpy.float64).reshape((28,28)), cmap='Greys')\n",
    "matplotlib.pyplot.show() # show the graphic object to a window #\n",
    "matplotlib.pyplot.close('all')\n",
    "\n",
    "mynumber = n.query(img_data)\n",
    "mylabel = numpy.argmax(mynumber)\n",
    "\n",
    "mX=img_data.mean()\n",
    "vX=img_data.var()\n",
    "\n",
    "print (\"my number = cat784 \",\"my network thinks its = \",mylabel)"
   ]
  },
  {
   "cell_type": "code",
   "execution_count": 44,
   "metadata": {},
   "outputs": [
    {
     "name": "stdout",
     "output_type": "stream",
     "text": [
      "my X statistics :  0.6035642256902761 0.02326481359626684\n"
     ]
    }
   ],
   "source": [
    "print(\"my X statistics : \",mX,vX)"
   ]
  },
  {
   "cell_type": "code",
   "execution_count": null,
   "metadata": {},
   "outputs": [],
   "source": []
  }
 ],
 "metadata": {
  "kernelspec": {
   "display_name": "Python 3 (ipykernel)",
   "language": "python",
   "name": "python3"
  },
  "language_info": {
   "codemirror_mode": {
    "name": "ipython",
    "version": 3
   },
   "file_extension": ".py",
   "mimetype": "text/x-python",
   "name": "python",
   "nbconvert_exporter": "python",
   "pygments_lexer": "ipython3",
   "version": "3.10.12"
  }
 },
 "nbformat": 4,
 "nbformat_minor": 4
}