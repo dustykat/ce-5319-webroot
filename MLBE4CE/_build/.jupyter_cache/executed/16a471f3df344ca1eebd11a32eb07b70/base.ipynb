{
 "cells": [
  {
   "cell_type": "code",
   "execution_count": 1,
   "metadata": {},
   "outputs": [
    {
     "name": "stdout",
     "output_type": "stream",
     "text": [
      "Initial Objective Value : 24.199999999999996\n",
      "Objective Function Value : 1.5133948167293787e-11\n",
      "Policy Vector : [1.0000007629394483, 1.0000019073486328]\n"
     ]
    }
   ],
   "source": [
    "import hookeNjeeves # import the script below from local file hookeNjeeves.py\n",
    "\n",
    "def rosenbrock(x):\n",
    "    '''\n",
    "        ## Rosenbrocks classic parabolic valley (\"banana\") function\n",
    "    '''\n",
    "    a = x[0]\n",
    "    b = x[1]\n",
    "    return ((1.0 - a)**2) + (100.0 * (b - (a**2))**2)\n",
    "\n",
    "start = [-1.2,1.0] # set the starting policy\n",
    "print(\"Initial Objective Value :\",rosenbrock(start))\n",
    "#res = hooke(rosenbrock, start, bounds=((0,3),(0,10)), rho=0.5) # constrained \n",
    "res = hookeNjeeves.hooke(rosenbrock, start, rho=0.5) # unconstrained \n",
    "#print(res)\n",
    "print(\"Objective Function Value :\",res['fun'])\n",
    "print(\"Policy Vector :\",res['x'])"
   ]
  },
  {
   "cell_type": "code",
   "execution_count": null,
   "metadata": {},
   "outputs": [],
   "source": []
  }
 ],
 "metadata": {
  "kernelspec": {
   "display_name": "Python 3",
   "language": "python",
   "name": "python3"
  },
  "language_info": {
   "codemirror_mode": {
    "name": "ipython",
    "version": 3
   },
   "file_extension": ".py",
   "mimetype": "text/x-python",
   "name": "python",
   "nbconvert_exporter": "python",
   "pygments_lexer": "ipython3",
   "version": "3.8.10"
  }
 },
 "nbformat": 4,
 "nbformat_minor": 4
}