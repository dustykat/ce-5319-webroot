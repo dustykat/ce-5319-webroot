{
 "cells": [
  {
   "cell_type": "code",
   "execution_count": 1,
   "metadata": {},
   "outputs": [
    {
     "name": "stdout",
     "output_type": "stream",
     "text": [
      "\n",
      "\u001b[92m===============================================================================\u001b[0m\n",
      "\n",
      "Your book template can be found at\n",
      "\n",
      "    MLBE4CE/\n",
      "\n",
      "\u001b[92m===============================================================================\u001b[0m\n",
      "\n"
     ]
    }
   ],
   "source": [
    "#! jupyter-book create MLBE4CE"
   ]
  },
  {
   "cell_type": "code",
   "execution_count": 5,
   "metadata": {},
   "outputs": [
    {
     "name": "stdout",
     "output_type": "stream",
     "text": [
      "\n",
      "\u001b[92m===============================================================================\u001b[0m\n",
      "\n",
      "Your _build directory has been emptied except for .jupyter_cache\n",
      "\n",
      "\u001b[92m===============================================================================\u001b[0m\n",
      "\n"
     ]
    }
   ],
   "source": [
    "#! jupyter-book clean MLBE4CE"
   ]
  },
  {
   "cell_type": "code",
   "execution_count": 5,
   "metadata": {},
   "outputs": [
    {
     "name": "stdout",
     "output_type": "stream",
     "text": [
      "\u001b[32m\u001b[1mRunning Jupyter-Book v0.12.0\u001b[0m\n",
      "\u001b[34m\u001b[1mSource Folder: \u001b[0m/home/sensei/ce-5319-webroot/MLBE4CE\n",
      "\u001b[34m\u001b[1mConfig Path: \u001b[0m/home/sensei/ce-5319-webroot/MLBE4CE/_config.yml\n",
      "\u001b[34m\u001b[1mOutput Path: \u001b[0m/home/sensei/ce-5319-webroot/MLBE4CE/_build/html\n",
      "\u001b[01mRunning Sphinx v3.5.2\u001b[39;49;00m\n",
      "[etoc] Changing master_doc to 'intro'\n",
      "\u001b[01mloading pickled environment... \u001b[39;49;00mchecking for /home/sensei/ce-5319-webroot/MLBE4CE/references.bib in bibtex cache... up to date\n",
      "done\n",
      "\u001b[01mmyst v0.15.2:\u001b[39;49;00m MdParserConfig(renderer='sphinx', commonmark_only=False, enable_extensions=['colon_fence', 'dollarmath', 'linkify', 'substitution', 'tasklist'], dmath_allow_labels=True, dmath_allow_space=True, dmath_allow_digits=True, dmath_double_inline=False, update_mathjax=True, mathjax_classes='tex2jax_process|mathjax_process|math|output_area', disable_syntax=[], url_schemes=['mailto', 'http', 'https'], heading_anchors=None, heading_slug_func=None, html_meta=[], footnote_transition=True, substitutions=[], sub_delimiters=['{', '}'], words_per_minute=200)\n",
      "\u001b[01mbuilding [mo]: \u001b[39;49;00mtargets for 0 po files that are out of date\n",
      "\u001b[01mbuilding [html]: \u001b[39;49;00mtargets for 30 source files that are out of date\n",
      "\u001b[01mupdating environment: \u001b[39;49;00m\u001b[01mexecuting outdated notebooks... \u001b[39;49;00mExecuting: /home/sensei/ce-5319-webroot/MLBE4CE/chapters/logisticregression/logisticregression.ipynb\n",
      "Execution Succeeded: /home/sensei/ce-5319-webroot/MLBE4CE/chapters/logisticregression/logisticregression.ipynb\n",
      "Executing: /home/sensei/ce-5319-webroot/MLBE4CE/chapters/introduction/mlanatomy.ipynb\n",
      "Execution Succeeded: /home/sensei/ce-5319-webroot/MLBE4CE/chapters/introduction/mlanatomy.ipynb\n",
      "Executing: /home/sensei/ce-5319-webroot/MLBE4CE/chapters/introduction/introduction.ipynb\n",
      "Execution Succeeded: /home/sensei/ce-5319-webroot/MLBE4CE/chapters/introduction/introduction.ipynb\n",
      "Executing: /home/sensei/ce-5319-webroot/MLBE4CE/chapters/introduction/whatisml.ipynb\n",
      "Execution Succeeded: /home/sensei/ce-5319-webroot/MLBE4CE/chapters/introduction/whatisml.ipynb\n",
      "Executing: /home/sensei/ce-5319-webroot/MLBE4CE/chapters/logisticregression/example1.ipynb\n",
      "Execution Succeeded: /home/sensei/ce-5319-webroot/MLBE4CE/chapters/logisticregression/example1.ipynb\n",
      "Executing: /home/sensei/ce-5319-webroot/MLBE4CE/chapters/neuralnetworks/myann.ipynb\n",
      "Execution Succeeded: /home/sensei/ce-5319-webroot/MLBE4CE/chapters/neuralnetworks/myann.ipynb\n",
      "Executing: /home/sensei/ce-5319-webroot/MLBE4CE/chapters/neuralnetworks/neuralnetworks.ipynb\n",
      "Execution Succeeded: /home/sensei/ce-5319-webroot/MLBE4CE/chapters/neuralnetworks/neuralnetworks.ipynb\n",
      "Executing: /home/sensei/ce-5319-webroot/MLBE4CE/chapters/validation/validation.ipynb\n",
      "Execution Succeeded: /home/sensei/ce-5319-webroot/MLBE4CE/chapters/validation/validation.ipynb\n",
      "Executing: /home/sensei/ce-5319-webroot/MLBE4CE/chapters/optimization/optimization.ipynb\n",
      "Execution Succeeded: /home/sensei/ce-5319-webroot/MLBE4CE/chapters/optimization/optimization.ipynb\n",
      "Executing: /home/sensei/ce-5319-webroot/MLBE4CE/chapters/introduction/learningtypes.ipynb\n",
      "Execution Succeeded: /home/sensei/ce-5319-webroot/MLBE4CE/chapters/introduction/learningtypes.ipynb\n",
      "Executing: /home/sensei/ce-5319-webroot/MLBE4CE/chapters/datapreparation/datapreparation.ipynb\n",
      "Execution Succeeded: /home/sensei/ce-5319-webroot/MLBE4CE/chapters/datapreparation/datapreparation.ipynb\n",
      "Executing: /home/sensei/ce-5319-webroot/MLBE4CE/chapters/optimization/hookeandjeeves.ipynb\n",
      "Execution Succeeded: /home/sensei/ce-5319-webroot/MLBE4CE/chapters/optimization/hookeandjeeves.ipynb\n",
      "Executing: /home/sensei/ce-5319-webroot/MLBE4CE/chapters/decisiontrees/decisiontrees.ipynb\n",
      "Execution Succeeded: /home/sensei/ce-5319-webroot/MLBE4CE/chapters/decisiontrees/decisiontrees.ipynb\n",
      "Executing: /home/sensei/ce-5319-webroot/MLBE4CE/chapters/linearregression/linearregression.ipynb\n",
      "Execution Succeeded: /home/sensei/ce-5319-webroot/MLBE4CE/chapters/linearregression/linearregression.ipynb\n",
      "Executing: /home/sensei/ce-5319-webroot/MLBE4CE/chapters/supportvectors/supportvectors.ipynb\n",
      "Execution Succeeded: /home/sensei/ce-5319-webroot/MLBE4CE/chapters/supportvectors/supportvectors.ipynb\n",
      "Executing: /home/sensei/ce-5319-webroot/MLBE4CE/chapters/neuralnetworks/materialANN.ipynb\n",
      "Execution Succeeded: /home/sensei/ce-5319-webroot/MLBE4CE/chapters/neuralnetworks/materialANN.ipynb\n",
      "Executing: /home/sensei/ce-5319-webroot/MLBE4CE/chapters/logisticregression/example2.ipynb\n",
      "Execution Succeeded: /home/sensei/ce-5319-webroot/MLBE4CE/chapters/logisticregression/example2.ipynb\n",
      "Executing: /home/sensei/ce-5319-webroot/MLBE4CE/chapters/clustering/clustering.ipynb\n",
      "Execution Succeeded: /home/sensei/ce-5319-webroot/MLBE4CE/chapters/clustering/clustering.ipynb\n",
      "Executing: /home/sensei/ce-5319-webroot/MLBE4CE/chapters/optimization/nelderandmead.ipynb\n",
      "Execution Succeeded: /home/sensei/ce-5319-webroot/MLBE4CE/chapters/optimization/nelderandmead.ipynb\n",
      "Executing: /home/sensei/ce-5319-webroot/MLBE4CE/chapters/logisticregression/example3.ipynb\n",
      "Execution Succeeded: /home/sensei/ce-5319-webroot/MLBE4CE/chapters/logisticregression/example3.ipynb\n",
      "Executing: /home/sensei/ce-5319-webroot/MLBE4CE/chapters/optimization/powellsdirectionset.ipynb\n",
      "Execution Succeeded: /home/sensei/ce-5319-webroot/MLBE4CE/chapters/optimization/powellsdirectionset.ipynb\n",
      "Executing: /home/sensei/ce-5319-webroot/MLBE4CE/chapters/introduction/mlworkflow.ipynb\n",
      "Execution Succeeded: /home/sensei/ce-5319-webroot/MLBE4CE/chapters/introduction/mlworkflow.ipynb\n",
      "Executing: /home/sensei/ce-5319-webroot/MLBE4CE/chapters/nearestneighbors/nearestneighbors.ipynb\n",
      "Execution Succeeded: /home/sensei/ce-5319-webroot/MLBE4CE/chapters/nearestneighbors/nearestneighbors.ipynb\n",
      "Executing: /home/sensei/ce-5319-webroot/MLBE4CE/chapters/nonlinearregression/nonlinearregression.ipynb\n",
      "Execution Succeeded: /home/sensei/ce-5319-webroot/MLBE4CE/chapters/nonlinearregression/nonlinearregression.ipynb\n",
      "Executing: /home/sensei/ce-5319-webroot/MLBE4CE/chapters/neuralnetworks/deeplearners.ipynb\n",
      "Execution Succeeded: /home/sensei/ce-5319-webroot/MLBE4CE/chapters/neuralnetworks/deeplearners.ipynb\n",
      "Executing: /home/sensei/ce-5319-webroot/MLBE4CE/chapters/neuralnetworks/skann.ipynb\n",
      "Execution Succeeded: /home/sensei/ce-5319-webroot/MLBE4CE/chapters/neuralnetworks/skann.ipynb\n",
      "Executing: /home/sensei/ce-5319-webroot/MLBE4CE/chapters/optimization/gridsearch.ipynb\n",
      "Execution Succeeded: /home/sensei/ce-5319-webroot/MLBE4CE/chapters/optimization/gridsearch.ipynb\n",
      "Executing: /home/sensei/ce-5319-webroot/MLBE4CE/chapters/exploratorydata/exploratorydata.ipynb\n",
      "Execution Succeeded: /home/sensei/ce-5319-webroot/MLBE4CE/chapters/exploratorydata/exploratorydata.ipynb\n",
      "Executing: /home/sensei/ce-5319-webroot/MLBE4CE/chapters/logisticregression/poissonregression.ipynb\n",
      "Execution Succeeded: /home/sensei/ce-5319-webroot/MLBE4CE/chapters/logisticregression/poissonregression.ipynb\n",
      "done\n",
      "[config changed ('jupyter_execute_notebooks')] 30 added, 0 changed, 0 removed\n",
      "\u001b[01mreading sources... \u001b[39;49;00m[100%] \u001b[35mintro\u001b[39;49;00m                                                 \n",
      "\u001b[01mlooking for now-outdated files... \u001b[39;49;00mnone found\n",
      "\u001b[01mpickling environment... \u001b[39;49;00mdone\n",
      "\u001b[01mchecking consistency... \u001b[39;49;00mdone\n",
      "\u001b[01mpreparing documents... \u001b[39;49;00mdone\n",
      "\u001b[01mwriting output... \u001b[39;49;00m[100%] \u001b[32mintro\u001b[39;49;00m                                                  \n",
      "\u001b[01mgenerating indices... \u001b[39;49;00mgenindex done\n",
      "\u001b[01mwriting additional pages... \u001b[39;49;00msearch done\n",
      "\u001b[01mcopying images... \u001b[39;49;00m[100%] \u001b[33mchapters/validation/k-fold-example.png\u001b[39;49;00m                 49;00m49;00m;49;00m00m\n",
      "\u001b[01mcopying static files... \u001b[39;49;00mdone\n",
      "\u001b[01mcopying extra files... \u001b[39;49;00mdone\n",
      "\u001b[01mdumping search index in English (code: en)... \u001b[39;49;00mdone\n",
      "\u001b[01mdumping object inventory... \u001b[39;49;00mdone\n",
      "\u001b[01mbuild succeeded.\u001b[39;49;00m\n",
      "\n",
      "The HTML pages are in MLBE4CE/_build/html.\n",
      "\n",
      "\u001b[92m===============================================================================\u001b[0m\n",
      "\n",
      "Finished generating HTML for book.\n",
      "Your book's HTML pages are here:\n",
      "    MLBE4CE/_build/html/\n",
      "You can look at your book by opening this file in a browser:\n",
      "    MLBE4CE/_build/html/index.html\n",
      "Or paste this line directly into your browser bar:\n",
      "    file:///home/sensei/ce-5319-webroot/MLBE4CE/_build/html/index.html            \n",
      "\n",
      "\u001b[92m===============================================================================\u001b[0m\n",
      "\n"
     ]
    }
   ],
   "source": [
    "! jupyter-book build MLBE4CE"
   ]
  },
  {
   "cell_type": "code",
   "execution_count": null,
   "metadata": {},
   "outputs": [],
   "source": []
  },
  {
   "cell_type": "code",
   "execution_count": null,
   "metadata": {},
   "outputs": [],
   "source": []
  }
 ],
 "metadata": {
  "kernelspec": {
   "display_name": "Python 3",
   "language": "python",
   "name": "python3"
  },
  "language_info": {
   "codemirror_mode": {
    "name": "ipython",
    "version": 3
   },
   "file_extension": ".py",
   "mimetype": "text/x-python",
   "name": "python",
   "nbconvert_exporter": "python",
   "pygments_lexer": "ipython3",
   "version": "3.8.10"
  }
 },
 "nbformat": 4,
 "nbformat_minor": 4
}
