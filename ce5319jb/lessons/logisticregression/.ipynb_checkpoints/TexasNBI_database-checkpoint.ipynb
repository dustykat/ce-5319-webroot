{
 "cells": [
  {
   "cell_type": "markdown",
   "metadata": {},
   "source": [
    "# Processing Texas Database\n",
    "\n",
    "Following the process described in [Prediction of Bridge Component Ratings Using Ordinal Logistic Regression Model](http://54.243.252.9/ce-5319-webroot/3-Readings/bridgeDatabase9797584.pdf) but for Texas data."
   ]
  },
  {
   "cell_type": "code",
   "execution_count": 28,
   "metadata": {},
   "outputs": [
    {
     "name": "stderr",
     "output_type": "stream",
     "text": [
      "/opt/jupyterhub/lib/python3.8/site-packages/IPython/core/interactiveshell.py:3146: DtypeWarning: Columns (2,5,17,31,36,37,38,39,41,44,61,63,66,67,68,69,70,71,73,75,76,77,79,86,87,88,96,102,106,107,108,109,113,114,120,121) have mixed types.Specify dtype option on import or set low_memory=False.\n",
      "  has_raised = await self.run_ast_nodes(code_ast.body, cell_name,\n"
     ]
    }
   ],
   "source": [
    "# Playing with Texas Data\n",
    "local_file_name='2021TexasNBIData.csv'\n",
    "import pandas as pd\n",
    "# Read the NBI Database\n",
    "texasdb = pd.read_csv(local_file_name)"
   ]
  },
  {
   "cell_type": "code",
   "execution_count": 29,
   "metadata": {},
   "outputs": [
    {
     "data": {
      "text/html": [
       "<div>\n",
       "<style scoped>\n",
       "    .dataframe tbody tr th:only-of-type {\n",
       "        vertical-align: middle;\n",
       "    }\n",
       "\n",
       "    .dataframe tbody tr th {\n",
       "        vertical-align: top;\n",
       "    }\n",
       "\n",
       "    .dataframe thead th {\n",
       "        text-align: right;\n",
       "    }\n",
       "</style>\n",
       "<table border=\"1\" class=\"dataframe\">\n",
       "  <thead>\n",
       "    <tr style=\"text-align: right;\">\n",
       "      <th></th>\n",
       "      <th>STATE_CODE_001</th>\n",
       "      <th>STRUCTURE_NUMBER_008</th>\n",
       "      <th>RECORD_TYPE_005A</th>\n",
       "      <th>ROUTE_PREFIX_005B</th>\n",
       "      <th>SERVICE_LEVEL_005C</th>\n",
       "      <th>ROUTE_NUMBER_005D</th>\n",
       "      <th>DIRECTION_005E</th>\n",
       "      <th>HIGHWAY_DISTRICT_002</th>\n",
       "      <th>COUNTY_CODE_003</th>\n",
       "      <th>PLACE_CODE_004</th>\n",
       "      <th>...</th>\n",
       "      <th>BRIDGE_LEN_IND_112</th>\n",
       "      <th>SCOUR_CRITICAL_113</th>\n",
       "      <th>FUTURE_ADT_114</th>\n",
       "      <th>YEAR_OF_FUTURE_ADT_115</th>\n",
       "      <th>MIN_NAV_CLR_MT_116</th>\n",
       "      <th>FED_AGENCY</th>\n",
       "      <th>SUBMITTED_BY</th>\n",
       "      <th>BRIDGE_CONDITION</th>\n",
       "      <th>LOWEST_RATING</th>\n",
       "      <th>DECK_AREA</th>\n",
       "    </tr>\n",
       "  </thead>\n",
       "  <tbody>\n",
       "    <tr>\n",
       "      <th>0</th>\n",
       "      <td>48</td>\n",
       "      <td>0000000L2015318</td>\n",
       "      <td>1</td>\n",
       "      <td>6.0</td>\n",
       "      <td>4.0</td>\n",
       "      <td>00000</td>\n",
       "      <td>0.0</td>\n",
       "      <td>0.0</td>\n",
       "      <td>375</td>\n",
       "      <td>0</td>\n",
       "      <td>...</td>\n",
       "      <td>Y</td>\n",
       "      <td>7</td>\n",
       "      <td>200.0</td>\n",
       "      <td>2035.0</td>\n",
       "      <td>NaN</td>\n",
       "      <td>Y</td>\n",
       "      <td>68</td>\n",
       "      <td>G</td>\n",
       "      <td>7</td>\n",
       "      <td>180.42</td>\n",
       "    </tr>\n",
       "    <tr>\n",
       "      <th>1</th>\n",
       "      <td>48</td>\n",
       "      <td>000021521-00101</td>\n",
       "      <td>1</td>\n",
       "      <td>6.0</td>\n",
       "      <td>0.0</td>\n",
       "      <td>00000</td>\n",
       "      <td>0.0</td>\n",
       "      <td>2.0</td>\n",
       "      <td>71</td>\n",
       "      <td>0</td>\n",
       "      <td>...</td>\n",
       "      <td>Y</td>\n",
       "      <td>8</td>\n",
       "      <td>1.0</td>\n",
       "      <td>2038.0</td>\n",
       "      <td>NaN</td>\n",
       "      <td>Y</td>\n",
       "      <td>63</td>\n",
       "      <td>G</td>\n",
       "      <td>7</td>\n",
       "      <td>150.72</td>\n",
       "    </tr>\n",
       "    <tr>\n",
       "      <th>2</th>\n",
       "      <td>48</td>\n",
       "      <td>000021521-00181</td>\n",
       "      <td>1</td>\n",
       "      <td>6.0</td>\n",
       "      <td>0.0</td>\n",
       "      <td>00000</td>\n",
       "      <td>0.0</td>\n",
       "      <td>2.0</td>\n",
       "      <td>71</td>\n",
       "      <td>0</td>\n",
       "      <td>...</td>\n",
       "      <td>Y</td>\n",
       "      <td>8</td>\n",
       "      <td>1.0</td>\n",
       "      <td>2038.0</td>\n",
       "      <td>NaN</td>\n",
       "      <td>Y</td>\n",
       "      <td>63</td>\n",
       "      <td>G</td>\n",
       "      <td>7</td>\n",
       "      <td>74.40</td>\n",
       "    </tr>\n",
       "    <tr>\n",
       "      <th>3</th>\n",
       "      <td>48</td>\n",
       "      <td>000021521-TMP20</td>\n",
       "      <td>1</td>\n",
       "      <td>6.0</td>\n",
       "      <td>1.0</td>\n",
       "      <td>00000</td>\n",
       "      <td>0.0</td>\n",
       "      <td>2.0</td>\n",
       "      <td>71</td>\n",
       "      <td>0</td>\n",
       "      <td>...</td>\n",
       "      <td>Y</td>\n",
       "      <td>8</td>\n",
       "      <td>150.0</td>\n",
       "      <td>2038.0</td>\n",
       "      <td>NaN</td>\n",
       "      <td>Y</td>\n",
       "      <td>63</td>\n",
       "      <td>G</td>\n",
       "      <td>8</td>\n",
       "      <td>91.91</td>\n",
       "    </tr>\n",
       "    <tr>\n",
       "      <th>4</th>\n",
       "      <td>48</td>\n",
       "      <td>000021525-00012</td>\n",
       "      <td>1</td>\n",
       "      <td>6.0</td>\n",
       "      <td>0.0</td>\n",
       "      <td>00000</td>\n",
       "      <td>0.0</td>\n",
       "      <td>2.0</td>\n",
       "      <td>245</td>\n",
       "      <td>0</td>\n",
       "      <td>...</td>\n",
       "      <td>Y</td>\n",
       "      <td>T</td>\n",
       "      <td>120.0</td>\n",
       "      <td>2040.0</td>\n",
       "      <td>NaN</td>\n",
       "      <td>Y</td>\n",
       "      <td>63</td>\n",
       "      <td>P</td>\n",
       "      <td>4</td>\n",
       "      <td>204.30</td>\n",
       "    </tr>\n",
       "  </tbody>\n",
       "</table>\n",
       "<p>5 rows × 123 columns</p>\n",
       "</div>"
      ],
      "text/plain": [
       "   STATE_CODE_001 STRUCTURE_NUMBER_008 RECORD_TYPE_005A  ROUTE_PREFIX_005B  \\\n",
       "0              48      0000000L2015318                1                6.0   \n",
       "1              48      000021521-00101                1                6.0   \n",
       "2              48      000021521-00181                1                6.0   \n",
       "3              48      000021521-TMP20                1                6.0   \n",
       "4              48      000021525-00012                1                6.0   \n",
       "\n",
       "   SERVICE_LEVEL_005C ROUTE_NUMBER_005D  DIRECTION_005E  HIGHWAY_DISTRICT_002  \\\n",
       "0                 4.0             00000             0.0                   0.0   \n",
       "1                 0.0             00000             0.0                   2.0   \n",
       "2                 0.0             00000             0.0                   2.0   \n",
       "3                 1.0             00000             0.0                   2.0   \n",
       "4                 0.0             00000             0.0                   2.0   \n",
       "\n",
       "   COUNTY_CODE_003  PLACE_CODE_004  ... BRIDGE_LEN_IND_112  \\\n",
       "0              375               0  ...                  Y   \n",
       "1               71               0  ...                  Y   \n",
       "2               71               0  ...                  Y   \n",
       "3               71               0  ...                  Y   \n",
       "4              245               0  ...                  Y   \n",
       "\n",
       "   SCOUR_CRITICAL_113 FUTURE_ADT_114 YEAR_OF_FUTURE_ADT_115  \\\n",
       "0                   7          200.0                 2035.0   \n",
       "1                   8            1.0                 2038.0   \n",
       "2                   8            1.0                 2038.0   \n",
       "3                   8          150.0                 2038.0   \n",
       "4                   T          120.0                 2040.0   \n",
       "\n",
       "   MIN_NAV_CLR_MT_116  FED_AGENCY  SUBMITTED_BY BRIDGE_CONDITION  \\\n",
       "0                 NaN           Y            68                G   \n",
       "1                 NaN           Y            63                G   \n",
       "2                 NaN           Y            63                G   \n",
       "3                 NaN           Y            63                G   \n",
       "4                 NaN           Y            63                P   \n",
       "\n",
       "   LOWEST_RATING  DECK_AREA  \n",
       "0              7     180.42  \n",
       "1              7     150.72  \n",
       "2              7      74.40  \n",
       "3              8      91.91  \n",
       "4              4     204.30  \n",
       "\n",
       "[5 rows x 123 columns]"
      ]
     },
     "execution_count": 29,
     "metadata": {},
     "output_type": "execute_result"
    }
   ],
   "source": [
    "# Verify the Structure\n",
    "texasdb.head()"
   ]
  },
  {
   "cell_type": "code",
   "execution_count": 30,
   "metadata": {},
   "outputs": [],
   "source": [
    "# Rename The Index\n",
    "#texasdb = texasdb.rename_axis('Index')\n",
    "#texasdb.head()"
   ]
  },
  {
   "cell_type": "code",
   "execution_count": 31,
   "metadata": {},
   "outputs": [],
   "source": [
    "txculv = texasdb.loc[texasdb['STRUCTURE_TYPE_043B'] == 19]"
   ]
  },
  {
   "cell_type": "code",
   "execution_count": 32,
   "metadata": {},
   "outputs": [
    {
     "data": {
      "text/plain": [
       "['STATE_CODE_001',\n",
       " 'STRUCTURE_NUMBER_008',\n",
       " 'RECORD_TYPE_005A',\n",
       " 'ROUTE_PREFIX_005B',\n",
       " 'SERVICE_LEVEL_005C',\n",
       " 'ROUTE_NUMBER_005D',\n",
       " 'DIRECTION_005E',\n",
       " 'HIGHWAY_DISTRICT_002',\n",
       " 'COUNTY_CODE_003',\n",
       " 'PLACE_CODE_004',\n",
       " 'FEATURES_DESC_006A',\n",
       " 'CRITICAL_FACILITY_006B',\n",
       " 'FACILITY_CARRIED_007',\n",
       " 'LOCATION_009',\n",
       " 'MIN_VERT_CLR_010',\n",
       " 'KILOPOINT_011',\n",
       " 'BASE_HWY_NETWORK_012',\n",
       " 'LRS_INV_ROUTE_013A',\n",
       " 'SUBROUTE_NO_013B',\n",
       " 'LAT_016',\n",
       " 'LONG_017',\n",
       " 'DETOUR_KILOS_019',\n",
       " 'TOLL_020',\n",
       " 'MAINTENANCE_021',\n",
       " 'OWNER_022',\n",
       " 'FUNCTIONAL_CLASS_026',\n",
       " 'YEAR_BUILT_027',\n",
       " 'TRAFFIC_LANES_ON_028A',\n",
       " 'TRAFFIC_LANES_UND_028B',\n",
       " 'ADT_029',\n",
       " 'YEAR_ADT_030',\n",
       " 'DESIGN_LOAD_031',\n",
       " 'APPR_WIDTH_MT_032',\n",
       " 'MEDIAN_CODE_033',\n",
       " 'DEGREES_SKEW_034',\n",
       " 'STRUCTURE_FLARED_035',\n",
       " 'RAILINGS_036A',\n",
       " 'TRANSITIONS_036B',\n",
       " 'APPR_RAIL_036C',\n",
       " 'APPR_RAIL_END_036D',\n",
       " 'HISTORY_037',\n",
       " 'NAVIGATION_038',\n",
       " 'NAV_VERT_CLR_MT_039',\n",
       " 'NAV_HORR_CLR_MT_040',\n",
       " 'OPEN_CLOSED_POSTED_041',\n",
       " 'SERVICE_ON_042A',\n",
       " 'SERVICE_UND_042B',\n",
       " 'STRUCTURE_KIND_043A',\n",
       " 'STRUCTURE_TYPE_043B',\n",
       " 'APPR_KIND_044A',\n",
       " 'APPR_TYPE_044B',\n",
       " 'MAIN_UNIT_SPANS_045',\n",
       " 'APPR_SPANS_046',\n",
       " 'HORR_CLR_MT_047',\n",
       " 'MAX_SPAN_LEN_MT_048',\n",
       " 'STRUCTURE_LEN_MT_049',\n",
       " 'LEFT_CURB_MT_050A',\n",
       " 'RIGHT_CURB_MT_050B',\n",
       " 'ROADWAY_WIDTH_MT_051',\n",
       " 'DECK_WIDTH_MT_052',\n",
       " 'VERT_CLR_OVER_MT_053',\n",
       " 'VERT_CLR_UND_REF_054A',\n",
       " 'VERT_CLR_UND_054B',\n",
       " 'LAT_UND_REF_055A',\n",
       " 'LAT_UND_MT_055B',\n",
       " 'LEFT_LAT_UND_MT_056',\n",
       " 'DECK_COND_058',\n",
       " 'SUPERSTRUCTURE_COND_059',\n",
       " 'SUBSTRUCTURE_COND_060',\n",
       " 'CHANNEL_COND_061',\n",
       " 'CULVERT_COND_062',\n",
       " 'OPR_RATING_METH_063',\n",
       " 'OPERATING_RATING_064',\n",
       " 'INV_RATING_METH_065',\n",
       " 'INVENTORY_RATING_066',\n",
       " 'STRUCTURAL_EVAL_067',\n",
       " 'DECK_GEOMETRY_EVAL_068',\n",
       " 'UNDCLRENCE_EVAL_069',\n",
       " 'POSTING_EVAL_070',\n",
       " 'WATERWAY_EVAL_071',\n",
       " 'APPR_ROAD_EVAL_072',\n",
       " 'WORK_PROPOSED_075A',\n",
       " 'WORK_DONE_BY_075B',\n",
       " 'IMP_LEN_MT_076',\n",
       " 'DATE_OF_INSPECT_090',\n",
       " 'INSPECT_FREQ_MONTHS_091',\n",
       " 'FRACTURE_092A',\n",
       " 'UNDWATER_LOOK_SEE_092B',\n",
       " 'SPEC_INSPECT_092C',\n",
       " 'FRACTURE_LAST_DATE_093A',\n",
       " 'UNDWATER_LAST_DATE_093B',\n",
       " 'SPEC_LAST_DATE_093C',\n",
       " 'BRIDGE_IMP_COST_094',\n",
       " 'ROADWAY_IMP_COST_095',\n",
       " 'TOTAL_IMP_COST_096',\n",
       " 'YEAR_OF_IMP_097',\n",
       " 'OTHER_STATE_CODE_098A',\n",
       " 'OTHER_STATE_PCNT_098B',\n",
       " 'OTHR_STATE_STRUC_NO_099',\n",
       " 'STRAHNET_HIGHWAY_100',\n",
       " 'PARALLEL_STRUCTURE_101',\n",
       " 'TRAFFIC_DIRECTION_102',\n",
       " 'TEMP_STRUCTURE_103',\n",
       " 'HIGHWAY_SYSTEM_104',\n",
       " 'FEDERAL_LANDS_105',\n",
       " 'YEAR_RECONSTRUCTED_106',\n",
       " 'DECK_STRUCTURE_TYPE_107',\n",
       " 'SURFACE_TYPE_108A',\n",
       " 'MEMBRANE_TYPE_108B',\n",
       " 'DECK_PROTECTION_108C',\n",
       " 'PERCENT_ADT_TRUCK_109',\n",
       " 'NATIONAL_NETWORK_110',\n",
       " 'PIER_PROTECTION_111',\n",
       " 'BRIDGE_LEN_IND_112',\n",
       " 'SCOUR_CRITICAL_113',\n",
       " 'FUTURE_ADT_114',\n",
       " 'YEAR_OF_FUTURE_ADT_115',\n",
       " 'MIN_NAV_CLR_MT_116',\n",
       " 'FED_AGENCY',\n",
       " 'SUBMITTED_BY',\n",
       " 'BRIDGE_CONDITION',\n",
       " 'LOWEST_RATING',\n",
       " 'DECK_AREA']"
      ]
     },
     "execution_count": 32,
     "metadata": {},
     "output_type": "execute_result"
    }
   ],
   "source": [
    "list(texasdb)"
   ]
  },
  {
   "cell_type": "code",
   "execution_count": 60,
   "metadata": {},
   "outputs": [],
   "source": [
    "txculv = texasdb[['CULVERT_COND_062','YEAR_BUILT_027','ADT_029','DESIGN_LOAD_031','OPERATING_RATING_064','STRUCTURAL_EVAL_067','PERCENT_ADT_TRUCK_109','BRIDGE_CONDITION']].copy()"
   ]
  },
  {
   "cell_type": "code",
   "execution_count": 61,
   "metadata": {},
   "outputs": [
    {
     "data": {
      "text/html": [
       "<div>\n",
       "<style scoped>\n",
       "    .dataframe tbody tr th:only-of-type {\n",
       "        vertical-align: middle;\n",
       "    }\n",
       "\n",
       "    .dataframe tbody tr th {\n",
       "        vertical-align: top;\n",
       "    }\n",
       "\n",
       "    .dataframe thead th {\n",
       "        text-align: right;\n",
       "    }\n",
       "</style>\n",
       "<table border=\"1\" class=\"dataframe\">\n",
       "  <thead>\n",
       "    <tr style=\"text-align: right;\">\n",
       "      <th></th>\n",
       "      <th>CULVERT_COND_062</th>\n",
       "      <th>YEAR_BUILT_027</th>\n",
       "      <th>ADT_029</th>\n",
       "      <th>DESIGN_LOAD_031</th>\n",
       "      <th>OPERATING_RATING_064</th>\n",
       "      <th>STRUCTURAL_EVAL_067</th>\n",
       "      <th>PERCENT_ADT_TRUCK_109</th>\n",
       "      <th>BRIDGE_CONDITION</th>\n",
       "    </tr>\n",
       "  </thead>\n",
       "  <tbody>\n",
       "    <tr>\n",
       "      <th>0</th>\n",
       "      <td>7</td>\n",
       "      <td>2008</td>\n",
       "      <td>100.0</td>\n",
       "      <td>5</td>\n",
       "      <td>38.6</td>\n",
       "      <td>7</td>\n",
       "      <td>10.0</td>\n",
       "      <td>G</td>\n",
       "    </tr>\n",
       "    <tr>\n",
       "      <th>1</th>\n",
       "      <td>N</td>\n",
       "      <td>2005</td>\n",
       "      <td>1.0</td>\n",
       "      <td>0</td>\n",
       "      <td>69.9</td>\n",
       "      <td>8</td>\n",
       "      <td>NaN</td>\n",
       "      <td>G</td>\n",
       "    </tr>\n",
       "    <tr>\n",
       "      <th>2</th>\n",
       "      <td>N</td>\n",
       "      <td>2005</td>\n",
       "      <td>1.0</td>\n",
       "      <td>0</td>\n",
       "      <td>69.9</td>\n",
       "      <td>7</td>\n",
       "      <td>NaN</td>\n",
       "      <td>G</td>\n",
       "    </tr>\n",
       "    <tr>\n",
       "      <th>3</th>\n",
       "      <td>N</td>\n",
       "      <td>2012</td>\n",
       "      <td>100.0</td>\n",
       "      <td>A</td>\n",
       "      <td>80.7</td>\n",
       "      <td>8</td>\n",
       "      <td>NaN</td>\n",
       "      <td>G</td>\n",
       "    </tr>\n",
       "    <tr>\n",
       "      <th>4</th>\n",
       "      <td>N</td>\n",
       "      <td>1950</td>\n",
       "      <td>80.0</td>\n",
       "      <td>0</td>\n",
       "      <td>29.0</td>\n",
       "      <td>3</td>\n",
       "      <td>NaN</td>\n",
       "      <td>P</td>\n",
       "    </tr>\n",
       "  </tbody>\n",
       "</table>\n",
       "</div>"
      ],
      "text/plain": [
       "  CULVERT_COND_062  YEAR_BUILT_027  ADT_029 DESIGN_LOAD_031  \\\n",
       "0                7            2008    100.0               5   \n",
       "1                N            2005      1.0               0   \n",
       "2                N            2005      1.0               0   \n",
       "3                N            2012    100.0               A   \n",
       "4                N            1950     80.0               0   \n",
       "\n",
       "   OPERATING_RATING_064 STRUCTURAL_EVAL_067  PERCENT_ADT_TRUCK_109  \\\n",
       "0                  38.6                   7                   10.0   \n",
       "1                  69.9                   8                    NaN   \n",
       "2                  69.9                   7                    NaN   \n",
       "3                  80.7                   8                    NaN   \n",
       "4                  29.0                   3                    NaN   \n",
       "\n",
       "  BRIDGE_CONDITION  \n",
       "0                G  \n",
       "1                G  \n",
       "2                G  \n",
       "3                G  \n",
       "4                P  "
      ]
     },
     "execution_count": 61,
     "metadata": {},
     "output_type": "execute_result"
    }
   ],
   "source": [
    "txculv.head()"
   ]
  },
  {
   "cell_type": "code",
   "execution_count": 62,
   "metadata": {},
   "outputs": [
    {
     "data": {
      "text/html": [
       "<div>\n",
       "<style scoped>\n",
       "    .dataframe tbody tr th:only-of-type {\n",
       "        vertical-align: middle;\n",
       "    }\n",
       "\n",
       "    .dataframe tbody tr th {\n",
       "        vertical-align: top;\n",
       "    }\n",
       "\n",
       "    .dataframe thead th {\n",
       "        text-align: right;\n",
       "    }\n",
       "</style>\n",
       "<table border=\"1\" class=\"dataframe\">\n",
       "  <thead>\n",
       "    <tr style=\"text-align: right;\">\n",
       "      <th></th>\n",
       "      <th>YEAR_BUILT_027</th>\n",
       "      <th>ADT_029</th>\n",
       "      <th>OPERATING_RATING_064</th>\n",
       "      <th>PERCENT_ADT_TRUCK_109</th>\n",
       "    </tr>\n",
       "  </thead>\n",
       "  <tbody>\n",
       "    <tr>\n",
       "      <th>count</th>\n",
       "      <td>64864.000000</td>\n",
       "      <td>64753.000000</td>\n",
       "      <td>55100.000000</td>\n",
       "      <td>64570.000000</td>\n",
       "    </tr>\n",
       "    <tr>\n",
       "      <th>mean</th>\n",
       "      <td>1979.505781</td>\n",
       "      <td>13717.988356</td>\n",
       "      <td>44.631214</td>\n",
       "      <td>9.593604</td>\n",
       "    </tr>\n",
       "    <tr>\n",
       "      <th>std</th>\n",
       "      <td>24.975545</td>\n",
       "      <td>29849.980531</td>\n",
       "      <td>10.852899</td>\n",
       "      <td>10.983355</td>\n",
       "    </tr>\n",
       "    <tr>\n",
       "      <th>min</th>\n",
       "      <td>1900.000000</td>\n",
       "      <td>0.000000</td>\n",
       "      <td>0.000000</td>\n",
       "      <td>0.000000</td>\n",
       "    </tr>\n",
       "    <tr>\n",
       "      <th>25%</th>\n",
       "      <td>1962.000000</td>\n",
       "      <td>500.000000</td>\n",
       "      <td>32.700000</td>\n",
       "      <td>0.000000</td>\n",
       "    </tr>\n",
       "    <tr>\n",
       "      <th>50%</th>\n",
       "      <td>1981.000000</td>\n",
       "      <td>3466.000000</td>\n",
       "      <td>44.400000</td>\n",
       "      <td>6.000000</td>\n",
       "    </tr>\n",
       "    <tr>\n",
       "      <th>75%</th>\n",
       "      <td>2002.000000</td>\n",
       "      <td>12841.000000</td>\n",
       "      <td>54.400000</td>\n",
       "      <td>14.000000</td>\n",
       "    </tr>\n",
       "    <tr>\n",
       "      <th>max</th>\n",
       "      <td>2020.000000</td>\n",
       "      <td>778093.000000</td>\n",
       "      <td>99.900000</td>\n",
       "      <td>99.000000</td>\n",
       "    </tr>\n",
       "  </tbody>\n",
       "</table>\n",
       "</div>"
      ],
      "text/plain": [
       "       YEAR_BUILT_027        ADT_029  OPERATING_RATING_064  \\\n",
       "count    64864.000000   64753.000000          55100.000000   \n",
       "mean      1979.505781   13717.988356             44.631214   \n",
       "std         24.975545   29849.980531             10.852899   \n",
       "min       1900.000000       0.000000              0.000000   \n",
       "25%       1962.000000     500.000000             32.700000   \n",
       "50%       1981.000000    3466.000000             44.400000   \n",
       "75%       2002.000000   12841.000000             54.400000   \n",
       "max       2020.000000  778093.000000             99.900000   \n",
       "\n",
       "       PERCENT_ADT_TRUCK_109  \n",
       "count           64570.000000  \n",
       "mean                9.593604  \n",
       "std                10.983355  \n",
       "min                 0.000000  \n",
       "25%                 0.000000  \n",
       "50%                 6.000000  \n",
       "75%                14.000000  \n",
       "max                99.000000  "
      ]
     },
     "execution_count": 62,
     "metadata": {},
     "output_type": "execute_result"
    }
   ],
   "source": [
    "txculv.describe()"
   ]
  },
  {
   "cell_type": "code",
   "execution_count": 35,
   "metadata": {},
   "outputs": [],
   "source": [
    "age = 2022 - txculv['YEAR_BUILT_027'] # age of culvert, surrogate for service life"
   ]
  },
  {
   "cell_type": "code",
   "execution_count": 36,
   "metadata": {},
   "outputs": [],
   "source": [
    "drat = txculv['OPERATING_RATING_064'].fillna(1) # operating rating (in tons), nan is 1\n",
    "drat = pd.to_numeric(drat) # coerce to numeric"
   ]
  },
  {
   "cell_type": "code",
   "execution_count": 37,
   "metadata": {},
   "outputs": [],
   "source": [
    "steval = txculv['STRUCTURAL_EVAL_067'].fillna(1).replace('*','1') # structural eval, nan is 1 (not in original NBI coding tables)\n",
    "steval = pd.to_numeric(steval) # coerce to numeric"
   ]
  },
  {
   "cell_type": "code",
   "execution_count": 38,
   "metadata": {},
   "outputs": [],
   "source": [
    "adt =  txculv['ADT_029'].fillna(1) # \n",
    "adt = pd.to_numeric(adt) # coerce to numeric"
   ]
  },
  {
   "cell_type": "code",
   "execution_count": 39,
   "metadata": {},
   "outputs": [],
   "source": [
    "frame = { 'AGE': age, 'DRAT': drat, \"ADT\" :adt, \"STEVAL\":steval}\n",
    "#frame = { 'AGE': age, 'DRAT': drat, \"STEVAL\":steval}\n",
    "#Creating DataFrame by passing Dictionary\n",
    "X = pd.DataFrame(frame)  # our design matrix"
   ]
  },
  {
   "cell_type": "markdown",
   "metadata": {},
   "source": [
    "Now build our target\n",
    "\n",
    "Prepare the target variable, from the culvert condition. The series has NaN and we convert these to a goofy string"
   ]
  },
  {
   "cell_type": "code",
   "execution_count": 40,
   "metadata": {},
   "outputs": [
    {
     "name": "stdout",
     "output_type": "stream",
     "text": [
      "Type  <class 'str'>\n"
     ]
    }
   ],
   "source": [
    "pre_target = txculv['CULVERT_COND_062'].fillna('11').replace('N','10') # Nan to 11, \"N\" to 10 so all codes able to be numeric\n",
    "print(\"Type \",type(pre_target[0]))"
   ]
  },
  {
   "cell_type": "markdown",
   "metadata": {},
   "source": [
    "then convert from string to numeric."
   ]
  },
  {
   "cell_type": "code",
   "execution_count": 41,
   "metadata": {},
   "outputs": [
    {
     "name": "stdout",
     "output_type": "stream",
     "text": [
      "Type  <class 'numpy.int64'>\n"
     ]
    }
   ],
   "source": [
    "pre_target = pd.to_numeric(pre_target)\n",
    "print(\"Type \",type(pre_target[0]))"
   ]
  },
  {
   "cell_type": "markdown",
   "metadata": {},
   "source": [
    "Need a function to select the two conditions"
   ]
  },
  {
   "cell_type": "code",
   "execution_count": 42,
   "metadata": {},
   "outputs": [],
   "source": [
    "def isok(value_int): # function to interpret condition rating and issue binary state 0 == fail 1 == OK\n",
    "    cut = 6\n",
    "    if value_int > cut:\n",
    "        isok = 1\n",
    "    elif value_int <= cut:\n",
    "        isok = 0\n",
    "    return(isok)\n",
    "\n",
    "y = pre_target.apply(isok) # our target vector"
   ]
  },
  {
   "cell_type": "markdown",
   "metadata": {},
   "source": [
    "Now check that our design matrix and target vector have correct structure"
   ]
  },
  {
   "cell_type": "code",
   "execution_count": 43,
   "metadata": {},
   "outputs": [
    {
     "data": {
      "text/html": [
       "<div>\n",
       "<style scoped>\n",
       "    .dataframe tbody tr th:only-of-type {\n",
       "        vertical-align: middle;\n",
       "    }\n",
       "\n",
       "    .dataframe tbody tr th {\n",
       "        vertical-align: top;\n",
       "    }\n",
       "\n",
       "    .dataframe thead th {\n",
       "        text-align: right;\n",
       "    }\n",
       "</style>\n",
       "<table border=\"1\" class=\"dataframe\">\n",
       "  <thead>\n",
       "    <tr style=\"text-align: right;\">\n",
       "      <th></th>\n",
       "      <th>AGE</th>\n",
       "      <th>DRAT</th>\n",
       "      <th>ADT</th>\n",
       "      <th>STEVAL</th>\n",
       "    </tr>\n",
       "  </thead>\n",
       "  <tbody>\n",
       "    <tr>\n",
       "      <th>count</th>\n",
       "      <td>64864.000000</td>\n",
       "      <td>64864.000000</td>\n",
       "      <td>64864.000000</td>\n",
       "      <td>64864.000000</td>\n",
       "    </tr>\n",
       "    <tr>\n",
       "      <th>mean</th>\n",
       "      <td>42.494219</td>\n",
       "      <td>38.063393</td>\n",
       "      <td>13694.514846</td>\n",
       "      <td>5.471232</td>\n",
       "    </tr>\n",
       "    <tr>\n",
       "      <th>std</th>\n",
       "      <td>24.975545</td>\n",
       "      <td>18.533331</td>\n",
       "      <td>29829.816852</td>\n",
       "      <td>2.054243</td>\n",
       "    </tr>\n",
       "    <tr>\n",
       "      <th>min</th>\n",
       "      <td>2.000000</td>\n",
       "      <td>0.000000</td>\n",
       "      <td>0.000000</td>\n",
       "      <td>0.000000</td>\n",
       "    </tr>\n",
       "    <tr>\n",
       "      <th>25%</th>\n",
       "      <td>20.000000</td>\n",
       "      <td>32.700000</td>\n",
       "      <td>500.000000</td>\n",
       "      <td>5.000000</td>\n",
       "    </tr>\n",
       "    <tr>\n",
       "      <th>50%</th>\n",
       "      <td>41.000000</td>\n",
       "      <td>44.400000</td>\n",
       "      <td>3440.000000</td>\n",
       "      <td>6.000000</td>\n",
       "    </tr>\n",
       "    <tr>\n",
       "      <th>75%</th>\n",
       "      <td>60.000000</td>\n",
       "      <td>54.400000</td>\n",
       "      <td>12820.000000</td>\n",
       "      <td>7.000000</td>\n",
       "    </tr>\n",
       "    <tr>\n",
       "      <th>max</th>\n",
       "      <td>122.000000</td>\n",
       "      <td>99.900000</td>\n",
       "      <td>778093.000000</td>\n",
       "      <td>9.000000</td>\n",
       "    </tr>\n",
       "  </tbody>\n",
       "</table>\n",
       "</div>"
      ],
      "text/plain": [
       "                AGE          DRAT            ADT        STEVAL\n",
       "count  64864.000000  64864.000000   64864.000000  64864.000000\n",
       "mean      42.494219     38.063393   13694.514846      5.471232\n",
       "std       24.975545     18.533331   29829.816852      2.054243\n",
       "min        2.000000      0.000000       0.000000      0.000000\n",
       "25%       20.000000     32.700000     500.000000      5.000000\n",
       "50%       41.000000     44.400000    3440.000000      6.000000\n",
       "75%       60.000000     54.400000   12820.000000      7.000000\n",
       "max      122.000000     99.900000  778093.000000      9.000000"
      ]
     },
     "execution_count": 43,
     "metadata": {},
     "output_type": "execute_result"
    }
   ],
   "source": [
    "X.describe()"
   ]
  },
  {
   "cell_type": "code",
   "execution_count": 44,
   "metadata": {},
   "outputs": [
    {
     "data": {
      "text/plain": [
       "count    64864.000000\n",
       "mean         0.861695\n",
       "std          0.345222\n",
       "min          0.000000\n",
       "25%          1.000000\n",
       "50%          1.000000\n",
       "75%          1.000000\n",
       "max          1.000000\n",
       "Name: CULVERT_COND_062, dtype: float64"
      ]
     },
     "execution_count": 44,
     "metadata": {},
     "output_type": "execute_result"
    }
   ],
   "source": [
    "y.describe()"
   ]
  },
  {
   "cell_type": "code",
   "execution_count": 45,
   "metadata": {},
   "outputs": [],
   "source": [
    "# Now we can do some machine learning\n",
    "# split X and y into training and testing sets\n",
    "from sklearn.model_selection import train_test_split\n",
    "X_train,X_test,y_train,y_test=train_test_split(X,y,test_size=0.25,random_state=0)"
   ]
  },
  {
   "cell_type": "code",
   "execution_count": 46,
   "metadata": {},
   "outputs": [],
   "source": [
    "# import the class\n",
    "from sklearn.linear_model import LogisticRegression\n",
    "\n",
    "# instantiate the model (using the default parameters)\n",
    "#logreg = LogisticRegression()\n",
    "logreg = LogisticRegression()\n",
    "# fit the model with data\n",
    "logreg.fit(X_train,y_train)\n",
    "\n",
    "#\n",
    "y_pred=logreg.predict(X_test)"
   ]
  },
  {
   "cell_type": "code",
   "execution_count": 47,
   "metadata": {},
   "outputs": [
    {
     "name": "stdout",
     "output_type": "stream",
     "text": [
      "4.712584033432068\n",
      "[[-3.86564247e-02  3.92932201e-02  1.44732699e-06 -4.36968612e-01]]\n"
     ]
    }
   ],
   "source": [
    "print(logreg.intercept_[0])\n",
    "print(logreg.coef_)\n",
    "#y.head()"
   ]
  },
  {
   "cell_type": "code",
   "execution_count": 48,
   "metadata": {},
   "outputs": [
    {
     "data": {
      "image/png": "[encoded data removed]",
      "text/plain": [
       "<Figure size 432x288 with 2 Axes>"
      ]
     },
     "metadata": {
      "needs_background": "light"
     },
     "output_type": "display_data"
    }
   ],
   "source": [
    "# import the metrics class\n",
    "from sklearn import metrics\n",
    "cnf_matrix = metrics.confusion_matrix(y_pred, y_test)\n",
    "cnf_matrix\n",
    "import matplotlib.pyplot as plt\n",
    "import numpy as np\n",
    "import seaborn as sns\n",
    "import pandas as pd\n",
    "class_names=[0,1] # name  of classes\n",
    "fig, ax = plt.subplots()\n",
    "tick_marks = np.arange(len(class_names))\n",
    "plt.xticks(tick_marks, class_names)\n",
    "plt.yticks(tick_marks, class_names)\n",
    "# create heatmap\n",
    "sns.heatmap(pd.DataFrame(cnf_matrix), annot=True, cmap=\"YlGnBu\" ,fmt='g')\n",
    "ax.xaxis.set_label_position(\"top\")\n",
    "plt.tight_layout()\n",
    "plt.title('Confusion matrix', y=1.1)\n",
    "plt.ylabel('Predicted label')\n",
    "plt.xlabel('Actual label');"
   ]
  },
  {
   "cell_type": "code",
   "execution_count": 49,
   "metadata": {},
   "outputs": [
    {
     "data": {
      "text/plain": [
       "numpy.int64"
      ]
     },
     "execution_count": 49,
     "metadata": {},
     "output_type": "execute_result"
    }
   ],
   "source": [
    "yrbld = txculv['YEAR_BUILT_027']\n",
    "type(yrbld[0])"
   ]
  },
  {
   "cell_type": "code",
   "execution_count": 50,
   "metadata": {},
   "outputs": [],
   "source": [
    "#pre_target = txculv['CULVERT_COND_062']"
   ]
  },
  {
   "cell_type": "markdown",
   "metadata": {},
   "source": [
    "Structurally Deficient (SD): This term was previously defined in https://www.fhwa.dot.gov/bridge/0650dsup.cfm as having a condition rating of 4 or less for Item 58 (Deck), Item 59 (Superstructure), Item 60 (Substructure), or Item 62 (Culvert), OR having an appraisal rating of 2 or less for Item 67 (Structural Condition) or Item 71 (Waterway Adequacy) Beginning with the 2018 data archive, this term will be defined in accordance with the Pavement and Bridge Condition Performance Measures final rule, published in January of 2017, as a classification given to a bridge which has any component [Item 58, 59, 60, or 62] in Poor or worse condition [code of 4 or less].\n",
    "\n",
    "This capacity rating, referred to as the operating rating, will result\n",
    "in the absolute maximum permissible load level to which the structure\n",
    "may be subjected for the vehicle type used in the rating. Code the\n",
    "operating rating as a 3-digit number to represent the total mass in\n",
    "metric tons of the entire vehicle measured to the nearest tenth of a\n",
    "metric ton (with an assumed decimal point)."
   ]
  },
  {
   "cell_type": "code",
   "execution_count": 51,
   "metadata": {},
   "outputs": [],
   "source": [
    "#type(pre_target[0])"
   ]
  },
  {
   "cell_type": "markdown",
   "metadata": {},
   "source": [
    "Prepare the target variable, the culvert condition as above (not processing just yet).\n",
    "The series has NaN and we convert these to a goofy string\n",
    "then convert from string to numeric."
   ]
  },
  {
   "cell_type": "markdown",
   "metadata": {},
   "source": [
    "Now make a proper target"
   ]
  },
  {
   "cell_type": "code",
   "execution_count": 52,
   "metadata": {},
   "outputs": [],
   "source": [
    "#target"
   ]
  },
  {
   "cell_type": "code",
   "execution_count": null,
   "metadata": {},
   "outputs": [],
   "source": []
  }
 ],
 "metadata": {
  "kernelspec": {
   "display_name": "Python 3",
   "language": "python",
   "name": "python3"
  },
  "language_info": {
   "codemirror_mode": {
    "name": "ipython",
    "version": 3
   },
   "file_extension": ".py",
   "mimetype": "text/x-python",
   "name": "python",
   "nbconvert_exporter": "python",
   "pygments_lexer": "ipython3",
   "version": "3.8.10"
  }
 },
 "nbformat": 4,
 "nbformat_minor": 4
}
