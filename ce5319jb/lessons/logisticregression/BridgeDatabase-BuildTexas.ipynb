{
 "cells": [
  {
   "cell_type": "markdown",
   "metadata": {},
   "source": [
    "# Extract from NBI Database a specific state record"
   ]
  },
  {
   "cell_type": "code",
   "execution_count": 1,
   "metadata": {},
   "outputs": [
    {
     "name": "stdout",
     "output_type": "stream",
     "text": [
      "/home/sensei/ce-5319-webroot/1-Databases/BridgeDatabases\n"
     ]
    }
   ],
   "source": [
    "! pwd"
   ]
  },
  {
   "cell_type": "markdown",
   "metadata": {},
   "source": [
    "Actual code below; all intentionally suppressed for JupyterBook build to prevent attempted script run on missing files.\n",
    "\n",
    "```\n",
    "# Read bridge database line-by-line, extract state code 48, write result to a subset\n",
    "local_file_name='2021AllRecordsDelimitedAllStates.txt'\n",
    "# Connect to the file\n",
    "externalfile = open(local_file_name,'r') # create connection to file, set to read (r), file must exist\n",
    "```"
   ]
  },
  {
   "cell_type": "markdown",
   "metadata": {},
   "source": [
    "```\n",
    "records = [] # empty list to store the lines of the file\n",
    "linesread = 0 # counter for lines read\n",
    "howmanytoread = 800_000 # max number to read\n",
    "\n",
    "for i in range(howmanytoread):\n",
    "    linenow = externalfile.readline()# read a line \n",
    "# test for EOF\n",
    "    if not linenow: # if line is empty\n",
    "        print(\"End Of File detected\")\n",
    "        break # end of file is reached, break out of the loop\n",
    "    records.append(linenow.rstrip().split(\",\")) # parse the line and insert into records\n",
    "    linesread = linesread + 1\n",
    "print(linesread)\n",
    "externalfile.close()\n",
    "# records contains all the lines\n",
    "```"
   ]
  },
  {
   "cell_type": "markdown",
   "metadata": {},
   "source": [
    "```\n",
    "#render as dataframe\n",
    "import pandas as pd\n",
    "alldata = pd.DataFrame(records)\n",
    "alldata.rename(columns=alldata.iloc[0], inplace = True)\n",
    "```"
   ]
  },
  {
   "cell_type": "markdown",
   "metadata": {},
   "source": [
    "```\n",
    "# verify structure\n",
    "alldata.tail()\n",
    "```"
   ]
  },
  {
   "cell_type": "markdown",
   "metadata": {},
   "source": [
    "```\n",
    "# select state code; Texas is 48\n",
    "texasdata = alldata.loc[alldata['STATE_CODE_001']=='48']\n",
    "```"
   ]
  },
  {
   "cell_type": "markdown",
   "metadata": {},
   "source": [
    "```\n",
    "# verify selection\n",
    "texasdata.head()\n",
    "```"
   ]
  },
  {
   "cell_type": "markdown",
   "metadata": {},
   "source": [
    "```\n",
    "# now write the reduced set to a file \n",
    "texasdata.to_csv(\"2021TexasNBIData.csv\", index = False)\n",
    "```"
   ]
  },
  {
   "cell_type": "code",
   "execution_count": null,
   "metadata": {},
   "outputs": [],
   "source": []
  }
 ],
 "metadata": {
  "kernelspec": {
   "display_name": "Python 3",
   "language": "python",
   "name": "python3"
  },
  "language_info": {
   "codemirror_mode": {
    "name": "ipython",
    "version": 3
   },
   "file_extension": ".py",
   "mimetype": "text/x-python",
   "name": "python",
   "nbconvert_exporter": "python",
   "pygments_lexer": "ipython3",
   "version": "3.8.10"
  }
 },
 "nbformat": 4,
 "nbformat_minor": 4
}
