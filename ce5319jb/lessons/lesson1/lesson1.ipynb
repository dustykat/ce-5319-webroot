{
 "cells": [
  {
   "cell_type": "markdown",
   "metadata": {},
   "source": [
    "# CE 5319 Machine Learning for Civil Engineers"
   ]
  },
  {
   "cell_type": "markdown",
   "metadata": {},
   "source": [
    "## Why study machine learning?\n",
    "\n",
    "The availability of big data is transforming Civil Engineering profession. Data-driven tools and\n",
    "algorithms have the promise to model nonlinear civil engineering phenomena and extract\n",
    "information that is not possible through traditional modeling methods. Machine learning is a fast-\n",
    "growing field and its use in civil engineering will likely become routine in the next few years. The\n",
    "primary objective of this course is to provide a theoretical introduction and exposure to ML\n",
    "applications in Civil Engineering."
   ]
  },
  {
   "cell_type": "markdown",
   "metadata": {},
   "source": [
    "## Computational Environment\n",
    "\n",
    "The course itself is mathematically oriented and will require developing scripts (computer programs).  The default computational environment is a Jupyter Notebook running an iPython kernel.\n",
    "\n",
    ":::{note}\n",
    "In fact this on-line document is a collection of Jupyter Notebooks rendered using a program called Sphinx that converts the notebooks into a website (which you are now accessing).  For me the author its cool because I just make notebooks and bind them at my leisure (there are some nuances to get figures into the books and embedding code - but its not too hard to do so.  Jupyter as a literate programming environment is quite useful even outside of the University.\n",
    ":::\n",
    "\n",
    "### Why Python?\n",
    "A skilled user can install an R kernel into Jupyter and run R scripts.  I tend to use python because I also teach undergraduate programming in python and don't want to confuse myself.  I am literate in R, but prefer python slightly.  So we will default to python unless something is way easier in R (and will probably still do a mixed language call in that instance!).\n",
    "\n",
    "\n",
    "No prior experience with Python or R are required, but familiarity with programming concepts covered in ENGR 1330: Computational Thinking with Data Science and in CE 5315: Probabilistic Methods for Engineers is expected. Students are strongly encouraged to take CE 5310 Numerical Methods in Engineering prior to this\n",
    "course.\n",
    "\n",
    "The two computational environments can be downloaded and installed from\n",
    "\n",
    "|Software Title |Internet Source Link|\n",
    "|---|---|\n",
    "|Anaconda: A modeling environment that integrates Jupyter and Python |[https://www.anaconda.com/](https://www.anaconda.com/)|\n",
    "|R statistical and programming environment|[https://cran.r-project.org/](https://cran.r-project.org/)|\n",
    "\n",
    "\n"
   ]
  },
  {
   "cell_type": "code",
   "execution_count": null,
   "metadata": {},
   "outputs": [],
   "source": []
  }
 ],
 "metadata": {
  "kernelspec": {
   "display_name": "Python 3",
   "language": "python",
   "name": "python3"
  },
  "language_info": {
   "codemirror_mode": {
    "name": "ipython",
    "version": 3
   },
   "file_extension": ".py",
   "mimetype": "text/x-python",
   "name": "python",
   "nbconvert_exporter": "python",
   "pygments_lexer": "ipython3",
   "version": "3.8.10"
  }
 },
 "nbformat": 4,
 "nbformat_minor": 4
}
