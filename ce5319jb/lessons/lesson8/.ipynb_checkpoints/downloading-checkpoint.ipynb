{
 "cells": [
  {
   "cell_type": "markdown",
   "metadata": {},
   "source": [
    "# Downloading Remote Data\n",
    "\n",
    "For machine learning to be useful, it needs data, and large quantities (expressed as records in a database - millions of records; expressed as bytes thousands of terabytes).  Manual collection of such data for data science is impractical, so we want to automate where practical.\n",
    "\n",
    "There are a lot of data science blog posts with databases you can download usually as a single compressed file (.zip, .tar, ....); however these examples hide the actual workflow of a data science project.  More likely you will have to visit (automated) multiple websites, identify a collection of useful files then get them to your machine for processing.  In this section some examples are presented mostly as an archive of potentially useful techniques.\n",
    "\n",
    ":::{warning}\n",
    "Good luck if these work for you as is, you will have to tinker until you can automate the process reliably. Be careful with destination directories that you don't clobber your own file system when doing recursive traverse of a remote website.  \n",
    ":::\n"
   ]
  },
  {
   "cell_type": "markdown",
   "metadata": {},
   "source": [
    "## Tools for use\n",
    "\n",
    "A few useful modules are `requests` and `wget`; there are a few others `curl` comes to mind.  In Jupyter Notebooks downloading single files is relatively straightforward; downloading multiple files is tricky, but the most realistic representation of actual workflow.  \n",
    "\n",
    "For multiple files I resort to operating system calls using various Magic Functions as are illustrated.  The examples herein are assuming a Linux (Debian-based) operating system, so Windoze users will have to find equivalents (or use the WSL feature in Windoze)"
   ]
  },
  {
   "cell_type": "markdown",
   "metadata": {},
   "source": []
  },
  {
   "cell_type": "markdown",
   "metadata": {},
   "source": [
    "## Example 1 Evaporation Trend Examination\n",
    "\n",
    "Keep in mind the example herein is about data acquisition.\n",
    "\n",
    "### Background\n",
    "Global warming is a currently popular and hotly (pun intended) debated issue. \n",
    "The usual evidence is temperature data presented as a time series with various temporal correlations to industrial activity and so forth. The increase in the global temperature is not disputed - what it means for society and how to respond is widely disputed.\n",
    "\n",
    "One possible consequence of warming, regardless of the cause is an expectation that\n",
    "<strong>evaportation rates would increase</strong> and temperate regions would experience more\n",
    "drought and famine, and firm water yields would drop. \n",
    "\n",
    "However in a paper by Peterson and others (1995) the authors concluded from analysis of pan evaporation data in various parts of the world, that there has been a <strong>downward trend in evaporation</strong> at a significance level of 99%. \n",
    "Pan evaporation is driven as much by direct solar radiation (sun shining on water) as by surrounding air temperature.\n",
    "\n",
    "Global dimming is defined as the decrease in the amounts of solar radiation reaching the surface of the Earth. The by-product of fossil fuels is tiny particles or pollutants which absorb solar energy and reflect back sunlight into space. This phenomenon was first recognized in the year 1950. Scientists believe that since 1950, the sun’s energy reaching Earth has dropped by 9% in Antarctica, 10% in the USA, 16% in parts of Europe and 30% in Russia – putting the overall average drop to be at an enormous 22%. This causes a high risk to our environment.\n",
    "\n",
    "Aerosols have been found to be the major cause of global dimming. The burning of fossil fuels by industry and internal combustion engines emits by-products such as sulfur dioxide, soot, and ash. These together form particulate pollution—primarily called aerosols. Aerosols act as a precursor to global dimming in the following two ways:\n",
    "\n",
    "These particle matters enter the atmosphere and directly absorb solar energy and reflect radiation back into space before it reaches the planet’s surface.\n",
    "Water droplets containing these air-borne particles form polluted clouds. These polluted clouds have a heavier and larger number of droplets. These changed properties of the cloud – such clouds are called ‘brown clouds’ – makes them more reflective.\n",
    "Vapors emitted from the planes flying high in the sky called contrails are another cause of heat reflection and related global dimming.\n",
    "\n",
    "Both global dimming and global warming have been happening all over the world and together they have caused severe changes in the rainfall patterns. It is also believed that it was global dimming behind the 1984 Saharan drought that killed millions of people in sub-Saharan Africa. Scientists believe that despite the cooling effect created by global dimming, the earth’s temperature has increased by more than 1 deg. in the last century.\n",
    "\n",
    "### References\n",
    "\n",
    "[Peterson, T.C., Golubev, V.S. and Groisman, P. Ya. 1995. Evaporation\n",
    "losing its strength. Nature 377: 687-688.](http://54.243.252.9/ce-5319-webroot/ce5319jb/lessons/lesson8/Peterson-Nature1995-377.pdf)\n",
    "\n",
    "https://www.conserve-energy-future.com/causes-and-effects-of-global-dimming.php\n",
    "\n",
    "## Example Data Science Problem \n",
    "In Texas, evaporation rates (reported as inches per month) are available from the Texas Water Development Board.\n",
    "https://waterdatafortexas.org/lake-evaporation-rainfall\n",
    "The map below shows the quadrants (grid cells) for which data are tabulated.\n",
    "\n",
    "![figure1](EvapMap.png)\n",
    "\n",
    "Cell '911' is located between Corpus Christi and Houston in the Coastal Plains of Texas.  A copy of the dataset downloaded from the Texas Water Development Board is located at http://www.rtfmps.com/share_files/all_quads_gross_evaporation.csv\n",
    "\n",
    "Using naive data science anlayze the data for Cell '911' and decide if the conclusions by Peterson and others (1995) are supported by this data.\n"
   ]
  },
  {
   "cell_type": "markdown",
   "metadata": {},
   "source": [
    "### Exploratory Analysis\n",
    "To analyze these data a first step is to obtain the data.  The knowlwdge that the data are arranged in a file with a ``.csv`` extension is a clue how to proceede.  We will need a module to interface with the remote server, in this example lets use ``requests`` , which allows us to make GET and POST requests using the HTTP/HTTPS protocols to interact with web servers. So first we load the module"
   ]
  },
  {
   "cell_type": "code",
   "execution_count": 1,
   "metadata": {},
   "outputs": [],
   "source": [
    "import requests # Module to process http/https requests"
   ]
  },
  {
   "cell_type": "markdown",
   "metadata": {},
   "source": [
    "Now we will generate a ``GET`` request to the remote http server.  I chose to do so using a variable to store the remote URL so I can reuse code in future projects.  The ``GET`` request (an http/https method) is generated with the requests method ``get`` and assigned to an object named ``rget`` -- the name is arbitrary.  Next we extract the file from the ``rget`` object and write it to a local file with the name of the remote file - esentially automating the download process. Then we import the ``pandas`` module."
   ]
  },
  {
   "cell_type": "code",
   "execution_count": 2,
   "metadata": {},
   "outputs": [],
   "source": [
    "remote_url=\"http://54.243.252.9/ce-5319-webroot/ce5319jb/lessons/lesson8/all_quads_gross_evaporation.csv\"  # set the url\n",
    "response = requests.get(remote_url, allow_redirects=True)  # get the remote resource, follow imbedded links\n",
    "open('all_quads_gross_evaporation.csv','wb').write(response.content) # extract from the remote the contents, assign to a local file same name"
   ]
  },
  {
   "cell_type": "code",
   "execution_count": 17,
   "metadata": {},
   "outputs": [],
   "source": [
    "import pandas as pd # Module to process dataframes\n",
    "import matplotlib.pyplot "
   ]
  },
  {
   "cell_type": "code",
   "execution_count": 2,
   "metadata": {},
   "outputs": [],
   "source": [
    "ewhat easier than using primatives, and gives graphing tools)"
   ]
  },
  {
   "cell_type": "markdown",
   "metadata": {},
   "source": [
    "Now we can read the file contents and check its structure, before proceeding."
   ]
  },
  {
   "cell_type": "code",
   "execution_count": 6,
   "metadata": {},
   "outputs": [
    {
     "data": {
      "text/html": [
       "<div>\n",
       "<style scoped>\n",
       "    .dataframe tbody tr th:only-of-type {\n",
       "        vertical-align: middle;\n",
       "    }\n",
       "\n",
       "    .dataframe tbody tr th {\n",
       "        vertical-align: top;\n",
       "    }\n",
       "\n",
       "    .dataframe thead th {\n",
       "        text-align: right;\n",
       "    }\n",
       "</style>\n",
       "<table border=\"1\" class=\"dataframe\">\n",
       "  <thead>\n",
       "    <tr style=\"text-align: right;\">\n",
       "      <th></th>\n",
       "      <th>YYYY-MM</th>\n",
       "      <th>104</th>\n",
       "      <th>105</th>\n",
       "      <th>106</th>\n",
       "      <th>107</th>\n",
       "      <th>108</th>\n",
       "      <th>204</th>\n",
       "      <th>205</th>\n",
       "      <th>206</th>\n",
       "      <th>207</th>\n",
       "      <th>...</th>\n",
       "      <th>911</th>\n",
       "      <th>912</th>\n",
       "      <th>1008</th>\n",
       "      <th>1009</th>\n",
       "      <th>1010</th>\n",
       "      <th>1011</th>\n",
       "      <th>1108</th>\n",
       "      <th>1109</th>\n",
       "      <th>1110</th>\n",
       "      <th>1210</th>\n",
       "    </tr>\n",
       "  </thead>\n",
       "  <tbody>\n",
       "    <tr>\n",
       "      <th>0</th>\n",
       "      <td>1954-01</td>\n",
       "      <td>1.80</td>\n",
       "      <td>1.80</td>\n",
       "      <td>2.02</td>\n",
       "      <td>2.24</td>\n",
       "      <td>2.24</td>\n",
       "      <td>2.34</td>\n",
       "      <td>1.89</td>\n",
       "      <td>1.80</td>\n",
       "      <td>1.99</td>\n",
       "      <td>...</td>\n",
       "      <td>1.42</td>\n",
       "      <td>1.30</td>\n",
       "      <td>2.50</td>\n",
       "      <td>2.42</td>\n",
       "      <td>1.94</td>\n",
       "      <td>1.29</td>\n",
       "      <td>2.59</td>\n",
       "      <td>2.49</td>\n",
       "      <td>2.22</td>\n",
       "      <td>2.27</td>\n",
       "    </tr>\n",
       "    <tr>\n",
       "      <th>1</th>\n",
       "      <td>1954-02</td>\n",
       "      <td>4.27</td>\n",
       "      <td>4.27</td>\n",
       "      <td>4.13</td>\n",
       "      <td>3.98</td>\n",
       "      <td>3.90</td>\n",
       "      <td>4.18</td>\n",
       "      <td>4.26</td>\n",
       "      <td>4.27</td>\n",
       "      <td>4.26</td>\n",
       "      <td>...</td>\n",
       "      <td>2.59</td>\n",
       "      <td>2.51</td>\n",
       "      <td>4.71</td>\n",
       "      <td>4.30</td>\n",
       "      <td>3.84</td>\n",
       "      <td>2.50</td>\n",
       "      <td>5.07</td>\n",
       "      <td>4.62</td>\n",
       "      <td>4.05</td>\n",
       "      <td>4.18</td>\n",
       "    </tr>\n",
       "    <tr>\n",
       "      <th>2</th>\n",
       "      <td>1954-03</td>\n",
       "      <td>4.98</td>\n",
       "      <td>4.98</td>\n",
       "      <td>4.62</td>\n",
       "      <td>4.25</td>\n",
       "      <td>4.20</td>\n",
       "      <td>5.01</td>\n",
       "      <td>4.98</td>\n",
       "      <td>4.98</td>\n",
       "      <td>4.68</td>\n",
       "      <td>...</td>\n",
       "      <td>3.21</td>\n",
       "      <td>3.21</td>\n",
       "      <td>6.21</td>\n",
       "      <td>6.06</td>\n",
       "      <td>5.02</td>\n",
       "      <td>3.21</td>\n",
       "      <td>6.32</td>\n",
       "      <td>6.20</td>\n",
       "      <td>5.68</td>\n",
       "      <td>5.70</td>\n",
       "    </tr>\n",
       "    <tr>\n",
       "      <th>3</th>\n",
       "      <td>1954-04</td>\n",
       "      <td>6.09</td>\n",
       "      <td>5.94</td>\n",
       "      <td>5.94</td>\n",
       "      <td>6.07</td>\n",
       "      <td>5.27</td>\n",
       "      <td>6.31</td>\n",
       "      <td>5.98</td>\n",
       "      <td>5.89</td>\n",
       "      <td>5.72</td>\n",
       "      <td>...</td>\n",
       "      <td>3.83</td>\n",
       "      <td>3.54</td>\n",
       "      <td>6.45</td>\n",
       "      <td>6.25</td>\n",
       "      <td>4.92</td>\n",
       "      <td>3.54</td>\n",
       "      <td>6.59</td>\n",
       "      <td>6.44</td>\n",
       "      <td>5.88</td>\n",
       "      <td>5.95</td>\n",
       "    </tr>\n",
       "    <tr>\n",
       "      <th>4</th>\n",
       "      <td>1954-05</td>\n",
       "      <td>5.41</td>\n",
       "      <td>5.09</td>\n",
       "      <td>5.14</td>\n",
       "      <td>4.40</td>\n",
       "      <td>3.61</td>\n",
       "      <td>5.57</td>\n",
       "      <td>4.56</td>\n",
       "      <td>4.47</td>\n",
       "      <td>4.18</td>\n",
       "      <td>...</td>\n",
       "      <td>3.48</td>\n",
       "      <td>3.97</td>\n",
       "      <td>7.92</td>\n",
       "      <td>8.13</td>\n",
       "      <td>6.31</td>\n",
       "      <td>3.99</td>\n",
       "      <td>7.75</td>\n",
       "      <td>7.98</td>\n",
       "      <td>7.40</td>\n",
       "      <td>7.40</td>\n",
       "    </tr>\n",
       "  </tbody>\n",
       "</table>\n",
       "<p>5 rows × 93 columns</p>\n",
       "</div>"
      ],
      "text/plain": [
       "   YYYY-MM   104   105   106   107   108   204   205   206   207  ...   911  \\\n",
       "0  1954-01  1.80  1.80  2.02  2.24  2.24  2.34  1.89  1.80  1.99  ...  1.42   \n",
       "1  1954-02  4.27  4.27  4.13  3.98  3.90  4.18  4.26  4.27  4.26  ...  2.59   \n",
       "2  1954-03  4.98  4.98  4.62  4.25  4.20  5.01  4.98  4.98  4.68  ...  3.21   \n",
       "3  1954-04  6.09  5.94  5.94  6.07  5.27  6.31  5.98  5.89  5.72  ...  3.83   \n",
       "4  1954-05  5.41  5.09  5.14  4.40  3.61  5.57  4.56  4.47  4.18  ...  3.48   \n",
       "\n",
       "    912  1008  1009  1010  1011  1108  1109  1110  1210  \n",
       "0  1.30  2.50  2.42  1.94  1.29  2.59  2.49  2.22  2.27  \n",
       "1  2.51  4.71  4.30  3.84  2.50  5.07  4.62  4.05  4.18  \n",
       "2  3.21  6.21  6.06  5.02  3.21  6.32  6.20  5.68  5.70  \n",
       "3  3.54  6.45  6.25  4.92  3.54  6.59  6.44  5.88  5.95  \n",
       "4  3.97  7.92  8.13  6.31  3.99  7.75  7.98  7.40  7.40  \n",
       "\n",
       "[5 rows x 93 columns]"
      ]
     },
     "execution_count": 6,
     "metadata": {},
     "output_type": "execute_result"
    }
   ],
   "source": [
    "#evapdf = pd.read_csv(\"all_quads_gross_evaporation.csv\",parse_dates=[\"YYYY-MM\"]) # Read the file as a .CSV assign to a dataframe evapdf\n",
    "evapdf = pd.read_csv(\"all_quads_gross_evaporation.csv\") # Read the file as a .CSV assign to a dataframe evapdf\n",
    "\n",
    "evapdf.head() # check structure"
   ]
  },
  {
   "cell_type": "markdown",
   "metadata": {},
   "source": [
    "Structure looks like a spreadsheet as expected; lets plot the time series for cell '911'"
   ]
  },
  {
   "cell_type": "code",
   "execution_count": 7,
   "metadata": {},
   "outputs": [
    {
     "data": {
      "text/plain": [
       "<AxesSubplot:xlabel='YYYY-MM'>"
      ]
     },
     "execution_count": 7,
     "metadata": {},
     "output_type": "execute_result"
    },
    {
     "data": {
      "image/png": "[encoded data removed]",
      "text/plain": [
       "<Figure size 432x288 with 1 Axes>"
      ]
     },
     "metadata": {
      "needs_background": "light"
     },
     "output_type": "display_data"
    }
   ],
   "source": [
    "evapdf.plot.line(x='YYYY-MM',y='911') # Plot quadrant 911 evaporation time series "
   ]
  },
  {
   "cell_type": "markdown",
   "metadata": {},
   "source": [
    "Now we can see that the signal indeed looks like it is going up at its mean value then back down. Lets try a moving average over 12-month windows. The syntax is a bit weird, but it should dampen the high frequency (monthly) part of the signal.  Sure enough there is a downaward trend at about month 375, which we recover the date using the index -- in this case around 1985.\n"
   ]
  },
  {
   "cell_type": "code",
   "execution_count": 8,
   "metadata": {},
   "outputs": [
    {
     "data": {
      "text/plain": [
       "'1985-04'"
      ]
     },
     "execution_count": 8,
     "metadata": {},
     "output_type": "execute_result"
    },
    {
     "data": {
      "image/png": "[encoded data removed]",
      "text/plain": [
       "<Figure size 432x288 with 1 Axes>"
      ]
     },
     "metadata": {
      "needs_background": "light"
     },
     "output_type": "display_data"
    }
   ],
   "source": [
    "movingAvg=evapdf['911'].rolling(12, win_type ='boxcar').mean()\n",
    "movingAvg\n",
    "movingAvg.plot.line(x='YYYY-MM',y='911')\n",
    "evapdf['YYYY-MM'][375]"
   ]
  },
  {
   "cell_type": "markdown",
   "metadata": {},
   "source": [
    "So now lets split the dataframe at April 1985.  Here we will build two objects and can compare them.  Notice how we have split into two entire dataframes."
   ]
  },
  {
   "cell_type": "code",
   "execution_count": 9,
   "metadata": {},
   "outputs": [
    {
     "name": "stdout",
     "output_type": "stream",
     "text": [
      "   YYYY-MM   104   105   106   107   108   204   205   206   207  ...   911  \\\n",
      "0  1954-01  1.80  1.80  2.02  2.24  2.24  2.34  1.89  1.80  1.99  ...  1.42   \n",
      "1  1954-02  4.27  4.27  4.13  3.98  3.90  4.18  4.26  4.27  4.26  ...  2.59   \n",
      "2  1954-03  4.98  4.98  4.62  4.25  4.20  5.01  4.98  4.98  4.68  ...  3.21   \n",
      "3  1954-04  6.09  5.94  5.94  6.07  5.27  6.31  5.98  5.89  5.72  ...  3.83   \n",
      "4  1954-05  5.41  5.09  5.14  4.40  3.61  5.57  4.56  4.47  4.18  ...  3.48   \n",
      "\n",
      "    912  1008  1009  1010  1011  1108  1109  1110  1210  \n",
      "0  1.30  2.50  2.42  1.94  1.29  2.59  2.49  2.22  2.27  \n",
      "1  2.51  4.71  4.30  3.84  2.50  5.07  4.62  4.05  4.18  \n",
      "2  3.21  6.21  6.06  5.02  3.21  6.32  6.20  5.68  5.70  \n",
      "3  3.54  6.45  6.25  4.92  3.54  6.59  6.44  5.88  5.95  \n",
      "4  3.97  7.92  8.13  6.31  3.99  7.75  7.98  7.40  7.40  \n",
      "\n",
      "[5 rows x 93 columns]\n",
      "     YYYY-MM   104    105    106   107   108   204    205    206   207  ...  \\\n",
      "375  1985-04  5.31   6.27   6.75  6.92  4.76  5.32   6.72   6.83  7.04  ...   \n",
      "376  1985-05  4.80   5.64   5.51  5.47  5.43  4.90   6.62   6.37  6.13  ...   \n",
      "377  1985-06  6.61   9.00   9.05  8.66  8.33  6.39   8.62   8.33  7.55  ...   \n",
      "378  1985-07  7.21  10.99  11.10  9.73  8.56  7.30  10.11  10.33  9.40  ...   \n",
      "379  1985-08  6.56   9.66   9.76  8.48  7.38  6.31   8.85   8.55  7.45  ...   \n",
      "\n",
      "      911   912  1008  1009  1010  1011  1108  1109  1110  1210  \n",
      "375  4.16  4.45  5.26  5.06  4.91  4.41  6.24  5.58  4.81  4.63  \n",
      "376  5.87  5.17  5.19  5.66  5.69  5.86  5.63  5.59  5.63  5.71  \n",
      "377  6.60  6.46  5.91  5.98  6.03  6.41  6.33  6.17  6.38  6.12  \n",
      "378  7.56  6.64  6.50  7.18  7.09  7.41  7.10  7.18  7.13  7.27  \n",
      "379  8.37  6.93  7.76  8.44  8.72  8.52  8.09  7.94  8.35  8.57  \n",
      "\n",
      "[5 rows x 93 columns]\n"
     ]
    }
   ],
   "source": [
    "evB485loc = evapdf['YYYY-MM']<'1985-04'  # filter before 1985\n",
    "evB485 = evapdf[evB485loc]\n",
    "ev85uploc = evapdf['YYYY-MM']>='1985-04' # filter after 1985\n",
    "ev85up= evapdf[ev85uploc]\n",
    "print(evB485.head())\n",
    "print(ev85up.head())"
   ]
  },
  {
   "cell_type": "markdown",
   "metadata": {},
   "source": [
    "Now lets get some simple descriptions of the two objects, and we will ignore thay they are time series."
   ]
  },
  {
   "cell_type": "code",
   "execution_count": 10,
   "metadata": {},
   "outputs": [
    {
     "data": {
      "text/plain": [
       "count    375.000000\n",
       "mean       4.202480\n",
       "std        1.774273\n",
       "min        1.260000\n",
       "25%        2.665000\n",
       "50%        3.900000\n",
       "75%        5.455000\n",
       "max        8.800000\n",
       "Name: 911, dtype: float64"
      ]
     },
     "execution_count": 10,
     "metadata": {},
     "output_type": "execute_result"
    }
   ],
   "source": [
    "evB485['911'].describe()"
   ]
  },
  {
   "cell_type": "code",
   "execution_count": 11,
   "metadata": {},
   "outputs": [
    {
     "data": {
      "text/plain": [
       "count    417.000000\n",
       "mean       4.167458\n",
       "std        1.676704\n",
       "min        1.230000\n",
       "25%        2.680000\n",
       "50%        4.160000\n",
       "75%        5.410000\n",
       "max        9.560000\n",
       "Name: 911, dtype: float64"
      ]
     },
     "execution_count": 11,
     "metadata": {},
     "output_type": "execute_result"
    }
   ],
   "source": [
    "ev85up['911'].describe()"
   ]
  },
  {
   "cell_type": "markdown",
   "metadata": {},
   "source": [
    "If we look at the means, the after 1985 is lower, and the SD about the same, so there is maybe support of the paper claims, but the median has increased while the IQR is practically unchanged.  We can produce boxplots from the two objects and see they are different, but not by much.  So the conclusion of the paper has support but its pretty weak and hardly statisticlly significant. "
   ]
  },
  {
   "cell_type": "code",
   "execution_count": 20,
   "metadata": {},
   "outputs": [
    {
     "data": {
      "text/plain": [
       "<AxesSubplot:>"
      ]
     },
     "execution_count": 20,
     "metadata": {},
     "output_type": "execute_result"
    },
    {
     "data": {
      "image/png": "[encoded data removed]",
      "text/plain": [
       "<Figure size 432x288 with 1 Axes>"
      ]
     },
     "metadata": {
      "needs_background": "light"
     },
     "output_type": "display_data"
    }
   ],
   "source": [
    "evB485['911'].plot.box()"
   ]
  },
  {
   "cell_type": "code",
   "execution_count": 21,
   "metadata": {},
   "outputs": [
    {
     "data": {
      "text/plain": [
       "<AxesSubplot:>"
      ]
     },
     "execution_count": 21,
     "metadata": {},
     "output_type": "execute_result"
    },
    {
     "data": {
      "image/png": "[encoded data removed]",
      "text/plain": [
       "<Figure size 432x288 with 1 Axes>"
      ]
     },
     "metadata": {
      "needs_background": "light"
     },
     "output_type": "display_data"
    }
   ],
   "source": [
    "ev85up['911'].plot.box()"
   ]
  },
  {
   "cell_type": "markdown",
   "metadata": {},
   "source": [
    "At this point, we would appeal to some kind of hypothesis testing or some other serious statistical analysis tools.  For example a non-paramatric test called the ``mannwhitneyu`` test is pretty quick to implement \n",
    "\n",
    "### Background\n",
    "In statistics, the Mann–Whitney U test (also called the Mann–Whitney–Wilcoxon (MWW), Wilcoxon rank-sum test, or Wilcoxon–Mann–Whitney test) is a nonparametric test of the null hypothesis that it is equally likely that a randomly selected value from one population will be less than or greater than a randomly selected value from a second population.\n",
    "\n",
    "This test can be used to investigate whether two independent samples were selected from populations having the same distribution.\n",
    "\n",
    "## Application\n",
    "As usual we need to import necessary tools, in this case scipy.stats.  Based on the module name, it looks like a collection of methods (the dot ``.`` is the giveaway).  The test itself is applied to the two objects, if there is a statistical change in behavior we expect the two collections of records to be different."
   ]
  },
  {
   "cell_type": "code",
   "execution_count": 26,
   "metadata": {},
   "outputs": [
    {
     "name": "stdout",
     "output_type": "stream",
     "text": [
      "statistic=78184.500, p-value at rejection =0.500\n",
      "Difference in Mean Values 0.035 is not significant\n"
     ]
    }
   ],
   "source": [
    "from scipy.stats import mannwhitneyu # import a useful non-parametric test\n",
    "stat, p = mannwhitneyu(evB485['911'],ev85up['911'])\n",
    "\n",
    "print('statistic=%.3f, p-value at rejection =%.3f' % (stat, p))\n",
    "if p > 0.05:\n",
    "\tprint('Difference in Mean Values',round(evB485['911'].mean()-ev85up['911'].mean(),3),'is not significant')\n",
    "else:\n",
    "\tprint('Difference in Mean Values',round(evB485['911'].mean()-ev85up['911'].mean(),3),'is SIGNIFICANT')"
   ]
  },
  {
   "cell_type": "markdown",
   "metadata": {},
   "source": [
    "If there were indeed a 99% significance level, the p-value should have been smaller than 0.05 (two-tailed) and the p-value was quite high.  I usually check that I wrote the script by testing he same distribution against itself, I should get a p-value of 0.5.  Indeed that's the case.  "
   ]
  },
  {
   "cell_type": "code",
   "execution_count": 29,
   "metadata": {},
   "outputs": [
    {
     "name": "stdout",
     "output_type": "stream",
     "text": [
      "statistic=70312.500, p-value at rejection =0.500\n",
      "Difference in Mean Values 0.0 is not significant\n"
     ]
    }
   ],
   "source": [
    "stat, p = mannwhitneyu(evB485['911'],evB485['911'])\n",
    "print('statistic=%.3f, p-value at rejection =%.3f' % (stat, p))\n",
    "if p > 0.05:\n",
    "\tprint('Difference in Mean Values',round(evB485['911'].mean()-evB485['911'].mean(),3),'is not significant')\n",
    "else:\n",
    "\tprint('Difference in Mean Values',round(evB485['911'].mean()-evB485['911'].mean(),3),'is SIGNIFICANT')"
   ]
  },
  {
   "cell_type": "markdown",
   "metadata": {},
   "source": [
    "Now lets repeat the analysis but break in 1992 when Clean Air Act rules were slightly relaxed:"
   ]
  },
  {
   "cell_type": "code",
   "execution_count": 31,
   "metadata": {},
   "outputs": [],
   "source": [
    "evB492loc = evapdf['YYYY-MM']<'1992'  # filter before 1992\n",
    "evB492 = evapdf[evB492loc]\n",
    "ev92uploc = evapdf['YYYY-MM']>='1992' # filter after 1992\n",
    "ev92up= evapdf[ev92uploc]\n",
    "#print(evB492.head())\n",
    "#print(ev92up.head())"
   ]
  },
  {
   "cell_type": "code",
   "execution_count": 32,
   "metadata": {},
   "outputs": [
    {
     "name": "stdout",
     "output_type": "stream",
     "text": [
      "statistic=72195.000, p-value at rejection =0.083\n",
      "Difference in Mean Values 0.217 is not significant\n"
     ]
    }
   ],
   "source": [
    "stat, p = mannwhitneyu(evB492['911'],ev92up['911'])\n",
    "print('statistic=%.3f, p-value at rejection =%.3f' % (stat, p))\n",
    "if p > 0.05:\n",
    "\tprint('Difference in Mean Values',round(evB492['911'].mean()-ev92up['911'].mean(),3),'is not significant')\n",
    "else:\n",
    "\tprint('Difference in Mean Values',round(evB492['911'].mean()-ev92up['911'].mean(),3),'is SIGNIFICANT')"
   ]
  },
  {
   "cell_type": "markdown",
   "metadata": {},
   "source": [
    "So even considering the key date of 1992, there is insufficient evidence for the claims (for a single spot in Texas), and one could argue that the claims are confounding -- as an FYI this eventually was a controversial paper because other researchers obtained similar results using subsets (by location) of the evaporation data.\n"
   ]
  },
  {
   "cell_type": "code",
   "execution_count": null,
   "metadata": {},
   "outputs": [],
   "source": []
  },
  {
   "cell_type": "code",
   "execution_count": null,
   "metadata": {},
   "outputs": [],
   "source": []
  }
 ],
 "metadata": {
  "kernelspec": {
   "display_name": "Python 3",
   "language": "python",
   "name": "python3"
  },
  "language_info": {
   "codemirror_mode": {
    "name": "ipython",
    "version": 3
   },
   "file_extension": ".py",
   "mimetype": "text/x-python",
   "name": "python",
   "nbconvert_exporter": "python",
   "pygments_lexer": "ipython3",
   "version": "3.8.10"
  }
 },
 "nbformat": 4,
 "nbformat_minor": 4
}
