{
 "cells": [
  {
   "cell_type": "code",
   "execution_count": 1,
   "metadata": {},
   "outputs": [
    {
     "data": {
      "image/png": "[encoded data removed]",
      "text/plain": [
       "<Figure size 432x288 with 1 Axes>"
      ]
     },
     "metadata": {
      "needs_background": "light"
     },
     "output_type": "display_data"
    }
   ],
   "source": [
    "import numpy              # useful numerical routines\n",
    "import scipy.special      # special functions library\n",
    "import scipy.misc         # image processing code\n",
    "import imageio            # image processing library\n",
    "import matplotlib.pyplot  # import plotting routines\n",
    "import warnings           # suppress warnings\n",
    "warnings.filterwarnings('ignore') \n",
    "img_array = imageio.imread(\"cat784.png\", as_gray = True)\n",
    "img_data1 = 255.0 - img_array.reshape(784)\n",
    "img_data1 = ((img_data1/255.0)*0.99) + 0.01\n",
    "matplotlib.pyplot.imshow(numpy.asfarray(img_data1).reshape((28,28)),cmap = 'Greys') # construct a graphic object #\n",
    "matplotlib.pyplot.show() # show the graphic object to a window #\n",
    "matplotlib.pyplot.close('all')"
   ]
  },
  {
   "cell_type": "code",
   "execution_count": 2,
   "metadata": {},
   "outputs": [
    {
     "name": "stdout",
     "output_type": "stream",
     "text": [
      "[0.6  0.56 0.57 0.57 0.69 0.87 0.85 0.86 0.86 0.88 0.89 0.88 0.88 0.87\n",
      " 0.85 0.86 0.9  0.92 0.92 0.92 0.89 0.78 0.63 0.59 0.55 0.57 0.69 0.61] \n",
      "\n",
      "[0.63 0.55 0.56 0.58 0.58 0.8  0.88 0.81 0.79 0.78 0.78 0.79 0.81 0.82\n",
      " 0.8  0.79 0.78 0.81 0.8  0.79 0.74 0.67 0.65 0.6  0.62 0.67 0.77 0.61] \n",
      "\n",
      "[0.66 0.57 0.57 0.57 0.54 0.57 0.83 0.8  0.71 0.69 0.71 0.73 0.74 0.73\n",
      " 0.74 0.72 0.71 0.74 0.71 0.73 0.64 0.68 0.65 0.59 0.58 0.66 0.78 0.59] \n",
      "\n",
      "[0.78 0.59 0.61 0.6  0.54 0.51 0.67 0.76 0.65 0.63 0.68 0.68 0.68 0.68\n",
      " 0.7  0.69 0.69 0.66 0.66 0.73 0.65 0.68 0.7  0.7  0.68 0.73 0.8  0.6 ] \n",
      "\n",
      "[0.79 0.69 0.66 0.62 0.55 0.53 0.57 0.64 0.6  0.58 0.67 0.66 0.65 0.66\n",
      " 0.66 0.68 0.67 0.66 0.6  0.69 0.64 0.6  0.67 0.68 0.69 0.76 0.8  0.53] \n",
      "\n",
      "[0.72 0.71 0.67 0.57 0.53 0.51 0.52 0.56 0.57 0.58 0.67 0.61 0.61 0.61\n",
      " 0.63 0.65 0.7  0.67 0.61 0.61 0.62 0.58 0.63 0.67 0.74 0.83 0.81 0.55] \n",
      "\n",
      "[0.73 0.67 0.6  0.47 0.5  0.5  0.51 0.51 0.51 0.49 0.59 0.56 0.54 0.57\n",
      " 0.6  0.66 0.69 0.59 0.57 0.59 0.66 0.66 0.65 0.6  0.61 0.8  0.8  0.51] \n",
      "\n",
      "[0.83 0.63 0.55 0.51 0.48 0.46 0.44 0.44 0.42 0.42 0.53 0.56 0.52 0.56\n",
      " 0.57 0.69 0.61 0.52 0.51 0.55 0.6  0.63 0.64 0.65 0.68 0.76 0.75 0.49] \n",
      "\n",
      "[0.69 0.54 0.52 0.5  0.45 0.41 0.38 0.36 0.32 0.39 0.44 0.57 0.58 0.61\n",
      " 0.6  0.6  0.53 0.49 0.43 0.47 0.51 0.53 0.58 0.62 0.66 0.68 0.72 0.56] \n",
      "\n",
      "[0.56 0.53 0.49 0.46 0.38 0.35 0.36 0.27 0.26 0.44 0.37 0.57 0.63 0.7\n",
      " 0.66 0.5  0.54 0.51 0.33 0.39 0.48 0.47 0.49 0.54 0.56 0.59 0.65 0.53] \n",
      "\n",
      "[0.56 0.49 0.44 0.39 0.3  0.27 0.3  0.24 0.26 0.53 0.34 0.51 0.64 0.68\n",
      " 0.66 0.46 0.52 0.55 0.3  0.36 0.42 0.42 0.44 0.47 0.51 0.53 0.62 0.49] \n",
      "\n",
      "[0.52 0.43 0.41 0.37 0.24 0.27 0.34 0.33 0.24 0.47 0.34 0.47 0.57 0.62\n",
      " 0.6  0.47 0.51 0.55 0.4  0.44 0.42 0.39 0.42 0.51 0.5  0.49 0.6  0.52] \n",
      "\n",
      "[0.52 0.49 0.56 0.54 0.46 0.6  0.63 0.76 0.59 0.32 0.37 0.47 0.5  0.59\n",
      " 0.55 0.58 0.53 0.58 0.73 0.77 0.74 0.68 0.57 0.57 0.52 0.49 0.63 0.52] \n",
      "\n",
      "[0.6  0.62 0.58 0.5  0.45 0.52 0.55 0.9  0.71 0.43 0.29 0.43 0.44 0.52\n",
      " 0.59 0.63 0.52 0.77 0.71 0.84 0.8  0.72 0.71 0.68 0.68 0.65 0.68 0.54] \n",
      "\n",
      "[0.68 0.63 0.54 0.39 0.35 0.59 0.6  0.85 0.58 0.57 0.22 0.31 0.46 0.53\n",
      " 0.59 0.54 0.58 0.83 0.66 0.89 0.8  0.66 0.59 0.52 0.68 0.79 0.8  0.6 ] \n",
      "\n",
      "[0.62 0.53 0.56 0.49 0.3  0.51 0.6  0.58 0.58 0.69 0.25 0.28 0.45 0.56\n",
      " 0.57 0.46 0.62 0.91 0.74 0.72 0.71 0.65 0.45 0.52 0.72 0.79 0.84 0.63] \n",
      "\n",
      "[0.56 0.46 0.46 0.56 0.5  0.39 0.46 0.51 0.43 0.33 0.34 0.32 0.39 0.5\n",
      " 0.54 0.47 0.55 0.62 0.67 0.67 0.61 0.5  0.54 0.7  0.75 0.73 0.78 0.63] \n",
      "\n",
      "[0.63 0.56 0.47 0.48 0.51 0.5  0.46 0.34 0.21 0.37 0.49 0.39 0.36 0.44\n",
      " 0.53 0.57 0.62 0.48 0.34 0.42 0.52 0.62 0.71 0.76 0.72 0.71 0.75 0.61] \n",
      "\n",
      "[0.73 0.67 0.63 0.52 0.47 0.47 0.49 0.46 0.38 0.46 0.52 0.45 0.39 0.45\n",
      " 0.58 0.66 0.67 0.58 0.52 0.55 0.64 0.69 0.71 0.73 0.75 0.75 0.78 0.62] \n",
      "\n",
      "[0.7  0.68 0.65 0.62 0.59 0.56 0.49 0.39 0.38 0.46 0.54 0.48 0.39 0.45\n",
      " 0.59 0.71 0.66 0.6  0.58 0.61 0.71 0.74 0.77 0.78 0.81 0.8  0.82 0.63] \n",
      "\n",
      "[0.7  0.67 0.66 0.58 0.53 0.48 0.4  0.37 0.35 0.38 0.42 0.39 0.34 0.4\n",
      " 0.55 0.63 0.58 0.6  0.59 0.64 0.72 0.77 0.78 0.79 0.79 0.79 0.81 0.66] \n",
      "\n",
      "[0.84 0.67 0.61 0.6  0.54 0.45 0.31 0.39 0.39 0.29 0.32 0.47 0.45 0.52\n",
      " 0.66 0.63 0.49 0.55 0.67 0.7  0.7  0.72 0.72 0.74 0.75 0.74 0.81 0.67] \n",
      "\n",
      "[0.81 0.69 0.57 0.51 0.49 0.43 0.23 0.25 0.33 0.27 0.17 0.47 0.62 0.7\n",
      " 0.75 0.51 0.48 0.6  0.65 0.59 0.59 0.64 0.66 0.7  0.72 0.75 0.86 0.68] \n",
      "\n",
      "[0.85 0.83 0.7  0.58 0.53 0.45 0.31 0.27 0.3  0.24 0.19 0.25 0.56 0.71\n",
      " 0.53 0.44 0.49 0.54 0.6  0.61 0.67 0.71 0.72 0.71 0.74 0.81 0.88 0.68] \n",
      "\n",
      "[0.85 0.84 0.8  0.7  0.61 0.58 0.52 0.41 0.31 0.27 0.28 0.36 0.55 0.63\n",
      " 0.52 0.51 0.53 0.6  0.68 0.73 0.77 0.78 0.79 0.81 0.84 0.87 0.89 0.69] \n",
      "\n",
      "[0.89 0.86 0.83 0.82 0.78 0.72 0.68 0.64 0.53 0.47 0.46 0.53 0.62 0.65\n",
      " 0.63 0.61 0.65 0.73 0.79 0.82 0.83 0.83 0.84 0.87 0.89 0.9  0.92 0.71] \n",
      "\n",
      "[0.9  0.9  0.9  0.89 0.89 0.9  0.85 0.8  0.81 0.79 0.65 0.5  0.48 0.56\n",
      " 0.63 0.72 0.83 0.88 0.88 0.89 0.89 0.89 0.9  0.91 0.92 0.92 0.95 0.75] \n",
      "\n",
      "[0.65 0.65 0.64 0.64 0.63 0.62 0.64 0.64 0.63 0.63 0.62 0.52 0.41 0.45\n",
      " 0.51 0.6  0.63 0.63 0.64 0.64 0.64 0.63 0.64 0.65 0.64 0.64 0.67 0.53] \n",
      "\n"
     ]
    }
   ],
   "source": [
    "cat_data = numpy.asfarray(img_data1).reshape((28,28)) # extract image as 32-bit float\n",
    "for irow in range(28):\n",
    "    for jcol in range(28):\n",
    "        cat_data[irow][jcol]=round(cat_data[irow][jcol],2) # round to 2 digits\n",
    "    print(cat_data[irow][:],'\\n')"
   ]
  },
  {
   "cell_type": "code",
   "execution_count": null,
   "metadata": {},
   "outputs": [],
   "source": []
  }
 ],
 "metadata": {
  "kernelspec": {
   "display_name": "Python 3",
   "language": "python",
   "name": "python3"
  },
  "language_info": {
   "codemirror_mode": {
    "name": "ipython",
    "version": 3
   },
   "file_extension": ".py",
   "mimetype": "text/x-python",
   "name": "python",
   "nbconvert_exporter": "python",
   "pygments_lexer": "ipython3",
   "version": "3.8.10"
  }
 },
 "nbformat": 4,
 "nbformat_minor": 4
}