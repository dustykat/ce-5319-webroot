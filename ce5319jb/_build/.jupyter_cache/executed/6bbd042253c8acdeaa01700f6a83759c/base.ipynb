{
 "cells": [
  {
   "cell_type": "code",
   "execution_count": 1,
   "metadata": {},
   "outputs": [],
   "source": [
    "import requests # Module to process http/https requests"
   ]
  },
  {
   "cell_type": "code",
   "execution_count": 2,
   "metadata": {},
   "outputs": [
    {
     "data": {
      "text/plain": [
       "363498"
      ]
     },
     "execution_count": 2,
     "metadata": {},
     "output_type": "execute_result"
    }
   ],
   "source": [
    "remote_url=\"http://54.243.252.9/ce-5319-webroot/ce5319jb/lessons/lesson8/all_quads_gross_evaporation.csv\"  # set the url\n",
    "response = requests.get(remote_url, allow_redirects=True)  # get the remote resource, follow imbedded links\n",
    "open('all_quads_gross_evaporation.csv','wb').write(response.content) # extract from the remote the contents, assign to a local file same name"
   ]
  },
  {
   "cell_type": "code",
   "execution_count": 3,
   "metadata": {},
   "outputs": [],
   "source": [
    "import pandas as pd # Module to process dataframes\n",
    "import matplotlib.pyplot "
   ]
  },
  {
   "cell_type": "code",
   "execution_count": 4,
   "metadata": {},
   "outputs": [
    {
     "data": {
      "text/html": [
       "<div>\n",
       "<style scoped>\n",
       "    .dataframe tbody tr th:only-of-type {\n",
       "        vertical-align: middle;\n",
       "    }\n",
       "\n",
       "    .dataframe tbody tr th {\n",
       "        vertical-align: top;\n",
       "    }\n",
       "\n",
       "    .dataframe thead th {\n",
       "        text-align: right;\n",
       "    }\n",
       "</style>\n",
       "<table border=\"1\" class=\"dataframe\">\n",
       "  <thead>\n",
       "    <tr style=\"text-align: right;\">\n",
       "      <th></th>\n",
       "      <th>YYYY-MM</th>\n",
       "      <th>104</th>\n",
       "      <th>105</th>\n",
       "      <th>106</th>\n",
       "      <th>107</th>\n",
       "      <th>108</th>\n",
       "      <th>204</th>\n",
       "      <th>205</th>\n",
       "      <th>206</th>\n",
       "      <th>207</th>\n",
       "      <th>...</th>\n",
       "      <th>911</th>\n",
       "      <th>912</th>\n",
       "      <th>1008</th>\n",
       "      <th>1009</th>\n",
       "      <th>1010</th>\n",
       "      <th>1011</th>\n",
       "      <th>1108</th>\n",
       "      <th>1109</th>\n",
       "      <th>1110</th>\n",
       "      <th>1210</th>\n",
       "    </tr>\n",
       "  </thead>\n",
       "  <tbody>\n",
       "    <tr>\n",
       "      <th>0</th>\n",
       "      <td>1954-01</td>\n",
       "      <td>1.80</td>\n",
       "      <td>1.80</td>\n",
       "      <td>2.02</td>\n",
       "      <td>2.24</td>\n",
       "      <td>2.24</td>\n",
       "      <td>2.34</td>\n",
       "      <td>1.89</td>\n",
       "      <td>1.80</td>\n",
       "      <td>1.99</td>\n",
       "      <td>...</td>\n",
       "      <td>1.42</td>\n",
       "      <td>1.30</td>\n",
       "      <td>2.50</td>\n",
       "      <td>2.42</td>\n",
       "      <td>1.94</td>\n",
       "      <td>1.29</td>\n",
       "      <td>2.59</td>\n",
       "      <td>2.49</td>\n",
       "      <td>2.22</td>\n",
       "      <td>2.27</td>\n",
       "    </tr>\n",
       "    <tr>\n",
       "      <th>1</th>\n",
       "      <td>1954-02</td>\n",
       "      <td>4.27</td>\n",
       "      <td>4.27</td>\n",
       "      <td>4.13</td>\n",
       "      <td>3.98</td>\n",
       "      <td>3.90</td>\n",
       "      <td>4.18</td>\n",
       "      <td>4.26</td>\n",
       "      <td>4.27</td>\n",
       "      <td>4.26</td>\n",
       "      <td>...</td>\n",
       "      <td>2.59</td>\n",
       "      <td>2.51</td>\n",
       "      <td>4.71</td>\n",
       "      <td>4.30</td>\n",
       "      <td>3.84</td>\n",
       "      <td>2.50</td>\n",
       "      <td>5.07</td>\n",
       "      <td>4.62</td>\n",
       "      <td>4.05</td>\n",
       "      <td>4.18</td>\n",
       "    </tr>\n",
       "    <tr>\n",
       "      <th>2</th>\n",
       "      <td>1954-03</td>\n",
       "      <td>4.98</td>\n",
       "      <td>4.98</td>\n",
       "      <td>4.62</td>\n",
       "      <td>4.25</td>\n",
       "      <td>4.20</td>\n",
       "      <td>5.01</td>\n",
       "      <td>4.98</td>\n",
       "      <td>4.98</td>\n",
       "      <td>4.68</td>\n",
       "      <td>...</td>\n",
       "      <td>3.21</td>\n",
       "      <td>3.21</td>\n",
       "      <td>6.21</td>\n",
       "      <td>6.06</td>\n",
       "      <td>5.02</td>\n",
       "      <td>3.21</td>\n",
       "      <td>6.32</td>\n",
       "      <td>6.20</td>\n",
       "      <td>5.68</td>\n",
       "      <td>5.70</td>\n",
       "    </tr>\n",
       "    <tr>\n",
       "      <th>3</th>\n",
       "      <td>1954-04</td>\n",
       "      <td>6.09</td>\n",
       "      <td>5.94</td>\n",
       "      <td>5.94</td>\n",
       "      <td>6.07</td>\n",
       "      <td>5.27</td>\n",
       "      <td>6.31</td>\n",
       "      <td>5.98</td>\n",
       "      <td>5.89</td>\n",
       "      <td>5.72</td>\n",
       "      <td>...</td>\n",
       "      <td>3.83</td>\n",
       "      <td>3.54</td>\n",
       "      <td>6.45</td>\n",
       "      <td>6.25</td>\n",
       "      <td>4.92</td>\n",
       "      <td>3.54</td>\n",
       "      <td>6.59</td>\n",
       "      <td>6.44</td>\n",
       "      <td>5.88</td>\n",
       "      <td>5.95</td>\n",
       "    </tr>\n",
       "    <tr>\n",
       "      <th>4</th>\n",
       "      <td>1954-05</td>\n",
       "      <td>5.41</td>\n",
       "      <td>5.09</td>\n",
       "      <td>5.14</td>\n",
       "      <td>4.40</td>\n",
       "      <td>3.61</td>\n",
       "      <td>5.57</td>\n",
       "      <td>4.56</td>\n",
       "      <td>4.47</td>\n",
       "      <td>4.18</td>\n",
       "      <td>...</td>\n",
       "      <td>3.48</td>\n",
       "      <td>3.97</td>\n",
       "      <td>7.92</td>\n",
       "      <td>8.13</td>\n",
       "      <td>6.31</td>\n",
       "      <td>3.99</td>\n",
       "      <td>7.75</td>\n",
       "      <td>7.98</td>\n",
       "      <td>7.40</td>\n",
       "      <td>7.40</td>\n",
       "    </tr>\n",
       "  </tbody>\n",
       "</table>\n",
       "<p>5 rows × 93 columns</p>\n",
       "</div>"
      ],
      "text/plain": [
       "   YYYY-MM   104   105   106   107   108   204   205   206   207  ...   911  \\\n",
       "0  1954-01  1.80  1.80  2.02  2.24  2.24  2.34  1.89  1.80  1.99  ...  1.42   \n",
       "1  1954-02  4.27  4.27  4.13  3.98  3.90  4.18  4.26  4.27  4.26  ...  2.59   \n",
       "2  1954-03  4.98  4.98  4.62  4.25  4.20  5.01  4.98  4.98  4.68  ...  3.21   \n",
       "3  1954-04  6.09  5.94  5.94  6.07  5.27  6.31  5.98  5.89  5.72  ...  3.83   \n",
       "4  1954-05  5.41  5.09  5.14  4.40  3.61  5.57  4.56  4.47  4.18  ...  3.48   \n",
       "\n",
       "    912  1008  1009  1010  1011  1108  1109  1110  1210  \n",
       "0  1.30  2.50  2.42  1.94  1.29  2.59  2.49  2.22  2.27  \n",
       "1  2.51  4.71  4.30  3.84  2.50  5.07  4.62  4.05  4.18  \n",
       "2  3.21  6.21  6.06  5.02  3.21  6.32  6.20  5.68  5.70  \n",
       "3  3.54  6.45  6.25  4.92  3.54  6.59  6.44  5.88  5.95  \n",
       "4  3.97  7.92  8.13  6.31  3.99  7.75  7.98  7.40  7.40  \n",
       "\n",
       "[5 rows x 93 columns]"
      ]
     },
     "execution_count": 4,
     "metadata": {},
     "output_type": "execute_result"
    }
   ],
   "source": [
    "#evapdf = pd.read_csv(\"all_quads_gross_evaporation.csv\",parse_dates=[\"YYYY-MM\"]) # Read the file as a .CSV assign to a dataframe evapdf\n",
    "evapdf = pd.read_csv(\"all_quads_gross_evaporation.csv\") # Read the file as a .CSV assign to a dataframe evapdf\n",
    "\n",
    "evapdf.head() # check structure"
   ]
  },
  {
   "cell_type": "code",
   "execution_count": 5,
   "metadata": {},
   "outputs": [
    {
     "data": {
      "text/plain": [
       "<AxesSubplot:xlabel='YYYY-MM'>"
      ]
     },
     "execution_count": 5,
     "metadata": {},
     "output_type": "execute_result"
    },
    {
     "data": {
      "image/png": "[encoded data removed]",
      "text/plain": [
       "<Figure size 432x288 with 1 Axes>"
      ]
     },
     "metadata": {
      "needs_background": "light"
     },
     "output_type": "display_data"
    }
   ],
   "source": [
    "evapdf.plot.line(x='YYYY-MM',y='911') # Plot quadrant 911 evaporation time series "
   ]
  },
  {
   "cell_type": "code",
   "execution_count": 6,
   "metadata": {},
   "outputs": [
    {
     "data": {
      "text/plain": [
       "'1985-04'"
      ]
     },
     "execution_count": 6,
     "metadata": {},
     "output_type": "execute_result"
    },
    {
     "data": {
      "image/png": "[encoded data removed]",
      "text/plain": [
       "<Figure size 432x288 with 1 Axes>"
      ]
     },
     "metadata": {
      "needs_background": "light"
     },
     "output_type": "display_data"
    }
   ],
   "source": [
    "movingAvg=evapdf['911'].rolling(12, win_type ='boxcar').mean()\n",
    "movingAvg\n",
    "movingAvg.plot.line(x='YYYY-MM',y='911')\n",
    "evapdf['YYYY-MM'][375]"
   ]
  },
  {
   "cell_type": "code",
   "execution_count": 7,
   "metadata": {},
   "outputs": [
    {
     "name": "stdout",
     "output_type": "stream",
     "text": [
      "   YYYY-MM   104   105   106   107   108   204   205   206   207  ...   911  \\\n",
      "0  1954-01  1.80  1.80  2.02  2.24  2.24  2.34  1.89  1.80  1.99  ...  1.42   \n",
      "1  1954-02  4.27  4.27  4.13  3.98  3.90  4.18  4.26  4.27  4.26  ...  2.59   \n",
      "\n",
      "    912  1008  1009  1010  1011  1108  1109  1110  1210  \n",
      "0  1.30  2.50  2.42  1.94  1.29  2.59  2.49  2.22  2.27  \n",
      "1  2.51  4.71  4.30  3.84  2.50  5.07  4.62  4.05  4.18  \n",
      "\n",
      "[2 rows x 93 columns]\n",
      "     YYYY-MM   104   105   106   107   108   204   205   206   207  ...   911  \\\n",
      "375  1985-04  5.31  6.27  6.75  6.92  4.76  5.32  6.72  6.83  7.04  ...  4.16   \n",
      "376  1985-05  4.80  5.64  5.51  5.47  5.43  4.90  6.62  6.37  6.13  ...  5.87   \n",
      "\n",
      "      912  1008  1009  1010  1011  1108  1109  1110  1210  \n",
      "375  4.45  5.26  5.06  4.91  4.41  6.24  5.58  4.81  4.63  \n",
      "376  5.17  5.19  5.66  5.69  5.86  5.63  5.59  5.63  5.71  \n",
      "\n",
      "[2 rows x 93 columns]\n"
     ]
    }
   ],
   "source": [
    "evB485loc = evapdf['YYYY-MM']<'1985-04'  # filter before 1985\n",
    "evB485 = evapdf[evB485loc]\n",
    "ev85uploc = evapdf['YYYY-MM']>='1985-04' # filter after 1985\n",
    "ev85up= evapdf[ev85uploc]\n",
    "print(evB485.head(2))\n",
    "print(ev85up.head(2))"
   ]
  },
  {
   "cell_type": "code",
   "execution_count": 8,
   "metadata": {},
   "outputs": [
    {
     "data": {
      "text/plain": [
       "count    375.000000\n",
       "mean       4.202480\n",
       "std        1.774273\n",
       "min        1.260000\n",
       "25%        2.665000\n",
       "50%        3.900000\n",
       "75%        5.455000\n",
       "max        8.800000\n",
       "Name: 911, dtype: float64"
      ]
     },
     "execution_count": 8,
     "metadata": {},
     "output_type": "execute_result"
    }
   ],
   "source": [
    "evB485['911'].describe()"
   ]
  },
  {
   "cell_type": "code",
   "execution_count": 9,
   "metadata": {},
   "outputs": [
    {
     "data": {
      "text/plain": [
       "count    417.000000\n",
       "mean       4.167458\n",
       "std        1.676704\n",
       "min        1.230000\n",
       "25%        2.680000\n",
       "50%        4.160000\n",
       "75%        5.410000\n",
       "max        9.560000\n",
       "Name: 911, dtype: float64"
      ]
     },
     "execution_count": 9,
     "metadata": {},
     "output_type": "execute_result"
    }
   ],
   "source": [
    "ev85up['911'].describe()"
   ]
  },
  {
   "cell_type": "code",
   "execution_count": 10,
   "metadata": {},
   "outputs": [
    {
     "data": {
      "text/plain": [
       "<AxesSubplot:>"
      ]
     },
     "execution_count": 10,
     "metadata": {},
     "output_type": "execute_result"
    },
    {
     "data": {
      "image/png": "[encoded data removed]",
      "text/plain": [
       "<Figure size 432x288 with 1 Axes>"
      ]
     },
     "metadata": {
      "needs_background": "light"
     },
     "output_type": "display_data"
    }
   ],
   "source": [
    "evB485['911'].plot.box()"
   ]
  },
  {
   "cell_type": "code",
   "execution_count": 11,
   "metadata": {},
   "outputs": [
    {
     "data": {
      "text/plain": [
       "<AxesSubplot:>"
      ]
     },
     "execution_count": 11,
     "metadata": {},
     "output_type": "execute_result"
    },
    {
     "data": {
      "image/png": "[encoded data removed]",
      "text/plain": [
       "<Figure size 432x288 with 1 Axes>"
      ]
     },
     "metadata": {
      "needs_background": "light"
     },
     "output_type": "display_data"
    }
   ],
   "source": [
    "ev85up['911'].plot.box()"
   ]
  },
  {
   "cell_type": "code",
   "execution_count": 12,
   "metadata": {},
   "outputs": [
    {
     "name": "stdout",
     "output_type": "stream",
     "text": [
      "statistic=78184.500, p-value at rejection =0.500\n",
      "Difference in Median Values -0.26 is not significant\n"
     ]
    }
   ],
   "source": [
    "from scipy.stats import mannwhitneyu # import a useful non-parametric test\n",
    "stat, p = mannwhitneyu(evB485['911'],ev85up['911'])\n",
    "\n",
    "print('statistic=%.3f, p-value at rejection =%.3f' % (stat, p))\n",
    "if p > 0.05:\n",
    "\tprint('Difference in Median Values',round(evB485['911'].median()-ev85up['911'].median(),3),'is not significant')\n",
    "else:\n",
    "\tprint('Difference in Median Values',round(evB485['911'].median()-ev85up['911'].median(),3),'is SIGNIFICANT')"
   ]
  },
  {
   "cell_type": "code",
   "execution_count": 13,
   "metadata": {},
   "outputs": [
    {
     "name": "stdout",
     "output_type": "stream",
     "text": [
      "statistic=70312.500, p-value at rejection =0.500\n",
      "Difference in Median Values 0.0 is not significant\n"
     ]
    }
   ],
   "source": [
    "stat, p = mannwhitneyu(evB485['911'],evB485['911'])\n",
    "print('statistic=%.3f, p-value at rejection =%.3f' % (stat, p))\n",
    "if p > 0.05:\n",
    "\tprint('Difference in Median Values',round(evB485['911'].median()-evB485['911'].median(),3),'is not significant')\n",
    "else:\n",
    "\tprint('Difference in Median Values',round(evB485['911'].median()-evB485['911'].median(),3),'is SIGNIFICANT')"
   ]
  },
  {
   "cell_type": "code",
   "execution_count": 14,
   "metadata": {},
   "outputs": [],
   "source": [
    "evB492loc = evapdf['YYYY-MM']<'1992'  # filter before 1992\n",
    "evB492 = evapdf[evB492loc]\n",
    "ev92uploc = evapdf['YYYY-MM']>='1992' # filter after 1992\n",
    "ev92up= evapdf[ev92uploc]\n",
    "#print(evB492.head())\n",
    "#print(ev92up.head())"
   ]
  },
  {
   "cell_type": "code",
   "execution_count": 15,
   "metadata": {},
   "outputs": [
    {
     "name": "stdout",
     "output_type": "stream",
     "text": [
      "statistic=72195.000, p-value at rejection =0.083\n",
      "Difference in Median Values -0.045 is not significant\n"
     ]
    }
   ],
   "source": [
    "stat, p = mannwhitneyu(evB492['911'],ev92up['911'])\n",
    "print('statistic=%.3f, p-value at rejection =%.3f' % (stat, p))\n",
    "if p > 0.05:\n",
    "\tprint('Difference in Median Values',round(evB492['911'].median()-ev92up['911'].median(),3),'is not significant')\n",
    "else:\n",
    "\tprint('Difference in Median Values',round(evB492['911'].median()-ev92up['911'].median(),3),'is SIGNIFICANT')"
   ]
  },
  {
   "cell_type": "code",
   "execution_count": 16,
   "metadata": {},
   "outputs": [],
   "source": [
    "#%reset -f # only if necessaryimport requests # Module to process http/https requests\n",
    "import requests # Module to process http/https requests\n",
    "remote_url=\"http://54.243.252.9/engr-1330-webroot/8-Labs/Lab07/gridded_data.txt\"  # set the url\n",
    "response = requests.get(remote_url, allow_redirects=True)  # get the remote resource, follow imbedded links\n",
    "localfile = open('gridded_data.txt','wb') # open connection to a local file same name as remote\n",
    "localfile.write(response.content) # extract from the remote the contents,insert into the local file same name\n",
    "localfile.close() # close connection to the local file"
   ]
  },
  {
   "cell_type": "code",
   "execution_count": 17,
   "metadata": {},
   "outputs": [],
   "source": [
    "#### Reading a Data File ####\n",
    "xyzmatrix = [] # null list to hold contents\n",
    "xyzfile = open(\"gridded_data.txt\",\"r\") # open a read connection"
   ]
  },
  {
   "cell_type": "code",
   "execution_count": 18,
   "metadata": {},
   "outputs": [],
   "source": [
    "line1 = (xyzfile.readline().split()) # read just the first line\n",
    "rowNum = int(line1[0]) # extract row count\n",
    "colNum = int(line1[1]) # extract column count"
   ]
  },
  {
   "cell_type": "code",
   "execution_count": 19,
   "metadata": {},
   "outputs": [],
   "source": [
    "for line in xyzfile: # now read rest of the file, line by line\n",
    "    xyzmatrix.append([float(n) for n in line.strip().split(\",\")])"
   ]
  },
  {
   "cell_type": "code",
   "execution_count": 20,
   "metadata": {},
   "outputs": [],
   "source": [
    "xyzfile.close()"
   ]
  },
  {
   "cell_type": "code",
   "execution_count": 21,
   "metadata": {},
   "outputs": [],
   "source": [
    "#### Build 2D Structure for Contour Plot Example ####\n",
    "xlist = [[0 for j in range(colNum)] for i in range(rowNum)]     # null list to hold contents\n",
    "ylist = [[0 for j in range(colNum)] for i in range(rowNum)]     # null list to hold contents\n",
    "zlist = [[0 for j in range(colNum)] for i in range(rowNum)]     # null list to hold contents"
   ]
  },
  {
   "cell_type": "code",
   "execution_count": 22,
   "metadata": {},
   "outputs": [],
   "source": [
    "pointer=0\n",
    "for irow in range(0,rowNum): \n",
    "    for jcol in range(0,colNum):\n",
    "        xlist[irow][jcol]=(xyzmatrix[pointer][0])\n",
    "        ylist[irow][jcol]=(xyzmatrix[pointer][1])\n",
    "        zlist[irow][jcol]=(xyzmatrix[pointer][2])\n",
    "        pointer += 1"
   ]
  },
  {
   "cell_type": "code",
   "execution_count": 23,
   "metadata": {},
   "outputs": [
    {
     "data": {
      "text/plain": [
       "Text(0.5, 1.0, 'Contour Plot from Gridded Data File')"
      ]
     },
     "execution_count": 23,
     "metadata": {},
     "output_type": "execute_result"
    },
    {
     "data": {
      "image/png": "[encoded data removed]",
      "text/plain": [
       "<Figure size 432x288 with 1 Axes>"
      ]
     },
     "metadata": {
      "needs_background": "light"
     },
     "output_type": "display_data"
    }
   ],
   "source": [
    "#### Build the Plot #####\n",
    "import matplotlib\n",
    "fig, ax = matplotlib.pyplot.subplots()\n",
    "CS = ax.contour(xlist, ylist, zlist, levels = 7)\n",
    "ax.clabel(CS, inline=2, fontsize=10)\n",
    "ax.set_title('Contour Plot from Gridded Data File')\n",
    "################################"
   ]
  },
  {
   "cell_type": "code",
   "execution_count": 24,
   "metadata": {},
   "outputs": [
    {
     "data": {
      "text/plain": [
       "'/home/sensei/ce-5319-webroot/ce5319jb/lessons/lesson8'"
      ]
     },
     "execution_count": 24,
     "metadata": {},
     "output_type": "execute_result"
    }
   ],
   "source": [
    "# magic function to check my current working directory (that the script will run)\n",
    "%pwd # notice no space between % and pwd"
   ]
  },
  {
   "cell_type": "code",
   "execution_count": 25,
   "metadata": {},
   "outputs": [],
   "source": [
    "# Delete the directory if it already exists BE CAREFUL \n",
    "# This code is here so the notebook resets during Jupyter Book builds\n",
    "%rm -rf ./MyImageFiles/\n",
    "%rm -rf wget-log*"
   ]
  },
  {
   "cell_type": "code",
   "execution_count": 26,
   "metadata": {},
   "outputs": [],
   "source": [
    "# magic function to create a destination to store the files into\n",
    "%mkdir MyImageFiles # name the directory what you wish, locate it somewhere you can find\n",
    "# In the example, its just being stored in the lesson directory, which you probably don't have"
   ]
  },
  {
   "cell_type": "code",
   "execution_count": 27,
   "metadata": {},
   "outputs": [
    {
     "name": "stdout",
     "output_type": "stream",
     "text": [
      "DatabaseStructure.png            concreteData.xls\r\n",
      "EvapMap.png                      datatypes.ipynb\r\n",
      "EvaporationAnalysis.html         downloading.ipynb\r\n",
      "HighestGrossingMovies.bak.csv    exploratorydataanalysis.ipynb\r\n",
      "HighestGrossingMovies.csv        exploratorydataanalysisvisual.ipynb\r\n",
      "\u001b[0m\u001b[01;34mMyImageFiles\u001b[0m/                    gridded_data.txt\r\n",
      "Peterson-Nature1995-377.pdf      gridded_data.txt.bak\r\n",
      "all_quads_gross_evaporation.csv  lesson8.ipynb\r\n",
      "all_quads_net_evaporation.csv    mixturedatatype.png\r\n",
      "cat784.png                       pip-corner-sumps.txt\r\n",
      "censoreddatatype.png             quad-list.png\r\n",
      "concreteData.csv                 top_movies.csv\r\n"
     ]
    }
   ],
   "source": [
    "# magic function to list the contents of my current directory\n",
    "%ls "
   ]
  },
  {
   "cell_type": "code",
   "execution_count": 28,
   "metadata": {},
   "outputs": [
    {
     "name": "stdout",
     "output_type": "stream",
     "text": [
      "total 8\r\n",
      "drwxrwxr-x 2 sensei sensei 4096 Nov 22 20:01 \u001b[0m\u001b[01;34m.\u001b[0m/\r\n",
      "drwxrwxr-x 4 sensei sensei 4096 Nov 22 20:01 \u001b[01;34m..\u001b[0m/\r\n"
     ]
    }
   ],
   "source": [
    "# magic function to show contents of MyImageFiles (there will only be two system files)\n",
    "# . == self and ..= parent directories.\n",
    "%ls -la ./MyImageFiles/"
   ]
  },
  {
   "cell_type": "code",
   "execution_count": 29,
   "metadata": {
    "collapsed": true,
    "jupyter": {
     "outputs_hidden": true
    }
   },
   "outputs": [
    {
     "name": "stdout",
     "output_type": "stream",
     "text": [
      "--2022-11-22 20:01:05--  http://54.243.252.9/ce-5319-webroot/1-Databases/MaterialCracking/UT-881-image_src/\r\n",
      "Connecting to 54.243.252.9:80... "
     ]
    },
    {
     "name": "stdout",
     "output_type": "stream",
     "text": [
      "connected.\r\n",
      "HTTP request sent, awaiting response... "
     ]
    },
    {
     "name": "stdout",
     "output_type": "stream",
     "text": [
      "200 OK\r\n",
      "Length: unspecified [text/html]\r\n",
      "Saving to: ‘./MyImageFiles/index.html.tmp’\r\n",
      "\r\n",
      "\r",
      "index.html.tmp          [<=>                 ]       0  --.-KB/s               "
     ]
    },
    {
     "name": "stdout",
     "output_type": "stream",
     "text": [
      "\r",
      "index.html.tmp          [ <=>                ] 176.39K   949KB/s    in 0.2s    \r\n",
      "\r\n"
     ]
    },
    {
     "name": "stdout",
     "output_type": "stream",
     "text": [
      "2022-11-22 20:01:05 (949 KB/s) - ‘./MyImageFiles/index.html.tmp’ saved [180622]\r\n",
      "\r\n",
      "Removing ./MyImageFiles/index.html.tmp since it should be rejected.\r\n",
      "\r\n",
      "--2022-11-22 20:01:06--  http://54.243.252.9/ce-5319-webroot/1-Databases/MaterialCracking/UT-881-image_src/?C=N;O=D\r\n",
      "Reusing existing connection to 54.243.252.9:80.\r\n",
      "HTTP request sent, awaiting response... "
     ]
    },
    {
     "name": "stdout",
     "output_type": "stream",
     "text": [
      "200 OK\r\n",
      "Length: unspecified [text/html]\r\n",
      "Saving to: ‘./MyImageFiles/index.html?C=N;O=D.tmp’\r\n",
      "\r\n",
      "\r",
      "index.html?C=N;O=D.     [<=>                 ]       0  --.-KB/s               \r",
      "index.html?C=N;O=D.     [ <=>                ] 176.39K  --.-KB/s    in 0.05s   \r\n",
      "\r\n",
      "2022-11-22 20:01:06 (3.82 MB/s) - ‘./MyImageFiles/index.html?C=N;O=D.tmp’ saved [180622]\r\n",
      "\r\n"
     ]
    },
    {
     "name": "stdout",
     "output_type": "stream",
     "text": [
      "Removing ./MyImageFiles/index.html?C=N;O=D.tmp since it should be rejected.\r\n",
      "\r\n",
      "--2022-11-22 20:01:06--  http://54.243.252.9/ce-5319-webroot/1-Databases/MaterialCracking/UT-881-image_src/?C=M;O=A\r\n",
      "Reusing existing connection to 54.243.252.9:80.\r\n",
      "HTTP request sent, awaiting response... "
     ]
    },
    {
     "name": "stdout",
     "output_type": "stream",
     "text": [
      "200 OK\r\n",
      "Length: unspecified [text/html]\r\n",
      "Saving to: ‘./MyImageFiles/index.html?C=M;O=A.tmp’\r\n",
      "\r\n",
      "\r",
      "index.html?C=M;O=A.     [<=>                 ]       0  --.-KB/s               \r",
      "index.html?C=M;O=A.     [ <=>                ] 176.39K  --.-KB/s    in 0.006s  \r\n",
      "\r\n",
      "2022-11-22 20:01:06 (30.6 MB/s) - ‘./MyImageFiles/index.html?C=M;O=A.tmp’ saved [180622]\r\n",
      "\r\n"
     ]
    },
    {
     "name": "stdout",
     "output_type": "stream",
     "text": [
      "Removing ./MyImageFiles/index.html?C=M;O=A.tmp since it should be rejected.\r\n",
      "\r\n",
      "--2022-11-22 20:01:06--  http://54.243.252.9/ce-5319-webroot/1-Databases/MaterialCracking/UT-881-image_src/?C=S;O=A\r\n",
      "Reusing existing connection to 54.243.252.9:80.\r\n",
      "HTTP request sent, awaiting response... "
     ]
    },
    {
     "name": "stdout",
     "output_type": "stream",
     "text": [
      "200 OK\r\n",
      "Length: unspecified [text/html]\r\n",
      "Saving to: ‘./MyImageFiles/index.html?C=S;O=A.tmp’\r\n",
      "\r\n",
      "\r",
      "index.html?C=S;O=A.     [<=>                 ]       0  --.-KB/s               "
     ]
    },
    {
     "name": "stdout",
     "output_type": "stream",
     "text": [
      "\r",
      "index.html?C=S;O=A.     [ <=>                ] 176.39K  --.-KB/s    in 0.007s  \r\n",
      "\r\n",
      "2022-11-22 20:01:06 (24.9 MB/s) - ‘./MyImageFiles/index.html?C=S;O=A.tmp’ saved [180622]\r\n",
      "\r\n",
      "Removing ./MyImageFiles/index.html?C=S;O=A.tmp since it should be rejected.\r\n",
      "\r\n",
      "--2022-11-22 20:01:06--  http://54.243.252.9/ce-5319-webroot/1-Databases/MaterialCracking/UT-881-image_src/?C=D;O=A\r\n",
      "Reusing existing connection to 54.243.252.9:80.\r\n",
      "HTTP request sent, awaiting response... "
     ]
    },
    {
     "name": "stdout",
     "output_type": "stream",
     "text": [
      "200 OK\r\n",
      "Length: unspecified [text/html]\r\n",
      "Saving to: ‘./MyImageFiles/index.html?C=D;O=A.tmp’\r\n",
      "\r\n",
      "\r",
      "index.html?C=D;O=A.     [<=>                 ]       0  --.-KB/s               \r",
      "index.html?C=D;O=A.     [ <=>                ] 176.39K  --.-KB/s    in 0.006s  \r\n",
      "\r\n"
     ]
    },
    {
     "name": "stdout",
     "output_type": "stream",
     "text": [
      "2022-11-22 20:01:06 (29.6 MB/s) - ‘./MyImageFiles/index.html?C=D;O=A.tmp’ saved [180622]\r\n",
      "\r\n",
      "Removing ./MyImageFiles/index.html?C=D;O=A.tmp since it should be rejected.\r\n",
      "\r\n",
      "--2022-11-22 20:01:06--  http://54.243.252.9/ce-5319-webroot/1-Databases/MaterialCracking/UT-881-image_src/Image0.png\r\n",
      "Reusing existing connection to 54.243.252.9:80.\r\n",
      "HTTP request sent, awaiting response... "
     ]
    },
    {
     "name": "stdout",
     "output_type": "stream",
     "text": [
      "200 OK\r\n",
      "Length: 10616 (10K) [image/png]\r\n",
      "Saving to: ‘./MyImageFiles/Image0.png’\r\n",
      "\r\n",
      "\r",
      "Image0.png            0%[                    ]       0  --.-KB/s               \r",
      "Image0.png          100%[===================>]  10.37K  --.-KB/s    in 0s      \r\n",
      "\r\n",
      "2022-11-22 20:01:06 (23.0 MB/s) - ‘./MyImageFiles/Image0.png’ saved [10616/10616]\r\n",
      "\r\n",
      "--2022-11-22 20:01:06--  http://54.243.252.9/ce-5319-webroot/1-Databases/MaterialCracking/UT-881-image_src/Image1.png\r\n",
      "Reusing existing connection to 54.243.252.9:80.\r\n",
      "HTTP request sent, awaiting response... "
     ]
    },
    {
     "name": "stdout",
     "output_type": "stream",
     "text": [
      "200 OK\r\n",
      "Length: 9085 (8.9K) [image/png]\r\n",
      "Saving to: ‘./MyImageFiles/Image1.png’\r\n",
      "\r\n",
      "\r",
      "Image1.png            0%[                    ]       0  --.-KB/s               \r",
      "Image1.png          100%[===================>]   8.87K  --.-KB/s    in 0s      \r\n",
      "\r\n",
      "2022-11-22 20:01:06 (29.3 MB/s) - ‘./MyImageFiles/Image1.png’ saved [9085/9085]\r\n",
      "\r\n",
      "--2022-11-22 20:01:06--  http://54.243.252.9/ce-5319-webroot/1-Databases/MaterialCracking/UT-881-image_src/Image2.png\r\n",
      "Reusing existing connection to 54.243.252.9:80.\r\n",
      "HTTP request sent, awaiting response... "
     ]
    },
    {
     "name": "stdout",
     "output_type": "stream",
     "text": [
      "200 OK\r\n",
      "Length: 12902 (13K) [image/png]\r\n",
      "Saving to: ‘./MyImageFiles/Image2.png’\r\n",
      "\r\n",
      "\r",
      "Image2.png            0%[                    ]       0  --.-KB/s               \r",
      "Image2.png          100%[===================>]  12.60K  --.-KB/s    in 0s      \r\n",
      "\r\n",
      "2022-11-22 20:01:06 (44.7 MB/s) - ‘./MyImageFiles/Image2.png’ saved [12902/12902]\r\n",
      "\r\n",
      "--2022-11-22 20:01:06--  http://54.243.252.9/ce-5319-webroot/1-Databases/MaterialCracking/UT-881-image_src/Image3.png\r\n",
      "Reusing existing connection to 54.243.252.9:80.\r\n",
      "HTTP request sent, awaiting response... "
     ]
    },
    {
     "name": "stdout",
     "output_type": "stream",
     "text": [
      "200 OK\r\n",
      "Length: 11793 (12K) [image/png]\r\n",
      "Saving to: ‘./MyImageFiles/Image3.png’\r\n",
      "\r\n",
      "\r",
      "Image3.png            0%[                    ]       0  --.-KB/s               \r",
      "Image3.png          100%[===================>]  11.52K  --.-KB/s    in 0s      \r\n",
      "\r\n",
      "2022-11-22 20:01:06 (36.2 MB/s) - ‘./MyImageFiles/Image3.png’ saved [11793/11793]\r\n",
      "\r\n",
      "--2022-11-22 20:01:06--  http://54.243.252.9/ce-5319-webroot/1-Databases/MaterialCracking/UT-881-image_src/Image4.png\r\n",
      "Reusing existing connection to 54.243.252.9:80.\r\n",
      "HTTP request sent, awaiting response... "
     ]
    },
    {
     "name": "stdout",
     "output_type": "stream",
     "text": [
      "200 OK\r\n",
      "Length: 14041 (14K) [image/png]\r\n",
      "Saving to: ‘./MyImageFiles/Image4.png’\r\n",
      "\r\n",
      "\r",
      "Image4.png            0%[                    ]       0  --.-KB/s               \r",
      "Image4.png          100%[===================>]  13.71K  --.-KB/s    in 0s      \r\n",
      "\r\n",
      "2022-11-22 20:01:06 (34.7 MB/s) - ‘./MyImageFiles/Image4.png’ saved [14041/14041]\r\n",
      "\r\n",
      "--2022-11-22 20:01:06--  http://54.243.252.9/ce-5319-webroot/1-Databases/MaterialCracking/UT-881-image_src/Image5.png\r\n",
      "Reusing existing connection to 54.243.252.9:80.\r\n",
      "HTTP request sent, awaiting response... "
     ]
    },
    {
     "name": "stdout",
     "output_type": "stream",
     "text": [
      "200 OK\r\n",
      "Length: 12954 (13K) [image/png]\r\n",
      "Saving to: ‘./MyImageFiles/Image5.png’\r\n",
      "\r\n",
      "\r",
      "Image5.png            0%[                    ]       0  --.-KB/s               \r",
      "Image5.png          100%[===================>]  12.65K  --.-KB/s    in 0s      \r\n",
      "\r\n",
      "2022-11-22 20:01:06 (49.9 MB/s) - ‘./MyImageFiles/Image5.png’ saved [12954/12954]\r\n",
      "\r\n",
      "--2022-11-22 20:01:06--  http://54.243.252.9/ce-5319-webroot/1-Databases/MaterialCracking/UT-881-image_src/Image6.png\r\n",
      "Reusing existing connection to 54.243.252.9:80.\r\n",
      "HTTP request sent, awaiting response... "
     ]
    },
    {
     "name": "stdout",
     "output_type": "stream",
     "text": [
      "200 OK\r\n",
      "Length: 11875 (12K) [image/png]\r\n",
      "Saving to: ‘./MyImageFiles/Image6.png’\r\n",
      "\r\n",
      "\r",
      "Image6.png            0%[                    ]       0  --.-KB/s               \r",
      "Image6.png          100%[===================>]  11.60K  --.-KB/s    in 0s      \r\n",
      "\r\n",
      "2022-11-22 20:01:06 (51.5 MB/s) - ‘./MyImageFiles/Image6.png’ saved [11875/11875]\r\n",
      "\r\n",
      "--2022-11-22 20:01:06--  http://54.243.252.9/ce-5319-webroot/1-Databases/MaterialCracking/UT-881-image_src/Image7.png\r\n",
      "Reusing existing connection to 54.243.252.9:80.\r\n",
      "HTTP request sent, awaiting response... "
     ]
    },
    {
     "name": "stdout",
     "output_type": "stream",
     "text": [
      "200 OK\r\n",
      "Length: 13344 (13K) [image/png]\r\n",
      "Saving to: ‘./MyImageFiles/Image7.png’\r\n",
      "\r\n",
      "\r",
      "Image7.png            0%[                    ]       0  --.-KB/s               \r",
      "Image7.png          100%[===================>]  13.03K  --.-KB/s    in 0s      \r\n",
      "\r\n",
      "2022-11-22 20:01:06 (53.0 MB/s) - ‘./MyImageFiles/Image7.png’ saved [13344/13344]\r\n",
      "\r\n",
      "--2022-11-22 20:01:06--  http://54.243.252.9/ce-5319-webroot/1-Databases/MaterialCracking/UT-881-image_src/Image8.png\r\n",
      "Reusing existing connection to 54.243.252.9:80.\r\n",
      "HTTP request sent, awaiting response... "
     ]
    },
    {
     "name": "stdout",
     "output_type": "stream",
     "text": [
      "200 OK\r\n",
      "Length: 14396 (14K) [image/png]\r\n",
      "Saving to: ‘./MyImageFiles/Image8.png’\r\n",
      "\r\n",
      "\r",
      "Image8.png            0%[                    ]       0  --.-KB/s               \r",
      "Image8.png          100%[===================>]  14.06K  --.-KB/s    in 0s      \r\n",
      "\r\n",
      "2022-11-22 20:01:06 (36.5 MB/s) - ‘./MyImageFiles/Image8.png’ saved [14396/14396]\r\n",
      "\r\n",
      "--2022-11-22 20:01:06--  http://54.243.252.9/ce-5319-webroot/1-Databases/MaterialCracking/UT-881-image_src/Image9.png\r\n",
      "Reusing existing connection to 54.243.252.9:80.\r\n",
      "HTTP request sent, awaiting response... "
     ]
    },
    {
     "name": "stdout",
     "output_type": "stream",
     "text": [
      "200 OK\r\n",
      "Length: 13947 (14K) [image/png]\r\n",
      "Saving to: ‘./MyImageFiles/Image9.png’\r\n",
      "\r\n",
      "\r",
      "Image9.png            0%[                    ]       0  --.-KB/s               \r",
      "Image9.png          100%[===================>]  13.62K  --.-KB/s    in 0s      \r\n",
      "\r\n",
      "2022-11-22 20:01:06 (45.5 MB/s) - ‘./MyImageFiles/Image9.png’ saved [13947/13947]\r\n",
      "\r\n",
      "--2022-11-22 20:01:06--  http://54.243.252.9/ce-5319-webroot/1-Databases/MaterialCracking/UT-881-image_src/Image10.png\r\n",
      "Reusing existing connection to 54.243.252.9:80.\r\n",
      "HTTP request sent, awaiting response... "
     ]
    },
    {
     "name": "stdout",
     "output_type": "stream",
     "text": [
      "200 OK\r\n",
      "Length: 10158 (9.9K) [image/png]\r\n",
      "Saving to: ‘./MyImageFiles/Image10.png’\r\n",
      "\r\n",
      "\r",
      "Image10.png           0%[                    ]       0  --.-KB/s               \r",
      "Image10.png         100%[===================>]   9.92K  --.-KB/s    in 0s      \r\n",
      "\r\n",
      "2022-11-22 20:01:07 (27.4 MB/s) - ‘./MyImageFiles/Image10.png’ saved [10158/10158]\r\n",
      "\r\n",
      "--2022-11-22 20:01:07--  http://54.243.252.9/ce-5319-webroot/1-Databases/MaterialCracking/UT-881-image_src/Image11.png\r\n",
      "Reusing existing connection to 54.243.252.9:80.\r\n",
      "HTTP request sent, awaiting response... 200 OK\r\n",
      "Length: 8128 (7.9K) [image/png]\r\n",
      "Saving to: ‘./MyImageFiles/Image11.png’\r\n",
      "\r\n",
      "\r",
      "Image11.png           0%[                    ]       0  --.-KB/s               \r",
      "Image11.png         100%[===================>]   7.94K  --.-KB/s    in 0s      \r\n",
      "\r\n",
      "2022-11-22 20:01:07 (117 MB/s) - ‘./MyImageFiles/Image11.png’ saved [8128/8128]\r\n",
      "\r\n",
      "--2022-11-22 20:01:07--  http://54.243.252.9/ce-5319-webroot/1-Databases/MaterialCracking/UT-881-image_src/Image12.png\r\n",
      "Reusing existing connection to 54.243.252.9:80.\r\n"
     ]
    },
    {
     "name": "stdout",
     "output_type": "stream",
     "text": [
      "HTTP request sent, awaiting response... 200 OK\r\n",
      "Length: 10822 (11K) [image/png]\r\n",
      "Saving to: ‘./MyImageFiles/Image12.png’\r\n",
      "\r\n",
      "\r",
      "Image12.png           0%[                    ]       0  --.-KB/s               \r",
      "Image12.png         100%[===================>]  10.57K  --.-KB/s    in 0s      \r\n",
      "\r\n",
      "2022-11-22 20:01:07 (35.0 MB/s) - ‘./MyImageFiles/Image12.png’ saved [10822/10822]\r\n",
      "\r\n",
      "--2022-11-22 20:01:07--  http://54.243.252.9/ce-5319-webroot/1-Databases/MaterialCracking/UT-881-image_src/Image13.png\r\n",
      "Reusing existing connection to 54.243.252.9:80.\r\n",
      "HTTP request sent, awaiting response... "
     ]
    },
    {
     "name": "stdout",
     "output_type": "stream",
     "text": [
      "200 OK\r\n",
      "Length: 13872 (14K) [image/png]\r\n",
      "Saving to: ‘./MyImageFiles/Image13.png’\r\n",
      "\r\n",
      "\r",
      "Image13.png           0%[                    ]       0  --.-KB/s               \r",
      "Image13.png         100%[===================>]  13.55K  --.-KB/s    in 0s      \r\n",
      "\r\n",
      "2022-11-22 20:01:07 (37.2 MB/s) - ‘./MyImageFiles/Image13.png’ saved [13872/13872]\r\n",
      "\r\n",
      "--2022-11-22 20:01:07--  http://54.243.252.9/ce-5319-webroot/1-Databases/MaterialCracking/UT-881-image_src/Image14.png\r\n",
      "Reusing existing connection to 54.243.252.9:80.\r\n",
      "HTTP request sent, awaiting response... "
     ]
    },
    {
     "name": "stdout",
     "output_type": "stream",
     "text": [
      "200 OK\r\n",
      "Length: 12450 (12K) [image/png]\r\n",
      "Saving to: ‘./MyImageFiles/Image14.png’\r\n",
      "\r\n",
      "\r",
      "Image14.png           0%[                    ]       0  --.-KB/s               \r",
      "Image14.png         100%[===================>]  12.16K  --.-KB/s    in 0s      \r\n",
      "\r\n",
      "2022-11-22 20:01:07 (35.2 MB/s) - ‘./MyImageFiles/Image14.png’ saved [12450/12450]\r\n",
      "\r\n",
      "--2022-11-22 20:01:07--  http://54.243.252.9/ce-5319-webroot/1-Databases/MaterialCracking/UT-881-image_src/Image15.png\r\n",
      "Reusing existing connection to 54.243.252.9:80.\r\n",
      "HTTP request sent, awaiting response... "
     ]
    },
    {
     "name": "stdout",
     "output_type": "stream",
     "text": [
      "200 OK\r\n",
      "Length: 13255 (13K) [image/png]\r\n",
      "Saving to: ‘./MyImageFiles/Image15.png’\r\n",
      "\r\n",
      "\r",
      "Image15.png           0%[                    ]       0  --.-KB/s               \r",
      "Image15.png         100%[===================>]  12.94K  --.-KB/s    in 0s      \r\n",
      "\r\n",
      "2022-11-22 20:01:07 (44.8 MB/s) - ‘./MyImageFiles/Image15.png’ saved [13255/13255]\r\n",
      "\r\n",
      "--2022-11-22 20:01:07--  http://54.243.252.9/ce-5319-webroot/1-Databases/MaterialCracking/UT-881-image_src/Image16.png\r\n",
      "Reusing existing connection to 54.243.252.9:80.\r\n",
      "HTTP request sent, awaiting response... "
     ]
    },
    {
     "name": "stdout",
     "output_type": "stream",
     "text": [
      "200 OK\r\n",
      "Length: 9766 (9.5K) [image/png]\r\n",
      "Saving to: ‘./MyImageFiles/Image16.png’\r\n",
      "\r\n",
      "\r",
      "Image16.png           0%[                    ]       0  --.-KB/s               \r",
      "Image16.png         100%[===================>]   9.54K  --.-KB/s    in 0s      \r\n",
      "\r\n",
      "2022-11-22 20:01:07 (28.7 MB/s) - ‘./MyImageFiles/Image16.png’ saved [9766/9766]\r\n",
      "\r\n",
      "--2022-11-22 20:01:07--  http://54.243.252.9/ce-5319-webroot/1-Databases/MaterialCracking/UT-881-image_src/Image17.png\r\n",
      "Reusing existing connection to 54.243.252.9:80.\r\n",
      "HTTP request sent, awaiting response... "
     ]
    },
    {
     "name": "stdout",
     "output_type": "stream",
     "text": [
      "200 OK\r\n",
      "Length: 8896 (8.7K) [image/png]\r\n",
      "Saving to: ‘./MyImageFiles/Image17.png’\r\n",
      "\r\n",
      "\r",
      "Image17.png           0%[                    ]       0  --.-KB/s               \r",
      "Image17.png         100%[===================>]   8.69K  --.-KB/s    in 0s      \r\n",
      "\r\n",
      "2022-11-22 20:01:07 (31.3 MB/s) - ‘./MyImageFiles/Image17.png’ saved [8896/8896]\r\n",
      "\r\n",
      "--2022-11-22 20:01:07--  http://54.243.252.9/ce-5319-webroot/1-Databases/MaterialCracking/UT-881-image_src/Image18.png\r\n",
      "Reusing existing connection to 54.243.252.9:80.\r\n",
      "HTTP request sent, awaiting response... "
     ]
    },
    {
     "name": "stdout",
     "output_type": "stream",
     "text": [
      "200 OK\r\n",
      "Length: 14960 (15K) [image/png]\r\n",
      "Saving to: ‘./MyImageFiles/Image18.png’\r\n",
      "\r\n",
      "\r",
      "Image18.png           0%[                    ]       0  --.-KB/s               \r",
      "Image18.png         100%[===================>]  14.61K  --.-KB/s    in 0s      \r\n",
      "\r\n",
      "2022-11-22 20:01:07 (51.7 MB/s) - ‘./MyImageFiles/Image18.png’ saved [14960/14960]\r\n",
      "\r\n",
      "--2022-11-22 20:01:07--  http://54.243.252.9/ce-5319-webroot/1-Databases/MaterialCracking/UT-881-image_src/Image19.png\r\n",
      "Reusing existing connection to 54.243.252.9:80.\r\n",
      "HTTP request sent, awaiting response... "
     ]
    },
    {
     "name": "stdout",
     "output_type": "stream",
     "text": [
      "200 OK\r\n",
      "Length: 10425 (10K) [image/png]\r\n",
      "Saving to: ‘./MyImageFiles/Image19.png’\r\n",
      "\r\n",
      "\r",
      "Image19.png           0%[                    ]       0  --.-KB/s               \r",
      "Image19.png         100%[===================>]  10.18K  --.-KB/s    in 0.01s   \r\n",
      "\r\n",
      "2022-11-22 20:01:07 (899 KB/s) - ‘./MyImageFiles/Image19.png’ saved [10425/10425]\r\n",
      "\r\n",
      "--2022-11-22 20:01:07--  http://54.243.252.9/ce-5319-webroot/1-Databases/MaterialCracking/UT-881-image_src/Image20.png\r\n",
      "Reusing existing connection to 54.243.252.9:80.\r\n",
      "HTTP request sent, awaiting response... "
     ]
    },
    {
     "name": "stdout",
     "output_type": "stream",
     "text": [
      "200 OK\r\n",
      "Length: 10569 (10K) [image/png]\r\n",
      "Saving to: ‘./MyImageFiles/Image20.png’\r\n",
      "\r\n",
      "\r",
      "Image20.png           0%[                    ]       0  --.-KB/s               \r",
      "Image20.png         100%[===================>]  10.32K  --.-KB/s    in 0s      \r\n",
      "\r\n",
      "2022-11-22 20:01:07 (32.7 MB/s) - ‘./MyImageFiles/Image20.png’ saved [10569/10569]\r\n",
      "\r\n",
      "--2022-11-22 20:01:07--  http://54.243.252.9/ce-5319-webroot/1-Databases/MaterialCracking/UT-881-image_src/Image21.png\r\n",
      "Reusing existing connection to 54.243.252.9:80.\r\n",
      "HTTP request sent, awaiting response... "
     ]
    },
    {
     "name": "stdout",
     "output_type": "stream",
     "text": [
      "200 OK\r\n",
      "Length: 14137 (14K) [image/png]\r\n",
      "Saving to: ‘./MyImageFiles/Image21.png’\r\n",
      "\r\n",
      "\r",
      "Image21.png           0%[                    ]       0  --.-KB/s               \r",
      "Image21.png         100%[===================>]  13.81K  --.-KB/s    in 0s      \r\n",
      "\r\n",
      "2022-11-22 20:01:07 (54.5 MB/s) - ‘./MyImageFiles/Image21.png’ saved [14137/14137]\r\n",
      "\r\n",
      "--2022-11-22 20:01:07--  http://54.243.252.9/ce-5319-webroot/1-Databases/MaterialCracking/UT-881-image_src/Image22.png\r\n",
      "Reusing existing connection to 54.243.252.9:80.\r\n",
      "HTTP request sent, awaiting response... "
     ]
    },
    {
     "name": "stdout",
     "output_type": "stream",
     "text": [
      "200 OK\r\n",
      "Length: 12424 (12K) [image/png]\r\n",
      "Saving to: ‘./MyImageFiles/Image22.png’\r\n",
      "\r\n",
      "\r",
      "Image22.png           0%[                    ]       0  --.-KB/s               \r",
      "Image22.png         100%[===================>]  12.13K  --.-KB/s    in 0s      \r\n",
      "\r\n",
      "2022-11-22 20:01:07 (53.0 MB/s) - ‘./MyImageFiles/Image22.png’ saved [12424/12424]\r\n",
      "\r\n",
      "--2022-11-22 20:01:07--  http://54.243.252.9/ce-5319-webroot/1-Databases/MaterialCracking/UT-881-image_src/Image23.png\r\n",
      "Reusing existing connection to 54.243.252.9:80.\r\n",
      "HTTP request sent, awaiting response... "
     ]
    },
    {
     "name": "stdout",
     "output_type": "stream",
     "text": [
      "200 OK\r\n",
      "Length: 14645 (14K) [image/png]\r\n",
      "Saving to: ‘./MyImageFiles/Image23.png’\r\n",
      "\r\n",
      "\r",
      "Image23.png           0%[                    ]       0  --.-KB/s               \r",
      "Image23.png         100%[===================>]  14.30K  --.-KB/s    in 0s      \r\n",
      "\r\n",
      "2022-11-22 20:01:07 (54.8 MB/s) - ‘./MyImageFiles/Image23.png’ saved [14645/14645]\r\n",
      "\r\n",
      "--2022-11-22 20:01:07--  http://54.243.252.9/ce-5319-webroot/1-Databases/MaterialCracking/UT-881-image_src/Image24.png\r\n",
      "Reusing existing connection to 54.243.252.9:80.\r\n",
      "HTTP request sent, awaiting response... "
     ]
    },
    {
     "name": "stdout",
     "output_type": "stream",
     "text": [
      "200 OK\r\n",
      "Length: 14440 (14K) [image/png]\r\n",
      "Saving to: ‘./MyImageFiles/Image24.png’\r\n",
      "\r\n",
      "\r",
      "Image24.png           0%[                    ]       0  --.-KB/s               \r",
      "Image24.png         100%[===================>]  14.10K  --.-KB/s    in 0s      \r\n",
      "\r\n",
      "2022-11-22 20:01:07 (29.4 MB/s) - ‘./MyImageFiles/Image24.png’ saved [14440/14440]\r\n",
      "\r\n",
      "--2022-11-22 20:01:07--  http://54.243.252.9/ce-5319-webroot/1-Databases/MaterialCracking/UT-881-image_src/Image25.png\r\n",
      "Reusing existing connection to 54.243.252.9:80.\r\n",
      "HTTP request sent, awaiting response... "
     ]
    },
    {
     "name": "stdout",
     "output_type": "stream",
     "text": [
      "200 OK\r\n",
      "Length: 12926 (13K) [image/png]\r\n",
      "Saving to: ‘./MyImageFiles/Image25.png’\r\n",
      "\r\n",
      "\r",
      "Image25.png           0%[                    ]       0  --.-KB/s               \r",
      "Image25.png         100%[===================>]  12.62K  --.-KB/s    in 0s      \r\n",
      "\r\n",
      "2022-11-22 20:01:07 (31.0 MB/s) - ‘./MyImageFiles/Image25.png’ saved [12926/12926]\r\n",
      "\r\n",
      "--2022-11-22 20:01:07--  http://54.243.252.9/ce-5319-webroot/1-Databases/MaterialCracking/UT-881-image_src/Image26.png\r\n",
      "Reusing existing connection to 54.243.252.9:80.\r\n",
      "HTTP request sent, awaiting response... "
     ]
    },
    {
     "name": "stdout",
     "output_type": "stream",
     "text": [
      "200 OK\r\n",
      "Length: 11168 (11K) [image/png]\r\n",
      "Saving to: ‘./MyImageFiles/Image26.png’\r\n",
      "\r\n",
      "\r",
      "Image26.png           0%[                    ]       0  --.-KB/s               \r",
      "Image26.png         100%[===================>]  10.91K  --.-KB/s    in 0s      \r\n",
      "\r\n",
      "2022-11-22 20:01:07 (32.0 MB/s) - ‘./MyImageFiles/Image26.png’ saved [11168/11168]\r\n",
      "\r\n",
      "--2022-11-22 20:01:07--  http://54.243.252.9/ce-5319-webroot/1-Databases/MaterialCracking/UT-881-image_src/Image27.png\r\n",
      "Reusing existing connection to 54.243.252.9:80.\r\n",
      "HTTP request sent, awaiting response... "
     ]
    },
    {
     "name": "stdout",
     "output_type": "stream",
     "text": [
      "200 OK\r\n",
      "Length: 14174 (14K) [image/png]\r\n",
      "Saving to: ‘./MyImageFiles/Image27.png’\r\n",
      "\r\n",
      "\r",
      "Image27.png           0%[                    ]       0  --.-KB/s               \r",
      "Image27.png         100%[===================>]  13.84K  --.-KB/s    in 0s      \r\n",
      "\r\n",
      "2022-11-22 20:01:07 (35.1 MB/s) - ‘./MyImageFiles/Image27.png’ saved [14174/14174]\r\n",
      "\r\n",
      "--2022-11-22 20:01:07--  http://54.243.252.9/ce-5319-webroot/1-Databases/MaterialCracking/UT-881-image_src/Image28.png\r\n",
      "Reusing existing connection to 54.243.252.9:80.\r\n",
      "HTTP request sent, awaiting response... "
     ]
    },
    {
     "name": "stdout",
     "output_type": "stream",
     "text": [
      "200 OK\r\n",
      "Length: 14281 (14K) [image/png]\r\n",
      "Saving to: ‘./MyImageFiles/Image28.png’\r\n",
      "\r\n",
      "\r",
      "Image28.png           0%[                    ]       0  --.-KB/s               \r",
      "Image28.png         100%[===================>]  13.95K  --.-KB/s    in 0s      \r\n",
      "\r\n",
      "2022-11-22 20:01:07 (31.7 MB/s) - ‘./MyImageFiles/Image28.png’ saved [14281/14281]\r\n",
      "\r\n",
      "--2022-11-22 20:01:07--  http://54.243.252.9/ce-5319-webroot/1-Databases/MaterialCracking/UT-881-image_src/Image29.png\r\n",
      "Reusing existing connection to 54.243.252.9:80.\r\n",
      "HTTP request sent, awaiting response... "
     ]
    },
    {
     "name": "stdout",
     "output_type": "stream",
     "text": [
      "200 OK\r\n",
      "Length: 13607 (13K) [image/png]\r\n",
      "Saving to: ‘./MyImageFiles/Image29.png’\r\n",
      "\r\n",
      "\r",
      "Image29.png           0%[                    ]       0  --.-KB/s               \r",
      "Image29.png         100%[===================>]  13.29K  --.-KB/s    in 0s      \r\n",
      "\r\n",
      "2022-11-22 20:01:07 (30.6 MB/s) - ‘./MyImageFiles/Image29.png’ saved [13607/13607]\r\n",
      "\r\n",
      "--2022-11-22 20:01:07--  http://54.243.252.9/ce-5319-webroot/1-Databases/MaterialCracking/UT-881-image_src/Image30.png\r\n",
      "Reusing existing connection to 54.243.252.9:80.\r\n",
      "HTTP request sent, awaiting response... "
     ]
    },
    {
     "name": "stdout",
     "output_type": "stream",
     "text": [
      "200 OK\r\n",
      "Length: 11020 (11K) [image/png]\r\n",
      "Saving to: ‘./MyImageFiles/Image30.png’\r\n",
      "\r\n",
      "\r",
      "Image30.png           0%[                    ]       0  --.-KB/s               \r",
      "Image30.png         100%[===================>]  10.76K  --.-KB/s    in 0s      \r\n",
      "\r\n",
      "2022-11-22 20:01:08 (33.4 MB/s) - ‘./MyImageFiles/Image30.png’ saved [11020/11020]\r\n",
      "\r\n",
      "--2022-11-22 20:01:08--  http://54.243.252.9/ce-5319-webroot/1-Databases/MaterialCracking/UT-881-image_src/Image31.png\r\n",
      "Reusing existing connection to 54.243.252.9:80.\r\n",
      "HTTP request sent, awaiting response... "
     ]
    },
    {
     "name": "stdout",
     "output_type": "stream",
     "text": [
      "200 OK\r\n",
      "Length: 13757 (13K) [image/png]\r\n",
      "Saving to: ‘./MyImageFiles/Image31.png’\r\n",
      "\r\n",
      "\r",
      "Image31.png           0%[                    ]       0  --.-KB/s               \r",
      "Image31.png         100%[===================>]  13.43K  --.-KB/s    in 0s      \r\n",
      "\r\n",
      "2022-11-22 20:01:08 (48.2 MB/s) - ‘./MyImageFiles/Image31.png’ saved [13757/13757]\r\n",
      "\r\n",
      "--2022-11-22 20:01:08--  http://54.243.252.9/ce-5319-webroot/1-Databases/MaterialCracking/UT-881-image_src/Image32.png\r\n",
      "Reusing existing connection to 54.243.252.9:80.\r\n",
      "HTTP request sent, awaiting response... "
     ]
    },
    {
     "name": "stdout",
     "output_type": "stream",
     "text": [
      "200 OK\r\n",
      "Length: 15072 (15K) [image/png]\r\n",
      "Saving to: ‘./MyImageFiles/Image32.png’\r\n",
      "\r\n",
      "\r",
      "Image32.png           0%[                    ]       0  --.-KB/s               \r",
      "Image32.png         100%[===================>]  14.72K  --.-KB/s    in 0s      \r\n",
      "\r\n",
      "2022-11-22 20:01:08 (37.9 MB/s) - ‘./MyImageFiles/Image32.png’ saved [15072/15072]\r\n",
      "\r\n",
      "--2022-11-22 20:01:08--  http://54.243.252.9/ce-5319-webroot/1-Databases/MaterialCracking/UT-881-image_src/Image33.png\r\n",
      "Reusing existing connection to 54.243.252.9:80.\r\n",
      "HTTP request sent, awaiting response... "
     ]
    },
    {
     "name": "stdout",
     "output_type": "stream",
     "text": [
      "200 OK\r\n",
      "Length: 12381 (12K) [image/png]\r\n",
      "Saving to: ‘./MyImageFiles/Image33.png’\r\n",
      "\r\n",
      "\r",
      "Image33.png           0%[                    ]       0  --.-KB/s               \r",
      "Image33.png         100%[===================>]  12.09K  --.-KB/s    in 0s      \r\n",
      "\r\n",
      "2022-11-22 20:01:08 (29.5 MB/s) - ‘./MyImageFiles/Image33.png’ saved [12381/12381]\r\n",
      "\r\n",
      "--2022-11-22 20:01:08--  http://54.243.252.9/ce-5319-webroot/1-Databases/MaterialCracking/UT-881-image_src/Image34.png\r\n",
      "Reusing existing connection to 54.243.252.9:80.\r\n",
      "HTTP request sent, awaiting response... "
     ]
    },
    {
     "name": "stdout",
     "output_type": "stream",
     "text": [
      "200 OK\r\n",
      "Length: 12600 (12K) [image/png]\r\n",
      "Saving to: ‘./MyImageFiles/Image34.png’\r\n",
      "\r\n",
      "\r",
      "Image34.png           0%[                    ]       0  --.-KB/s               \r",
      "Image34.png         100%[===================>]  12.30K  --.-KB/s    in 0s      \r\n",
      "\r\n",
      "2022-11-22 20:01:08 (33.4 MB/s) - ‘./MyImageFiles/Image34.png’ saved [12600/12600]\r\n",
      "\r\n",
      "--2022-11-22 20:01:08--  http://54.243.252.9/ce-5319-webroot/1-Databases/MaterialCracking/UT-881-image_src/Image35.png\r\n",
      "Reusing existing connection to 54.243.252.9:80.\r\n",
      "HTTP request sent, awaiting response... 200 OK\r\n",
      "Length: 12181 (12K) [image/png]\r\n",
      "Saving to: ‘./MyImageFiles/Image35.png’\r\n",
      "\r\n",
      "\r",
      "Image35.png           0%[                    ]       0  --.-KB/s               \r",
      "Image35.png         100%[===================>]  11.90K  --.-KB/s    in 0s      \r\n",
      "\r\n",
      "2022-11-22 20:01:08 (56.4 MB/s) - ‘./MyImageFiles/Image35.png’ saved [12181/12181]\r\n",
      "\r\n",
      "--2022-11-22 20:01:08--  http://54.243.252.9/ce-5319-webroot/1-Databases/MaterialCracking/UT-881-image_src/Image36.png\r\n",
      "Reusing existing connection to 54.243.252.9:80.\r\n",
      "HTTP request sent, awaiting response... "
     ]
    },
    {
     "name": "stdout",
     "output_type": "stream",
     "text": [
      "200 OK\r\n",
      "Length: 13128 (13K) [image/png]\r\n",
      "Saving to: ‘./MyImageFiles/Image36.png’\r\n",
      "\r\n",
      "\r",
      "Image36.png           0%[                    ]       0  --.-KB/s               \r",
      "Image36.png         100%[===================>]  12.82K  --.-KB/s    in 0s      \r\n",
      "\r\n",
      "2022-11-22 20:01:08 (37.2 MB/s) - ‘./MyImageFiles/Image36.png’ saved [13128/13128]\r\n",
      "\r\n",
      "--2022-11-22 20:01:08--  http://54.243.252.9/ce-5319-webroot/1-Databases/MaterialCracking/UT-881-image_src/Image37.png\r\n",
      "Reusing existing connection to 54.243.252.9:80.\r\n",
      "HTTP request sent, awaiting response... "
     ]
    },
    {
     "name": "stdout",
     "output_type": "stream",
     "text": [
      "200 OK\r\n",
      "Length: 14504 (14K) [image/png]\r\n",
      "Saving to: ‘./MyImageFiles/Image37.png’\r\n",
      "\r\n",
      "\r",
      "Image37.png           0%[                    ]       0  --.-KB/s               \r",
      "Image37.png         100%[===================>]  14.16K  --.-KB/s    in 0s      \r\n",
      "\r\n",
      "2022-11-22 20:01:08 (39.9 MB/s) - ‘./MyImageFiles/Image37.png’ saved [14504/14504]\r\n",
      "\r\n",
      "--2022-11-22 20:01:08--  http://54.243.252.9/ce-5319-webroot/1-Databases/MaterialCracking/UT-881-image_src/Image38.png\r\n",
      "Reusing existing connection to 54.243.252.9:80.\r\n",
      "HTTP request sent, awaiting response... "
     ]
    },
    {
     "name": "stdout",
     "output_type": "stream",
     "text": [
      "200 OK\r\n",
      "Length: 15284 (15K) [image/png]\r\n",
      "Saving to: ‘./MyImageFiles/Image38.png’\r\n",
      "\r\n",
      "\r",
      "Image38.png           0%[                    ]       0  --.-KB/s               \r",
      "Image38.png         100%[===================>]  14.93K  --.-KB/s    in 0s      \r\n",
      "\r\n",
      "2022-11-22 20:01:08 (42.2 MB/s) - ‘./MyImageFiles/Image38.png’ saved [15284/15284]\r\n",
      "\r\n",
      "--2022-11-22 20:01:08--  http://54.243.252.9/ce-5319-webroot/1-Databases/MaterialCracking/UT-881-image_src/Image39.png\r\n",
      "Reusing existing connection to 54.243.252.9:80.\r\n",
      "HTTP request sent, awaiting response... "
     ]
    },
    {
     "name": "stdout",
     "output_type": "stream",
     "text": [
      "200 OK\r\n",
      "Length: 10358 (10K) [image/png]\r\n",
      "Saving to: ‘./MyImageFiles/Image39.png’\r\n",
      "\r\n",
      "\r",
      "Image39.png           0%[                    ]       0  --.-KB/s               \r",
      "Image39.png         100%[===================>]  10.12K  --.-KB/s    in 0s      \r\n",
      "\r\n",
      "2022-11-22 20:01:08 (34.0 MB/s) - ‘./MyImageFiles/Image39.png’ saved [10358/10358]\r\n",
      "\r\n",
      "--2022-11-22 20:01:08--  http://54.243.252.9/ce-5319-webroot/1-Databases/MaterialCracking/UT-881-image_src/Image40.png\r\n",
      "Reusing existing connection to 54.243.252.9:80.\r\n",
      "HTTP request sent, awaiting response... "
     ]
    },
    {
     "name": "stdout",
     "output_type": "stream",
     "text": [
      "200 OK\r\n",
      "Length: 15472 (15K) [image/png]\r\n",
      "Saving to: ‘./MyImageFiles/Image40.png’\r\n",
      "\r\n",
      "\r",
      "Image40.png           0%[                    ]       0  --.-KB/s               \r",
      "Image40.png         100%[===================>]  15.11K  --.-KB/s    in 0s      \r\n",
      "\r\n",
      "2022-11-22 20:01:08 (38.6 MB/s) - ‘./MyImageFiles/Image40.png’ saved [15472/15472]\r\n",
      "\r\n",
      "--2022-11-22 20:01:08--  http://54.243.252.9/ce-5319-webroot/1-Databases/MaterialCracking/UT-881-image_src/Image41.png\r\n",
      "Reusing existing connection to 54.243.252.9:80.\r\n",
      "HTTP request sent, awaiting response... "
     ]
    },
    {
     "name": "stdout",
     "output_type": "stream",
     "text": [
      "200 OK\r\n",
      "Length: 10277 (10K) [image/png]\r\n",
      "Saving to: ‘./MyImageFiles/Image41.png’\r\n",
      "\r\n",
      "\r",
      "Image41.png           0%[                    ]       0  --.-KB/s               \r",
      "Image41.png         100%[===================>]  10.04K  --.-KB/s    in 0s      \r\n",
      "\r\n",
      "2022-11-22 20:01:08 (30.7 MB/s) - ‘./MyImageFiles/Image41.png’ saved [10277/10277]\r\n",
      "\r\n",
      "--2022-11-22 20:01:08--  http://54.243.252.9/ce-5319-webroot/1-Databases/MaterialCracking/UT-881-image_src/Image42.png\r\n",
      "Reusing existing connection to 54.243.252.9:80.\r\n",
      "HTTP request sent, awaiting response... "
     ]
    },
    {
     "name": "stdout",
     "output_type": "stream",
     "text": [
      "200 OK\r\n",
      "Length: 12949 (13K) [image/png]\r\n",
      "Saving to: ‘./MyImageFiles/Image42.png’\r\n",
      "\r\n",
      "\r",
      "Image42.png           0%[                    ]       0  --.-KB/s               \r",
      "Image42.png         100%[===================>]  12.65K  --.-KB/s    in 0s      \r\n",
      "\r\n",
      "2022-11-22 20:01:08 (47.8 MB/s) - ‘./MyImageFiles/Image42.png’ saved [12949/12949]\r\n",
      "\r\n",
      "--2022-11-22 20:01:08--  http://54.243.252.9/ce-5319-webroot/1-Databases/MaterialCracking/UT-881-image_src/Image43.png\r\n",
      "Reusing existing connection to 54.243.252.9:80.\r\n",
      "HTTP request sent, awaiting response... "
     ]
    },
    {
     "name": "stdout",
     "output_type": "stream",
     "text": [
      "200 OK\r\n",
      "Length: 14135 (14K) [image/png]\r\n",
      "Saving to: ‘./MyImageFiles/Image43.png’\r\n",
      "\r\n",
      "\r",
      "Image43.png           0%[                    ]       0  --.-KB/s               \r",
      "Image43.png         100%[===================>]  13.80K  --.-KB/s    in 0s      \r\n",
      "\r\n",
      "2022-11-22 20:01:08 (54.2 MB/s) - ‘./MyImageFiles/Image43.png’ saved [14135/14135]\r\n",
      "\r\n",
      "--2022-11-22 20:01:08--  http://54.243.252.9/ce-5319-webroot/1-Databases/MaterialCracking/UT-881-image_src/Image44.png\r\n",
      "Reusing existing connection to 54.243.252.9:80.\r\n",
      "HTTP request sent, awaiting response... "
     ]
    },
    {
     "name": "stdout",
     "output_type": "stream",
     "text": [
      "200 OK\r\n",
      "Length: 13537 (13K) [image/png]\r\n",
      "Saving to: ‘./MyImageFiles/Image44.png’\r\n",
      "\r\n",
      "\r",
      "Image44.png           0%[                    ]       0  --.-KB/s               \r",
      "Image44.png         100%[===================>]  13.22K  --.-KB/s    in 0s      \r\n",
      "\r\n",
      "2022-11-22 20:01:08 (54.8 MB/s) - ‘./MyImageFiles/Image44.png’ saved [13537/13537]\r\n",
      "\r\n",
      "--2022-11-22 20:01:08--  http://54.243.252.9/ce-5319-webroot/1-Databases/MaterialCracking/UT-881-image_src/Image45.png\r\n",
      "Reusing existing connection to 54.243.252.9:80.\r\n",
      "HTTP request sent, awaiting response... "
     ]
    },
    {
     "name": "stdout",
     "output_type": "stream",
     "text": [
      "200 OK\r\n",
      "Length: 14427 (14K) [image/png]\r\n",
      "Saving to: ‘./MyImageFiles/Image45.png’\r\n",
      "\r\n",
      "\r",
      "Image45.png           0%[                    ]       0  --.-KB/s               \r",
      "Image45.png         100%[===================>]  14.09K  --.-KB/s    in 0s      \r\n",
      "\r\n",
      "2022-11-22 20:01:08 (40.5 MB/s) - ‘./MyImageFiles/Image45.png’ saved [14427/14427]\r\n",
      "\r\n",
      "--2022-11-22 20:01:08--  http://54.243.252.9/ce-5319-webroot/1-Databases/MaterialCracking/UT-881-image_src/Image46.png\r\n",
      "Reusing existing connection to 54.243.252.9:80.\r\n",
      "HTTP request sent, awaiting response... "
     ]
    },
    {
     "name": "stdout",
     "output_type": "stream",
     "text": [
      "200 OK\r\n",
      "Length: 10202 (10.0K) [image/png]\r\n",
      "Saving to: ‘./MyImageFiles/Image46.png’\r\n",
      "\r\n",
      "\r",
      "Image46.png           0%[                    ]       0  --.-KB/s               \r",
      "Image46.png         100%[===================>]   9.96K  --.-KB/s    in 0s      \r\n",
      "\r\n",
      "2022-11-22 20:01:08 (27.2 MB/s) - ‘./MyImageFiles/Image46.png’ saved [10202/10202]\r\n",
      "\r\n",
      "--2022-11-22 20:01:08--  http://54.243.252.9/ce-5319-webroot/1-Databases/MaterialCracking/UT-881-image_src/Image47.png\r\n",
      "Reusing existing connection to 54.243.252.9:80.\r\n",
      "HTTP request sent, awaiting response... "
     ]
    },
    {
     "name": "stdout",
     "output_type": "stream",
     "text": [
      "200 OK\r\n",
      "Length: 14860 (15K) [image/png]\r\n",
      "Saving to: ‘./MyImageFiles/Image47.png’\r\n",
      "\r\n",
      "\r",
      "Image47.png           0%[                    ]       0  --.-KB/s               \r",
      "Image47.png         100%[===================>]  14.51K  --.-KB/s    in 0s      \r\n",
      "\r\n",
      "2022-11-22 20:01:08 (60.7 MB/s) - ‘./MyImageFiles/Image47.png’ saved [14860/14860]\r\n",
      "\r\n",
      "--2022-11-22 20:01:08--  http://54.243.252.9/ce-5319-webroot/1-Databases/MaterialCracking/UT-881-image_src/Image48.png\r\n",
      "Reusing existing connection to 54.243.252.9:80.\r\n",
      "HTTP request sent, awaiting response... "
     ]
    },
    {
     "name": "stdout",
     "output_type": "stream",
     "text": [
      "200 OK\r\n",
      "Length: 13475 (13K) [image/png]\r\n",
      "Saving to: ‘./MyImageFiles/Image48.png’\r\n",
      "\r\n",
      "\r",
      "Image48.png           0%[                    ]       0  --.-KB/s               \r",
      "Image48.png         100%[===================>]  13.16K  --.-KB/s    in 0s      \r\n",
      "\r\n",
      "2022-11-22 20:01:08 (32.1 MB/s) - ‘./MyImageFiles/Image48.png’ saved [13475/13475]\r\n",
      "\r\n",
      "--2022-11-22 20:01:08--  http://54.243.252.9/ce-5319-webroot/1-Databases/MaterialCracking/UT-881-image_src/Image49.png\r\n",
      "Reusing existing connection to 54.243.252.9:80.\r\n",
      "HTTP request sent, awaiting response... "
     ]
    },
    {
     "name": "stdout",
     "output_type": "stream",
     "text": [
      "200 OK\r\n",
      "Length: 13904 (14K) [image/png]\r\n",
      "Saving to: ‘./MyImageFiles/Image49.png’\r\n",
      "\r\n",
      "\r",
      "Image49.png           0%[                    ]       0  --.-KB/s               \r",
      "Image49.png         100%[===================>]  13.58K  --.-KB/s    in 0s      \r\n",
      "\r\n",
      "2022-11-22 20:01:09 (36.1 MB/s) - ‘./MyImageFiles/Image49.png’ saved [13904/13904]\r\n",
      "\r\n",
      "--2022-11-22 20:01:09--  http://54.243.252.9/ce-5319-webroot/1-Databases/MaterialCracking/UT-881-image_src/Image50.png\r\n",
      "Reusing existing connection to 54.243.252.9:80.\r\n",
      "HTTP request sent, awaiting response... "
     ]
    },
    {
     "name": "stdout",
     "output_type": "stream",
     "text": [
      "200 OK\r\n",
      "Length: 15062 (15K) [image/png]\r\n",
      "Saving to: ‘./MyImageFiles/Image50.png’\r\n",
      "\r\n",
      "\r",
      "Image50.png           0%[                    ]       0  --.-KB/s               \r",
      "Image50.png         100%[===================>]  14.71K  --.-KB/s    in 0s      \r\n",
      "\r\n",
      "2022-11-22 20:01:09 (30.0 MB/s) - ‘./MyImageFiles/Image50.png’ saved [15062/15062]\r\n",
      "\r\n",
      "--2022-11-22 20:01:09--  http://54.243.252.9/ce-5319-webroot/1-Databases/MaterialCracking/UT-881-image_src/Image51.png\r\n",
      "Reusing existing connection to 54.243.252.9:80.\r\n",
      "HTTP request sent, awaiting response... "
     ]
    },
    {
     "name": "stdout",
     "output_type": "stream",
     "text": [
      "200 OK\r\n",
      "Length: 13040 (13K) [image/png]\r\n",
      "Saving to: ‘./MyImageFiles/Image51.png’\r\n",
      "\r\n",
      "\r",
      "Image51.png           0%[                    ]       0  --.-KB/s               \r",
      "Image51.png         100%[===================>]  12.73K  --.-KB/s    in 0s      \r\n",
      "\r\n",
      "2022-11-22 20:01:09 (46.3 MB/s) - ‘./MyImageFiles/Image51.png’ saved [13040/13040]\r\n",
      "\r\n",
      "--2022-11-22 20:01:09--  http://54.243.252.9/ce-5319-webroot/1-Databases/MaterialCracking/UT-881-image_src/Image52.png\r\n",
      "Reusing existing connection to 54.243.252.9:80.\r\n",
      "HTTP request sent, awaiting response... "
     ]
    },
    {
     "name": "stdout",
     "output_type": "stream",
     "text": [
      "200 OK\r\n",
      "Length: 14258 (14K) [image/png]\r\n",
      "Saving to: ‘./MyImageFiles/Image52.png’\r\n",
      "\r\n",
      "\r",
      "Image52.png           0%[                    ]       0  --.-KB/s               \r",
      "Image52.png         100%[===================>]  13.92K  --.-KB/s    in 0s      \r\n",
      "\r\n",
      "2022-11-22 20:01:09 (37.0 MB/s) - ‘./MyImageFiles/Image52.png’ saved [14258/14258]\r\n",
      "\r\n",
      "--2022-11-22 20:01:09--  http://54.243.252.9/ce-5319-webroot/1-Databases/MaterialCracking/UT-881-image_src/Image53.png\r\n",
      "Reusing existing connection to 54.243.252.9:80.\r\n",
      "HTTP request sent, awaiting response... 200 OK\r\n",
      "Length: 14223 (14K) [image/png]\r\n",
      "Saving to: ‘./MyImageFiles/Image53.png’\r\n",
      "\r\n",
      "\r",
      "Image53.png           0%[                    ]       0  --.-KB/s               \r",
      "Image53.png         100%[===================>]  13.89K  --.-KB/s    in 0s      \r\n",
      "\r\n",
      "2022-11-22 20:01:09 (44.3 MB/s) - ‘./MyImageFiles/Image53.png’ saved [14223/14223]\r\n",
      "\r\n",
      "--2022-11-22 20:01:09--  http://54.243.252.9/ce-5319-webroot/1-Databases/MaterialCracking/UT-881-image_src/Image54.png\r\n",
      "Reusing existing connection to 54.243.252.9:80.\r\n",
      "HTTP request sent, awaiting response... "
     ]
    },
    {
     "name": "stdout",
     "output_type": "stream",
     "text": [
      "200 OK\r\n",
      "Length: 10245 (10K) [image/png]\r\n",
      "Saving to: ‘./MyImageFiles/Image54.png’\r\n",
      "\r\n",
      "\r",
      "Image54.png           0%[                    ]       0  --.-KB/s               \r",
      "Image54.png         100%[===================>]  10.00K  --.-KB/s    in 0s      \r\n",
      "\r\n",
      "2022-11-22 20:01:09 (30.4 MB/s) - ‘./MyImageFiles/Image54.png’ saved [10245/10245]\r\n",
      "\r\n",
      "--2022-11-22 20:01:09--  http://54.243.252.9/ce-5319-webroot/1-Databases/MaterialCracking/UT-881-image_src/Image55.png\r\n",
      "Reusing existing connection to 54.243.252.9:80.\r\n",
      "HTTP request sent, awaiting response... "
     ]
    },
    {
     "name": "stdout",
     "output_type": "stream",
     "text": [
      "200 OK\r\n",
      "Length: 12960 (13K) [image/png]\r\n",
      "Saving to: ‘./MyImageFiles/Image55.png’\r\n",
      "\r\n",
      "\r",
      "Image55.png           0%[                    ]       0  --.-KB/s               \r",
      "Image55.png         100%[===================>]  12.66K  --.-KB/s    in 0s      \r\n",
      "\r\n",
      "2022-11-22 20:01:09 (36.5 MB/s) - ‘./MyImageFiles/Image55.png’ saved [12960/12960]\r\n",
      "\r\n",
      "--2022-11-22 20:01:09--  http://54.243.252.9/ce-5319-webroot/1-Databases/MaterialCracking/UT-881-image_src/Image56.png\r\n",
      "Reusing existing connection to 54.243.252.9:80.\r\n",
      "HTTP request sent, awaiting response... "
     ]
    },
    {
     "name": "stdout",
     "output_type": "stream",
     "text": [
      "200 OK\r\n",
      "Length: 14210 (14K) [image/png]\r\n",
      "Saving to: ‘./MyImageFiles/Image56.png’\r\n",
      "\r\n",
      "\r",
      "Image56.png           0%[                    ]       0  --.-KB/s               \r",
      "Image56.png         100%[===================>]  13.88K  --.-KB/s    in 0s      \r\n",
      "\r\n",
      "2022-11-22 20:01:09 (38.0 MB/s) - ‘./MyImageFiles/Image56.png’ saved [14210/14210]\r\n",
      "\r\n",
      "--2022-11-22 20:01:09--  http://54.243.252.9/ce-5319-webroot/1-Databases/MaterialCracking/UT-881-image_src/Image57.png\r\n",
      "Reusing existing connection to 54.243.252.9:80.\r\n",
      "HTTP request sent, awaiting response... "
     ]
    },
    {
     "name": "stdout",
     "output_type": "stream",
     "text": [
      "200 OK\r\n",
      "Length: 14419 (14K) [image/png]\r\n",
      "Saving to: ‘./MyImageFiles/Image57.png’\r\n",
      "\r\n",
      "\r",
      "Image57.png           0%[                    ]       0  --.-KB/s               \r",
      "Image57.png         100%[===================>]  14.08K  --.-KB/s    in 0s      \r\n",
      "\r\n",
      "2022-11-22 20:01:09 (32.2 MB/s) - ‘./MyImageFiles/Image57.png’ saved [14419/14419]\r\n",
      "\r\n",
      "--2022-11-22 20:01:09--  http://54.243.252.9/ce-5319-webroot/1-Databases/MaterialCracking/UT-881-image_src/Image58.png\r\n",
      "Reusing existing connection to 54.243.252.9:80.\r\n",
      "HTTP request sent, awaiting response... "
     ]
    },
    {
     "name": "stdout",
     "output_type": "stream",
     "text": [
      "200 OK\r\n",
      "Length: 12147 (12K) [image/png]\r\n",
      "Saving to: ‘./MyImageFiles/Image58.png’\r\n",
      "\r\n",
      "\r",
      "Image58.png           0%[                    ]       0  --.-KB/s               \r",
      "Image58.png         100%[===================>]  11.86K  --.-KB/s    in 0s      \r\n",
      "\r\n",
      "2022-11-22 20:01:09 (49.2 MB/s) - ‘./MyImageFiles/Image58.png’ saved [12147/12147]\r\n",
      "\r\n",
      "--2022-11-22 20:01:09--  http://54.243.252.9/ce-5319-webroot/1-Databases/MaterialCracking/UT-881-image_src/Image59.png\r\n",
      "Reusing existing connection to 54.243.252.9:80.\r\n",
      "HTTP request sent, awaiting response... "
     ]
    },
    {
     "name": "stdout",
     "output_type": "stream",
     "text": [
      "200 OK\r\n",
      "Length: 9471 (9.2K) [image/png]\r\n",
      "Saving to: ‘./MyImageFiles/Image59.png’\r\n",
      "\r\n",
      "\r",
      "Image59.png           0%[                    ]       0  --.-KB/s               \r",
      "Image59.png         100%[===================>]   9.25K  --.-KB/s    in 0s      \r\n",
      "\r\n",
      "2022-11-22 20:01:09 (32.3 MB/s) - ‘./MyImageFiles/Image59.png’ saved [9471/9471]\r\n",
      "\r\n",
      "--2022-11-22 20:01:09--  http://54.243.252.9/ce-5319-webroot/1-Databases/MaterialCracking/UT-881-image_src/Image60.png\r\n",
      "Reusing existing connection to 54.243.252.9:80.\r\n",
      "HTTP request sent, awaiting response... "
     ]
    },
    {
     "name": "stdout",
     "output_type": "stream",
     "text": [
      "200 OK\r\n",
      "Length: 13855 (14K) [image/png]\r\n",
      "Saving to: ‘./MyImageFiles/Image60.png’\r\n",
      "\r\n",
      "\r",
      "Image60.png           0%[                    ]       0  --.-KB/s               \r",
      "Image60.png         100%[===================>]  13.53K  --.-KB/s    in 0s      \r\n",
      "\r\n",
      "2022-11-22 20:01:09 (37.0 MB/s) - ‘./MyImageFiles/Image60.png’ saved [13855/13855]\r\n",
      "\r\n",
      "--2022-11-22 20:01:09--  http://54.243.252.9/ce-5319-webroot/1-Databases/MaterialCracking/UT-881-image_src/Image61.png\r\n",
      "Reusing existing connection to 54.243.252.9:80.\r\n",
      "HTTP request sent, awaiting response... "
     ]
    },
    {
     "name": "stdout",
     "output_type": "stream",
     "text": [
      "200 OK\r\n",
      "Length: 14451 (14K) [image/png]\r\n",
      "Saving to: ‘./MyImageFiles/Image61.png’\r\n",
      "\r\n",
      "\r",
      "Image61.png           0%[                    ]       0  --.-KB/s               \r",
      "Image61.png         100%[===================>]  14.11K  --.-KB/s    in 0s      \r\n",
      "\r\n",
      "2022-11-22 20:01:09 (38.5 MB/s) - ‘./MyImageFiles/Image61.png’ saved [14451/14451]\r\n",
      "\r\n",
      "--2022-11-22 20:01:09--  http://54.243.252.9/ce-5319-webroot/1-Databases/MaterialCracking/UT-881-image_src/Image62.png\r\n",
      "Reusing existing connection to 54.243.252.9:80.\r\n",
      "HTTP request sent, awaiting response... "
     ]
    },
    {
     "name": "stdout",
     "output_type": "stream",
     "text": [
      "200 OK\r\n",
      "Length: 15185 (15K) [image/png]\r\n",
      "Saving to: ‘./MyImageFiles/Image62.png’\r\n",
      "\r\n",
      "\r",
      "Image62.png           0%[                    ]       0  --.-KB/s               \r",
      "Image62.png         100%[===================>]  14.83K  --.-KB/s    in 0s      \r\n",
      "\r\n",
      "2022-11-22 20:01:09 (47.6 MB/s) - ‘./MyImageFiles/Image62.png’ saved [15185/15185]\r\n",
      "\r\n",
      "--2022-11-22 20:01:09--  http://54.243.252.9/ce-5319-webroot/1-Databases/MaterialCracking/UT-881-image_src/Image63.png\r\n",
      "Reusing existing connection to 54.243.252.9:80.\r\n",
      "HTTP request sent, awaiting response... "
     ]
    },
    {
     "name": "stdout",
     "output_type": "stream",
     "text": [
      "200 OK\r\n",
      "Length: 13454 (13K) [image/png]\r\n",
      "Saving to: ‘./MyImageFiles/Image63.png’\r\n",
      "\r\n",
      "\r",
      "Image63.png           0%[                    ]       0  --.-KB/s               \r",
      "Image63.png         100%[===================>]  13.14K  --.-KB/s    in 0s      \r\n",
      "\r\n",
      "2022-11-22 20:01:09 (53.0 MB/s) - ‘./MyImageFiles/Image63.png’ saved [13454/13454]\r\n",
      "\r\n",
      "--2022-11-22 20:01:09--  http://54.243.252.9/ce-5319-webroot/1-Databases/MaterialCracking/UT-881-image_src/Image64.png\r\n",
      "Reusing existing connection to 54.243.252.9:80.\r\n",
      "HTTP request sent, awaiting response... "
     ]
    },
    {
     "name": "stdout",
     "output_type": "stream",
     "text": [
      "200 OK\r\n",
      "Length: 11205 (11K) [image/png]\r\n",
      "Saving to: ‘./MyImageFiles/Image64.png’\r\n",
      "\r\n",
      "\r",
      "Image64.png           0%[                    ]       0  --.-KB/s               \r",
      "Image64.png         100%[===================>]  10.94K  --.-KB/s    in 0s      \r\n",
      "\r\n",
      "2022-11-22 20:01:09 (42.1 MB/s) - ‘./MyImageFiles/Image64.png’ saved [11205/11205]\r\n",
      "\r\n",
      "--2022-11-22 20:01:09--  http://54.243.252.9/ce-5319-webroot/1-Databases/MaterialCracking/UT-881-image_src/Image65.png\r\n",
      "Reusing existing connection to 54.243.252.9:80.\r\n",
      "HTTP request sent, awaiting response... "
     ]
    },
    {
     "name": "stdout",
     "output_type": "stream",
     "text": [
      "200 OK\r\n",
      "Length: 9785 (9.6K) [image/png]\r\n",
      "Saving to: ‘./MyImageFiles/Image65.png’\r\n",
      "\r\n",
      "\r",
      "Image65.png           0%[                    ]       0  --.-KB/s               \r",
      "Image65.png         100%[===================>]   9.56K  --.-KB/s    in 0s      \r\n",
      "\r\n",
      "2022-11-22 20:01:09 (40.3 MB/s) - ‘./MyImageFiles/Image65.png’ saved [9785/9785]\r\n",
      "\r\n",
      "--2022-11-22 20:01:09--  http://54.243.252.9/ce-5319-webroot/1-Databases/MaterialCracking/UT-881-image_src/Image66.png\r\n",
      "Reusing existing connection to 54.243.252.9:80.\r\n",
      "HTTP request sent, awaiting response... "
     ]
    },
    {
     "name": "stdout",
     "output_type": "stream",
     "text": [
      "200 OK\r\n",
      "Length: 11691 (11K) [image/png]\r\n",
      "Saving to: ‘./MyImageFiles/Image66.png’\r\n",
      "\r\n",
      "\r",
      "Image66.png           0%[                    ]       0  --.-KB/s               \r",
      "Image66.png         100%[===================>]  11.42K  --.-KB/s    in 0s      \r\n",
      "\r\n",
      "2022-11-22 20:01:09 (51.9 MB/s) - ‘./MyImageFiles/Image66.png’ saved [11691/11691]\r\n",
      "\r\n",
      "--2022-11-22 20:01:09--  http://54.243.252.9/ce-5319-webroot/1-Databases/MaterialCracking/UT-881-image_src/Image67.png\r\n",
      "Reusing existing connection to 54.243.252.9:80.\r\n",
      "HTTP request sent, awaiting response... "
     ]
    },
    {
     "name": "stdout",
     "output_type": "stream",
     "text": [
      "200 OK\r\n",
      "Length: 10574 (10K) [image/png]\r\n",
      "Saving to: ‘./MyImageFiles/Image67.png’\r\n",
      "\r\n",
      "\r",
      "Image67.png           0%[                    ]       0  --.-KB/s               \r",
      "Image67.png         100%[===================>]  10.33K  --.-KB/s    in 0s      \r\n",
      "\r\n",
      "2022-11-22 20:01:09 (44.4 MB/s) - ‘./MyImageFiles/Image67.png’ saved [10574/10574]\r\n",
      "\r\n",
      "--2022-11-22 20:01:09--  http://54.243.252.9/ce-5319-webroot/1-Databases/MaterialCracking/UT-881-image_src/Image68.png\r\n",
      "Reusing existing connection to 54.243.252.9:80.\r\n",
      "HTTP request sent, awaiting response... "
     ]
    },
    {
     "name": "stdout",
     "output_type": "stream",
     "text": [
      "200 OK\r\n",
      "Length: 13930 (14K) [image/png]\r\n",
      "Saving to: ‘./MyImageFiles/Image68.png’\r\n",
      "\r\n",
      "\r",
      "Image68.png           0%[                    ]       0  --.-KB/s               \r",
      "Image68.png         100%[===================>]  13.60K  --.-KB/s    in 0s      \r\n",
      "\r\n",
      "2022-11-22 20:01:09 (55.0 MB/s) - ‘./MyImageFiles/Image68.png’ saved [13930/13930]\r\n",
      "\r\n",
      "--2022-11-22 20:01:09--  http://54.243.252.9/ce-5319-webroot/1-Databases/MaterialCracking/UT-881-image_src/Image69.png\r\n",
      "Reusing existing connection to 54.243.252.9:80.\r\n",
      "HTTP request sent, awaiting response... "
     ]
    },
    {
     "name": "stdout",
     "output_type": "stream",
     "text": [
      "200 OK\r\n",
      "Length: 14168 (14K) [image/png]\r\n",
      "Saving to: ‘./MyImageFiles/Image69.png’\r\n",
      "\r\n",
      "\r",
      "Image69.png           0%[                    ]       0  --.-KB/s               \r",
      "Image69.png         100%[===================>]  13.84K  --.-KB/s    in 0s      \r\n",
      "\r\n",
      "2022-11-22 20:01:10 (41.7 MB/s) - ‘./MyImageFiles/Image69.png’ saved [14168/14168]\r\n",
      "\r\n",
      "--2022-11-22 20:01:10--  http://54.243.252.9/ce-5319-webroot/1-Databases/MaterialCracking/UT-881-image_src/Image70.png\r\n",
      "Reusing existing connection to 54.243.252.9:80.\r\n",
      "HTTP request sent, awaiting response... "
     ]
    },
    {
     "name": "stdout",
     "output_type": "stream",
     "text": [
      "200 OK\r\n",
      "Length: 14695 (14K) [image/png]\r\n",
      "Saving to: ‘./MyImageFiles/Image70.png’\r\n",
      "\r\n",
      "\r",
      "Image70.png           0%[                    ]       0  --.-KB/s               \r",
      "Image70.png         100%[===================>]  14.35K  --.-KB/s    in 0s      \r\n",
      "\r\n",
      "2022-11-22 20:01:10 (68.3 MB/s) - ‘./MyImageFiles/Image70.png’ saved [14695/14695]\r\n",
      "\r\n",
      "--2022-11-22 20:01:10--  http://54.243.252.9/ce-5319-webroot/1-Databases/MaterialCracking/UT-881-image_src/Image71.png\r\n",
      "Reusing existing connection to 54.243.252.9:80.\r\n",
      "HTTP request sent, awaiting response... "
     ]
    },
    {
     "name": "stdout",
     "output_type": "stream",
     "text": [
      "200 OK\r\n",
      "Length: 14200 (14K) [image/png]\r\n",
      "Saving to: ‘./MyImageFiles/Image71.png’\r\n",
      "\r\n",
      "\r",
      "Image71.png           0%[                    ]       0  --.-KB/s               \r",
      "Image71.png         100%[===================>]  13.87K  --.-KB/s    in 0s      \r\n",
      "\r\n",
      "2022-11-22 20:01:10 (42.9 MB/s) - ‘./MyImageFiles/Image71.png’ saved [14200/14200]\r\n",
      "\r\n",
      "--2022-11-22 20:01:10--  http://54.243.252.9/ce-5319-webroot/1-Databases/MaterialCracking/UT-881-image_src/Image72.png\r\n",
      "Reusing existing connection to 54.243.252.9:80.\r\n",
      "HTTP request sent, awaiting response... "
     ]
    },
    {
     "name": "stdout",
     "output_type": "stream",
     "text": [
      "200 OK\r\n",
      "Length: 13803 (13K) [image/png]\r\n",
      "Saving to: ‘./MyImageFiles/Image72.png’\r\n",
      "\r\n",
      "\r",
      "Image72.png           0%[                    ]       0  --.-KB/s               \r",
      "Image72.png         100%[===================>]  13.48K  --.-KB/s    in 0s      \r\n",
      "\r\n",
      "2022-11-22 20:01:10 (31.6 MB/s) - ‘./MyImageFiles/Image72.png’ saved [13803/13803]\r\n",
      "\r\n",
      "--2022-11-22 20:01:10--  http://54.243.252.9/ce-5319-webroot/1-Databases/MaterialCracking/UT-881-image_src/Image73.png\r\n",
      "Reusing existing connection to 54.243.252.9:80.\r\n",
      "HTTP request sent, awaiting response... "
     ]
    },
    {
     "name": "stdout",
     "output_type": "stream",
     "text": [
      "200 OK\r\n",
      "Length: 14094 (14K) [image/png]\r\n",
      "Saving to: ‘./MyImageFiles/Image73.png’\r\n",
      "\r\n",
      "\r",
      "Image73.png           0%[                    ]       0  --.-KB/s               \r",
      "Image73.png         100%[===================>]  13.76K  --.-KB/s    in 0s      \r\n",
      "\r\n",
      "2022-11-22 20:01:10 (36.9 MB/s) - ‘./MyImageFiles/Image73.png’ saved [14094/14094]\r\n",
      "\r\n",
      "--2022-11-22 20:01:10--  http://54.243.252.9/ce-5319-webroot/1-Databases/MaterialCracking/UT-881-image_src/Image74.png\r\n",
      "Reusing existing connection to 54.243.252.9:80.\r\n",
      "HTTP request sent, awaiting response... 200 OK\r\n",
      "Length: "
     ]
    },
    {
     "name": "stdout",
     "output_type": "stream",
     "text": [
      "14363 (14K) [image/png]\r\n",
      "Saving to: ‘./MyImageFiles/Image74.png’\r\n",
      "\r\n",
      "\r",
      "Image74.png           0%[                    ]       0  --.-KB/s               \r",
      "Image74.png         100%[===================>]  14.03K  --.-KB/s    in 0s      \r\n",
      "\r\n",
      "2022-11-22 20:01:10 (53.3 MB/s) - ‘./MyImageFiles/Image74.png’ saved [14363/14363]\r\n",
      "\r\n",
      "--2022-11-22 20:01:10--  http://54.243.252.9/ce-5319-webroot/1-Databases/MaterialCracking/UT-881-image_src/Image75.png\r\n",
      "Reusing existing connection to 54.243.252.9:80.\r\n",
      "HTTP request sent, awaiting response... "
     ]
    },
    {
     "name": "stdout",
     "output_type": "stream",
     "text": [
      "200 OK\r\n",
      "Length: 13104 (13K) [image/png]\r\n",
      "Saving to: ‘./MyImageFiles/Image75.png’\r\n",
      "\r\n",
      "\r",
      "Image75.png           0%[                    ]       0  --.-KB/s               \r",
      "Image75.png         100%[===================>]  12.80K  --.-KB/s    in 0s      \r\n",
      "\r\n",
      "2022-11-22 20:01:10 (32.8 MB/s) - ‘./MyImageFiles/Image75.png’ saved [13104/13104]\r\n",
      "\r\n",
      "--2022-11-22 20:01:10--  http://54.243.252.9/ce-5319-webroot/1-Databases/MaterialCracking/UT-881-image_src/Image76.png\r\n",
      "Reusing existing connection to 54.243.252.9:80.\r\n",
      "HTTP request sent, awaiting response... "
     ]
    },
    {
     "name": "stdout",
     "output_type": "stream",
     "text": [
      "200 OK\r\n",
      "Length: 12900 (13K) [image/png]\r\n",
      "Saving to: ‘./MyImageFiles/Image76.png’\r\n",
      "\r\n",
      "\r",
      "Image76.png           0%[                    ]       0  --.-KB/s               \r",
      "Image76.png         100%[===================>]  12.60K  --.-KB/s    in 0s      \r\n",
      "\r\n",
      "2022-11-22 20:01:10 (34.9 MB/s) - ‘./MyImageFiles/Image76.png’ saved [12900/12900]\r\n",
      "\r\n",
      "--2022-11-22 20:01:10--  http://54.243.252.9/ce-5319-webroot/1-Databases/MaterialCracking/UT-881-image_src/Image77.png\r\n",
      "Reusing existing connection to 54.243.252.9:80.\r\n",
      "HTTP request sent, awaiting response... "
     ]
    },
    {
     "name": "stdout",
     "output_type": "stream",
     "text": [
      "200 OK\r\n",
      "Length: 14432 (14K) [image/png]\r\n",
      "Saving to: ‘./MyImageFiles/Image77.png’\r\n",
      "\r\n",
      "\r",
      "Image77.png           0%[                    ]       0  --.-KB/s               \r",
      "Image77.png         100%[===================>]  14.09K  --.-KB/s    in 0s      \r\n",
      "\r\n",
      "2022-11-22 20:01:10 (42.6 MB/s) - ‘./MyImageFiles/Image77.png’ saved [14432/14432]\r\n",
      "\r\n",
      "--2022-11-22 20:01:10--  http://54.243.252.9/ce-5319-webroot/1-Databases/MaterialCracking/UT-881-image_src/Image78.png\r\n",
      "Reusing existing connection to 54.243.252.9:80.\r\n",
      "HTTP request sent, awaiting response... 200 OK\r\n",
      "Length: "
     ]
    },
    {
     "name": "stdout",
     "output_type": "stream",
     "text": [
      "12104 (12K) [image/png]\r\n",
      "Saving to: ‘./MyImageFiles/Image78.png’\r\n",
      "\r\n",
      "\r",
      "Image78.png           0%[                    ]       0  --.-KB/s               \r",
      "Image78.png         100%[===================>]  11.82K  --.-KB/s    in 0s      \r\n",
      "\r\n",
      "2022-11-22 20:01:10 (41.2 MB/s) - ‘./MyImageFiles/Image78.png’ saved [12104/12104]\r\n",
      "\r\n",
      "--2022-11-22 20:01:10--  http://54.243.252.9/ce-5319-webroot/1-Databases/MaterialCracking/UT-881-image_src/Image79.png\r\n",
      "Reusing existing connection to 54.243.252.9:80.\r\n",
      "HTTP request sent, awaiting response... "
     ]
    },
    {
     "name": "stdout",
     "output_type": "stream",
     "text": [
      "200 OK\r\n",
      "Length: 13699 (13K) [image/png]\r\n",
      "Saving to: ‘./MyImageFiles/Image79.png’\r\n",
      "\r\n",
      "\r",
      "Image79.png           0%[                    ]       0  --.-KB/s               \r",
      "Image79.png         100%[===================>]  13.38K  --.-KB/s    in 0s      \r\n",
      "\r\n",
      "2022-11-22 20:01:10 (40.2 MB/s) - ‘./MyImageFiles/Image79.png’ saved [13699/13699]\r\n",
      "\r\n",
      "--2022-11-22 20:01:10--  http://54.243.252.9/ce-5319-webroot/1-Databases/MaterialCracking/UT-881-image_src/Image80.png\r\n",
      "Reusing existing connection to 54.243.252.9:80.\r\n",
      "HTTP request sent, awaiting response... 200 OK\r\n",
      "Length: "
     ]
    },
    {
     "name": "stdout",
     "output_type": "stream",
     "text": [
      "11142 (11K) [image/png]\r\n",
      "Saving to: ‘./MyImageFiles/Image80.png’\r\n",
      "\r\n",
      "\r",
      "Image80.png           0%[                    ]       0  --.-KB/s               \r",
      "Image80.png         100%[===================>]  10.88K  --.-KB/s    in 0s      \r\n",
      "\r\n",
      "2022-11-22 20:01:10 (31.0 MB/s) - ‘./MyImageFiles/Image80.png’ saved [11142/11142]\r\n",
      "\r\n",
      "--2022-11-22 20:01:10--  http://54.243.252.9/ce-5319-webroot/1-Databases/MaterialCracking/UT-881-image_src/Image81.png\r\n",
      "Reusing existing connection to 54.243.252.9:80.\r\n",
      "HTTP request sent, awaiting response... "
     ]
    },
    {
     "name": "stdout",
     "output_type": "stream",
     "text": [
      "200 OK\r\n",
      "Length: 15166 (15K) [image/png]\r\n",
      "Saving to: ‘./MyImageFiles/Image81.png’\r\n",
      "\r\n",
      "\r",
      "Image81.png           0%[                    ]       0  --.-KB/s               \r",
      "Image81.png         100%[===================>]  14.81K  --.-KB/s    in 0s      \r\n",
      "\r\n",
      "2022-11-22 20:01:10 (39.1 MB/s) - ‘./MyImageFiles/Image81.png’ saved [15166/15166]\r\n",
      "\r\n",
      "--2022-11-22 20:01:10--  http://54.243.252.9/ce-5319-webroot/1-Databases/MaterialCracking/UT-881-image_src/Image82.png\r\n",
      "Reusing existing connection to 54.243.252.9:80.\r\n",
      "HTTP request sent, awaiting response... 200 OK\r\n",
      "Length: "
     ]
    },
    {
     "name": "stdout",
     "output_type": "stream",
     "text": [
      "11773 (11K) [image/png]\r\n",
      "Saving to: ‘./MyImageFiles/Image82.png’\r\n",
      "\r\n",
      "\r",
      "Image82.png           0%[                    ]       0  --.-KB/s               \r",
      "Image82.png         100%[===================>]  11.50K  --.-KB/s    in 0s      \r\n",
      "\r\n",
      "2022-11-22 20:01:10 (35.5 MB/s) - ‘./MyImageFiles/Image82.png’ saved [11773/11773]\r\n",
      "\r\n",
      "--2022-11-22 20:01:10--  http://54.243.252.9/ce-5319-webroot/1-Databases/MaterialCracking/UT-881-image_src/Image83.png\r\n",
      "Reusing existing connection to 54.243.252.9:80.\r\n",
      "HTTP request sent, awaiting response... 200 OK\r\n",
      "Length: 14467 (14K) [image/png]\r\n",
      "Saving to: ‘./MyImageFiles/Image83.png’\r\n",
      "\r\n",
      "\r",
      "Image83.png           0%[                    ]       0  --.-KB/s               \r",
      "Image83.png         100%[===================>]  14.13K  --.-KB/s    in 0s      \r\n",
      "\r\n",
      "2022-11-22 20:01:10 (39.9 MB/s) - ‘./MyImageFiles/Image83.png’ saved [14467/14467]\r\n",
      "\r\n",
      "--2022-11-22 20:01:10--  http://54.243.252.9/ce-5319-webroot/1-Databases/MaterialCracking/UT-881-image_src/Image84.png\r\n",
      "Reusing existing connection to 54.243.252.9:80.\r\n",
      "HTTP request sent, awaiting response... "
     ]
    },
    {
     "name": "stdout",
     "output_type": "stream",
     "text": [
      "200 OK\r\n",
      "Length: 14537 (14K) [image/png]\r\n",
      "Saving to: ‘./MyImageFiles/Image84.png’\r\n",
      "\r\n",
      "\r",
      "Image84.png           0%[                    ]       0  --.-KB/s               \r",
      "Image84.png         100%[===================>]  14.20K  --.-KB/s    in 0s      \r\n",
      "\r\n",
      "2022-11-22 20:01:10 (38.4 MB/s) - ‘./MyImageFiles/Image84.png’ saved [14537/14537]\r\n",
      "\r\n",
      "--2022-11-22 20:01:10--  http://54.243.252.9/ce-5319-webroot/1-Databases/MaterialCracking/UT-881-image_src/Image85.png\r\n",
      "Reusing existing connection to 54.243.252.9:80.\r\n",
      "HTTP request sent, awaiting response... "
     ]
    },
    {
     "name": "stdout",
     "output_type": "stream",
     "text": [
      "200 OK\r\n",
      "Length: 13786 (13K) [image/png]\r\n",
      "Saving to: ‘./MyImageFiles/Image85.png’\r\n",
      "\r\n",
      "\r",
      "Image85.png           0%[                    ]       0  --.-KB/s               \r",
      "Image85.png         100%[===================>]  13.46K  --.-KB/s    in 0s      \r\n",
      "\r\n",
      "2022-11-22 20:01:10 (53.4 MB/s) - ‘./MyImageFiles/Image85.png’ saved [13786/13786]\r\n",
      "\r\n",
      "--2022-11-22 20:01:10--  http://54.243.252.9/ce-5319-webroot/1-Databases/MaterialCracking/UT-881-image_src/Image86.png\r\n",
      "Reusing existing connection to 54.243.252.9:80.\r\n",
      "HTTP request sent, awaiting response... "
     ]
    },
    {
     "name": "stdout",
     "output_type": "stream",
     "text": [
      "200 OK\r\n",
      "Length: 13175 (13K) [image/png]\r\n",
      "Saving to: ‘./MyImageFiles/Image86.png’\r\n",
      "\r\n",
      "\r",
      "Image86.png           0%[                    ]       0  --.-KB/s               \r",
      "Image86.png         100%[===================>]  12.87K  --.-KB/s    in 0s      \r\n",
      "\r\n",
      "2022-11-22 20:01:10 (30.8 MB/s) - ‘./MyImageFiles/Image86.png’ saved [13175/13175]\r\n",
      "\r\n",
      "--2022-11-22 20:01:10--  http://54.243.252.9/ce-5319-webroot/1-Databases/MaterialCracking/UT-881-image_src/Image87.png\r\n",
      "Reusing existing connection to 54.243.252.9:80.\r\n",
      "HTTP request sent, awaiting response... "
     ]
    },
    {
     "name": "stdout",
     "output_type": "stream",
     "text": [
      "200 OK\r\n",
      "Length: 14138 (14K) [image/png]\r\n",
      "Saving to: ‘./MyImageFiles/Image87.png’\r\n",
      "\r\n",
      "\r",
      "Image87.png           0%[                    ]       0  --.-KB/s               \r",
      "Image87.png         100%[===================>]  13.81K  --.-KB/s    in 0s      \r\n",
      "\r\n",
      "2022-11-22 20:01:10 (42.3 MB/s) - ‘./MyImageFiles/Image87.png’ saved [14138/14138]\r\n",
      "\r\n",
      "--2022-11-22 20:01:10--  http://54.243.252.9/ce-5319-webroot/1-Databases/MaterialCracking/UT-881-image_src/Image88.png\r\n",
      "Reusing existing connection to 54.243.252.9:80.\r\n",
      "HTTP request sent, awaiting response... "
     ]
    },
    {
     "name": "stdout",
     "output_type": "stream",
     "text": [
      "200 OK\r\n",
      "Length: 8765 (8.6K) [image/png]\r\n",
      "Saving to: ‘./MyImageFiles/Image88.png’\r\n",
      "\r\n",
      "\r",
      "Image88.png           0%[                    ]       0  --.-KB/s               \r",
      "Image88.png         100%[===================>]   8.56K  --.-KB/s    in 0s      \r\n",
      "\r\n",
      "2022-11-22 20:01:11 (24.6 MB/s) - ‘./MyImageFiles/Image88.png’ saved [8765/8765]\r\n",
      "\r\n",
      "--2022-11-22 20:01:11--  http://54.243.252.9/ce-5319-webroot/1-Databases/MaterialCracking/UT-881-image_src/Image89.png\r\n",
      "Reusing existing connection to 54.243.252.9:80.\r\n",
      "HTTP request sent, awaiting response... "
     ]
    },
    {
     "name": "stdout",
     "output_type": "stream",
     "text": [
      "200 OK\r\n",
      "Length: 15124 (15K) [image/png]\r\n",
      "Saving to: ‘./MyImageFiles/Image89.png’\r\n",
      "\r\n",
      "\r",
      "Image89.png           0%[                    ]       0  --.-KB/s               \r",
      "Image89.png         100%[===================>]  14.77K  --.-KB/s    in 0s      \r\n",
      "\r\n",
      "2022-11-22 20:01:11 (41.4 MB/s) - ‘./MyImageFiles/Image89.png’ saved [15124/15124]\r\n",
      "\r\n",
      "--2022-11-22 20:01:11--  http://54.243.252.9/ce-5319-webroot/1-Databases/MaterialCracking/UT-881-image_src/Image90.png\r\n",
      "Reusing existing connection to 54.243.252.9:80.\r\n",
      "HTTP request sent, awaiting response... "
     ]
    },
    {
     "name": "stdout",
     "output_type": "stream",
     "text": [
      "200 OK\r\n",
      "Length: 14118 (14K) [image/png]\r\n",
      "Saving to: ‘./MyImageFiles/Image90.png’\r\n",
      "\r\n",
      "\r",
      "Image90.png           0%[                    ]       0  --.-KB/s               \r",
      "Image90.png         100%[===================>]  13.79K  --.-KB/s    in 0s      \r\n",
      "\r\n",
      "2022-11-22 20:01:11 (40.2 MB/s) - ‘./MyImageFiles/Image90.png’ saved [14118/14118]\r\n",
      "\r\n",
      "--2022-11-22 20:01:11--  http://54.243.252.9/ce-5319-webroot/1-Databases/MaterialCracking/UT-881-image_src/Image91.png\r\n",
      "Reusing existing connection to 54.243.252.9:80.\r\n",
      "HTTP request sent, awaiting response... "
     ]
    },
    {
     "name": "stdout",
     "output_type": "stream",
     "text": [
      "200 OK\r\n",
      "Length: 13850 (14K) [image/png]\r\n",
      "Saving to: ‘./MyImageFiles/Image91.png’\r\n",
      "\r\n",
      "\r",
      "Image91.png           0%[                    ]       0  --.-KB/s               \r",
      "Image91.png         100%[===================>]  13.53K  --.-KB/s    in 0s      \r\n",
      "\r\n",
      "2022-11-22 20:01:11 (62.5 MB/s) - ‘./MyImageFiles/Image91.png’ saved [13850/13850]\r\n",
      "\r\n",
      "--2022-11-22 20:01:11--  http://54.243.252.9/ce-5319-webroot/1-Databases/MaterialCracking/UT-881-image_src/Image92.png\r\n",
      "Reusing existing connection to 54.243.252.9:80.\r\n",
      "HTTP request sent, awaiting response... "
     ]
    },
    {
     "name": "stdout",
     "output_type": "stream",
     "text": [
      "200 OK\r\n",
      "Length: 14364 (14K) [image/png]\r\n",
      "Saving to: ‘./MyImageFiles/Image92.png’\r\n",
      "\r\n",
      "\r",
      "Image92.png           0%[                    ]       0  --.-KB/s               \r",
      "Image92.png         100%[===================>]  14.03K  --.-KB/s    in 0s      \r\n",
      "\r\n",
      "2022-11-22 20:01:11 (50.4 MB/s) - ‘./MyImageFiles/Image92.png’ saved [14364/14364]\r\n",
      "\r\n",
      "--2022-11-22 20:01:11--  http://54.243.252.9/ce-5319-webroot/1-Databases/MaterialCracking/UT-881-image_src/Image93.png\r\n",
      "Reusing existing connection to 54.243.252.9:80.\r\n",
      "HTTP request sent, awaiting response... "
     ]
    },
    {
     "name": "stdout",
     "output_type": "stream",
     "text": [
      "200 OK\r\n",
      "Length: 10377 (10K) [image/png]\r\n",
      "Saving to: ‘./MyImageFiles/Image93.png’\r\n",
      "\r\n",
      "\r",
      "Image93.png           0%[                    ]       0  --.-KB/s               \r",
      "Image93.png         100%[===================>]  10.13K  --.-KB/s    in 0s      \r\n",
      "\r\n",
      "2022-11-22 20:01:11 (46.8 MB/s) - ‘./MyImageFiles/Image93.png’ saved [10377/10377]\r\n",
      "\r\n",
      "--2022-11-22 20:01:11--  http://54.243.252.9/ce-5319-webroot/1-Databases/MaterialCracking/UT-881-image_src/Image94.png\r\n",
      "Reusing existing connection to 54.243.252.9:80.\r\n",
      "HTTP request sent, awaiting response... "
     ]
    },
    {
     "name": "stdout",
     "output_type": "stream",
     "text": [
      "200 OK\r\n",
      "Length: 13040 (13K) [image/png]\r\n",
      "Saving to: ‘./MyImageFiles/Image94.png’\r\n",
      "\r\n",
      "\r",
      "Image94.png           0%[                    ]       0  --.-KB/s               \r",
      "Image94.png         100%[===================>]  12.73K  --.-KB/s    in 0s      \r\n",
      "\r\n",
      "2022-11-22 20:01:11 (48.8 MB/s) - ‘./MyImageFiles/Image94.png’ saved [13040/13040]\r\n",
      "\r\n",
      "--2022-11-22 20:01:11--  http://54.243.252.9/ce-5319-webroot/1-Databases/MaterialCracking/UT-881-image_src/Image95.png\r\n",
      "Reusing existing connection to 54.243.252.9:80.\r\n",
      "HTTP request sent, awaiting response... "
     ]
    },
    {
     "name": "stdout",
     "output_type": "stream",
     "text": [
      "200 OK\r\n",
      "Length: 11650 (11K) [image/png]\r\n",
      "Saving to: ‘./MyImageFiles/Image95.png’\r\n",
      "\r\n",
      "\r",
      "Image95.png           0%[                    ]       0  --.-KB/s               \r",
      "Image95.png         100%[===================>]  11.38K  --.-KB/s    in 0s      \r\n",
      "\r\n",
      "2022-11-22 20:01:11 (35.0 MB/s) - ‘./MyImageFiles/Image95.png’ saved [11650/11650]\r\n",
      "\r\n",
      "--2022-11-22 20:01:11--  http://54.243.252.9/ce-5319-webroot/1-Databases/MaterialCracking/UT-881-image_src/Image96.png\r\n",
      "Connecting to 54.243.252.9:80... "
     ]
    },
    {
     "name": "stdout",
     "output_type": "stream",
     "text": [
      "connected.\r\n",
      "HTTP request sent, awaiting response... "
     ]
    },
    {
     "name": "stdout",
     "output_type": "stream",
     "text": [
      "200 OK\r\n",
      "Length: 14031 (14K) [image/png]\r\n",
      "Saving to: ‘./MyImageFiles/Image96.png’\r\n",
      "\r\n",
      "\r",
      "Image96.png           0%[                    ]       0  --.-KB/s               \r",
      "Image96.png         100%[===================>]  13.70K  --.-KB/s    in 0s      \r\n",
      "\r\n",
      "2022-11-22 20:01:11 (41.4 MB/s) - ‘./MyImageFiles/Image96.png’ saved [14031/14031]\r\n",
      "\r\n",
      "--2022-11-22 20:01:11--  http://54.243.252.9/ce-5319-webroot/1-Databases/MaterialCracking/UT-881-image_src/Image97.png\r\n",
      "Reusing existing connection to 54.243.252.9:80.\r\n",
      "HTTP request sent, awaiting response... 200 OK\r\n",
      "Length: 14008 (14K) [image/png]\r\n"
     ]
    },
    {
     "name": "stdout",
     "output_type": "stream",
     "text": [
      "Saving to: ‘./MyImageFiles/Image97.png’\r\n",
      "\r\n",
      "\r",
      "Image97.png           0%[                    ]       0  --.-KB/s               \r",
      "Image97.png         100%[===================>]  13.68K  --.-KB/s    in 0s      \r\n",
      "\r\n",
      "2022-11-22 20:01:11 (47.8 MB/s) - ‘./MyImageFiles/Image97.png’ saved [14008/14008]\r\n",
      "\r\n",
      "--2022-11-22 20:01:11--  http://54.243.252.9/ce-5319-webroot/1-Databases/MaterialCracking/UT-881-image_src/Image98.png\r\n",
      "Reusing existing connection to 54.243.252.9:80.\r\n",
      "HTTP request sent, awaiting response... 200 OK\r\n",
      "Length: 13512 (13K) [image/png]\r\n",
      "Saving to: ‘./MyImageFiles/Image98.png’\r\n",
      "\r\n",
      "\r",
      "Image98.png           0%[                    ]       0  --.-KB/s               \r",
      "Image98.png         100%[===================>]  13.20K  --.-KB/s    in 0s      \r\n",
      "\r\n",
      "2022-11-22 20:01:11 (43.5 MB/s) - ‘./MyImageFiles/Image98.png’ saved [13512/13512]\r\n",
      "\r\n",
      "--2022-11-22 20:01:11--  http://54.243.252.9/ce-5319-webroot/1-Databases/MaterialCracking/UT-881-image_src/Image99.png\r\n",
      "Reusing existing connection to 54.243.252.9:80.\r\n",
      "HTTP request sent, awaiting response... "
     ]
    },
    {
     "name": "stdout",
     "output_type": "stream",
     "text": [
      "200 OK\r\n",
      "Length: 14363 (14K) [image/png]\r\n",
      "Saving to: ‘./MyImageFiles/Image99.png’\r\n",
      "\r\n",
      "\r",
      "Image99.png           0%[                    ]       0  --.-KB/s               \r",
      "Image99.png         100%[===================>]  14.03K  --.-KB/s    in 0s      \r\n",
      "\r\n",
      "2022-11-22 20:01:11 (40.2 MB/s) - ‘./MyImageFiles/Image99.png’ saved [14363/14363]\r\n",
      "\r\n",
      "--2022-11-22 20:01:11--  http://54.243.252.9/ce-5319-webroot/1-Databases/MaterialCracking/UT-881-image_src/Image100.png\r\n",
      "Reusing existing connection to 54.243.252.9:80.\r\n",
      "HTTP request sent, awaiting response... "
     ]
    },
    {
     "name": "stdout",
     "output_type": "stream",
     "text": [
      "200 OK\r\n",
      "Length: 12518 (12K) [image/png]\r\n",
      "Saving to: ‘./MyImageFiles/Image100.png’\r\n",
      "\r\n",
      "\r",
      "Image100.png          0%[                    ]       0  --.-KB/s               \r",
      "Image100.png        100%[===================>]  12.22K  --.-KB/s    in 0s      \r\n",
      "\r\n",
      "2022-11-22 20:01:11 (37.9 MB/s) - ‘./MyImageFiles/Image100.png’ saved [12518/12518]\r\n",
      "\r\n",
      "--2022-11-22 20:01:11--  http://54.243.252.9/ce-5319-webroot/1-Databases/MaterialCracking/UT-881-image_src/Image101.png\r\n",
      "Reusing existing connection to 54.243.252.9:80.\r\n",
      "HTTP request sent, awaiting response... "
     ]
    },
    {
     "name": "stdout",
     "output_type": "stream",
     "text": [
      "200 OK\r\n",
      "Length: 10308 (10K) [image/png]\r\n",
      "Saving to: ‘./MyImageFiles/Image101.png’\r\n",
      "\r\n",
      "\r",
      "Image101.png          0%[                    ]       0  --.-KB/s               \r",
      "Image101.png        100%[===================>]  10.07K  --.-KB/s    in 0s      \r\n",
      "\r\n",
      "2022-11-22 20:01:11 (33.3 MB/s) - ‘./MyImageFiles/Image101.png’ saved [10308/10308]\r\n",
      "\r\n",
      "--2022-11-22 20:01:11--  http://54.243.252.9/ce-5319-webroot/1-Databases/MaterialCracking/UT-881-image_src/Image102.png\r\n",
      "Reusing existing connection to 54.243.252.9:80.\r\n",
      "HTTP request sent, awaiting response... "
     ]
    },
    {
     "name": "stdout",
     "output_type": "stream",
     "text": [
      "200 OK\r\n",
      "Length: 14379 (14K) [image/png]\r\n",
      "Saving to: ‘./MyImageFiles/Image102.png’\r\n",
      "\r\n",
      "\r",
      "Image102.png          0%[                    ]       0  --.-KB/s               \r",
      "Image102.png        100%[===================>]  14.04K  --.-KB/s    in 0s      \r\n",
      "\r\n",
      "2022-11-22 20:01:11 (64.3 MB/s) - ‘./MyImageFiles/Image102.png’ saved [14379/14379]\r\n",
      "\r\n",
      "--2022-11-22 20:01:11--  http://54.243.252.9/ce-5319-webroot/1-Databases/MaterialCracking/UT-881-image_src/Image103.png\r\n",
      "Reusing existing connection to 54.243.252.9:80.\r\n",
      "HTTP request sent, awaiting response... "
     ]
    },
    {
     "name": "stdout",
     "output_type": "stream",
     "text": [
      "200 OK\r\n",
      "Length: 12993 (13K) [image/png]\r\n",
      "Saving to: ‘./MyImageFiles/Image103.png’\r\n",
      "\r\n",
      "\r",
      "Image103.png          0%[                    ]       0  --.-KB/s               \r",
      "Image103.png        100%[===================>]  12.69K  --.-KB/s    in 0s      \r\n",
      "\r\n",
      "2022-11-22 20:01:11 (38.4 MB/s) - ‘./MyImageFiles/Image103.png’ saved [12993/12993]\r\n",
      "\r\n",
      "--2022-11-22 20:01:11--  http://54.243.252.9/ce-5319-webroot/1-Databases/MaterialCracking/UT-881-image_src/Image104.png\r\n",
      "Reusing existing connection to 54.243.252.9:80.\r\n",
      "HTTP request sent, awaiting response... "
     ]
    },
    {
     "name": "stdout",
     "output_type": "stream",
     "text": [
      "200 OK\r\n",
      "Length: 14415 (14K) [image/png]\r\n",
      "Saving to: ‘./MyImageFiles/Image104.png’\r\n",
      "\r\n",
      "\r",
      "Image104.png          0%[                    ]       0  --.-KB/s               \r",
      "Image104.png        100%[===================>]  14.08K  --.-KB/s    in 0s      \r\n",
      "\r\n",
      "2022-11-22 20:01:11 (47.5 MB/s) - ‘./MyImageFiles/Image104.png’ saved [14415/14415]\r\n",
      "\r\n",
      "--2022-11-22 20:01:11--  http://54.243.252.9/ce-5319-webroot/1-Databases/MaterialCracking/UT-881-image_src/Image105.png\r\n",
      "Reusing existing connection to 54.243.252.9:80.\r\n",
      "HTTP request sent, awaiting response... "
     ]
    },
    {
     "name": "stdout",
     "output_type": "stream",
     "text": [
      "200 OK\r\n",
      "Length: 12150 (12K) [image/png]\r\n",
      "Saving to: ‘./MyImageFiles/Image105.png’\r\n",
      "\r\n",
      "\r",
      "Image105.png          0%[                    ]       0  --.-KB/s               \r",
      "Image105.png        100%[===================>]  11.87K  --.-KB/s    in 0s      \r\n",
      "\r\n",
      "2022-11-22 20:01:11 (42.0 MB/s) - ‘./MyImageFiles/Image105.png’ saved [12150/12150]\r\n",
      "\r\n",
      "--2022-11-22 20:01:11--  http://54.243.252.9/ce-5319-webroot/1-Databases/MaterialCracking/UT-881-image_src/Image106.png\r\n",
      "Reusing existing connection to 54.243.252.9:80.\r\n",
      "HTTP request sent, awaiting response... "
     ]
    },
    {
     "name": "stdout",
     "output_type": "stream",
     "text": [
      "200 OK\r\n",
      "Length: 13770 (13K) [image/png]\r\n",
      "Saving to: ‘./MyImageFiles/Image106.png’\r\n",
      "\r\n",
      "\r",
      "Image106.png          0%[                    ]       0  --.-KB/s               \r",
      "Image106.png        100%[===================>]  13.45K  --.-KB/s    in 0s      \r\n",
      "\r\n",
      "2022-11-22 20:01:11 (59.7 MB/s) - ‘./MyImageFiles/Image106.png’ saved [13770/13770]\r\n",
      "\r\n",
      "--2022-11-22 20:01:11--  http://54.243.252.9/ce-5319-webroot/1-Databases/MaterialCracking/UT-881-image_src/Image107.png\r\n",
      "Reusing existing connection to 54.243.252.9:80.\r\n",
      "HTTP request sent, awaiting response... "
     ]
    },
    {
     "name": "stdout",
     "output_type": "stream",
     "text": [
      "200 OK\r\n",
      "Length: 14293 (14K) [image/png]\r\n",
      "Saving to: ‘./MyImageFiles/Image107.png’\r\n",
      "\r\n",
      "\r",
      "Image107.png          0%[                    ]       0  --.-KB/s               \r",
      "Image107.png        100%[===================>]  13.96K  --.-KB/s    in 0s      \r\n",
      "\r\n",
      "2022-11-22 20:01:12 (45.8 MB/s) - ‘./MyImageFiles/Image107.png’ saved [14293/14293]\r\n",
      "\r\n",
      "--2022-11-22 20:01:12--  http://54.243.252.9/ce-5319-webroot/1-Databases/MaterialCracking/UT-881-image_src/Image108.png\r\n",
      "Reusing existing connection to 54.243.252.9:80.\r\n",
      "HTTP request sent, awaiting response... "
     ]
    },
    {
     "name": "stdout",
     "output_type": "stream",
     "text": [
      "200 OK\r\n",
      "Length: 14671 (14K) [image/png]\r\n",
      "Saving to: ‘./MyImageFiles/Image108.png’\r\n",
      "\r\n",
      "\r",
      "Image108.png          0%[                    ]       0  --.-KB/s               \r",
      "Image108.png        100%[===================>]  14.33K  --.-KB/s    in 0s      \r\n",
      "\r\n",
      "2022-11-22 20:01:12 (65.1 MB/s) - ‘./MyImageFiles/Image108.png’ saved [14671/14671]\r\n",
      "\r\n",
      "--2022-11-22 20:01:12--  http://54.243.252.9/ce-5319-webroot/1-Databases/MaterialCracking/UT-881-image_src/Image109.png\r\n",
      "Reusing existing connection to 54.243.252.9:80.\r\n",
      "HTTP request sent, awaiting response... "
     ]
    },
    {
     "name": "stdout",
     "output_type": "stream",
     "text": [
      "200 OK\r\n",
      "Length: 14660 (14K) [image/png]\r\n",
      "Saving to: ‘./MyImageFiles/Image109.png’\r\n",
      "\r\n",
      "\r",
      "Image109.png          0%[                    ]       0  --.-KB/s               \r",
      "Image109.png        100%[===================>]  14.32K  --.-KB/s    in 0s      \r\n",
      "\r\n",
      "2022-11-22 20:01:12 (43.9 MB/s) - ‘./MyImageFiles/Image109.png’ saved [14660/14660]\r\n",
      "\r\n",
      "--2022-11-22 20:01:12--  http://54.243.252.9/ce-5319-webroot/1-Databases/MaterialCracking/UT-881-image_src/Image110.png\r\n",
      "Reusing existing connection to 54.243.252.9:80.\r\n",
      "HTTP request sent, awaiting response... "
     ]
    },
    {
     "name": "stdout",
     "output_type": "stream",
     "text": [
      "200 OK\r\n",
      "Length: 12615 (12K) [image/png]\r\n",
      "Saving to: ‘./MyImageFiles/Image110.png’\r\n",
      "\r\n",
      "\r",
      "Image110.png          0%[                    ]       0  --.-KB/s               \r",
      "Image110.png        100%[===================>]  12.32K  --.-KB/s    in 0s      \r\n",
      "\r\n",
      "2022-11-22 20:01:12 (41.5 MB/s) - ‘./MyImageFiles/Image110.png’ saved [12615/12615]\r\n",
      "\r\n",
      "--2022-11-22 20:01:12--  http://54.243.252.9/ce-5319-webroot/1-Databases/MaterialCracking/UT-881-image_src/Image111.png\r\n",
      "Reusing existing connection to 54.243.252.9:80.\r\n",
      "HTTP request sent, awaiting response... "
     ]
    },
    {
     "name": "stdout",
     "output_type": "stream",
     "text": [
      "200 OK\r\n",
      "Length: 14022 (14K) [image/png]\r\n",
      "Saving to: ‘./MyImageFiles/Image111.png’\r\n",
      "\r\n",
      "\r",
      "Image111.png          0%[                    ]       0  --.-KB/s               \r",
      "Image111.png        100%[===================>]  13.69K  --.-KB/s    in 0s      \r\n",
      "\r\n",
      "2022-11-22 20:01:12 (55.8 MB/s) - ‘./MyImageFiles/Image111.png’ saved [14022/14022]\r\n",
      "\r\n",
      "--2022-11-22 20:01:12--  http://54.243.252.9/ce-5319-webroot/1-Databases/MaterialCracking/UT-881-image_src/Image112.png\r\n",
      "Reusing existing connection to 54.243.252.9:80.\r\n",
      "HTTP request sent, awaiting response... "
     ]
    },
    {
     "name": "stdout",
     "output_type": "stream",
     "text": [
      "200 OK\r\n",
      "Length: 14057 (14K) [image/png]\r\n",
      "Saving to: ‘./MyImageFiles/Image112.png’\r\n",
      "\r\n",
      "\r",
      "Image112.png          0%[                    ]       0  --.-KB/s               \r",
      "Image112.png        100%[===================>]  13.73K  --.-KB/s    in 0s      \r\n",
      "\r\n",
      "2022-11-22 20:01:12 (39.3 MB/s) - ‘./MyImageFiles/Image112.png’ saved [14057/14057]\r\n",
      "\r\n",
      "--2022-11-22 20:01:12--  http://54.243.252.9/ce-5319-webroot/1-Databases/MaterialCracking/UT-881-image_src/Image113.png\r\n",
      "Reusing existing connection to 54.243.252.9:80.\r\n",
      "HTTP request sent, awaiting response... "
     ]
    },
    {
     "name": "stdout",
     "output_type": "stream",
     "text": [
      "200 OK\r\n",
      "Length: 14181 (14K) [image/png]\r\n",
      "Saving to: ‘./MyImageFiles/Image113.png’\r\n",
      "\r\n",
      "\r",
      "Image113.png          0%[                    ]       0  --.-KB/s               \r",
      "Image113.png        100%[===================>]  13.85K  --.-KB/s    in 0s      \r\n",
      "\r\n",
      "2022-11-22 20:01:12 (40.9 MB/s) - ‘./MyImageFiles/Image113.png’ saved [14181/14181]\r\n",
      "\r\n",
      "--2022-11-22 20:01:12--  http://54.243.252.9/ce-5319-webroot/1-Databases/MaterialCracking/UT-881-image_src/Image114.png\r\n",
      "Reusing existing connection to 54.243.252.9:80.\r\n",
      "HTTP request sent, awaiting response... 200 OK\r\n",
      "Length: 11014 (11K) [image/png]\r\n",
      "Saving to: ‘./MyImageFiles/Image114.png’\r\n",
      "\r\n",
      "\r",
      "Image114.png          0%[                    ]       0  --.-KB/s               \r",
      "Image114.png        100%[===================>]  10.76K  --.-KB/s    in 0s      \r\n",
      "\r\n",
      "2022-11-22 20:01:12 (54.2 MB/s) - ‘./MyImageFiles/Image114.png’ saved [11014/11014]\r\n",
      "\r\n",
      "--2022-11-22 20:01:12--  http://54.243.252.9/ce-5319-webroot/1-Databases/MaterialCracking/UT-881-image_src/Image115.png\r\n",
      "Reusing existing connection to 54.243.252.9:80.\r\n",
      "HTTP request sent, awaiting response... "
     ]
    },
    {
     "name": "stdout",
     "output_type": "stream",
     "text": [
      "200 OK\r\n",
      "Length: 14601 (14K) [image/png]\r\n",
      "Saving to: ‘./MyImageFiles/Image115.png’\r\n",
      "\r\n",
      "\r",
      "Image115.png          0%[                    ]       0  --.-KB/s               \r",
      "Image115.png        100%[===================>]  14.26K  --.-KB/s    in 0s      \r\n",
      "\r\n",
      "2022-11-22 20:01:12 (42.6 MB/s) - ‘./MyImageFiles/Image115.png’ saved [14601/14601]\r\n",
      "\r\n",
      "--2022-11-22 20:01:12--  http://54.243.252.9/ce-5319-webroot/1-Databases/MaterialCracking/UT-881-image_src/Image116.png\r\n",
      "Reusing existing connection to 54.243.252.9:80.\r\n",
      "HTTP request sent, awaiting response... 200 OK\r\n",
      "Length: 13788 (13K) [image/png]\r\n",
      "Saving to: ‘./MyImageFiles/Image116.png’\r\n",
      "\r\n",
      "\r",
      "Image116.png          0%[                    ]       0  --.-KB/s               \r",
      "Image116.png        100%[===================>]  13.46K  --.-KB/s    in 0s      "
     ]
    },
    {
     "name": "stdout",
     "output_type": "stream",
     "text": [
      "\r\n",
      "\r\n",
      "2022-11-22 20:01:12 (48.6 MB/s) - ‘./MyImageFiles/Image116.png’ saved [13788/13788]\r\n",
      "\r\n",
      "--2022-11-22 20:01:12--  http://54.243.252.9/ce-5319-webroot/1-Databases/MaterialCracking/UT-881-image_src/Image117.png\r\n",
      "Reusing existing connection to 54.243.252.9:80.\r\n",
      "HTTP request sent, awaiting response... 200 OK\r\n",
      "Length: 9479 (9.3K) [image/png]\r\n",
      "Saving to: ‘./MyImageFiles/Image117.png’\r\n",
      "\r\n",
      "\r",
      "Image117.png          0%[                    ]       0  --.-KB/s               \r",
      "Image117.png        100%[===================>]   9.26K  --.-KB/s    in 0.003s  \r\n",
      "\r\n",
      "2022-11-22 20:01:12 (2.62 MB/s) - ‘./MyImageFiles/Image117.png’ saved [9479/9479]\r\n",
      "\r\n",
      "--2022-11-22 20:01:12--  http://54.243.252.9/ce-5319-webroot/1-Databases/MaterialCracking/UT-881-image_src/Image118.png\r\n"
     ]
    },
    {
     "name": "stdout",
     "output_type": "stream",
     "text": [
      "Reusing existing connection to 54.243.252.9:80.\r\n",
      "HTTP request sent, awaiting response... 200 OK\r\n",
      "Length: 11696 (11K) [image/png]\r\n",
      "Saving to: ‘./MyImageFiles/Image118.png’\r\n",
      "\r\n",
      "\r",
      "Image118.png          0%[                    ]       0  --.-KB/s               \r",
      "Image118.png        100%[===================>]  11.42K  --.-KB/s    in 0s      \r\n",
      "\r\n",
      "2022-11-22 20:01:12 (33.9 MB/s) - ‘./MyImageFiles/Image118.png’ saved [11696/11696]\r\n",
      "\r\n",
      "--2022-11-22 20:01:12--  http://54.243.252.9/ce-5319-webroot/1-Databases/MaterialCracking/UT-881-image_src/Image119.png\r\n",
      "Reusing existing connection to 54.243.252.9:80.\r\n",
      "HTTP request sent, awaiting response... "
     ]
    },
    {
     "name": "stdout",
     "output_type": "stream",
     "text": [
      "200 OK\r\n",
      "Length: 13468 (13K) [image/png]\r\n",
      "Saving to: ‘./MyImageFiles/Image119.png’\r\n",
      "\r\n",
      "\r",
      "Image119.png          0%[                    ]       0  --.-KB/s               \r",
      "Image119.png        100%[===================>]  13.15K  --.-KB/s    in 0s      \r\n",
      "\r\n",
      "2022-11-22 20:01:12 (42.1 MB/s) - ‘./MyImageFiles/Image119.png’ saved [13468/13468]\r\n",
      "\r\n",
      "--2022-11-22 20:01:12--  http://54.243.252.9/ce-5319-webroot/1-Databases/MaterialCracking/UT-881-image_src/Image120.png\r\n",
      "Reusing existing connection to 54.243.252.9:80.\r\n",
      "HTTP request sent, awaiting response... "
     ]
    },
    {
     "name": "stdout",
     "output_type": "stream",
     "text": [
      "200 OK\r\n",
      "Length: 14605 (14K) [image/png]\r\n",
      "Saving to: ‘./MyImageFiles/Image120.png’\r\n",
      "\r\n",
      "\r",
      "Image120.png          0%[                    ]       0  --.-KB/s               \r",
      "Image120.png        100%[===================>]  14.26K  --.-KB/s    in 0s      \r\n",
      "\r\n",
      "2022-11-22 20:01:12 (43.9 MB/s) - ‘./MyImageFiles/Image120.png’ saved [14605/14605]\r\n",
      "\r\n",
      "--2022-11-22 20:01:12--  http://54.243.252.9/ce-5319-webroot/1-Databases/MaterialCracking/UT-881-image_src/Image121.png\r\n",
      "Reusing existing connection to 54.243.252.9:80.\r\n",
      "HTTP request sent, awaiting response... "
     ]
    },
    {
     "name": "stdout",
     "output_type": "stream",
     "text": [
      "200 OK\r\n",
      "Length: 10874 (11K) [image/png]\r\n",
      "Saving to: ‘./MyImageFiles/Image121.png’\r\n",
      "\r\n",
      "\r",
      "Image121.png          0%[                    ]       0  --.-KB/s               \r",
      "Image121.png        100%[===================>]  10.62K  --.-KB/s    in 0s      \r\n",
      "\r\n",
      "2022-11-22 20:01:12 (33.7 MB/s) - ‘./MyImageFiles/Image121.png’ saved [10874/10874]\r\n",
      "\r\n",
      "--2022-11-22 20:01:12--  http://54.243.252.9/ce-5319-webroot/1-Databases/MaterialCracking/UT-881-image_src/Image122.png\r\n",
      "Reusing existing connection to 54.243.252.9:80.\r\n",
      "HTTP request sent, awaiting response... "
     ]
    },
    {
     "name": "stdout",
     "output_type": "stream",
     "text": [
      "200 OK\r\n",
      "Length: 9660 (9.4K) [image/png]\r\n",
      "Saving to: ‘./MyImageFiles/Image122.png’\r\n",
      "\r\n",
      "\r",
      "Image122.png          0%[                    ]       0  --.-KB/s               \r",
      "Image122.png        100%[===================>]   9.43K  --.-KB/s    in 0s      \r\n",
      "\r\n",
      "2022-11-22 20:01:12 (31.8 MB/s) - ‘./MyImageFiles/Image122.png’ saved [9660/9660]\r\n",
      "\r\n",
      "--2022-11-22 20:01:12--  http://54.243.252.9/ce-5319-webroot/1-Databases/MaterialCracking/UT-881-image_src/Image123.png\r\n",
      "Reusing existing connection to 54.243.252.9:80.\r\n",
      "HTTP request sent, awaiting response... "
     ]
    },
    {
     "name": "stdout",
     "output_type": "stream",
     "text": [
      "200 OK\r\n",
      "Length: 15528 (15K) [image/png]\r\n",
      "Saving to: ‘./MyImageFiles/Image123.png’\r\n",
      "\r\n",
      "\r",
      "Image123.png          0%[                    ]       0  --.-KB/s               \r",
      "Image123.png        100%[===================>]  15.16K  --.-KB/s    in 0s      \r\n",
      "\r\n",
      "2022-11-22 20:01:12 (44.5 MB/s) - ‘./MyImageFiles/Image123.png’ saved [15528/15528]\r\n",
      "\r\n",
      "--2022-11-22 20:01:12--  http://54.243.252.9/ce-5319-webroot/1-Databases/MaterialCracking/UT-881-image_src/Image124.png\r\n",
      "Reusing existing connection to 54.243.252.9:80.\r\n",
      "HTTP request sent, awaiting response... "
     ]
    },
    {
     "name": "stdout",
     "output_type": "stream",
     "text": [
      "200 OK\r\n",
      "Length: 9702 (9.5K) [image/png]\r\n",
      "Saving to: ‘./MyImageFiles/Image124.png’\r\n",
      "\r\n",
      "\r",
      "Image124.png          0%[                    ]       0  --.-KB/s               \r",
      "Image124.png        100%[===================>]   9.47K  --.-KB/s    in 0s      \r\n",
      "\r\n",
      "2022-11-22 20:01:12 (38.9 MB/s) - ‘./MyImageFiles/Image124.png’ saved [9702/9702]\r\n",
      "\r\n",
      "--2022-11-22 20:01:12--  http://54.243.252.9/ce-5319-webroot/1-Databases/MaterialCracking/UT-881-image_src/Image125.png\r\n",
      "Reusing existing connection to 54.243.252.9:80.\r\n",
      "HTTP request sent, awaiting response... "
     ]
    },
    {
     "name": "stdout",
     "output_type": "stream",
     "text": [
      "200 OK\r\n",
      "Length: 14721 (14K) [image/png]\r\n",
      "Saving to: ‘./MyImageFiles/Image125.png’\r\n",
      "\r\n",
      "\r",
      "Image125.png          0%[                    ]       0  --.-KB/s               \r",
      "Image125.png        100%[===================>]  14.38K  --.-KB/s    in 0s      \r\n",
      "\r\n",
      "2022-11-22 20:01:12 (60.7 MB/s) - ‘./MyImageFiles/Image125.png’ saved [14721/14721]\r\n",
      "\r\n",
      "--2022-11-22 20:01:12--  http://54.243.252.9/ce-5319-webroot/1-Databases/MaterialCracking/UT-881-image_src/Image126.png\r\n",
      "Reusing existing connection to 54.243.252.9:80.\r\n",
      "HTTP request sent, awaiting response... "
     ]
    },
    {
     "name": "stdout",
     "output_type": "stream",
     "text": [
      "200 OK\r\n",
      "Length: 13635 (13K) [image/png]\r\n",
      "Saving to: ‘./MyImageFiles/Image126.png’\r\n",
      "\r\n",
      "\r",
      "Image126.png          0%[                    ]       0  --.-KB/s               \r",
      "Image126.png        100%[===================>]  13.32K  --.-KB/s    in 0s      \r\n",
      "\r\n",
      "2022-11-22 20:01:12 (58.5 MB/s) - ‘./MyImageFiles/Image126.png’ saved [13635/13635]\r\n",
      "\r\n",
      "--2022-11-22 20:01:12--  http://54.243.252.9/ce-5319-webroot/1-Databases/MaterialCracking/UT-881-image_src/Image127.png\r\n",
      "Reusing existing connection to 54.243.252.9:80.\r\n",
      "HTTP request sent, awaiting response... "
     ]
    },
    {
     "name": "stdout",
     "output_type": "stream",
     "text": [
      "200 OK\r\n",
      "Length: 10918 (11K) [image/png]\r\n",
      "Saving to: ‘./MyImageFiles/Image127.png’\r\n",
      "\r\n",
      "\r",
      "Image127.png          0%[                    ]       0  --.-KB/s               \r",
      "Image127.png        100%[===================>]  10.66K  --.-KB/s    in 0s      \r\n",
      "\r\n",
      "2022-11-22 20:01:13 (47.0 MB/s) - ‘./MyImageFiles/Image127.png’ saved [10918/10918]\r\n",
      "\r\n",
      "--2022-11-22 20:01:13--  http://54.243.252.9/ce-5319-webroot/1-Databases/MaterialCracking/UT-881-image_src/Image128.png\r\n",
      "Reusing existing connection to 54.243.252.9:80.\r\n",
      "HTTP request sent, awaiting response... "
     ]
    },
    {
     "name": "stdout",
     "output_type": "stream",
     "text": [
      "200 OK\r\n",
      "Length: 10707 (10K) [image/png]\r\n",
      "Saving to: ‘./MyImageFiles/Image128.png’\r\n",
      "\r\n",
      "\r",
      "Image128.png          0%[                    ]       0  --.-KB/s               \r",
      "Image128.png        100%[===================>]  10.46K  --.-KB/s    in 0s      \r\n",
      "\r\n",
      "2022-11-22 20:01:13 (57.0 MB/s) - ‘./MyImageFiles/Image128.png’ saved [10707/10707]\r\n",
      "\r\n",
      "--2022-11-22 20:01:13--  http://54.243.252.9/ce-5319-webroot/1-Databases/MaterialCracking/UT-881-image_src/Image129.png\r\n",
      "Reusing existing connection to 54.243.252.9:80.\r\n",
      "HTTP request sent, awaiting response... "
     ]
    },
    {
     "name": "stdout",
     "output_type": "stream",
     "text": [
      "200 OK\r\n",
      "Length: 12654 (12K) [image/png]\r\n",
      "Saving to: ‘./MyImageFiles/Image129.png’\r\n",
      "\r\n",
      "\r",
      "Image129.png          0%[                    ]       0  --.-KB/s               \r",
      "Image129.png        100%[===================>]  12.36K  --.-KB/s    in 0s      \r\n",
      "\r\n",
      "2022-11-22 20:01:13 (31.5 MB/s) - ‘./MyImageFiles/Image129.png’ saved [12654/12654]\r\n",
      "\r\n",
      "--2022-11-22 20:01:13--  http://54.243.252.9/ce-5319-webroot/1-Databases/MaterialCracking/UT-881-image_src/Image130.png\r\n",
      "Reusing existing connection to 54.243.252.9:80.\r\n",
      "HTTP request sent, awaiting response... "
     ]
    },
    {
     "name": "stdout",
     "output_type": "stream",
     "text": [
      "200 OK\r\n",
      "Length: 9937 (9.7K) [image/png]\r\n",
      "Saving to: ‘./MyImageFiles/Image130.png’\r\n",
      "\r\n",
      "\r",
      "Image130.png          0%[                    ]       0  --.-KB/s               \r",
      "Image130.png        100%[===================>]   9.70K  --.-KB/s    in 0s      \r\n",
      "\r\n",
      "2022-11-22 20:01:13 (40.7 MB/s) - ‘./MyImageFiles/Image130.png’ saved [9937/9937]\r\n",
      "\r\n",
      "--2022-11-22 20:01:13--  http://54.243.252.9/ce-5319-webroot/1-Databases/MaterialCracking/UT-881-image_src/Image131.png\r\n",
      "Reusing existing connection to 54.243.252.9:80.\r\n",
      "HTTP request sent, awaiting response... "
     ]
    },
    {
     "name": "stdout",
     "output_type": "stream",
     "text": [
      "200 OK\r\n",
      "Length: 8409 (8.2K) [image/png]\r\n",
      "Saving to: ‘./MyImageFiles/Image131.png’\r\n",
      "\r\n",
      "\r",
      "Image131.png          0%[                    ]       0  --.-KB/s               \r",
      "Image131.png        100%[===================>]   8.21K  --.-KB/s    in 0s      \r\n",
      "\r\n",
      "2022-11-22 20:01:13 (32.3 MB/s) - ‘./MyImageFiles/Image131.png’ saved [8409/8409]\r\n",
      "\r\n",
      "--2022-11-22 20:01:13--  http://54.243.252.9/ce-5319-webroot/1-Databases/MaterialCracking/UT-881-image_src/Image132.png\r\n",
      "Reusing existing connection to 54.243.252.9:80.\r\n",
      "HTTP request sent, awaiting response... "
     ]
    },
    {
     "name": "stdout",
     "output_type": "stream",
     "text": [
      "200 OK\r\n",
      "Length: 10585 (10K) [image/png]\r\n",
      "Saving to: ‘./MyImageFiles/Image132.png’\r\n",
      "\r\n",
      "\r",
      "Image132.png          0%[                    ]       0  --.-KB/s               \r",
      "Image132.png        100%[===================>]  10.34K  --.-KB/s    in 0s      \r\n",
      "\r\n",
      "2022-11-22 20:01:13 (29.7 MB/s) - ‘./MyImageFiles/Image132.png’ saved [10585/10585]\r\n",
      "\r\n",
      "--2022-11-22 20:01:13--  http://54.243.252.9/ce-5319-webroot/1-Databases/MaterialCracking/UT-881-image_src/Image133.png\r\n",
      "Reusing existing connection to 54.243.252.9:80.\r\n",
      "HTTP request sent, awaiting response... "
     ]
    },
    {
     "name": "stdout",
     "output_type": "stream",
     "text": [
      "200 OK\r\n",
      "Length: 13541 (13K) [image/png]\r\n",
      "Saving to: ‘./MyImageFiles/Image133.png’\r\n",
      "\r\n",
      "\r",
      "Image133.png          0%[                    ]       0  --.-KB/s               \r",
      "Image133.png        100%[===================>]  13.22K  --.-KB/s    in 0s      \r\n",
      "\r\n",
      "2022-11-22 20:01:13 (36.5 MB/s) - ‘./MyImageFiles/Image133.png’ saved [13541/13541]\r\n",
      "\r\n",
      "--2022-11-22 20:01:13--  http://54.243.252.9/ce-5319-webroot/1-Databases/MaterialCracking/UT-881-image_src/Image134.png\r\n",
      "Reusing existing connection to 54.243.252.9:80.\r\n",
      "HTTP request sent, awaiting response... 200 OK\r\n",
      "Length: 11136 (11K) [image/png]\r\n",
      "Saving to: ‘./MyImageFiles/Image134.png’\r\n",
      "\r\n",
      "\r",
      "Image134.png          0%[                    ]       0  --.-KB/s               "
     ]
    },
    {
     "name": "stdout",
     "output_type": "stream",
     "text": [
      "\r",
      "Image134.png        100%[===================>]  10.88K  --.-KB/s    in 0s      \r\n",
      "\r\n",
      "2022-11-22 20:01:13 (32.3 MB/s) - ‘./MyImageFiles/Image134.png’ saved [11136/11136]\r\n",
      "\r\n",
      "--2022-11-22 20:01:13--  http://54.243.252.9/ce-5319-webroot/1-Databases/MaterialCracking/UT-881-image_src/Image135.png\r\n",
      "Reusing existing connection to 54.243.252.9:80.\r\n",
      "HTTP request sent, awaiting response... 200 OK\r\n",
      "Length: 14731 (14K) [image/png]\r\n",
      "Saving to: ‘./MyImageFiles/Image135.png’\r\n",
      "\r\n",
      "\r",
      "Image135.png          0%[                    ]       0  --.-KB/s               \r",
      "Image135.png        100%[===================>]  14.39K  --.-KB/s    in 0s      \r\n",
      "\r\n",
      "2022-11-22 20:01:13 (55.9 MB/s) - ‘./MyImageFiles/Image135.png’ saved [14731/14731]\r\n",
      "\r\n",
      "--2022-11-22 20:01:13--  http://54.243.252.9/ce-5319-webroot/1-Databases/MaterialCracking/UT-881-image_src/Image136.png\r\n",
      "Reusing existing connection to 54.243.252.9:80.\r\n",
      "HTTP request sent, awaiting response... "
     ]
    },
    {
     "name": "stdout",
     "output_type": "stream",
     "text": [
      "200 OK\r\n",
      "Length: 14711 (14K) [image/png]\r\n",
      "Saving to: ‘./MyImageFiles/Image136.png’\r\n",
      "\r\n",
      "\r",
      "Image136.png          0%[                    ]       0  --.-KB/s               \r",
      "Image136.png        100%[===================>]  14.37K  --.-KB/s    in 0s      \r\n",
      "\r\n",
      "2022-11-22 20:01:13 (59.8 MB/s) - ‘./MyImageFiles/Image136.png’ saved [14711/14711]\r\n",
      "\r\n",
      "--2022-11-22 20:01:13--  http://54.243.252.9/ce-5319-webroot/1-Databases/MaterialCracking/UT-881-image_src/Image137.png\r\n",
      "Reusing existing connection to 54.243.252.9:80.\r\n",
      "HTTP request sent, awaiting response... "
     ]
    },
    {
     "name": "stdout",
     "output_type": "stream",
     "text": [
      "200 OK\r\n",
      "Length: 9567 (9.3K) [image/png]\r\n",
      "Saving to: ‘./MyImageFiles/Image137.png’\r\n",
      "\r\n",
      "\r",
      "Image137.png          0%[                    ]       0  --.-KB/s               \r",
      "Image137.png        100%[===================>]   9.34K  --.-KB/s    in 0s      \r\n",
      "\r\n",
      "2022-11-22 20:01:13 (30.0 MB/s) - ‘./MyImageFiles/Image137.png’ saved [9567/9567]\r\n",
      "\r\n",
      "--2022-11-22 20:01:13--  http://54.243.252.9/ce-5319-webroot/1-Databases/MaterialCracking/UT-881-image_src/Image138.png\r\n",
      "Reusing existing connection to 54.243.252.9:80.\r\n",
      "HTTP request sent, awaiting response... "
     ]
    },
    {
     "name": "stdout",
     "output_type": "stream",
     "text": [
      "200 OK\r\n",
      "Length: 9527 (9.3K) [image/png]\r\n",
      "Saving to: ‘./MyImageFiles/Image138.png’\r\n",
      "\r\n",
      "\r",
      "Image138.png          0%[                    ]       0  --.-KB/s               \r",
      "Image138.png        100%[===================>]   9.30K  --.-KB/s    in 0s      \r\n",
      "\r\n",
      "2022-11-22 20:01:13 (28.4 MB/s) - ‘./MyImageFiles/Image138.png’ saved [9527/9527]\r\n",
      "\r\n",
      "--2022-11-22 20:01:13--  http://54.243.252.9/ce-5319-webroot/1-Databases/MaterialCracking/UT-881-image_src/Image139.png\r\n",
      "Reusing existing connection to 54.243.252.9:80.\r\n",
      "HTTP request sent, awaiting response... "
     ]
    },
    {
     "name": "stdout",
     "output_type": "stream",
     "text": [
      "200 OK\r\n",
      "Length: 14877 (15K) [image/png]\r\n",
      "Saving to: ‘./MyImageFiles/Image139.png’\r\n",
      "\r\n",
      "\r",
      "Image139.png          0%[                    ]       0  --.-KB/s               \r",
      "Image139.png        100%[===================>]  14.53K  --.-KB/s    in 0s      \r\n",
      "\r\n",
      "2022-11-22 20:01:13 (66.1 MB/s) - ‘./MyImageFiles/Image139.png’ saved [14877/14877]\r\n",
      "\r\n",
      "--2022-11-22 20:01:13--  http://54.243.252.9/ce-5319-webroot/1-Databases/MaterialCracking/UT-881-image_src/Image140.png\r\n",
      "Reusing existing connection to 54.243.252.9:80.\r\n",
      "HTTP request sent, awaiting response... "
     ]
    },
    {
     "name": "stdout",
     "output_type": "stream",
     "text": [
      "200 OK\r\n",
      "Length: 12965 (13K) [image/png]\r\n",
      "Saving to: ‘./MyImageFiles/Image140.png’\r\n",
      "\r\n",
      "\r",
      "Image140.png          0%[                    ]       0  --.-KB/s               \r",
      "Image140.png        100%[===================>]  12.66K  --.-KB/s    in 0s      \r\n",
      "\r\n",
      "2022-11-22 20:01:13 (52.8 MB/s) - ‘./MyImageFiles/Image140.png’ saved [12965/12965]\r\n",
      "\r\n",
      "--2022-11-22 20:01:13--  http://54.243.252.9/ce-5319-webroot/1-Databases/MaterialCracking/UT-881-image_src/Image141.png\r\n",
      "Reusing existing connection to 54.243.252.9:80.\r\n",
      "HTTP request sent, awaiting response... "
     ]
    },
    {
     "name": "stdout",
     "output_type": "stream",
     "text": [
      "200 OK\r\n",
      "Length: 13981 (14K) [image/png]\r\n",
      "Saving to: ‘./MyImageFiles/Image141.png’\r\n",
      "\r\n",
      "\r",
      "Image141.png          0%[                    ]       0  --.-KB/s               \r",
      "Image141.png        100%[===================>]  13.65K  --.-KB/s    in 0s      \r\n",
      "\r\n",
      "2022-11-22 20:01:13 (43.4 MB/s) - ‘./MyImageFiles/Image141.png’ saved [13981/13981]\r\n",
      "\r\n",
      "--2022-11-22 20:01:13--  http://54.243.252.9/ce-5319-webroot/1-Databases/MaterialCracking/UT-881-image_src/Image142.png\r\n",
      "Reusing existing connection to 54.243.252.9:80.\r\n",
      "HTTP request sent, awaiting response... "
     ]
    },
    {
     "name": "stdout",
     "output_type": "stream",
     "text": [
      "200 OK\r\n",
      "Length: 10826 (11K) [image/png]\r\n",
      "Saving to: ‘./MyImageFiles/Image142.png’\r\n",
      "\r\n",
      "\r",
      "Image142.png          0%[                    ]       0  --.-KB/s               \r",
      "Image142.png        100%[===================>]  10.57K  --.-KB/s    in 0s      \r\n",
      "\r\n",
      "2022-11-22 20:01:13 (41.6 MB/s) - ‘./MyImageFiles/Image142.png’ saved [10826/10826]\r\n",
      "\r\n",
      "--2022-11-22 20:01:13--  http://54.243.252.9/ce-5319-webroot/1-Databases/MaterialCracking/UT-881-image_src/Image143.png\r\n",
      "Reusing existing connection to 54.243.252.9:80.\r\n",
      "HTTP request sent, awaiting response... "
     ]
    },
    {
     "name": "stdout",
     "output_type": "stream",
     "text": [
      "200 OK\r\n",
      "Length: 9419 (9.2K) [image/png]\r\n",
      "Saving to: ‘./MyImageFiles/Image143.png’\r\n",
      "\r\n",
      "\r",
      "Image143.png          0%[                    ]       0  --.-KB/s               \r",
      "Image143.png        100%[===================>]   9.20K  --.-KB/s    in 0s      \r\n",
      "\r\n",
      "2022-11-22 20:01:13 (37.5 MB/s) - ‘./MyImageFiles/Image143.png’ saved [9419/9419]\r\n",
      "\r\n",
      "--2022-11-22 20:01:13--  http://54.243.252.9/ce-5319-webroot/1-Databases/MaterialCracking/UT-881-image_src/Image144.png\r\n",
      "Reusing existing connection to 54.243.252.9:80.\r\n",
      "HTTP request sent, awaiting response... "
     ]
    },
    {
     "name": "stdout",
     "output_type": "stream",
     "text": [
      "200 OK\r\n",
      "Length: 13027 (13K) [image/png]\r\n",
      "Saving to: ‘./MyImageFiles/Image144.png’\r\n",
      "\r\n",
      "\r",
      "Image144.png          0%[                    ]       0  --.-KB/s               \r",
      "Image144.png        100%[===================>]  12.72K  --.-KB/s    in 0s      \r\n",
      "\r\n",
      "2022-11-22 20:01:13 (53.0 MB/s) - ‘./MyImageFiles/Image144.png’ saved [13027/13027]\r\n",
      "\r\n",
      "--2022-11-22 20:01:13--  http://54.243.252.9/ce-5319-webroot/1-Databases/MaterialCracking/UT-881-image_src/Image145.png\r\n",
      "Reusing existing connection to 54.243.252.9:80.\r\n",
      "HTTP request sent, awaiting response... "
     ]
    },
    {
     "name": "stdout",
     "output_type": "stream",
     "text": [
      "200 OK\r\n",
      "Length: 15119 (15K) [image/png]\r\n",
      "Saving to: ‘./MyImageFiles/Image145.png’\r\n",
      "\r\n",
      "\r",
      "Image145.png          0%[                    ]       0  --.-KB/s               \r",
      "Image145.png        100%[===================>]  14.76K  --.-KB/s    in 0s      \r\n",
      "\r\n",
      "2022-11-22 20:01:13 (54.6 MB/s) - ‘./MyImageFiles/Image145.png’ saved [15119/15119]\r\n",
      "\r\n",
      "--2022-11-22 20:01:13--  http://54.243.252.9/ce-5319-webroot/1-Databases/MaterialCracking/UT-881-image_src/Image146.png\r\n",
      "Reusing existing connection to 54.243.252.9:80.\r\n",
      "HTTP request sent, awaiting response... "
     ]
    },
    {
     "name": "stdout",
     "output_type": "stream",
     "text": [
      "200 OK\r\n",
      "Length: 14412 (14K) [image/png]\r\n",
      "Saving to: ‘./MyImageFiles/Image146.png’\r\n",
      "\r\n",
      "\r",
      "Image146.png          0%[                    ]       0  --.-KB/s               \r",
      "Image146.png        100%[===================>]  14.07K  --.-KB/s    in 0s      \r\n",
      "\r\n",
      "2022-11-22 20:01:13 (49.4 MB/s) - ‘./MyImageFiles/Image146.png’ saved [14412/14412]\r\n",
      "\r\n",
      "--2022-11-22 20:01:13--  http://54.243.252.9/ce-5319-webroot/1-Databases/MaterialCracking/UT-881-image_src/Image147.png\r\n",
      "Reusing existing connection to 54.243.252.9:80.\r\n",
      "HTTP request sent, awaiting response... "
     ]
    },
    {
     "name": "stdout",
     "output_type": "stream",
     "text": [
      "200 OK\r\n",
      "Length: 13104 (13K) [image/png]\r\n",
      "Saving to: ‘./MyImageFiles/Image147.png’\r\n",
      "\r\n",
      "\r",
      "Image147.png          0%[                    ]       0  --.-KB/s               \r",
      "Image147.png        100%[===================>]  12.80K  --.-KB/s    in 0s      \r\n",
      "\r\n",
      "2022-11-22 20:01:14 (39.3 MB/s) - ‘./MyImageFiles/Image147.png’ saved [13104/13104]\r\n",
      "\r\n",
      "--2022-11-22 20:01:14--  http://54.243.252.9/ce-5319-webroot/1-Databases/MaterialCracking/UT-881-image_src/Image148.png\r\n",
      "Reusing existing connection to 54.243.252.9:80.\r\n",
      "HTTP request sent, awaiting response... "
     ]
    },
    {
     "name": "stdout",
     "output_type": "stream",
     "text": [
      "200 OK\r\n",
      "Length: 14485 (14K) [image/png]\r\n",
      "Saving to: ‘./MyImageFiles/Image148.png’\r\n",
      "\r\n",
      "\r",
      "Image148.png          0%[                    ]       0  --.-KB/s               \r",
      "Image148.png        100%[===================>]  14.15K  --.-KB/s    in 0s      \r\n",
      "\r\n",
      "2022-11-22 20:01:14 (32.9 MB/s) - ‘./MyImageFiles/Image148.png’ saved [14485/14485]\r\n",
      "\r\n",
      "--2022-11-22 20:01:14--  http://54.243.252.9/ce-5319-webroot/1-Databases/MaterialCracking/UT-881-image_src/Image149.png\r\n",
      "Reusing existing connection to 54.243.252.9:80.\r\n",
      "HTTP request sent, awaiting response... "
     ]
    },
    {
     "name": "stdout",
     "output_type": "stream",
     "text": [
      "200 OK\r\n",
      "Length: 12462 (12K) [image/png]\r\n",
      "Saving to: ‘./MyImageFiles/Image149.png’\r\n",
      "\r\n",
      "\r",
      "Image149.png          0%[                    ]       0  --.-KB/s               \r",
      "Image149.png        100%[===================>]  12.17K  --.-KB/s    in 0s      \r\n",
      "\r\n",
      "2022-11-22 20:01:14 (28.9 MB/s) - ‘./MyImageFiles/Image149.png’ saved [12462/12462]\r\n",
      "\r\n",
      "--2022-11-22 20:01:14--  http://54.243.252.9/ce-5319-webroot/1-Databases/MaterialCracking/UT-881-image_src/Image150.png\r\n",
      "Reusing existing connection to 54.243.252.9:80.\r\n",
      "HTTP request sent, awaiting response... "
     ]
    },
    {
     "name": "stdout",
     "output_type": "stream",
     "text": [
      "200 OK\r\n",
      "Length: 13959 (14K) [image/png]\r\n",
      "Saving to: ‘./MyImageFiles/Image150.png’\r\n",
      "\r\n",
      "\r",
      "Image150.png          0%[                    ]       0  --.-KB/s               \r",
      "Image150.png        100%[===================>]  13.63K  --.-KB/s    in 0s      \r\n",
      "\r\n",
      "2022-11-22 20:01:14 (36.4 MB/s) - ‘./MyImageFiles/Image150.png’ saved [13959/13959]\r\n",
      "\r\n",
      "--2022-11-22 20:01:14--  http://54.243.252.9/ce-5319-webroot/1-Databases/MaterialCracking/UT-881-image_src/Image151.png\r\n",
      "Reusing existing connection to 54.243.252.9:80.\r\n",
      "HTTP request sent, awaiting response... 200 OK\r\n",
      "Length: 14487 (14K) [image/png]\r\n",
      "Saving to: ‘./MyImageFiles/Image151.png’\r\n",
      "\r\n",
      "\r",
      "Image151.png          0%[                    ]       0  --.-KB/s               \r",
      "Image151.png        100%[===================>]  14.15K  --.-KB/s    in 0s      \r\n",
      "\r\n",
      "2022-11-22 20:01:14 (41.0 MB/s) - ‘./MyImageFiles/Image151.png’ saved [14487/14487]\r\n",
      "\r\n",
      "--2022-11-22 20:01:14--  http://54.243.252.9/ce-5319-webroot/1-Databases/MaterialCracking/UT-881-image_src/Image152.png\r\n",
      "Reusing existing connection to 54.243.252.9:80.\r\n",
      "HTTP request sent, awaiting response... "
     ]
    },
    {
     "name": "stdout",
     "output_type": "stream",
     "text": [
      "200 OK\r\n",
      "Length: 13009 (13K) [image/png]\r\n",
      "Saving to: ‘./MyImageFiles/Image152.png’\r\n",
      "\r\n",
      "\r",
      "Image152.png          0%[                    ]       0  --.-KB/s               \r",
      "Image152.png        100%[===================>]  12.70K  --.-KB/s    in 0s      \r\n",
      "\r\n",
      "2022-11-22 20:01:14 (35.9 MB/s) - ‘./MyImageFiles/Image152.png’ saved [13009/13009]\r\n",
      "\r\n",
      "--2022-11-22 20:01:14--  http://54.243.252.9/ce-5319-webroot/1-Databases/MaterialCracking/UT-881-image_src/Image153.png\r\n",
      "Reusing existing connection to 54.243.252.9:80.\r\n",
      "HTTP request sent, awaiting response... "
     ]
    },
    {
     "name": "stdout",
     "output_type": "stream",
     "text": [
      "200 OK\r\n",
      "Length: 14801 (14K) [image/png]\r\n",
      "Saving to: ‘./MyImageFiles/Image153.png’\r\n",
      "\r\n",
      "\r",
      "Image153.png          0%[                    ]       0  --.-KB/s               \r",
      "Image153.png        100%[===================>]  14.45K  --.-KB/s    in 0s      \r\n",
      "\r\n",
      "2022-11-22 20:01:14 (69.7 MB/s) - ‘./MyImageFiles/Image153.png’ saved [14801/14801]\r\n",
      "\r\n",
      "--2022-11-22 20:01:14--  http://54.243.252.9/ce-5319-webroot/1-Databases/MaterialCracking/UT-881-image_src/Image154.png\r\n",
      "Reusing existing connection to 54.243.252.9:80.\r\n",
      "HTTP request sent, awaiting response... "
     ]
    },
    {
     "name": "stdout",
     "output_type": "stream",
     "text": [
      "200 OK\r\n",
      "Length: 15115 (15K) [image/png]\r\n",
      "Saving to: ‘./MyImageFiles/Image154.png’\r\n",
      "\r\n",
      "\r",
      "Image154.png          0%[                    ]       0  --.-KB/s               \r",
      "Image154.png        100%[===================>]  14.76K  --.-KB/s    in 0s      \r\n",
      "\r\n",
      "2022-11-22 20:01:14 (41.0 MB/s) - ‘./MyImageFiles/Image154.png’ saved [15115/15115]\r\n",
      "\r\n",
      "--2022-11-22 20:01:14--  http://54.243.252.9/ce-5319-webroot/1-Databases/MaterialCracking/UT-881-image_src/Image155.png\r\n",
      "Reusing existing connection to 54.243.252.9:80.\r\n",
      "HTTP request sent, awaiting response... "
     ]
    },
    {
     "name": "stdout",
     "output_type": "stream",
     "text": [
      "200 OK\r\n",
      "Length: 11978 (12K) [image/png]\r\n",
      "Saving to: ‘./MyImageFiles/Image155.png’\r\n",
      "\r\n",
      "\r",
      "Image155.png          0%[                    ]       0  --.-KB/s               \r",
      "Image155.png        100%[===================>]  11.70K  --.-KB/s    in 0s      \r\n",
      "\r\n",
      "2022-11-22 20:01:14 (32.0 MB/s) - ‘./MyImageFiles/Image155.png’ saved [11978/11978]\r\n",
      "\r\n",
      "--2022-11-22 20:01:14--  http://54.243.252.9/ce-5319-webroot/1-Databases/MaterialCracking/UT-881-image_src/Image156.png\r\n",
      "Reusing existing connection to 54.243.252.9:80.\r\n",
      "HTTP request sent, awaiting response... "
     ]
    },
    {
     "name": "stdout",
     "output_type": "stream",
     "text": [
      "200 OK\r\n",
      "Length: 13734 (13K) [image/png]\r\n",
      "Saving to: ‘./MyImageFiles/Image156.png’\r\n",
      "\r\n",
      "\r",
      "Image156.png          0%[                    ]       0  --.-KB/s               \r",
      "Image156.png        100%[===================>]  13.41K  --.-KB/s    in 0s      \r\n",
      "\r\n",
      "2022-11-22 20:01:14 (38.1 MB/s) - ‘./MyImageFiles/Image156.png’ saved [13734/13734]\r\n",
      "\r\n",
      "--2022-11-22 20:01:14--  http://54.243.252.9/ce-5319-webroot/1-Databases/MaterialCracking/UT-881-image_src/Image157.png\r\n",
      "Reusing existing connection to 54.243.252.9:80.\r\n",
      "HTTP request sent, awaiting response... "
     ]
    },
    {
     "name": "stdout",
     "output_type": "stream",
     "text": [
      "200 OK\r\n",
      "Length: 15223 (15K) [image/png]\r\n",
      "Saving to: ‘./MyImageFiles/Image157.png’\r\n",
      "\r\n",
      "\r",
      "Image157.png          0%[                    ]       0  --.-KB/s               \r",
      "Image157.png        100%[===================>]  14.87K  --.-KB/s    in 0s      \r\n",
      "\r\n",
      "2022-11-22 20:01:14 (36.6 MB/s) - ‘./MyImageFiles/Image157.png’ saved [15223/15223]\r\n",
      "\r\n",
      "--2022-11-22 20:01:14--  http://54.243.252.9/ce-5319-webroot/1-Databases/MaterialCracking/UT-881-image_src/Image158.png\r\n",
      "Reusing existing connection to 54.243.252.9:80.\r\n",
      "HTTP request sent, awaiting response... "
     ]
    },
    {
     "name": "stdout",
     "output_type": "stream",
     "text": [
      "200 OK\r\n",
      "Length: 12334 (12K) [image/png]\r\n",
      "Saving to: ‘./MyImageFiles/Image158.png’\r\n",
      "\r\n",
      "\r",
      "Image158.png          0%[                    ]       0  --.-KB/s               \r",
      "Image158.png        100%[===================>]  12.04K  --.-KB/s    in 0s      \r\n",
      "\r\n",
      "2022-11-22 20:01:14 (35.0 MB/s) - ‘./MyImageFiles/Image158.png’ saved [12334/12334]\r\n",
      "\r\n",
      "--2022-11-22 20:01:14--  http://54.243.252.9/ce-5319-webroot/1-Databases/MaterialCracking/UT-881-image_src/Image159.png\r\n",
      "Reusing existing connection to 54.243.252.9:80.\r\n",
      "HTTP request sent, awaiting response... "
     ]
    },
    {
     "name": "stdout",
     "output_type": "stream",
     "text": [
      "200 OK\r\n",
      "Length: 14221 (14K) [image/png]\r\n",
      "Saving to: ‘./MyImageFiles/Image159.png’\r\n",
      "\r\n",
      "\r",
      "Image159.png          0%[                    ]       0  --.-KB/s               \r",
      "Image159.png        100%[===================>]  13.89K  --.-KB/s    in 0s      \r\n",
      "\r\n",
      "2022-11-22 20:01:14 (51.6 MB/s) - ‘./MyImageFiles/Image159.png’ saved [14221/14221]\r\n",
      "\r\n",
      "--2022-11-22 20:01:14--  http://54.243.252.9/ce-5319-webroot/1-Databases/MaterialCracking/UT-881-image_src/Image160.png\r\n",
      "Reusing existing connection to 54.243.252.9:80.\r\n",
      "HTTP request sent, awaiting response... "
     ]
    },
    {
     "name": "stdout",
     "output_type": "stream",
     "text": [
      "200 OK\r\n",
      "Length: 14204 (14K) [image/png]\r\n",
      "Saving to: ‘./MyImageFiles/Image160.png’\r\n",
      "\r\n",
      "\r",
      "Image160.png          0%[                    ]       0  --.-KB/s               \r",
      "Image160.png        100%[===================>]  13.87K  --.-KB/s    in 0s      \r\n",
      "\r\n",
      "2022-11-22 20:01:14 (53.2 MB/s) - ‘./MyImageFiles/Image160.png’ saved [14204/14204]\r\n",
      "\r\n",
      "--2022-11-22 20:01:14--  http://54.243.252.9/ce-5319-webroot/1-Databases/MaterialCracking/UT-881-image_src/Image161.png\r\n",
      "Reusing existing connection to 54.243.252.9:80.\r\n",
      "HTTP request sent, awaiting response... "
     ]
    },
    {
     "name": "stdout",
     "output_type": "stream",
     "text": [
      "200 OK\r\n",
      "Length: 10539 (10K) [image/png]\r\n",
      "Saving to: ‘./MyImageFiles/Image161.png’\r\n",
      "\r\n",
      "\r",
      "Image161.png          0%[                    ]       0  --.-KB/s               \r",
      "Image161.png        100%[===================>]  10.29K  --.-KB/s    in 0s      \r\n",
      "\r\n",
      "2022-11-22 20:01:14 (41.5 MB/s) - ‘./MyImageFiles/Image161.png’ saved [10539/10539]\r\n",
      "\r\n",
      "--2022-11-22 20:01:14--  http://54.243.252.9/ce-5319-webroot/1-Databases/MaterialCracking/UT-881-image_src/Image162.png\r\n",
      "Reusing existing connection to 54.243.252.9:80.\r\n",
      "HTTP request sent, awaiting response... "
     ]
    },
    {
     "name": "stdout",
     "output_type": "stream",
     "text": [
      "200 OK\r\n",
      "Length: 14891 (15K) [image/png]\r\n",
      "Saving to: ‘./MyImageFiles/Image162.png’\r\n",
      "\r\n",
      "\r",
      "Image162.png          0%[                    ]       0  --.-KB/s               \r",
      "Image162.png        100%[===================>]  14.54K  --.-KB/s    in 0s      \r\n",
      "\r\n",
      "2022-11-22 20:01:14 (39.1 MB/s) - ‘./MyImageFiles/Image162.png’ saved [14891/14891]\r\n",
      "\r\n",
      "--2022-11-22 20:01:14--  http://54.243.252.9/ce-5319-webroot/1-Databases/MaterialCracking/UT-881-image_src/Image163.png\r\n",
      "Reusing existing connection to 54.243.252.9:80.\r\n",
      "HTTP request sent, awaiting response... "
     ]
    },
    {
     "name": "stdout",
     "output_type": "stream",
     "text": [
      "200 OK\r\n",
      "Length: 14420 (14K) [image/png]\r\n",
      "Saving to: ‘./MyImageFiles/Image163.png’\r\n",
      "\r\n",
      "\r",
      "Image163.png          0%[                    ]       0  --.-KB/s               \r",
      "Image163.png        100%[===================>]  14.08K  --.-KB/s    in 0s      \r\n",
      "\r\n",
      "2022-11-22 20:01:14 (56.2 MB/s) - ‘./MyImageFiles/Image163.png’ saved [14420/14420]\r\n",
      "\r\n",
      "--2022-11-22 20:01:14--  http://54.243.252.9/ce-5319-webroot/1-Databases/MaterialCracking/UT-881-image_src/Image164.png\r\n",
      "Reusing existing connection to 54.243.252.9:80.\r\n",
      "HTTP request sent, awaiting response... "
     ]
    },
    {
     "name": "stdout",
     "output_type": "stream",
     "text": [
      "200 OK\r\n",
      "Length: 13572 (13K) [image/png]\r\n",
      "Saving to: ‘./MyImageFiles/Image164.png’\r\n",
      "\r\n",
      "\r",
      "Image164.png          0%[                    ]       0  --.-KB/s               \r",
      "Image164.png        100%[===================>]  13.25K  --.-KB/s    in 0s      \r\n",
      "\r\n",
      "2022-11-22 20:01:14 (48.0 MB/s) - ‘./MyImageFiles/Image164.png’ saved [13572/13572]\r\n",
      "\r\n",
      "--2022-11-22 20:01:14--  http://54.243.252.9/ce-5319-webroot/1-Databases/MaterialCracking/UT-881-image_src/Image165.png\r\n",
      "Reusing existing connection to 54.243.252.9:80.\r\n",
      "HTTP request sent, awaiting response... "
     ]
    },
    {
     "name": "stdout",
     "output_type": "stream",
     "text": [
      "200 OK\r\n",
      "Length: 14388 (14K) [image/png]\r\n",
      "Saving to: ‘./MyImageFiles/Image165.png’\r\n",
      "\r\n",
      "\r",
      "Image165.png          0%[                    ]       0  --.-KB/s               \r",
      "Image165.png        100%[===================>]  14.05K  --.-KB/s    in 0s      \r\n",
      "\r\n",
      "2022-11-22 20:01:14 (32.0 MB/s) - ‘./MyImageFiles/Image165.png’ saved [14388/14388]\r\n",
      "\r\n",
      "--2022-11-22 20:01:14--  http://54.243.252.9/ce-5319-webroot/1-Databases/MaterialCracking/UT-881-image_src/Image166.png\r\n",
      "Reusing existing connection to 54.243.252.9:80.\r\n",
      "HTTP request sent, awaiting response... "
     ]
    },
    {
     "name": "stdout",
     "output_type": "stream",
     "text": [
      "200 OK\r\n",
      "Length: 15264 (15K) [image/png]\r\n",
      "Saving to: ‘./MyImageFiles/Image166.png’\r\n",
      "\r\n",
      "\r",
      "Image166.png          0%[                    ]       0  --.-KB/s               \r",
      "Image166.png        100%[===================>]  14.91K  --.-KB/s    in 0s      \r\n",
      "\r\n",
      "2022-11-22 20:01:14 (34.0 MB/s) - ‘./MyImageFiles/Image166.png’ saved [15264/15264]\r\n",
      "\r\n",
      "--2022-11-22 20:01:14--  http://54.243.252.9/ce-5319-webroot/1-Databases/MaterialCracking/UT-881-image_src/Image167.png\r\n",
      "Reusing existing connection to 54.243.252.9:80.\r\n",
      "HTTP request sent, awaiting response... "
     ]
    },
    {
     "name": "stdout",
     "output_type": "stream",
     "text": [
      "200 OK\r\n",
      "Length: 14440 (14K) [image/png]\r\n",
      "Saving to: ‘./MyImageFiles/Image167.png’\r\n",
      "\r\n",
      "\r",
      "Image167.png          0%[                    ]       0  --.-KB/s               \r",
      "Image167.png        100%[===================>]  14.10K  --.-KB/s    in 0s      \r\n",
      "\r\n",
      "2022-11-22 20:01:15 (37.2 MB/s) - ‘./MyImageFiles/Image167.png’ saved [14440/14440]\r\n",
      "\r\n",
      "--2022-11-22 20:01:15--  http://54.243.252.9/ce-5319-webroot/1-Databases/MaterialCracking/UT-881-image_src/Image168.png\r\n",
      "Reusing existing connection to 54.243.252.9:80.\r\n",
      "HTTP request sent, awaiting response... 200 OK\r\n",
      "Length: 13913 (14K) [image/png]\r\n",
      "Saving to: ‘./MyImageFiles/Image168.png’\r\n",
      "\r\n",
      "\r",
      "Image168.png          0%[                    ]       0  --.-KB/s               \r",
      "Image168.png        100%[===================>]  13.59K  --.-KB/s    in 0s      \r\n",
      "\r\n",
      "2022-11-22 20:01:15 (58.5 MB/s) - ‘./MyImageFiles/Image168.png’ saved [13913/13913]\r\n",
      "\r\n",
      "--2022-11-22 20:01:15--  http://54.243.252.9/ce-5319-webroot/1-Databases/MaterialCracking/UT-881-image_src/Image169.png\r\n",
      "Reusing existing connection to 54.243.252.9:80.\r\n",
      "HTTP request sent, awaiting response... "
     ]
    },
    {
     "name": "stdout",
     "output_type": "stream",
     "text": [
      "200 OK\r\n",
      "Length: 14680 (14K) [image/png]\r\n",
      "Saving to: ‘./MyImageFiles/Image169.png’\r\n",
      "\r\n",
      "\r",
      "Image169.png          0%[                    ]       0  --.-KB/s               \r",
      "Image169.png        100%[===================>]  14.34K  --.-KB/s    in 0s      \r\n",
      "\r\n",
      "2022-11-22 20:01:15 (36.6 MB/s) - ‘./MyImageFiles/Image169.png’ saved [14680/14680]\r\n",
      "\r\n",
      "--2022-11-22 20:01:15--  http://54.243.252.9/ce-5319-webroot/1-Databases/MaterialCracking/UT-881-image_src/Image170.png\r\n",
      "Reusing existing connection to 54.243.252.9:80.\r\n",
      "HTTP request sent, awaiting response... "
     ]
    },
    {
     "name": "stdout",
     "output_type": "stream",
     "text": [
      "200 OK\r\n",
      "Length: 10893 (11K) [image/png]\r\n",
      "Saving to: ‘./MyImageFiles/Image170.png’\r\n",
      "\r\n",
      "\r",
      "Image170.png          0%[                    ]       0  --.-KB/s               \r",
      "Image170.png        100%[===================>]  10.64K  --.-KB/s    in 0s      \r\n",
      "\r\n",
      "2022-11-22 20:01:15 (33.4 MB/s) - ‘./MyImageFiles/Image170.png’ saved [10893/10893]\r\n",
      "\r\n",
      "--2022-11-22 20:01:15--  http://54.243.252.9/ce-5319-webroot/1-Databases/MaterialCracking/UT-881-image_src/Image171.png\r\n",
      "Reusing existing connection to 54.243.252.9:80.\r\n",
      "HTTP request sent, awaiting response... "
     ]
    },
    {
     "name": "stdout",
     "output_type": "stream",
     "text": [
      "200 OK\r\n",
      "Length: 15255 (15K) [image/png]\r\n",
      "Saving to: ‘./MyImageFiles/Image171.png’\r\n",
      "\r\n",
      "\r",
      "Image171.png          0%[                    ]       0  --.-KB/s               \r",
      "Image171.png        100%[===================>]  14.90K  --.-KB/s    in 0s      \r\n",
      "\r\n",
      "2022-11-22 20:01:15 (41.4 MB/s) - ‘./MyImageFiles/Image171.png’ saved [15255/15255]\r\n",
      "\r\n",
      "--2022-11-22 20:01:15--  http://54.243.252.9/ce-5319-webroot/1-Databases/MaterialCracking/UT-881-image_src/Image172.png\r\n",
      "Reusing existing connection to 54.243.252.9:80.\r\n",
      "HTTP request sent, awaiting response... "
     ]
    },
    {
     "name": "stdout",
     "output_type": "stream",
     "text": [
      "200 OK\r\n",
      "Length: 14056 (14K) [image/png]\r\n",
      "Saving to: ‘./MyImageFiles/Image172.png’\r\n",
      "\r\n",
      "\r",
      "Image172.png          0%[                    ]       0  --.-KB/s               \r",
      "Image172.png        100%[===================>]  13.73K  --.-KB/s    in 0s      \r\n",
      "\r\n",
      "2022-11-22 20:01:15 (61.1 MB/s) - ‘./MyImageFiles/Image172.png’ saved [14056/14056]\r\n",
      "\r\n",
      "--2022-11-22 20:01:15--  http://54.243.252.9/ce-5319-webroot/1-Databases/MaterialCracking/UT-881-image_src/Image173.png\r\n",
      "Reusing existing connection to 54.243.252.9:80.\r\n",
      "HTTP request sent, awaiting response... "
     ]
    },
    {
     "name": "stdout",
     "output_type": "stream",
     "text": [
      "200 OK\r\n",
      "Length: 12153 (12K) [image/png]\r\n",
      "Saving to: ‘./MyImageFiles/Image173.png’\r\n",
      "\r\n",
      "\r",
      "Image173.png          0%[                    ]       0  --.-KB/s               \r",
      "Image173.png        100%[===================>]  11.87K  --.-KB/s    in 0s      \r\n",
      "\r\n",
      "2022-11-22 20:01:15 (35.2 MB/s) - ‘./MyImageFiles/Image173.png’ saved [12153/12153]\r\n",
      "\r\n",
      "--2022-11-22 20:01:15--  http://54.243.252.9/ce-5319-webroot/1-Databases/MaterialCracking/UT-881-image_src/Image174.png\r\n",
      "Reusing existing connection to 54.243.252.9:80.\r\n",
      "HTTP request sent, awaiting response... "
     ]
    },
    {
     "name": "stdout",
     "output_type": "stream",
     "text": [
      "200 OK\r\n",
      "Length: 15090 (15K) [image/png]\r\n",
      "Saving to: ‘./MyImageFiles/Image174.png’\r\n",
      "\r\n",
      "\r",
      "Image174.png          0%[                    ]       0  --.-KB/s               \r",
      "Image174.png        100%[===================>]  14.74K  --.-KB/s    in 0s      \r\n",
      "\r\n",
      "2022-11-22 20:01:15 (52.9 MB/s) - ‘./MyImageFiles/Image174.png’ saved [15090/15090]\r\n",
      "\r\n",
      "--2022-11-22 20:01:15--  http://54.243.252.9/ce-5319-webroot/1-Databases/MaterialCracking/UT-881-image_src/Image175.png\r\n",
      "Reusing existing connection to 54.243.252.9:80.\r\n",
      "HTTP request sent, awaiting response... "
     ]
    },
    {
     "name": "stdout",
     "output_type": "stream",
     "text": [
      "200 OK\r\n",
      "Length: 14666 (14K) [image/png]\r\n",
      "Saving to: ‘./MyImageFiles/Image175.png’\r\n",
      "\r\n",
      "\r",
      "Image175.png          0%[                    ]       0  --.-KB/s               \r",
      "Image175.png        100%[===================>]  14.32K  --.-KB/s    in 0s      \r\n",
      "\r\n",
      "2022-11-22 20:01:15 (37.3 MB/s) - ‘./MyImageFiles/Image175.png’ saved [14666/14666]\r\n",
      "\r\n",
      "--2022-11-22 20:01:15--  http://54.243.252.9/ce-5319-webroot/1-Databases/MaterialCracking/UT-881-image_src/Image176.png\r\n",
      "Reusing existing connection to 54.243.252.9:80.\r\n",
      "HTTP request sent, awaiting response... "
     ]
    },
    {
     "name": "stdout",
     "output_type": "stream",
     "text": [
      "200 OK\r\n",
      "Length: 11877 (12K) [image/png]\r\n",
      "Saving to: ‘./MyImageFiles/Image176.png’\r\n",
      "\r\n",
      "\r",
      "Image176.png          0%[                    ]       0  --.-KB/s               \r",
      "Image176.png        100%[===================>]  11.60K  --.-KB/s    in 0s      \r\n",
      "\r\n",
      "2022-11-22 20:01:15 (52.7 MB/s) - ‘./MyImageFiles/Image176.png’ saved [11877/11877]\r\n",
      "\r\n",
      "--2022-11-22 20:01:15--  http://54.243.252.9/ce-5319-webroot/1-Databases/MaterialCracking/UT-881-image_src/Image177.png\r\n",
      "Reusing existing connection to 54.243.252.9:80.\r\n",
      "HTTP request sent, awaiting response... "
     ]
    },
    {
     "name": "stdout",
     "output_type": "stream",
     "text": [
      "200 OK\r\n",
      "Length: 13314 (13K) [image/png]\r\n",
      "Saving to: ‘./MyImageFiles/Image177.png’\r\n",
      "\r\n",
      "\r",
      "Image177.png          0%[                    ]       0  --.-KB/s               \r",
      "Image177.png        100%[===================>]  13.00K  --.-KB/s    in 0s      \r\n",
      "\r\n",
      "2022-11-22 20:01:15 (39.9 MB/s) - ‘./MyImageFiles/Image177.png’ saved [13314/13314]\r\n",
      "\r\n",
      "--2022-11-22 20:01:15--  http://54.243.252.9/ce-5319-webroot/1-Databases/MaterialCracking/UT-881-image_src/Image178.png\r\n",
      "Reusing existing connection to 54.243.252.9:80.\r\n",
      "HTTP request sent, awaiting response... "
     ]
    },
    {
     "name": "stdout",
     "output_type": "stream",
     "text": [
      "200 OK\r\n",
      "Length: 15299 (15K) [image/png]\r\n",
      "Saving to: ‘./MyImageFiles/Image178.png’\r\n",
      "\r\n",
      "\r",
      "Image178.png          0%[                    ]       0  --.-KB/s               \r",
      "Image178.png        100%[===================>]  14.94K  --.-KB/s    in 0s      \r\n",
      "\r\n",
      "2022-11-22 20:01:15 (60.8 MB/s) - ‘./MyImageFiles/Image178.png’ saved [15299/15299]\r\n",
      "\r\n",
      "--2022-11-22 20:01:15--  http://54.243.252.9/ce-5319-webroot/1-Databases/MaterialCracking/UT-881-image_src/Image179.png\r\n",
      "Reusing existing connection to 54.243.252.9:80.\r\n",
      "HTTP request sent, awaiting response... "
     ]
    },
    {
     "name": "stdout",
     "output_type": "stream",
     "text": [
      "200 OK\r\n",
      "Length: 13532 (13K) [image/png]\r\n",
      "Saving to: ‘./MyImageFiles/Image179.png’\r\n",
      "\r\n",
      "\r",
      "Image179.png          0%[                    ]       0  --.-KB/s               \r",
      "Image179.png        100%[===================>]  13.21K  --.-KB/s    in 0s      \r\n",
      "\r\n",
      "2022-11-22 20:01:15 (43.5 MB/s) - ‘./MyImageFiles/Image179.png’ saved [13532/13532]\r\n",
      "\r\n",
      "--2022-11-22 20:01:15--  http://54.243.252.9/ce-5319-webroot/1-Databases/MaterialCracking/UT-881-image_src/Image180.png\r\n",
      "Reusing existing connection to 54.243.252.9:80.\r\n",
      "HTTP request sent, awaiting response... "
     ]
    },
    {
     "name": "stdout",
     "output_type": "stream",
     "text": [
      "200 OK\r\n",
      "Length: 10213 (10.0K) [image/png]\r\n",
      "Saving to: ‘./MyImageFiles/Image180.png’\r\n",
      "\r\n",
      "\r",
      "Image180.png          0%[                    ]       0  --.-KB/s               \r",
      "Image180.png        100%[===================>]   9.97K  --.-KB/s    in 0s      \r\n",
      "\r\n",
      "2022-11-22 20:01:15 (31.5 MB/s) - ‘./MyImageFiles/Image180.png’ saved [10213/10213]\r\n",
      "\r\n",
      "--2022-11-22 20:01:15--  http://54.243.252.9/ce-5319-webroot/1-Databases/MaterialCracking/UT-881-image_src/Image181.png\r\n",
      "Reusing existing connection to 54.243.252.9:80.\r\n",
      "HTTP request sent, awaiting response... "
     ]
    },
    {
     "name": "stdout",
     "output_type": "stream",
     "text": [
      "200 OK\r\n",
      "Length: 8671 (8.5K) [image/png]\r\n",
      "Saving to: ‘./MyImageFiles/Image181.png’\r\n",
      "\r\n",
      "\r",
      "Image181.png          0%[                    ]       0  --.-KB/s               \r",
      "Image181.png        100%[===================>]   8.47K  --.-KB/s    in 0s      \r\n",
      "\r\n",
      "2022-11-22 20:01:15 (35.4 MB/s) - ‘./MyImageFiles/Image181.png’ saved [8671/8671]\r\n",
      "\r\n",
      "--2022-11-22 20:01:15--  http://54.243.252.9/ce-5319-webroot/1-Databases/MaterialCracking/UT-881-image_src/Image182.png\r\n",
      "Reusing existing connection to 54.243.252.9:80.\r\n",
      "HTTP request sent, awaiting response... "
     ]
    },
    {
     "name": "stdout",
     "output_type": "stream",
     "text": [
      "200 OK\r\n",
      "Length: 11707 (11K) [image/png]\r\n",
      "Saving to: ‘./MyImageFiles/Image182.png’\r\n",
      "\r\n",
      "\r",
      "Image182.png          0%[                    ]       0  --.-KB/s               \r",
      "Image182.png        100%[===================>]  11.43K  --.-KB/s    in 0s      \r\n",
      "\r\n",
      "2022-11-22 20:01:15 (44.9 MB/s) - ‘./MyImageFiles/Image182.png’ saved [11707/11707]\r\n",
      "\r\n",
      "--2022-11-22 20:01:15--  http://54.243.252.9/ce-5319-webroot/1-Databases/MaterialCracking/UT-881-image_src/Image183.png\r\n",
      "Reusing existing connection to 54.243.252.9:80.\r\n",
      "HTTP request sent, awaiting response... "
     ]
    },
    {
     "name": "stdout",
     "output_type": "stream",
     "text": [
      "200 OK\r\n",
      "Length: 15428 (15K) [image/png]\r\n",
      "Saving to: ‘./MyImageFiles/Image183.png’\r\n",
      "\r\n",
      "\r",
      "Image183.png          0%[                    ]       0  --.-KB/s               \r",
      "Image183.png        100%[===================>]  15.07K  --.-KB/s    in 0s      \r\n",
      "\r\n",
      "2022-11-22 20:01:15 (81.9 MB/s) - ‘./MyImageFiles/Image183.png’ saved [15428/15428]\r\n",
      "\r\n",
      "--2022-11-22 20:01:15--  http://54.243.252.9/ce-5319-webroot/1-Databases/MaterialCracking/UT-881-image_src/Image184.png\r\n",
      "Reusing existing connection to 54.243.252.9:80.\r\n",
      "HTTP request sent, awaiting response... 200 OK\r\n",
      "Length: 14495 (14K) [image/png]\r\n",
      "Saving to: ‘./MyImageFiles/Image184.png’\r\n",
      "\r\n",
      "\r",
      "Image184.png          0%[                    ]       0  --.-KB/s               \r",
      "Image184.png        100%[===================>]  14.16K  --.-KB/s    in 0s      \r\n"
     ]
    },
    {
     "name": "stdout",
     "output_type": "stream",
     "text": [
      "\r\n",
      "2022-11-22 20:01:15 (28.4 MB/s) - ‘./MyImageFiles/Image184.png’ saved [14495/14495]\r\n",
      "\r\n",
      "--2022-11-22 20:01:15--  http://54.243.252.9/ce-5319-webroot/1-Databases/MaterialCracking/UT-881-image_src/Image185.png\r\n",
      "Reusing existing connection to 54.243.252.9:80.\r\n",
      "HTTP request sent, awaiting response... 200 OK\r\n",
      "Length: 14483 (14K) [image/png]\r\n",
      "Saving to: ‘./MyImageFiles/Image185.png’\r\n",
      "\r\n",
      "\r",
      "Image185.png          0%[                    ]       0  --.-KB/s               \r",
      "Image185.png        100%[===================>]  14.14K  --.-KB/s    in 0s      \r\n",
      "\r\n",
      "2022-11-22 20:01:15 (47.1 MB/s) - ‘./MyImageFiles/Image185.png’ saved [14483/14483]\r\n",
      "\r\n",
      "--2022-11-22 20:01:15--  http://54.243.252.9/ce-5319-webroot/1-Databases/MaterialCracking/UT-881-image_src/Image186.png\r\n",
      "Reusing existing connection to 54.243.252.9:80.\r\n",
      "HTTP request sent, awaiting response... "
     ]
    },
    {
     "name": "stdout",
     "output_type": "stream",
     "text": [
      "200 OK\r\n",
      "Length: 10960 (11K) [image/png]\r\n",
      "Saving to: ‘./MyImageFiles/Image186.png’\r\n",
      "\r\n",
      "\r",
      "Image186.png          0%[                    ]       0  --.-KB/s               \r",
      "Image186.png        100%[===================>]  10.70K  --.-KB/s    in 0s      \r\n",
      "\r\n",
      "2022-11-22 20:01:15 (30.7 MB/s) - ‘./MyImageFiles/Image186.png’ saved [10960/10960]\r\n",
      "\r\n",
      "--2022-11-22 20:01:15--  http://54.243.252.9/ce-5319-webroot/1-Databases/MaterialCracking/UT-881-image_src/Image187.png\r\n",
      "Reusing existing connection to 54.243.252.9:80.\r\n",
      "HTTP request sent, awaiting response... "
     ]
    },
    {
     "name": "stdout",
     "output_type": "stream",
     "text": [
      "200 OK\r\n",
      "Length: 11030 (11K) [image/png]\r\n",
      "Saving to: ‘./MyImageFiles/Image187.png’\r\n",
      "\r\n",
      "\r",
      "Image187.png          0%[                    ]       0  --.-KB/s               \r",
      "Image187.png        100%[===================>]  10.77K  --.-KB/s    in 0s      \r\n",
      "\r\n",
      "2022-11-22 20:01:16 (29.2 MB/s) - ‘./MyImageFiles/Image187.png’ saved [11030/11030]\r\n",
      "\r\n",
      "--2022-11-22 20:01:16--  http://54.243.252.9/ce-5319-webroot/1-Databases/MaterialCracking/UT-881-image_src/Image188.png\r\n",
      "Reusing existing connection to 54.243.252.9:80.\r\n",
      "HTTP request sent, awaiting response... "
     ]
    },
    {
     "name": "stdout",
     "output_type": "stream",
     "text": [
      "200 OK\r\n",
      "Length: 13657 (13K) [image/png]\r\n",
      "Saving to: ‘./MyImageFiles/Image188.png’\r\n",
      "\r\n",
      "\r",
      "Image188.png          0%[                    ]       0  --.-KB/s               \r",
      "Image188.png        100%[===================>]  13.34K  --.-KB/s    in 0s      \r\n",
      "\r\n",
      "2022-11-22 20:01:16 (37.3 MB/s) - ‘./MyImageFiles/Image188.png’ saved [13657/13657]\r\n",
      "\r\n",
      "--2022-11-22 20:01:16--  http://54.243.252.9/ce-5319-webroot/1-Databases/MaterialCracking/UT-881-image_src/Image189.png\r\n",
      "Reusing existing connection to 54.243.252.9:80.\r\n",
      "HTTP request sent, awaiting response... "
     ]
    },
    {
     "name": "stdout",
     "output_type": "stream",
     "text": [
      "200 OK\r\n",
      "Length: 14770 (14K) [image/png]\r\n",
      "Saving to: ‘./MyImageFiles/Image189.png’\r\n",
      "\r\n",
      "\r",
      "Image189.png          0%[                    ]       0  --.-KB/s               \r",
      "Image189.png        100%[===================>]  14.42K  --.-KB/s    in 0s      \r\n",
      "\r\n",
      "2022-11-22 20:01:16 (58.1 MB/s) - ‘./MyImageFiles/Image189.png’ saved [14770/14770]\r\n",
      "\r\n",
      "--2022-11-22 20:01:16--  http://54.243.252.9/ce-5319-webroot/1-Databases/MaterialCracking/UT-881-image_src/Image190.png\r\n",
      "Reusing existing connection to 54.243.252.9:80.\r\n",
      "HTTP request sent, awaiting response... "
     ]
    },
    {
     "name": "stdout",
     "output_type": "stream",
     "text": [
      "200 OK\r\n",
      "Length: 10612 (10K) [image/png]\r\n",
      "Saving to: ‘./MyImageFiles/Image190.png’\r\n",
      "\r\n",
      "\r",
      "Image190.png          0%[                    ]       0  --.-KB/s               \r",
      "Image190.png        100%[===================>]  10.36K  --.-KB/s    in 0s      \r\n",
      "\r\n",
      "2022-11-22 20:01:16 (30.2 MB/s) - ‘./MyImageFiles/Image190.png’ saved [10612/10612]\r\n",
      "\r\n",
      "--2022-11-22 20:01:16--  http://54.243.252.9/ce-5319-webroot/1-Databases/MaterialCracking/UT-881-image_src/Image191.png\r\n",
      "Reusing existing connection to 54.243.252.9:80.\r\n",
      "HTTP request sent, awaiting response... "
     ]
    },
    {
     "name": "stdout",
     "output_type": "stream",
     "text": [
      "200 OK\r\n",
      "Length: 10966 (11K) [image/png]\r\n",
      "Saving to: ‘./MyImageFiles/Image191.png’\r\n",
      "\r\n",
      "\r",
      "Image191.png          0%[                    ]       0  --.-KB/s               \r",
      "Image191.png        100%[===================>]  10.71K  --.-KB/s    in 0s      \r\n",
      "\r\n",
      "2022-11-22 20:01:16 (32.1 MB/s) - ‘./MyImageFiles/Image191.png’ saved [10966/10966]\r\n",
      "\r\n",
      "--2022-11-22 20:01:16--  http://54.243.252.9/ce-5319-webroot/1-Databases/MaterialCracking/UT-881-image_src/Image192.png\r\n",
      "Reusing existing connection to 54.243.252.9:80.\r\n",
      "HTTP request sent, awaiting response... "
     ]
    },
    {
     "name": "stdout",
     "output_type": "stream",
     "text": [
      "200 OK\r\n",
      "Length: 15559 (15K) [image/png]\r\n",
      "Saving to: ‘./MyImageFiles/Image192.png’\r\n",
      "\r\n",
      "\r",
      "Image192.png          0%[                    ]       0  --.-KB/s               \r",
      "Image192.png        100%[===================>]  15.19K  --.-KB/s    in 0s      \r\n",
      "\r\n",
      "2022-11-22 20:01:16 (63.0 MB/s) - ‘./MyImageFiles/Image192.png’ saved [15559/15559]\r\n",
      "\r\n",
      "--2022-11-22 20:01:16--  http://54.243.252.9/ce-5319-webroot/1-Databases/MaterialCracking/UT-881-image_src/Image193.png\r\n",
      "Reusing existing connection to 54.243.252.9:80.\r\n",
      "HTTP request sent, awaiting response... "
     ]
    },
    {
     "name": "stdout",
     "output_type": "stream",
     "text": [
      "200 OK\r\n",
      "Length: 14602 (14K) [image/png]\r\n",
      "Saving to: ‘./MyImageFiles/Image193.png’\r\n",
      "\r\n",
      "\r",
      "Image193.png          0%[                    ]       0  --.-KB/s               \r",
      "Image193.png        100%[===================>]  14.26K  --.-KB/s    in 0s      \r\n",
      "\r\n",
      "2022-11-22 20:01:16 (57.9 MB/s) - ‘./MyImageFiles/Image193.png’ saved [14602/14602]\r\n",
      "\r\n",
      "--2022-11-22 20:01:16--  http://54.243.252.9/ce-5319-webroot/1-Databases/MaterialCracking/UT-881-image_src/Image194.png\r\n",
      "Reusing existing connection to 54.243.252.9:80.\r\n",
      "HTTP request sent, awaiting response... "
     ]
    },
    {
     "name": "stdout",
     "output_type": "stream",
     "text": [
      "200 OK\r\n",
      "Length: 9862 (9.6K) [image/png]\r\n",
      "Saving to: ‘./MyImageFiles/Image194.png’\r\n",
      "\r\n",
      "\r",
      "Image194.png          0%[                    ]       0  --.-KB/s               \r",
      "Image194.png        100%[===================>]   9.63K  --.-KB/s    in 0s      \r\n",
      "\r\n",
      "2022-11-22 20:01:16 (47.8 MB/s) - ‘./MyImageFiles/Image194.png’ saved [9862/9862]\r\n",
      "\r\n",
      "--2022-11-22 20:01:16--  http://54.243.252.9/ce-5319-webroot/1-Databases/MaterialCracking/UT-881-image_src/Image195.png\r\n",
      "Reusing existing connection to 54.243.252.9:80.\r\n",
      "HTTP request sent, awaiting response... "
     ]
    },
    {
     "name": "stdout",
     "output_type": "stream",
     "text": [
      "200 OK\r\n",
      "Length: 11028 (11K) [image/png]\r\n",
      "Saving to: ‘./MyImageFiles/Image195.png’\r\n",
      "\r\n",
      "\r",
      "Image195.png          0%[                    ]       0  --.-KB/s               \r",
      "Image195.png        100%[===================>]  10.77K  --.-KB/s    in 0s      \r\n",
      "\r\n",
      "2022-11-22 20:01:16 (31.7 MB/s) - ‘./MyImageFiles/Image195.png’ saved [11028/11028]\r\n",
      "\r\n",
      "--2022-11-22 20:01:16--  http://54.243.252.9/ce-5319-webroot/1-Databases/MaterialCracking/UT-881-image_src/Image196.png\r\n",
      "Reusing existing connection to 54.243.252.9:80.\r\n",
      "HTTP request sent, awaiting response... "
     ]
    },
    {
     "name": "stdout",
     "output_type": "stream",
     "text": [
      "200 OK\r\n",
      "Length: 13019 (13K) [image/png]\r\n",
      "Saving to: ‘./MyImageFiles/Image196.png’\r\n",
      "\r\n",
      "\r",
      "Image196.png          0%[                    ]       0  --.-KB/s               \r",
      "Image196.png        100%[===================>]  12.71K  --.-KB/s    in 0s      \r\n",
      "\r\n",
      "2022-11-22 20:01:16 (35.4 MB/s) - ‘./MyImageFiles/Image196.png’ saved [13019/13019]\r\n",
      "\r\n",
      "--2022-11-22 20:01:16--  http://54.243.252.9/ce-5319-webroot/1-Databases/MaterialCracking/UT-881-image_src/Image197.png\r\n",
      "Connecting to 54.243.252.9:80... "
     ]
    },
    {
     "name": "stdout",
     "output_type": "stream",
     "text": [
      "connected.\r\n",
      "HTTP request sent, awaiting response... "
     ]
    },
    {
     "name": "stdout",
     "output_type": "stream",
     "text": [
      "200 OK\r\n",
      "Length: 14088 (14K) [image/png]\r\n",
      "Saving to: ‘./MyImageFiles/Image197.png’\r\n",
      "\r\n",
      "\r",
      "Image197.png          0%[                    ]       0  --.-KB/s               \r",
      "Image197.png        100%[===================>]  13.76K  --.-KB/s    in 0s      \r\n",
      "\r\n",
      "2022-11-22 20:01:16 (33.3 MB/s) - ‘./MyImageFiles/Image197.png’ saved [14088/14088]\r\n",
      "\r\n",
      "--2022-11-22 20:01:16--  http://54.243.252.9/ce-5319-webroot/1-Databases/MaterialCracking/UT-881-image_src/Image198.png\r\n",
      "Reusing existing connection to 54.243.252.9:80.\r\n",
      "HTTP request sent, awaiting response... "
     ]
    },
    {
     "name": "stdout",
     "output_type": "stream",
     "text": [
      "200 OK\r\n",
      "Length: 14219 (14K) [image/png]\r\n",
      "Saving to: ‘./MyImageFiles/Image198.png’\r\n",
      "\r\n",
      "\r",
      "Image198.png          0%[                    ]       0  --.-KB/s               \r",
      "Image198.png        100%[===================>]  13.89K  --.-KB/s    in 0s      \r\n",
      "\r\n",
      "2022-11-22 20:01:16 (33.6 MB/s) - ‘./MyImageFiles/Image198.png’ saved [14219/14219]\r\n",
      "\r\n",
      "--2022-11-22 20:01:16--  http://54.243.252.9/ce-5319-webroot/1-Databases/MaterialCracking/UT-881-image_src/Image199.png\r\n",
      "Reusing existing connection to 54.243.252.9:80.\r\n",
      "HTTP request sent, awaiting response... 200 OK\r\n",
      "Length: "
     ]
    },
    {
     "name": "stdout",
     "output_type": "stream",
     "text": [
      "14810 (14K) [image/png]\r\n",
      "Saving to: ‘./MyImageFiles/Image199.png’\r\n",
      "\r\n",
      "\r",
      "Image199.png          0%[                    ]       0  --.-KB/s               \r",
      "Image199.png        100%[===================>]  14.46K  --.-KB/s    in 0s      \r\n",
      "\r\n",
      "2022-11-22 20:01:16 (32.7 MB/s) - ‘./MyImageFiles/Image199.png’ saved [14810/14810]\r\n",
      "\r\n",
      "--2022-11-22 20:01:16--  http://54.243.252.9/ce-5319-webroot/1-Databases/MaterialCracking/UT-881-image_src/Image200.png\r\n",
      "Reusing existing connection to 54.243.252.9:80.\r\n",
      "HTTP request sent, awaiting response... 200 OK\r\n",
      "Length: 14454 (14K) [image/png]\r\n",
      "Saving to: ‘./MyImageFiles/Image200.png’\r\n",
      "\r\n",
      "\r",
      "Image200.png          0%[                    ]       0  --.-KB/s               \r",
      "Image200.png        100%[===================>]  14.12K  --.-KB/s    in 0s      \r\n",
      "\r\n",
      "2022-11-22 20:01:16 (65.9 MB/s) - ‘./MyImageFiles/Image200.png’ saved [14454/14454]\r\n",
      "\r\n",
      "--2022-11-22 20:01:16--  http://54.243.252.9/ce-5319-webroot/1-Databases/MaterialCracking/UT-881-image_src/Image201.png\r\n",
      "Reusing existing connection to 54.243.252.9:80.\r\n",
      "HTTP request sent, awaiting response... "
     ]
    },
    {
     "name": "stdout",
     "output_type": "stream",
     "text": [
      "200 OK\r\n",
      "Length: 13766 (13K) [image/png]\r\n",
      "Saving to: ‘./MyImageFiles/Image201.png’\r\n",
      "\r\n",
      "\r",
      "Image201.png          0%[                    ]       0  --.-KB/s               \r",
      "Image201.png        100%[===================>]  13.44K  --.-KB/s    in 0s      \r\n",
      "\r\n",
      "2022-11-22 20:01:16 (42.2 MB/s) - ‘./MyImageFiles/Image201.png’ saved [13766/13766]\r\n",
      "\r\n",
      "--2022-11-22 20:01:16--  http://54.243.252.9/ce-5319-webroot/1-Databases/MaterialCracking/UT-881-image_src/Image202.png\r\n",
      "Reusing existing connection to 54.243.252.9:80.\r\n",
      "HTTP request sent, awaiting response... "
     ]
    },
    {
     "name": "stdout",
     "output_type": "stream",
     "text": [
      "200 OK\r\n",
      "Length: 10899 (11K) [image/png]\r\n",
      "Saving to: ‘./MyImageFiles/Image202.png’\r\n",
      "\r\n",
      "\r",
      "Image202.png          0%[                    ]       0  --.-KB/s               \r",
      "Image202.png        100%[===================>]  10.64K  --.-KB/s    in 0s      \r\n",
      "\r\n",
      "2022-11-22 20:01:16 (34.7 MB/s) - ‘./MyImageFiles/Image202.png’ saved [10899/10899]\r\n",
      "\r\n",
      "--2022-11-22 20:01:16--  http://54.243.252.9/ce-5319-webroot/1-Databases/MaterialCracking/UT-881-image_src/Image203.png\r\n",
      "Reusing existing connection to 54.243.252.9:80.\r\n",
      "HTTP request sent, awaiting response... "
     ]
    },
    {
     "name": "stdout",
     "output_type": "stream",
     "text": [
      "200 OK\r\n",
      "Length: 14420 (14K) [image/png]\r\n",
      "Saving to: ‘./MyImageFiles/Image203.png’\r\n",
      "\r\n",
      "\r",
      "Image203.png          0%[                    ]       0  --.-KB/s               \r",
      "Image203.png        100%[===================>]  14.08K  --.-KB/s    in 0s      \r\n",
      "\r\n",
      "2022-11-22 20:01:16 (66.6 MB/s) - ‘./MyImageFiles/Image203.png’ saved [14420/14420]\r\n",
      "\r\n",
      "--2022-11-22 20:01:16--  http://54.243.252.9/ce-5319-webroot/1-Databases/MaterialCracking/UT-881-image_src/Image204.png\r\n",
      "Reusing existing connection to 54.243.252.9:80.\r\n",
      "HTTP request sent, awaiting response... "
     ]
    },
    {
     "name": "stdout",
     "output_type": "stream",
     "text": [
      "200 OK\r\n",
      "Length: 14300 (14K) [image/png]\r\n",
      "Saving to: ‘./MyImageFiles/Image204.png’\r\n",
      "\r\n",
      "\r",
      "Image204.png          0%[                    ]       0  --.-KB/s               \r",
      "Image204.png        100%[===================>]  13.96K  --.-KB/s    in 0s      \r\n",
      "\r\n",
      "2022-11-22 20:01:16 (60.0 MB/s) - ‘./MyImageFiles/Image204.png’ saved [14300/14300]\r\n",
      "\r\n",
      "--2022-11-22 20:01:16--  http://54.243.252.9/ce-5319-webroot/1-Databases/MaterialCracking/UT-881-image_src/Image205.png\r\n",
      "Reusing existing connection to 54.243.252.9:80.\r\n",
      "HTTP request sent, awaiting response... "
     ]
    },
    {
     "name": "stdout",
     "output_type": "stream",
     "text": [
      "200 OK\r\n",
      "Length: 12294 (12K) [image/png]\r\n",
      "Saving to: ‘./MyImageFiles/Image205.png’\r\n",
      "\r\n",
      "\r",
      "Image205.png          0%[                    ]       0  --.-KB/s               \r",
      "Image205.png        100%[===================>]  12.01K  --.-KB/s    in 0s      \r\n",
      "\r\n",
      "2022-11-22 20:01:16 (33.7 MB/s) - ‘./MyImageFiles/Image205.png’ saved [12294/12294]\r\n",
      "\r\n",
      "--2022-11-22 20:01:16--  http://54.243.252.9/ce-5319-webroot/1-Databases/MaterialCracking/UT-881-image_src/Image206.png\r\n",
      "Reusing existing connection to 54.243.252.9:80.\r\n",
      "HTTP request sent, awaiting response... "
     ]
    },
    {
     "name": "stdout",
     "output_type": "stream",
     "text": [
      "200 OK\r\n",
      "Length: 12618 (12K) [image/png]\r\n",
      "Saving to: ‘./MyImageFiles/Image206.png’\r\n",
      "\r\n",
      "\r",
      "Image206.png          0%[                    ]       0  --.-KB/s               \r",
      "Image206.png        100%[===================>]  12.32K  --.-KB/s    in 0s      \r\n",
      "\r\n",
      "2022-11-22 20:01:16 (47.2 MB/s) - ‘./MyImageFiles/Image206.png’ saved [12618/12618]\r\n",
      "\r\n",
      "--2022-11-22 20:01:16--  http://54.243.252.9/ce-5319-webroot/1-Databases/MaterialCracking/UT-881-image_src/Image207.png\r\n",
      "Reusing existing connection to 54.243.252.9:80.\r\n",
      "HTTP request sent, awaiting response... "
     ]
    },
    {
     "name": "stdout",
     "output_type": "stream",
     "text": [
      "200 OK\r\n",
      "Length: 9069 (8.9K) [image/png]\r\n",
      "Saving to: ‘./MyImageFiles/Image207.png’\r\n",
      "\r\n",
      "\r",
      "Image207.png          0%[                    ]       0  --.-KB/s               \r",
      "Image207.png        100%[===================>]   8.86K  --.-KB/s    in 0s      \r\n",
      "\r\n",
      "2022-11-22 20:01:17 (42.6 MB/s) - ‘./MyImageFiles/Image207.png’ saved [9069/9069]\r\n",
      "\r\n",
      "--2022-11-22 20:01:17--  http://54.243.252.9/ce-5319-webroot/1-Databases/MaterialCracking/UT-881-image_src/Image208.png\r\n",
      "Reusing existing connection to 54.243.252.9:80.\r\n",
      "HTTP request sent, awaiting response... "
     ]
    },
    {
     "name": "stdout",
     "output_type": "stream",
     "text": [
      "200 OK\r\n",
      "Length: 10542 (10K) [image/png]\r\n",
      "Saving to: ‘./MyImageFiles/Image208.png’\r\n",
      "\r\n",
      "\r",
      "Image208.png          0%[                    ]       0  --.-KB/s               \r",
      "Image208.png        100%[===================>]  10.29K  --.-KB/s    in 0s      \r\n",
      "\r\n",
      "2022-11-22 20:01:17 (49.5 MB/s) - ‘./MyImageFiles/Image208.png’ saved [10542/10542]\r\n",
      "\r\n",
      "--2022-11-22 20:01:17--  http://54.243.252.9/ce-5319-webroot/1-Databases/MaterialCracking/UT-881-image_src/Image209.png\r\n",
      "Reusing existing connection to 54.243.252.9:80.\r\n",
      "HTTP request sent, awaiting response... "
     ]
    },
    {
     "name": "stdout",
     "output_type": "stream",
     "text": [
      "200 OK\r\n",
      "Length: 10334 (10K) [image/png]\r\n",
      "Saving to: ‘./MyImageFiles/Image209.png’\r\n",
      "\r\n",
      "\r",
      "Image209.png          0%[                    ]       0  --.-KB/s               \r",
      "Image209.png        100%[===================>]  10.09K  --.-KB/s    in 0s      \r\n",
      "\r\n",
      "2022-11-22 20:01:17 (54.1 MB/s) - ‘./MyImageFiles/Image209.png’ saved [10334/10334]\r\n",
      "\r\n",
      "--2022-11-22 20:01:17--  http://54.243.252.9/ce-5319-webroot/1-Databases/MaterialCracking/UT-881-image_src/Image210.png\r\n",
      "Reusing existing connection to 54.243.252.9:80.\r\n",
      "HTTP request sent, awaiting response... "
     ]
    },
    {
     "name": "stdout",
     "output_type": "stream",
     "text": [
      "200 OK\r\n",
      "Length: 11378 (11K) [image/png]\r\n",
      "Saving to: ‘./MyImageFiles/Image210.png’\r\n",
      "\r\n",
      "\r",
      "Image210.png          0%[                    ]       0  --.-KB/s               \r",
      "Image210.png        100%[===================>]  11.11K  --.-KB/s    in 0s      \r\n",
      "\r\n",
      "2022-11-22 20:01:17 (52.2 MB/s) - ‘./MyImageFiles/Image210.png’ saved [11378/11378]\r\n",
      "\r\n",
      "--2022-11-22 20:01:17--  http://54.243.252.9/ce-5319-webroot/1-Databases/MaterialCracking/UT-881-image_src/Image211.png\r\n",
      "Reusing existing connection to 54.243.252.9:80.\r\n",
      "HTTP request sent, awaiting response... "
     ]
    },
    {
     "name": "stdout",
     "output_type": "stream",
     "text": [
      "200 OK\r\n",
      "Length: 12964 (13K) [image/png]\r\n",
      "Saving to: ‘./MyImageFiles/Image211.png’\r\n",
      "\r\n",
      "\r",
      "Image211.png          0%[                    ]       0  --.-KB/s               \r",
      "Image211.png        100%[===================>]  12.66K  --.-KB/s    in 0s      \r\n",
      "\r\n",
      "2022-11-22 20:01:17 (67.1 MB/s) - ‘./MyImageFiles/Image211.png’ saved [12964/12964]\r\n",
      "\r\n",
      "--2022-11-22 20:01:17--  http://54.243.252.9/ce-5319-webroot/1-Databases/MaterialCracking/UT-881-image_src/Image212.png\r\n",
      "Reusing existing connection to 54.243.252.9:80.\r\n",
      "HTTP request sent, awaiting response... "
     ]
    },
    {
     "name": "stdout",
     "output_type": "stream",
     "text": [
      "200 OK\r\n",
      "Length: 14995 (15K) [image/png]\r\n",
      "Saving to: ‘./MyImageFiles/Image212.png’\r\n",
      "\r\n",
      "\r",
      "Image212.png          0%[                    ]       0  --.-KB/s               \r",
      "Image212.png        100%[===================>]  14.64K  --.-KB/s    in 0s      \r\n",
      "\r\n",
      "2022-11-22 20:01:17 (40.6 MB/s) - ‘./MyImageFiles/Image212.png’ saved [14995/14995]\r\n",
      "\r\n",
      "--2022-11-22 20:01:17--  http://54.243.252.9/ce-5319-webroot/1-Databases/MaterialCracking/UT-881-image_src/Image213.png\r\n",
      "Reusing existing connection to 54.243.252.9:80.\r\n",
      "HTTP request sent, awaiting response... "
     ]
    },
    {
     "name": "stdout",
     "output_type": "stream",
     "text": [
      "200 OK\r\n",
      "Length: 13615 (13K) [image/png]\r\n",
      "Saving to: ‘./MyImageFiles/Image213.png’\r\n",
      "\r\n",
      "\r",
      "Image213.png          0%[                    ]       0  --.-KB/s               \r",
      "Image213.png        100%[===================>]  13.30K  --.-KB/s    in 0s      \r\n",
      "\r\n",
      "2022-11-22 20:01:17 (37.4 MB/s) - ‘./MyImageFiles/Image213.png’ saved [13615/13615]\r\n",
      "\r\n",
      "--2022-11-22 20:01:17--  http://54.243.252.9/ce-5319-webroot/1-Databases/MaterialCracking/UT-881-image_src/Image214.png\r\n",
      "Reusing existing connection to 54.243.252.9:80.\r\n",
      "HTTP request sent, awaiting response... "
     ]
    },
    {
     "name": "stdout",
     "output_type": "stream",
     "text": [
      "200 OK\r\n",
      "Length: 12864 (13K) [image/png]\r\n",
      "Saving to: ‘./MyImageFiles/Image214.png’\r\n",
      "\r\n",
      "\r",
      "Image214.png          0%[                    ]       0  --.-KB/s               \r",
      "Image214.png        100%[===================>]  12.56K  --.-KB/s    in 0s      \r\n",
      "\r\n",
      "2022-11-22 20:01:17 (45.1 MB/s) - ‘./MyImageFiles/Image214.png’ saved [12864/12864]\r\n",
      "\r\n",
      "--2022-11-22 20:01:17--  http://54.243.252.9/ce-5319-webroot/1-Databases/MaterialCracking/UT-881-image_src/Image215.png\r\n",
      "Reusing existing connection to 54.243.252.9:80.\r\n",
      "HTTP request sent, awaiting response... "
     ]
    },
    {
     "name": "stdout",
     "output_type": "stream",
     "text": [
      "200 OK\r\n",
      "Length: 13072 (13K) [image/png]\r\n",
      "Saving to: ‘./MyImageFiles/Image215.png’\r\n",
      "\r\n",
      "\r",
      "Image215.png          0%[                    ]       0  --.-KB/s               \r",
      "Image215.png        100%[===================>]  12.77K  --.-KB/s    in 0s      \r\n",
      "\r\n",
      "2022-11-22 20:01:17 (35.1 MB/s) - ‘./MyImageFiles/Image215.png’ saved [13072/13072]\r\n",
      "\r\n",
      "--2022-11-22 20:01:17--  http://54.243.252.9/ce-5319-webroot/1-Databases/MaterialCracking/UT-881-image_src/Image216.png\r\n",
      "Reusing existing connection to 54.243.252.9:80.\r\n",
      "HTTP request sent, awaiting response... 200 OK\r\n",
      "Length: 11201 (11K) [image/png]\r\n",
      "Saving to: ‘./MyImageFiles/Image216.png’\r\n",
      "\r\n",
      "\r",
      "Image216.png          0%[                    ]       0  --.-KB/s               "
     ]
    },
    {
     "name": "stdout",
     "output_type": "stream",
     "text": [
      "\r",
      "Image216.png        100%[===================>]  10.94K  --.-KB/s    in 0s      \r\n",
      "\r\n",
      "2022-11-22 20:01:17 (34.7 MB/s) - ‘./MyImageFiles/Image216.png’ saved [11201/11201]\r\n",
      "\r\n",
      "--2022-11-22 20:01:17--  http://54.243.252.9/ce-5319-webroot/1-Databases/MaterialCracking/UT-881-image_src/Image217.png\r\n",
      "Reusing existing connection to 54.243.252.9:80.\r\n",
      "HTTP request sent, awaiting response... 200 OK\r\n",
      "Length: 10610 (10K) [image/png]\r\n",
      "Saving to: ‘./MyImageFiles/Image217.png’\r\n",
      "\r\n",
      "\r",
      "Image217.png          0%[                    ]       0  --.-KB/s               \r",
      "Image217.png        100%[===================>]  10.36K  --.-KB/s    in 0s      \r\n",
      "\r\n",
      "2022-11-22 20:01:17 (33.8 MB/s) - ‘./MyImageFiles/Image217.png’ saved [10610/10610]\r\n",
      "\r\n",
      "--2022-11-22 20:01:17--  http://54.243.252.9/ce-5319-webroot/1-Databases/MaterialCracking/UT-881-image_src/Image218.png\r\n",
      "Reusing existing connection to 54.243.252.9:80.\r\n",
      "HTTP request sent, awaiting response... "
     ]
    },
    {
     "name": "stdout",
     "output_type": "stream",
     "text": [
      "200 OK\r\n",
      "Length: 9094 (8.9K) [image/png]\r\n",
      "Saving to: ‘./MyImageFiles/Image218.png’\r\n",
      "\r\n",
      "\r",
      "Image218.png          0%[                    ]       0  --.-KB/s               \r",
      "Image218.png        100%[===================>]   8.88K  --.-KB/s    in 0s      \r\n",
      "\r\n",
      "2022-11-22 20:01:17 (29.4 MB/s) - ‘./MyImageFiles/Image218.png’ saved [9094/9094]\r\n",
      "\r\n",
      "--2022-11-22 20:01:17--  http://54.243.252.9/ce-5319-webroot/1-Databases/MaterialCracking/UT-881-image_src/Image219.png\r\n",
      "Reusing existing connection to 54.243.252.9:80.\r\n",
      "HTTP request sent, awaiting response... "
     ]
    },
    {
     "name": "stdout",
     "output_type": "stream",
     "text": [
      "200 OK\r\n",
      "Length: 14796 (14K) [image/png]\r\n",
      "Saving to: ‘./MyImageFiles/Image219.png’\r\n",
      "\r\n",
      "\r",
      "Image219.png          0%[                    ]       0  --.-KB/s               \r",
      "Image219.png        100%[===================>]  14.45K  --.-KB/s    in 0s      \r\n",
      "\r\n",
      "2022-11-22 20:01:17 (42.8 MB/s) - ‘./MyImageFiles/Image219.png’ saved [14796/14796]\r\n",
      "\r\n",
      "--2022-11-22 20:01:17--  http://54.243.252.9/ce-5319-webroot/1-Databases/MaterialCracking/UT-881-image_src/Image220.png\r\n",
      "Reusing existing connection to 54.243.252.9:80.\r\n",
      "HTTP request sent, awaiting response... "
     ]
    },
    {
     "name": "stdout",
     "output_type": "stream",
     "text": [
      "200 OK\r\n",
      "Length: 12873 (13K) [image/png]\r\n",
      "Saving to: ‘./MyImageFiles/Image220.png’\r\n",
      "\r\n",
      "\r",
      "Image220.png          0%[                    ]       0  --.-KB/s               \r",
      "Image220.png        100%[===================>]  12.57K  --.-KB/s    in 0s      \r\n",
      "\r\n",
      "2022-11-22 20:01:17 (39.4 MB/s) - ‘./MyImageFiles/Image220.png’ saved [12873/12873]\r\n",
      "\r\n",
      "--2022-11-22 20:01:17--  http://54.243.252.9/ce-5319-webroot/1-Databases/MaterialCracking/UT-881-image_src/Image221.png\r\n",
      "Reusing existing connection to 54.243.252.9:80.\r\n",
      "HTTP request sent, awaiting response... "
     ]
    },
    {
     "name": "stdout",
     "output_type": "stream",
     "text": [
      "200 OK\r\n",
      "Length: 11205 (11K) [image/png]\r\n",
      "Saving to: ‘./MyImageFiles/Image221.png’\r\n",
      "\r\n",
      "\r",
      "Image221.png          0%[                    ]       0  --.-KB/s               \r",
      "Image221.png        100%[===================>]  10.94K  --.-KB/s    in 0s      \r\n",
      "\r\n",
      "2022-11-22 20:01:17 (39.7 MB/s) - ‘./MyImageFiles/Image221.png’ saved [11205/11205]\r\n",
      "\r\n",
      "--2022-11-22 20:01:17--  http://54.243.252.9/ce-5319-webroot/1-Databases/MaterialCracking/UT-881-image_src/Image222.png\r\n",
      "Reusing existing connection to 54.243.252.9:80.\r\n",
      "HTTP request sent, awaiting response... "
     ]
    },
    {
     "name": "stdout",
     "output_type": "stream",
     "text": [
      "200 OK\r\n",
      "Length: 14447 (14K) [image/png]\r\n",
      "Saving to: ‘./MyImageFiles/Image222.png’\r\n",
      "\r\n",
      "\r",
      "Image222.png          0%[                    ]       0  --.-KB/s               \r",
      "Image222.png        100%[===================>]  14.11K  --.-KB/s    in 0s      \r\n",
      "\r\n",
      "2022-11-22 20:01:17 (44.2 MB/s) - ‘./MyImageFiles/Image222.png’ saved [14447/14447]\r\n",
      "\r\n",
      "--2022-11-22 20:01:17--  http://54.243.252.9/ce-5319-webroot/1-Databases/MaterialCracking/UT-881-image_src/Image223.png\r\n",
      "Reusing existing connection to 54.243.252.9:80.\r\n",
      "HTTP request sent, awaiting response... "
     ]
    },
    {
     "name": "stdout",
     "output_type": "stream",
     "text": [
      "200 OK\r\n",
      "Length: 14458 (14K) [image/png]\r\n",
      "Saving to: ‘./MyImageFiles/Image223.png’\r\n",
      "\r\n",
      "\r",
      "Image223.png          0%[                    ]       0  --.-KB/s               \r",
      "Image223.png        100%[===================>]  14.12K  --.-KB/s    in 0s      \r\n",
      "\r\n",
      "2022-11-22 20:01:17 (43.0 MB/s) - ‘./MyImageFiles/Image223.png’ saved [14458/14458]\r\n",
      "\r\n",
      "--2022-11-22 20:01:17--  http://54.243.252.9/ce-5319-webroot/1-Databases/MaterialCracking/UT-881-image_src/Image224.png\r\n",
      "Reusing existing connection to 54.243.252.9:80.\r\n",
      "HTTP request sent, awaiting response... "
     ]
    },
    {
     "name": "stdout",
     "output_type": "stream",
     "text": [
      "200 OK\r\n",
      "Length: 10012 (9.8K) [image/png]\r\n",
      "Saving to: ‘./MyImageFiles/Image224.png’\r\n",
      "\r\n",
      "\r",
      "Image224.png          0%[                    ]       0  --.-KB/s               \r",
      "Image224.png        100%[===================>]   9.78K  --.-KB/s    in 0s      \r\n",
      "\r\n",
      "2022-11-22 20:01:17 (46.2 MB/s) - ‘./MyImageFiles/Image224.png’ saved [10012/10012]\r\n",
      "\r\n",
      "--2022-11-22 20:01:17--  http://54.243.252.9/ce-5319-webroot/1-Databases/MaterialCracking/UT-881-image_src/Image225.png\r\n",
      "Reusing existing connection to 54.243.252.9:80.\r\n",
      "HTTP request sent, awaiting response... "
     ]
    },
    {
     "name": "stdout",
     "output_type": "stream",
     "text": [
      "200 OK\r\n",
      "Length: 15161 (15K) [image/png]\r\n",
      "Saving to: ‘./MyImageFiles/Image225.png’\r\n",
      "\r\n",
      "\r",
      "Image225.png          0%[                    ]       0  --.-KB/s               \r",
      "Image225.png        100%[===================>]  14.81K  --.-KB/s    in 0s      \r\n",
      "\r\n",
      "2022-11-22 20:01:17 (56.7 MB/s) - ‘./MyImageFiles/Image225.png’ saved [15161/15161]\r\n",
      "\r\n",
      "--2022-11-22 20:01:17--  http://54.243.252.9/ce-5319-webroot/1-Databases/MaterialCracking/UT-881-image_src/Image226.png\r\n",
      "Reusing existing connection to 54.243.252.9:80.\r\n",
      "HTTP request sent, awaiting response... "
     ]
    },
    {
     "name": "stdout",
     "output_type": "stream",
     "text": [
      "200 OK\r\n",
      "Length: 13287 (13K) [image/png]\r\n",
      "Saving to: ‘./MyImageFiles/Image226.png’\r\n",
      "\r\n",
      "\r",
      "Image226.png          0%[                    ]       0  --.-KB/s               \r",
      "Image226.png        100%[===================>]  12.98K  --.-KB/s    in 0s      \r\n",
      "\r\n",
      "2022-11-22 20:01:18 (45.3 MB/s) - ‘./MyImageFiles/Image226.png’ saved [13287/13287]\r\n",
      "\r\n",
      "--2022-11-22 20:01:18--  http://54.243.252.9/ce-5319-webroot/1-Databases/MaterialCracking/UT-881-image_src/Image227.png\r\n",
      "Reusing existing connection to 54.243.252.9:80.\r\n",
      "HTTP request sent, awaiting response... "
     ]
    },
    {
     "name": "stdout",
     "output_type": "stream",
     "text": [
      "200 OK\r\n",
      "Length: 15059 (15K) [image/png]\r\n",
      "Saving to: ‘./MyImageFiles/Image227.png’\r\n",
      "\r\n",
      "\r",
      "Image227.png          0%[                    ]       0  --.-KB/s               \r",
      "Image227.png        100%[===================>]  14.71K  --.-KB/s    in 0s      \r\n",
      "\r\n",
      "2022-11-22 20:01:18 (62.6 MB/s) - ‘./MyImageFiles/Image227.png’ saved [15059/15059]\r\n",
      "\r\n",
      "--2022-11-22 20:01:18--  http://54.243.252.9/ce-5319-webroot/1-Databases/MaterialCracking/UT-881-image_src/Image228.png\r\n",
      "Reusing existing connection to 54.243.252.9:80.\r\n",
      "HTTP request sent, awaiting response... "
     ]
    },
    {
     "name": "stdout",
     "output_type": "stream",
     "text": [
      "200 OK\r\n",
      "Length: 12571 (12K) [image/png]\r\n",
      "Saving to: ‘./MyImageFiles/Image228.png’\r\n",
      "\r\n",
      "\r",
      "Image228.png          0%[                    ]       0  --.-KB/s               \r",
      "Image228.png        100%[===================>]  12.28K  --.-KB/s    in 0s      \r\n",
      "\r\n",
      "2022-11-22 20:01:18 (35.7 MB/s) - ‘./MyImageFiles/Image228.png’ saved [12571/12571]\r\n",
      "\r\n",
      "--2022-11-22 20:01:18--  http://54.243.252.9/ce-5319-webroot/1-Databases/MaterialCracking/UT-881-image_src/Image229.png\r\n",
      "Reusing existing connection to 54.243.252.9:80.\r\n",
      "HTTP request sent, awaiting response... "
     ]
    },
    {
     "name": "stdout",
     "output_type": "stream",
     "text": [
      "200 OK\r\n",
      "Length: 14137 (14K) [image/png]\r\n",
      "Saving to: ‘./MyImageFiles/Image229.png’\r\n",
      "\r\n",
      "\r",
      "Image229.png          0%[                    ]       0  --.-KB/s               \r",
      "Image229.png        100%[===================>]  13.81K  --.-KB/s    in 0s      \r\n",
      "\r\n",
      "2022-11-22 20:01:18 (59.1 MB/s) - ‘./MyImageFiles/Image229.png’ saved [14137/14137]\r\n",
      "\r\n",
      "--2022-11-22 20:01:18--  http://54.243.252.9/ce-5319-webroot/1-Databases/MaterialCracking/UT-881-image_src/Image230.png\r\n",
      "Reusing existing connection to 54.243.252.9:80.\r\n",
      "HTTP request sent, awaiting response... "
     ]
    },
    {
     "name": "stdout",
     "output_type": "stream",
     "text": [
      "200 OK\r\n",
      "Length: 13933 (14K) [image/png]\r\n",
      "Saving to: ‘./MyImageFiles/Image230.png’\r\n",
      "\r\n",
      "\r",
      "Image230.png          0%[                    ]       0  --.-KB/s               \r",
      "Image230.png        100%[===================>]  13.61K  --.-KB/s    in 0.008s  \r\n",
      "\r\n",
      "2022-11-22 20:01:18 (1.67 MB/s) - ‘./MyImageFiles/Image230.png’ saved [13933/13933]\r\n",
      "\r\n",
      "--2022-11-22 20:01:18--  http://54.243.252.9/ce-5319-webroot/1-Databases/MaterialCracking/UT-881-image_src/Image231.png\r\n",
      "Reusing existing connection to 54.243.252.9:80.\r\n",
      "HTTP request sent, awaiting response... "
     ]
    },
    {
     "name": "stdout",
     "output_type": "stream",
     "text": [
      "200 OK\r\n",
      "Length: 13333 (13K) [image/png]\r\n",
      "Saving to: ‘./MyImageFiles/Image231.png’\r\n",
      "\r\n",
      "\r",
      "Image231.png          0%[                    ]       0  --.-KB/s               \r",
      "Image231.png        100%[===================>]  13.02K  --.-KB/s    in 0s      \r\n",
      "\r\n",
      "2022-11-22 20:01:18 (57.7 MB/s) - ‘./MyImageFiles/Image231.png’ saved [13333/13333]\r\n",
      "\r\n",
      "--2022-11-22 20:01:18--  http://54.243.252.9/ce-5319-webroot/1-Databases/MaterialCracking/UT-881-image_src/Image232.png\r\n",
      "Reusing existing connection to 54.243.252.9:80.\r\n",
      "HTTP request sent, awaiting response... "
     ]
    },
    {
     "name": "stdout",
     "output_type": "stream",
     "text": [
      "200 OK\r\n",
      "Length: 14766 (14K) [image/png]\r\n",
      "Saving to: ‘./MyImageFiles/Image232.png’\r\n",
      "\r\n",
      "\r",
      "Image232.png          0%[                    ]       0  --.-KB/s               \r",
      "Image232.png        100%[===================>]  14.42K  --.-KB/s    in 0s      \r\n",
      "\r\n",
      "2022-11-22 20:01:18 (51.8 MB/s) - ‘./MyImageFiles/Image232.png’ saved [14766/14766]\r\n",
      "\r\n",
      "--2022-11-22 20:01:18--  http://54.243.252.9/ce-5319-webroot/1-Databases/MaterialCracking/UT-881-image_src/Image233.png\r\n",
      "Reusing existing connection to 54.243.252.9:80.\r\n",
      "HTTP request sent, awaiting response... "
     ]
    },
    {
     "name": "stdout",
     "output_type": "stream",
     "text": [
      "200 OK\r\n",
      "Length: 12047 (12K) [image/png]\r\n",
      "Saving to: ‘./MyImageFiles/Image233.png’\r\n",
      "\r\n",
      "\r",
      "Image233.png          0%[                    ]       0  --.-KB/s               \r",
      "Image233.png        100%[===================>]  11.76K  --.-KB/s    in 0s      \r\n",
      "\r\n",
      "2022-11-22 20:01:18 (43.7 MB/s) - ‘./MyImageFiles/Image233.png’ saved [12047/12047]\r\n",
      "\r\n",
      "--2022-11-22 20:01:18--  http://54.243.252.9/ce-5319-webroot/1-Databases/MaterialCracking/UT-881-image_src/Image234.png\r\n",
      "Reusing existing connection to 54.243.252.9:80.\r\n",
      "HTTP request sent, awaiting response... "
     ]
    },
    {
     "name": "stdout",
     "output_type": "stream",
     "text": [
      "200 OK\r\n",
      "Length: 12290 (12K) [image/png]\r\n",
      "Saving to: ‘./MyImageFiles/Image234.png’\r\n",
      "\r\n",
      "\r",
      "Image234.png          0%[                    ]       0  --.-KB/s               \r",
      "Image234.png        100%[===================>]  12.00K  --.-KB/s    in 0s      \r\n",
      "\r\n",
      "2022-11-22 20:01:18 (47.2 MB/s) - ‘./MyImageFiles/Image234.png’ saved [12290/12290]\r\n",
      "\r\n",
      "--2022-11-22 20:01:18--  http://54.243.252.9/ce-5319-webroot/1-Databases/MaterialCracking/UT-881-image_src/Image235.png\r\n",
      "Reusing existing connection to 54.243.252.9:80.\r\n",
      "HTTP request sent, awaiting response... "
     ]
    },
    {
     "name": "stdout",
     "output_type": "stream",
     "text": [
      "200 OK\r\n",
      "Length: 13619 (13K) [image/png]\r\n",
      "Saving to: ‘./MyImageFiles/Image235.png’\r\n",
      "\r\n",
      "\r",
      "Image235.png          0%[                    ]       0  --.-KB/s               \r",
      "Image235.png        100%[===================>]  13.30K  --.-KB/s    in 0s      \r\n",
      "\r\n",
      "2022-11-22 20:01:18 (39.0 MB/s) - ‘./MyImageFiles/Image235.png’ saved [13619/13619]\r\n",
      "\r\n",
      "--2022-11-22 20:01:18--  http://54.243.252.9/ce-5319-webroot/1-Databases/MaterialCracking/UT-881-image_src/Image236.png\r\n",
      "Reusing existing connection to 54.243.252.9:80.\r\n",
      "HTTP request sent, awaiting response... "
     ]
    },
    {
     "name": "stdout",
     "output_type": "stream",
     "text": [
      "200 OK\r\n",
      "Length: 13691 (13K) [image/png]\r\n",
      "Saving to: ‘./MyImageFiles/Image236.png’\r\n",
      "\r\n",
      "\r",
      "Image236.png          0%[                    ]       0  --.-KB/s               \r",
      "Image236.png        100%[===================>]  13.37K  --.-KB/s    in 0s      \r\n",
      "\r\n",
      "2022-11-22 20:01:18 (47.1 MB/s) - ‘./MyImageFiles/Image236.png’ saved [13691/13691]\r\n",
      "\r\n",
      "--2022-11-22 20:01:18--  http://54.243.252.9/ce-5319-webroot/1-Databases/MaterialCracking/UT-881-image_src/Image237.png\r\n",
      "Reusing existing connection to 54.243.252.9:80.\r\n",
      "HTTP request sent, awaiting response... "
     ]
    },
    {
     "name": "stdout",
     "output_type": "stream",
     "text": [
      "200 OK\r\n",
      "Length: 13273 (13K) [image/png]\r\n",
      "Saving to: ‘./MyImageFiles/Image237.png’\r\n",
      "\r\n",
      "\r",
      "Image237.png          0%[                    ]       0  --.-KB/s               \r",
      "Image237.png        100%[===================>]  12.96K  --.-KB/s    in 0s      \r\n",
      "\r\n",
      "2022-11-22 20:01:18 (31.2 MB/s) - ‘./MyImageFiles/Image237.png’ saved [13273/13273]\r\n",
      "\r\n",
      "--2022-11-22 20:01:18--  http://54.243.252.9/ce-5319-webroot/1-Databases/MaterialCracking/UT-881-image_src/Image238.png\r\n",
      "Reusing existing connection to 54.243.252.9:80.\r\n",
      "HTTP request sent, awaiting response... "
     ]
    },
    {
     "name": "stdout",
     "output_type": "stream",
     "text": [
      "200 OK\r\n",
      "Length: 10875 (11K) [image/png]\r\n",
      "Saving to: ‘./MyImageFiles/Image238.png’\r\n",
      "\r\n",
      "\r",
      "Image238.png          0%[                    ]       0  --.-KB/s               \r",
      "Image238.png        100%[===================>]  10.62K  --.-KB/s    in 0s      \r\n",
      "\r\n",
      "2022-11-22 20:01:18 (27.1 MB/s) - ‘./MyImageFiles/Image238.png’ saved [10875/10875]\r\n",
      "\r\n",
      "--2022-11-22 20:01:18--  http://54.243.252.9/ce-5319-webroot/1-Databases/MaterialCracking/UT-881-image_src/Image239.png\r\n",
      "Reusing existing connection to 54.243.252.9:80.\r\n",
      "HTTP request sent, awaiting response... "
     ]
    },
    {
     "name": "stdout",
     "output_type": "stream",
     "text": [
      "200 OK\r\n",
      "Length: 14181 (14K) [image/png]\r\n",
      "Saving to: ‘./MyImageFiles/Image239.png’\r\n",
      "\r\n",
      "\r",
      "Image239.png          0%[                    ]       0  --.-KB/s               \r",
      "Image239.png        100%[===================>]  13.85K  --.-KB/s    in 0s      \r\n",
      "\r\n",
      "2022-11-22 20:01:18 (37.2 MB/s) - ‘./MyImageFiles/Image239.png’ saved [14181/14181]\r\n",
      "\r\n",
      "--2022-11-22 20:01:18--  http://54.243.252.9/ce-5319-webroot/1-Databases/MaterialCracking/UT-881-image_src/Image240.png\r\n",
      "Reusing existing connection to 54.243.252.9:80.\r\n",
      "HTTP request sent, awaiting response... "
     ]
    },
    {
     "name": "stdout",
     "output_type": "stream",
     "text": [
      "200 OK\r\n",
      "Length: 13688 (13K) [image/png]\r\n",
      "Saving to: ‘./MyImageFiles/Image240.png’\r\n",
      "\r\n",
      "\r",
      "Image240.png          0%[                    ]       0  --.-KB/s               \r",
      "Image240.png        100%[===================>]  13.37K  --.-KB/s    in 0s      \r\n",
      "\r\n",
      "2022-11-22 20:01:18 (35.8 MB/s) - ‘./MyImageFiles/Image240.png’ saved [13688/13688]\r\n",
      "\r\n",
      "--2022-11-22 20:01:18--  http://54.243.252.9/ce-5319-webroot/1-Databases/MaterialCracking/UT-881-image_src/Image241.png\r\n",
      "Reusing existing connection to 54.243.252.9:80.\r\n",
      "HTTP request sent, awaiting response... 200 OK\r\n",
      "Length: 14201 (14K) [image/png]\r\n",
      "Saving to: ‘./MyImageFiles/Image241.png’\r\n",
      "\r\n",
      "\r",
      "Image241.png          0%[                    ]       0  --.-KB/s               \r",
      "Image241.png        100%[===================>]  13.87K  --.-KB/s    in 0s      \r\n",
      "\r\n",
      "2022-11-22 20:01:18 (66.0 MB/s) - ‘./MyImageFiles/Image241.png’ saved [14201/14201]\r\n",
      "\r\n",
      "--2022-11-22 20:01:18--  http://54.243.252.9/ce-5319-webroot/1-Databases/MaterialCracking/UT-881-image_src/Image242.png\r\n",
      "Reusing existing connection to 54.243.252.9:80.\r\n",
      "HTTP request sent, awaiting response... "
     ]
    },
    {
     "name": "stdout",
     "output_type": "stream",
     "text": [
      "200 OK\r\n",
      "Length: 13360 (13K) [image/png]\r\n",
      "Saving to: ‘./MyImageFiles/Image242.png’\r\n",
      "\r\n",
      "\r",
      "Image242.png          0%[                    ]       0  --.-KB/s               \r",
      "Image242.png        100%[===================>]  13.05K  --.-KB/s    in 0s      \r\n",
      "\r\n",
      "2022-11-22 20:01:18 (35.7 MB/s) - ‘./MyImageFiles/Image242.png’ saved [13360/13360]\r\n",
      "\r\n",
      "--2022-11-22 20:01:18--  http://54.243.252.9/ce-5319-webroot/1-Databases/MaterialCracking/UT-881-image_src/Image243.png\r\n",
      "Reusing existing connection to 54.243.252.9:80.\r\n",
      "HTTP request sent, awaiting response... "
     ]
    },
    {
     "name": "stdout",
     "output_type": "stream",
     "text": [
      "200 OK\r\n",
      "Length: 10491 (10K) [image/png]\r\n",
      "Saving to: ‘./MyImageFiles/Image243.png’\r\n",
      "\r\n",
      "\r",
      "Image243.png          0%[                    ]       0  --.-KB/s               \r",
      "Image243.png        100%[===================>]  10.25K  --.-KB/s    in 0s      \r\n",
      "\r\n",
      "2022-11-22 20:01:18 (29.0 MB/s) - ‘./MyImageFiles/Image243.png’ saved [10491/10491]\r\n",
      "\r\n",
      "--2022-11-22 20:01:18--  http://54.243.252.9/ce-5319-webroot/1-Databases/MaterialCracking/UT-881-image_src/Image244.png\r\n",
      "Reusing existing connection to 54.243.252.9:80.\r\n",
      "HTTP request sent, awaiting response... "
     ]
    },
    {
     "name": "stdout",
     "output_type": "stream",
     "text": [
      "200 OK\r\n",
      "Length: 11712 (11K) [image/png]\r\n",
      "Saving to: ‘./MyImageFiles/Image244.png’\r\n",
      "\r\n",
      "\r",
      "Image244.png          0%[                    ]       0  --.-KB/s               \r",
      "Image244.png        100%[===================>]  11.44K  --.-KB/s    in 0s      \r\n",
      "\r\n",
      "2022-11-22 20:01:18 (32.2 MB/s) - ‘./MyImageFiles/Image244.png’ saved [11712/11712]\r\n",
      "\r\n",
      "--2022-11-22 20:01:18--  http://54.243.252.9/ce-5319-webroot/1-Databases/MaterialCracking/UT-881-image_src/Image245.png\r\n",
      "Reusing existing connection to 54.243.252.9:80.\r\n",
      "HTTP request sent, awaiting response... "
     ]
    },
    {
     "name": "stdout",
     "output_type": "stream",
     "text": [
      "200 OK\r\n",
      "Length: 10968 (11K) [image/png]\r\n",
      "Saving to: ‘./MyImageFiles/Image245.png’\r\n",
      "\r\n",
      "\r",
      "Image245.png          0%[                    ]       0  --.-KB/s               \r",
      "Image245.png        100%[===================>]  10.71K  --.-KB/s    in 0s      \r\n",
      "\r\n",
      "2022-11-22 20:01:18 (29.6 MB/s) - ‘./MyImageFiles/Image245.png’ saved [10968/10968]\r\n",
      "\r\n",
      "--2022-11-22 20:01:18--  http://54.243.252.9/ce-5319-webroot/1-Databases/MaterialCracking/UT-881-image_src/Image246.png\r\n",
      "Reusing existing connection to 54.243.252.9:80.\r\n",
      "HTTP request sent, awaiting response... "
     ]
    },
    {
     "name": "stdout",
     "output_type": "stream",
     "text": [
      "200 OK\r\n",
      "Length: 11322 (11K) [image/png]\r\n",
      "Saving to: ‘./MyImageFiles/Image246.png’\r\n",
      "\r\n",
      "\r",
      "Image246.png          0%[                    ]       0  --.-KB/s               \r",
      "Image246.png        100%[===================>]  11.06K  --.-KB/s    in 0s      \r\n",
      "\r\n",
      "2022-11-22 20:01:19 (34.1 MB/s) - ‘./MyImageFiles/Image246.png’ saved [11322/11322]\r\n",
      "\r\n",
      "--2022-11-22 20:01:19--  http://54.243.252.9/ce-5319-webroot/1-Databases/MaterialCracking/UT-881-image_src/Image247.png\r\n",
      "Reusing existing connection to 54.243.252.9:80.\r\n",
      "HTTP request sent, awaiting response... "
     ]
    },
    {
     "name": "stdout",
     "output_type": "stream",
     "text": [
      "200 OK\r\n",
      "Length: 11892 (12K) [image/png]\r\n",
      "Saving to: ‘./MyImageFiles/Image247.png’\r\n",
      "\r\n",
      "\r",
      "Image247.png          0%[                    ]       0  --.-KB/s               \r",
      "Image247.png        100%[===================>]  11.61K  --.-KB/s    in 0s      \r\n",
      "\r\n",
      "2022-11-22 20:01:19 (35.9 MB/s) - ‘./MyImageFiles/Image247.png’ saved [11892/11892]\r\n",
      "\r\n",
      "--2022-11-22 20:01:19--  http://54.243.252.9/ce-5319-webroot/1-Databases/MaterialCracking/UT-881-image_src/Image248.png\r\n",
      "Reusing existing connection to 54.243.252.9:80.\r\n",
      "HTTP request sent, awaiting response... "
     ]
    },
    {
     "name": "stdout",
     "output_type": "stream",
     "text": [
      "200 OK\r\n",
      "Length: 13343 (13K) [image/png]\r\n",
      "Saving to: ‘./MyImageFiles/Image248.png’\r\n",
      "\r\n",
      "\r",
      "Image248.png          0%[                    ]       0  --.-KB/s               \r",
      "Image248.png        100%[===================>]  13.03K  --.-KB/s    in 0s      \r\n",
      "\r\n",
      "2022-11-22 20:01:19 (45.7 MB/s) - ‘./MyImageFiles/Image248.png’ saved [13343/13343]\r\n",
      "\r\n",
      "--2022-11-22 20:01:19--  http://54.243.252.9/ce-5319-webroot/1-Databases/MaterialCracking/UT-881-image_src/Image249.png\r\n",
      "Reusing existing connection to 54.243.252.9:80.\r\n",
      "HTTP request sent, awaiting response... "
     ]
    },
    {
     "name": "stdout",
     "output_type": "stream",
     "text": [
      "200 OK\r\n",
      "Length: 14355 (14K) [image/png]\r\n",
      "Saving to: ‘./MyImageFiles/Image249.png’\r\n",
      "\r\n",
      "\r",
      "Image249.png          0%[                    ]       0  --.-KB/s               \r",
      "Image249.png        100%[===================>]  14.02K  --.-KB/s    in 0s      \r\n",
      "\r\n",
      "2022-11-22 20:01:19 (53.4 MB/s) - ‘./MyImageFiles/Image249.png’ saved [14355/14355]\r\n",
      "\r\n",
      "--2022-11-22 20:01:19--  http://54.243.252.9/ce-5319-webroot/1-Databases/MaterialCracking/UT-881-image_src/Image250.png\r\n",
      "Reusing existing connection to 54.243.252.9:80.\r\n",
      "HTTP request sent, awaiting response... "
     ]
    },
    {
     "name": "stdout",
     "output_type": "stream",
     "text": [
      "200 OK\r\n",
      "Length: 14375 (14K) [image/png]\r\n",
      "Saving to: ‘./MyImageFiles/Image250.png’\r\n",
      "\r\n",
      "\r",
      "Image250.png          0%[                    ]       0  --.-KB/s               \r",
      "Image250.png        100%[===================>]  14.04K  --.-KB/s    in 0s      \r\n",
      "\r\n",
      "2022-11-22 20:01:19 (55.4 MB/s) - ‘./MyImageFiles/Image250.png’ saved [14375/14375]\r\n",
      "\r\n",
      "--2022-11-22 20:01:19--  http://54.243.252.9/ce-5319-webroot/1-Databases/MaterialCracking/UT-881-image_src/Image251.png\r\n",
      "Reusing existing connection to 54.243.252.9:80.\r\n",
      "HTTP request sent, awaiting response... "
     ]
    },
    {
     "name": "stdout",
     "output_type": "stream",
     "text": [
      "200 OK\r\n",
      "Length: 9350 (9.1K) [image/png]\r\n",
      "Saving to: ‘./MyImageFiles/Image251.png’\r\n",
      "\r\n",
      "\r",
      "Image251.png          0%[                    ]       0  --.-KB/s               \r",
      "Image251.png        100%[===================>]   9.13K  --.-KB/s    in 0s      \r\n",
      "\r\n",
      "2022-11-22 20:01:19 (27.3 MB/s) - ‘./MyImageFiles/Image251.png’ saved [9350/9350]\r\n",
      "\r\n",
      "--2022-11-22 20:01:19--  http://54.243.252.9/ce-5319-webroot/1-Databases/MaterialCracking/UT-881-image_src/Image252.png\r\n",
      "Reusing existing connection to 54.243.252.9:80.\r\n",
      "HTTP request sent, awaiting response... "
     ]
    },
    {
     "name": "stdout",
     "output_type": "stream",
     "text": [
      "200 OK\r\n",
      "Length: 13412 (13K) [image/png]\r\n",
      "Saving to: ‘./MyImageFiles/Image252.png’\r\n",
      "\r\n",
      "\r",
      "Image252.png          0%[                    ]       0  --.-KB/s               \r",
      "Image252.png        100%[===================>]  13.10K  --.-KB/s    in 0s      \r\n",
      "\r\n",
      "2022-11-22 20:01:19 (36.6 MB/s) - ‘./MyImageFiles/Image252.png’ saved [13412/13412]\r\n",
      "\r\n",
      "--2022-11-22 20:01:19--  http://54.243.252.9/ce-5319-webroot/1-Databases/MaterialCracking/UT-881-image_src/Image253.png\r\n",
      "Reusing existing connection to 54.243.252.9:80.\r\n",
      "HTTP request sent, awaiting response... "
     ]
    },
    {
     "name": "stdout",
     "output_type": "stream",
     "text": [
      "200 OK\r\n",
      "Length: 12669 (12K) [image/png]\r\n",
      "Saving to: ‘./MyImageFiles/Image253.png’\r\n",
      "\r\n",
      "\r",
      "Image253.png          0%[                    ]       0  --.-KB/s               \r",
      "Image253.png        100%[===================>]  12.37K  --.-KB/s    in 0s      \r\n",
      "\r\n",
      "2022-11-22 20:01:19 (41.6 MB/s) - ‘./MyImageFiles/Image253.png’ saved [12669/12669]\r\n",
      "\r\n",
      "--2022-11-22 20:01:19--  http://54.243.252.9/ce-5319-webroot/1-Databases/MaterialCracking/UT-881-image_src/Image254.png\r\n",
      "Reusing existing connection to 54.243.252.9:80.\r\n",
      "HTTP request sent, awaiting response... "
     ]
    },
    {
     "name": "stdout",
     "output_type": "stream",
     "text": [
      "200 OK\r\n",
      "Length: 14667 (14K) [image/png]\r\n",
      "Saving to: ‘./MyImageFiles/Image254.png’\r\n",
      "\r\n",
      "\r",
      "Image254.png          0%[                    ]       0  --.-KB/s               \r",
      "Image254.png        100%[===================>]  14.32K  --.-KB/s    in 0s      \r\n",
      "\r\n",
      "2022-11-22 20:01:19 (49.6 MB/s) - ‘./MyImageFiles/Image254.png’ saved [14667/14667]\r\n",
      "\r\n",
      "--2022-11-22 20:01:19--  http://54.243.252.9/ce-5319-webroot/1-Databases/MaterialCracking/UT-881-image_src/Image255.png\r\n",
      "Reusing existing connection to 54.243.252.9:80.\r\n",
      "HTTP request sent, awaiting response... "
     ]
    },
    {
     "name": "stdout",
     "output_type": "stream",
     "text": [
      "200 OK\r\n",
      "Length: 12205 (12K) [image/png]\r\n",
      "Saving to: ‘./MyImageFiles/Image255.png’\r\n",
      "\r\n",
      "\r",
      "Image255.png          0%[                    ]       0  --.-KB/s               \r",
      "Image255.png        100%[===================>]  11.92K  --.-KB/s    in 0s      \r\n",
      "\r\n",
      "2022-11-22 20:01:19 (31.6 MB/s) - ‘./MyImageFiles/Image255.png’ saved [12205/12205]\r\n",
      "\r\n",
      "--2022-11-22 20:01:19--  http://54.243.252.9/ce-5319-webroot/1-Databases/MaterialCracking/UT-881-image_src/Image256.png\r\n",
      "Reusing existing connection to 54.243.252.9:80.\r\n",
      "HTTP request sent, awaiting response... 200 OK\r\n",
      "Length: 14525 (14K) [image/png]\r\n",
      "Saving to: ‘./MyImageFiles/Image256.png’\r\n",
      "\r\n",
      "\r",
      "Image256.png          0%[                    ]       0  --.-KB/s               \r",
      "Image256.png        100%[===================>]  14.18K  --.-KB/s    in 0s      \r\n",
      "\r\n",
      "2022-11-22 20:01:19 (77.8 MB/s) - ‘./MyImageFiles/Image256.png’ saved [14525/14525]\r\n",
      "\r\n",
      "--2022-11-22 20:01:19--  http://54.243.252.9/ce-5319-webroot/1-Databases/MaterialCracking/UT-881-image_src/Image257.png\r\n",
      "Reusing existing connection to 54.243.252.9:80.\r\n",
      "HTTP request sent, awaiting response... "
     ]
    },
    {
     "name": "stdout",
     "output_type": "stream",
     "text": [
      "200 OK\r\n",
      "Length: 10069 (9.8K) [image/png]\r\n",
      "Saving to: ‘./MyImageFiles/Image257.png’\r\n",
      "\r\n",
      "\r",
      "Image257.png          0%[                    ]       0  --.-KB/s               \r",
      "Image257.png        100%[===================>]   9.83K  --.-KB/s    in 0s      \r\n",
      "\r\n",
      "2022-11-22 20:01:19 (23.2 MB/s) - ‘./MyImageFiles/Image257.png’ saved [10069/10069]\r\n",
      "\r\n",
      "--2022-11-22 20:01:19--  http://54.243.252.9/ce-5319-webroot/1-Databases/MaterialCracking/UT-881-image_src/Image258.png\r\n",
      "Reusing existing connection to 54.243.252.9:80.\r\n",
      "HTTP request sent, awaiting response... "
     ]
    },
    {
     "name": "stdout",
     "output_type": "stream",
     "text": [
      "200 OK\r\n",
      "Length: 13594 (13K) [image/png]\r\n",
      "Saving to: ‘./MyImageFiles/Image258.png’\r\n",
      "\r\n",
      "\r",
      "Image258.png          0%[                    ]       0  --.-KB/s               \r",
      "Image258.png        100%[===================>]  13.28K  --.-KB/s    in 0s      \r\n",
      "\r\n",
      "2022-11-22 20:01:19 (32.7 MB/s) - ‘./MyImageFiles/Image258.png’ saved [13594/13594]\r\n",
      "\r\n",
      "--2022-11-22 20:01:19--  http://54.243.252.9/ce-5319-webroot/1-Databases/MaterialCracking/UT-881-image_src/Image259.png\r\n",
      "Reusing existing connection to 54.243.252.9:80.\r\n",
      "HTTP request sent, awaiting response... "
     ]
    },
    {
     "name": "stdout",
     "output_type": "stream",
     "text": [
      "200 OK\r\n",
      "Length: 12554 (12K) [image/png]\r\n",
      "Saving to: ‘./MyImageFiles/Image259.png’\r\n",
      "\r\n",
      "\r",
      "Image259.png          0%[                    ]       0  --.-KB/s               \r",
      "Image259.png        100%[===================>]  12.26K  --.-KB/s    in 0s      \r\n",
      "\r\n",
      "2022-11-22 20:01:19 (33.3 MB/s) - ‘./MyImageFiles/Image259.png’ saved [12554/12554]\r\n",
      "\r\n",
      "--2022-11-22 20:01:19--  http://54.243.252.9/ce-5319-webroot/1-Databases/MaterialCracking/UT-881-image_src/Image260.png\r\n",
      "Reusing existing connection to 54.243.252.9:80.\r\n",
      "HTTP request sent, awaiting response... "
     ]
    },
    {
     "name": "stdout",
     "output_type": "stream",
     "text": [
      "200 OK\r\n",
      "Length: 10833 (11K) [image/png]\r\n",
      "Saving to: ‘./MyImageFiles/Image260.png’\r\n",
      "\r\n",
      "\r",
      "Image260.png          0%[                    ]       0  --.-KB/s               \r",
      "Image260.png        100%[===================>]  10.58K  --.-KB/s    in 0s      \r\n",
      "\r\n",
      "2022-11-22 20:01:19 (31.0 MB/s) - ‘./MyImageFiles/Image260.png’ saved [10833/10833]\r\n",
      "\r\n",
      "--2022-11-22 20:01:19--  http://54.243.252.9/ce-5319-webroot/1-Databases/MaterialCracking/UT-881-image_src/Image261.png\r\n",
      "Reusing existing connection to 54.243.252.9:80.\r\n",
      "HTTP request sent, awaiting response... "
     ]
    },
    {
     "name": "stdout",
     "output_type": "stream",
     "text": [
      "200 OK\r\n",
      "Length: 14423 (14K) [image/png]\r\n",
      "Saving to: ‘./MyImageFiles/Image261.png’\r\n",
      "\r\n",
      "\r",
      "Image261.png          0%[                    ]       0  --.-KB/s               \r",
      "Image261.png        100%[===================>]  14.08K  --.-KB/s    in 0s      \r\n",
      "\r\n",
      "2022-11-22 20:01:19 (52.5 MB/s) - ‘./MyImageFiles/Image261.png’ saved [14423/14423]\r\n",
      "\r\n",
      "--2022-11-22 20:01:19--  http://54.243.252.9/ce-5319-webroot/1-Databases/MaterialCracking/UT-881-image_src/Image262.png\r\n",
      "Reusing existing connection to 54.243.252.9:80.\r\n",
      "HTTP request sent, awaiting response... "
     ]
    },
    {
     "name": "stdout",
     "output_type": "stream",
     "text": [
      "200 OK\r\n",
      "Length: 13873 (14K) [image/png]\r\n",
      "Saving to: ‘./MyImageFiles/Image262.png’\r\n",
      "\r\n",
      "\r",
      "Image262.png          0%[                    ]       0  --.-KB/s               \r",
      "Image262.png        100%[===================>]  13.55K  --.-KB/s    in 0s      \r\n",
      "\r\n",
      "2022-11-22 20:01:19 (37.9 MB/s) - ‘./MyImageFiles/Image262.png’ saved [13873/13873]\r\n",
      "\r\n",
      "--2022-11-22 20:01:19--  http://54.243.252.9/ce-5319-webroot/1-Databases/MaterialCracking/UT-881-image_src/Image263.png\r\n",
      "Reusing existing connection to 54.243.252.9:80.\r\n",
      "HTTP request sent, awaiting response... "
     ]
    },
    {
     "name": "stdout",
     "output_type": "stream",
     "text": [
      "200 OK\r\n",
      "Length: 14204 (14K) [image/png]\r\n",
      "Saving to: ‘./MyImageFiles/Image263.png’\r\n",
      "\r\n",
      "\r",
      "Image263.png          0%[                    ]       0  --.-KB/s               \r",
      "Image263.png        100%[===================>]  13.87K  --.-KB/s    in 0s      \r\n",
      "\r\n",
      "2022-11-22 20:01:19 (39.6 MB/s) - ‘./MyImageFiles/Image263.png’ saved [14204/14204]\r\n",
      "\r\n",
      "--2022-11-22 20:01:19--  http://54.243.252.9/ce-5319-webroot/1-Databases/MaterialCracking/UT-881-image_src/Image264.png\r\n",
      "Reusing existing connection to 54.243.252.9:80.\r\n",
      "HTTP request sent, awaiting response... "
     ]
    },
    {
     "name": "stdout",
     "output_type": "stream",
     "text": [
      "200 OK\r\n",
      "Length: 13101 (13K) [image/png]\r\n",
      "Saving to: ‘./MyImageFiles/Image264.png’\r\n",
      "\r\n",
      "\r",
      "Image264.png          0%[                    ]       0  --.-KB/s               \r",
      "Image264.png        100%[===================>]  12.79K  --.-KB/s    in 0s      \r\n",
      "\r\n",
      "2022-11-22 20:01:19 (36.7 MB/s) - ‘./MyImageFiles/Image264.png’ saved [13101/13101]\r\n",
      "\r\n",
      "--2022-11-22 20:01:19--  http://54.243.252.9/ce-5319-webroot/1-Databases/MaterialCracking/UT-881-image_src/Image265.png\r\n",
      "Reusing existing connection to 54.243.252.9:80.\r\n",
      "HTTP request sent, awaiting response... "
     ]
    },
    {
     "name": "stdout",
     "output_type": "stream",
     "text": [
      "200 OK\r\n",
      "Length: 13929 (14K) [image/png]\r\n",
      "Saving to: ‘./MyImageFiles/Image265.png’\r\n",
      "\r\n",
      "\r",
      "Image265.png          0%[                    ]       0  --.-KB/s               \r",
      "Image265.png        100%[===================>]  13.60K  --.-KB/s    in 0s      \r\n",
      "\r\n",
      "2022-11-22 20:01:19 (53.1 MB/s) - ‘./MyImageFiles/Image265.png’ saved [13929/13929]\r\n",
      "\r\n",
      "--2022-11-22 20:01:19--  http://54.243.252.9/ce-5319-webroot/1-Databases/MaterialCracking/UT-881-image_src/Image266.png\r\n",
      "Reusing existing connection to 54.243.252.9:80.\r\n",
      "HTTP request sent, awaiting response... "
     ]
    },
    {
     "name": "stdout",
     "output_type": "stream",
     "text": [
      "200 OK\r\n",
      "Length: 8578 (8.4K) [image/png]\r\n",
      "Saving to: ‘./MyImageFiles/Image266.png’\r\n",
      "\r\n",
      "\r",
      "Image266.png          0%[                    ]       0  --.-KB/s               \r",
      "Image266.png        100%[===================>]   8.38K  --.-KB/s    in 0s      \r\n",
      "\r\n",
      "2022-11-22 20:01:20 (34.9 MB/s) - ‘./MyImageFiles/Image266.png’ saved [8578/8578]\r\n",
      "\r\n",
      "--2022-11-22 20:01:20--  http://54.243.252.9/ce-5319-webroot/1-Databases/MaterialCracking/UT-881-image_src/Image267.png\r\n",
      "Reusing existing connection to 54.243.252.9:80.\r\n",
      "HTTP request sent, awaiting response... "
     ]
    },
    {
     "name": "stdout",
     "output_type": "stream",
     "text": [
      "200 OK\r\n",
      "Length: 12881 (13K) [image/png]\r\n",
      "Saving to: ‘./MyImageFiles/Image267.png’\r\n",
      "\r\n",
      "\r",
      "Image267.png          0%[                    ]       0  --.-KB/s               \r",
      "Image267.png        100%[===================>]  12.58K  --.-KB/s    in 0s      \r\n",
      "\r\n",
      "2022-11-22 20:01:20 (48.5 MB/s) - ‘./MyImageFiles/Image267.png’ saved [12881/12881]\r\n",
      "\r\n",
      "--2022-11-22 20:01:20--  http://54.243.252.9/ce-5319-webroot/1-Databases/MaterialCracking/UT-881-image_src/Image268.png\r\n",
      "Reusing existing connection to 54.243.252.9:80.\r\n",
      "HTTP request sent, awaiting response... "
     ]
    },
    {
     "name": "stdout",
     "output_type": "stream",
     "text": [
      "200 OK\r\n",
      "Length: 14442 (14K) [image/png]\r\n",
      "Saving to: ‘./MyImageFiles/Image268.png’\r\n",
      "\r\n",
      "\r",
      "Image268.png          0%[                    ]       0  --.-KB/s               \r",
      "Image268.png        100%[===================>]  14.10K  --.-KB/s    in 0s      \r\n",
      "\r\n",
      "2022-11-22 20:01:20 (57.4 MB/s) - ‘./MyImageFiles/Image268.png’ saved [14442/14442]\r\n",
      "\r\n",
      "--2022-11-22 20:01:20--  http://54.243.252.9/ce-5319-webroot/1-Databases/MaterialCracking/UT-881-image_src/Image269.png\r\n",
      "Reusing existing connection to 54.243.252.9:80.\r\n",
      "HTTP request sent, awaiting response... "
     ]
    },
    {
     "name": "stdout",
     "output_type": "stream",
     "text": [
      "200 OK\r\n",
      "Length: 14256 (14K) [image/png]\r\n",
      "Saving to: ‘./MyImageFiles/Image269.png’\r\n",
      "\r\n",
      "\r",
      "Image269.png          0%[                    ]       0  --.-KB/s               \r",
      "Image269.png        100%[===================>]  13.92K  --.-KB/s    in 0s      \r\n",
      "\r\n",
      "2022-11-22 20:01:20 (43.5 MB/s) - ‘./MyImageFiles/Image269.png’ saved [14256/14256]\r\n",
      "\r\n",
      "--2022-11-22 20:01:20--  http://54.243.252.9/ce-5319-webroot/1-Databases/MaterialCracking/UT-881-image_src/Image270.png\r\n",
      "Reusing existing connection to 54.243.252.9:80.\r\n",
      "HTTP request sent, awaiting response... "
     ]
    },
    {
     "name": "stdout",
     "output_type": "stream",
     "text": [
      "200 OK\r\n",
      "Length: 14931 (15K) [image/png]\r\n",
      "Saving to: ‘./MyImageFiles/Image270.png’\r\n",
      "\r\n",
      "\r",
      "Image270.png          0%[                    ]       0  --.-KB/s               \r",
      "Image270.png        100%[===================>]  14.58K  --.-KB/s    in 0s      \r\n",
      "\r\n",
      "2022-11-22 20:01:20 (30.4 MB/s) - ‘./MyImageFiles/Image270.png’ saved [14931/14931]\r\n",
      "\r\n",
      "--2022-11-22 20:01:20--  http://54.243.252.9/ce-5319-webroot/1-Databases/MaterialCracking/UT-881-image_src/Image271.png\r\n",
      "Reusing existing connection to 54.243.252.9:80.\r\n",
      "HTTP request sent, awaiting response... "
     ]
    },
    {
     "name": "stdout",
     "output_type": "stream",
     "text": [
      "200 OK\r\n",
      "Length: 11310 (11K) [image/png]\r\n",
      "Saving to: ‘./MyImageFiles/Image271.png’\r\n",
      "\r\n",
      "\r",
      "Image271.png          0%[                    ]       0  --.-KB/s               \r",
      "Image271.png        100%[===================>]  11.04K  --.-KB/s    in 0s      \r\n",
      "\r\n",
      "2022-11-22 20:01:20 (27.4 MB/s) - ‘./MyImageFiles/Image271.png’ saved [11310/11310]\r\n",
      "\r\n",
      "--2022-11-22 20:01:20--  http://54.243.252.9/ce-5319-webroot/1-Databases/MaterialCracking/UT-881-image_src/Image272.png\r\n",
      "Reusing existing connection to 54.243.252.9:80.\r\n",
      "HTTP request sent, awaiting response... 200 OK\r\n",
      "Length: 13876 (14K) [image/png]\r\n",
      "Saving to: ‘./MyImageFiles/Image272.png’\r\n",
      "\r\n",
      "\r",
      "Image272.png          0%[                    ]       0  --.-KB/s               "
     ]
    },
    {
     "name": "stdout",
     "output_type": "stream",
     "text": [
      "\r",
      "Image272.png        100%[===================>]  13.55K  --.-KB/s    in 0s      \r\n",
      "\r\n",
      "2022-11-22 20:01:20 (38.4 MB/s) - ‘./MyImageFiles/Image272.png’ saved [13876/13876]\r\n",
      "\r\n",
      "--2022-11-22 20:01:20--  http://54.243.252.9/ce-5319-webroot/1-Databases/MaterialCracking/UT-881-image_src/Image273.png\r\n",
      "Reusing existing connection to 54.243.252.9:80.\r\n",
      "HTTP request sent, awaiting response... 200 OK\r\n",
      "Length: 14269 (14K) [image/png]\r\n",
      "Saving to: ‘./MyImageFiles/Image273.png’\r\n",
      "\r\n",
      "\r",
      "Image273.png          0%[                    ]       0  --.-KB/s               \r",
      "Image273.png        100%[===================>]  13.93K  --.-KB/s    in 0s      \r\n",
      "\r\n",
      "2022-11-22 20:01:20 (59.4 MB/s) - ‘./MyImageFiles/Image273.png’ saved [14269/14269]\r\n",
      "\r\n",
      "--2022-11-22 20:01:20--  http://54.243.252.9/ce-5319-webroot/1-Databases/MaterialCracking/UT-881-image_src/Image274.png\r\n",
      "Reusing existing connection to 54.243.252.9:80.\r\n",
      "HTTP request sent, awaiting response... "
     ]
    },
    {
     "name": "stdout",
     "output_type": "stream",
     "text": [
      "200 OK\r\n",
      "Length: 13375 (13K) [image/png]\r\n",
      "Saving to: ‘./MyImageFiles/Image274.png’\r\n",
      "\r\n",
      "\r",
      "Image274.png          0%[                    ]       0  --.-KB/s               \r",
      "Image274.png        100%[===================>]  13.06K  --.-KB/s    in 0s      \r\n",
      "\r\n",
      "2022-11-22 20:01:20 (34.5 MB/s) - ‘./MyImageFiles/Image274.png’ saved [13375/13375]\r\n",
      "\r\n",
      "--2022-11-22 20:01:20--  http://54.243.252.9/ce-5319-webroot/1-Databases/MaterialCracking/UT-881-image_src/Image275.png\r\n",
      "Reusing existing connection to 54.243.252.9:80.\r\n",
      "HTTP request sent, awaiting response... "
     ]
    },
    {
     "name": "stdout",
     "output_type": "stream",
     "text": [
      "200 OK\r\n",
      "Length: 13004 (13K) [image/png]\r\n",
      "Saving to: ‘./MyImageFiles/Image275.png’\r\n",
      "\r\n",
      "\r",
      "Image275.png          0%[                    ]       0  --.-KB/s               \r",
      "Image275.png        100%[===================>]  12.70K  --.-KB/s    in 0s      \r\n",
      "\r\n",
      "2022-11-22 20:01:20 (49.7 MB/s) - ‘./MyImageFiles/Image275.png’ saved [13004/13004]\r\n",
      "\r\n",
      "--2022-11-22 20:01:20--  http://54.243.252.9/ce-5319-webroot/1-Databases/MaterialCracking/UT-881-image_src/Image276.png\r\n",
      "Reusing existing connection to 54.243.252.9:80.\r\n",
      "HTTP request sent, awaiting response... "
     ]
    },
    {
     "name": "stdout",
     "output_type": "stream",
     "text": [
      "200 OK\r\n",
      "Length: 10199 (10.0K) [image/png]\r\n",
      "Saving to: ‘./MyImageFiles/Image276.png’\r\n",
      "\r\n",
      "\r",
      "Image276.png          0%[                    ]       0  --.-KB/s               \r",
      "Image276.png        100%[===================>]   9.96K  --.-KB/s    in 0s      \r\n",
      "\r\n",
      "2022-11-22 20:01:20 (31.0 MB/s) - ‘./MyImageFiles/Image276.png’ saved [10199/10199]\r\n",
      "\r\n",
      "--2022-11-22 20:01:20--  http://54.243.252.9/ce-5319-webroot/1-Databases/MaterialCracking/UT-881-image_src/Image277.png\r\n",
      "Reusing existing connection to 54.243.252.9:80.\r\n",
      "HTTP request sent, awaiting response... "
     ]
    },
    {
     "name": "stdout",
     "output_type": "stream",
     "text": [
      "200 OK\r\n",
      "Length: 11208 (11K) [image/png]\r\n",
      "Saving to: ‘./MyImageFiles/Image277.png’\r\n",
      "\r\n",
      "\r",
      "Image277.png          0%[                    ]       0  --.-KB/s               \r",
      "Image277.png        100%[===================>]  10.95K  --.-KB/s    in 0s      \r\n",
      "\r\n",
      "2022-11-22 20:01:20 (30.1 MB/s) - ‘./MyImageFiles/Image277.png’ saved [11208/11208]\r\n",
      "\r\n",
      "--2022-11-22 20:01:20--  http://54.243.252.9/ce-5319-webroot/1-Databases/MaterialCracking/UT-881-image_src/Image278.png\r\n",
      "Reusing existing connection to 54.243.252.9:80.\r\n",
      "HTTP request sent, awaiting response... "
     ]
    },
    {
     "name": "stdout",
     "output_type": "stream",
     "text": [
      "200 OK\r\n",
      "Length: 10934 (11K) [image/png]\r\n",
      "Saving to: ‘./MyImageFiles/Image278.png’\r\n",
      "\r\n",
      "\r",
      "Image278.png          0%[                    ]       0  --.-KB/s               \r",
      "Image278.png        100%[===================>]  10.68K  --.-KB/s    in 0s      \r\n",
      "\r\n",
      "2022-11-22 20:01:20 (27.3 MB/s) - ‘./MyImageFiles/Image278.png’ saved [10934/10934]\r\n",
      "\r\n",
      "--2022-11-22 20:01:20--  http://54.243.252.9/ce-5319-webroot/1-Databases/MaterialCracking/UT-881-image_src/Image279.png\r\n",
      "Reusing existing connection to 54.243.252.9:80.\r\n",
      "HTTP request sent, awaiting response... "
     ]
    },
    {
     "name": "stdout",
     "output_type": "stream",
     "text": [
      "200 OK\r\n",
      "Length: 9444 (9.2K) [image/png]\r\n",
      "Saving to: ‘./MyImageFiles/Image279.png’\r\n",
      "\r\n",
      "\r",
      "Image279.png          0%[                    ]       0  --.-KB/s               \r",
      "Image279.png        100%[===================>]   9.22K  --.-KB/s    in 0s      \r\n",
      "\r\n",
      "2022-11-22 20:01:20 (29.7 MB/s) - ‘./MyImageFiles/Image279.png’ saved [9444/9444]\r\n",
      "\r\n",
      "--2022-11-22 20:01:20--  http://54.243.252.9/ce-5319-webroot/1-Databases/MaterialCracking/UT-881-image_src/Image280.png\r\n",
      "Reusing existing connection to 54.243.252.9:80.\r\n",
      "HTTP request sent, awaiting response... "
     ]
    },
    {
     "name": "stdout",
     "output_type": "stream",
     "text": [
      "200 OK\r\n",
      "Length: 15200 (15K) [image/png]\r\n",
      "Saving to: ‘./MyImageFiles/Image280.png’\r\n",
      "\r\n",
      "\r",
      "Image280.png          0%[                    ]       0  --.-KB/s               \r",
      "Image280.png        100%[===================>]  14.84K  --.-KB/s    in 0s      \r\n",
      "\r\n",
      "2022-11-22 20:01:20 (42.0 MB/s) - ‘./MyImageFiles/Image280.png’ saved [15200/15200]\r\n",
      "\r\n",
      "--2022-11-22 20:01:20--  http://54.243.252.9/ce-5319-webroot/1-Databases/MaterialCracking/UT-881-image_src/Image281.png\r\n",
      "Reusing existing connection to 54.243.252.9:80.\r\n",
      "HTTP request sent, awaiting response... "
     ]
    },
    {
     "name": "stdout",
     "output_type": "stream",
     "text": [
      "200 OK\r\n",
      "Length: 12837 (13K) [image/png]\r\n",
      "Saving to: ‘./MyImageFiles/Image281.png’\r\n",
      "\r\n",
      "\r",
      "Image281.png          0%[                    ]       0  --.-KB/s               \r",
      "Image281.png        100%[===================>]  12.54K  --.-KB/s    in 0s      \r\n",
      "\r\n",
      "2022-11-22 20:01:20 (52.4 MB/s) - ‘./MyImageFiles/Image281.png’ saved [12837/12837]\r\n",
      "\r\n",
      "--2022-11-22 20:01:20--  http://54.243.252.9/ce-5319-webroot/1-Databases/MaterialCracking/UT-881-image_src/Image282.png\r\n",
      "Reusing existing connection to 54.243.252.9:80.\r\n",
      "HTTP request sent, awaiting response... "
     ]
    },
    {
     "name": "stdout",
     "output_type": "stream",
     "text": [
      "200 OK\r\n",
      "Length: 9331 (9.1K) [image/png]\r\n",
      "Saving to: ‘./MyImageFiles/Image282.png’\r\n",
      "\r\n",
      "\r",
      "Image282.png          0%[                    ]       0  --.-KB/s               \r",
      "Image282.png        100%[===================>]   9.11K  --.-KB/s    in 0s      \r\n",
      "\r\n",
      "2022-11-22 20:01:20 (36.1 MB/s) - ‘./MyImageFiles/Image282.png’ saved [9331/9331]\r\n",
      "\r\n",
      "--2022-11-22 20:01:20--  http://54.243.252.9/ce-5319-webroot/1-Databases/MaterialCracking/UT-881-image_src/Image283.png\r\n",
      "Reusing existing connection to 54.243.252.9:80.\r\n",
      "HTTP request sent, awaiting response... "
     ]
    },
    {
     "name": "stdout",
     "output_type": "stream",
     "text": [
      "200 OK\r\n",
      "Length: 12770 (12K) [image/png]\r\n",
      "Saving to: ‘./MyImageFiles/Image283.png’\r\n",
      "\r\n",
      "\r",
      "Image283.png          0%[                    ]       0  --.-KB/s               \r",
      "Image283.png        100%[===================>]  12.47K  --.-KB/s    in 0s      \r\n",
      "\r\n",
      "2022-11-22 20:01:20 (39.4 MB/s) - ‘./MyImageFiles/Image283.png’ saved [12770/12770]\r\n",
      "\r\n",
      "--2022-11-22 20:01:20--  http://54.243.252.9/ce-5319-webroot/1-Databases/MaterialCracking/UT-881-image_src/Image284.png\r\n",
      "Reusing existing connection to 54.243.252.9:80.\r\n",
      "HTTP request sent, awaiting response... "
     ]
    },
    {
     "name": "stdout",
     "output_type": "stream",
     "text": [
      "200 OK\r\n",
      "Length: 14502 (14K) [image/png]\r\n",
      "Saving to: ‘./MyImageFiles/Image284.png’\r\n",
      "\r\n",
      "\r",
      "Image284.png          0%[                    ]       0  --.-KB/s               \r",
      "Image284.png        100%[===================>]  14.16K  --.-KB/s    in 0s      \r\n",
      "\r\n",
      "2022-11-22 20:01:20 (62.9 MB/s) - ‘./MyImageFiles/Image284.png’ saved [14502/14502]\r\n",
      "\r\n",
      "--2022-11-22 20:01:20--  http://54.243.252.9/ce-5319-webroot/1-Databases/MaterialCracking/UT-881-image_src/Image285.png\r\n",
      "Reusing existing connection to 54.243.252.9:80.\r\n",
      "HTTP request sent, awaiting response... "
     ]
    },
    {
     "name": "stdout",
     "output_type": "stream",
     "text": [
      "200 OK\r\n",
      "Length: 14189 (14K) [image/png]\r\n",
      "Saving to: ‘./MyImageFiles/Image285.png’\r\n",
      "\r\n",
      "\r",
      "Image285.png          0%[                    ]       0  --.-KB/s               \r",
      "Image285.png        100%[===================>]  13.86K  --.-KB/s    in 0s      \r\n",
      "\r\n",
      "2022-11-22 20:01:20 (54.7 MB/s) - ‘./MyImageFiles/Image285.png’ saved [14189/14189]\r\n",
      "\r\n",
      "--2022-11-22 20:01:20--  http://54.243.252.9/ce-5319-webroot/1-Databases/MaterialCracking/UT-881-image_src/Image286.png\r\n",
      "Reusing existing connection to 54.243.252.9:80.\r\n",
      "HTTP request sent, awaiting response... "
     ]
    },
    {
     "name": "stdout",
     "output_type": "stream",
     "text": [
      "200 OK\r\n",
      "Length: 14343 (14K) [image/png]\r\n",
      "Saving to: ‘./MyImageFiles/Image286.png’\r\n",
      "\r\n",
      "\r",
      "Image286.png          0%[                    ]       0  --.-KB/s               \r",
      "Image286.png        100%[===================>]  14.01K  --.-KB/s    in 0s      \r\n",
      "\r\n",
      "2022-11-22 20:01:21 (30.2 MB/s) - ‘./MyImageFiles/Image286.png’ saved [14343/14343]\r\n",
      "\r\n",
      "--2022-11-22 20:01:21--  http://54.243.252.9/ce-5319-webroot/1-Databases/MaterialCracking/UT-881-image_src/Image287.png\r\n",
      "Reusing existing connection to 54.243.252.9:80.\r\n",
      "HTTP request sent, awaiting response... "
     ]
    },
    {
     "name": "stdout",
     "output_type": "stream",
     "text": [
      "200 OK\r\n",
      "Length: 9766 (9.5K) [image/png]\r\n",
      "Saving to: ‘./MyImageFiles/Image287.png’\r\n",
      "\r\n",
      "\r",
      "Image287.png          0%[                    ]       0  --.-KB/s               \r",
      "Image287.png        100%[===================>]   9.54K  --.-KB/s    in 0s      \r\n",
      "\r\n",
      "2022-11-22 20:01:21 (27.9 MB/s) - ‘./MyImageFiles/Image287.png’ saved [9766/9766]\r\n",
      "\r\n",
      "--2022-11-22 20:01:21--  http://54.243.252.9/ce-5319-webroot/1-Databases/MaterialCracking/UT-881-image_src/Image288.png\r\n",
      "Reusing existing connection to 54.243.252.9:80.\r\n",
      "HTTP request sent, awaiting response... "
     ]
    },
    {
     "name": "stdout",
     "output_type": "stream",
     "text": [
      "200 OK\r\n",
      "Length: 14894 (15K) [image/png]\r\n",
      "Saving to: ‘./MyImageFiles/Image288.png’\r\n",
      "\r\n",
      "\r",
      "Image288.png          0%[                    ]       0  --.-KB/s               \r",
      "Image288.png        100%[===================>]  14.54K  --.-KB/s    in 0s      \r\n",
      "\r\n",
      "2022-11-22 20:01:21 (39.8 MB/s) - ‘./MyImageFiles/Image288.png’ saved [14894/14894]\r\n",
      "\r\n",
      "--2022-11-22 20:01:21--  http://54.243.252.9/ce-5319-webroot/1-Databases/MaterialCracking/UT-881-image_src/Image289.png\r\n",
      "Reusing existing connection to 54.243.252.9:80.\r\n",
      "HTTP request sent, awaiting response... "
     ]
    },
    {
     "name": "stdout",
     "output_type": "stream",
     "text": [
      "200 OK\r\n",
      "Length: 14493 (14K) [image/png]\r\n",
      "Saving to: ‘./MyImageFiles/Image289.png’\r\n",
      "\r\n",
      "\r",
      "Image289.png          0%[                    ]       0  --.-KB/s               \r",
      "Image289.png        100%[===================>]  14.15K  --.-KB/s    in 0s      \r\n",
      "\r\n",
      "2022-11-22 20:01:21 (28.2 MB/s) - ‘./MyImageFiles/Image289.png’ saved [14493/14493]\r\n",
      "\r\n",
      "--2022-11-22 20:01:21--  http://54.243.252.9/ce-5319-webroot/1-Databases/MaterialCracking/UT-881-image_src/Image290.png\r\n",
      "Reusing existing connection to 54.243.252.9:80.\r\n",
      "HTTP request sent, awaiting response... 200 OK\r\n",
      "Length: 11560 (11K) [image/png]\r\n",
      "Saving to: ‘./MyImageFiles/Image290.png’\r\n",
      "\r\n",
      "\r",
      "Image290.png          0%[                    ]       0  --.-KB/s               \r",
      "Image290.png        100%[===================>]  11.29K  --.-KB/s    in 0s      \r\n",
      "\r\n",
      "2022-11-22 20:01:21 (37.7 MB/s) - ‘./MyImageFiles/Image290.png’ saved [11560/11560]\r\n",
      "\r\n",
      "--2022-11-22 20:01:21--  http://54.243.252.9/ce-5319-webroot/1-Databases/MaterialCracking/UT-881-image_src/Image291.png\r\n",
      "Reusing existing connection to 54.243.252.9:80.\r\n",
      "HTTP request sent, awaiting response... "
     ]
    },
    {
     "name": "stdout",
     "output_type": "stream",
     "text": [
      "200 OK\r\n",
      "Length: 14128 (14K) [image/png]\r\n",
      "Saving to: ‘./MyImageFiles/Image291.png’\r\n",
      "\r\n",
      "\r",
      "Image291.png          0%[                    ]       0  --.-KB/s               \r",
      "Image291.png        100%[===================>]  13.80K  --.-KB/s    in 0s      \r\n",
      "\r\n",
      "2022-11-22 20:01:21 (38.5 MB/s) - ‘./MyImageFiles/Image291.png’ saved [14128/14128]\r\n",
      "\r\n",
      "--2022-11-22 20:01:21--  http://54.243.252.9/ce-5319-webroot/1-Databases/MaterialCracking/UT-881-image_src/Image292.png\r\n",
      "Reusing existing connection to 54.243.252.9:80.\r\n",
      "HTTP request sent, awaiting response... "
     ]
    },
    {
     "name": "stdout",
     "output_type": "stream",
     "text": [
      "200 OK\r\n",
      "Length: 10801 (11K) [image/png]\r\n",
      "Saving to: ‘./MyImageFiles/Image292.png’\r\n",
      "\r\n",
      "\r",
      "Image292.png          0%[                    ]       0  --.-KB/s               \r",
      "Image292.png        100%[===================>]  10.55K  --.-KB/s    in 0s      \r\n",
      "\r\n",
      "2022-11-22 20:01:21 (30.5 MB/s) - ‘./MyImageFiles/Image292.png’ saved [10801/10801]\r\n",
      "\r\n",
      "--2022-11-22 20:01:21--  http://54.243.252.9/ce-5319-webroot/1-Databases/MaterialCracking/UT-881-image_src/Image293.png\r\n",
      "Reusing existing connection to 54.243.252.9:80.\r\n",
      "HTTP request sent, awaiting response... "
     ]
    },
    {
     "name": "stdout",
     "output_type": "stream",
     "text": [
      "200 OK\r\n",
      "Length: 12150 (12K) [image/png]\r\n",
      "Saving to: ‘./MyImageFiles/Image293.png’\r\n",
      "\r\n",
      "\r",
      "Image293.png          0%[                    ]       0  --.-KB/s               \r",
      "Image293.png        100%[===================>]  11.87K  --.-KB/s    in 0s      \r\n",
      "\r\n",
      "2022-11-22 20:01:21 (37.0 MB/s) - ‘./MyImageFiles/Image293.png’ saved [12150/12150]\r\n",
      "\r\n",
      "--2022-11-22 20:01:21--  http://54.243.252.9/ce-5319-webroot/1-Databases/MaterialCracking/UT-881-image_src/Image294.png\r\n",
      "Reusing existing connection to 54.243.252.9:80.\r\n",
      "HTTP request sent, awaiting response... "
     ]
    },
    {
     "name": "stdout",
     "output_type": "stream",
     "text": [
      "200 OK\r\n",
      "Length: 15141 (15K) [image/png]\r\n",
      "Saving to: ‘./MyImageFiles/Image294.png’\r\n",
      "\r\n",
      "\r",
      "Image294.png          0%[                    ]       0  --.-KB/s               \r",
      "Image294.png        100%[===================>]  14.79K  --.-KB/s    in 0s      \r\n",
      "\r\n",
      "2022-11-22 20:01:21 (40.6 MB/s) - ‘./MyImageFiles/Image294.png’ saved [15141/15141]\r\n",
      "\r\n",
      "--2022-11-22 20:01:21--  http://54.243.252.9/ce-5319-webroot/1-Databases/MaterialCracking/UT-881-image_src/Image295.png\r\n",
      "Reusing existing connection to 54.243.252.9:80.\r\n",
      "HTTP request sent, awaiting response... "
     ]
    },
    {
     "name": "stdout",
     "output_type": "stream",
     "text": [
      "200 OK\r\n",
      "Length: 15511 (15K) [image/png]\r\n",
      "Saving to: ‘./MyImageFiles/Image295.png’\r\n",
      "\r\n",
      "\r",
      "Image295.png          0%[                    ]       0  --.-KB/s               \r",
      "Image295.png        100%[===================>]  15.15K  --.-KB/s    in 0s      \r\n",
      "\r\n",
      "2022-11-22 20:01:21 (41.4 MB/s) - ‘./MyImageFiles/Image295.png’ saved [15511/15511]\r\n",
      "\r\n",
      "--2022-11-22 20:01:21--  http://54.243.252.9/ce-5319-webroot/1-Databases/MaterialCracking/UT-881-image_src/Image296.png\r\n",
      "Reusing existing connection to 54.243.252.9:80.\r\n",
      "HTTP request sent, awaiting response... "
     ]
    },
    {
     "name": "stdout",
     "output_type": "stream",
     "text": [
      "200 OK\r\n",
      "Length: 14311 (14K) [image/png]\r\n",
      "Saving to: ‘./MyImageFiles/Image296.png’\r\n",
      "\r\n",
      "\r",
      "Image296.png          0%[                    ]       0  --.-KB/s               \r",
      "Image296.png        100%[===================>]  13.98K  --.-KB/s    in 0s      \r\n",
      "\r\n",
      "2022-11-22 20:01:21 (41.4 MB/s) - ‘./MyImageFiles/Image296.png’ saved [14311/14311]\r\n",
      "\r\n",
      "--2022-11-22 20:01:21--  http://54.243.252.9/ce-5319-webroot/1-Databases/MaterialCracking/UT-881-image_src/Image297.png\r\n",
      "Reusing existing connection to 54.243.252.9:80.\r\n",
      "HTTP request sent, awaiting response... "
     ]
    },
    {
     "name": "stdout",
     "output_type": "stream",
     "text": [
      "200 OK\r\n",
      "Length: 13821 (13K) [image/png]\r\n",
      "Saving to: ‘./MyImageFiles/Image297.png’\r\n",
      "\r\n",
      "\r",
      "Image297.png          0%[                    ]       0  --.-KB/s               \r",
      "Image297.png        100%[===================>]  13.50K  --.-KB/s    in 0s      \r\n",
      "\r\n",
      "2022-11-22 20:01:21 (38.2 MB/s) - ‘./MyImageFiles/Image297.png’ saved [13821/13821]\r\n",
      "\r\n",
      "--2022-11-22 20:01:21--  http://54.243.252.9/ce-5319-webroot/1-Databases/MaterialCracking/UT-881-image_src/Image298.png\r\n",
      "Connecting to 54.243.252.9:80... "
     ]
    },
    {
     "name": "stdout",
     "output_type": "stream",
     "text": [
      "connected.\r\n",
      "HTTP request sent, awaiting response... "
     ]
    },
    {
     "name": "stdout",
     "output_type": "stream",
     "text": [
      "200 OK\r\n",
      "Length: 13799 (13K) [image/png]\r\n",
      "Saving to: ‘./MyImageFiles/Image298.png’\r\n",
      "\r\n",
      "\r",
      "Image298.png          0%[                    ]       0  --.-KB/s               \r",
      "Image298.png        100%[===================>]  13.48K  --.-KB/s    in 0s      \r\n",
      "\r\n",
      "2022-11-22 20:01:21 (53.1 MB/s) - ‘./MyImageFiles/Image298.png’ saved [13799/13799]\r\n",
      "\r\n",
      "--2022-11-22 20:01:21--  http://54.243.252.9/ce-5319-webroot/1-Databases/MaterialCracking/UT-881-image_src/Image299.png\r\n",
      "Reusing existing connection to 54.243.252.9:80.\r\n",
      "HTTP request sent, awaiting response... "
     ]
    },
    {
     "name": "stdout",
     "output_type": "stream",
     "text": [
      "200 OK\r\n",
      "Length: 12937 (13K) [image/png]\r\n",
      "Saving to: ‘./MyImageFiles/Image299.png’\r\n",
      "\r\n",
      "\r",
      "Image299.png          0%[                    ]       0  --.-KB/s               \r",
      "Image299.png        100%[===================>]  12.63K  --.-KB/s    in 0s      \r\n",
      "\r\n",
      "2022-11-22 20:01:21 (36.0 MB/s) - ‘./MyImageFiles/Image299.png’ saved [12937/12937]\r\n",
      "\r\n",
      "--2022-11-22 20:01:21--  http://54.243.252.9/ce-5319-webroot/1-Databases/MaterialCracking/UT-881-image_src/Image300.png\r\n",
      "Reusing existing connection to 54.243.252.9:80.\r\n",
      "HTTP request sent, awaiting response... "
     ]
    },
    {
     "name": "stdout",
     "output_type": "stream",
     "text": [
      "200 OK\r\n",
      "Length: 13796 (13K) [image/png]\r\n",
      "Saving to: ‘./MyImageFiles/Image300.png’\r\n",
      "\r\n",
      "\r",
      "Image300.png          0%[                    ]       0  --.-KB/s               \r",
      "Image300.png        100%[===================>]  13.47K  --.-KB/s    in 0s      \r\n",
      "\r\n",
      "2022-11-22 20:01:21 (41.7 MB/s) - ‘./MyImageFiles/Image300.png’ saved [13796/13796]\r\n",
      "\r\n",
      "--2022-11-22 20:01:21--  http://54.243.252.9/ce-5319-webroot/1-Databases/MaterialCracking/UT-881-image_src/Image301.png\r\n",
      "Reusing existing connection to 54.243.252.9:80.\r\n",
      "HTTP request sent, awaiting response... "
     ]
    },
    {
     "name": "stdout",
     "output_type": "stream",
     "text": [
      "200 OK\r\n",
      "Length: 14643 (14K) [image/png]\r\n",
      "Saving to: ‘./MyImageFiles/Image301.png’\r\n",
      "\r\n",
      "\r",
      "Image301.png          0%[                    ]       0  --.-KB/s               \r",
      "Image301.png        100%[===================>]  14.30K  --.-KB/s    in 0s      \r\n",
      "\r\n",
      "2022-11-22 20:01:21 (39.4 MB/s) - ‘./MyImageFiles/Image301.png’ saved [14643/14643]\r\n",
      "\r\n",
      "--2022-11-22 20:01:21--  http://54.243.252.9/ce-5319-webroot/1-Databases/MaterialCracking/UT-881-image_src/Image302.png\r\n",
      "Reusing existing connection to 54.243.252.9:80.\r\n",
      "HTTP request sent, awaiting response... "
     ]
    },
    {
     "name": "stdout",
     "output_type": "stream",
     "text": [
      "200 OK\r\n",
      "Length: 11168 (11K) [image/png]\r\n",
      "Saving to: ‘./MyImageFiles/Image302.png’\r\n",
      "\r\n",
      "\r",
      "Image302.png          0%[                    ]       0  --.-KB/s               \r",
      "Image302.png        100%[===================>]  10.91K  --.-KB/s    in 0s      \r\n",
      "\r\n",
      "2022-11-22 20:01:21 (30.1 MB/s) - ‘./MyImageFiles/Image302.png’ saved [11168/11168]\r\n",
      "\r\n",
      "--2022-11-22 20:01:21--  http://54.243.252.9/ce-5319-webroot/1-Databases/MaterialCracking/UT-881-image_src/Image303.png\r\n",
      "Reusing existing connection to 54.243.252.9:80.\r\n",
      "HTTP request sent, awaiting response... "
     ]
    },
    {
     "name": "stdout",
     "output_type": "stream",
     "text": [
      "200 OK\r\n",
      "Length: 13563 (13K) [image/png]\r\n",
      "Saving to: ‘./MyImageFiles/Image303.png’\r\n",
      "\r\n",
      "\r",
      "Image303.png          0%[                    ]       0  --.-KB/s               \r",
      "Image303.png        100%[===================>]  13.25K  --.-KB/s    in 0s      \r\n",
      "\r\n",
      "2022-11-22 20:01:21 (42.0 MB/s) - ‘./MyImageFiles/Image303.png’ saved [13563/13563]\r\n",
      "\r\n",
      "--2022-11-22 20:01:21--  http://54.243.252.9/ce-5319-webroot/1-Databases/MaterialCracking/UT-881-image_src/Image304.png\r\n",
      "Reusing existing connection to 54.243.252.9:80.\r\n",
      "HTTP request sent, awaiting response... "
     ]
    },
    {
     "name": "stdout",
     "output_type": "stream",
     "text": [
      "200 OK\r\n",
      "Length: 13503 (13K) [image/png]\r\n",
      "Saving to: ‘./MyImageFiles/Image304.png’\r\n",
      "\r\n",
      "\r",
      "Image304.png          0%[                    ]       0  --.-KB/s               \r",
      "Image304.png        100%[===================>]  13.19K  --.-KB/s    in 0s      \r\n",
      "\r\n",
      "2022-11-22 20:01:21 (36.3 MB/s) - ‘./MyImageFiles/Image304.png’ saved [13503/13503]\r\n",
      "\r\n",
      "--2022-11-22 20:01:21--  http://54.243.252.9/ce-5319-webroot/1-Databases/MaterialCracking/UT-881-image_src/Image305.png\r\n",
      "Reusing existing connection to 54.243.252.9:80.\r\n",
      "HTTP request sent, awaiting response... "
     ]
    },
    {
     "name": "stdout",
     "output_type": "stream",
     "text": [
      "200 OK\r\n",
      "Length: 12580 (12K) [image/png]\r\n",
      "Saving to: ‘./MyImageFiles/Image305.png’\r\n",
      "\r\n",
      "\r",
      "Image305.png          0%[                    ]       0  --.-KB/s               \r",
      "Image305.png        100%[===================>]  12.29K  --.-KB/s    in 0s      \r\n",
      "\r\n",
      "2022-11-22 20:01:22 (31.1 MB/s) - ‘./MyImageFiles/Image305.png’ saved [12580/12580]\r\n",
      "\r\n",
      "--2022-11-22 20:01:22--  http://54.243.252.9/ce-5319-webroot/1-Databases/MaterialCracking/UT-881-image_src/Image306.png\r\n",
      "Reusing existing connection to 54.243.252.9:80.\r\n",
      "HTTP request sent, awaiting response... "
     ]
    },
    {
     "name": "stdout",
     "output_type": "stream",
     "text": [
      "200 OK\r\n",
      "Length: 14385 (14K) [image/png]\r\n",
      "Saving to: ‘./MyImageFiles/Image306.png’\r\n",
      "\r\n",
      "\r",
      "Image306.png          0%[                    ]       0  --.-KB/s               \r",
      "Image306.png        100%[===================>]  14.05K  --.-KB/s    in 0s      \r\n",
      "\r\n",
      "2022-11-22 20:01:22 (39.2 MB/s) - ‘./MyImageFiles/Image306.png’ saved [14385/14385]\r\n",
      "\r\n",
      "--2022-11-22 20:01:22--  http://54.243.252.9/ce-5319-webroot/1-Databases/MaterialCracking/UT-881-image_src/Image307.png\r\n",
      "Reusing existing connection to 54.243.252.9:80.\r\n",
      "HTTP request sent, awaiting response... "
     ]
    },
    {
     "name": "stdout",
     "output_type": "stream",
     "text": [
      "200 OK\r\n",
      "Length: 12556 (12K) [image/png]\r\n",
      "Saving to: ‘./MyImageFiles/Image307.png’\r\n",
      "\r\n",
      "\r",
      "Image307.png          0%[                    ]       0  --.-KB/s               \r",
      "Image307.png        100%[===================>]  12.26K  --.-KB/s    in 0s      \r\n",
      "\r\n",
      "2022-11-22 20:01:22 (33.3 MB/s) - ‘./MyImageFiles/Image307.png’ saved [12556/12556]\r\n",
      "\r\n",
      "--2022-11-22 20:01:22--  http://54.243.252.9/ce-5319-webroot/1-Databases/MaterialCracking/UT-881-image_src/Image308.png\r\n",
      "Reusing existing connection to 54.243.252.9:80.\r\n",
      "HTTP request sent, awaiting response... 200 OK\r\n",
      "Length: 11346 (11K) [image/png]\r\n",
      "Saving to: ‘./MyImageFiles/Image308.png’\r\n",
      "\r\n",
      "\r",
      "Image308.png          0%[                    ]       0  --.-KB/s               \r",
      "Image308.png        100%[===================>]  11.08K  --.-KB/s    in 0s      \r\n",
      "\r\n",
      "2022-11-22 20:01:22 (36.9 MB/s) - ‘./MyImageFiles/Image308.png’ saved [11346/11346]\r\n",
      "\r\n"
     ]
    },
    {
     "name": "stdout",
     "output_type": "stream",
     "text": [
      "--2022-11-22 20:01:22--  http://54.243.252.9/ce-5319-webroot/1-Databases/MaterialCracking/UT-881-image_src/Image309.png\r\n",
      "Reusing existing connection to 54.243.252.9:80.\r\n",
      "HTTP request sent, awaiting response... 200 OK\r\n",
      "Length: 13248 (13K) [image/png]\r\n",
      "Saving to: ‘./MyImageFiles/Image309.png’\r\n",
      "\r\n",
      "\r",
      "Image309.png          0%[                    ]       0  --.-KB/s               \r",
      "Image309.png        100%[===================>]  12.94K  --.-KB/s    in 0s      \r\n",
      "\r\n",
      "2022-11-22 20:01:22 (57.2 MB/s) - ‘./MyImageFiles/Image309.png’ saved [13248/13248]\r\n",
      "\r\n",
      "--2022-11-22 20:01:22--  http://54.243.252.9/ce-5319-webroot/1-Databases/MaterialCracking/UT-881-image_src/Image310.png\r\n",
      "Reusing existing connection to 54.243.252.9:80.\r\n",
      "HTTP request sent, awaiting response... "
     ]
    },
    {
     "name": "stdout",
     "output_type": "stream",
     "text": [
      "200 OK\r\n",
      "Length: 12372 (12K) [image/png]\r\n",
      "Saving to: ‘./MyImageFiles/Image310.png’\r\n",
      "\r\n",
      "\r",
      "Image310.png          0%[                    ]       0  --.-KB/s               \r",
      "Image310.png        100%[===================>]  12.08K  --.-KB/s    in 0s      \r\n",
      "\r\n",
      "2022-11-22 20:01:22 (37.7 MB/s) - ‘./MyImageFiles/Image310.png’ saved [12372/12372]\r\n",
      "\r\n",
      "--2022-11-22 20:01:22--  http://54.243.252.9/ce-5319-webroot/1-Databases/MaterialCracking/UT-881-image_src/Image311.png\r\n",
      "Reusing existing connection to 54.243.252.9:80.\r\n",
      "HTTP request sent, awaiting response... "
     ]
    },
    {
     "name": "stdout",
     "output_type": "stream",
     "text": [
      "200 OK\r\n",
      "Length: 10938 (11K) [image/png]\r\n",
      "Saving to: ‘./MyImageFiles/Image311.png’\r\n",
      "\r\n",
      "\r",
      "Image311.png          0%[                    ]       0  --.-KB/s               \r",
      "Image311.png        100%[===================>]  10.68K  --.-KB/s    in 0s      \r\n",
      "\r\n",
      "2022-11-22 20:01:22 (50.8 MB/s) - ‘./MyImageFiles/Image311.png’ saved [10938/10938]\r\n",
      "\r\n",
      "--2022-11-22 20:01:22--  http://54.243.252.9/ce-5319-webroot/1-Databases/MaterialCracking/UT-881-image_src/Image312.png\r\n",
      "Reusing existing connection to 54.243.252.9:80.\r\n",
      "HTTP request sent, awaiting response... "
     ]
    },
    {
     "name": "stdout",
     "output_type": "stream",
     "text": [
      "200 OK\r\n",
      "Length: 14759 (14K) [image/png]\r\n",
      "Saving to: ‘./MyImageFiles/Image312.png’\r\n",
      "\r\n",
      "\r",
      "Image312.png          0%[                    ]       0  --.-KB/s               \r",
      "Image312.png        100%[===================>]  14.41K  --.-KB/s    in 0s      \r\n",
      "\r\n",
      "2022-11-22 20:01:22 (59.7 MB/s) - ‘./MyImageFiles/Image312.png’ saved [14759/14759]\r\n",
      "\r\n",
      "--2022-11-22 20:01:22--  http://54.243.252.9/ce-5319-webroot/1-Databases/MaterialCracking/UT-881-image_src/Image313.png\r\n",
      "Reusing existing connection to 54.243.252.9:80.\r\n",
      "HTTP request sent, awaiting response... "
     ]
    },
    {
     "name": "stdout",
     "output_type": "stream",
     "text": [
      "200 OK\r\n",
      "Length: 14590 (14K) [image/png]\r\n",
      "Saving to: ‘./MyImageFiles/Image313.png’\r\n",
      "\r\n",
      "\r",
      "Image313.png          0%[                    ]       0  --.-KB/s               \r",
      "Image313.png        100%[===================>]  14.25K  --.-KB/s    in 0s      \r\n",
      "\r\n",
      "2022-11-22 20:01:22 (43.2 MB/s) - ‘./MyImageFiles/Image313.png’ saved [14590/14590]\r\n",
      "\r\n",
      "--2022-11-22 20:01:22--  http://54.243.252.9/ce-5319-webroot/1-Databases/MaterialCracking/UT-881-image_src/Image314.png\r\n",
      "Reusing existing connection to 54.243.252.9:80.\r\n",
      "HTTP request sent, awaiting response... "
     ]
    },
    {
     "name": "stdout",
     "output_type": "stream",
     "text": [
      "200 OK\r\n",
      "Length: 14300 (14K) [image/png]\r\n",
      "Saving to: ‘./MyImageFiles/Image314.png’\r\n",
      "\r\n",
      "\r",
      "Image314.png          0%[                    ]       0  --.-KB/s               \r",
      "Image314.png        100%[===================>]  13.96K  --.-KB/s    in 0s      \r\n",
      "\r\n",
      "2022-11-22 20:01:22 (42.5 MB/s) - ‘./MyImageFiles/Image314.png’ saved [14300/14300]\r\n",
      "\r\n",
      "--2022-11-22 20:01:22--  http://54.243.252.9/ce-5319-webroot/1-Databases/MaterialCracking/UT-881-image_src/Image315.png\r\n",
      "Reusing existing connection to 54.243.252.9:80.\r\n",
      "HTTP request sent, awaiting response... "
     ]
    },
    {
     "name": "stdout",
     "output_type": "stream",
     "text": [
      "200 OK\r\n",
      "Length: 14688 (14K) [image/png]\r\n",
      "Saving to: ‘./MyImageFiles/Image315.png’\r\n",
      "\r\n",
      "\r",
      "Image315.png          0%[                    ]       0  --.-KB/s               \r",
      "Image315.png        100%[===================>]  14.34K  --.-KB/s    in 0s      \r\n",
      "\r\n",
      "2022-11-22 20:01:22 (49.5 MB/s) - ‘./MyImageFiles/Image315.png’ saved [14688/14688]\r\n",
      "\r\n",
      "--2022-11-22 20:01:22--  http://54.243.252.9/ce-5319-webroot/1-Databases/MaterialCracking/UT-881-image_src/Image316.png\r\n",
      "Reusing existing connection to 54.243.252.9:80.\r\n",
      "HTTP request sent, awaiting response... "
     ]
    },
    {
     "name": "stdout",
     "output_type": "stream",
     "text": [
      "200 OK\r\n",
      "Length: 14382 (14K) [image/png]\r\n",
      "Saving to: ‘./MyImageFiles/Image316.png’\r\n",
      "\r\n",
      "\r",
      "Image316.png          0%[                    ]       0  --.-KB/s               \r",
      "Image316.png        100%[===================>]  14.04K  --.-KB/s    in 0s      \r\n",
      "\r\n",
      "2022-11-22 20:01:22 (53.0 MB/s) - ‘./MyImageFiles/Image316.png’ saved [14382/14382]\r\n",
      "\r\n",
      "--2022-11-22 20:01:22--  http://54.243.252.9/ce-5319-webroot/1-Databases/MaterialCracking/UT-881-image_src/Image317.png\r\n",
      "Reusing existing connection to 54.243.252.9:80.\r\n",
      "HTTP request sent, awaiting response... "
     ]
    },
    {
     "name": "stdout",
     "output_type": "stream",
     "text": [
      "200 OK\r\n",
      "Length: 15224 (15K) [image/png]\r\n",
      "Saving to: ‘./MyImageFiles/Image317.png’\r\n",
      "\r\n",
      "\r",
      "Image317.png          0%[                    ]       0  --.-KB/s               \r",
      "Image317.png        100%[===================>]  14.87K  --.-KB/s    in 0s      \r\n",
      "\r\n",
      "2022-11-22 20:01:22 (62.1 MB/s) - ‘./MyImageFiles/Image317.png’ saved [15224/15224]\r\n",
      "\r\n",
      "--2022-11-22 20:01:22--  http://54.243.252.9/ce-5319-webroot/1-Databases/MaterialCracking/UT-881-image_src/Image318.png\r\n",
      "Reusing existing connection to 54.243.252.9:80.\r\n",
      "HTTP request sent, awaiting response... "
     ]
    },
    {
     "name": "stdout",
     "output_type": "stream",
     "text": [
      "200 OK\r\n",
      "Length: 13670 (13K) [image/png]\r\n",
      "Saving to: ‘./MyImageFiles/Image318.png’\r\n",
      "\r\n",
      "\r",
      "Image318.png          0%[                    ]       0  --.-KB/s               \r",
      "Image318.png        100%[===================>]  13.35K  --.-KB/s    in 0s      \r\n",
      "\r\n",
      "2022-11-22 20:01:22 (51.5 MB/s) - ‘./MyImageFiles/Image318.png’ saved [13670/13670]\r\n",
      "\r\n",
      "--2022-11-22 20:01:22--  http://54.243.252.9/ce-5319-webroot/1-Databases/MaterialCracking/UT-881-image_src/Image319.png\r\n",
      "Reusing existing connection to 54.243.252.9:80.\r\n",
      "HTTP request sent, awaiting response... "
     ]
    },
    {
     "name": "stdout",
     "output_type": "stream",
     "text": [
      "200 OK\r\n",
      "Length: 11196 (11K) [image/png]\r\n",
      "Saving to: ‘./MyImageFiles/Image319.png’\r\n",
      "\r\n",
      "\r",
      "Image319.png          0%[                    ]       0  --.-KB/s               \r",
      "Image319.png        100%[===================>]  10.93K  --.-KB/s    in 0s      \r\n",
      "\r\n",
      "2022-11-22 20:01:22 (46.6 MB/s) - ‘./MyImageFiles/Image319.png’ saved [11196/11196]\r\n",
      "\r\n",
      "--2022-11-22 20:01:22--  http://54.243.252.9/ce-5319-webroot/1-Databases/MaterialCracking/UT-881-image_src/Image320.png\r\n",
      "Reusing existing connection to 54.243.252.9:80.\r\n",
      "HTTP request sent, awaiting response... "
     ]
    },
    {
     "name": "stdout",
     "output_type": "stream",
     "text": [
      "200 OK\r\n",
      "Length: 12975 (13K) [image/png]\r\n",
      "Saving to: ‘./MyImageFiles/Image320.png’\r\n",
      "\r\n",
      "\r",
      "Image320.png          0%[                    ]       0  --.-KB/s               \r",
      "Image320.png        100%[===================>]  12.67K  --.-KB/s    in 0s      \r\n",
      "\r\n",
      "2022-11-22 20:01:22 (54.1 MB/s) - ‘./MyImageFiles/Image320.png’ saved [12975/12975]\r\n",
      "\r\n",
      "--2022-11-22 20:01:22--  http://54.243.252.9/ce-5319-webroot/1-Databases/MaterialCracking/UT-881-image_src/Image321.png\r\n",
      "Reusing existing connection to 54.243.252.9:80.\r\n",
      "HTTP request sent, awaiting response... "
     ]
    },
    {
     "name": "stdout",
     "output_type": "stream",
     "text": [
      "200 OK\r\n",
      "Length: 14820 (14K) [image/png]\r\n",
      "Saving to: ‘./MyImageFiles/Image321.png’\r\n",
      "\r\n",
      "\r",
      "Image321.png          0%[                    ]       0  --.-KB/s               \r",
      "Image321.png        100%[===================>]  14.47K  --.-KB/s    in 0s      \r\n",
      "\r\n",
      "2022-11-22 20:01:22 (57.1 MB/s) - ‘./MyImageFiles/Image321.png’ saved [14820/14820]\r\n",
      "\r\n",
      "--2022-11-22 20:01:22--  http://54.243.252.9/ce-5319-webroot/1-Databases/MaterialCracking/UT-881-image_src/Image322.png\r\n",
      "Reusing existing connection to 54.243.252.9:80.\r\n",
      "HTTP request sent, awaiting response... "
     ]
    },
    {
     "name": "stdout",
     "output_type": "stream",
     "text": [
      "200 OK\r\n",
      "Length: 12408 (12K) [image/png]\r\n",
      "Saving to: ‘./MyImageFiles/Image322.png’\r\n",
      "\r\n",
      "\r",
      "Image322.png          0%[                    ]       0  --.-KB/s               \r",
      "Image322.png        100%[===================>]  12.12K  --.-KB/s    in 0s      \r\n",
      "\r\n",
      "2022-11-22 20:01:22 (37.2 MB/s) - ‘./MyImageFiles/Image322.png’ saved [12408/12408]\r\n",
      "\r\n",
      "--2022-11-22 20:01:22--  http://54.243.252.9/ce-5319-webroot/1-Databases/MaterialCracking/UT-881-image_src/Image323.png\r\n",
      "Reusing existing connection to 54.243.252.9:80.\r\n",
      "HTTP request sent, awaiting response... "
     ]
    },
    {
     "name": "stdout",
     "output_type": "stream",
     "text": [
      "200 OK\r\n",
      "Length: 14444 (14K) [image/png]\r\n",
      "Saving to: ‘./MyImageFiles/Image323.png’\r\n",
      "\r\n",
      "\r",
      "Image323.png          0%[                    ]       0  --.-KB/s               \r",
      "Image323.png        100%[===================>]  14.11K  --.-KB/s    in 0s      \r\n",
      "\r\n",
      "2022-11-22 20:01:22 (38.8 MB/s) - ‘./MyImageFiles/Image323.png’ saved [14444/14444]\r\n",
      "\r\n",
      "--2022-11-22 20:01:22--  http://54.243.252.9/ce-5319-webroot/1-Databases/MaterialCracking/UT-881-image_src/Image324.png\r\n",
      "Reusing existing connection to 54.243.252.9:80.\r\n",
      "HTTP request sent, awaiting response... "
     ]
    },
    {
     "name": "stdout",
     "output_type": "stream",
     "text": [
      "200 OK\r\n",
      "Length: 11831 (12K) [image/png]\r\n",
      "Saving to: ‘./MyImageFiles/Image324.png’\r\n",
      "\r\n",
      "\r",
      "Image324.png          0%[                    ]       0  --.-KB/s               \r",
      "Image324.png        100%[===================>]  11.55K  --.-KB/s    in 0s      \r\n",
      "\r\n",
      "2022-11-22 20:01:22 (53.0 MB/s) - ‘./MyImageFiles/Image324.png’ saved [11831/11831]\r\n",
      "\r\n",
      "--2022-11-22 20:01:22--  http://54.243.252.9/ce-5319-webroot/1-Databases/MaterialCracking/UT-881-image_src/Image325.png\r\n",
      "Reusing existing connection to 54.243.252.9:80.\r\n",
      "HTTP request sent, awaiting response... "
     ]
    },
    {
     "name": "stdout",
     "output_type": "stream",
     "text": [
      "200 OK\r\n",
      "Length: 14506 (14K) [image/png]\r\n",
      "Saving to: ‘./MyImageFiles/Image325.png’\r\n",
      "\r\n",
      "\r",
      "Image325.png          0%[                    ]       0  --.-KB/s               \r",
      "Image325.png        100%[===================>]  14.17K  --.-KB/s    in 0s      \r\n",
      "\r\n",
      "2022-11-22 20:01:23 (54.1 MB/s) - ‘./MyImageFiles/Image325.png’ saved [14506/14506]\r\n",
      "\r\n",
      "--2022-11-22 20:01:23--  http://54.243.252.9/ce-5319-webroot/1-Databases/MaterialCracking/UT-881-image_src/Image326.png\r\n",
      "Reusing existing connection to 54.243.252.9:80.\r\n",
      "HTTP request sent, awaiting response... "
     ]
    },
    {
     "name": "stdout",
     "output_type": "stream",
     "text": [
      "200 OK\r\n",
      "Length: 13458 (13K) [image/png]\r\n",
      "Saving to: ‘./MyImageFiles/Image326.png’\r\n",
      "\r\n",
      "\r",
      "Image326.png          0%[                    ]       0  --.-KB/s               \r",
      "Image326.png        100%[===================>]  13.14K  --.-KB/s    in 0s      \r\n",
      "\r\n",
      "2022-11-22 20:01:23 (34.4 MB/s) - ‘./MyImageFiles/Image326.png’ saved [13458/13458]\r\n",
      "\r\n",
      "--2022-11-22 20:01:23--  http://54.243.252.9/ce-5319-webroot/1-Databases/MaterialCracking/UT-881-image_src/Image327.png\r\n",
      "Reusing existing connection to 54.243.252.9:80.\r\n",
      "HTTP request sent, awaiting response... "
     ]
    },
    {
     "name": "stdout",
     "output_type": "stream",
     "text": [
      "200 OK\r\n",
      "Length: 11652 (11K) [image/png]\r\n",
      "Saving to: ‘./MyImageFiles/Image327.png’\r\n",
      "\r\n",
      "\r",
      "Image327.png          0%[                    ]       0  --.-KB/s               \r",
      "Image327.png        100%[===================>]  11.38K  --.-KB/s    in 0s      \r\n",
      "\r\n",
      "2022-11-22 20:01:23 (32.4 MB/s) - ‘./MyImageFiles/Image327.png’ saved [11652/11652]\r\n",
      "\r\n",
      "--2022-11-22 20:01:23--  http://54.243.252.9/ce-5319-webroot/1-Databases/MaterialCracking/UT-881-image_src/Image328.png\r\n",
      "Reusing existing connection to 54.243.252.9:80.\r\n",
      "HTTP request sent, awaiting response... "
     ]
    },
    {
     "name": "stdout",
     "output_type": "stream",
     "text": [
      "200 OK\r\n",
      "Length: 12585 (12K) [image/png]\r\n",
      "Saving to: ‘./MyImageFiles/Image328.png’\r\n",
      "\r\n",
      "\r",
      "Image328.png          0%[                    ]       0  --.-KB/s               \r",
      "Image328.png        100%[===================>]  12.29K  --.-KB/s    in 0s      \r\n",
      "\r\n",
      "2022-11-22 20:01:23 (35.4 MB/s) - ‘./MyImageFiles/Image328.png’ saved [12585/12585]\r\n",
      "\r\n",
      "--2022-11-22 20:01:23--  http://54.243.252.9/ce-5319-webroot/1-Databases/MaterialCracking/UT-881-image_src/Image329.png\r\n",
      "Reusing existing connection to 54.243.252.9:80.\r\n",
      "HTTP request sent, awaiting response... 200 OK\r\n",
      "Length: 11886 (12K) [image/png]\r\n",
      "Saving to: ‘./MyImageFiles/Image329.png’\r\n",
      "\r\n",
      "\r",
      "Image329.png          0%[                    ]       0  --.-KB/s               "
     ]
    },
    {
     "name": "stdout",
     "output_type": "stream",
     "text": [
      "\r",
      "Image329.png        100%[===================>]  11.61K  --.-KB/s    in 0.005s  \r\n",
      "\r\n",
      "2022-11-22 20:01:23 (2.13 MB/s) - ‘./MyImageFiles/Image329.png’ saved [11886/11886]\r\n",
      "\r\n",
      "--2022-11-22 20:01:23--  http://54.243.252.9/ce-5319-webroot/1-Databases/MaterialCracking/UT-881-image_src/Image330.png\r\n",
      "Reusing existing connection to 54.243.252.9:80.\r\n",
      "HTTP request sent, awaiting response... "
     ]
    },
    {
     "name": "stdout",
     "output_type": "stream",
     "text": [
      "200 OK\r\n",
      "Length: 14886 (15K) [image/png]\r\n",
      "Saving to: ‘./MyImageFiles/Image330.png’\r\n",
      "\r\n",
      "\r",
      "Image330.png          0%[                    ]       0  --.-KB/s               \r",
      "Image330.png        100%[===================>]  14.54K  --.-KB/s    in 0s      \r\n",
      "\r\n",
      "2022-11-22 20:01:23 (59.8 MB/s) - ‘./MyImageFiles/Image330.png’ saved [14886/14886]\r\n",
      "\r\n",
      "--2022-11-22 20:01:23--  http://54.243.252.9/ce-5319-webroot/1-Databases/MaterialCracking/UT-881-image_src/Image331.png\r\n",
      "Reusing existing connection to 54.243.252.9:80.\r\n",
      "HTTP request sent, awaiting response... 200 OK\r\n",
      "Length: 14064 (14K) [image/png]\r\n",
      "Saving to: ‘./MyImageFiles/Image331.png’\r\n",
      "\r\n",
      "\r",
      "Image331.png          0%[                    ]       0  --.-KB/s               \r",
      "Image331.png        100%[===================>]  13.73K  --.-KB/s    in 0s      \r\n",
      "\r\n",
      "2022-11-22 20:01:23 (44.1 MB/s) - ‘./MyImageFiles/Image331.png’ saved [14064/14064]\r\n",
      "\r\n",
      "--2022-11-22 20:01:23--  http://54.243.252.9/ce-5319-webroot/1-Databases/MaterialCracking/UT-881-image_src/Image332.png\r\n",
      "Reusing existing connection to 54.243.252.9:80.\r\n",
      "HTTP request sent, awaiting response... "
     ]
    },
    {
     "name": "stdout",
     "output_type": "stream",
     "text": [
      "200 OK\r\n",
      "Length: 12886 (13K) [image/png]\r\n",
      "Saving to: ‘./MyImageFiles/Image332.png’\r\n",
      "\r\n",
      "\r",
      "Image332.png          0%[                    ]       0  --.-KB/s               \r",
      "Image332.png        100%[===================>]  12.58K  --.-KB/s    in 0s      \r\n",
      "\r\n",
      "2022-11-22 20:01:23 (36.5 MB/s) - ‘./MyImageFiles/Image332.png’ saved [12886/12886]\r\n",
      "\r\n",
      "--2022-11-22 20:01:23--  http://54.243.252.9/ce-5319-webroot/1-Databases/MaterialCracking/UT-881-image_src/Image333.png\r\n",
      "Reusing existing connection to 54.243.252.9:80.\r\n",
      "HTTP request sent, awaiting response... "
     ]
    },
    {
     "name": "stdout",
     "output_type": "stream",
     "text": [
      "200 OK\r\n",
      "Length: 14441 (14K) [image/png]\r\n",
      "Saving to: ‘./MyImageFiles/Image333.png’\r\n",
      "\r\n",
      "\r",
      "Image333.png          0%[                    ]       0  --.-KB/s               \r",
      "Image333.png        100%[===================>]  14.10K  --.-KB/s    in 0s      \r\n",
      "\r\n",
      "2022-11-22 20:01:23 (49.1 MB/s) - ‘./MyImageFiles/Image333.png’ saved [14441/14441]\r\n",
      "\r\n",
      "--2022-11-22 20:01:23--  http://54.243.252.9/ce-5319-webroot/1-Databases/MaterialCracking/UT-881-image_src/Image334.png\r\n",
      "Reusing existing connection to 54.243.252.9:80.\r\n",
      "HTTP request sent, awaiting response... "
     ]
    },
    {
     "name": "stdout",
     "output_type": "stream",
     "text": [
      "200 OK\r\n",
      "Length: 12612 (12K) [image/png]\r\n",
      "Saving to: ‘./MyImageFiles/Image334.png’\r\n",
      "\r\n",
      "\r",
      "Image334.png          0%[                    ]       0  --.-KB/s               \r",
      "Image334.png        100%[===================>]  12.32K  --.-KB/s    in 0s      \r\n",
      "\r\n",
      "2022-11-22 20:01:23 (28.5 MB/s) - ‘./MyImageFiles/Image334.png’ saved [12612/12612]\r\n",
      "\r\n",
      "--2022-11-22 20:01:23--  http://54.243.252.9/ce-5319-webroot/1-Databases/MaterialCracking/UT-881-image_src/Image335.png\r\n",
      "Reusing existing connection to 54.243.252.9:80.\r\n",
      "HTTP request sent, awaiting response... "
     ]
    },
    {
     "name": "stdout",
     "output_type": "stream",
     "text": [
      "200 OK\r\n",
      "Length: 14418 (14K) [image/png]\r\n",
      "Saving to: ‘./MyImageFiles/Image335.png’\r\n",
      "\r\n",
      "\r",
      "Image335.png          0%[                    ]       0  --.-KB/s               \r",
      "Image335.png        100%[===================>]  14.08K  --.-KB/s    in 0s      \r\n",
      "\r\n",
      "2022-11-22 20:01:23 (58.1 MB/s) - ‘./MyImageFiles/Image335.png’ saved [14418/14418]\r\n",
      "\r\n",
      "--2022-11-22 20:01:23--  http://54.243.252.9/ce-5319-webroot/1-Databases/MaterialCracking/UT-881-image_src/Image336.png\r\n",
      "Reusing existing connection to 54.243.252.9:80.\r\n",
      "HTTP request sent, awaiting response... "
     ]
    },
    {
     "name": "stdout",
     "output_type": "stream",
     "text": [
      "200 OK\r\n",
      "Length: 15158 (15K) [image/png]\r\n",
      "Saving to: ‘./MyImageFiles/Image336.png’\r\n",
      "\r\n",
      "\r",
      "Image336.png          0%[                    ]       0  --.-KB/s               \r",
      "Image336.png        100%[===================>]  14.80K  --.-KB/s    in 0s      \r\n",
      "\r\n",
      "2022-11-22 20:01:23 (41.2 MB/s) - ‘./MyImageFiles/Image336.png’ saved [15158/15158]\r\n",
      "\r\n",
      "--2022-11-22 20:01:23--  http://54.243.252.9/ce-5319-webroot/1-Databases/MaterialCracking/UT-881-image_src/Image337.png\r\n",
      "Reusing existing connection to 54.243.252.9:80.\r\n",
      "HTTP request sent, awaiting response... "
     ]
    },
    {
     "name": "stdout",
     "output_type": "stream",
     "text": [
      "200 OK\r\n",
      "Length: 13832 (14K) [image/png]\r\n",
      "Saving to: ‘./MyImageFiles/Image337.png’\r\n",
      "\r\n",
      "\r",
      "Image337.png          0%[                    ]       0  --.-KB/s               \r",
      "Image337.png        100%[===================>]  13.51K  --.-KB/s    in 0s      \r\n",
      "\r\n",
      "2022-11-22 20:01:23 (40.8 MB/s) - ‘./MyImageFiles/Image337.png’ saved [13832/13832]\r\n",
      "\r\n",
      "--2022-11-22 20:01:23--  http://54.243.252.9/ce-5319-webroot/1-Databases/MaterialCracking/UT-881-image_src/Image338.png\r\n",
      "Reusing existing connection to 54.243.252.9:80.\r\n",
      "HTTP request sent, awaiting response... "
     ]
    },
    {
     "name": "stdout",
     "output_type": "stream",
     "text": [
      "200 OK\r\n",
      "Length: 9738 (9.5K) [image/png]\r\n",
      "Saving to: ‘./MyImageFiles/Image338.png’\r\n",
      "\r\n",
      "\r",
      "Image338.png          0%[                    ]       0  --.-KB/s               \r",
      "Image338.png        100%[===================>]   9.51K  --.-KB/s    in 0s      \r\n",
      "\r\n",
      "2022-11-22 20:01:23 (38.9 MB/s) - ‘./MyImageFiles/Image338.png’ saved [9738/9738]\r\n",
      "\r\n",
      "--2022-11-22 20:01:23--  http://54.243.252.9/ce-5319-webroot/1-Databases/MaterialCracking/UT-881-image_src/Image339.png\r\n",
      "Reusing existing connection to 54.243.252.9:80.\r\n",
      "HTTP request sent, awaiting response... "
     ]
    },
    {
     "name": "stdout",
     "output_type": "stream",
     "text": [
      "200 OK\r\n",
      "Length: 13593 (13K) [image/png]\r\n",
      "Saving to: ‘./MyImageFiles/Image339.png’\r\n",
      "\r\n",
      "\r",
      "Image339.png          0%[                    ]       0  --.-KB/s               \r",
      "Image339.png        100%[===================>]  13.27K  --.-KB/s    in 0s      \r\n",
      "\r\n",
      "2022-11-22 20:01:23 (39.8 MB/s) - ‘./MyImageFiles/Image339.png’ saved [13593/13593]\r\n",
      "\r\n",
      "--2022-11-22 20:01:23--  http://54.243.252.9/ce-5319-webroot/1-Databases/MaterialCracking/UT-881-image_src/Image340.png\r\n",
      "Reusing existing connection to 54.243.252.9:80.\r\n",
      "HTTP request sent, awaiting response... "
     ]
    },
    {
     "name": "stdout",
     "output_type": "stream",
     "text": [
      "200 OK\r\n",
      "Length: 15136 (15K) [image/png]\r\n",
      "Saving to: ‘./MyImageFiles/Image340.png’\r\n",
      "\r\n",
      "\r",
      "Image340.png          0%[                    ]       0  --.-KB/s               \r",
      "Image340.png        100%[===================>]  14.78K  --.-KB/s    in 0s      \r\n",
      "\r\n",
      "2022-11-22 20:01:23 (58.9 MB/s) - ‘./MyImageFiles/Image340.png’ saved [15136/15136]\r\n",
      "\r\n",
      "--2022-11-22 20:01:23--  http://54.243.252.9/ce-5319-webroot/1-Databases/MaterialCracking/UT-881-image_src/Image341.png\r\n",
      "Reusing existing connection to 54.243.252.9:80.\r\n",
      "HTTP request sent, awaiting response... "
     ]
    },
    {
     "name": "stdout",
     "output_type": "stream",
     "text": [
      "200 OK\r\n",
      "Length: 14656 (14K) [image/png]\r\n",
      "Saving to: ‘./MyImageFiles/Image341.png’\r\n",
      "\r\n",
      "\r",
      "Image341.png          0%[                    ]       0  --.-KB/s               \r",
      "Image341.png        100%[===================>]  14.31K  --.-KB/s    in 0s      \r\n",
      "\r\n",
      "2022-11-22 20:01:23 (46.3 MB/s) - ‘./MyImageFiles/Image341.png’ saved [14656/14656]\r\n",
      "\r\n",
      "--2022-11-22 20:01:23--  http://54.243.252.9/ce-5319-webroot/1-Databases/MaterialCracking/UT-881-image_src/Image342.png\r\n",
      "Reusing existing connection to 54.243.252.9:80.\r\n",
      "HTTP request sent, awaiting response... "
     ]
    },
    {
     "name": "stdout",
     "output_type": "stream",
     "text": [
      "200 OK\r\n",
      "Length: 12394 (12K) [image/png]\r\n",
      "Saving to: ‘./MyImageFiles/Image342.png’\r\n",
      "\r\n",
      "\r",
      "Image342.png          0%[                    ]       0  --.-KB/s               \r",
      "Image342.png        100%[===================>]  12.10K  --.-KB/s    in 0s      \r\n",
      "\r\n",
      "2022-11-22 20:01:23 (52.8 MB/s) - ‘./MyImageFiles/Image342.png’ saved [12394/12394]\r\n",
      "\r\n",
      "--2022-11-22 20:01:23--  http://54.243.252.9/ce-5319-webroot/1-Databases/MaterialCracking/UT-881-image_src/Image343.png\r\n",
      "Reusing existing connection to 54.243.252.9:80.\r\n",
      "HTTP request sent, awaiting response... "
     ]
    },
    {
     "name": "stdout",
     "output_type": "stream",
     "text": [
      "200 OK\r\n",
      "Length: 14324 (14K) [image/png]\r\n",
      "Saving to: ‘./MyImageFiles/Image343.png’\r\n",
      "\r\n",
      "\r",
      "Image343.png          0%[                    ]       0  --.-KB/s               \r",
      "Image343.png        100%[===================>]  13.99K  --.-KB/s    in 0s      \r\n",
      "\r\n",
      "2022-11-22 20:01:23 (45.2 MB/s) - ‘./MyImageFiles/Image343.png’ saved [14324/14324]\r\n",
      "\r\n",
      "--2022-11-22 20:01:23--  http://54.243.252.9/ce-5319-webroot/1-Databases/MaterialCracking/UT-881-image_src/Image344.png\r\n",
      "Reusing existing connection to 54.243.252.9:80.\r\n",
      "HTTP request sent, awaiting response... "
     ]
    },
    {
     "name": "stdout",
     "output_type": "stream",
     "text": [
      "200 OK\r\n",
      "Length: 11842 (12K) [image/png]\r\n",
      "Saving to: ‘./MyImageFiles/Image344.png’\r\n",
      "\r\n",
      "\r",
      "Image344.png          0%[                    ]       0  --.-KB/s               \r",
      "Image344.png        100%[===================>]  11.56K  --.-KB/s    in 0s      \r\n",
      "\r\n",
      "2022-11-22 20:01:23 (32.5 MB/s) - ‘./MyImageFiles/Image344.png’ saved [11842/11842]\r\n",
      "\r\n",
      "--2022-11-22 20:01:23--  http://54.243.252.9/ce-5319-webroot/1-Databases/MaterialCracking/UT-881-image_src/Image345.png\r\n",
      "Reusing existing connection to 54.243.252.9:80.\r\n",
      "HTTP request sent, awaiting response... "
     ]
    },
    {
     "name": "stdout",
     "output_type": "stream",
     "text": [
      "200 OK\r\n",
      "Length: 14881 (15K) [image/png]\r\n",
      "Saving to: ‘./MyImageFiles/Image345.png’\r\n",
      "\r\n",
      "\r",
      "Image345.png          0%[                    ]       0  --.-KB/s               \r",
      "Image345.png        100%[===================>]  14.53K  --.-KB/s    in 0s      \r\n",
      "\r\n",
      "2022-11-22 20:01:24 (42.8 MB/s) - ‘./MyImageFiles/Image345.png’ saved [14881/14881]\r\n",
      "\r\n",
      "--2022-11-22 20:01:24--  http://54.243.252.9/ce-5319-webroot/1-Databases/MaterialCracking/UT-881-image_src/Image346.png\r\n",
      "Reusing existing connection to 54.243.252.9:80.\r\n",
      "HTTP request sent, awaiting response... 200 OK\r\n",
      "Length: 9822 (9.6K) [image/png]\r\n",
      "Saving to: ‘./MyImageFiles/Image346.png’\r\n",
      "\r\n",
      "\r",
      "Image346.png          0%[                    ]       0  --.-KB/s               "
     ]
    },
    {
     "name": "stdout",
     "output_type": "stream",
     "text": [
      "\r",
      "Image346.png        100%[===================>]   9.59K  --.-KB/s    in 0s      \r\n",
      "\r\n",
      "2022-11-22 20:01:24 (31.3 MB/s) - ‘./MyImageFiles/Image346.png’ saved [9822/9822]\r\n",
      "\r\n",
      "--2022-11-22 20:01:24--  http://54.243.252.9/ce-5319-webroot/1-Databases/MaterialCracking/UT-881-image_src/Image347.png\r\n",
      "Reusing existing connection to 54.243.252.9:80.\r\n",
      "HTTP request sent, awaiting response... 200 OK\r\n",
      "Length: 9385 (9.2K) [image/png]\r\n",
      "Saving to: ‘./MyImageFiles/Image347.png’\r\n",
      "\r\n",
      "\r",
      "Image347.png          0%[                    ]       0  --.-KB/s               \r",
      "Image347.png        100%[===================>]   9.17K  --.-KB/s    in 0s      \r\n",
      "\r\n",
      "2022-11-22 20:01:24 (34.6 MB/s) - ‘./MyImageFiles/Image347.png’ saved [9385/9385]\r\n",
      "\r\n",
      "--2022-11-22 20:01:24--  http://54.243.252.9/ce-5319-webroot/1-Databases/MaterialCracking/UT-881-image_src/Image348.png\r\n",
      "Reusing existing connection to 54.243.252.9:80.\r\n",
      "HTTP request sent, awaiting response... "
     ]
    },
    {
     "name": "stdout",
     "output_type": "stream",
     "text": [
      "200 OK\r\n",
      "Length: 14408 (14K) [image/png]\r\n",
      "Saving to: ‘./MyImageFiles/Image348.png’\r\n",
      "\r\n",
      "\r",
      "Image348.png          0%[                    ]       0  --.-KB/s               \r",
      "Image348.png        100%[===================>]  14.07K  --.-KB/s    in 0s      \r\n",
      "\r\n",
      "2022-11-22 20:01:24 (39.5 MB/s) - ‘./MyImageFiles/Image348.png’ saved [14408/14408]\r\n",
      "\r\n",
      "--2022-11-22 20:01:24--  http://54.243.252.9/ce-5319-webroot/1-Databases/MaterialCracking/UT-881-image_src/Image349.png\r\n",
      "Reusing existing connection to 54.243.252.9:80.\r\n",
      "HTTP request sent, awaiting response... "
     ]
    },
    {
     "name": "stdout",
     "output_type": "stream",
     "text": [
      "200 OK\r\n",
      "Length: 12830 (13K) [image/png]\r\n",
      "Saving to: ‘./MyImageFiles/Image349.png’\r\n",
      "\r\n",
      "\r",
      "Image349.png          0%[                    ]       0  --.-KB/s               \r",
      "Image349.png        100%[===================>]  12.53K  --.-KB/s    in 0s      \r\n",
      "\r\n",
      "2022-11-22 20:01:24 (41.3 MB/s) - ‘./MyImageFiles/Image349.png’ saved [12830/12830]\r\n",
      "\r\n",
      "--2022-11-22 20:01:24--  http://54.243.252.9/ce-5319-webroot/1-Databases/MaterialCracking/UT-881-image_src/Image350.png\r\n",
      "Reusing existing connection to 54.243.252.9:80.\r\n",
      "HTTP request sent, awaiting response... "
     ]
    },
    {
     "name": "stdout",
     "output_type": "stream",
     "text": [
      "200 OK\r\n",
      "Length: 9166 (9.0K) [image/png]\r\n",
      "Saving to: ‘./MyImageFiles/Image350.png’\r\n",
      "\r\n",
      "\r",
      "Image350.png          0%[                    ]       0  --.-KB/s               \r",
      "Image350.png        100%[===================>]   8.95K  --.-KB/s    in 0s      \r\n",
      "\r\n",
      "2022-11-22 20:01:24 (31.1 MB/s) - ‘./MyImageFiles/Image350.png’ saved [9166/9166]\r\n",
      "\r\n",
      "--2022-11-22 20:01:24--  http://54.243.252.9/ce-5319-webroot/1-Databases/MaterialCracking/UT-881-image_src/Image351.png\r\n",
      "Reusing existing connection to 54.243.252.9:80.\r\n",
      "HTTP request sent, awaiting response... "
     ]
    },
    {
     "name": "stdout",
     "output_type": "stream",
     "text": [
      "200 OK\r\n",
      "Length: 14710 (14K) [image/png]\r\n",
      "Saving to: ‘./MyImageFiles/Image351.png’\r\n",
      "\r\n",
      "\r",
      "Image351.png          0%[                    ]       0  --.-KB/s               \r",
      "Image351.png        100%[===================>]  14.37K  --.-KB/s    in 0s      \r\n",
      "\r\n",
      "2022-11-22 20:01:24 (40.6 MB/s) - ‘./MyImageFiles/Image351.png’ saved [14710/14710]\r\n",
      "\r\n",
      "--2022-11-22 20:01:24--  http://54.243.252.9/ce-5319-webroot/1-Databases/MaterialCracking/UT-881-image_src/Image352.png\r\n",
      "Reusing existing connection to 54.243.252.9:80.\r\n",
      "HTTP request sent, awaiting response... "
     ]
    },
    {
     "name": "stdout",
     "output_type": "stream",
     "text": [
      "200 OK\r\n",
      "Length: 12845 (13K) [image/png]\r\n",
      "Saving to: ‘./MyImageFiles/Image352.png’\r\n",
      "\r\n",
      "\r",
      "Image352.png          0%[                    ]       0  --.-KB/s               \r",
      "Image352.png        100%[===================>]  12.54K  --.-KB/s    in 0s      \r\n",
      "\r\n",
      "2022-11-22 20:01:24 (39.3 MB/s) - ‘./MyImageFiles/Image352.png’ saved [12845/12845]\r\n",
      "\r\n",
      "--2022-11-22 20:01:24--  http://54.243.252.9/ce-5319-webroot/1-Databases/MaterialCracking/UT-881-image_src/Image353.png\r\n",
      "Reusing existing connection to 54.243.252.9:80.\r\n",
      "HTTP request sent, awaiting response... "
     ]
    },
    {
     "name": "stdout",
     "output_type": "stream",
     "text": [
      "200 OK\r\n",
      "Length: 14798 (14K) [image/png]\r\n",
      "Saving to: ‘./MyImageFiles/Image353.png’\r\n",
      "\r\n",
      "\r",
      "Image353.png          0%[                    ]       0  --.-KB/s               \r",
      "Image353.png        100%[===================>]  14.45K  --.-KB/s    in 0s      \r\n",
      "\r\n",
      "2022-11-22 20:01:24 (59.3 MB/s) - ‘./MyImageFiles/Image353.png’ saved [14798/14798]\r\n",
      "\r\n",
      "--2022-11-22 20:01:24--  http://54.243.252.9/ce-5319-webroot/1-Databases/MaterialCracking/UT-881-image_src/Image354.png\r\n",
      "Reusing existing connection to 54.243.252.9:80.\r\n",
      "HTTP request sent, awaiting response... "
     ]
    },
    {
     "name": "stdout",
     "output_type": "stream",
     "text": [
      "200 OK\r\n",
      "Length: 11112 (11K) [image/png]\r\n",
      "Saving to: ‘./MyImageFiles/Image354.png’\r\n",
      "\r\n",
      "\r",
      "Image354.png          0%[                    ]       0  --.-KB/s               \r",
      "Image354.png        100%[===================>]  10.85K  --.-KB/s    in 0s      \r\n",
      "\r\n",
      "2022-11-22 20:01:24 (30.7 MB/s) - ‘./MyImageFiles/Image354.png’ saved [11112/11112]\r\n",
      "\r\n",
      "--2022-11-22 20:01:24--  http://54.243.252.9/ce-5319-webroot/1-Databases/MaterialCracking/UT-881-image_src/Image355.png\r\n",
      "Reusing existing connection to 54.243.252.9:80.\r\n",
      "HTTP request sent, awaiting response... "
     ]
    },
    {
     "name": "stdout",
     "output_type": "stream",
     "text": [
      "200 OK\r\n",
      "Length: 8570 (8.4K) [image/png]\r\n",
      "Saving to: ‘./MyImageFiles/Image355.png’\r\n",
      "\r\n",
      "\r",
      "Image355.png          0%[                    ]       0  --.-KB/s               \r",
      "Image355.png        100%[===================>]   8.37K  --.-KB/s    in 0s      \r\n",
      "\r\n",
      "2022-11-22 20:01:24 (33.9 MB/s) - ‘./MyImageFiles/Image355.png’ saved [8570/8570]\r\n",
      "\r\n",
      "--2022-11-22 20:01:24--  http://54.243.252.9/ce-5319-webroot/1-Databases/MaterialCracking/UT-881-image_src/Image356.png\r\n",
      "Reusing existing connection to 54.243.252.9:80.\r\n",
      "HTTP request sent, awaiting response... "
     ]
    },
    {
     "name": "stdout",
     "output_type": "stream",
     "text": [
      "200 OK\r\n",
      "Length: 13676 (13K) [image/png]\r\n",
      "Saving to: ‘./MyImageFiles/Image356.png’\r\n",
      "\r\n",
      "\r",
      "Image356.png          0%[                    ]       0  --.-KB/s               \r",
      "Image356.png        100%[===================>]  13.36K  --.-KB/s    in 0s      \r\n",
      "\r\n",
      "2022-11-22 20:01:24 (50.0 MB/s) - ‘./MyImageFiles/Image356.png’ saved [13676/13676]\r\n",
      "\r\n",
      "--2022-11-22 20:01:24--  http://54.243.252.9/ce-5319-webroot/1-Databases/MaterialCracking/UT-881-image_src/Image357.png\r\n",
      "Reusing existing connection to 54.243.252.9:80.\r\n",
      "HTTP request sent, awaiting response... "
     ]
    },
    {
     "name": "stdout",
     "output_type": "stream",
     "text": [
      "200 OK\r\n",
      "Length: 14646 (14K) [image/png]\r\n",
      "Saving to: ‘./MyImageFiles/Image357.png’\r\n",
      "\r\n",
      "\r",
      "Image357.png          0%[                    ]       0  --.-KB/s               \r",
      "Image357.png        100%[===================>]  14.30K  --.-KB/s    in 0s      \r\n",
      "\r\n",
      "2022-11-22 20:01:24 (41.1 MB/s) - ‘./MyImageFiles/Image357.png’ saved [14646/14646]\r\n",
      "\r\n",
      "--2022-11-22 20:01:24--  http://54.243.252.9/ce-5319-webroot/1-Databases/MaterialCracking/UT-881-image_src/Image358.png\r\n",
      "Reusing existing connection to 54.243.252.9:80.\r\n",
      "HTTP request sent, awaiting response... "
     ]
    },
    {
     "name": "stdout",
     "output_type": "stream",
     "text": [
      "200 OK\r\n",
      "Length: 10879 (11K) [image/png]\r\n",
      "Saving to: ‘./MyImageFiles/Image358.png’\r\n",
      "\r\n",
      "\r",
      "Image358.png          0%[                    ]       0  --.-KB/s               \r",
      "Image358.png        100%[===================>]  10.62K  --.-KB/s    in 0s      \r\n",
      "\r\n",
      "2022-11-22 20:01:24 (41.4 MB/s) - ‘./MyImageFiles/Image358.png’ saved [10879/10879]\r\n",
      "\r\n",
      "--2022-11-22 20:01:24--  http://54.243.252.9/ce-5319-webroot/1-Databases/MaterialCracking/UT-881-image_src/Image359.png\r\n",
      "Reusing existing connection to 54.243.252.9:80.\r\n",
      "HTTP request sent, awaiting response... "
     ]
    },
    {
     "name": "stdout",
     "output_type": "stream",
     "text": [
      "200 OK\r\n",
      "Length: 14851 (15K) [image/png]\r\n",
      "Saving to: ‘./MyImageFiles/Image359.png’\r\n",
      "\r\n",
      "\r",
      "Image359.png          0%[                    ]       0  --.-KB/s               \r",
      "Image359.png        100%[===================>]  14.50K  --.-KB/s    in 0s      \r\n",
      "\r\n",
      "2022-11-22 20:01:24 (39.0 MB/s) - ‘./MyImageFiles/Image359.png’ saved [14851/14851]\r\n",
      "\r\n",
      "--2022-11-22 20:01:24--  http://54.243.252.9/ce-5319-webroot/1-Databases/MaterialCracking/UT-881-image_src/Image360.png\r\n",
      "Reusing existing connection to 54.243.252.9:80.\r\n",
      "HTTP request sent, awaiting response... "
     ]
    },
    {
     "name": "stdout",
     "output_type": "stream",
     "text": [
      "200 OK\r\n",
      "Length: 13168 (13K) [image/png]\r\n",
      "Saving to: ‘./MyImageFiles/Image360.png’\r\n",
      "\r\n",
      "\r",
      "Image360.png          0%[                    ]       0  --.-KB/s               \r",
      "Image360.png        100%[===================>]  12.86K  --.-KB/s    in 0s      \r\n",
      "\r\n",
      "2022-11-22 20:01:24 (47.0 MB/s) - ‘./MyImageFiles/Image360.png’ saved [13168/13168]\r\n",
      "\r\n",
      "--2022-11-22 20:01:24--  http://54.243.252.9/ce-5319-webroot/1-Databases/MaterialCracking/UT-881-image_src/Image361.png\r\n",
      "Reusing existing connection to 54.243.252.9:80.\r\n",
      "HTTP request sent, awaiting response... "
     ]
    },
    {
     "name": "stdout",
     "output_type": "stream",
     "text": [
      "200 OK\r\n",
      "Length: 14910 (15K) [image/png]\r\n",
      "Saving to: ‘./MyImageFiles/Image361.png’\r\n",
      "\r\n",
      "\r",
      "Image361.png          0%[                    ]       0  --.-KB/s               \r",
      "Image361.png        100%[===================>]  14.56K  --.-KB/s    in 0s      \r\n",
      "\r\n",
      "2022-11-22 20:01:24 (58.7 MB/s) - ‘./MyImageFiles/Image361.png’ saved [14910/14910]\r\n",
      "\r\n",
      "--2022-11-22 20:01:24--  http://54.243.252.9/ce-5319-webroot/1-Databases/MaterialCracking/UT-881-image_src/Image362.png\r\n",
      "Reusing existing connection to 54.243.252.9:80.\r\n",
      "HTTP request sent, awaiting response... "
     ]
    },
    {
     "name": "stdout",
     "output_type": "stream",
     "text": [
      "200 OK\r\n",
      "Length: 12954 (13K) [image/png]\r\n",
      "Saving to: ‘./MyImageFiles/Image362.png’\r\n",
      "\r\n",
      "\r",
      "Image362.png          0%[                    ]       0  --.-KB/s               \r",
      "Image362.png        100%[===================>]  12.65K  --.-KB/s    in 0s      \r\n",
      "\r\n",
      "2022-11-22 20:01:24 (44.2 MB/s) - ‘./MyImageFiles/Image362.png’ saved [12954/12954]\r\n",
      "\r\n",
      "--2022-11-22 20:01:24--  http://54.243.252.9/ce-5319-webroot/1-Databases/MaterialCracking/UT-881-image_src/Image363.png\r\n",
      "Reusing existing connection to 54.243.252.9:80.\r\n",
      "HTTP request sent, awaiting response... "
     ]
    },
    {
     "name": "stdout",
     "output_type": "stream",
     "text": [
      "200 OK\r\n",
      "Length: 12832 (13K) [image/png]\r\n",
      "Saving to: ‘./MyImageFiles/Image363.png’\r\n",
      "\r\n",
      "\r",
      "Image363.png          0%[                    ]       0  --.-KB/s               \r",
      "Image363.png        100%[===================>]  12.53K  --.-KB/s    in 0s      \r\n",
      "\r\n",
      "2022-11-22 20:01:24 (44.2 MB/s) - ‘./MyImageFiles/Image363.png’ saved [12832/12832]\r\n",
      "\r\n",
      "--2022-11-22 20:01:24--  http://54.243.252.9/ce-5319-webroot/1-Databases/MaterialCracking/UT-881-image_src/Image364.png\r\n",
      "Reusing existing connection to 54.243.252.9:80.\r\n",
      "HTTP request sent, awaiting response... "
     ]
    },
    {
     "name": "stdout",
     "output_type": "stream",
     "text": [
      "200 OK\r\n",
      "Length: 14762 (14K) [image/png]\r\n",
      "Saving to: ‘./MyImageFiles/Image364.png’\r\n",
      "\r\n",
      "\r",
      "Image364.png          0%[                    ]       0  --.-KB/s               \r",
      "Image364.png        100%[===================>]  14.42K  --.-KB/s    in 0s      \r\n",
      "\r\n",
      "2022-11-22 20:01:24 (32.7 MB/s) - ‘./MyImageFiles/Image364.png’ saved [14762/14762]\r\n",
      "\r\n",
      "--2022-11-22 20:01:24--  http://54.243.252.9/ce-5319-webroot/1-Databases/MaterialCracking/UT-881-image_src/Image365.png\r\n",
      "Reusing existing connection to 54.243.252.9:80.\r\n",
      "HTTP request sent, awaiting response... "
     ]
    },
    {
     "name": "stdout",
     "output_type": "stream",
     "text": [
      "200 OK\r\n",
      "Length: 11935 (12K) [image/png]\r\n",
      "Saving to: ‘./MyImageFiles/Image365.png’\r\n",
      "\r\n",
      "\r",
      "Image365.png          0%[                    ]       0  --.-KB/s               \r",
      "Image365.png        100%[===================>]  11.66K  --.-KB/s    in 0s      \r\n",
      "\r\n",
      "2022-11-22 20:01:25 (35.5 MB/s) - ‘./MyImageFiles/Image365.png’ saved [11935/11935]\r\n",
      "\r\n",
      "--2022-11-22 20:01:25--  http://54.243.252.9/ce-5319-webroot/1-Databases/MaterialCracking/UT-881-image_src/Image366.png\r\n",
      "Reusing existing connection to 54.243.252.9:80.\r\n",
      "HTTP request sent, awaiting response... "
     ]
    },
    {
     "name": "stdout",
     "output_type": "stream",
     "text": [
      "200 OK\r\n",
      "Length: 10582 (10K) [image/png]\r\n",
      "Saving to: ‘./MyImageFiles/Image366.png’\r\n",
      "\r\n",
      "\r",
      "Image366.png          0%[                    ]       0  --.-KB/s               \r",
      "Image366.png        100%[===================>]  10.33K  --.-KB/s    in 0s      \r\n",
      "\r\n",
      "2022-11-22 20:01:25 (31.8 MB/s) - ‘./MyImageFiles/Image366.png’ saved [10582/10582]\r\n",
      "\r\n",
      "--2022-11-22 20:01:25--  http://54.243.252.9/ce-5319-webroot/1-Databases/MaterialCracking/UT-881-image_src/Image367.png\r\n",
      "Reusing existing connection to 54.243.252.9:80.\r\n",
      "HTTP request sent, awaiting response... 200 OK\r\n",
      "Length: 10281 (10K) [image/png]\r\n",
      "Saving to: ‘./MyImageFiles/Image367.png’\r\n",
      "\r\n",
      "\r",
      "Image367.png          0%[                    ]       0  --.-KB/s               "
     ]
    },
    {
     "name": "stdout",
     "output_type": "stream",
     "text": [
      "\r",
      "Image367.png        100%[===================>]  10.04K  --.-KB/s    in 0s      \r\n",
      "\r\n",
      "2022-11-22 20:01:25 (28.9 MB/s) - ‘./MyImageFiles/Image367.png’ saved [10281/10281]\r\n",
      "\r\n",
      "--2022-11-22 20:01:25--  http://54.243.252.9/ce-5319-webroot/1-Databases/MaterialCracking/UT-881-image_src/Image368.png\r\n",
      "Reusing existing connection to 54.243.252.9:80.\r\n",
      "HTTP request sent, awaiting response... "
     ]
    },
    {
     "name": "stdout",
     "output_type": "stream",
     "text": [
      "200 OK\r\n",
      "Length: 14506 (14K) [image/png]\r\n",
      "Saving to: ‘./MyImageFiles/Image368.png’\r\n",
      "\r\n",
      "\r",
      "Image368.png          0%[                    ]       0  --.-KB/s               \r",
      "Image368.png        100%[===================>]  14.17K  --.-KB/s    in 0s      \r\n",
      "\r\n",
      "2022-11-22 20:01:25 (52.5 MB/s) - ‘./MyImageFiles/Image368.png’ saved [14506/14506]\r\n",
      "\r\n",
      "--2022-11-22 20:01:25--  http://54.243.252.9/ce-5319-webroot/1-Databases/MaterialCracking/UT-881-image_src/Image369.png\r\n",
      "Reusing existing connection to 54.243.252.9:80.\r\n",
      "HTTP request sent, awaiting response... "
     ]
    },
    {
     "name": "stdout",
     "output_type": "stream",
     "text": [
      "200 OK\r\n",
      "Length: 12250 (12K) [image/png]\r\n",
      "Saving to: ‘./MyImageFiles/Image369.png’\r\n",
      "\r\n",
      "\r",
      "Image369.png          0%[                    ]       0  --.-KB/s               \r",
      "Image369.png        100%[===================>]  11.96K  --.-KB/s    in 0s      \r\n",
      "\r\n",
      "2022-11-22 20:01:25 (62.5 MB/s) - ‘./MyImageFiles/Image369.png’ saved [12250/12250]\r\n",
      "\r\n",
      "--2022-11-22 20:01:25--  http://54.243.252.9/ce-5319-webroot/1-Databases/MaterialCracking/UT-881-image_src/Image370.png\r\n",
      "Reusing existing connection to 54.243.252.9:80.\r\n",
      "HTTP request sent, awaiting response... 200 OK\r\n",
      "Length: 12526 (12K) [image/png]\r\n",
      "Saving to: ‘./MyImageFiles/Image370.png’\r\n",
      "\r\n",
      "\r",
      "Image370.png          0%[                    ]       0  --.-KB/s               \r",
      "Image370.png        100%[===================>]  12.23K  --.-KB/s    in 0s      \r\n",
      "\r\n",
      "2022-11-22 20:01:25 (45.5 MB/s) - ‘./MyImageFiles/Image370.png’ saved [12526/12526]\r\n",
      "\r\n",
      "--2022-11-22 20:01:25--  http://54.243.252.9/ce-5319-webroot/1-Databases/MaterialCracking/UT-881-image_src/Image371.png\r\n",
      "Reusing existing connection to 54.243.252.9:80.\r\n",
      "HTTP request sent, awaiting response... "
     ]
    },
    {
     "name": "stdout",
     "output_type": "stream",
     "text": [
      "200 OK\r\n",
      "Length: 15410 (15K) [image/png]\r\n",
      "Saving to: ‘./MyImageFiles/Image371.png’\r\n",
      "\r\n",
      "\r",
      "Image371.png          0%[                    ]       0  --.-KB/s               \r",
      "Image371.png        100%[===================>]  15.05K  --.-KB/s    in 0s      \r\n",
      "\r\n",
      "2022-11-22 20:01:25 (46.2 MB/s) - ‘./MyImageFiles/Image371.png’ saved [15410/15410]\r\n",
      "\r\n",
      "--2022-11-22 20:01:25--  http://54.243.252.9/ce-5319-webroot/1-Databases/MaterialCracking/UT-881-image_src/Image372.png\r\n",
      "Reusing existing connection to 54.243.252.9:80.\r\n",
      "HTTP request sent, awaiting response... "
     ]
    },
    {
     "name": "stdout",
     "output_type": "stream",
     "text": [
      "200 OK\r\n",
      "Length: 11794 (12K) [image/png]\r\n",
      "Saving to: ‘./MyImageFiles/Image372.png’\r\n",
      "\r\n",
      "\r",
      "Image372.png          0%[                    ]       0  --.-KB/s               \r",
      "Image372.png        100%[===================>]  11.52K  --.-KB/s    in 0s      \r\n",
      "\r\n",
      "2022-11-22 20:01:25 (34.5 MB/s) - ‘./MyImageFiles/Image372.png’ saved [11794/11794]\r\n",
      "\r\n",
      "--2022-11-22 20:01:25--  http://54.243.252.9/ce-5319-webroot/1-Databases/MaterialCracking/UT-881-image_src/Image373.png\r\n",
      "Reusing existing connection to 54.243.252.9:80.\r\n",
      "HTTP request sent, awaiting response... "
     ]
    },
    {
     "name": "stdout",
     "output_type": "stream",
     "text": [
      "200 OK\r\n",
      "Length: 9884 (9.7K) [image/png]\r\n",
      "Saving to: ‘./MyImageFiles/Image373.png’\r\n",
      "\r\n",
      "\r",
      "Image373.png          0%[                    ]       0  --.-KB/s               \r",
      "Image373.png        100%[===================>]   9.65K  --.-KB/s    in 0s      \r\n",
      "\r\n",
      "2022-11-22 20:01:25 (22.8 MB/s) - ‘./MyImageFiles/Image373.png’ saved [9884/9884]\r\n",
      "\r\n",
      "--2022-11-22 20:01:25--  http://54.243.252.9/ce-5319-webroot/1-Databases/MaterialCracking/UT-881-image_src/Image374.png\r\n",
      "Reusing existing connection to 54.243.252.9:80.\r\n",
      "HTTP request sent, awaiting response... "
     ]
    },
    {
     "name": "stdout",
     "output_type": "stream",
     "text": [
      "200 OK\r\n",
      "Length: 9658 (9.4K) [image/png]\r\n",
      "Saving to: ‘./MyImageFiles/Image374.png’\r\n",
      "\r\n",
      "\r",
      "Image374.png          0%[                    ]       0  --.-KB/s               \r",
      "Image374.png        100%[===================>]   9.43K  --.-KB/s    in 0s      \r\n",
      "\r\n",
      "2022-11-22 20:01:25 (36.3 MB/s) - ‘./MyImageFiles/Image374.png’ saved [9658/9658]\r\n",
      "\r\n",
      "--2022-11-22 20:01:25--  http://54.243.252.9/ce-5319-webroot/1-Databases/MaterialCracking/UT-881-image_src/Image375.png\r\n",
      "Reusing existing connection to 54.243.252.9:80.\r\n",
      "HTTP request sent, awaiting response... "
     ]
    },
    {
     "name": "stdout",
     "output_type": "stream",
     "text": [
      "200 OK\r\n",
      "Length: 11049 (11K) [image/png]\r\n",
      "Saving to: ‘./MyImageFiles/Image375.png’\r\n",
      "\r\n",
      "\r",
      "Image375.png          0%[                    ]       0  --.-KB/s               \r",
      "Image375.png        100%[===================>]  10.79K  --.-KB/s    in 0s      \r\n",
      "\r\n",
      "2022-11-22 20:01:25 (40.9 MB/s) - ‘./MyImageFiles/Image375.png’ saved [11049/11049]\r\n",
      "\r\n",
      "--2022-11-22 20:01:25--  http://54.243.252.9/ce-5319-webroot/1-Databases/MaterialCracking/UT-881-image_src/Image376.png\r\n",
      "Reusing existing connection to 54.243.252.9:80.\r\n",
      "HTTP request sent, awaiting response... "
     ]
    },
    {
     "name": "stdout",
     "output_type": "stream",
     "text": [
      "200 OK\r\n",
      "Length: 11484 (11K) [image/png]\r\n",
      "Saving to: ‘./MyImageFiles/Image376.png’\r\n",
      "\r\n",
      "\r",
      "Image376.png          0%[                    ]       0  --.-KB/s               \r",
      "Image376.png        100%[===================>]  11.21K  --.-KB/s    in 0s      \r\n",
      "\r\n",
      "2022-11-22 20:01:25 (31.9 MB/s) - ‘./MyImageFiles/Image376.png’ saved [11484/11484]\r\n",
      "\r\n",
      "--2022-11-22 20:01:25--  http://54.243.252.9/ce-5319-webroot/1-Databases/MaterialCracking/UT-881-image_src/Image377.png\r\n",
      "Reusing existing connection to 54.243.252.9:80.\r\n",
      "HTTP request sent, awaiting response... "
     ]
    },
    {
     "name": "stdout",
     "output_type": "stream",
     "text": [
      "200 OK\r\n",
      "Length: 11333 (11K) [image/png]\r\n",
      "Saving to: ‘./MyImageFiles/Image377.png’\r\n",
      "\r\n",
      "\r",
      "Image377.png          0%[                    ]       0  --.-KB/s               \r",
      "Image377.png        100%[===================>]  11.07K  --.-KB/s    in 0s      \r\n",
      "\r\n",
      "2022-11-22 20:01:25 (44.0 MB/s) - ‘./MyImageFiles/Image377.png’ saved [11333/11333]\r\n",
      "\r\n",
      "--2022-11-22 20:01:25--  http://54.243.252.9/ce-5319-webroot/1-Databases/MaterialCracking/UT-881-image_src/Image378.png\r\n",
      "Reusing existing connection to 54.243.252.9:80.\r\n",
      "HTTP request sent, awaiting response... "
     ]
    },
    {
     "name": "stdout",
     "output_type": "stream",
     "text": [
      "200 OK\r\n",
      "Length: 15029 (15K) [image/png]\r\n",
      "Saving to: ‘./MyImageFiles/Image378.png’\r\n",
      "\r\n",
      "\r",
      "Image378.png          0%[                    ]       0  --.-KB/s               \r",
      "Image378.png        100%[===================>]  14.68K  --.-KB/s    in 0s      \r\n",
      "\r\n",
      "2022-11-22 20:01:25 (57.1 MB/s) - ‘./MyImageFiles/Image378.png’ saved [15029/15029]\r\n",
      "\r\n",
      "--2022-11-22 20:01:25--  http://54.243.252.9/ce-5319-webroot/1-Databases/MaterialCracking/UT-881-image_src/Image379.png\r\n",
      "Reusing existing connection to 54.243.252.9:80.\r\n",
      "HTTP request sent, awaiting response... "
     ]
    },
    {
     "name": "stdout",
     "output_type": "stream",
     "text": [
      "200 OK\r\n",
      "Length: 13589 (13K) [image/png]\r\n",
      "Saving to: ‘./MyImageFiles/Image379.png’\r\n",
      "\r\n",
      "\r",
      "Image379.png          0%[                    ]       0  --.-KB/s               \r",
      "Image379.png        100%[===================>]  13.27K  --.-KB/s    in 0s      \r\n",
      "\r\n",
      "2022-11-22 20:01:25 (58.8 MB/s) - ‘./MyImageFiles/Image379.png’ saved [13589/13589]\r\n",
      "\r\n",
      "--2022-11-22 20:01:25--  http://54.243.252.9/ce-5319-webroot/1-Databases/MaterialCracking/UT-881-image_src/Image380.png\r\n",
      "Reusing existing connection to 54.243.252.9:80.\r\n",
      "HTTP request sent, awaiting response... "
     ]
    },
    {
     "name": "stdout",
     "output_type": "stream",
     "text": [
      "200 OK\r\n",
      "Length: 13339 (13K) [image/png]\r\n",
      "Saving to: ‘./MyImageFiles/Image380.png’\r\n",
      "\r\n",
      "\r",
      "Image380.png          0%[                    ]       0  --.-KB/s               \r",
      "Image380.png        100%[===================>]  13.03K  --.-KB/s    in 0s      \r\n",
      "\r\n",
      "2022-11-22 20:01:25 (61.9 MB/s) - ‘./MyImageFiles/Image380.png’ saved [13339/13339]\r\n",
      "\r\n",
      "--2022-11-22 20:01:25--  http://54.243.252.9/ce-5319-webroot/1-Databases/MaterialCracking/UT-881-image_src/Image381.png\r\n",
      "Reusing existing connection to 54.243.252.9:80.\r\n",
      "HTTP request sent, awaiting response... "
     ]
    },
    {
     "name": "stdout",
     "output_type": "stream",
     "text": [
      "200 OK\r\n",
      "Length: 9883 (9.7K) [image/png]\r\n",
      "Saving to: ‘./MyImageFiles/Image381.png’\r\n",
      "\r\n",
      "\r",
      "Image381.png          0%[                    ]       0  --.-KB/s               \r",
      "Image381.png        100%[===================>]   9.65K  --.-KB/s    in 0s      \r\n",
      "\r\n",
      "2022-11-22 20:01:25 (23.1 MB/s) - ‘./MyImageFiles/Image381.png’ saved [9883/9883]\r\n",
      "\r\n",
      "--2022-11-22 20:01:25--  http://54.243.252.9/ce-5319-webroot/1-Databases/MaterialCracking/UT-881-image_src/Image382.png\r\n",
      "Reusing existing connection to 54.243.252.9:80.\r\n",
      "HTTP request sent, awaiting response... "
     ]
    },
    {
     "name": "stdout",
     "output_type": "stream",
     "text": [
      "200 OK\r\n",
      "Length: 15213 (15K) [image/png]\r\n",
      "Saving to: ‘./MyImageFiles/Image382.png’\r\n",
      "\r\n",
      "\r",
      "Image382.png          0%[                    ]       0  --.-KB/s               \r",
      "Image382.png        100%[===================>]  14.86K  --.-KB/s    in 0s      \r\n",
      "\r\n",
      "2022-11-22 20:01:25 (36.8 MB/s) - ‘./MyImageFiles/Image382.png’ saved [15213/15213]\r\n",
      "\r\n",
      "--2022-11-22 20:01:25--  http://54.243.252.9/ce-5319-webroot/1-Databases/MaterialCracking/UT-881-image_src/Image383.png\r\n",
      "Reusing existing connection to 54.243.252.9:80.\r\n",
      "HTTP request sent, awaiting response... "
     ]
    },
    {
     "name": "stdout",
     "output_type": "stream",
     "text": [
      "200 OK\r\n",
      "Length: 10922 (11K) [image/png]\r\n",
      "Saving to: ‘./MyImageFiles/Image383.png’\r\n",
      "\r\n",
      "\r",
      "Image383.png          0%[                    ]       0  --.-KB/s               \r",
      "Image383.png        100%[===================>]  10.67K  --.-KB/s    in 0.004s  \r\n",
      "\r\n",
      "2022-11-22 20:01:25 (2.94 MB/s) - ‘./MyImageFiles/Image383.png’ saved [10922/10922]\r\n",
      "\r\n",
      "--2022-11-22 20:01:25--  http://54.243.252.9/ce-5319-webroot/1-Databases/MaterialCracking/UT-881-image_src/Image384.png\r\n",
      "Reusing existing connection to 54.243.252.9:80.\r\n",
      "HTTP request sent, awaiting response... 200 OK\r\n",
      "Length: 14051 (14K) [image/png]\r\n",
      "Saving to: ‘./MyImageFiles/Image384.png’\r\n",
      "\r\n",
      "\r",
      "Image384.png          0%[                    ]       0  --.-KB/s               "
     ]
    },
    {
     "name": "stdout",
     "output_type": "stream",
     "text": [
      "\r",
      "Image384.png        100%[===================>]  13.72K  --.-KB/s    in 0s      \r\n",
      "\r\n",
      "2022-11-22 20:01:25 (43.7 MB/s) - ‘./MyImageFiles/Image384.png’ saved [14051/14051]\r\n",
      "\r\n",
      "--2022-11-22 20:01:25--  http://54.243.252.9/ce-5319-webroot/1-Databases/MaterialCracking/UT-881-image_src/Image385.png\r\n",
      "Reusing existing connection to 54.243.252.9:80.\r\n",
      "HTTP request sent, awaiting response... 200 OK\r\n",
      "Length: 14433 (14K) [image/png]\r\n",
      "Saving to: ‘./MyImageFiles/Image385.png’\r\n",
      "\r\n",
      "\r",
      "Image385.png          0%[                    ]       0  --.-KB/s               \r",
      "Image385.png        100%[===================>]  14.09K  --.-KB/s    in 0s      \r\n",
      "\r\n",
      "2022-11-22 20:01:26 (36.7 MB/s) - ‘./MyImageFiles/Image385.png’ saved [14433/14433]\r\n",
      "\r\n",
      "--2022-11-22 20:01:26--  http://54.243.252.9/ce-5319-webroot/1-Databases/MaterialCracking/UT-881-image_src/Image386.png\r\n",
      "Reusing existing connection to 54.243.252.9:80.\r\n",
      "HTTP request sent, awaiting response... "
     ]
    },
    {
     "name": "stdout",
     "output_type": "stream",
     "text": [
      "200 OK\r\n",
      "Length: 14346 (14K) [image/png]\r\n",
      "Saving to: ‘./MyImageFiles/Image386.png’\r\n",
      "\r\n",
      "\r",
      "Image386.png          0%[                    ]       0  --.-KB/s               \r",
      "Image386.png        100%[===================>]  14.01K  --.-KB/s    in 0s      \r\n",
      "\r\n",
      "2022-11-22 20:01:26 (62.5 MB/s) - ‘./MyImageFiles/Image386.png’ saved [14346/14346]\r\n",
      "\r\n",
      "--2022-11-22 20:01:26--  http://54.243.252.9/ce-5319-webroot/1-Databases/MaterialCracking/UT-881-image_src/Image387.png\r\n",
      "Reusing existing connection to 54.243.252.9:80.\r\n",
      "HTTP request sent, awaiting response... "
     ]
    },
    {
     "name": "stdout",
     "output_type": "stream",
     "text": [
      "200 OK\r\n",
      "Length: 13088 (13K) [image/png]\r\n",
      "Saving to: ‘./MyImageFiles/Image387.png’\r\n",
      "\r\n",
      "\r",
      "Image387.png          0%[                    ]       0  --.-KB/s               \r",
      "Image387.png        100%[===================>]  12.78K  --.-KB/s    in 0s      \r\n",
      "\r\n",
      "2022-11-22 20:01:26 (38.9 MB/s) - ‘./MyImageFiles/Image387.png’ saved [13088/13088]\r\n",
      "\r\n",
      "--2022-11-22 20:01:26--  http://54.243.252.9/ce-5319-webroot/1-Databases/MaterialCracking/UT-881-image_src/Image388.png\r\n",
      "Reusing existing connection to 54.243.252.9:80.\r\n",
      "HTTP request sent, awaiting response... "
     ]
    },
    {
     "name": "stdout",
     "output_type": "stream",
     "text": [
      "200 OK\r\n",
      "Length: 14631 (14K) [image/png]\r\n",
      "Saving to: ‘./MyImageFiles/Image388.png’\r\n",
      "\r\n",
      "\r",
      "Image388.png          0%[                    ]       0  --.-KB/s               \r",
      "Image388.png        100%[===================>]  14.29K  --.-KB/s    in 0s      \r\n",
      "\r\n",
      "2022-11-22 20:01:26 (33.4 MB/s) - ‘./MyImageFiles/Image388.png’ saved [14631/14631]\r\n",
      "\r\n",
      "--2022-11-22 20:01:26--  http://54.243.252.9/ce-5319-webroot/1-Databases/MaterialCracking/UT-881-image_src/Image389.png\r\n",
      "Reusing existing connection to 54.243.252.9:80.\r\n",
      "HTTP request sent, awaiting response... "
     ]
    },
    {
     "name": "stdout",
     "output_type": "stream",
     "text": [
      "200 OK\r\n",
      "Length: 10989 (11K) [image/png]\r\n",
      "Saving to: ‘./MyImageFiles/Image389.png’\r\n",
      "\r\n",
      "\r",
      "Image389.png          0%[                    ]       0  --.-KB/s               \r",
      "Image389.png        100%[===================>]  10.73K  --.-KB/s    in 0s      \r\n",
      "\r\n",
      "2022-11-22 20:01:26 (26.9 MB/s) - ‘./MyImageFiles/Image389.png’ saved [10989/10989]\r\n",
      "\r\n",
      "--2022-11-22 20:01:26--  http://54.243.252.9/ce-5319-webroot/1-Databases/MaterialCracking/UT-881-image_src/Image390.png\r\n",
      "Reusing existing connection to 54.243.252.9:80.\r\n",
      "HTTP request sent, awaiting response... "
     ]
    },
    {
     "name": "stdout",
     "output_type": "stream",
     "text": [
      "200 OK\r\n",
      "Length: 13096 (13K) [image/png]\r\n",
      "Saving to: ‘./MyImageFiles/Image390.png’\r\n",
      "\r\n",
      "\r",
      "Image390.png          0%[                    ]       0  --.-KB/s               \r",
      "Image390.png        100%[===================>]  12.79K  --.-KB/s    in 0s      \r\n",
      "\r\n",
      "2022-11-22 20:01:26 (39.9 MB/s) - ‘./MyImageFiles/Image390.png’ saved [13096/13096]\r\n",
      "\r\n",
      "--2022-11-22 20:01:26--  http://54.243.252.9/ce-5319-webroot/1-Databases/MaterialCracking/UT-881-image_src/Image391.png\r\n",
      "Reusing existing connection to 54.243.252.9:80.\r\n",
      "HTTP request sent, awaiting response... "
     ]
    },
    {
     "name": "stdout",
     "output_type": "stream",
     "text": [
      "200 OK\r\n",
      "Length: 9898 (9.7K) [image/png]\r\n",
      "Saving to: ‘./MyImageFiles/Image391.png’\r\n",
      "\r\n",
      "\r",
      "Image391.png          0%[                    ]       0  --.-KB/s               \r",
      "Image391.png        100%[===================>]   9.67K  --.-KB/s    in 0s      \r\n",
      "\r\n",
      "2022-11-22 20:01:26 (31.4 MB/s) - ‘./MyImageFiles/Image391.png’ saved [9898/9898]\r\n",
      "\r\n",
      "--2022-11-22 20:01:26--  http://54.243.252.9/ce-5319-webroot/1-Databases/MaterialCracking/UT-881-image_src/Image392.png\r\n",
      "Reusing existing connection to 54.243.252.9:80.\r\n",
      "HTTP request sent, awaiting response... "
     ]
    },
    {
     "name": "stdout",
     "output_type": "stream",
     "text": [
      "200 OK\r\n",
      "Length: 14488 (14K) [image/png]\r\n",
      "Saving to: ‘./MyImageFiles/Image392.png’\r\n",
      "\r\n",
      "\r",
      "Image392.png          0%[                    ]       0  --.-KB/s               \r",
      "Image392.png        100%[===================>]  14.15K  --.-KB/s    in 0s      \r\n",
      "\r\n",
      "2022-11-22 20:01:26 (52.7 MB/s) - ‘./MyImageFiles/Image392.png’ saved [14488/14488]\r\n",
      "\r\n",
      "--2022-11-22 20:01:26--  http://54.243.252.9/ce-5319-webroot/1-Databases/MaterialCracking/UT-881-image_src/Image393.png\r\n",
      "Reusing existing connection to 54.243.252.9:80.\r\n",
      "HTTP request sent, awaiting response... "
     ]
    },
    {
     "name": "stdout",
     "output_type": "stream",
     "text": [
      "200 OK\r\n",
      "Length: 11229 (11K) [image/png]\r\n",
      "Saving to: ‘./MyImageFiles/Image393.png’\r\n",
      "\r\n",
      "\r",
      "Image393.png          0%[                    ]       0  --.-KB/s               \r",
      "Image393.png        100%[===================>]  10.97K  --.-KB/s    in 0s      \r\n",
      "\r\n",
      "2022-11-22 20:01:26 (40.8 MB/s) - ‘./MyImageFiles/Image393.png’ saved [11229/11229]\r\n",
      "\r\n",
      "--2022-11-22 20:01:26--  http://54.243.252.9/ce-5319-webroot/1-Databases/MaterialCracking/UT-881-image_src/Image394.png\r\n",
      "Reusing existing connection to 54.243.252.9:80.\r\n",
      "HTTP request sent, awaiting response... "
     ]
    },
    {
     "name": "stdout",
     "output_type": "stream",
     "text": [
      "200 OK\r\n",
      "Length: 14247 (14K) [image/png]\r\n",
      "Saving to: ‘./MyImageFiles/Image394.png’\r\n",
      "\r\n",
      "\r",
      "Image394.png          0%[                    ]       0  --.-KB/s               \r",
      "Image394.png        100%[===================>]  13.91K  --.-KB/s    in 0s      \r\n",
      "\r\n",
      "2022-11-22 20:01:26 (46.3 MB/s) - ‘./MyImageFiles/Image394.png’ saved [14247/14247]\r\n",
      "\r\n",
      "--2022-11-22 20:01:26--  http://54.243.252.9/ce-5319-webroot/1-Databases/MaterialCracking/UT-881-image_src/Image395.png\r\n",
      "Reusing existing connection to 54.243.252.9:80.\r\n",
      "HTTP request sent, awaiting response... "
     ]
    },
    {
     "name": "stdout",
     "output_type": "stream",
     "text": [
      "200 OK\r\n",
      "Length: 14359 (14K) [image/png]\r\n",
      "Saving to: ‘./MyImageFiles/Image395.png’\r\n",
      "\r\n",
      "\r",
      "Image395.png          0%[                    ]       0  --.-KB/s               \r",
      "Image395.png        100%[===================>]  14.02K  --.-KB/s    in 0s      \r\n",
      "\r\n",
      "2022-11-22 20:01:26 (51.5 MB/s) - ‘./MyImageFiles/Image395.png’ saved [14359/14359]\r\n",
      "\r\n",
      "--2022-11-22 20:01:26--  http://54.243.252.9/ce-5319-webroot/1-Databases/MaterialCracking/UT-881-image_src/Image396.png\r\n",
      "Reusing existing connection to 54.243.252.9:80.\r\n",
      "HTTP request sent, awaiting response... "
     ]
    },
    {
     "name": "stdout",
     "output_type": "stream",
     "text": [
      "200 OK\r\n",
      "Length: 14322 (14K) [image/png]\r\n",
      "Saving to: ‘./MyImageFiles/Image396.png’\r\n",
      "\r\n",
      "\r",
      "Image396.png          0%[                    ]       0  --.-KB/s               \r",
      "Image396.png        100%[===================>]  13.99K  --.-KB/s    in 0s      \r\n",
      "\r\n",
      "2022-11-22 20:01:26 (43.2 MB/s) - ‘./MyImageFiles/Image396.png’ saved [14322/14322]\r\n",
      "\r\n",
      "--2022-11-22 20:01:26--  http://54.243.252.9/ce-5319-webroot/1-Databases/MaterialCracking/UT-881-image_src/Image397.png\r\n",
      "Reusing existing connection to 54.243.252.9:80.\r\n",
      "HTTP request sent, awaiting response... "
     ]
    },
    {
     "name": "stdout",
     "output_type": "stream",
     "text": [
      "200 OK\r\n",
      "Length: 15052 (15K) [image/png]\r\n",
      "Saving to: ‘./MyImageFiles/Image397.png’\r\n",
      "\r\n",
      "\r",
      "Image397.png          0%[                    ]       0  --.-KB/s               \r",
      "Image397.png        100%[===================>]  14.70K  --.-KB/s    in 0s      \r\n",
      "\r\n",
      "2022-11-22 20:01:26 (45.8 MB/s) - ‘./MyImageFiles/Image397.png’ saved [15052/15052]\r\n",
      "\r\n",
      "--2022-11-22 20:01:26--  http://54.243.252.9/ce-5319-webroot/1-Databases/MaterialCracking/UT-881-image_src/Image398.png\r\n",
      "Reusing existing connection to 54.243.252.9:80.\r\n",
      "HTTP request sent, awaiting response... "
     ]
    },
    {
     "name": "stdout",
     "output_type": "stream",
     "text": [
      "200 OK\r\n",
      "Length: 13497 (13K) [image/png]\r\n",
      "Saving to: ‘./MyImageFiles/Image398.png’\r\n",
      "\r\n",
      "\r",
      "Image398.png          0%[                    ]       0  --.-KB/s               \r",
      "Image398.png        100%[===================>]  13.18K  --.-KB/s    in 0s      \r\n",
      "\r\n",
      "2022-11-22 20:01:26 (40.9 MB/s) - ‘./MyImageFiles/Image398.png’ saved [13497/13497]\r\n",
      "\r\n",
      "--2022-11-22 20:01:26--  http://54.243.252.9/ce-5319-webroot/1-Databases/MaterialCracking/UT-881-image_src/Image399.png\r\n",
      "Connecting to 54.243.252.9:80... "
     ]
    },
    {
     "name": "stdout",
     "output_type": "stream",
     "text": [
      "connected.\r\n",
      "HTTP request sent, awaiting response... 200 OK\r\n",
      "Length: "
     ]
    },
    {
     "name": "stdout",
     "output_type": "stream",
     "text": [
      "13649 (13K) [image/png]\r\n",
      "Saving to: ‘./MyImageFiles/Image399.png’\r\n",
      "\r\n",
      "\r",
      "Image399.png          0%[                    ]       0  --.-KB/s               \r",
      "Image399.png        100%[===================>]  13.33K  --.-KB/s    in 0s      \r\n",
      "\r\n",
      "2022-11-22 20:01:26 (36.5 MB/s) - ‘./MyImageFiles/Image399.png’ saved [13649/13649]\r\n",
      "\r\n",
      "--2022-11-22 20:01:26--  http://54.243.252.9/ce-5319-webroot/1-Databases/MaterialCracking/UT-881-image_src/Image400.png\r\n",
      "Reusing existing connection to 54.243.252.9:80.\r\n",
      "HTTP request sent, awaiting response... 200 OK\r\n",
      "Length: 12984 (13K) [image/png]\r\n",
      "Saving to: ‘./MyImageFiles/Image400.png’\r\n",
      "\r\n",
      "\r",
      "Image400.png          0%[                    ]       0  --.-KB/s               \r",
      "Image400.png        100%[===================>]  12.68K  --.-KB/s    in 0s      \r\n",
      "\r\n",
      "2022-11-22 20:01:26 (36.0 MB/s) - ‘./MyImageFiles/Image400.png’ saved [12984/12984]\r\n",
      "\r\n",
      "--2022-11-22 20:01:26--  http://54.243.252.9/ce-5319-webroot/1-Databases/MaterialCracking/UT-881-image_src/Image401.png\r\n",
      "Reusing existing connection to 54.243.252.9:80.\r\n",
      "HTTP request sent, awaiting response... "
     ]
    },
    {
     "name": "stdout",
     "output_type": "stream",
     "text": [
      "200 OK\r\n",
      "Length: 9962 (9.7K) [image/png]\r\n",
      "Saving to: ‘./MyImageFiles/Image401.png’\r\n",
      "\r\n",
      "\r",
      "Image401.png          0%[                    ]       0  --.-KB/s               \r",
      "Image401.png        100%[===================>]   9.73K  --.-KB/s    in 0s      \r\n",
      "\r\n",
      "2022-11-22 20:01:26 (25.6 MB/s) - ‘./MyImageFiles/Image401.png’ saved [9962/9962]\r\n",
      "\r\n",
      "--2022-11-22 20:01:26--  http://54.243.252.9/ce-5319-webroot/1-Databases/MaterialCracking/UT-881-image_src/Image402.png\r\n",
      "Reusing existing connection to 54.243.252.9:80.\r\n",
      "HTTP request sent, awaiting response... "
     ]
    },
    {
     "name": "stdout",
     "output_type": "stream",
     "text": [
      "200 OK\r\n",
      "Length: 14401 (14K) [image/png]\r\n",
      "Saving to: ‘./MyImageFiles/Image402.png’\r\n",
      "\r\n",
      "\r",
      "Image402.png          0%[                    ]       0  --.-KB/s               \r",
      "Image402.png        100%[===================>]  14.06K  --.-KB/s    in 0s      \r\n",
      "\r\n",
      "2022-11-22 20:01:26 (42.9 MB/s) - ‘./MyImageFiles/Image402.png’ saved [14401/14401]\r\n",
      "\r\n",
      "--2022-11-22 20:01:26--  http://54.243.252.9/ce-5319-webroot/1-Databases/MaterialCracking/UT-881-image_src/Image403.png\r\n",
      "Reusing existing connection to 54.243.252.9:80.\r\n",
      "HTTP request sent, awaiting response... "
     ]
    },
    {
     "name": "stdout",
     "output_type": "stream",
     "text": [
      "200 OK\r\n",
      "Length: 9106 (8.9K) [image/png]\r\n",
      "Saving to: ‘./MyImageFiles/Image403.png’\r\n",
      "\r\n",
      "\r",
      "Image403.png          0%[                    ]       0  --.-KB/s               \r",
      "Image403.png        100%[===================>]   8.89K  --.-KB/s    in 0s      \r\n",
      "\r\n",
      "2022-11-22 20:01:26 (29.2 MB/s) - ‘./MyImageFiles/Image403.png’ saved [9106/9106]\r\n",
      "\r\n",
      "--2022-11-22 20:01:26--  http://54.243.252.9/ce-5319-webroot/1-Databases/MaterialCracking/UT-881-image_src/Image404.png\r\n",
      "Reusing existing connection to 54.243.252.9:80.\r\n",
      "HTTP request sent, awaiting response... "
     ]
    },
    {
     "name": "stdout",
     "output_type": "stream",
     "text": [
      "200 OK\r\n",
      "Length: 14705 (14K) [image/png]\r\n",
      "Saving to: ‘./MyImageFiles/Image404.png’\r\n",
      "\r\n",
      "\r",
      "Image404.png          0%[                    ]       0  --.-KB/s               \r",
      "Image404.png        100%[===================>]  14.36K  --.-KB/s    in 0s      \r\n",
      "\r\n",
      "2022-11-22 20:01:27 (39.8 MB/s) - ‘./MyImageFiles/Image404.png’ saved [14705/14705]\r\n",
      "\r\n",
      "--2022-11-22 20:01:27--  http://54.243.252.9/ce-5319-webroot/1-Databases/MaterialCracking/UT-881-image_src/Image405.png\r\n",
      "Reusing existing connection to 54.243.252.9:80.\r\n",
      "HTTP request sent, awaiting response... "
     ]
    },
    {
     "name": "stdout",
     "output_type": "stream",
     "text": [
      "200 OK\r\n",
      "Length: 13213 (13K) [image/png]\r\n",
      "Saving to: ‘./MyImageFiles/Image405.png’\r\n",
      "\r\n",
      "\r",
      "Image405.png          0%[                    ]       0  --.-KB/s               \r",
      "Image405.png        100%[===================>]  12.90K  --.-KB/s    in 0s      \r\n",
      "\r\n",
      "2022-11-22 20:01:27 (37.7 MB/s) - ‘./MyImageFiles/Image405.png’ saved [13213/13213]\r\n",
      "\r\n",
      "--2022-11-22 20:01:27--  http://54.243.252.9/ce-5319-webroot/1-Databases/MaterialCracking/UT-881-image_src/Image406.png\r\n",
      "Reusing existing connection to 54.243.252.9:80.\r\n",
      "HTTP request sent, awaiting response... "
     ]
    },
    {
     "name": "stdout",
     "output_type": "stream",
     "text": [
      "200 OK\r\n",
      "Length: 15106 (15K) [image/png]\r\n",
      "Saving to: ‘./MyImageFiles/Image406.png’\r\n",
      "\r\n",
      "\r",
      "Image406.png          0%[                    ]       0  --.-KB/s               \r",
      "Image406.png        100%[===================>]  14.75K  --.-KB/s    in 0s      \r\n",
      "\r\n",
      "2022-11-22 20:01:27 (59.0 MB/s) - ‘./MyImageFiles/Image406.png’ saved [15106/15106]\r\n",
      "\r\n",
      "--2022-11-22 20:01:27--  http://54.243.252.9/ce-5319-webroot/1-Databases/MaterialCracking/UT-881-image_src/Image407.png\r\n",
      "Reusing existing connection to 54.243.252.9:80.\r\n",
      "HTTP request sent, awaiting response... "
     ]
    },
    {
     "name": "stdout",
     "output_type": "stream",
     "text": [
      "200 OK\r\n",
      "Length: 10187 (9.9K) [image/png]\r\n",
      "Saving to: ‘./MyImageFiles/Image407.png’\r\n",
      "\r\n",
      "\r",
      "Image407.png          0%[                    ]       0  --.-KB/s               \r",
      "Image407.png        100%[===================>]   9.95K  --.-KB/s    in 0s      \r\n",
      "\r\n",
      "2022-11-22 20:01:27 (49.6 MB/s) - ‘./MyImageFiles/Image407.png’ saved [10187/10187]\r\n",
      "\r\n",
      "--2022-11-22 20:01:27--  http://54.243.252.9/ce-5319-webroot/1-Databases/MaterialCracking/UT-881-image_src/Image408.png\r\n",
      "Reusing existing connection to 54.243.252.9:80.\r\n",
      "HTTP request sent, awaiting response... "
     ]
    },
    {
     "name": "stdout",
     "output_type": "stream",
     "text": [
      "200 OK\r\n",
      "Length: 11279 (11K) [image/png]\r\n",
      "Saving to: ‘./MyImageFiles/Image408.png’\r\n",
      "\r\n",
      "\r",
      "Image408.png          0%[                    ]       0  --.-KB/s               \r",
      "Image408.png        100%[===================>]  11.01K  --.-KB/s    in 0s      \r\n",
      "\r\n",
      "2022-11-22 20:01:27 (50.6 MB/s) - ‘./MyImageFiles/Image408.png’ saved [11279/11279]\r\n",
      "\r\n",
      "--2022-11-22 20:01:27--  http://54.243.252.9/ce-5319-webroot/1-Databases/MaterialCracking/UT-881-image_src/Image409.png\r\n",
      "Reusing existing connection to 54.243.252.9:80.\r\n",
      "HTTP request sent, awaiting response... "
     ]
    },
    {
     "name": "stdout",
     "output_type": "stream",
     "text": [
      "200 OK\r\n",
      "Length: 15123 (15K) [image/png]\r\n",
      "Saving to: ‘./MyImageFiles/Image409.png’\r\n",
      "\r\n",
      "\r",
      "Image409.png          0%[                    ]       0  --.-KB/s               \r",
      "Image409.png        100%[===================>]  14.77K  --.-KB/s    in 0s      \r\n",
      "\r\n",
      "2022-11-22 20:01:27 (44.2 MB/s) - ‘./MyImageFiles/Image409.png’ saved [15123/15123]\r\n",
      "\r\n",
      "--2022-11-22 20:01:27--  http://54.243.252.9/ce-5319-webroot/1-Databases/MaterialCracking/UT-881-image_src/Image410.png\r\n",
      "Reusing existing connection to 54.243.252.9:80.\r\n",
      "HTTP request sent, awaiting response... "
     ]
    },
    {
     "name": "stdout",
     "output_type": "stream",
     "text": [
      "200 OK\r\n",
      "Length: 12394 (12K) [image/png]\r\n",
      "Saving to: ‘./MyImageFiles/Image410.png’\r\n",
      "\r\n",
      "\r",
      "Image410.png          0%[                    ]       0  --.-KB/s               \r",
      "Image410.png        100%[===================>]  12.10K  --.-KB/s    in 0s      \r\n",
      "\r\n",
      "2022-11-22 20:01:27 (35.2 MB/s) - ‘./MyImageFiles/Image410.png’ saved [12394/12394]\r\n",
      "\r\n",
      "--2022-11-22 20:01:27--  http://54.243.252.9/ce-5319-webroot/1-Databases/MaterialCracking/UT-881-image_src/Image411.png\r\n",
      "Reusing existing connection to 54.243.252.9:80.\r\n",
      "HTTP request sent, awaiting response... "
     ]
    },
    {
     "name": "stdout",
     "output_type": "stream",
     "text": [
      "200 OK\r\n",
      "Length: 14274 (14K) [image/png]\r\n",
      "Saving to: ‘./MyImageFiles/Image411.png’\r\n",
      "\r\n",
      "\r",
      "Image411.png          0%[                    ]       0  --.-KB/s               \r",
      "Image411.png        100%[===================>]  13.94K  --.-KB/s    in 0s      \r\n",
      "\r\n",
      "2022-11-22 20:01:27 (31.5 MB/s) - ‘./MyImageFiles/Image411.png’ saved [14274/14274]\r\n",
      "\r\n",
      "--2022-11-22 20:01:27--  http://54.243.252.9/ce-5319-webroot/1-Databases/MaterialCracking/UT-881-image_src/Image412.png\r\n",
      "Reusing existing connection to 54.243.252.9:80.\r\n",
      "HTTP request sent, awaiting response... "
     ]
    },
    {
     "name": "stdout",
     "output_type": "stream",
     "text": [
      "200 OK\r\n",
      "Length: 14430 (14K) [image/png]\r\n",
      "Saving to: ‘./MyImageFiles/Image412.png’\r\n",
      "\r\n",
      "\r",
      "Image412.png          0%[                    ]       0  --.-KB/s               \r",
      "Image412.png        100%[===================>]  14.09K  --.-KB/s    in 0s      \r\n",
      "\r\n",
      "2022-11-22 20:01:27 (40.1 MB/s) - ‘./MyImageFiles/Image412.png’ saved [14430/14430]\r\n",
      "\r\n",
      "--2022-11-22 20:01:27--  http://54.243.252.9/ce-5319-webroot/1-Databases/MaterialCracking/UT-881-image_src/Image413.png\r\n",
      "Reusing existing connection to 54.243.252.9:80.\r\n",
      "HTTP request sent, awaiting response... "
     ]
    },
    {
     "name": "stdout",
     "output_type": "stream",
     "text": [
      "200 OK\r\n",
      "Length: 9893 (9.7K) [image/png]\r\n",
      "Saving to: ‘./MyImageFiles/Image413.png’\r\n",
      "\r\n",
      "\r",
      "Image413.png          0%[                    ]       0  --.-KB/s               \r",
      "Image413.png        100%[===================>]   9.66K  --.-KB/s    in 0s      \r\n",
      "\r\n",
      "2022-11-22 20:01:27 (30.8 MB/s) - ‘./MyImageFiles/Image413.png’ saved [9893/9893]\r\n",
      "\r\n",
      "--2022-11-22 20:01:27--  http://54.243.252.9/ce-5319-webroot/1-Databases/MaterialCracking/UT-881-image_src/Image414.png\r\n",
      "Reusing existing connection to 54.243.252.9:80.\r\n",
      "HTTP request sent, awaiting response... 200 OK\r\n",
      "Length: 11998 (12K) [image/png]\r\n",
      "Saving to: ‘./MyImageFiles/Image414.png’\r\n",
      "\r\n",
      "\r",
      "Image414.png          0%[                    ]       0  --.-KB/s               \r",
      "Image414.png        100%[===================>]  11.72K  --.-KB/s    in 0s      \r\n",
      "\r\n",
      "2022-11-22 20:01:27 (49.0 MB/s) - ‘./MyImageFiles/Image414.png’ saved [11998/11998]\r\n",
      "\r\n",
      "--2022-11-22 20:01:27--  http://54.243.252.9/ce-5319-webroot/1-Databases/MaterialCracking/UT-881-image_src/Image415.png\r\n",
      "Reusing existing connection to 54.243.252.9:80.\r\n",
      "HTTP request sent, awaiting response... "
     ]
    },
    {
     "name": "stdout",
     "output_type": "stream",
     "text": [
      "200 OK\r\n",
      "Length: 13047 (13K) [image/png]\r\n",
      "Saving to: ‘./MyImageFiles/Image415.png’\r\n",
      "\r\n",
      "\r",
      "Image415.png          0%[                    ]       0  --.-KB/s               \r",
      "Image415.png        100%[===================>]  12.74K  --.-KB/s    in 0s      \r\n",
      "\r\n",
      "2022-11-22 20:01:27 (38.7 MB/s) - ‘./MyImageFiles/Image415.png’ saved [13047/13047]\r\n",
      "\r\n",
      "--2022-11-22 20:01:27--  http://54.243.252.9/ce-5319-webroot/1-Databases/MaterialCracking/UT-881-image_src/Image416.png\r\n",
      "Reusing existing connection to 54.243.252.9:80.\r\n",
      "HTTP request sent, awaiting response... "
     ]
    },
    {
     "name": "stdout",
     "output_type": "stream",
     "text": [
      "200 OK\r\n",
      "Length: 11697 (11K) [image/png]\r\n",
      "Saving to: ‘./MyImageFiles/Image416.png’\r\n",
      "\r\n",
      "\r",
      "Image416.png          0%[                    ]       0  --.-KB/s               \r",
      "Image416.png        100%[===================>]  11.42K  --.-KB/s    in 0s      \r\n",
      "\r\n",
      "2022-11-22 20:01:27 (35.4 MB/s) - ‘./MyImageFiles/Image416.png’ saved [11697/11697]\r\n",
      "\r\n",
      "--2022-11-22 20:01:27--  http://54.243.252.9/ce-5319-webroot/1-Databases/MaterialCracking/UT-881-image_src/Image417.png\r\n",
      "Reusing existing connection to 54.243.252.9:80.\r\n",
      "HTTP request sent, awaiting response... "
     ]
    },
    {
     "name": "stdout",
     "output_type": "stream",
     "text": [
      "200 OK\r\n",
      "Length: 11881 (12K) [image/png]\r\n",
      "Saving to: ‘./MyImageFiles/Image417.png’\r\n",
      "\r\n",
      "\r",
      "Image417.png          0%[                    ]       0  --.-KB/s               \r",
      "Image417.png        100%[===================>]  11.60K  --.-KB/s    in 0s      \r\n",
      "\r\n",
      "2022-11-22 20:01:27 (48.2 MB/s) - ‘./MyImageFiles/Image417.png’ saved [11881/11881]\r\n",
      "\r\n",
      "--2022-11-22 20:01:27--  http://54.243.252.9/ce-5319-webroot/1-Databases/MaterialCracking/UT-881-image_src/Image418.png\r\n",
      "Reusing existing connection to 54.243.252.9:80.\r\n",
      "HTTP request sent, awaiting response... "
     ]
    },
    {
     "name": "stdout",
     "output_type": "stream",
     "text": [
      "200 OK\r\n",
      "Length: 12935 (13K) [image/png]\r\n",
      "Saving to: ‘./MyImageFiles/Image418.png’\r\n",
      "\r\n",
      "\r",
      "Image418.png          0%[                    ]       0  --.-KB/s               \r",
      "Image418.png        100%[===================>]  12.63K  --.-KB/s    in 0s      \r\n",
      "\r\n",
      "2022-11-22 20:01:27 (32.1 MB/s) - ‘./MyImageFiles/Image418.png’ saved [12935/12935]\r\n",
      "\r\n",
      "--2022-11-22 20:01:27--  http://54.243.252.9/ce-5319-webroot/1-Databases/MaterialCracking/UT-881-image_src/Image419.png\r\n",
      "Reusing existing connection to 54.243.252.9:80.\r\n",
      "HTTP request sent, awaiting response... "
     ]
    },
    {
     "name": "stdout",
     "output_type": "stream",
     "text": [
      "200 OK\r\n",
      "Length: 10585 (10K) [image/png]\r\n",
      "Saving to: ‘./MyImageFiles/Image419.png’\r\n",
      "\r\n",
      "\r",
      "Image419.png          0%[                    ]       0  --.-KB/s               \r",
      "Image419.png        100%[===================>]  10.34K  --.-KB/s    in 0s      \r\n",
      "\r\n",
      "2022-11-22 20:01:27 (33.3 MB/s) - ‘./MyImageFiles/Image419.png’ saved [10585/10585]\r\n",
      "\r\n",
      "--2022-11-22 20:01:27--  http://54.243.252.9/ce-5319-webroot/1-Databases/MaterialCracking/UT-881-image_src/Image420.png\r\n",
      "Reusing existing connection to 54.243.252.9:80.\r\n",
      "HTTP request sent, awaiting response... "
     ]
    },
    {
     "name": "stdout",
     "output_type": "stream",
     "text": [
      "200 OK\r\n",
      "Length: 10307 (10K) [image/png]\r\n",
      "Saving to: ‘./MyImageFiles/Image420.png’\r\n",
      "\r\n",
      "\r",
      "Image420.png          0%[                    ]       0  --.-KB/s               \r",
      "Image420.png        100%[===================>]  10.07K  --.-KB/s    in 0s      \r\n",
      "\r\n",
      "2022-11-22 20:01:27 (45.4 MB/s) - ‘./MyImageFiles/Image420.png’ saved [10307/10307]\r\n",
      "\r\n",
      "--2022-11-22 20:01:27--  http://54.243.252.9/ce-5319-webroot/1-Databases/MaterialCracking/UT-881-image_src/Image421.png\r\n",
      "Reusing existing connection to 54.243.252.9:80.\r\n",
      "HTTP request sent, awaiting response... "
     ]
    },
    {
     "name": "stdout",
     "output_type": "stream",
     "text": [
      "200 OK\r\n",
      "Length: 13683 (13K) [image/png]\r\n",
      "Saving to: ‘./MyImageFiles/Image421.png’\r\n",
      "\r\n",
      "\r",
      "Image421.png          0%[                    ]       0  --.-KB/s               \r",
      "Image421.png        100%[===================>]  13.36K  --.-KB/s    in 0s      \r\n",
      "\r\n",
      "2022-11-22 20:01:27 (41.5 MB/s) - ‘./MyImageFiles/Image421.png’ saved [13683/13683]\r\n",
      "\r\n",
      "--2022-11-22 20:01:27--  http://54.243.252.9/ce-5319-webroot/1-Databases/MaterialCracking/UT-881-image_src/Image422.png\r\n",
      "Reusing existing connection to 54.243.252.9:80.\r\n",
      "HTTP request sent, awaiting response... "
     ]
    },
    {
     "name": "stdout",
     "output_type": "stream",
     "text": [
      "200 OK\r\n",
      "Length: 13722 (13K) [image/png]\r\n",
      "Saving to: ‘./MyImageFiles/Image422.png’\r\n",
      "\r\n",
      "\r",
      "Image422.png          0%[                    ]       0  --.-KB/s               \r",
      "Image422.png        100%[===================>]  13.40K  --.-KB/s    in 0s      \r\n",
      "\r\n",
      "2022-11-22 20:01:27 (45.6 MB/s) - ‘./MyImageFiles/Image422.png’ saved [13722/13722]\r\n",
      "\r\n",
      "--2022-11-22 20:01:27--  http://54.243.252.9/ce-5319-webroot/1-Databases/MaterialCracking/UT-881-image_src/Image423.png\r\n",
      "Reusing existing connection to 54.243.252.9:80.\r\n",
      "HTTP request sent, awaiting response... "
     ]
    },
    {
     "name": "stdout",
     "output_type": "stream",
     "text": [
      "200 OK\r\n",
      "Length: 12339 (12K) [image/png]\r\n",
      "Saving to: ‘./MyImageFiles/Image423.png’\r\n",
      "\r\n",
      "\r",
      "Image423.png          0%[                    ]       0  --.-KB/s               \r",
      "Image423.png        100%[===================>]  12.05K  --.-KB/s    in 0s      \r\n",
      "\r\n",
      "2022-11-22 20:01:27 (54.1 MB/s) - ‘./MyImageFiles/Image423.png’ saved [12339/12339]\r\n",
      "\r\n",
      "--2022-11-22 20:01:27--  http://54.243.252.9/ce-5319-webroot/1-Databases/MaterialCracking/UT-881-image_src/Image424.png\r\n",
      "Reusing existing connection to 54.243.252.9:80.\r\n",
      "HTTP request sent, awaiting response... "
     ]
    },
    {
     "name": "stdout",
     "output_type": "stream",
     "text": [
      "200 OK\r\n",
      "Length: 14052 (14K) [image/png]\r\n",
      "Saving to: ‘./MyImageFiles/Image424.png’\r\n",
      "\r\n",
      "\r",
      "Image424.png          0%[                    ]       0  --.-KB/s               \r",
      "Image424.png        100%[===================>]  13.72K  --.-KB/s    in 0s      \r\n",
      "\r\n",
      "2022-11-22 20:01:28 (63.4 MB/s) - ‘./MyImageFiles/Image424.png’ saved [14052/14052]\r\n",
      "\r\n",
      "--2022-11-22 20:01:28--  http://54.243.252.9/ce-5319-webroot/1-Databases/MaterialCracking/UT-881-image_src/Image425.png\r\n",
      "Reusing existing connection to 54.243.252.9:80.\r\n",
      "HTTP request sent, awaiting response... "
     ]
    },
    {
     "name": "stdout",
     "output_type": "stream",
     "text": [
      "200 OK\r\n",
      "Length: 9578 (9.4K) [image/png]\r\n",
      "Saving to: ‘./MyImageFiles/Image425.png’\r\n",
      "\r\n",
      "\r",
      "Image425.png          0%[                    ]       0  --.-KB/s               \r",
      "Image425.png        100%[===================>]   9.35K  --.-KB/s    in 0s      \r\n",
      "\r\n",
      "2022-11-22 20:01:28 (33.7 MB/s) - ‘./MyImageFiles/Image425.png’ saved [9578/9578]\r\n",
      "\r\n",
      "--2022-11-22 20:01:28--  http://54.243.252.9/ce-5319-webroot/1-Databases/MaterialCracking/UT-881-image_src/Image426.png\r\n",
      "Reusing existing connection to 54.243.252.9:80.\r\n",
      "HTTP request sent, awaiting response... "
     ]
    },
    {
     "name": "stdout",
     "output_type": "stream",
     "text": [
      "200 OK\r\n",
      "Length: 13057 (13K) [image/png]\r\n",
      "Saving to: ‘./MyImageFiles/Image426.png’\r\n",
      "\r\n",
      "\r",
      "Image426.png          0%[                    ]       0  --.-KB/s               \r",
      "Image426.png        100%[===================>]  12.75K  --.-KB/s    in 0s      \r\n",
      "\r\n",
      "2022-11-22 20:01:28 (46.2 MB/s) - ‘./MyImageFiles/Image426.png’ saved [13057/13057]\r\n",
      "\r\n",
      "--2022-11-22 20:01:28--  http://54.243.252.9/ce-5319-webroot/1-Databases/MaterialCracking/UT-881-image_src/Image427.png\r\n",
      "Reusing existing connection to 54.243.252.9:80.\r\n",
      "HTTP request sent, awaiting response... "
     ]
    },
    {
     "name": "stdout",
     "output_type": "stream",
     "text": [
      "200 OK\r\n",
      "Length: 14798 (14K) [image/png]\r\n",
      "Saving to: ‘./MyImageFiles/Image427.png’\r\n",
      "\r\n",
      "\r",
      "Image427.png          0%[                    ]       0  --.-KB/s               \r",
      "Image427.png        100%[===================>]  14.45K  --.-KB/s    in 0s      \r\n",
      "\r\n",
      "2022-11-22 20:01:28 (46.0 MB/s) - ‘./MyImageFiles/Image427.png’ saved [14798/14798]\r\n",
      "\r\n",
      "--2022-11-22 20:01:28--  http://54.243.252.9/ce-5319-webroot/1-Databases/MaterialCracking/UT-881-image_src/Image428.png\r\n",
      "Reusing existing connection to 54.243.252.9:80.\r\n",
      "HTTP request sent, awaiting response... "
     ]
    },
    {
     "name": "stdout",
     "output_type": "stream",
     "text": [
      "200 OK\r\n",
      "Length: 8922 (8.7K) [image/png]\r\n",
      "Saving to: ‘./MyImageFiles/Image428.png’\r\n",
      "\r\n",
      "\r",
      "Image428.png          0%[                    ]       0  --.-KB/s               \r",
      "Image428.png        100%[===================>]   8.71K  --.-KB/s    in 0s      \r\n",
      "\r\n",
      "2022-11-22 20:01:28 (49.0 MB/s) - ‘./MyImageFiles/Image428.png’ saved [8922/8922]\r\n",
      "\r\n",
      "--2022-11-22 20:01:28--  http://54.243.252.9/ce-5319-webroot/1-Databases/MaterialCracking/UT-881-image_src/Image429.png\r\n",
      "Reusing existing connection to 54.243.252.9:80.\r\n",
      "HTTP request sent, awaiting response... "
     ]
    },
    {
     "name": "stdout",
     "output_type": "stream",
     "text": [
      "200 OK\r\n",
      "Length: 14342 (14K) [image/png]\r\n",
      "Saving to: ‘./MyImageFiles/Image429.png’\r\n",
      "\r\n",
      "\r",
      "Image429.png          0%[                    ]       0  --.-KB/s               \r",
      "Image429.png        100%[===================>]  14.01K  --.-KB/s    in 0s      \r\n",
      "\r\n",
      "2022-11-22 20:01:28 (58.4 MB/s) - ‘./MyImageFiles/Image429.png’ saved [14342/14342]\r\n",
      "\r\n",
      "--2022-11-22 20:01:28--  http://54.243.252.9/ce-5319-webroot/1-Databases/MaterialCracking/UT-881-image_src/Image430.png\r\n",
      "Reusing existing connection to 54.243.252.9:80.\r\n",
      "HTTP request sent, awaiting response... "
     ]
    },
    {
     "name": "stdout",
     "output_type": "stream",
     "text": [
      "200 OK\r\n",
      "Length: 13100 (13K) [image/png]\r\n",
      "Saving to: ‘./MyImageFiles/Image430.png’\r\n",
      "\r\n",
      "\r",
      "Image430.png          0%[                    ]       0  --.-KB/s               \r",
      "Image430.png        100%[===================>]  12.79K  --.-KB/s    in 0s      \r\n",
      "\r\n",
      "2022-11-22 20:01:28 (50.6 MB/s) - ‘./MyImageFiles/Image430.png’ saved [13100/13100]\r\n",
      "\r\n",
      "--2022-11-22 20:01:28--  http://54.243.252.9/ce-5319-webroot/1-Databases/MaterialCracking/UT-881-image_src/Image431.png\r\n",
      "Reusing existing connection to 54.243.252.9:80.\r\n",
      "HTTP request sent, awaiting response... "
     ]
    },
    {
     "name": "stdout",
     "output_type": "stream",
     "text": [
      "200 OK\r\n",
      "Length: 13699 (13K) [image/png]\r\n",
      "Saving to: ‘./MyImageFiles/Image431.png’\r\n",
      "\r\n",
      "\r",
      "Image431.png          0%[                    ]       0  --.-KB/s               \r",
      "Image431.png        100%[===================>]  13.38K  --.-KB/s    in 0s      \r\n",
      "\r\n",
      "2022-11-22 20:01:28 (37.4 MB/s) - ‘./MyImageFiles/Image431.png’ saved [13699/13699]\r\n",
      "\r\n",
      "--2022-11-22 20:01:28--  http://54.243.252.9/ce-5319-webroot/1-Databases/MaterialCracking/UT-881-image_src/Image432.png\r\n",
      "Reusing existing connection to 54.243.252.9:80.\r\n",
      "HTTP request sent, awaiting response... "
     ]
    },
    {
     "name": "stdout",
     "output_type": "stream",
     "text": [
      "200 OK\r\n",
      "Length: 10327 (10K) [image/png]\r\n",
      "Saving to: ‘./MyImageFiles/Image432.png’\r\n",
      "\r\n",
      "\r",
      "Image432.png          0%[                    ]       0  --.-KB/s               \r",
      "Image432.png        100%[===================>]  10.08K  --.-KB/s    in 0s      \r\n",
      "\r\n",
      "2022-11-22 20:01:28 (26.0 MB/s) - ‘./MyImageFiles/Image432.png’ saved [10327/10327]\r\n",
      "\r\n",
      "--2022-11-22 20:01:28--  http://54.243.252.9/ce-5319-webroot/1-Databases/MaterialCracking/UT-881-image_src/Image433.png\r\n",
      "Reusing existing connection to 54.243.252.9:80.\r\n",
      "HTTP request sent, awaiting response... "
     ]
    },
    {
     "name": "stdout",
     "output_type": "stream",
     "text": [
      "200 OK\r\n",
      "Length: 14173 (14K) [image/png]\r\n",
      "Saving to: ‘./MyImageFiles/Image433.png’\r\n",
      "\r\n",
      "\r",
      "Image433.png          0%[                    ]       0  --.-KB/s               \r",
      "Image433.png        100%[===================>]  13.84K  --.-KB/s    in 0s      \r\n",
      "\r\n",
      "2022-11-22 20:01:28 (36.7 MB/s) - ‘./MyImageFiles/Image433.png’ saved [14173/14173]\r\n",
      "\r\n",
      "--2022-11-22 20:01:28--  http://54.243.252.9/ce-5319-webroot/1-Databases/MaterialCracking/UT-881-image_src/Image434.png\r\n",
      "Reusing existing connection to 54.243.252.9:80.\r\n",
      "HTTP request sent, awaiting response... 200 OK\r\n",
      "Length: 14396 (14K) [image/png]\r\n",
      "Saving to: ‘./MyImageFiles/Image434.png’\r\n",
      "\r\n",
      "\r",
      "Image434.png          0%[                    ]       0  --.-KB/s               \r",
      "Image434.png        100%[===================>]  14.06K  --.-KB/s    in 0s      \r\n",
      "\r\n",
      "2022-11-22 20:01:28 (38.5 MB/s) - ‘./MyImageFiles/Image434.png’ saved [14396/14396]\r\n",
      "\r\n",
      "--2022-11-22 20:01:28--  http://54.243.252.9/ce-5319-webroot/1-Databases/MaterialCracking/UT-881-image_src/Image435.png\r\n",
      "Reusing existing connection to 54.243.252.9:80.\r\n",
      "HTTP request sent, awaiting response... "
     ]
    },
    {
     "name": "stdout",
     "output_type": "stream",
     "text": [
      "200 OK\r\n",
      "Length: 15528 (15K) [image/png]\r\n",
      "Saving to: ‘./MyImageFiles/Image435.png’\r\n",
      "\r\n",
      "\r",
      "Image435.png          0%[                    ]       0  --.-KB/s               \r",
      "Image435.png        100%[===================>]  15.16K  --.-KB/s    in 0s      \r\n",
      "\r\n",
      "2022-11-22 20:01:28 (41.6 MB/s) - ‘./MyImageFiles/Image435.png’ saved [15528/15528]\r\n",
      "\r\n",
      "--2022-11-22 20:01:28--  http://54.243.252.9/ce-5319-webroot/1-Databases/MaterialCracking/UT-881-image_src/Image436.png\r\n",
      "Reusing existing connection to 54.243.252.9:80.\r\n",
      "HTTP request sent, awaiting response... "
     ]
    },
    {
     "name": "stdout",
     "output_type": "stream",
     "text": [
      "200 OK\r\n",
      "Length: 14139 (14K) [image/png]\r\n",
      "Saving to: ‘./MyImageFiles/Image436.png’\r\n",
      "\r\n",
      "\r",
      "Image436.png          0%[                    ]       0  --.-KB/s               \r",
      "Image436.png        100%[===================>]  13.81K  --.-KB/s    in 0s      \r\n",
      "\r\n",
      "2022-11-22 20:01:28 (36.4 MB/s) - ‘./MyImageFiles/Image436.png’ saved [14139/14139]\r\n",
      "\r\n",
      "--2022-11-22 20:01:28--  http://54.243.252.9/ce-5319-webroot/1-Databases/MaterialCracking/UT-881-image_src/Image437.png\r\n",
      "Reusing existing connection to 54.243.252.9:80.\r\n",
      "HTTP request sent, awaiting response... "
     ]
    },
    {
     "name": "stdout",
     "output_type": "stream",
     "text": [
      "200 OK\r\n",
      "Length: 14398 (14K) [image/png]\r\n",
      "Saving to: ‘./MyImageFiles/Image437.png’\r\n",
      "\r\n",
      "\r",
      "Image437.png          0%[                    ]       0  --.-KB/s               \r",
      "Image437.png        100%[===================>]  14.06K  --.-KB/s    in 0s      \r\n",
      "\r\n",
      "2022-11-22 20:01:28 (31.2 MB/s) - ‘./MyImageFiles/Image437.png’ saved [14398/14398]\r\n",
      "\r\n",
      "--2022-11-22 20:01:28--  http://54.243.252.9/ce-5319-webroot/1-Databases/MaterialCracking/UT-881-image_src/Image438.png\r\n",
      "Reusing existing connection to 54.243.252.9:80.\r\n",
      "HTTP request sent, awaiting response... "
     ]
    },
    {
     "name": "stdout",
     "output_type": "stream",
     "text": [
      "200 OK\r\n",
      "Length: 12336 (12K) [image/png]\r\n",
      "Saving to: ‘./MyImageFiles/Image438.png’\r\n",
      "\r\n",
      "\r",
      "Image438.png          0%[                    ]       0  --.-KB/s               \r",
      "Image438.png        100%[===================>]  12.05K  --.-KB/s    in 0s      \r\n",
      "\r\n",
      "2022-11-22 20:01:28 (33.9 MB/s) - ‘./MyImageFiles/Image438.png’ saved [12336/12336]\r\n",
      "\r\n",
      "--2022-11-22 20:01:28--  http://54.243.252.9/ce-5319-webroot/1-Databases/MaterialCracking/UT-881-image_src/Image439.png\r\n",
      "Reusing existing connection to 54.243.252.9:80.\r\n",
      "HTTP request sent, awaiting response... "
     ]
    },
    {
     "name": "stdout",
     "output_type": "stream",
     "text": [
      "200 OK\r\n",
      "Length: 12812 (13K) [image/png]\r\n",
      "Saving to: ‘./MyImageFiles/Image439.png’\r\n",
      "\r\n",
      "\r",
      "Image439.png          0%[                    ]       0  --.-KB/s               \r",
      "Image439.png        100%[===================>]  12.51K  --.-KB/s    in 0s      \r\n",
      "\r\n",
      "2022-11-22 20:01:28 (33.7 MB/s) - ‘./MyImageFiles/Image439.png’ saved [12812/12812]\r\n",
      "\r\n",
      "--2022-11-22 20:01:28--  http://54.243.252.9/ce-5319-webroot/1-Databases/MaterialCracking/UT-881-image_src/Image440.png\r\n",
      "Reusing existing connection to 54.243.252.9:80.\r\n",
      "HTTP request sent, awaiting response... "
     ]
    },
    {
     "name": "stdout",
     "output_type": "stream",
     "text": [
      "200 OK\r\n",
      "Length: 9996 (9.8K) [image/png]\r\n",
      "Saving to: ‘./MyImageFiles/Image440.png’\r\n",
      "\r\n",
      "\r",
      "Image440.png          0%[                    ]       0  --.-KB/s               \r",
      "Image440.png        100%[===================>]   9.76K  --.-KB/s    in 0s      \r\n",
      "\r\n",
      "2022-11-22 20:01:28 (27.1 MB/s) - ‘./MyImageFiles/Image440.png’ saved [9996/9996]\r\n",
      "\r\n",
      "--2022-11-22 20:01:28--  http://54.243.252.9/ce-5319-webroot/1-Databases/MaterialCracking/UT-881-image_src/Image441.png\r\n",
      "Reusing existing connection to 54.243.252.9:80.\r\n",
      "HTTP request sent, awaiting response... "
     ]
    },
    {
     "name": "stdout",
     "output_type": "stream",
     "text": [
      "200 OK\r\n",
      "Length: 13675 (13K) [image/png]\r\n",
      "Saving to: ‘./MyImageFiles/Image441.png’\r\n",
      "\r\n",
      "\r",
      "Image441.png          0%[                    ]       0  --.-KB/s               \r",
      "Image441.png        100%[===================>]  13.35K  --.-KB/s    in 0s      \r\n",
      "\r\n",
      "2022-11-22 20:01:28 (34.5 MB/s) - ‘./MyImageFiles/Image441.png’ saved [13675/13675]\r\n",
      "\r\n",
      "--2022-11-22 20:01:28--  http://54.243.252.9/ce-5319-webroot/1-Databases/MaterialCracking/UT-881-image_src/Image442.png\r\n",
      "Reusing existing connection to 54.243.252.9:80.\r\n",
      "HTTP request sent, awaiting response... "
     ]
    },
    {
     "name": "stdout",
     "output_type": "stream",
     "text": [
      "200 OK\r\n",
      "Length: 13128"
     ]
    },
    {
     "name": "stdout",
     "output_type": "stream",
     "text": [
      " (13K) [image/png]\r\n",
      "Saving to: ‘./MyImageFiles/Image442.png’\r\n",
      "\r\n",
      "\r",
      "Image442.png          0%[                    ]       0  --.-KB/s               \r",
      "Image442.png        100%[===================>]  12.82K  --.-KB/s    in 0s      \r\n",
      "\r\n",
      "2022-11-22 20:01:28 (30.5 MB/s) - ‘./MyImageFiles/Image442.png’ saved [13128/13128]\r\n",
      "\r\n",
      "--2022-11-22 20:01:28--  http://54.243.252.9/ce-5319-webroot/1-Databases/MaterialCracking/UT-881-image_src/Image443.png\r\n",
      "Reusing existing connection to 54.243.252.9:80.\r\n",
      "HTTP request sent, awaiting response... 200 OK\r\n",
      "Length: 13500 (13K) [image/png]\r\n",
      "Saving to: ‘./MyImageFiles/Image443.png’\r\n",
      "\r\n",
      "\r",
      "Image443.png          0%[                    ]       0  --.-KB/s               \r",
      "Image443.png        100%[===================>]  13.18K  --.-KB/s    in 0s      \r\n",
      "\r\n",
      "2022-11-22 20:01:29 (37.1 MB/s) - ‘./MyImageFiles/Image443.png’ saved [13500/13500]\r\n",
      "\r\n",
      "--2022-11-22 20:01:29--  http://54.243.252.9/ce-5319-webroot/1-Databases/MaterialCracking/UT-881-image_src/Image444.png\r\n",
      "Reusing existing connection to 54.243.252.9:80.\r\n",
      "HTTP request sent, awaiting response... "
     ]
    },
    {
     "name": "stdout",
     "output_type": "stream",
     "text": [
      "200 OK\r\n",
      "Length: 11149 (11K) [image/png]\r\n",
      "Saving to: ‘./MyImageFiles/Image444.png’\r\n",
      "\r\n",
      "\r",
      "Image444.png          0%[                    ]       0  --.-KB/s               \r",
      "Image444.png        100%[===================>]  10.89K  --.-KB/s    in 0s      \r\n",
      "\r\n",
      "2022-11-22 20:01:29 (33.4 MB/s) - ‘./MyImageFiles/Image444.png’ saved [11149/11149]\r\n",
      "\r\n",
      "--2022-11-22 20:01:29--  http://54.243.252.9/ce-5319-webroot/1-Databases/MaterialCracking/UT-881-image_src/Image445.png\r\n",
      "Reusing existing connection to 54.243.252.9:80.\r\n",
      "HTTP request sent, awaiting response... 200 OK\r\n",
      "Length: 14481 (14K) [image/png]\r\n",
      "Saving to: ‘./MyImageFiles/Image445.png’\r\n",
      "\r\n",
      "\r",
      "Image445.png          0%[                    ]       0  --.-KB/s               \r",
      "Image445.png        100%[===================>]  14.14K  --.-KB/s    in 0s      \r\n",
      "\r\n",
      "2022-11-22 20:01:29 (30.5 MB/s) - ‘./MyImageFiles/Image445.png’ saved [14481/14481]\r\n",
      "\r\n",
      "--2022-11-22 20:01:29--  http://54.243.252.9/ce-5319-webroot/1-Databases/MaterialCracking/UT-881-image_src/Image446.png\r\n"
     ]
    },
    {
     "name": "stdout",
     "output_type": "stream",
     "text": [
      "Reusing existing connection to 54.243.252.9:80.\r\n",
      "HTTP request sent, awaiting response... 200 OK\r\n",
      "Length: 14746 (14K) [image/png]\r\n",
      "Saving to: ‘./MyImageFiles/Image446.png’\r\n",
      "\r\n",
      "\r",
      "Image446.png          0%[                    ]       0  --.-KB/s               \r",
      "Image446.png        100%[===================>]  14.40K  --.-KB/s    in 0s      \r\n",
      "\r\n",
      "2022-11-22 20:01:29 (41.6 MB/s) - ‘./MyImageFiles/Image446.png’ saved [14746/14746]\r\n",
      "\r\n",
      "--2022-11-22 20:01:29--  http://54.243.252.9/ce-5319-webroot/1-Databases/MaterialCracking/UT-881-image_src/Image447.png\r\n",
      "Reusing existing connection to 54.243.252.9:80.\r\n",
      "HTTP request sent, awaiting response... "
     ]
    },
    {
     "name": "stdout",
     "output_type": "stream",
     "text": [
      "200 OK\r\n",
      "Length: 11112 (11K) [image/png]\r\n",
      "Saving to: ‘./MyImageFiles/Image447.png’\r\n",
      "\r\n",
      "\r",
      "Image447.png          0%[                    ]       0  --.-KB/s               \r",
      "Image447.png        100%[===================>]  10.85K  --.-KB/s    in 0s      \r\n",
      "\r\n",
      "2022-11-22 20:01:29 (46.6 MB/s) - ‘./MyImageFiles/Image447.png’ saved [11112/11112]\r\n",
      "\r\n",
      "--2022-11-22 20:01:29--  http://54.243.252.9/ce-5319-webroot/1-Databases/MaterialCracking/UT-881-image_src/Image448.png\r\n",
      "Reusing existing connection to 54.243.252.9:80.\r\n",
      "HTTP request sent, awaiting response... "
     ]
    },
    {
     "name": "stdout",
     "output_type": "stream",
     "text": [
      "200 OK\r\n",
      "Length: 8278 (8.1K) [image/png]\r\n",
      "Saving to: ‘./MyImageFiles/Image448.png’\r\n",
      "\r\n",
      "\r",
      "Image448.png          0%[                    ]       0  --.-KB/s               \r",
      "Image448.png        100%[===================>]   8.08K  --.-KB/s    in 0s      \r\n",
      "\r\n",
      "2022-11-22 20:01:29 (20.3 MB/s) - ‘./MyImageFiles/Image448.png’ saved [8278/8278]\r\n",
      "\r\n",
      "--2022-11-22 20:01:29--  http://54.243.252.9/ce-5319-webroot/1-Databases/MaterialCracking/UT-881-image_src/Image449.png\r\n"
     ]
    },
    {
     "name": "stdout",
     "output_type": "stream",
     "text": [
      "Reusing existing connection to 54.243.252.9:80.\r\n",
      "HTTP request sent, awaiting response... 200 OK\r\n",
      "Length: 13012 (13K) [image/png]\r\n",
      "Saving to: ‘./MyImageFiles/Image449.png’\r\n",
      "\r\n",
      "\r",
      "Image449.png          0%[                    ]       0  --.-KB/s               \r",
      "Image449.png        100%[===================>]  12.71K  --.-KB/s    in 0s      \r\n",
      "\r\n",
      "2022-11-22 20:01:29 (34.9 MB/s) - ‘./MyImageFiles/Image449.png’ saved [13012/13012]\r\n",
      "\r\n",
      "--2022-11-22 20:01:29--  http://54.243.252.9/ce-5319-webroot/1-Databases/MaterialCracking/UT-881-image_src/Image450.png\r\n",
      "Reusing existing connection to 54.243.252.9:80.\r\n",
      "HTTP request sent, awaiting response... "
     ]
    },
    {
     "name": "stdout",
     "output_type": "stream",
     "text": [
      "200 OK\r\n",
      "Length: 14256 (14K) [image/png]\r\n",
      "Saving to: ‘./MyImageFiles/Image450.png’\r\n",
      "\r\n",
      "\r",
      "Image450.png          0%[                    ]       0  --.-KB/s               \r",
      "Image450.png        100%[===================>]  13.92K  --.-KB/s    in 0s      \r\n",
      "\r\n",
      "2022-11-22 20:01:29 (41.9 MB/s) - ‘./MyImageFiles/Image450.png’ saved [14256/14256]\r\n",
      "\r\n",
      "--2022-11-22 20:01:29--  http://54.243.252.9/ce-5319-webroot/1-Databases/MaterialCracking/UT-881-image_src/Image451.png\r\n",
      "Reusing existing connection to 54.243.252.9:80.\r\n",
      "HTTP request sent, awaiting response... "
     ]
    },
    {
     "name": "stdout",
     "output_type": "stream",
     "text": [
      "200 OK\r\n",
      "Length: 12949 (13K) [image/png]\r\n",
      "Saving to: ‘./MyImageFiles/Image451.png’\r\n",
      "\r\n",
      "\r",
      "Image451.png          0%[                    ]       0  --.-KB/s               \r",
      "Image451.png        100%[===================>]  12.65K  --.-KB/s    in 0s      \r\n",
      "\r\n",
      "2022-11-22 20:01:29 (33.5 MB/s) - ‘./MyImageFiles/Image451.png’ saved [12949/12949]\r\n",
      "\r\n",
      "--2022-11-22 20:01:29--  http://54.243.252.9/ce-5319-webroot/1-Databases/MaterialCracking/UT-881-image_src/Image452.png\r\n",
      "Reusing existing connection to 54.243.252.9:80.\r\n",
      "HTTP request sent, awaiting response... "
     ]
    },
    {
     "name": "stdout",
     "output_type": "stream",
     "text": [
      "200 OK\r\n",
      "Length: 14158 (14K) [image/png]\r\n",
      "Saving to: ‘./MyImageFiles/Image452.png’\r\n",
      "\r\n",
      "\r",
      "Image452.png          0%[                    ]       0  --.-KB/s               \r",
      "Image452.png        100%[===================>]  13.83K  --.-KB/s    in 0s      \r\n",
      "\r\n",
      "2022-11-22 20:01:29 (37.9 MB/s) - ‘./MyImageFiles/Image452.png’ saved [14158/14158]\r\n",
      "\r\n",
      "--2022-11-22 20:01:29--  http://54.243.252.9/ce-5319-webroot/1-Databases/MaterialCracking/UT-881-image_src/Image453.png\r\n",
      "Reusing existing connection to 54.243.252.9:80.\r\n",
      "HTTP request sent, awaiting response... "
     ]
    },
    {
     "name": "stdout",
     "output_type": "stream",
     "text": [
      "200 OK\r\n",
      "Length: 13561 (13K) [image/png]\r\n",
      "Saving to: ‘./MyImageFiles/Image453.png’\r\n",
      "\r\n",
      "\r",
      "Image453.png          0%[                    ]       0  --.-KB/s               \r",
      "Image453.png        100%[===================>]  13.24K  --.-KB/s    in 0s      \r\n",
      "\r\n",
      "2022-11-22 20:01:29 (34.8 MB/s) - ‘./MyImageFiles/Image453.png’ saved [13561/13561]\r\n",
      "\r\n",
      "--2022-11-22 20:01:29--  http://54.243.252.9/ce-5319-webroot/1-Databases/MaterialCracking/UT-881-image_src/Image454.png\r\n",
      "Reusing existing connection to 54.243.252.9:80.\r\n",
      "HTTP request sent, awaiting response... "
     ]
    },
    {
     "name": "stdout",
     "output_type": "stream",
     "text": [
      "200 OK\r\n",
      "Length: 13415 (13K) [image/png]\r\n",
      "Saving to: ‘./MyImageFiles/Image454.png’\r\n",
      "\r\n",
      "\r",
      "Image454.png          0%[                    ]       0  --.-KB/s               \r",
      "Image454.png        100%[===================>]  13.10K  --.-KB/s    in 0s      \r\n",
      "\r\n",
      "2022-11-22 20:01:29 (58.9 MB/s) - ‘./MyImageFiles/Image454.png’ saved [13415/13415]\r\n",
      "\r\n",
      "--2022-11-22 20:01:29--  http://54.243.252.9/ce-5319-webroot/1-Databases/MaterialCracking/UT-881-image_src/Image455.png\r\n",
      "Reusing existing connection to 54.243.252.9:80.\r\n",
      "HTTP request sent, awaiting response... "
     ]
    },
    {
     "name": "stdout",
     "output_type": "stream",
     "text": [
      "200 OK\r\n",
      "Length: 14440 (14K) [image/png]\r\n",
      "Saving to: ‘./MyImageFiles/Image455.png’\r\n",
      "\r\n",
      "\r",
      "Image455.png          0%[                    ]       0  --.-KB/s               \r",
      "Image455.png        100%[===================>]  14.10K  --.-KB/s    in 0s      \r\n",
      "\r\n",
      "2022-11-22 20:01:29 (37.0 MB/s) - ‘./MyImageFiles/Image455.png’ saved [14440/14440]\r\n",
      "\r\n",
      "--2022-11-22 20:01:29--  http://54.243.252.9/ce-5319-webroot/1-Databases/MaterialCracking/UT-881-image_src/Image456.png\r\n",
      "Reusing existing connection to 54.243.252.9:80.\r\n",
      "HTTP request sent, awaiting response... "
     ]
    },
    {
     "name": "stdout",
     "output_type": "stream",
     "text": [
      "200 OK\r\n",
      "Length: 14469 (14K) [image/png]\r\n",
      "Saving to: ‘./MyImageFiles/Image456.png’\r\n",
      "\r\n",
      "\r",
      "Image456.png          0%[                    ]       0  --.-KB/s               \r",
      "Image456.png        100%[===================>]  14.13K  --.-KB/s    in 0s      \r\n",
      "\r\n",
      "2022-11-22 20:01:29 (52.4 MB/s) - ‘./MyImageFiles/Image456.png’ saved [14469/14469]\r\n",
      "\r\n",
      "--2022-11-22 20:01:29--  http://54.243.252.9/ce-5319-webroot/1-Databases/MaterialCracking/UT-881-image_src/Image457.png\r\n",
      "Reusing existing connection to 54.243.252.9:80.\r\n",
      "HTTP request sent, awaiting response... "
     ]
    },
    {
     "name": "stdout",
     "output_type": "stream",
     "text": [
      "200 OK\r\n",
      "Length: 14211 (14K) [image/png]\r\n",
      "Saving to: ‘./MyImageFiles/Image457.png’\r\n",
      "\r\n",
      "\r",
      "Image457.png          0%[                    ]       0  --.-KB/s               \r",
      "Image457.png        100%[===================>]  13.88K  --.-KB/s    in 0s      \r\n",
      "\r\n",
      "2022-11-22 20:01:29 (54.9 MB/s) - ‘./MyImageFiles/Image457.png’ saved [14211/14211]\r\n",
      "\r\n",
      "--2022-11-22 20:01:29--  http://54.243.252.9/ce-5319-webroot/1-Databases/MaterialCracking/UT-881-image_src/Image458.png\r\n",
      "Reusing existing connection to 54.243.252.9:80.\r\n",
      "HTTP request sent, awaiting response... "
     ]
    },
    {
     "name": "stdout",
     "output_type": "stream",
     "text": [
      "200 OK\r\n",
      "Length: 14768 (14K) [image/png]\r\n",
      "Saving to: ‘./MyImageFiles/Image458.png’\r\n",
      "\r\n",
      "\r",
      "Image458.png          0%[                    ]       0  --.-KB/s               \r",
      "Image458.png        100%[===================>]  14.42K  --.-KB/s    in 0s      \r\n",
      "\r\n",
      "2022-11-22 20:01:29 (47.6 MB/s) - ‘./MyImageFiles/Image458.png’ saved [14768/14768]\r\n",
      "\r\n",
      "--2022-11-22 20:01:29--  http://54.243.252.9/ce-5319-webroot/1-Databases/MaterialCracking/UT-881-image_src/Image459.png\r\n",
      "Reusing existing connection to 54.243.252.9:80.\r\n",
      "HTTP request sent, awaiting response... "
     ]
    },
    {
     "name": "stdout",
     "output_type": "stream",
     "text": [
      "200 OK\r\n",
      "Length: 8964 (8.8K) [image/png]\r\n",
      "Saving to: ‘./MyImageFiles/Image459.png’\r\n",
      "\r\n",
      "\r",
      "Image459.png          0%[                    ]       0  --.-KB/s               \r",
      "Image459.png        100%[===================>]   8.75K  --.-KB/s    in 0s      \r\n",
      "\r\n",
      "2022-11-22 20:01:29 (30.5 MB/s) - ‘./MyImageFiles/Image459.png’ saved [8964/8964]\r\n",
      "\r\n",
      "--2022-11-22 20:01:29--  http://54.243.252.9/ce-5319-webroot/1-Databases/MaterialCracking/UT-881-image_src/Image460.png\r\n",
      "Reusing existing connection to 54.243.252.9:80.\r\n",
      "HTTP request sent, awaiting response... "
     ]
    },
    {
     "name": "stdout",
     "output_type": "stream",
     "text": [
      "200 OK\r\n",
      "Length: 13312 (13K) [image/png]\r\n",
      "Saving to: ‘./MyImageFiles/Image460.png’\r\n",
      "\r\n",
      "\r",
      "Image460.png          0%[                    ]       0  --.-KB/s               \r",
      "Image460.png        100%[===================>]  13.00K  --.-KB/s    in 0s      \r\n",
      "\r\n",
      "2022-11-22 20:01:29 (42.8 MB/s) - ‘./MyImageFiles/Image460.png’ saved [13312/13312]\r\n",
      "\r\n",
      "--2022-11-22 20:01:29--  http://54.243.252.9/ce-5319-webroot/1-Databases/MaterialCracking/UT-881-image_src/Image461.png\r\n",
      "Reusing existing connection to 54.243.252.9:80.\r\n",
      "HTTP request sent, awaiting response... "
     ]
    },
    {
     "name": "stdout",
     "output_type": "stream",
     "text": [
      "200 OK\r\n",
      "Length: 13170 (13K) [image/png]\r\n",
      "Saving to: ‘./MyImageFiles/Image461.png’\r\n",
      "\r\n",
      "\r",
      "Image461.png          0%[                    ]       0  --.-KB/s               \r",
      "Image461.png        100%[===================>]  12.86K  --.-KB/s    in 0s      \r\n",
      "\r\n",
      "2022-11-22 20:01:29 (50.5 MB/s) - ‘./MyImageFiles/Image461.png’ saved [13170/13170]\r\n",
      "\r\n",
      "--2022-11-22 20:01:29--  http://54.243.252.9/ce-5319-webroot/1-Databases/MaterialCracking/UT-881-image_src/Image462.png\r\n",
      "Reusing existing connection to 54.243.252.9:80.\r\n",
      "HTTP request sent, awaiting response... "
     ]
    },
    {
     "name": "stdout",
     "output_type": "stream",
     "text": [
      "200 OK\r\n",
      "Length: 13974 (14K) [image/png]\r\n",
      "Saving to: ‘./MyImageFiles/Image462.png’\r\n",
      "\r\n",
      "\r",
      "Image462.png          0%[                    ]       0  --.-KB/s               \r",
      "Image462.png        100%[===================>]  13.65K  --.-KB/s    in 0s      \r\n",
      "\r\n",
      "2022-11-22 20:01:30 (43.9 MB/s) - ‘./MyImageFiles/Image462.png’ saved [13974/13974]\r\n",
      "\r\n",
      "--2022-11-22 20:01:30--  http://54.243.252.9/ce-5319-webroot/1-Databases/MaterialCracking/UT-881-image_src/Image463.png\r\n",
      "Reusing existing connection to 54.243.252.9:80.\r\n",
      "HTTP request sent, awaiting response... "
     ]
    },
    {
     "name": "stdout",
     "output_type": "stream",
     "text": [
      "200 OK\r\n",
      "Length: 11091 (11K) [image/png]\r\n",
      "Saving to: ‘./MyImageFiles/Image463.png’\r\n",
      "\r\n",
      "\r",
      "Image463.png          0%[                    ]       0  --.-KB/s               \r",
      "Image463.png        100%[===================>]  10.83K  --.-KB/s    in 0s      \r\n",
      "\r\n",
      "2022-11-22 20:01:30 (41.7 MB/s) - ‘./MyImageFiles/Image463.png’ saved [11091/11091]\r\n",
      "\r\n",
      "--2022-11-22 20:01:30--  http://54.243.252.9/ce-5319-webroot/1-Databases/MaterialCracking/UT-881-image_src/Image464.png\r\n",
      "Reusing existing connection to 54.243.252.9:80.\r\n",
      "HTTP request sent, awaiting response... "
     ]
    },
    {
     "name": "stdout",
     "output_type": "stream",
     "text": [
      "200 OK\r\n",
      "Length: 14419 (14K) [image/png]\r\n",
      "Saving to: ‘./MyImageFiles/Image464.png’\r\n",
      "\r\n",
      "\r",
      "Image464.png          0%[                    ]       0  --.-KB/s               \r",
      "Image464.png        100%[===================>]  14.08K  --.-KB/s    in 0s      \r\n",
      "\r\n",
      "2022-11-22 20:01:30 (37.3 MB/s) - ‘./MyImageFiles/Image464.png’ saved [14419/14419]\r\n",
      "\r\n",
      "--2022-11-22 20:01:30--  http://54.243.252.9/ce-5319-webroot/1-Databases/MaterialCracking/UT-881-image_src/Image465.png\r\n",
      "Reusing existing connection to 54.243.252.9:80.\r\n",
      "HTTP request sent, awaiting response... "
     ]
    },
    {
     "name": "stdout",
     "output_type": "stream",
     "text": [
      "200 OK\r\n",
      "Length: 13559 (13K) [image/png]\r\n",
      "Saving to: ‘./MyImageFiles/Image465.png’\r\n",
      "\r\n",
      "\r",
      "Image465.png          0%[                    ]       0  --.-KB/s               \r",
      "Image465.png        100%[===================>]  13.24K  --.-KB/s    in 0s      \r\n",
      "\r\n",
      "2022-11-22 20:01:30 (46.2 MB/s) - ‘./MyImageFiles/Image465.png’ saved [13559/13559]\r\n",
      "\r\n",
      "--2022-11-22 20:01:30--  http://54.243.252.9/ce-5319-webroot/1-Databases/MaterialCracking/UT-881-image_src/Image466.png\r\n",
      "Reusing existing connection to 54.243.252.9:80.\r\n",
      "HTTP request sent, awaiting response... "
     ]
    },
    {
     "name": "stdout",
     "output_type": "stream",
     "text": [
      "200 OK\r\n",
      "Length: 10309 (10K) [image/png]\r\n",
      "Saving to: ‘./MyImageFiles/Image466.png’\r\n",
      "\r\n",
      "\r",
      "Image466.png          0%[                    ]       0  --.-KB/s               \r",
      "Image466.png        100%[===================>]  10.07K  --.-KB/s    in 0s      \r\n",
      "\r\n",
      "2022-11-22 20:01:30 (41.2 MB/s) - ‘./MyImageFiles/Image466.png’ saved [10309/10309]\r\n",
      "\r\n",
      "--2022-11-22 20:01:30--  http://54.243.252.9/ce-5319-webroot/1-Databases/MaterialCracking/UT-881-image_src/Image467.png\r\n",
      "Reusing existing connection to 54.243.252.9:80.\r\n",
      "HTTP request sent, awaiting response... "
     ]
    },
    {
     "name": "stdout",
     "output_type": "stream",
     "text": [
      "200 OK\r\n",
      "Length: 12227 (12K) [image/png]\r\n",
      "Saving to: ‘./MyImageFiles/Image467.png’\r\n",
      "\r\n",
      "\r",
      "Image467.png          0%[                    ]       0  --.-KB/s               \r",
      "Image467.png        100%[===================>]  11.94K  --.-KB/s    in 0s      \r\n",
      "\r\n",
      "2022-11-22 20:01:30 (33.2 MB/s) - ‘./MyImageFiles/Image467.png’ saved [12227/12227]\r\n",
      "\r\n",
      "--2022-11-22 20:01:30--  http://54.243.252.9/ce-5319-webroot/1-Databases/MaterialCracking/UT-881-image_src/Image468.png\r\n",
      "Reusing existing connection to 54.243.252.9:80.\r\n",
      "HTTP request sent, awaiting response... 200 OK\r\n",
      "Length: 12338 (12K) [image/png]\r\n",
      "Saving to: ‘./MyImageFiles/Image468.png’\r\n",
      "\r\n",
      "\r",
      "Image468.png          0%[                    ]       0  --.-KB/s               \r",
      "Image468.png        100%[===================>]  12.05K  --.-KB/s    in 0s      \r\n",
      "\r\n"
     ]
    },
    {
     "name": "stdout",
     "output_type": "stream",
     "text": [
      "2022-11-22 20:01:30 (49.4 MB/s) - ‘./MyImageFiles/Image468.png’ saved [12338/12338]\r\n",
      "\r\n",
      "--2022-11-22 20:01:30--  http://54.243.252.9/ce-5319-webroot/1-Databases/MaterialCracking/UT-881-image_src/Image469.png\r\n",
      "Reusing existing connection to 54.243.252.9:80.\r\n",
      "HTTP request sent, awaiting response... 200 OK\r\n",
      "Length: 11809 (12K) [image/png]\r\n",
      "Saving to: ‘./MyImageFiles/Image469.png’\r\n",
      "\r\n",
      "\r",
      "Image469.png          0%[                    ]       0  --.-KB/s               \r",
      "Image469.png        100%[===================>]  11.53K  --.-KB/s    in 0s      \r\n",
      "\r\n",
      "2022-11-22 20:01:30 (36.8 MB/s) - ‘./MyImageFiles/Image469.png’ saved [11809/11809]\r\n",
      "\r\n",
      "--2022-11-22 20:01:30--  http://54.243.252.9/ce-5319-webroot/1-Databases/MaterialCracking/UT-881-image_src/Image470.png\r\n",
      "Reusing existing connection to 54.243.252.9:80.\r\n",
      "HTTP request sent, awaiting response... "
     ]
    },
    {
     "name": "stdout",
     "output_type": "stream",
     "text": [
      "200 OK\r\n",
      "Length: 13138 (13K) [image/png]\r\n",
      "Saving to: ‘./MyImageFiles/Image470.png’\r\n",
      "\r\n",
      "\r",
      "Image470.png          0%[                    ]       0  --.-KB/s               \r",
      "Image470.png        100%[===================>]  12.83K  --.-KB/s    in 0s      \r\n"
     ]
    },
    {
     "name": "stdout",
     "output_type": "stream",
     "text": [
      "\r\n",
      "2022-11-22 20:01:30 (31.7 MB/s) - ‘./MyImageFiles/Image470.png’ saved [13138/13138]\r\n",
      "\r\n",
      "--2022-11-22 20:01:30--  http://54.243.252.9/ce-5319-webroot/1-Databases/MaterialCracking/UT-881-image_src/Image471.png\r\n",
      "Reusing existing connection to 54.243.252.9:80.\r\n",
      "HTTP request sent, awaiting response... 200 OK\r\n",
      "Length: 13029 (13K) [image/png]\r\n",
      "Saving to: ‘./MyImageFiles/Image471.png’\r\n",
      "\r\n",
      "\r",
      "Image471.png          0%[                    ]       0  --.-KB/s               \r",
      "Image471.png        100%[===================>]  12.72K  --.-KB/s    in 0s      \r\n",
      "\r\n",
      "2022-11-22 20:01:30 (41.6 MB/s) - ‘./MyImageFiles/Image471.png’ saved [13029/13029]\r\n",
      "\r\n",
      "--2022-11-22 20:01:30--  http://54.243.252.9/ce-5319-webroot/1-Databases/MaterialCracking/UT-881-image_src/Image472.png\r\n",
      "Reusing existing connection to 54.243.252.9:80.\r\n",
      "HTTP request sent, awaiting response... "
     ]
    },
    {
     "name": "stdout",
     "output_type": "stream",
     "text": [
      "200 OK\r\n",
      "Length: 12680 (12K) [image/png]\r\n",
      "Saving to: ‘./MyImageFiles/Image472.png’\r\n",
      "\r\n",
      "\r",
      "Image472.png          0%[                    ]       0  --.-KB/s               \r",
      "Image472.png        100%[===================>]  12.38K  --.-KB/s    in 0s      \r\n",
      "\r\n",
      "2022-11-22 20:01:30 (33.2 MB/s) - ‘./MyImageFiles/Image472.png’ saved [12680/12680]\r\n",
      "\r\n",
      "--2022-11-22 20:01:30--  http://54.243.252.9/ce-5319-webroot/1-Databases/MaterialCracking/UT-881-image_src/Image473.png\r\n",
      "Reusing existing connection to 54.243.252.9:80.\r\n",
      "HTTP request sent, awaiting response... "
     ]
    },
    {
     "name": "stdout",
     "output_type": "stream",
     "text": [
      "200 OK\r\n",
      "Length: 13910 (14K) [image/png]\r\n",
      "Saving to: ‘./MyImageFiles/Image473.png’\r\n",
      "\r\n",
      "\r",
      "Image473.png          0%[                    ]       0  --.-KB/s               \r",
      "Image473.png        100%[===================>]  13.58K  --.-KB/s    in 0s      \r\n",
      "\r\n",
      "2022-11-22 20:01:30 (29.5 MB/s) - ‘./MyImageFiles/Image473.png’ saved [13910/13910]\r\n",
      "\r\n",
      "--2022-11-22 20:01:30--  http://54.243.252.9/ce-5319-webroot/1-Databases/MaterialCracking/UT-881-image_src/Image474.png\r\n",
      "Reusing existing connection to 54.243.252.9:80.\r\n",
      "HTTP request sent, awaiting response... "
     ]
    },
    {
     "name": "stdout",
     "output_type": "stream",
     "text": [
      "200 OK\r\n",
      "Length: 12846 (13K) [image/png]\r\n",
      "Saving to: ‘./MyImageFiles/Image474.png’\r\n",
      "\r\n",
      "\r",
      "Image474.png          0%[                    ]       0  --.-KB/s               \r",
      "Image474.png        100%[===================>]  12.54K  --.-KB/s    in 0s      \r\n",
      "\r\n",
      "2022-11-22 20:01:30 (33.5 MB/s) - ‘./MyImageFiles/Image474.png’ saved [12846/12846]\r\n",
      "\r\n",
      "--2022-11-22 20:01:30--  http://54.243.252.9/ce-5319-webroot/1-Databases/MaterialCracking/UT-881-image_src/Image475.png\r\n",
      "Reusing existing connection to 54.243.252.9:80.\r\n",
      "HTTP request sent, awaiting response... "
     ]
    },
    {
     "name": "stdout",
     "output_type": "stream",
     "text": [
      "200 OK\r\n",
      "Length: 15160 (15K) [image/png]\r\n",
      "Saving to: ‘./MyImageFiles/Image475.png’\r\n",
      "\r\n",
      "\r",
      "Image475.png          0%[                    ]       0  --.-KB/s               \r",
      "Image475.png        100%[===================>]  14.80K  --.-KB/s    in 0s      \r\n",
      "\r\n",
      "2022-11-22 20:01:30 (40.1 MB/s) - ‘./MyImageFiles/Image475.png’ saved [15160/15160]\r\n",
      "\r\n",
      "--2022-11-22 20:01:30--  http://54.243.252.9/ce-5319-webroot/1-Databases/MaterialCracking/UT-881-image_src/Image476.png\r\n",
      "Reusing existing connection to 54.243.252.9:80.\r\n",
      "HTTP request sent, awaiting response... "
     ]
    },
    {
     "name": "stdout",
     "output_type": "stream",
     "text": [
      "200 OK\r\n",
      "Length: 14211 (14K) [image/png]\r\n",
      "Saving to: ‘./MyImageFiles/Image476.png’\r\n",
      "\r\n",
      "\r",
      "Image476.png          0%[                    ]       0  --.-KB/s               \r",
      "Image476.png        100%[===================>]  13.88K  --.-KB/s    in 0s      \r\n",
      "\r\n",
      "2022-11-22 20:01:30 (37.0 MB/s) - ‘./MyImageFiles/Image476.png’ saved [14211/14211]\r\n",
      "\r\n",
      "--2022-11-22 20:01:30--  http://54.243.252.9/ce-5319-webroot/1-Databases/MaterialCracking/UT-881-image_src/Image477.png\r\n",
      "Reusing existing connection to 54.243.252.9:80.\r\n",
      "HTTP request sent, awaiting response... "
     ]
    },
    {
     "name": "stdout",
     "output_type": "stream",
     "text": [
      "200 OK\r\n",
      "Length: 13052 (13K) [image/png]\r\n",
      "Saving to: ‘./MyImageFiles/Image477.png’\r\n",
      "\r\n",
      "\r",
      "Image477.png          0%[                    ]       0  --.-KB/s               \r",
      "Image477.png        100%[===================>]  12.75K  --.-KB/s    in 0s      \r\n",
      "\r\n",
      "2022-11-22 20:01:30 (45.9 MB/s) - ‘./MyImageFiles/Image477.png’ saved [13052/13052]\r\n",
      "\r\n",
      "--2022-11-22 20:01:30--  http://54.243.252.9/ce-5319-webroot/1-Databases/MaterialCracking/UT-881-image_src/Image478.png\r\n",
      "Reusing existing connection to 54.243.252.9:80.\r\n",
      "HTTP request sent, awaiting response... "
     ]
    },
    {
     "name": "stdout",
     "output_type": "stream",
     "text": [
      "200 OK\r\n",
      "Length: 14687 (14K) [image/png]\r\n",
      "Saving to: ‘./MyImageFiles/Image478.png’\r\n",
      "\r\n",
      "\r",
      "Image478.png          0%[                    ]       0  --.-KB/s               \r",
      "Image478.png        100%[===================>]  14.34K  --.-KB/s    in 0s      \r\n",
      "\r\n",
      "2022-11-22 20:01:30 (53.8 MB/s) - ‘./MyImageFiles/Image478.png’ saved [14687/14687]\r\n",
      "\r\n",
      "--2022-11-22 20:01:30--  http://54.243.252.9/ce-5319-webroot/1-Databases/MaterialCracking/UT-881-image_src/Image479.png\r\n",
      "Reusing existing connection to 54.243.252.9:80.\r\n",
      "HTTP request sent, awaiting response... "
     ]
    },
    {
     "name": "stdout",
     "output_type": "stream",
     "text": [
      "200 OK\r\n",
      "Length: 12998 (13K) [image/png]\r\n",
      "Saving to: ‘./MyImageFiles/Image479.png’\r\n",
      "\r\n",
      "\r",
      "Image479.png          0%[                    ]       0  --.-KB/s               \r",
      "Image479.png        100%[===================>]  12.69K  --.-KB/s    in 0s      \r\n",
      "\r\n",
      "2022-11-22 20:01:30 (47.3 MB/s) - ‘./MyImageFiles/Image479.png’ saved [12998/12998]\r\n",
      "\r\n",
      "--2022-11-22 20:01:30--  http://54.243.252.9/ce-5319-webroot/1-Databases/MaterialCracking/UT-881-image_src/Image480.png\r\n",
      "Reusing existing connection to 54.243.252.9:80.\r\n",
      "HTTP request sent, awaiting response... "
     ]
    },
    {
     "name": "stdout",
     "output_type": "stream",
     "text": [
      "200 OK\r\n",
      "Length: 14047 (14K) [image/png]\r\n",
      "Saving to: ‘./MyImageFiles/Image480.png’\r\n",
      "\r\n",
      "\r",
      "Image480.png          0%[                    ]       0  --.-KB/s               \r",
      "Image480.png        100%[===================>]  13.72K  --.-KB/s    in 0s      \r\n",
      "\r\n",
      "2022-11-22 20:01:30 (54.0 MB/s) - ‘./MyImageFiles/Image480.png’ saved [14047/14047]\r\n",
      "\r\n",
      "--2022-11-22 20:01:30--  http://54.243.252.9/ce-5319-webroot/1-Databases/MaterialCracking/UT-881-image_src/Image481.png\r\n",
      "Reusing existing connection to 54.243.252.9:80.\r\n",
      "HTTP request sent, awaiting response... "
     ]
    },
    {
     "name": "stdout",
     "output_type": "stream",
     "text": [
      "200 OK\r\n",
      "Length: 11092 (11K) [image/png]\r\n",
      "Saving to: ‘./MyImageFiles/Image481.png’\r\n",
      "\r\n",
      "\r",
      "Image481.png          0%[                    ]       0  --.-KB/s               \r",
      "Image481.png        100%[===================>]  10.83K  --.-KB/s    in 0s      \r\n",
      "\r\n",
      "2022-11-22 20:01:30 (43.6 MB/s) - ‘./MyImageFiles/Image481.png’ saved [11092/11092]\r\n",
      "\r\n",
      "--2022-11-22 20:01:30--  http://54.243.252.9/ce-5319-webroot/1-Databases/MaterialCracking/UT-881-image_src/Image482.png\r\n",
      "Reusing existing connection to 54.243.252.9:80.\r\n",
      "HTTP request sent, awaiting response... "
     ]
    },
    {
     "name": "stdout",
     "output_type": "stream",
     "text": [
      "200 OK\r\n",
      "Length: 14161 (14K) [image/png]\r\n",
      "Saving to: ‘./MyImageFiles/Image482.png’\r\n",
      "\r\n",
      "\r",
      "Image482.png          0%[                    ]       0  --.-KB/s               \r",
      "Image482.png        100%[===================>]  13.83K  --.-KB/s    in 0s      \r\n",
      "\r\n",
      "2022-11-22 20:01:31 (53.2 MB/s) - ‘./MyImageFiles/Image482.png’ saved [14161/14161]\r\n",
      "\r\n",
      "--2022-11-22 20:01:31--  http://54.243.252.9/ce-5319-webroot/1-Databases/MaterialCracking/UT-881-image_src/Image483.png\r\n",
      "Reusing existing connection to 54.243.252.9:80.\r\n",
      "HTTP request sent, awaiting response... "
     ]
    },
    {
     "name": "stdout",
     "output_type": "stream",
     "text": [
      "200 OK\r\n",
      "Length: 13992 (14K) [image/png]\r\n",
      "Saving to: ‘./MyImageFiles/Image483.png’\r\n",
      "\r\n",
      "\r",
      "Image483.png          0%[                    ]       0  --.-KB/s               \r",
      "Image483.png        100%[===================>]  13.66K  --.-KB/s    in 0s      \r\n",
      "\r\n",
      "2022-11-22 20:01:31 (37.8 MB/s) - ‘./MyImageFiles/Image483.png’ saved [13992/13992]\r\n",
      "\r\n",
      "--2022-11-22 20:01:31--  http://54.243.252.9/ce-5319-webroot/1-Databases/MaterialCracking/UT-881-image_src/Image484.png\r\n",
      "Reusing existing connection to 54.243.252.9:80.\r\n",
      "HTTP request sent, awaiting response... "
     ]
    },
    {
     "name": "stdout",
     "output_type": "stream",
     "text": [
      "200 OK\r\n",
      "Length: 8508 (8.3K) [image/png]\r\n",
      "Saving to: ‘./MyImageFiles/Image484.png’\r\n",
      "\r\n",
      "\r",
      "Image484.png          0%[                    ]       0  --.-KB/s               \r",
      "Image484.png        100%[===================>]   8.31K  --.-KB/s    in 0s      \r\n",
      "\r\n",
      "2022-11-22 20:01:31 (23.5 MB/s) - ‘./MyImageFiles/Image484.png’ saved [8508/8508]\r\n",
      "\r\n",
      "--2022-11-22 20:01:31--  http://54.243.252.9/ce-5319-webroot/1-Databases/MaterialCracking/UT-881-image_src/Image485.png\r\n",
      "Reusing existing connection to 54.243.252.9:80.\r\n",
      "HTTP request sent, awaiting response... "
     ]
    },
    {
     "name": "stdout",
     "output_type": "stream",
     "text": [
      "200 OK\r\n",
      "Length: 13514 (13K) [image/png]\r\n",
      "Saving to: ‘./MyImageFiles/Image485.png’\r\n",
      "\r\n",
      "\r",
      "Image485.png          0%[                    ]       0  --.-KB/s               \r",
      "Image485.png        100%[===================>]  13.20K  --.-KB/s    in 0s      \r\n",
      "\r\n",
      "2022-11-22 20:01:31 (43.9 MB/s) - ‘./MyImageFiles/Image485.png’ saved [13514/13514]\r\n",
      "\r\n",
      "--2022-11-22 20:01:31--  http://54.243.252.9/ce-5319-webroot/1-Databases/MaterialCracking/UT-881-image_src/Image486.png\r\n",
      "Reusing existing connection to 54.243.252.9:80.\r\n",
      "HTTP request sent, awaiting response... "
     ]
    },
    {
     "name": "stdout",
     "output_type": "stream",
     "text": [
      "200 OK\r\n",
      "Length: 13447 (13K) [image/png]\r\n",
      "Saving to: ‘./MyImageFiles/Image486.png’\r\n",
      "\r\n",
      "\r",
      "Image486.png          0%[                    ]       0  --.-KB/s               \r",
      "Image486.png        100%[===================>]  13.13K  --.-KB/s    in 0s      \r\n",
      "\r\n",
      "2022-11-22 20:01:31 (27.8 MB/s) - ‘./MyImageFiles/Image486.png’ saved [13447/13447]\r\n",
      "\r\n",
      "--2022-11-22 20:01:31--  http://54.243.252.9/ce-5319-webroot/1-Databases/MaterialCracking/UT-881-image_src/Image487.png\r\n",
      "Reusing existing connection to 54.243.252.9:80.\r\n",
      "HTTP request sent, awaiting response... "
     ]
    },
    {
     "name": "stdout",
     "output_type": "stream",
     "text": [
      "200 OK\r\n",
      "Length: 13951 (14K) [image/png]\r\n",
      "Saving to: ‘./MyImageFiles/Image487.png’\r\n",
      "\r\n",
      "\r",
      "Image487.png          0%[                    ]       0  --.-KB/s               \r",
      "Image487.png        100%[===================>]  13.62K  --.-KB/s    in 0s      \r\n",
      "\r\n",
      "2022-11-22 20:01:31 (37.5 MB/s) - ‘./MyImageFiles/Image487.png’ saved [13951/13951]\r\n",
      "\r\n",
      "--2022-11-22 20:01:31--  http://54.243.252.9/ce-5319-webroot/1-Databases/MaterialCracking/UT-881-image_src/Image488.png\r\n",
      "Reusing existing connection to 54.243.252.9:80.\r\n",
      "HTTP request sent, awaiting response... 200 OK\r\n",
      "Length: 12032 (12K) [image/png]\r\n",
      "Saving to: ‘./MyImageFiles/Image488.png’\r\n",
      "\r\n",
      "\r",
      "Image488.png          0%[                    ]       0  --.-KB/s               \r",
      "Image488.png        100%[===================>]  11.75K  --.-KB/s    in 0s      \r\n",
      "\r\n",
      "2022-11-22 20:01:31 (59.1 MB/s) - ‘./MyImageFiles/Image488.png’ saved [12032/12032]\r\n",
      "\r\n",
      "--2022-11-22 20:01:31--  http://54.243.252.9/ce-5319-webroot/1-Databases/MaterialCracking/UT-881-image_src/Image489.png\r\n",
      "Reusing existing connection to 54.243.252.9:80.\r\n",
      "HTTP request sent, awaiting response... "
     ]
    },
    {
     "name": "stdout",
     "output_type": "stream",
     "text": [
      "200 OK\r\n",
      "Length: 13327 (13K) [image/png]\r\n",
      "Saving to: ‘./MyImageFiles/Image489.png’\r\n",
      "\r\n",
      "\r",
      "Image489.png          0%[                    ]       0  --.-KB/s               \r",
      "Image489.png        100%[===================>]  13.01K  --.-KB/s    in 0s      \r\n",
      "\r\n",
      "2022-11-22 20:01:31 (43.9 MB/s) - ‘./MyImageFiles/Image489.png’ saved [13327/13327]\r\n",
      "\r\n",
      "--2022-11-22 20:01:31--  http://54.243.252.9/ce-5319-webroot/1-Databases/MaterialCracking/UT-881-image_src/Image490.png\r\n",
      "Reusing existing connection to 54.243.252.9:80.\r\n",
      "HTTP request sent, awaiting response... "
     ]
    },
    {
     "name": "stdout",
     "output_type": "stream",
     "text": [
      "200 OK\r\n",
      "Length: 9773 (9.5K) [image/png]\r\n",
      "Saving to: ‘./MyImageFiles/Image490.png’\r\n",
      "\r\n",
      "\r",
      "Image490.png          0%[                    ]       0  --.-KB/s               \r",
      "Image490.png        100%[===================>]   9.54K  --.-KB/s    in 0s      \r\n",
      "\r\n",
      "2022-11-22 20:01:31 (27.8 MB/s) - ‘./MyImageFiles/Image490.png’ saved [9773/9773]\r\n",
      "\r\n",
      "--2022-11-22 20:01:31--  http://54.243.252.9/ce-5319-webroot/1-Databases/MaterialCracking/UT-881-image_src/Image491.png\r\n",
      "Reusing existing connection to 54.243.252.9:80.\r\n",
      "HTTP request sent, awaiting response... "
     ]
    },
    {
     "name": "stdout",
     "output_type": "stream",
     "text": [
      "200 OK\r\n",
      "Length: 15514 (15K) [image/png]\r\n",
      "Saving to: ‘./MyImageFiles/Image491.png’\r\n",
      "\r\n",
      "\r",
      "Image491.png          0%[                    ]       0  --.-KB/s               \r",
      "Image491.png        100%[===================>]  15.15K  --.-KB/s    in 0s      \r\n",
      "\r\n",
      "2022-11-22 20:01:31 (39.0 MB/s) - ‘./MyImageFiles/Image491.png’ saved [15514/15514]\r\n",
      "\r\n",
      "--2022-11-22 20:01:31--  http://54.243.252.9/ce-5319-webroot/1-Databases/MaterialCracking/UT-881-image_src/Image492.png\r\n",
      "Reusing existing connection to 54.243.252.9:80.\r\n",
      "HTTP request sent, awaiting response... "
     ]
    },
    {
     "name": "stdout",
     "output_type": "stream",
     "text": [
      "200 OK\r\n",
      "Length: 13575 (13K) [image/png]\r\n",
      "Saving to: ‘./MyImageFiles/Image492.png’\r\n",
      "\r\n",
      "\r",
      "Image492.png          0%[                    ]       0  --.-KB/s               \r",
      "Image492.png        100%[===================>]  13.26K  --.-KB/s    in 0s      \r\n",
      "\r\n",
      "2022-11-22 20:01:31 (44.1 MB/s) - ‘./MyImageFiles/Image492.png’ saved [13575/13575]\r\n",
      "\r\n",
      "--2022-11-22 20:01:31--  http://54.243.252.9/ce-5319-webroot/1-Databases/MaterialCracking/UT-881-image_src/Image493.png\r\n",
      "Reusing existing connection to 54.243.252.9:80.\r\n",
      "HTTP request sent, awaiting response... "
     ]
    },
    {
     "name": "stdout",
     "output_type": "stream",
     "text": [
      "200 OK\r\n",
      "Length: 13605 (13K) [image/png]\r\n",
      "Saving to: ‘./MyImageFiles/Image493.png’\r\n",
      "\r\n",
      "\r",
      "Image493.png          0%[                    ]       0  --.-KB/s               \r",
      "Image493.png        100%[===================>]  13.29K  --.-KB/s    in 0s      \r\n",
      "\r\n",
      "2022-11-22 20:01:31 (36.5 MB/s) - ‘./MyImageFiles/Image493.png’ saved [13605/13605]\r\n",
      "\r\n",
      "--2022-11-22 20:01:31--  http://54.243.252.9/ce-5319-webroot/1-Databases/MaterialCracking/UT-881-image_src/Image494.png\r\n",
      "Reusing existing connection to 54.243.252.9:80.\r\n",
      "HTTP request sent, awaiting response... "
     ]
    },
    {
     "name": "stdout",
     "output_type": "stream",
     "text": [
      "200 OK\r\n",
      "Length: 12721 (12K) [image/png]\r\n",
      "Saving to: ‘./MyImageFiles/Image494.png’\r\n",
      "\r\n",
      "\r",
      "Image494.png          0%[                    ]       0  --.-KB/s               \r",
      "Image494.png        100%[===================>]  12.42K  --.-KB/s    in 0s      \r\n",
      "\r\n",
      "2022-11-22 20:01:31 (46.6 MB/s) - ‘./MyImageFiles/Image494.png’ saved [12721/12721]\r\n",
      "\r\n",
      "--2022-11-22 20:01:31--  http://54.243.252.9/ce-5319-webroot/1-Databases/MaterialCracking/UT-881-image_src/Image495.png\r\n",
      "Reusing existing connection to 54.243.252.9:80.\r\n",
      "HTTP request sent, awaiting response... "
     ]
    },
    {
     "name": "stdout",
     "output_type": "stream",
     "text": [
      "200 OK\r\n",
      "Length: 14699 (14K) [image/png]\r\n",
      "Saving to: ‘./MyImageFiles/Image495.png’\r\n",
      "\r\n",
      "\r",
      "Image495.png          0%[                    ]       0  --.-KB/s               \r",
      "Image495.png        100%[===================>]  14.35K  --.-KB/s    in 0s      \r\n",
      "\r\n",
      "2022-11-22 20:01:31 (54.1 MB/s) - ‘./MyImageFiles/Image495.png’ saved [14699/14699]\r\n",
      "\r\n",
      "--2022-11-22 20:01:31--  http://54.243.252.9/ce-5319-webroot/1-Databases/MaterialCracking/UT-881-image_src/Image496.png\r\n",
      "Reusing existing connection to 54.243.252.9:80.\r\n",
      "HTTP request sent, awaiting response... "
     ]
    },
    {
     "name": "stdout",
     "output_type": "stream",
     "text": [
      "200 OK\r\n",
      "Length: 14372 (14K) [image/png]\r\n",
      "Saving to: ‘./MyImageFiles/Image496.png’\r\n",
      "\r\n",
      "\r",
      "Image496.png          0%[                    ]       0  --.-KB/s               \r",
      "Image496.png        100%[===================>]  14.04K  --.-KB/s    in 0s      \r\n",
      "\r\n",
      "2022-11-22 20:01:31 (52.7 MB/s) - ‘./MyImageFiles/Image496.png’ saved [14372/14372]\r\n",
      "\r\n",
      "--2022-11-22 20:01:31--  http://54.243.252.9/ce-5319-webroot/1-Databases/MaterialCracking/UT-881-image_src/Image497.png\r\n",
      "Reusing existing connection to 54.243.252.9:80.\r\n",
      "HTTP request sent, awaiting response... "
     ]
    },
    {
     "name": "stdout",
     "output_type": "stream",
     "text": [
      "200 OK\r\n",
      "Length: 11970 (12K) [image/png]\r\n",
      "Saving to: ‘./MyImageFiles/Image497.png’\r\n",
      "\r\n",
      "\r",
      "Image497.png          0%[                    ]       0  --.-KB/s               \r",
      "Image497.png        100%[===================>]  11.69K  --.-KB/s    in 0s      \r\n",
      "\r\n",
      "2022-11-22 20:01:31 (47.6 MB/s) - ‘./MyImageFiles/Image497.png’ saved [11970/11970]\r\n",
      "\r\n",
      "--2022-11-22 20:01:31--  http://54.243.252.9/ce-5319-webroot/1-Databases/MaterialCracking/UT-881-image_src/Image498.png\r\n",
      "Reusing existing connection to 54.243.252.9:80.\r\n",
      "HTTP request sent, awaiting response... "
     ]
    },
    {
     "name": "stdout",
     "output_type": "stream",
     "text": [
      "200 OK\r\n",
      "Length: 14035 (14K) [image/png]\r\n",
      "Saving to: ‘./MyImageFiles/Image498.png’\r\n",
      "\r\n",
      "\r",
      "Image498.png          0%[                    ]       0  --.-KB/s               \r",
      "Image498.png        100%[===================>]  13.71K  --.-KB/s    in 0s      \r\n",
      "\r\n",
      "2022-11-22 20:01:31 (56.2 MB/s) - ‘./MyImageFiles/Image498.png’ saved [14035/14035]\r\n",
      "\r\n",
      "--2022-11-22 20:01:31--  http://54.243.252.9/ce-5319-webroot/1-Databases/MaterialCracking/UT-881-image_src/Image499.png\r\n",
      "Reusing existing connection to 54.243.252.9:80.\r\n",
      "HTTP request sent, awaiting response... "
     ]
    },
    {
     "name": "stdout",
     "output_type": "stream",
     "text": [
      "200 OK\r\n",
      "Length: 13185 (13K) [image/png]\r\n",
      "Saving to: ‘./MyImageFiles/Image499.png’\r\n",
      "\r\n",
      "\r",
      "Image499.png          0%[                    ]       0  --.-KB/s               \r",
      "Image499.png        100%[===================>]  12.88K  --.-KB/s    in 0s      \r\n",
      "\r\n",
      "2022-11-22 20:01:31 (34.8 MB/s) - ‘./MyImageFiles/Image499.png’ saved [13185/13185]\r\n",
      "\r\n",
      "--2022-11-22 20:01:31--  http://54.243.252.9/ce-5319-webroot/1-Databases/MaterialCracking/UT-881-image_src/Image500.png\r\n",
      "Connecting to 54.243.252.9:80... "
     ]
    },
    {
     "name": "stdout",
     "output_type": "stream",
     "text": [
      "connected.\r\n",
      "HTTP request sent, awaiting response... "
     ]
    },
    {
     "name": "stdout",
     "output_type": "stream",
     "text": [
      "200 OK\r\n",
      "Length: 12922 (13K) [image/png]\r\n",
      "Saving to: ‘./MyImageFiles/Image500.png’\r\n",
      "\r\n",
      "\r",
      "Image500.png          0%[                    ]       0  --.-KB/s               \r",
      "Image500.png        100%[===================>]  12.62K  --.-KB/s    in 0s      \r\n",
      "\r\n",
      "2022-11-22 20:01:31 (36.0 MB/s) - ‘./MyImageFiles/Image500.png’ saved [12922/12922]\r\n",
      "\r\n",
      "--2022-11-22 20:01:31--  http://54.243.252.9/ce-5319-webroot/1-Databases/MaterialCracking/UT-881-image_src/Image501.png\r\n",
      "Reusing existing connection to 54.243.252.9:80.\r\n",
      "HTTP request sent, awaiting response... 200 OK\r\n",
      "Length: "
     ]
    },
    {
     "name": "stdout",
     "output_type": "stream",
     "text": [
      "9625 (9.4K) [image/png]\r\n",
      "Saving to: ‘./MyImageFiles/Image501.png’\r\n",
      "\r\n",
      "\r",
      "Image501.png          0%[                    ]       0  --.-KB/s               \r",
      "Image501.png        100%[===================>]   9.40K  --.-KB/s    in 0s      \r\n",
      "\r\n",
      "2022-11-22 20:01:32 (30.7 MB/s) - ‘./MyImageFiles/Image501.png’ saved [9625/9625]\r\n",
      "\r\n",
      "--2022-11-22 20:01:32--  http://54.243.252.9/ce-5319-webroot/1-Databases/MaterialCracking/UT-881-image_src/Image502.png\r\n",
      "Reusing existing connection to 54.243.252.9:80.\r\n",
      "HTTP request sent, awaiting response... 200 OK\r\n",
      "Length: 9588 (9.4K) [image/png]\r\n",
      "Saving to: ‘./MyImageFiles/Image502.png’\r\n",
      "\r\n",
      "\r",
      "Image502.png          0%[                    ]       0  --.-KB/s               \r",
      "Image502.png        100%[===================>]   9.36K  --.-KB/s    in 0s      \r\n",
      "\r\n",
      "2022-11-22 20:01:32 (28.5 MB/s) - ‘./MyImageFiles/Image502.png’ saved [9588/9588]\r\n",
      "\r\n",
      "--2022-11-22 20:01:32--  http://54.243.252.9/ce-5319-webroot/1-Databases/MaterialCracking/UT-881-image_src/Image503.png\r\n",
      "Reusing existing connection to 54.243.252.9:80.\r\n",
      "HTTP request sent, awaiting response... "
     ]
    },
    {
     "name": "stdout",
     "output_type": "stream",
     "text": [
      "200 OK\r\n",
      "Length: 13635 (13K) [image/png]\r\n",
      "Saving to: ‘./MyImageFiles/Image503.png’\r\n",
      "\r\n",
      "\r",
      "Image503.png          0%[                    ]       0  --.-KB/s               \r",
      "Image503.png        100%[===================>]  13.32K  --.-KB/s    in 0s      \r\n",
      "\r\n",
      "2022-11-22 20:01:32 (35.6 MB/s) - ‘./MyImageFiles/Image503.png’ saved [13635/13635]\r\n",
      "\r\n",
      "--2022-11-22 20:01:32--  http://54.243.252.9/ce-5319-webroot/1-Databases/MaterialCracking/UT-881-image_src/Image504.png\r\n",
      "Reusing existing connection to 54.243.252.9:80.\r\n",
      "HTTP request sent, awaiting response... "
     ]
    },
    {
     "name": "stdout",
     "output_type": "stream",
     "text": [
      "200 OK\r\n",
      "Length: 13971 (14K) [image/png]\r\n",
      "Saving to: ‘./MyImageFiles/Image504.png’\r\n",
      "\r\n",
      "\r",
      "Image504.png          0%[                    ]       0  --.-KB/s               \r",
      "Image504.png        100%[===================>]  13.64K  --.-KB/s    in 0s      \r\n",
      "\r\n",
      "2022-11-22 20:01:32 (48.1 MB/s) - ‘./MyImageFiles/Image504.png’ saved [13971/13971]\r\n",
      "\r\n",
      "--2022-11-22 20:01:32--  http://54.243.252.9/ce-5319-webroot/1-Databases/MaterialCracking/UT-881-image_src/Image505.png\r\n",
      "Reusing existing connection to 54.243.252.9:80.\r\n",
      "HTTP request sent, awaiting response... "
     ]
    },
    {
     "name": "stdout",
     "output_type": "stream",
     "text": [
      "200 OK\r\n",
      "Length: 13994 (14K) [image/png]\r\n",
      "Saving to: ‘./MyImageFiles/Image505.png’\r\n",
      "\r\n",
      "\r",
      "Image505.png          0%[                    ]       0  --.-KB/s               \r",
      "Image505.png        100%[===================>]  13.67K  --.-KB/s    in 0s      \r\n",
      "\r\n",
      "2022-11-22 20:01:32 (40.4 MB/s) - ‘./MyImageFiles/Image505.png’ saved [13994/13994]\r\n",
      "\r\n",
      "--2022-11-22 20:01:32--  http://54.243.252.9/ce-5319-webroot/1-Databases/MaterialCracking/UT-881-image_src/Image506.png\r\n",
      "Reusing existing connection to 54.243.252.9:80.\r\n",
      "HTTP request sent, awaiting response... "
     ]
    },
    {
     "name": "stdout",
     "output_type": "stream",
     "text": [
      "200 OK\r\n",
      "Length: 14343 (14K) [image/png]\r\n",
      "Saving to: ‘./MyImageFiles/Image506.png’\r\n",
      "\r\n",
      "\r",
      "Image506.png          0%[                    ]       0  --.-KB/s               \r",
      "Image506.png        100%[===================>]  14.01K  --.-KB/s    in 0s      \r\n",
      "\r\n",
      "2022-11-22 20:01:32 (41.3 MB/s) - ‘./MyImageFiles/Image506.png’ saved [14343/14343]\r\n",
      "\r\n",
      "--2022-11-22 20:01:32--  http://54.243.252.9/ce-5319-webroot/1-Databases/MaterialCracking/UT-881-image_src/Image507.png\r\n",
      "Reusing existing connection to 54.243.252.9:80.\r\n",
      "HTTP request sent, awaiting response... "
     ]
    },
    {
     "name": "stdout",
     "output_type": "stream",
     "text": [
      "200 OK\r\n",
      "Length: 14751 (14K) [image/png]\r\n",
      "Saving to: ‘./MyImageFiles/Image507.png’\r\n",
      "\r\n",
      "\r",
      "Image507.png          0%[                    ]       0  --.-KB/s               \r",
      "Image507.png        100%[===================>]  14.41K  --.-KB/s    in 0s      \r\n",
      "\r\n",
      "2022-11-22 20:01:32 (38.0 MB/s) - ‘./MyImageFiles/Image507.png’ saved [14751/14751]\r\n",
      "\r\n",
      "--2022-11-22 20:01:32--  http://54.243.252.9/ce-5319-webroot/1-Databases/MaterialCracking/UT-881-image_src/Image508.png\r\n",
      "Reusing existing connection to 54.243.252.9:80.\r\n",
      "HTTP request sent, awaiting response... "
     ]
    },
    {
     "name": "stdout",
     "output_type": "stream",
     "text": [
      "200 OK\r\n",
      "Length: 11883 (12K) [image/png]\r\n",
      "Saving to: ‘./MyImageFiles/Image508.png’\r\n",
      "\r\n",
      "\r",
      "Image508.png          0%[                    ]       0  --.-KB/s               \r",
      "Image508.png        100%[===================>]  11.60K  --.-KB/s    in 0s      \r\n",
      "\r\n",
      "2022-11-22 20:01:32 (48.3 MB/s) - ‘./MyImageFiles/Image508.png’ saved [11883/11883]\r\n",
      "\r\n",
      "--2022-11-22 20:01:32--  http://54.243.252.9/ce-5319-webroot/1-Databases/MaterialCracking/UT-881-image_src/Image509.png\r\n",
      "Reusing existing connection to 54.243.252.9:80.\r\n",
      "HTTP request sent, awaiting response... "
     ]
    },
    {
     "name": "stdout",
     "output_type": "stream",
     "text": [
      "200 OK\r\n",
      "Length: 13810 (13K) [image/png]\r\n",
      "Saving to: ‘./MyImageFiles/Image509.png’\r\n",
      "\r\n",
      "\r",
      "Image509.png          0%[                    ]       0  --.-KB/s               \r",
      "Image509.png        100%[===================>]  13.49K  --.-KB/s    in 0s      \r\n",
      "\r\n",
      "2022-11-22 20:01:32 (41.0 MB/s) - ‘./MyImageFiles/Image509.png’ saved [13810/13810]\r\n",
      "\r\n",
      "--2022-11-22 20:01:32--  http://54.243.252.9/ce-5319-webroot/1-Databases/MaterialCracking/UT-881-image_src/Image510.png\r\n",
      "Reusing existing connection to 54.243.252.9:80.\r\n",
      "HTTP request sent, awaiting response... "
     ]
    },
    {
     "name": "stdout",
     "output_type": "stream",
     "text": [
      "200 OK\r\n",
      "Length: 14477 (14K) [image/png]\r\n",
      "Saving to: ‘./MyImageFiles/Image510.png’\r\n",
      "\r\n",
      "\r",
      "Image510.png          0%[                    ]       0  --.-KB/s               \r",
      "Image510.png        100%[===================>]  14.14K  --.-KB/s    in 0s      \r\n",
      "\r\n",
      "2022-11-22 20:01:32 (44.9 MB/s) - ‘./MyImageFiles/Image510.png’ saved [14477/14477]\r\n",
      "\r\n",
      "--2022-11-22 20:01:32--  http://54.243.252.9/ce-5319-webroot/1-Databases/MaterialCracking/UT-881-image_src/Image511.png\r\n",
      "Reusing existing connection to 54.243.252.9:80.\r\n",
      "HTTP request sent, awaiting response... "
     ]
    },
    {
     "name": "stdout",
     "output_type": "stream",
     "text": [
      "200 OK\r\n",
      "Length: 11809 (12K) [image/png]\r\n",
      "Saving to: ‘./MyImageFiles/Image511.png’\r\n",
      "\r\n",
      "\r",
      "Image511.png          0%[                    ]       0  --.-KB/s               \r",
      "Image511.png        100%[===================>]  11.53K  --.-KB/s    in 0s      \r\n",
      "\r\n",
      "2022-11-22 20:01:32 (40.9 MB/s) - ‘./MyImageFiles/Image511.png’ saved [11809/11809]\r\n",
      "\r\n",
      "--2022-11-22 20:01:32--  http://54.243.252.9/ce-5319-webroot/1-Databases/MaterialCracking/UT-881-image_src/Image512.png\r\n",
      "Reusing existing connection to 54.243.252.9:80.\r\n",
      "HTTP request sent, awaiting response... "
     ]
    },
    {
     "name": "stdout",
     "output_type": "stream",
     "text": [
      "200 OK\r\n",
      "Length: 12971 (13K) [image/png]\r\n",
      "Saving to: ‘./MyImageFiles/Image512.png’\r\n",
      "\r\n",
      "\r",
      "Image512.png          0%[                    ]       0  --.-KB/s               \r",
      "Image512.png        100%[===================>]  12.67K  --.-KB/s    in 0s      \r\n",
      "\r\n",
      "2022-11-22 20:01:32 (54.5 MB/s) - ‘./MyImageFiles/Image512.png’ saved [12971/12971]\r\n",
      "\r\n",
      "--2022-11-22 20:01:32--  http://54.243.252.9/ce-5319-webroot/1-Databases/MaterialCracking/UT-881-image_src/Image513.png\r\n",
      "Reusing existing connection to 54.243.252.9:80.\r\n",
      "HTTP request sent, awaiting response... "
     ]
    },
    {
     "name": "stdout",
     "output_type": "stream",
     "text": [
      "200 OK\r\n",
      "Length: 13202 (13K) [image/png]\r\n",
      "Saving to: ‘./MyImageFiles/Image513.png’\r\n",
      "\r\n",
      "\r",
      "Image513.png          0%[                    ]       0  --.-KB/s               \r",
      "Image513.png        100%[===================>]  12.89K  --.-KB/s    in 0s      \r\n",
      "\r\n",
      "2022-11-22 20:01:32 (48.8 MB/s) - ‘./MyImageFiles/Image513.png’ saved [13202/13202]\r\n",
      "\r\n",
      "--2022-11-22 20:01:32--  http://54.243.252.9/ce-5319-webroot/1-Databases/MaterialCracking/UT-881-image_src/Image514.png\r\n",
      "Reusing existing connection to 54.243.252.9:80.\r\n",
      "HTTP request sent, awaiting response... "
     ]
    },
    {
     "name": "stdout",
     "output_type": "stream",
     "text": [
      "200 OK\r\n",
      "Length: 14713 (14K) [image/png]\r\n",
      "Saving to: ‘./MyImageFiles/Image514.png’\r\n",
      "\r\n",
      "\r",
      "Image514.png          0%[                    ]       0  --.-KB/s               \r",
      "Image514.png        100%[===================>]  14.37K  --.-KB/s    in 0s      \r\n",
      "\r\n",
      "2022-11-22 20:01:32 (59.4 MB/s) - ‘./MyImageFiles/Image514.png’ saved [14713/14713]\r\n",
      "\r\n",
      "--2022-11-22 20:01:32--  http://54.243.252.9/ce-5319-webroot/1-Databases/MaterialCracking/UT-881-image_src/Image515.png\r\n",
      "Reusing existing connection to 54.243.252.9:80.\r\n",
      "HTTP request sent, awaiting response... "
     ]
    },
    {
     "name": "stdout",
     "output_type": "stream",
     "text": [
      "200 OK\r\n",
      "Length: 15093 (15K) [image/png]\r\n",
      "Saving to: ‘./MyImageFiles/Image515.png’\r\n",
      "\r\n",
      "\r",
      "Image515.png          0%[                    ]       0  --.-KB/s               \r",
      "Image515.png        100%[===================>]  14.74K  --.-KB/s    in 0s      \r\n",
      "\r\n",
      "2022-11-22 20:01:32 (63.3 MB/s) - ‘./MyImageFiles/Image515.png’ saved [15093/15093]\r\n",
      "\r\n",
      "--2022-11-22 20:01:32--  http://54.243.252.9/ce-5319-webroot/1-Databases/MaterialCracking/UT-881-image_src/Image516.png\r\n",
      "Reusing existing connection to 54.243.252.9:80.\r\n",
      "HTTP request sent, awaiting response... "
     ]
    },
    {
     "name": "stdout",
     "output_type": "stream",
     "text": [
      "200 OK\r\n",
      "Length: 14914 (15K) [image/png]\r\n",
      "Saving to: ‘./MyImageFiles/Image516.png’\r\n",
      "\r\n",
      "\r",
      "Image516.png          0%[                    ]       0  --.-KB/s               \r",
      "Image516.png        100%[===================>]  14.56K  --.-KB/s    in 0s      \r\n",
      "\r\n",
      "2022-11-22 20:01:32 (47.7 MB/s) - ‘./MyImageFiles/Image516.png’ saved [14914/14914]\r\n",
      "\r\n",
      "--2022-11-22 20:01:32--  http://54.243.252.9/ce-5319-webroot/1-Databases/MaterialCracking/UT-881-image_src/Image517.png\r\n",
      "Reusing existing connection to 54.243.252.9:80.\r\n",
      "HTTP request sent, awaiting response... "
     ]
    },
    {
     "name": "stdout",
     "output_type": "stream",
     "text": [
      "200 OK\r\n",
      "Length: 13021 (13K) [image/png]\r\n",
      "Saving to: ‘./MyImageFiles/Image517.png’\r\n",
      "\r\n",
      "\r",
      "Image517.png          0%[                    ]       0  --.-KB/s               \r",
      "Image517.png        100%[===================>]  12.72K  --.-KB/s    in 0s      \r\n",
      "\r\n",
      "2022-11-22 20:01:32 (36.7 MB/s) - ‘./MyImageFiles/Image517.png’ saved [13021/13021]\r\n",
      "\r\n",
      "--2022-11-22 20:01:32--  http://54.243.252.9/ce-5319-webroot/1-Databases/MaterialCracking/UT-881-image_src/Image518.png\r\n",
      "Reusing existing connection to 54.243.252.9:80.\r\n",
      "HTTP request sent, awaiting response... "
     ]
    },
    {
     "name": "stdout",
     "output_type": "stream",
     "text": [
      "200 OK\r\n",
      "Length: 14227 (14K) [image/png]\r\n",
      "Saving to: ‘./MyImageFiles/Image518.png’\r\n",
      "\r\n",
      "\r",
      "Image518.png          0%[                    ]       0  --.-KB/s               \r",
      "Image518.png        100%[===================>]  13.89K  --.-KB/s    in 0s      \r\n",
      "\r\n",
      "2022-11-22 20:01:32 (45.1 MB/s) - ‘./MyImageFiles/Image518.png’ saved [14227/14227]\r\n",
      "\r\n",
      "--2022-11-22 20:01:32--  http://54.243.252.9/ce-5319-webroot/1-Databases/MaterialCracking/UT-881-image_src/Image519.png\r\n",
      "Reusing existing connection to 54.243.252.9:80.\r\n",
      "HTTP request sent, awaiting response... "
     ]
    },
    {
     "name": "stdout",
     "output_type": "stream",
     "text": [
      "200 OK\r\n",
      "Length: 13582 (13K) [image/png]\r\n",
      "Saving to: ‘./MyImageFiles/Image519.png’\r\n",
      "\r\n",
      "\r",
      "Image519.png          0%[                    ]       0  --.-KB/s               \r",
      "Image519.png        100%[===================>]  13.26K  --.-KB/s    in 0s      \r\n",
      "\r\n",
      "2022-11-22 20:01:32 (37.8 MB/s) - ‘./MyImageFiles/Image519.png’ saved [13582/13582]\r\n",
      "\r\n",
      "--2022-11-22 20:01:32--  http://54.243.252.9/ce-5319-webroot/1-Databases/MaterialCracking/UT-881-image_src/Image520.png\r\n",
      "Reusing existing connection to 54.243.252.9:80.\r\n",
      "HTTP request sent, awaiting response... "
     ]
    },
    {
     "name": "stdout",
     "output_type": "stream",
     "text": [
      "200 OK\r\n",
      "Length: 14275 (14K) [image/png]\r\n",
      "Saving to: ‘./MyImageFiles/Image520.png’\r\n",
      "\r\n",
      "\r",
      "Image520.png          0%[                    ]       0  --.-KB/s               \r",
      "Image520.png        100%[===================>]  13.94K  --.-KB/s    in 0s      \r\n",
      "\r\n",
      "2022-11-22 20:01:32 (40.5 MB/s) - ‘./MyImageFiles/Image520.png’ saved [14275/14275]\r\n",
      "\r\n",
      "--2022-11-22 20:01:32--  http://54.243.252.9/ce-5319-webroot/1-Databases/MaterialCracking/UT-881-image_src/Image521.png\r\n",
      "Reusing existing connection to 54.243.252.9:80.\r\n",
      "HTTP request sent, awaiting response... "
     ]
    },
    {
     "name": "stdout",
     "output_type": "stream",
     "text": [
      "200 OK\r\n",
      "Length: 14093 (14K) [image/png]\r\n",
      "Saving to: ‘./MyImageFiles/Image521.png’\r\n",
      "\r\n",
      "\r",
      "Image521.png          0%[                    ]       0  --.-KB/s               \r",
      "Image521.png        100%[===================>]  13.76K  --.-KB/s    in 0s      \r\n",
      "\r\n",
      "2022-11-22 20:01:33 (40.0 MB/s) - ‘./MyImageFiles/Image521.png’ saved [14093/14093]\r\n",
      "\r\n",
      "--2022-11-22 20:01:33--  http://54.243.252.9/ce-5319-webroot/1-Databases/MaterialCracking/UT-881-image_src/Image522.png\r\n",
      "Reusing existing connection to 54.243.252.9:80.\r\n",
      "HTTP request sent, awaiting response... 200 OK\r\n",
      "Length: "
     ]
    },
    {
     "name": "stdout",
     "output_type": "stream",
     "text": [
      "11967 (12K) [image/png]\r\n",
      "Saving to: ‘./MyImageFiles/Image522.png’\r\n",
      "\r\n",
      "\r",
      "Image522.png          0%[                    ]       0  --.-KB/s               \r",
      "Image522.png        100%[===================>]  11.69K  --.-KB/s    in 0s      \r\n",
      "\r\n",
      "2022-11-22 20:01:33 (35.4 MB/s) - ‘./MyImageFiles/Image522.png’ saved [11967/11967]\r\n",
      "\r\n",
      "--2022-11-22 20:01:33--  http://54.243.252.9/ce-5319-webroot/1-Databases/MaterialCracking/UT-881-image_src/Image523.png\r\n",
      "Reusing existing connection to 54.243.252.9:80.\r\n",
      "HTTP request sent, awaiting response... 200 OK\r\n",
      "Length: 15224 (15K) [image/png]\r\n",
      "Saving to: ‘./MyImageFiles/Image523.png’\r\n",
      "\r\n",
      "\r",
      "Image523.png          0%[                    ]       0  --.-KB/s               \r",
      "Image523.png        100%[===================>]  14.87K  --.-KB/s    in 0s      \r\n",
      "\r\n",
      "2022-11-22 20:01:33 (59.6 MB/s) - ‘./MyImageFiles/Image523.png’ saved [15224/15224]\r\n",
      "\r\n",
      "--2022-11-22 20:01:33--  http://54.243.252.9/ce-5319-webroot/1-Databases/MaterialCracking/UT-881-image_src/Image524.png\r\n",
      "Reusing existing connection to 54.243.252.9:80.\r\n",
      "HTTP request sent, awaiting response... "
     ]
    },
    {
     "name": "stdout",
     "output_type": "stream",
     "text": [
      "200 OK\r\n",
      "Length: 11975 (12K) [image/png]\r\n",
      "Saving to: ‘./MyImageFiles/Image524.png’\r\n",
      "\r\n",
      "\r",
      "Image524.png          0%[                    ]       0  --.-KB/s               \r",
      "Image524.png        100%[===================>]  11.69K  --.-KB/s    in 0s      \r\n",
      "\r\n",
      "2022-11-22 20:01:33 (36.1 MB/s) - ‘./MyImageFiles/Image524.png’ saved [11975/11975]\r\n",
      "\r\n",
      "--2022-11-22 20:01:33--  http://54.243.252.9/ce-5319-webroot/1-Databases/MaterialCracking/UT-881-image_src/Image525.png\r\n",
      "Reusing existing connection to 54.243.252.9:80.\r\n",
      "HTTP request sent, awaiting response... "
     ]
    },
    {
     "name": "stdout",
     "output_type": "stream",
     "text": [
      "200 OK\r\n",
      "Length: 14315 (14K) [image/png]\r\n",
      "Saving to: ‘./MyImageFiles/Image525.png’\r\n",
      "\r\n",
      "\r",
      "Image525.png          0%[                    ]       0  --.-KB/s               \r",
      "Image525.png        100%[===================>]  13.98K  --.-KB/s    in 0.001s  \r\n",
      "\r\n",
      "2022-11-22 20:01:33 (25.1 MB/s) - ‘./MyImageFiles/Image525.png’ saved [14315/14315]\r\n",
      "\r\n",
      "--2022-11-22 20:01:33--  http://54.243.252.9/ce-5319-webroot/1-Databases/MaterialCracking/UT-881-image_src/Image526.png\r\n",
      "Reusing existing connection to 54.243.252.9:80.\r\n",
      "HTTP request sent, awaiting response... "
     ]
    },
    {
     "name": "stdout",
     "output_type": "stream",
     "text": [
      "200 OK\r\n",
      "Length: 14622 (14K) [image/png]\r\n",
      "Saving to: ‘./MyImageFiles/Image526.png’\r\n",
      "\r\n",
      "\r",
      "Image526.png          0%[                    ]       0  --.-KB/s               "
     ]
    },
    {
     "name": "stdout",
     "output_type": "stream",
     "text": [
      "\r",
      "Image526.png        100%[===================>]  14.28K  --.-KB/s    in 0.005s  \r\n",
      "\r\n",
      "2022-11-22 20:01:33 (2.92 MB/s) - ‘./MyImageFiles/Image526.png’ saved [14622/14622]\r\n",
      "\r\n",
      "--2022-11-22 20:01:33--  http://54.243.252.9/ce-5319-webroot/1-Databases/MaterialCracking/UT-881-image_src/Image527.png\r\n",
      "Reusing existing connection to 54.243.252.9:80.\r\n",
      "HTTP request sent, awaiting response... 200 OK\r\n",
      "Length: 14058 (14K) [image/png]\r\n",
      "Saving to: ‘./MyImageFiles/Image527.png’\r\n",
      "\r\n",
      "\r",
      "Image527.png          0%[                    ]       0  --.-KB/s               \r",
      "Image527.png        100%[===================>]  13.73K  --.-KB/s    in 0s      \r\n",
      "\r\n",
      "2022-11-22 20:01:33 (59.9 MB/s) - ‘./MyImageFiles/Image527.png’ saved [14058/14058]\r\n",
      "\r\n",
      "--2022-11-22 20:01:33--  http://54.243.252.9/ce-5319-webroot/1-Databases/MaterialCracking/UT-881-image_src/Image528.png\r\n",
      "Reusing existing connection to 54.243.252.9:80.\r\n",
      "HTTP request sent, awaiting response... "
     ]
    },
    {
     "name": "stdout",
     "output_type": "stream",
     "text": [
      "200 OK\r\n",
      "Length: "
     ]
    },
    {
     "name": "stdout",
     "output_type": "stream",
     "text": [
      "14485 (14K) [image/png]\r\n",
      "Saving to: ‘./MyImageFiles/Image528.png’\r\n",
      "\r\n",
      "\r",
      "Image528.png          0%[                    ]       0  --.-KB/s               \r",
      "Image528.png        100%[===================>]  14.15K  --.-KB/s    in 0s      \r\n",
      "\r\n",
      "2022-11-22 20:01:33 (35.1 MB/s) - ‘./MyImageFiles/Image528.png’ saved [14485/14485]\r\n",
      "\r\n",
      "--2022-11-22 20:01:33--  http://54.243.252.9/ce-5319-webroot/1-Databases/MaterialCracking/UT-881-image_src/Image529.png\r\n",
      "Reusing existing connection to 54.243.252.9:80.\r\n",
      "HTTP request sent, awaiting response... 200 OK\r\n",
      "Length: 11067 (11K) [image/png]\r\n",
      "Saving to: ‘./MyImageFiles/Image529.png’\r\n",
      "\r\n",
      "\r",
      "Image529.png          0%[                    ]       0  --.-KB/s               \r",
      "Image529.png        100%[===================>]  10.81K  --.-KB/s    in 0s      \r\n",
      "\r\n",
      "2022-11-22 20:01:33 (40.8 MB/s) - ‘./MyImageFiles/Image529.png’ saved [11067/11067]\r\n",
      "\r\n",
      "--2022-11-22 20:01:33--  http://54.243.252.9/ce-5319-webroot/1-Databases/MaterialCracking/UT-881-image_src/Image530.png\r\n",
      "Reusing existing connection to 54.243.252.9:80.\r\n",
      "HTTP request sent, awaiting response... "
     ]
    },
    {
     "name": "stdout",
     "output_type": "stream",
     "text": [
      "200 OK\r\n",
      "Length: 13560 (13K) [image/png]\r\n",
      "Saving to: ‘./MyImageFiles/Image530.png’\r\n",
      "\r\n",
      "\r",
      "Image530.png          0%[                    ]       0  --.-KB/s               \r",
      "Image530.png        100%[===================>]  13.24K  --.-KB/s    in 0s      \r\n",
      "\r\n",
      "2022-11-22 20:01:33 (39.9 MB/s) - ‘./MyImageFiles/Image530.png’ saved [13560/13560]\r\n",
      "\r\n",
      "--2022-11-22 20:01:33--  http://54.243.252.9/ce-5319-webroot/1-Databases/MaterialCracking/UT-881-image_src/Image531.png\r\n",
      "Reusing existing connection to 54.243.252.9:80.\r\n",
      "HTTP request sent, awaiting response... "
     ]
    },
    {
     "name": "stdout",
     "output_type": "stream",
     "text": [
      "200 OK\r\n",
      "Length: 14220 (14K) [image/png]\r\n",
      "Saving to: ‘./MyImageFiles/Image531.png’\r\n",
      "\r\n",
      "\r",
      "Image531.png          0%[                    ]       0  --.-KB/s               \r",
      "Image531.png        100%[===================>]  13.89K  --.-KB/s    in 0s      \r\n",
      "\r\n",
      "2022-11-22 20:01:33 (43.9 MB/s) - ‘./MyImageFiles/Image531.png’ saved [14220/14220]\r\n",
      "\r\n",
      "--2022-11-22 20:01:33--  http://54.243.252.9/ce-5319-webroot/1-Databases/MaterialCracking/UT-881-image_src/Image532.png\r\n",
      "Reusing existing connection to 54.243.252.9:80.\r\n",
      "HTTP request sent, awaiting response... "
     ]
    },
    {
     "name": "stdout",
     "output_type": "stream",
     "text": [
      "200 OK\r\n",
      "Length: 12351 (12K) [image/png]\r\n",
      "Saving to: ‘./MyImageFiles/Image532.png’\r\n",
      "\r\n",
      "\r",
      "Image532.png          0%[                    ]       0  --.-KB/s               \r",
      "Image532.png        100%[===================>]  12.06K  --.-KB/s    in 0s      \r\n",
      "\r\n",
      "2022-11-22 20:01:33 (32.1 MB/s) - ‘./MyImageFiles/Image532.png’ saved [12351/12351]\r\n",
      "\r\n",
      "--2022-11-22 20:01:33--  http://54.243.252.9/ce-5319-webroot/1-Databases/MaterialCracking/UT-881-image_src/Image533.png\r\n",
      "Reusing existing connection to 54.243.252.9:80.\r\n",
      "HTTP request sent, awaiting response... "
     ]
    },
    {
     "name": "stdout",
     "output_type": "stream",
     "text": [
      "200 OK\r\n",
      "Length: 11264 (11K) [image/png]\r\n",
      "Saving to: ‘./MyImageFiles/Image533.png’\r\n",
      "\r\n",
      "\r",
      "Image533.png          0%[                    ]       0  --.-KB/s               \r",
      "Image533.png        100%[===================>]  11.00K  --.-KB/s    in 0s      \r\n",
      "\r\n",
      "2022-11-22 20:01:33 (41.2 MB/s) - ‘./MyImageFiles/Image533.png’ saved [11264/11264]\r\n",
      "\r\n",
      "--2022-11-22 20:01:33--  http://54.243.252.9/ce-5319-webroot/1-Databases/MaterialCracking/UT-881-image_src/Image534.png\r\n",
      "Reusing existing connection to 54.243.252.9:80.\r\n",
      "HTTP request sent, awaiting response... "
     ]
    },
    {
     "name": "stdout",
     "output_type": "stream",
     "text": [
      "200 OK\r\n",
      "Length: 15487 (15K) [image/png]\r\n",
      "Saving to: ‘./MyImageFiles/Image534.png’\r\n",
      "\r\n",
      "\r",
      "Image534.png          0%[                    ]       0  --.-KB/s               \r",
      "Image534.png        100%[===================>]  15.12K  --.-KB/s    in 0s      \r\n",
      "\r\n",
      "2022-11-22 20:01:33 (41.8 MB/s) - ‘./MyImageFiles/Image534.png’ saved [15487/15487]\r\n",
      "\r\n",
      "--2022-11-22 20:01:33--  http://54.243.252.9/ce-5319-webroot/1-Databases/MaterialCracking/UT-881-image_src/Image535.png\r\n",
      "Reusing existing connection to 54.243.252.9:80.\r\n",
      "HTTP request sent, awaiting response... "
     ]
    },
    {
     "name": "stdout",
     "output_type": "stream",
     "text": [
      "200 OK\r\n",
      "Length: 12621 (12K) [image/png]\r\n",
      "Saving to: ‘./MyImageFiles/Image535.png’\r\n",
      "\r\n",
      "\r",
      "Image535.png          0%[                    ]       0  --.-KB/s               \r",
      "Image535.png        100%[===================>]  12.33K  --.-KB/s    in 0s      \r\n",
      "\r\n",
      "2022-11-22 20:01:33 (36.6 MB/s) - ‘./MyImageFiles/Image535.png’ saved [12621/12621]\r\n",
      "\r\n",
      "--2022-11-22 20:01:33--  http://54.243.252.9/ce-5319-webroot/1-Databases/MaterialCracking/UT-881-image_src/Image536.png\r\n",
      "Reusing existing connection to 54.243.252.9:80.\r\n",
      "HTTP request sent, awaiting response... "
     ]
    },
    {
     "name": "stdout",
     "output_type": "stream",
     "text": [
      "200 OK\r\n",
      "Length: 12850 (13K) [image/png]\r\n",
      "Saving to: ‘./MyImageFiles/Image536.png’\r\n",
      "\r\n",
      "\r",
      "Image536.png          0%[                    ]       0  --.-KB/s               \r",
      "Image536.png        100%[===================>]  12.55K  --.-KB/s    in 0s      \r\n",
      "\r\n",
      "2022-11-22 20:01:33 (32.4 MB/s) - ‘./MyImageFiles/Image536.png’ saved [12850/12850]\r\n",
      "\r\n",
      "--2022-11-22 20:01:33--  http://54.243.252.9/ce-5319-webroot/1-Databases/MaterialCracking/UT-881-image_src/Image537.png\r\n",
      "Reusing existing connection to 54.243.252.9:80.\r\n",
      "HTTP request sent, awaiting response... "
     ]
    },
    {
     "name": "stdout",
     "output_type": "stream",
     "text": [
      "200 OK\r\n",
      "Length: 10111 (9.9K) [image/png]\r\n",
      "Saving to: ‘./MyImageFiles/Image537.png’\r\n",
      "\r\n",
      "\r",
      "Image537.png          0%[                    ]       0  --.-KB/s               \r",
      "Image537.png        100%[===================>]   9.87K  --.-KB/s    in 0s      \r\n",
      "\r\n",
      "2022-11-22 20:01:33 (34.4 MB/s) - ‘./MyImageFiles/Image537.png’ saved [10111/10111]\r\n",
      "\r\n",
      "--2022-11-22 20:01:33--  http://54.243.252.9/ce-5319-webroot/1-Databases/MaterialCracking/UT-881-image_src/Image538.png\r\n",
      "Reusing existing connection to 54.243.252.9:80.\r\n",
      "HTTP request sent, awaiting response... "
     ]
    },
    {
     "name": "stdout",
     "output_type": "stream",
     "text": [
      "200 OK\r\n",
      "Length: 12065 (12K) [image/png]\r\n",
      "Saving to: ‘./MyImageFiles/Image538.png’\r\n",
      "\r\n",
      "\r",
      "Image538.png          0%[                    ]       0  --.-KB/s               \r",
      "Image538.png        100%[===================>]  11.78K  --.-KB/s    in 0s      \r\n",
      "\r\n",
      "2022-11-22 20:01:33 (39.7 MB/s) - ‘./MyImageFiles/Image538.png’ saved [12065/12065]\r\n",
      "\r\n",
      "--2022-11-22 20:01:33--  http://54.243.252.9/ce-5319-webroot/1-Databases/MaterialCracking/UT-881-image_src/Image539.png\r\n",
      "Reusing existing connection to 54.243.252.9:80.\r\n",
      "HTTP request sent, awaiting response... "
     ]
    },
    {
     "name": "stdout",
     "output_type": "stream",
     "text": [
      "200 OK\r\n",
      "Length: 13432 (13K) [image/png]\r\n",
      "Saving to: ‘./MyImageFiles/Image539.png’\r\n",
      "\r\n",
      "\r",
      "Image539.png          0%[                    ]       0  --.-KB/s               \r",
      "Image539.png        100%[===================>]  13.12K  --.-KB/s    in 0s      \r\n",
      "\r\n",
      "2022-11-22 20:01:33 (47.2 MB/s) - ‘./MyImageFiles/Image539.png’ saved [13432/13432]\r\n",
      "\r\n",
      "--2022-11-22 20:01:33--  http://54.243.252.9/ce-5319-webroot/1-Databases/MaterialCracking/UT-881-image_src/Image540.png\r\n",
      "Reusing existing connection to 54.243.252.9:80.\r\n",
      "HTTP request sent, awaiting response... "
     ]
    },
    {
     "name": "stdout",
     "output_type": "stream",
     "text": [
      "200 OK\r\n",
      "Length: 13272 (13K) [image/png]\r\n",
      "Saving to: ‘./MyImageFiles/Image540.png’\r\n",
      "\r\n",
      "\r",
      "Image540.png          0%[                    ]       0  --.-KB/s               \r",
      "Image540.png        100%[===================>]  12.96K  --.-KB/s    in 0s      \r\n",
      "\r\n",
      "2022-11-22 20:01:33 (47.0 MB/s) - ‘./MyImageFiles/Image540.png’ saved [13272/13272]\r\n",
      "\r\n",
      "--2022-11-22 20:01:33--  http://54.243.252.9/ce-5319-webroot/1-Databases/MaterialCracking/UT-881-image_src/Image541.png\r\n",
      "Reusing existing connection to 54.243.252.9:80.\r\n",
      "HTTP request sent, awaiting response... "
     ]
    },
    {
     "name": "stdout",
     "output_type": "stream",
     "text": [
      "200 OK\r\n",
      "Length: 15221 (15K) [image/png]\r\n",
      "Saving to: ‘./MyImageFiles/Image541.png’\r\n",
      "\r\n",
      "\r",
      "Image541.png          0%[                    ]       0  --.-KB/s               \r",
      "Image541.png        100%[===================>]  14.86K  --.-KB/s    in 0s      \r\n",
      "\r\n",
      "2022-11-22 20:01:34 (49.3 MB/s) - ‘./MyImageFiles/Image541.png’ saved [15221/15221]\r\n",
      "\r\n",
      "--2022-11-22 20:01:34--  http://54.243.252.9/ce-5319-webroot/1-Databases/MaterialCracking/UT-881-image_src/Image542.png\r\n",
      "Reusing existing connection to 54.243.252.9:80.\r\n",
      "HTTP request sent, awaiting response... "
     ]
    },
    {
     "name": "stdout",
     "output_type": "stream",
     "text": [
      "200 OK\r\n",
      "Length: 13524 (13K) [image/png]\r\n",
      "Saving to: ‘./MyImageFiles/Image542.png’\r\n",
      "\r\n",
      "\r",
      "Image542.png          0%[                    ]       0  --.-KB/s               \r",
      "Image542.png        100%[===================>]  13.21K  --.-KB/s    in 0s      \r\n",
      "\r\n",
      "2022-11-22 20:01:34 (34.5 MB/s) - ‘./MyImageFiles/Image542.png’ saved [13524/13524]\r\n",
      "\r\n",
      "--2022-11-22 20:01:34--  http://54.243.252.9/ce-5319-webroot/1-Databases/MaterialCracking/UT-881-image_src/Image543.png\r\n",
      "Reusing existing connection to 54.243.252.9:80.\r\n",
      "HTTP request sent, awaiting response... "
     ]
    },
    {
     "name": "stdout",
     "output_type": "stream",
     "text": [
      "200 OK\r\n",
      "Length: 13659 (13K) [image/png]\r\n",
      "Saving to: ‘./MyImageFiles/Image543.png’\r\n",
      "\r\n",
      "\r",
      "Image543.png          0%[                    ]       0  --.-KB/s               \r",
      "Image543.png        100%[===================>]  13.34K  --.-KB/s    in 0s      \r\n",
      "\r\n",
      "2022-11-22 20:01:34 (39.4 MB/s) - ‘./MyImageFiles/Image543.png’ saved [13659/13659]\r\n",
      "\r\n",
      "--2022-11-22 20:01:34--  http://54.243.252.9/ce-5319-webroot/1-Databases/MaterialCracking/UT-881-image_src/Image544.png\r\n",
      "Reusing existing connection to 54.243.252.9:80.\r\n",
      "HTTP request sent, awaiting response... "
     ]
    },
    {
     "name": "stdout",
     "output_type": "stream",
     "text": [
      "200 OK\r\n",
      "Length: 12370 (12K) [image/png]\r\n",
      "Saving to: ‘./MyImageFiles/Image544.png’\r\n",
      "\r\n",
      "\r",
      "Image544.png          0%[                    ]       0  --.-KB/s               \r",
      "Image544.png        100%[===================>]  12.08K  --.-KB/s    in 0s      \r\n",
      "\r\n",
      "2022-11-22 20:01:34 (33.4 MB/s) - ‘./MyImageFiles/Image544.png’ saved [12370/12370]\r\n",
      "\r\n",
      "--2022-11-22 20:01:34--  http://54.243.252.9/ce-5319-webroot/1-Databases/MaterialCracking/UT-881-image_src/Image545.png\r\n",
      "Reusing existing connection to 54.243.252.9:80.\r\n",
      "HTTP request sent, awaiting response... "
     ]
    },
    {
     "name": "stdout",
     "output_type": "stream",
     "text": [
      "200 OK\r\n",
      "Length: 14681 (14K) [image/png]\r\n",
      "Saving to: ‘./MyImageFiles/Image545.png’\r\n",
      "\r\n",
      "\r",
      "Image545.png          0%[                    ]       0  --.-KB/s               \r",
      "Image545.png        100%[===================>]  14.34K  --.-KB/s    in 0s      \r\n",
      "\r\n",
      "2022-11-22 20:01:34 (43.2 MB/s) - ‘./MyImageFiles/Image545.png’ saved [14681/14681]\r\n",
      "\r\n",
      "--2022-11-22 20:01:34--  http://54.243.252.9/ce-5319-webroot/1-Databases/MaterialCracking/UT-881-image_src/Image546.png\r\n",
      "Reusing existing connection to 54.243.252.9:80.\r\n",
      "HTTP request sent, awaiting response... "
     ]
    },
    {
     "name": "stdout",
     "output_type": "stream",
     "text": [
      "200 OK\r\n",
      "Length: 14039 (14K) [image/png]\r\n",
      "Saving to: ‘./MyImageFiles/Image546.png’\r\n",
      "\r\n",
      "\r",
      "Image546.png          0%[                    ]       0  --.-KB/s               \r",
      "Image546.png        100%[===================>]  13.71K  --.-KB/s    in 0s      \r\n",
      "\r\n",
      "2022-11-22 20:01:34 (53.2 MB/s) - ‘./MyImageFiles/Image546.png’ saved [14039/14039]\r\n",
      "\r\n",
      "--2022-11-22 20:01:34--  http://54.243.252.9/ce-5319-webroot/1-Databases/MaterialCracking/UT-881-image_src/Image547.png\r\n",
      "Reusing existing connection to 54.243.252.9:80.\r\n",
      "HTTP request sent, awaiting response... 200 OK\r\n",
      "Length: "
     ]
    },
    {
     "name": "stdout",
     "output_type": "stream",
     "text": [
      "12967 (13K) [image/png]\r\n",
      "Saving to: ‘./MyImageFiles/Image547.png’\r\n",
      "\r\n",
      "\r",
      "Image547.png          0%[                    ]       0  --.-KB/s               \r",
      "Image547.png        100%[===================>]  12.66K  --.-KB/s    in 0s      \r\n",
      "\r\n",
      "2022-11-22 20:01:34 (33.9 MB/s) - ‘./MyImageFiles/Image547.png’ saved [12967/12967]\r\n",
      "\r\n",
      "--2022-11-22 20:01:34--  http://54.243.252.9/ce-5319-webroot/1-Databases/MaterialCracking/UT-881-image_src/Image548.png\r\n",
      "Reusing existing connection to 54.243.252.9:80.\r\n",
      "HTTP request sent, awaiting response... 200 OK\r\n",
      "Length: 13781 (13K) [image/png]\r\n",
      "Saving to: ‘./MyImageFiles/Image548.png’\r\n",
      "\r\n",
      "\r",
      "Image548.png          0%[                    ]       0  --.-KB/s               \r",
      "Image548.png        100%[===================>]  13.46K  --.-KB/s    in 0s      "
     ]
    },
    {
     "name": "stdout",
     "output_type": "stream",
     "text": [
      "\r\n",
      "\r\n",
      "2022-11-22 20:01:34 (38.0 MB/s) - ‘./MyImageFiles/Image548.png’ saved [13781/13781]\r\n",
      "\r\n",
      "--2022-11-22 20:01:34--  http://54.243.252.9/ce-5319-webroot/1-Databases/MaterialCracking/UT-881-image_src/Image549.png\r\n",
      "Reusing existing connection to 54.243.252.9:80.\r\n",
      "HTTP request sent, awaiting response... 200 OK\r\n",
      "Length: 14765 (14K) [image/png]\r\n",
      "Saving to: ‘./MyImageFiles/Image549.png’\r\n",
      "\r\n",
      "\r",
      "Image549.png          0%[                    ]       0  --.-KB/s               \r",
      "Image549.png        100%[===================>]  14.42K  --.-KB/s    in 0s      \r\n",
      "\r\n",
      "2022-11-22 20:01:34 (41.6 MB/s) - ‘./MyImageFiles/Image549.png’ saved [14765/14765]\r\n",
      "\r\n",
      "--2022-11-22 20:01:34--  http://54.243.252.9/ce-5319-webroot/1-Databases/MaterialCracking/UT-881-image_src/Image550.png\r\n",
      "Reusing existing connection to 54.243.252.9:80.\r\n",
      "HTTP request sent, awaiting response... "
     ]
    },
    {
     "name": "stdout",
     "output_type": "stream",
     "text": [
      "200 OK\r\n",
      "Length: 12373 (12K) [image/png]\r\n",
      "Saving to: ‘./MyImageFiles/Image550.png’\r\n",
      "\r\n",
      "\r",
      "Image550.png          0%[                    ]       0  --.-KB/s               \r",
      "Image550.png        100%[===================>]  12.08K  --.-KB/s    in 0s      \r\n",
      "\r\n",
      "2022-11-22 20:01:34 (26.6 MB/s) - ‘./MyImageFiles/Image550.png’ saved [12373/12373]\r\n",
      "\r\n",
      "--2022-11-22 20:01:34--  http://54.243.252.9/ce-5319-webroot/1-Databases/MaterialCracking/UT-881-image_src/Image551.png\r\n",
      "Reusing existing connection to 54.243.252.9:80.\r\n",
      "HTTP request sent, awaiting response... "
     ]
    },
    {
     "name": "stdout",
     "output_type": "stream",
     "text": [
      "200 OK\r\n",
      "Length: 14030 (14K) [image/png]\r\n",
      "Saving to: ‘./MyImageFiles/Image551.png’\r\n",
      "\r\n",
      "\r",
      "Image551.png          0%[                    ]       0  --.-KB/s               \r",
      "Image551.png        100%[===================>]  13.70K  --.-KB/s    in 0s      \r\n",
      "\r\n",
      "2022-11-22 20:01:34 (41.5 MB/s) - ‘./MyImageFiles/Image551.png’ saved [14030/14030]\r\n",
      "\r\n",
      "--2022-11-22 20:01:34--  http://54.243.252.9/ce-5319-webroot/1-Databases/MaterialCracking/UT-881-image_src/Image552.png\r\n",
      "Reusing existing connection to 54.243.252.9:80.\r\n",
      "HTTP request sent, awaiting response... "
     ]
    },
    {
     "name": "stdout",
     "output_type": "stream",
     "text": [
      "200 OK\r\n",
      "Length: 12486 (12K) [image/png]\r\n",
      "Saving to: ‘./MyImageFiles/Image552.png’\r\n",
      "\r\n",
      "\r",
      "Image552.png          0%[                    ]       0  --.-KB/s               \r",
      "Image552.png        100%[===================>]  12.19K  --.-KB/s    in 0s      \r\n",
      "\r\n",
      "2022-11-22 20:01:34 (31.9 MB/s) - ‘./MyImageFiles/Image552.png’ saved [12486/12486]\r\n",
      "\r\n",
      "--2022-11-22 20:01:34--  http://54.243.252.9/ce-5319-webroot/1-Databases/MaterialCracking/UT-881-image_src/Image553.png\r\n",
      "Reusing existing connection to 54.243.252.9:80.\r\n",
      "HTTP request sent, awaiting response... "
     ]
    },
    {
     "name": "stdout",
     "output_type": "stream",
     "text": [
      "200 OK\r\n",
      "Length: 14451 (14K) [image/png]\r\n",
      "Saving to: ‘./MyImageFiles/Image553.png’\r\n",
      "\r\n",
      "\r",
      "Image553.png          0%[                    ]       0  --.-KB/s               \r",
      "Image553.png        100%[===================>]  14.11K  --.-KB/s    in 0s      \r\n",
      "\r\n",
      "2022-11-22 20:01:34 (35.2 MB/s) - ‘./MyImageFiles/Image553.png’ saved [14451/14451]\r\n",
      "\r\n",
      "--2022-11-22 20:01:34--  http://54.243.252.9/ce-5319-webroot/1-Databases/MaterialCracking/UT-881-image_src/Image554.png\r\n",
      "Reusing existing connection to 54.243.252.9:80.\r\n",
      "HTTP request sent, awaiting response... "
     ]
    },
    {
     "name": "stdout",
     "output_type": "stream",
     "text": [
      "200 OK\r\n",
      "Length: 14390 (14K) [image/png]\r\n",
      "Saving to: ‘./MyImageFiles/Image554.png’\r\n",
      "\r\n",
      "\r",
      "Image554.png          0%[                    ]       0  --.-KB/s               \r",
      "Image554.png        100%[===================>]  14.05K  --.-KB/s    in 0s      \r\n",
      "\r\n",
      "2022-11-22 20:01:34 (43.8 MB/s) - ‘./MyImageFiles/Image554.png’ saved [14390/14390]\r\n",
      "\r\n",
      "--2022-11-22 20:01:34--  http://54.243.252.9/ce-5319-webroot/1-Databases/MaterialCracking/UT-881-image_src/Image555.png\r\n",
      "Reusing existing connection to 54.243.252.9:80.\r\n",
      "HTTP request sent, awaiting response... "
     ]
    },
    {
     "name": "stdout",
     "output_type": "stream",
     "text": [
      "200 OK\r\n",
      "Length: 11210 (11K) [image/png]\r\n",
      "Saving to: ‘./MyImageFiles/Image555.png’\r\n",
      "\r\n",
      "\r",
      "Image555.png          0%[                    ]       0  --.-KB/s               \r",
      "Image555.png        100%[===================>]  10.95K  --.-KB/s    in 0s      \r\n",
      "\r\n",
      "2022-11-22 20:01:34 (37.2 MB/s) - ‘./MyImageFiles/Image555.png’ saved [11210/11210]\r\n",
      "\r\n",
      "--2022-11-22 20:01:34--  http://54.243.252.9/ce-5319-webroot/1-Databases/MaterialCracking/UT-881-image_src/Image556.png\r\n",
      "Reusing existing connection to 54.243.252.9:80.\r\n",
      "HTTP request sent, awaiting response... "
     ]
    },
    {
     "name": "stdout",
     "output_type": "stream",
     "text": [
      "200 OK\r\n",
      "Length: 14242 (14K) [image/png]\r\n",
      "Saving to: ‘./MyImageFiles/Image556.png’\r\n",
      "\r\n",
      "\r",
      "Image556.png          0%[                    ]       0  --.-KB/s               \r",
      "Image556.png        100%[===================>]  13.91K  --.-KB/s    in 0s      \r\n",
      "\r\n",
      "2022-11-22 20:01:34 (40.4 MB/s) - ‘./MyImageFiles/Image556.png’ saved [14242/14242]\r\n",
      "\r\n",
      "--2022-11-22 20:01:34--  http://54.243.252.9/ce-5319-webroot/1-Databases/MaterialCracking/UT-881-image_src/Image557.png\r\n",
      "Reusing existing connection to 54.243.252.9:80.\r\n",
      "HTTP request sent, awaiting response... "
     ]
    },
    {
     "name": "stdout",
     "output_type": "stream",
     "text": [
      "200 OK\r\n",
      "Length: 13744 (13K) [image/png]\r\n",
      "Saving to: ‘./MyImageFiles/Image557.png’\r\n",
      "\r\n",
      "\r",
      "Image557.png          0%[                    ]       0  --.-KB/s               \r",
      "Image557.png        100%[===================>]  13.42K  --.-KB/s    in 0s      \r\n",
      "\r\n",
      "2022-11-22 20:01:34 (49.8 MB/s) - ‘./MyImageFiles/Image557.png’ saved [13744/13744]\r\n",
      "\r\n",
      "--2022-11-22 20:01:34--  http://54.243.252.9/ce-5319-webroot/1-Databases/MaterialCracking/UT-881-image_src/Image558.png\r\n",
      "Reusing existing connection to 54.243.252.9:80.\r\n",
      "HTTP request sent, awaiting response... "
     ]
    },
    {
     "name": "stdout",
     "output_type": "stream",
     "text": [
      "200 OK\r\n",
      "Length: 13288 (13K) [image/png]\r\n",
      "Saving to: ‘./MyImageFiles/Image558.png’\r\n",
      "\r\n",
      "\r",
      "Image558.png          0%[                    ]       0  --.-KB/s               \r",
      "Image558.png        100%[===================>]  12.98K  --.-KB/s    in 0s      \r\n",
      "\r\n",
      "2022-11-22 20:01:34 (33.0 MB/s) - ‘./MyImageFiles/Image558.png’ saved [13288/13288]\r\n",
      "\r\n",
      "--2022-11-22 20:01:34--  http://54.243.252.9/ce-5319-webroot/1-Databases/MaterialCracking/UT-881-image_src/Image559.png\r\n",
      "Reusing existing connection to 54.243.252.9:80.\r\n",
      "HTTP request sent, awaiting response... "
     ]
    },
    {
     "name": "stdout",
     "output_type": "stream",
     "text": [
      "200 OK\r\n",
      "Length: 9578 (9.4K) [image/png]\r\n",
      "Saving to: ‘./MyImageFiles/Image559.png’\r\n",
      "\r\n",
      "\r",
      "Image559.png          0%[                    ]       0  --.-KB/s               \r",
      "Image559.png        100%[===================>]   9.35K  --.-KB/s    in 0s      \r\n",
      "\r\n",
      "2022-11-22 20:01:34 (35.7 MB/s) - ‘./MyImageFiles/Image559.png’ saved [9578/9578]\r\n",
      "\r\n",
      "--2022-11-22 20:01:34--  http://54.243.252.9/ce-5319-webroot/1-Databases/MaterialCracking/UT-881-image_src/Image560.png\r\n",
      "Reusing existing connection to 54.243.252.9:80.\r\n",
      "HTTP request sent, awaiting response... "
     ]
    },
    {
     "name": "stdout",
     "output_type": "stream",
     "text": [
      "200 OK\r\n",
      "Length: 12804 (13K) [image/png]\r\n",
      "Saving to: ‘./MyImageFiles/Image560.png’\r\n",
      "\r\n",
      "\r",
      "Image560.png          0%[                    ]       0  --.-KB/s               \r",
      "Image560.png        100%[===================>]  12.50K  --.-KB/s    in 0s      \r\n",
      "\r\n",
      "2022-11-22 20:01:35 (46.9 MB/s) - ‘./MyImageFiles/Image560.png’ saved [12804/12804]\r\n",
      "\r\n",
      "--2022-11-22 20:01:35--  http://54.243.252.9/ce-5319-webroot/1-Databases/MaterialCracking/UT-881-image_src/Image561.png\r\n",
      "Reusing existing connection to 54.243.252.9:80.\r\n",
      "HTTP request sent, awaiting response... "
     ]
    },
    {
     "name": "stdout",
     "output_type": "stream",
     "text": [
      "200 OK\r\n",
      "Length: 13284 (13K) [image/png]\r\n",
      "Saving to: ‘./MyImageFiles/Image561.png’\r\n",
      "\r\n",
      "\r",
      "Image561.png          0%[                    ]       0  --.-KB/s               \r",
      "Image561.png        100%[===================>]  12.97K  --.-KB/s    in 0s      \r\n",
      "\r\n",
      "2022-11-22 20:01:35 (30.1 MB/s) - ‘./MyImageFiles/Image561.png’ saved [13284/13284]\r\n",
      "\r\n",
      "--2022-11-22 20:01:35--  http://54.243.252.9/ce-5319-webroot/1-Databases/MaterialCracking/UT-881-image_src/Image562.png\r\n",
      "Reusing existing connection to 54.243.252.9:80.\r\n",
      "HTTP request sent, awaiting response... "
     ]
    },
    {
     "name": "stdout",
     "output_type": "stream",
     "text": [
      "200 OK\r\n",
      "Length: 12100 (12K) [image/png]\r\n",
      "Saving to: ‘./MyImageFiles/Image562.png’\r\n",
      "\r\n",
      "\r",
      "Image562.png          0%[                    ]       0  --.-KB/s               \r",
      "Image562.png        100%[===================>]  11.82K  --.-KB/s    in 0s      \r\n",
      "\r\n",
      "2022-11-22 20:01:35 (43.3 MB/s) - ‘./MyImageFiles/Image562.png’ saved [12100/12100]\r\n",
      "\r\n",
      "--2022-11-22 20:01:35--  http://54.243.252.9/ce-5319-webroot/1-Databases/MaterialCracking/UT-881-image_src/Image563.png\r\n",
      "Reusing existing connection to 54.243.252.9:80.\r\n",
      "HTTP request sent, awaiting response... "
     ]
    },
    {
     "name": "stdout",
     "output_type": "stream",
     "text": [
      "200 OK\r\n",
      "Length: 12462 (12K) [image/png]\r\n",
      "Saving to: ‘./MyImageFiles/Image563.png’\r\n",
      "\r\n",
      "\r",
      "Image563.png          0%[                    ]       0  --.-KB/s               \r",
      "Image563.png        100%[===================>]  12.17K  --.-KB/s    in 0s      \r\n",
      "\r\n",
      "2022-11-22 20:01:35 (34.7 MB/s) - ‘./MyImageFiles/Image563.png’ saved [12462/12462]\r\n",
      "\r\n",
      "--2022-11-22 20:01:35--  http://54.243.252.9/ce-5319-webroot/1-Databases/MaterialCracking/UT-881-image_src/Image564.png\r\n",
      "Reusing existing connection to 54.243.252.9:80.\r\n",
      "HTTP request sent, awaiting response... "
     ]
    },
    {
     "name": "stdout",
     "output_type": "stream",
     "text": [
      "200 OK\r\n",
      "Length: 13808 (13K) [image/png]\r\n",
      "Saving to: ‘./MyImageFiles/Image564.png’\r\n",
      "\r\n",
      "\r",
      "Image564.png          0%[                    ]       0  --.-KB/s               \r",
      "Image564.png        100%[===================>]  13.48K  --.-KB/s    in 0s      \r\n",
      "\r\n",
      "2022-11-22 20:01:35 (33.0 MB/s) - ‘./MyImageFiles/Image564.png’ saved [13808/13808]\r\n",
      "\r\n",
      "--2022-11-22 20:01:35--  http://54.243.252.9/ce-5319-webroot/1-Databases/MaterialCracking/UT-881-image_src/Image565.png\r\n",
      "Reusing existing connection to 54.243.252.9:80.\r\n",
      "HTTP request sent, awaiting response... "
     ]
    },
    {
     "name": "stdout",
     "output_type": "stream",
     "text": [
      "200 OK\r\n",
      "Length: 14978 (15K) [image/png]\r\n",
      "Saving to: ‘./MyImageFiles/Image565.png’\r\n",
      "\r\n",
      "\r",
      "Image565.png          0%[                    ]       0  --.-KB/s               \r",
      "Image565.png        100%[===================>]  14.63K  --.-KB/s    in 0s      \r\n",
      "\r\n",
      "2022-11-22 20:01:35 (40.0 MB/s) - ‘./MyImageFiles/Image565.png’ saved [14978/14978]\r\n",
      "\r\n",
      "--2022-11-22 20:01:35--  http://54.243.252.9/ce-5319-webroot/1-Databases/MaterialCracking/UT-881-image_src/Image566.png\r\n",
      "Reusing existing connection to 54.243.252.9:80.\r\n",
      "HTTP request sent, awaiting response... 200 OK\r\n",
      "Length: 12632 (12K) [image/png]\r\n",
      "Saving to: ‘./MyImageFiles/Image566.png’\r\n",
      "\r\n",
      "\r",
      "Image566.png          0%[                    ]       0  --.-KB/s               \r",
      "Image566.png        100%[===================>]  12.34K  --.-KB/s    in 0s      \r\n",
      "\r\n",
      "2022-11-22 20:01:35 (36.5 MB/s) - ‘./MyImageFiles/Image566.png’ saved [12632/12632]\r\n",
      "\r\n",
      "--2022-11-22 20:01:35--  http://54.243.252.9/ce-5319-webroot/1-Databases/MaterialCracking/UT-881-image_src/Image567.png\r\n",
      "Reusing existing connection to 54.243.252.9:80.\r\n",
      "HTTP request sent, awaiting response... "
     ]
    },
    {
     "name": "stdout",
     "output_type": "stream",
     "text": [
      "200 OK\r\n",
      "Length: 13649 (13K) [image/png]\r\n",
      "Saving to: ‘./MyImageFiles/Image567.png’\r\n",
      "\r\n",
      "\r",
      "Image567.png          0%[                    ]       0  --.-KB/s               \r",
      "Image567.png        100%[===================>]  13.33K  --.-KB/s    in 0s      \r\n",
      "\r\n",
      "2022-11-22 20:01:35 (46.1 MB/s) - ‘./MyImageFiles/Image567.png’ saved [13649/13649]\r\n",
      "\r\n",
      "--2022-11-22 20:01:35--  http://54.243.252.9/ce-5319-webroot/1-Databases/MaterialCracking/UT-881-image_src/Image568.png\r\n",
      "Reusing existing connection to 54.243.252.9:80.\r\n",
      "HTTP request sent, awaiting response... "
     ]
    },
    {
     "name": "stdout",
     "output_type": "stream",
     "text": [
      "200 OK\r\n",
      "Length: 13795 (13K) [image/png]\r\n",
      "Saving to: ‘./MyImageFiles/Image568.png’\r\n",
      "\r\n",
      "\r",
      "Image568.png          0%[                    ]       0  --.-KB/s               \r",
      "Image568.png        100%[===================>]  13.47K  --.-KB/s    in 0s      \r\n",
      "\r\n",
      "2022-11-22 20:01:35 (39.4 MB/s) - ‘./MyImageFiles/Image568.png’ saved [13795/13795]\r\n",
      "\r\n",
      "--2022-11-22 20:01:35--  http://54.243.252.9/ce-5319-webroot/1-Databases/MaterialCracking/UT-881-image_src/Image569.png\r\n",
      "Reusing existing connection to 54.243.252.9:80.\r\n",
      "HTTP request sent, awaiting response... "
     ]
    },
    {
     "name": "stdout",
     "output_type": "stream",
     "text": [
      "200 OK\r\n",
      "Length: 13618 (13K) [image/png]\r\n",
      "Saving to: ‘./MyImageFiles/Image569.png’\r\n",
      "\r\n",
      "\r",
      "Image569.png          0%[                    ]       0  --.-KB/s               \r",
      "Image569.png        100%[===================>]  13.30K  --.-KB/s    in 0s      \r\n",
      "\r\n",
      "2022-11-22 20:01:35 (40.6 MB/s) - ‘./MyImageFiles/Image569.png’ saved [13618/13618]\r\n",
      "\r\n",
      "--2022-11-22 20:01:35--  http://54.243.252.9/ce-5319-webroot/1-Databases/MaterialCracking/UT-881-image_src/Image570.png\r\n",
      "Reusing existing connection to 54.243.252.9:80.\r\n",
      "HTTP request sent, awaiting response... "
     ]
    },
    {
     "name": "stdout",
     "output_type": "stream",
     "text": [
      "200 OK\r\n",
      "Length: 13888 (14K) [image/png]\r\n",
      "Saving to: ‘./MyImageFiles/Image570.png’\r\n",
      "\r\n",
      "\r",
      "Image570.png          0%[                    ]       0  --.-KB/s               \r",
      "Image570.png        100%[===================>]  13.56K  --.-KB/s    in 0s      \r\n",
      "\r\n",
      "2022-11-22 20:01:35 (36.7 MB/s) - ‘./MyImageFiles/Image570.png’ saved [13888/13888]\r\n",
      "\r\n",
      "--2022-11-22 20:01:35--  http://54.243.252.9/ce-5319-webroot/1-Databases/MaterialCracking/UT-881-image_src/Image571.png\r\n",
      "Reusing existing connection to 54.243.252.9:80.\r\n",
      "HTTP request sent, awaiting response... "
     ]
    },
    {
     "name": "stdout",
     "output_type": "stream",
     "text": [
      "200 OK\r\n",
      "Length: 13963 (14K) [image/png]\r\n",
      "Saving to: ‘./MyImageFiles/Image571.png’\r\n",
      "\r\n",
      "\r",
      "Image571.png          0%[                    ]       0  --.-KB/s               \r",
      "Image571.png        100%[===================>]  13.64K  --.-KB/s    in 0s      \r\n",
      "\r\n",
      "2022-11-22 20:01:35 (42.3 MB/s) - ‘./MyImageFiles/Image571.png’ saved [13963/13963]\r\n",
      "\r\n",
      "--2022-11-22 20:01:35--  http://54.243.252.9/ce-5319-webroot/1-Databases/MaterialCracking/UT-881-image_src/Image572.png\r\n",
      "Reusing existing connection to 54.243.252.9:80.\r\n",
      "HTTP request sent, awaiting response... "
     ]
    },
    {
     "name": "stdout",
     "output_type": "stream",
     "text": [
      "200 OK\r\n",
      "Length: 13068 (13K) [image/png]\r\n",
      "Saving to: ‘./MyImageFiles/Image572.png’\r\n",
      "\r\n",
      "\r",
      "Image572.png          0%[                    ]       0  --.-KB/s               \r",
      "Image572.png        100%[===================>]  12.76K  --.-KB/s    in 0s      \r\n",
      "\r\n",
      "2022-11-22 20:01:35 (45.9 MB/s) - ‘./MyImageFiles/Image572.png’ saved [13068/13068]\r\n",
      "\r\n",
      "--2022-11-22 20:01:35--  http://54.243.252.9/ce-5319-webroot/1-Databases/MaterialCracking/UT-881-image_src/Image573.png\r\n",
      "Reusing existing connection to 54.243.252.9:80.\r\n",
      "HTTP request sent, awaiting response... "
     ]
    },
    {
     "name": "stdout",
     "output_type": "stream",
     "text": [
      "200 OK\r\n",
      "Length: 15168 (15K) [image/png]\r\n",
      "Saving to: ‘./MyImageFiles/Image573.png’\r\n",
      "\r\n",
      "\r",
      "Image573.png          0%[                    ]       0  --.-KB/s               \r",
      "Image573.png        100%[===================>]  14.81K  --.-KB/s    in 0s      \r\n",
      "\r\n",
      "2022-11-22 20:01:35 (39.3 MB/s) - ‘./MyImageFiles/Image573.png’ saved [15168/15168]\r\n",
      "\r\n",
      "--2022-11-22 20:01:35--  http://54.243.252.9/ce-5319-webroot/1-Databases/MaterialCracking/UT-881-image_src/Image574.png\r\n",
      "Reusing existing connection to 54.243.252.9:80.\r\n",
      "HTTP request sent, awaiting response... "
     ]
    },
    {
     "name": "stdout",
     "output_type": "stream",
     "text": [
      "200 OK\r\n",
      "Length: 10167 (9.9K) [image/png]\r\n",
      "Saving to: ‘./MyImageFiles/Image574.png’\r\n",
      "\r\n",
      "\r",
      "Image574.png          0%[                    ]       0  --.-KB/s               \r",
      "Image574.png        100%[===================>]   9.93K  --.-KB/s    in 0s      \r\n",
      "\r\n",
      "2022-11-22 20:01:35 (30.7 MB/s) - ‘./MyImageFiles/Image574.png’ saved [10167/10167]\r\n",
      "\r\n",
      "--2022-11-22 20:01:35--  http://54.243.252.9/ce-5319-webroot/1-Databases/MaterialCracking/UT-881-image_src/Image575.png\r\n",
      "Reusing existing connection to 54.243.252.9:80.\r\n",
      "HTTP request sent, awaiting response... "
     ]
    },
    {
     "name": "stdout",
     "output_type": "stream",
     "text": [
      "200 OK\r\n",
      "Length: 12870 (13K) [image/png]\r\n",
      "Saving to: ‘./MyImageFiles/Image575.png’\r\n",
      "\r\n",
      "\r",
      "Image575.png          0%[                    ]       0  --.-KB/s               \r",
      "Image575.png        100%[===================>]  12.57K  --.-KB/s    in 0s      \r\n",
      "\r\n",
      "2022-11-22 20:01:35 (47.1 MB/s) - ‘./MyImageFiles/Image575.png’ saved [12870/12870]\r\n",
      "\r\n",
      "--2022-11-22 20:01:35--  http://54.243.252.9/ce-5319-webroot/1-Databases/MaterialCracking/UT-881-image_src/Image576.png\r\n",
      "Reusing existing connection to 54.243.252.9:80.\r\n",
      "HTTP request sent, awaiting response... "
     ]
    },
    {
     "name": "stdout",
     "output_type": "stream",
     "text": [
      "200 OK\r\n",
      "Length: 13854 (14K) [image/png]\r\n",
      "Saving to: ‘./MyImageFiles/Image576.png’\r\n",
      "\r\n",
      "\r",
      "Image576.png          0%[                    ]       0  --.-KB/s               \r",
      "Image576.png        100%[===================>]  13.53K  --.-KB/s    in 0s      \r\n",
      "\r\n",
      "2022-11-22 20:01:35 (42.5 MB/s) - ‘./MyImageFiles/Image576.png’ saved [13854/13854]\r\n",
      "\r\n",
      "--2022-11-22 20:01:35--  http://54.243.252.9/ce-5319-webroot/1-Databases/MaterialCracking/UT-881-image_src/Image577.png\r\n",
      "Reusing existing connection to 54.243.252.9:80.\r\n",
      "HTTP request sent, awaiting response... "
     ]
    },
    {
     "name": "stdout",
     "output_type": "stream",
     "text": [
      "200 OK\r\n",
      "Length: 12589 (12K) [image/png]\r\n",
      "Saving to: ‘./MyImageFiles/Image577.png’\r\n",
      "\r\n",
      "\r",
      "Image577.png          0%[                    ]       0  --.-KB/s               \r",
      "Image577.png        100%[===================>]  12.29K  --.-KB/s    in 0s      \r\n",
      "\r\n",
      "2022-11-22 20:01:35 (44.1 MB/s) - ‘./MyImageFiles/Image577.png’ saved [12589/12589]\r\n",
      "\r\n",
      "--2022-11-22 20:01:35--  http://54.243.252.9/ce-5319-webroot/1-Databases/MaterialCracking/UT-881-image_src/Image578.png\r\n",
      "Reusing existing connection to 54.243.252.9:80.\r\n",
      "HTTP request sent, awaiting response... "
     ]
    },
    {
     "name": "stdout",
     "output_type": "stream",
     "text": [
      "200 OK\r\n",
      "Length: 14032 (14K) [image/png]\r\n",
      "Saving to: ‘./MyImageFiles/Image578.png’\r\n",
      "\r\n",
      "\r",
      "Image578.png          0%[                    ]       0  --.-KB/s               \r",
      "Image578.png        100%[===================>]  13.70K  --.-KB/s    in 0s      \r\n",
      "\r\n",
      "2022-11-22 20:01:35 (52.1 MB/s) - ‘./MyImageFiles/Image578.png’ saved [14032/14032]\r\n",
      "\r\n",
      "--2022-11-22 20:01:35--  http://54.243.252.9/ce-5319-webroot/1-Databases/MaterialCracking/UT-881-image_src/Image579.png\r\n",
      "Reusing existing connection to 54.243.252.9:80.\r\n",
      "HTTP request sent, awaiting response... "
     ]
    },
    {
     "name": "stdout",
     "output_type": "stream",
     "text": [
      "200 OK\r\n",
      "Length: 11038 (11K) [image/png]\r\n",
      "Saving to: ‘./MyImageFiles/Image579.png’\r\n",
      "\r\n",
      "\r",
      "Image579.png          0%[                    ]       0  --.-KB/s               \r",
      "Image579.png        100%[===================>]  10.78K  --.-KB/s    in 0s      \r\n",
      "\r\n",
      "2022-11-22 20:01:35 (45.5 MB/s) - ‘./MyImageFiles/Image579.png’ saved [11038/11038]\r\n",
      "\r\n",
      "--2022-11-22 20:01:35--  http://54.243.252.9/ce-5319-webroot/1-Databases/MaterialCracking/UT-881-image_src/Image580.png\r\n",
      "Reusing existing connection to 54.243.252.9:80.\r\n",
      "HTTP request sent, awaiting response... "
     ]
    },
    {
     "name": "stdout",
     "output_type": "stream",
     "text": [
      "200 OK\r\n",
      "Length: 10542 (10K) [image/png]\r\n",
      "Saving to: ‘./MyImageFiles/Image580.png’\r\n",
      "\r\n",
      "\r",
      "Image580.png          0%[                    ]       0  --.-KB/s               \r",
      "Image580.png        100%[===================>]  10.29K  --.-KB/s    in 0s      \r\n",
      "\r\n",
      "2022-11-22 20:01:36 (41.3 MB/s) - ‘./MyImageFiles/Image580.png’ saved [10542/10542]\r\n",
      "\r\n",
      "--2022-11-22 20:01:36--  http://54.243.252.9/ce-5319-webroot/1-Databases/MaterialCracking/UT-881-image_src/Image581.png\r\n",
      "Reusing existing connection to 54.243.252.9:80.\r\n",
      "HTTP request sent, awaiting response... "
     ]
    },
    {
     "name": "stdout",
     "output_type": "stream",
     "text": [
      "200 OK\r\n",
      "Length: 14624 (14K) [image/png]\r\n",
      "Saving to: ‘./MyImageFiles/Image581.png’\r\n",
      "\r\n",
      "\r",
      "Image581.png          0%[                    ]       0  --.-KB/s               \r",
      "Image581.png        100%[===================>]  14.28K  --.-KB/s    in 0s      \r\n",
      "\r\n",
      "2022-11-22 20:01:36 (37.2 MB/s) - ‘./MyImageFiles/Image581.png’ saved [14624/14624]\r\n",
      "\r\n",
      "--2022-11-22 20:01:36--  http://54.243.252.9/ce-5319-webroot/1-Databases/MaterialCracking/UT-881-image_src/Image582.png\r\n",
      "Reusing existing connection to 54.243.252.9:80.\r\n",
      "HTTP request sent, awaiting response... 200 OK\r\n",
      "Length: 15021 (15K) [image/png]\r\n",
      "Saving to: ‘./MyImageFiles/Image582.png’\r\n",
      "\r\n",
      "\r",
      "Image582.png          0%[                    ]       0  --.-KB/s               \r",
      "Image582.png        100%[===================>]  14.67K  --.-KB/s    in 0s      \r\n",
      "\r\n",
      "2022-11-22 20:01:36 (47.6 MB/s) - ‘./MyImageFiles/Image582.png’ saved [15021/15021]\r\n",
      "\r\n"
     ]
    },
    {
     "name": "stdout",
     "output_type": "stream",
     "text": [
      "--2022-11-22 20:01:36--  http://54.243.252.9/ce-5319-webroot/1-Databases/MaterialCracking/UT-881-image_src/Image583.png\r\n",
      "Reusing existing connection to 54.243.252.9:80.\r\n",
      "HTTP request sent, awaiting response... 200 OK\r\n",
      "Length: 13505 (13K) [image/png]\r\n",
      "Saving to: ‘./MyImageFiles/Image583.png’\r\n",
      "\r\n",
      "\r",
      "Image583.png          0%[                    ]       0  --.-KB/s               \r",
      "Image583.png        100%[===================>]  13.19K  --.-KB/s    in 0s      \r\n",
      "\r\n",
      "2022-11-22 20:01:36 (34.1 MB/s) - ‘./MyImageFiles/Image583.png’ saved [13505/13505]\r\n",
      "\r\n",
      "--2022-11-22 20:01:36--  http://54.243.252.9/ce-5319-webroot/1-Databases/MaterialCracking/UT-881-image_src/Image584.png\r\n",
      "Reusing existing connection to 54.243.252.9:80.\r\n",
      "HTTP request sent, awaiting response... "
     ]
    },
    {
     "name": "stdout",
     "output_type": "stream",
     "text": [
      "200 OK\r\n",
      "Length: 13443 (13K) [image/png]\r\n",
      "Saving to: ‘./MyImageFiles/Image584.png’\r\n",
      "\r\n",
      "\r",
      "Image584.png          0%[                    ]       0  --.-KB/s               \r",
      "Image584.png        100%[===================>]  13.13K  --.-KB/s    in 0s      \r\n",
      "\r\n",
      "2022-11-22 20:01:36 (32.9 MB/s) - ‘./MyImageFiles/Image584.png’ saved [13443/13443]\r\n",
      "\r\n",
      "--2022-11-22 20:01:36--  http://54.243.252.9/ce-5319-webroot/1-Databases/MaterialCracking/UT-881-image_src/Image585.png\r\n",
      "Reusing existing connection to 54.243.252.9:80.\r\n",
      "HTTP request sent, awaiting response... "
     ]
    },
    {
     "name": "stdout",
     "output_type": "stream",
     "text": [
      "200 OK\r\n",
      "Length: 15016 (15K) [image/png]\r\n",
      "Saving to: ‘./MyImageFiles/Image585.png’\r\n",
      "\r\n",
      "\r",
      "Image585.png          0%[                    ]       0  --.-KB/s               \r",
      "Image585.png        100%[===================>]  14.66K  --.-KB/s    in 0s      \r\n",
      "\r\n",
      "2022-11-22 20:01:36 (52.2 MB/s) - ‘./MyImageFiles/Image585.png’ saved [15016/15016]\r\n",
      "\r\n",
      "--2022-11-22 20:01:36--  http://54.243.252.9/ce-5319-webroot/1-Databases/MaterialCracking/UT-881-image_src/Image586.png\r\n",
      "Reusing existing connection to 54.243.252.9:80.\r\n",
      "HTTP request sent, awaiting response... "
     ]
    },
    {
     "name": "stdout",
     "output_type": "stream",
     "text": [
      "200 OK\r\n",
      "Length: 9293 (9.1K) [image/png]\r\n",
      "Saving to: ‘./MyImageFiles/Image586.png’\r\n",
      "\r\n",
      "\r",
      "Image586.png          0%[                    ]       0  --.-KB/s               \r",
      "Image586.png        100%[===================>]   9.08K  --.-KB/s    in 0s      \r\n",
      "\r\n",
      "2022-11-22 20:01:36 (40.8 MB/s) - ‘./MyImageFiles/Image586.png’ saved [9293/9293]\r\n",
      "\r\n",
      "--2022-11-22 20:01:36--  http://54.243.252.9/ce-5319-webroot/1-Databases/MaterialCracking/UT-881-image_src/Image587.png\r\n",
      "Reusing existing connection to 54.243.252.9:80.\r\n",
      "HTTP request sent, awaiting response... "
     ]
    },
    {
     "name": "stdout",
     "output_type": "stream",
     "text": [
      "200 OK\r\n",
      "Length: 14725 (14K) [image/png]\r\n",
      "Saving to: ‘./MyImageFiles/Image587.png’\r\n",
      "\r\n",
      "\r",
      "Image587.png          0%[                    ]       0  --.-KB/s               \r",
      "Image587.png        100%[===================>]  14.38K  --.-KB/s    in 0s      \r\n",
      "\r\n",
      "2022-11-22 20:01:36 (41.5 MB/s) - ‘./MyImageFiles/Image587.png’ saved [14725/14725]\r\n",
      "\r\n",
      "--2022-11-22 20:01:36--  http://54.243.252.9/ce-5319-webroot/1-Databases/MaterialCracking/UT-881-image_src/Image588.png\r\n",
      "Reusing existing connection to 54.243.252.9:80.\r\n",
      "HTTP request sent, awaiting response... 200 OK\r\n",
      "Length: 13403 (13K) [image/png]\r\n",
      "Saving to: ‘./MyImageFiles/Image588.png’\r\n",
      "\r\n",
      "\r",
      "Image588.png          0%[                    ]       0  --.-KB/s               \r",
      "Image588.png        100%[===================>]  13.09K  --.-KB/s    in 0s      \r\n",
      "\r\n",
      "2022-11-22 20:01:36 (46.1 MB/s) - ‘./MyImageFiles/Image588.png’ saved [13403/13403]\r\n",
      "\r\n",
      "--2022-11-22 20:01:36--  http://54.243.252.9/ce-5319-webroot/1-Databases/MaterialCracking/UT-881-image_src/Image589.png\r\n",
      "Reusing existing connection to 54.243.252.9:80.\r\n",
      "HTTP request sent, awaiting response... "
     ]
    },
    {
     "name": "stdout",
     "output_type": "stream",
     "text": [
      "200 OK\r\n",
      "Length: 11531 (11K) [image/png]\r\n",
      "Saving to: ‘./MyImageFiles/Image589.png’\r\n",
      "\r\n",
      "\r",
      "Image589.png          0%[                    ]       0  --.-KB/s               \r",
      "Image589.png        100%[===================>]  11.26K  --.-KB/s    in 0s      \r\n",
      "\r\n",
      "2022-11-22 20:01:36 (47.9 MB/s) - ‘./MyImageFiles/Image589.png’ saved [11531/11531]\r\n",
      "\r\n",
      "--2022-11-22 20:01:36--  http://54.243.252.9/ce-5319-webroot/1-Databases/MaterialCracking/UT-881-image_src/Image590.png\r\n",
      "Reusing existing connection to 54.243.252.9:80.\r\n",
      "HTTP request sent, awaiting response... "
     ]
    },
    {
     "name": "stdout",
     "output_type": "stream",
     "text": [
      "200 OK\r\n",
      "Length: 12192 (12K) [image/png]\r\n",
      "Saving to: ‘./MyImageFiles/Image590.png’\r\n",
      "\r\n",
      "\r",
      "Image590.png          0%[                    ]       0  --.-KB/s               \r",
      "Image590.png        100%[===================>]  11.91K  --.-KB/s    in 0s      \r\n",
      "\r\n",
      "2022-11-22 20:01:36 (38.6 MB/s) - ‘./MyImageFiles/Image590.png’ saved [12192/12192]\r\n",
      "\r\n",
      "--2022-11-22 20:01:36--  http://54.243.252.9/ce-5319-webroot/1-Databases/MaterialCracking/UT-881-image_src/Image591.png\r\n",
      "Reusing existing connection to 54.243.252.9:80.\r\n",
      "HTTP request sent, awaiting response... "
     ]
    },
    {
     "name": "stdout",
     "output_type": "stream",
     "text": [
      "200 OK\r\n",
      "Length: "
     ]
    },
    {
     "name": "stdout",
     "output_type": "stream",
     "text": [
      "12169 (12K) [image/png]\r\n",
      "Saving to: ‘./MyImageFiles/Image591.png’\r\n",
      "\r\n",
      "\r",
      "Image591.png          0%[                    ]       0  --.-KB/s               \r",
      "Image591.png        100%[===================>]  11.88K  --.-KB/s    in 0s      \r\n",
      "\r\n",
      "2022-11-22 20:01:36 (44.9 MB/s) - ‘./MyImageFiles/Image591.png’ saved [12169/12169]\r\n",
      "\r\n",
      "--2022-11-22 20:01:36--  http://54.243.252.9/ce-5319-webroot/1-Databases/MaterialCracking/UT-881-image_src/Image592.png\r\n",
      "Reusing existing connection to 54.243.252.9:80.\r\n",
      "HTTP request sent, awaiting response... 200 OK\r\n",
      "Length: 15444 (15K) [image/png]\r\n",
      "Saving to: ‘./MyImageFiles/Image592.png’\r\n",
      "\r\n",
      "\r",
      "Image592.png          0%[                    ]       0  --.-KB/s               "
     ]
    },
    {
     "name": "stdout",
     "output_type": "stream",
     "text": [
      "\r",
      "Image592.png        100%[===================>]  15.08K  --.-KB/s    in 0s      \r\n",
      "\r\n",
      "2022-11-22 20:01:36 (51.9 MB/s) - ‘./MyImageFiles/Image592.png’ saved [15444/15444]\r\n",
      "\r\n",
      "--2022-11-22 20:01:36--  http://54.243.252.9/ce-5319-webroot/1-Databases/MaterialCracking/UT-881-image_src/Image593.png\r\n",
      "Reusing existing connection to 54.243.252.9:80.\r\n",
      "HTTP request sent, awaiting response... 200 OK\r\n",
      "Length: 14456 (14K) [image/png]\r\n",
      "Saving to: ‘./MyImageFiles/Image593.png’\r\n",
      "\r\n",
      "\r",
      "Image593.png          0%[                    ]       0  --.-KB/s               \r",
      "Image593.png        100%[===================>]  14.12K  --.-KB/s    in 0s      \r\n",
      "\r\n",
      "2022-11-22 20:01:36 (44.3 MB/s) - ‘./MyImageFiles/Image593.png’ saved [14456/14456]\r\n",
      "\r\n",
      "--2022-11-22 20:01:36--  http://54.243.252.9/ce-5319-webroot/1-Databases/MaterialCracking/UT-881-image_src/Image594.png\r\n",
      "Reusing existing connection to 54.243.252.9:80.\r\n",
      "HTTP request sent, awaiting response... "
     ]
    },
    {
     "name": "stdout",
     "output_type": "stream",
     "text": [
      "200 OK\r\n",
      "Length: 14640 (14K) [image/png]\r\n",
      "Saving to: ‘./MyImageFiles/Image594.png’\r\n",
      "\r\n",
      "\r",
      "Image594.png          0%[                    ]       0  --.-KB/s               \r",
      "Image594.png        100%[===================>]  14.30K  --.-KB/s    in 0s      \r\n",
      "\r\n",
      "2022-11-22 20:01:36 (38.8 MB/s) - ‘./MyImageFiles/Image594.png’ saved [14640/14640]\r\n",
      "\r\n",
      "--2022-11-22 20:01:36--  http://54.243.252.9/ce-5319-webroot/1-Databases/MaterialCracking/UT-881-image_src/Image595.png\r\n",
      "Reusing existing connection to 54.243.252.9:80.\r\n",
      "HTTP request sent, awaiting response... "
     ]
    },
    {
     "name": "stdout",
     "output_type": "stream",
     "text": [
      "200 OK\r\n",
      "Length: 10827 (11K) [image/png]\r\n",
      "Saving to: ‘./MyImageFiles/Image595.png’\r\n",
      "\r\n",
      "\r",
      "Image595.png          0%[                    ]       0  --.-KB/s               \r",
      "Image595.png        100%[===================>]  10.57K  --.-KB/s    in 0s      \r\n",
      "\r\n",
      "2022-11-22 20:01:36 (38.2 MB/s) - ‘./MyImageFiles/Image595.png’ saved [10827/10827]\r\n",
      "\r\n",
      "--2022-11-22 20:01:36--  http://54.243.252.9/ce-5319-webroot/1-Databases/MaterialCracking/UT-881-image_src/Image596.png\r\n",
      "Reusing existing connection to 54.243.252.9:80.\r\n",
      "HTTP request sent, awaiting response... "
     ]
    },
    {
     "name": "stdout",
     "output_type": "stream",
     "text": [
      "200 OK\r\n",
      "Length: 13460 (13K) [image/png]\r\n",
      "Saving to: ‘./MyImageFiles/Image596.png’\r\n",
      "\r\n",
      "\r",
      "Image596.png          0%[                    ]       0  --.-KB/s               \r",
      "Image596.png        100%[===================>]  13.14K  --.-KB/s    in 0s      \r\n",
      "\r\n",
      "2022-11-22 20:01:36 (57.1 MB/s) - ‘./MyImageFiles/Image596.png’ saved [13460/13460]\r\n",
      "\r\n",
      "--2022-11-22 20:01:36--  http://54.243.252.9/ce-5319-webroot/1-Databases/MaterialCracking/UT-881-image_src/Image597.png\r\n",
      "Reusing existing connection to 54.243.252.9:80.\r\n",
      "HTTP request sent, awaiting response... "
     ]
    },
    {
     "name": "stdout",
     "output_type": "stream",
     "text": [
      "200 OK\r\n",
      "Length: 13175 (13K) [image/png]\r\n",
      "Saving to: ‘./MyImageFiles/Image597.png’\r\n",
      "\r\n",
      "\r",
      "Image597.png          0%[                    ]       0  --.-KB/s               \r",
      "Image597.png        100%[===================>]  12.87K  --.-KB/s    in 0s      \r\n",
      "\r\n",
      "2022-11-22 20:01:36 (33.2 MB/s) - ‘./MyImageFiles/Image597.png’ saved [13175/13175]\r\n",
      "\r\n",
      "--2022-11-22 20:01:36--  http://54.243.252.9/ce-5319-webroot/1-Databases/MaterialCracking/UT-881-image_src/Image598.png\r\n",
      "Reusing existing connection to 54.243.252.9:80.\r\n",
      "HTTP request sent, awaiting response... "
     ]
    },
    {
     "name": "stdout",
     "output_type": "stream",
     "text": [
      "200 OK\r\n",
      "Length: 14212 (14K) [image/png]\r\n",
      "Saving to: ‘./MyImageFiles/Image598.png’\r\n",
      "\r\n",
      "\r",
      "Image598.png          0%[                    ]       0  --.-KB/s               \r",
      "Image598.png        100%[===================>]  13.88K  --.-KB/s    in 0s      \r\n",
      "\r\n",
      "2022-11-22 20:01:36 (42.2 MB/s) - ‘./MyImageFiles/Image598.png’ saved [14212/14212]\r\n",
      "\r\n",
      "--2022-11-22 20:01:36--  http://54.243.252.9/ce-5319-webroot/1-Databases/MaterialCracking/UT-881-image_src/Image599.png\r\n",
      "Reusing existing connection to 54.243.252.9:80.\r\n",
      "HTTP request sent, awaiting response... 200 OK\r\n",
      "Length: "
     ]
    },
    {
     "name": "stdout",
     "output_type": "stream",
     "text": [
      "12799 (12K) [image/png]\r\n",
      "Saving to: ‘./MyImageFiles/Image599.png’\r\n",
      "\r\n",
      "\r",
      "Image599.png          0%[                    ]       0  --.-KB/s               \r",
      "Image599.png        100%[===================>]  12.50K  --.-KB/s    in 0s      \r\n",
      "\r\n",
      "2022-11-22 20:01:37 (34.1 MB/s) - ‘./MyImageFiles/Image599.png’ saved [12799/12799]\r\n",
      "\r\n",
      "--2022-11-22 20:01:37--  http://54.243.252.9/ce-5319-webroot/1-Databases/MaterialCracking/UT-881-image_src/Image600.png\r\n",
      "Reusing existing connection to 54.243.252.9:80.\r\n",
      "HTTP request sent, awaiting response... 200 OK\r\n",
      "Length: 14618 (14K) [image/png]\r\n",
      "Saving to: ‘./MyImageFiles/Image600.png’\r\n",
      "\r\n",
      "\r",
      "Image600.png          0%[                    ]       0  --.-KB/s               \r",
      "Image600.png        100%[===================>]  14.28K  --.-KB/s    in 0s      \r\n",
      "\r\n",
      "2022-11-22 20:01:37 (30.8 MB/s) - ‘./MyImageFiles/Image600.png’ saved [14618/14618]\r\n",
      "\r\n",
      "--2022-11-22 20:01:37--  http://54.243.252.9/ce-5319-webroot/1-Databases/MaterialCracking/UT-881-image_src/Image601.png\r\n",
      "Connecting to 54.243.252.9:80... "
     ]
    },
    {
     "name": "stdout",
     "output_type": "stream",
     "text": [
      "connected.\r\n",
      "HTTP request sent, awaiting response... "
     ]
    },
    {
     "name": "stdout",
     "output_type": "stream",
     "text": [
      "200 OK\r\n",
      "Length: 13083 (13K) [image/png]\r\n",
      "Saving to: ‘./MyImageFiles/Image601.png’\r\n",
      "\r\n",
      "\r",
      "Image601.png          0%[                    ]       0  --.-KB/s               \r",
      "Image601.png        100%[===================>]  12.78K  --.-KB/s    in 0s      \r\n",
      "\r\n",
      "2022-11-22 20:01:37 (38.2 MB/s) - ‘./MyImageFiles/Image601.png’ saved [13083/13083]\r\n",
      "\r\n",
      "--2022-11-22 20:01:37--  http://54.243.252.9/ce-5319-webroot/1-Databases/MaterialCracking/UT-881-image_src/Image602.png\r\n",
      "Reusing existing connection to 54.243.252.9:80.\r\n",
      "HTTP request sent, awaiting response... "
     ]
    },
    {
     "name": "stdout",
     "output_type": "stream",
     "text": [
      "200 OK\r\n",
      "Length: 11320 (11K) [image/png]\r\n",
      "Saving to: ‘./MyImageFiles/Image602.png’\r\n",
      "\r\n",
      "\r",
      "Image602.png          0%[                    ]       0  --.-KB/s               \r",
      "Image602.png        100%[===================>]  11.05K  --.-KB/s    in 0s      \r\n",
      "\r\n",
      "2022-11-22 20:01:37 (26.1 MB/s) - ‘./MyImageFiles/Image602.png’ saved [11320/11320]\r\n",
      "\r\n",
      "--2022-11-22 20:01:37--  http://54.243.252.9/ce-5319-webroot/1-Databases/MaterialCracking/UT-881-image_src/Image603.png\r\n",
      "Reusing existing connection to 54.243.252.9:80.\r\n",
      "HTTP request sent, awaiting response... "
     ]
    },
    {
     "name": "stdout",
     "output_type": "stream",
     "text": [
      "200 OK\r\n",
      "Length: 10699 (10K) [image/png]\r\n",
      "Saving to: ‘./MyImageFiles/Image603.png’\r\n",
      "\r\n",
      "\r",
      "Image603.png          0%[                    ]       0  --.-KB/s               \r",
      "Image603.png        100%[===================>]  10.45K  --.-KB/s    in 0s      \r\n",
      "\r\n",
      "2022-11-22 20:01:37 (39.9 MB/s) - ‘./MyImageFiles/Image603.png’ saved [10699/10699]\r\n",
      "\r\n",
      "--2022-11-22 20:01:37--  http://54.243.252.9/ce-5319-webroot/1-Databases/MaterialCracking/UT-881-image_src/Image604.png\r\n",
      "Reusing existing connection to 54.243.252.9:80.\r\n",
      "HTTP request sent, awaiting response... "
     ]
    },
    {
     "name": "stdout",
     "output_type": "stream",
     "text": [
      "200 OK\r\n",
      "Length: 13661 (13K) [image/png]\r\n",
      "Saving to: ‘./MyImageFiles/Image604.png’\r\n",
      "\r\n",
      "\r",
      "Image604.png          0%[                    ]       0  --.-KB/s               \r",
      "Image604.png        100%[===================>]  13.34K  --.-KB/s    in 0s      \r\n",
      "\r\n",
      "2022-11-22 20:01:37 (36.3 MB/s) - ‘./MyImageFiles/Image604.png’ saved [13661/13661]\r\n",
      "\r\n",
      "--2022-11-22 20:01:37--  http://54.243.252.9/ce-5319-webroot/1-Databases/MaterialCracking/UT-881-image_src/Image605.png\r\n",
      "Reusing existing connection to 54.243.252.9:80.\r\n",
      "HTTP request sent, awaiting response... "
     ]
    },
    {
     "name": "stdout",
     "output_type": "stream",
     "text": [
      "200 OK\r\n",
      "Length: 14215 (14K) [image/png]\r\n",
      "Saving to: ‘./MyImageFiles/Image605.png’\r\n",
      "\r\n",
      "\r",
      "Image605.png          0%[                    ]       0  --.-KB/s               \r",
      "Image605.png        100%[===================>]  13.88K  --.-KB/s    in 0s      \r\n",
      "\r\n",
      "2022-11-22 20:01:37 (46.0 MB/s) - ‘./MyImageFiles/Image605.png’ saved [14215/14215]\r\n",
      "\r\n",
      "--2022-11-22 20:01:37--  http://54.243.252.9/ce-5319-webroot/1-Databases/MaterialCracking/UT-881-image_src/Image606.png\r\n",
      "Reusing existing connection to 54.243.252.9:80.\r\n",
      "HTTP request sent, awaiting response... "
     ]
    },
    {
     "name": "stdout",
     "output_type": "stream",
     "text": [
      "200 OK\r\n",
      "Length: 12414 (12K) [image/png]\r\n",
      "Saving to: ‘./MyImageFiles/Image606.png’\r\n",
      "\r\n",
      "\r",
      "Image606.png          0%[                    ]       0  --.-KB/s               \r",
      "Image606.png        100%[===================>]  12.12K  --.-KB/s    in 0s      \r\n",
      "\r\n",
      "2022-11-22 20:01:37 (33.7 MB/s) - ‘./MyImageFiles/Image606.png’ saved [12414/12414]\r\n",
      "\r\n",
      "--2022-11-22 20:01:37--  http://54.243.252.9/ce-5319-webroot/1-Databases/MaterialCracking/UT-881-image_src/Image607.png\r\n",
      "Reusing existing connection to 54.243.252.9:80.\r\n",
      "HTTP request sent, awaiting response... "
     ]
    },
    {
     "name": "stdout",
     "output_type": "stream",
     "text": [
      "200 OK\r\n",
      "Length: 12945 (13K) [image/png]\r\n",
      "Saving to: ‘./MyImageFiles/Image607.png’\r\n",
      "\r\n",
      "\r",
      "Image607.png          0%[                    ]       0  --.-KB/s               \r",
      "Image607.png        100%[===================>]  12.64K  --.-KB/s    in 0s      \r\n",
      "\r\n",
      "2022-11-22 20:01:37 (50.6 MB/s) - ‘./MyImageFiles/Image607.png’ saved [12945/12945]\r\n",
      "\r\n",
      "--2022-11-22 20:01:37--  http://54.243.252.9/ce-5319-webroot/1-Databases/MaterialCracking/UT-881-image_src/Image608.png\r\n",
      "Reusing existing connection to 54.243.252.9:80.\r\n",
      "HTTP request sent, awaiting response... "
     ]
    },
    {
     "name": "stdout",
     "output_type": "stream",
     "text": [
      "200 OK\r\n",
      "Length: 10912 (11K) [image/png]\r\n",
      "Saving to: ‘./MyImageFiles/Image608.png’\r\n",
      "\r\n",
      "\r",
      "Image608.png          0%[                    ]       0  --.-KB/s               \r",
      "Image608.png        100%[===================>]  10.66K  --.-KB/s    in 0s      \r\n",
      "\r\n",
      "2022-11-22 20:01:37 (40.6 MB/s) - ‘./MyImageFiles/Image608.png’ saved [10912/10912]\r\n",
      "\r\n",
      "--2022-11-22 20:01:37--  http://54.243.252.9/ce-5319-webroot/1-Databases/MaterialCracking/UT-881-image_src/Image609.png\r\n",
      "Reusing existing connection to 54.243.252.9:80.\r\n",
      "HTTP request sent, awaiting response... "
     ]
    },
    {
     "name": "stdout",
     "output_type": "stream",
     "text": [
      "200 OK\r\n",
      "Length: 14470 (14K) [image/png]\r\n",
      "Saving to: ‘./MyImageFiles/Image609.png’\r\n",
      "\r\n",
      "\r",
      "Image609.png          0%[                    ]       0  --.-KB/s               \r",
      "Image609.png        100%[===================>]  14.13K  --.-KB/s    in 0s      \r\n",
      "\r\n",
      "2022-11-22 20:01:37 (54.7 MB/s) - ‘./MyImageFiles/Image609.png’ saved [14470/14470]\r\n",
      "\r\n",
      "--2022-11-22 20:01:37--  http://54.243.252.9/ce-5319-webroot/1-Databases/MaterialCracking/UT-881-image_src/Image610.png\r\n",
      "Reusing existing connection to 54.243.252.9:80.\r\n",
      "HTTP request sent, awaiting response... "
     ]
    },
    {
     "name": "stdout",
     "output_type": "stream",
     "text": [
      "200 OK\r\n",
      "Length: 13437 (13K) [image/png]\r\n",
      "Saving to: ‘./MyImageFiles/Image610.png’\r\n",
      "\r\n",
      "\r",
      "Image610.png          0%[                    ]       0  --.-KB/s               \r",
      "Image610.png        100%[===================>]  13.12K  --.-KB/s    in 0s      \r\n",
      "\r\n",
      "2022-11-22 20:01:37 (56.7 MB/s) - ‘./MyImageFiles/Image610.png’ saved [13437/13437]\r\n",
      "\r\n",
      "--2022-11-22 20:01:37--  http://54.243.252.9/ce-5319-webroot/1-Databases/MaterialCracking/UT-881-image_src/Image611.png\r\n",
      "Reusing existing connection to 54.243.252.9:80.\r\n",
      "HTTP request sent, awaiting response... "
     ]
    },
    {
     "name": "stdout",
     "output_type": "stream",
     "text": [
      "200 OK\r\n",
      "Length: 14295 (14K) [image/png]\r\n",
      "Saving to: ‘./MyImageFiles/Image611.png’\r\n",
      "\r\n",
      "\r",
      "Image611.png          0%[                    ]       0  --.-KB/s               \r",
      "Image611.png        100%[===================>]  13.96K  --.-KB/s    in 0s      \r\n",
      "\r\n",
      "2022-11-22 20:01:37 (51.3 MB/s) - ‘./MyImageFiles/Image611.png’ saved [14295/14295]\r\n",
      "\r\n",
      "--2022-11-22 20:01:37--  http://54.243.252.9/ce-5319-webroot/1-Databases/MaterialCracking/UT-881-image_src/Image612.png\r\n",
      "Reusing existing connection to 54.243.252.9:80.\r\n",
      "HTTP request sent, awaiting response... "
     ]
    },
    {
     "name": "stdout",
     "output_type": "stream",
     "text": [
      "200 OK\r\n",
      "Length: 13926 (14K) [image/png]\r\n",
      "Saving to: ‘./MyImageFiles/Image612.png’\r\n",
      "\r\n",
      "\r",
      "Image612.png          0%[                    ]       0  --.-KB/s               \r",
      "Image612.png        100%[===================>]  13.60K  --.-KB/s    in 0s      \r\n",
      "\r\n",
      "2022-11-22 20:01:37 (50.1 MB/s) - ‘./MyImageFiles/Image612.png’ saved [13926/13926]\r\n",
      "\r\n",
      "--2022-11-22 20:01:37--  http://54.243.252.9/ce-5319-webroot/1-Databases/MaterialCracking/UT-881-image_src/Image613.png\r\n",
      "Reusing existing connection to 54.243.252.9:80.\r\n",
      "HTTP request sent, awaiting response... "
     ]
    },
    {
     "name": "stdout",
     "output_type": "stream",
     "text": [
      "200 OK\r\n",
      "Length: 10730 (10K) [image/png]\r\n",
      "Saving to: ‘./MyImageFiles/Image613.png’\r\n",
      "\r\n",
      "\r",
      "Image613.png          0%[                    ]       0  --.-KB/s               \r",
      "Image613.png        100%[===================>]  10.48K  --.-KB/s    in 0s      \r\n",
      "\r\n",
      "2022-11-22 20:01:37 (44.8 MB/s) - ‘./MyImageFiles/Image613.png’ saved [10730/10730]\r\n",
      "\r\n",
      "--2022-11-22 20:01:37--  http://54.243.252.9/ce-5319-webroot/1-Databases/MaterialCracking/UT-881-image_src/Image614.png\r\n",
      "Reusing existing connection to 54.243.252.9:80.\r\n",
      "HTTP request sent, awaiting response... "
     ]
    },
    {
     "name": "stdout",
     "output_type": "stream",
     "text": [
      "200 OK\r\n",
      "Length: 10372 (10K) [image/png]\r\n",
      "Saving to: ‘./MyImageFiles/Image614.png’\r\n",
      "\r\n",
      "\r",
      "Image614.png          0%[                    ]       0  --.-KB/s               \r",
      "Image614.png        100%[===================>]  10.13K  --.-KB/s    in 0s      \r\n",
      "\r\n",
      "2022-11-22 20:01:37 (30.8 MB/s) - ‘./MyImageFiles/Image614.png’ saved [10372/10372]\r\n",
      "\r\n",
      "--2022-11-22 20:01:37--  http://54.243.252.9/ce-5319-webroot/1-Databases/MaterialCracking/UT-881-image_src/Image615.png\r\n",
      "Reusing existing connection to 54.243.252.9:80.\r\n",
      "HTTP request sent, awaiting response... "
     ]
    },
    {
     "name": "stdout",
     "output_type": "stream",
     "text": [
      "200 OK\r\n",
      "Length: 15411 (15K) [image/png]\r\n",
      "Saving to: ‘./MyImageFiles/Image615.png’\r\n",
      "\r\n",
      "\r",
      "Image615.png          0%[                    ]       0  --.-KB/s               \r",
      "Image615.png        100%[===================>]  15.05K  --.-KB/s    in 0s      \r\n",
      "\r\n",
      "2022-11-22 20:01:37 (44.8 MB/s) - ‘./MyImageFiles/Image615.png’ saved [15411/15411]\r\n",
      "\r\n",
      "--2022-11-22 20:01:37--  http://54.243.252.9/ce-5319-webroot/1-Databases/MaterialCracking/UT-881-image_src/Image616.png\r\n",
      "Reusing existing connection to 54.243.252.9:80.\r\n",
      "HTTP request sent, awaiting response... 200 OK\r\n",
      "Length: 14679 (14K) [image/png]\r\n",
      "Saving to: ‘./MyImageFiles/Image616.png’\r\n",
      "\r\n",
      "\r",
      "Image616.png          0%[                    ]       0  --.-KB/s               \r",
      "Image616.png        100%[===================>]  14.33K  --.-KB/s    in 0s      \r\n",
      "\r\n",
      "2022-11-22 20:01:37 (41.3 MB/s) - ‘./MyImageFiles/Image616.png’ saved [14679/14679]\r\n",
      "\r\n",
      "--2022-11-22 20:01:37--  http://54.243.252.9/ce-5319-webroot/1-Databases/MaterialCracking/UT-881-image_src/Image617.png\r\n",
      "Reusing existing connection to 54.243.252.9:80.\r\n",
      "HTTP request sent, awaiting response... "
     ]
    },
    {
     "name": "stdout",
     "output_type": "stream",
     "text": [
      "200 OK\r\n",
      "Length: 15413 (15K) [image/png]\r\n",
      "Saving to: ‘./MyImageFiles/Image617.png’\r\n",
      "\r\n",
      "\r",
      "Image617.png          0%[                    ]       0  --.-KB/s               \r",
      "Image617.png        100%[===================>]  15.05K  --.-KB/s    in 0s      \r\n",
      "\r\n",
      "2022-11-22 20:01:37 (41.7 MB/s) - ‘./MyImageFiles/Image617.png’ saved [15413/15413]\r\n",
      "\r\n",
      "--2022-11-22 20:01:37--  http://54.243.252.9/ce-5319-webroot/1-Databases/MaterialCracking/UT-881-image_src/Image618.png\r\n",
      "Reusing existing connection to 54.243.252.9:80.\r\n",
      "HTTP request sent, awaiting response... "
     ]
    },
    {
     "name": "stdout",
     "output_type": "stream",
     "text": [
      "200 OK\r\n",
      "Length: 14746 (14K) [image/png]\r\n",
      "Saving to: ‘./MyImageFiles/Image618.png’\r\n",
      "\r\n",
      "\r",
      "Image618.png          0%[                    ]       0  --.-KB/s               \r",
      "Image618.png        100%[===================>]  14.40K  --.-KB/s    in 0s      \r\n",
      "\r\n",
      "2022-11-22 20:01:38 (48.8 MB/s) - ‘./MyImageFiles/Image618.png’ saved [14746/14746]\r\n",
      "\r\n",
      "--2022-11-22 20:01:38--  http://54.243.252.9/ce-5319-webroot/1-Databases/MaterialCracking/UT-881-image_src/Image619.png\r\n",
      "Reusing existing connection to 54.243.252.9:80.\r\n",
      "HTTP request sent, awaiting response... "
     ]
    },
    {
     "name": "stdout",
     "output_type": "stream",
     "text": [
      "200 OK\r\n",
      "Length: 14572 (14K) [image/png]\r\n",
      "Saving to: ‘./MyImageFiles/Image619.png’\r\n",
      "\r\n",
      "\r",
      "Image619.png          0%[                    ]       0  --.-KB/s               \r",
      "Image619.png        100%[===================>]  14.23K  --.-KB/s    in 0s      \r\n",
      "\r\n",
      "2022-11-22 20:01:38 (33.6 MB/s) - ‘./MyImageFiles/Image619.png’ saved [14572/14572]\r\n",
      "\r\n",
      "--2022-11-22 20:01:38--  http://54.243.252.9/ce-5319-webroot/1-Databases/MaterialCracking/UT-881-image_src/Image620.png\r\n",
      "Reusing existing connection to 54.243.252.9:80.\r\n",
      "HTTP request sent, awaiting response... "
     ]
    },
    {
     "name": "stdout",
     "output_type": "stream",
     "text": [
      "200 OK\r\n",
      "Length: 13916 (14K) [image/png]\r\n",
      "Saving to: ‘./MyImageFiles/Image620.png’\r\n",
      "\r\n",
      "\r",
      "Image620.png          0%[                    ]       0  --.-KB/s               \r",
      "Image620.png        100%[===================>]  13.59K  --.-KB/s    in 0s      \r\n",
      "\r\n",
      "2022-11-22 20:01:38 (49.9 MB/s) - ‘./MyImageFiles/Image620.png’ saved [13916/13916]\r\n",
      "\r\n",
      "--2022-11-22 20:01:38--  http://54.243.252.9/ce-5319-webroot/1-Databases/MaterialCracking/UT-881-image_src/Image621.png\r\n",
      "Reusing existing connection to 54.243.252.9:80.\r\n",
      "HTTP request sent, awaiting response... "
     ]
    },
    {
     "name": "stdout",
     "output_type": "stream",
     "text": [
      "200 OK\r\n",
      "Length: 14500 (14K) [image/png]\r\n",
      "Saving to: ‘./MyImageFiles/Image621.png’\r\n",
      "\r\n",
      "\r",
      "Image621.png          0%[                    ]       0  --.-KB/s               \r",
      "Image621.png        100%[===================>]  14.16K  --.-KB/s    in 0s      \r\n",
      "\r\n",
      "2022-11-22 20:01:38 (41.6 MB/s) - ‘./MyImageFiles/Image621.png’ saved [14500/14500]\r\n",
      "\r\n",
      "--2022-11-22 20:01:38--  http://54.243.252.9/ce-5319-webroot/1-Databases/MaterialCracking/UT-881-image_src/Image622.png\r\n",
      "Reusing existing connection to 54.243.252.9:80.\r\n",
      "HTTP request sent, awaiting response... "
     ]
    },
    {
     "name": "stdout",
     "output_type": "stream",
     "text": [
      "200 OK\r\n",
      "Length: 13081 (13K) [image/png]\r\n",
      "Saving to: ‘./MyImageFiles/Image622.png’\r\n",
      "\r\n",
      "\r",
      "Image622.png          0%[                    ]       0  --.-KB/s               \r",
      "Image622.png        100%[===================>]  12.77K  --.-KB/s    in 0s      \r\n",
      "\r\n",
      "2022-11-22 20:01:38 (51.0 MB/s) - ‘./MyImageFiles/Image622.png’ saved [13081/13081]\r\n",
      "\r\n",
      "--2022-11-22 20:01:38--  http://54.243.252.9/ce-5319-webroot/1-Databases/MaterialCracking/UT-881-image_src/Image623.png\r\n",
      "Reusing existing connection to 54.243.252.9:80.\r\n",
      "HTTP request sent, awaiting response... "
     ]
    },
    {
     "name": "stdout",
     "output_type": "stream",
     "text": [
      "200 OK\r\n",
      "Length: 13954 (14K) [image/png]\r\n",
      "Saving to: ‘./MyImageFiles/Image623.png’\r\n",
      "\r\n",
      "\r",
      "Image623.png          0%[                    ]       0  --.-KB/s               \r",
      "Image623.png        100%[===================>]  13.63K  --.-KB/s    in 0s      \r\n",
      "\r\n",
      "2022-11-22 20:01:38 (49.0 MB/s) - ‘./MyImageFiles/Image623.png’ saved [13954/13954]\r\n",
      "\r\n",
      "--2022-11-22 20:01:38--  http://54.243.252.9/ce-5319-webroot/1-Databases/MaterialCracking/UT-881-image_src/Image624.png\r\n",
      "Reusing existing connection to 54.243.252.9:80.\r\n",
      "HTTP request sent, awaiting response... "
     ]
    },
    {
     "name": "stdout",
     "output_type": "stream",
     "text": [
      "200 OK\r\n",
      "Length: 13402 (13K) [image/png]\r\n",
      "Saving to: ‘./MyImageFiles/Image624.png’\r\n",
      "\r\n",
      "\r",
      "Image624.png          0%[                    ]       0  --.-KB/s               \r",
      "Image624.png        100%[===================>]  13.09K  --.-KB/s    in 0.006s  \r\n",
      "\r\n",
      "2022-11-22 20:01:38 (2.12 MB/s) - ‘./MyImageFiles/Image624.png’ saved [13402/13402]\r\n",
      "\r\n",
      "--2022-11-22 20:01:38--  http://54.243.252.9/ce-5319-webroot/1-Databases/MaterialCracking/UT-881-image_src/Image625.png\r\n",
      "Reusing existing connection to 54.243.252.9:80.\r\n",
      "HTTP request sent, awaiting response... "
     ]
    },
    {
     "name": "stdout",
     "output_type": "stream",
     "text": [
      "200 OK\r\n",
      "Length: 12887 (13K) [image/png]\r\n",
      "Saving to: ‘./MyImageFiles/Image625.png’\r\n",
      "\r\n",
      "\r",
      "Image625.png          0%[                    ]       0  --.-KB/s               \r",
      "Image625.png        100%[===================>]  12.58K  --.-KB/s    in 0s      \r\n",
      "\r\n",
      "2022-11-22 20:01:38 (51.3 MB/s) - ‘./MyImageFiles/Image625.png’ saved [12887/12887]\r\n",
      "\r\n",
      "--2022-11-22 20:01:38--  http://54.243.252.9/ce-5319-webroot/1-Databases/MaterialCracking/UT-881-image_src/Image626.png\r\n",
      "Reusing existing connection to 54.243.252.9:80.\r\n",
      "HTTP request sent, awaiting response... "
     ]
    },
    {
     "name": "stdout",
     "output_type": "stream",
     "text": [
      "200 OK\r\n",
      "Length: 13040 (13K) [image/png]\r\n",
      "Saving to: ‘./MyImageFiles/Image626.png’\r\n",
      "\r\n",
      "\r",
      "Image626.png          0%[                    ]       0  --.-KB/s               \r",
      "Image626.png        100%[===================>]  12.73K  --.-KB/s    in 0s      \r\n",
      "\r\n",
      "2022-11-22 20:01:38 (50.4 MB/s) - ‘./MyImageFiles/Image626.png’ saved [13040/13040]\r\n",
      "\r\n",
      "--2022-11-22 20:01:38--  http://54.243.252.9/ce-5319-webroot/1-Databases/MaterialCracking/UT-881-image_src/Image627.png\r\n",
      "Reusing existing connection to 54.243.252.9:80.\r\n",
      "HTTP request sent, awaiting response... "
     ]
    },
    {
     "name": "stdout",
     "output_type": "stream",
     "text": [
      "200 OK\r\n",
      "Length: 14276 (14K) [image/png]\r\n",
      "Saving to: ‘./MyImageFiles/Image627.png’\r\n",
      "\r\n",
      "\r",
      "Image627.png          0%[                    ]       0  --.-KB/s               \r",
      "Image627.png        100%[===================>]  13.94K  --.-KB/s    in 0s      \r\n",
      "\r\n",
      "2022-11-22 20:01:38 (45.7 MB/s) - ‘./MyImageFiles/Image627.png’ saved [14276/14276]\r\n",
      "\r\n",
      "--2022-11-22 20:01:38--  http://54.243.252.9/ce-5319-webroot/1-Databases/MaterialCracking/UT-881-image_src/Image628.png\r\n",
      "Reusing existing connection to 54.243.252.9:80.\r\n",
      "HTTP request sent, awaiting response... "
     ]
    },
    {
     "name": "stdout",
     "output_type": "stream",
     "text": [
      "200 OK\r\n",
      "Length: 14979 (15K) [image/png]\r\n",
      "Saving to: ‘./MyImageFiles/Image628.png’\r\n",
      "\r\n",
      "\r",
      "Image628.png          0%[                    ]       0  --.-KB/s               \r",
      "Image628.png        100%[===================>]  14.63K  --.-KB/s    in 0s      \r\n",
      "\r\n",
      "2022-11-22 20:01:38 (56.3 MB/s) - ‘./MyImageFiles/Image628.png’ saved [14979/14979]\r\n",
      "\r\n",
      "--2022-11-22 20:01:38--  http://54.243.252.9/ce-5319-webroot/1-Databases/MaterialCracking/UT-881-image_src/Image629.png\r\n",
      "Reusing existing connection to 54.243.252.9:80.\r\n",
      "HTTP request sent, awaiting response... "
     ]
    },
    {
     "name": "stdout",
     "output_type": "stream",
     "text": [
      "200 OK\r\n",
      "Length: 14703 (14K) [image/png]\r\n",
      "Saving to: ‘./MyImageFiles/Image629.png’\r\n",
      "\r\n",
      "\r",
      "Image629.png          0%[                    ]       0  --.-KB/s               \r",
      "Image629.png        100%[===================>]  14.36K  --.-KB/s    in 0s      \r\n",
      "\r\n",
      "2022-11-22 20:01:38 (43.1 MB/s) - ‘./MyImageFiles/Image629.png’ saved [14703/14703]\r\n",
      "\r\n",
      "--2022-11-22 20:01:38--  http://54.243.252.9/ce-5319-webroot/1-Databases/MaterialCracking/UT-881-image_src/Image630.png\r\n",
      "Reusing existing connection to 54.243.252.9:80.\r\n",
      "HTTP request sent, awaiting response... "
     ]
    },
    {
     "name": "stdout",
     "output_type": "stream",
     "text": [
      "200 OK\r\n",
      "Length: 12875 (13K) [image/png]\r\n",
      "Saving to: ‘./MyImageFiles/Image630.png’\r\n",
      "\r\n",
      "\r",
      "Image630.png          0%[                    ]       0  --.-KB/s               \r",
      "Image630.png        100%[===================>]  12.57K  --.-KB/s    in 0s      \r\n",
      "\r\n",
      "2022-11-22 20:01:38 (39.6 MB/s) - ‘./MyImageFiles/Image630.png’ saved [12875/12875]\r\n",
      "\r\n",
      "--2022-11-22 20:01:38--  http://54.243.252.9/ce-5319-webroot/1-Databases/MaterialCracking/UT-881-image_src/Image631.png\r\n",
      "Reusing existing connection to 54.243.252.9:80.\r\n",
      "HTTP request sent, awaiting response... "
     ]
    },
    {
     "name": "stdout",
     "output_type": "stream",
     "text": [
      "200 OK\r\n",
      "Length: 9465 (9.2K) [image/png]\r\n",
      "Saving to: ‘./MyImageFiles/Image631.png’\r\n",
      "\r\n",
      "\r",
      "Image631.png          0%[                    ]       0  --.-KB/s               \r",
      "Image631.png        100%[===================>]   9.24K  --.-KB/s    in 0s      \r\n",
      "\r\n",
      "2022-11-22 20:01:38 (26.2 MB/s) - ‘./MyImageFiles/Image631.png’ saved [9465/9465]\r\n",
      "\r\n",
      "--2022-11-22 20:01:38--  http://54.243.252.9/ce-5319-webroot/1-Databases/MaterialCracking/UT-881-image_src/Image632.png\r\n",
      "Reusing existing connection to 54.243.252.9:80.\r\n",
      "HTTP request sent, awaiting response... "
     ]
    },
    {
     "name": "stdout",
     "output_type": "stream",
     "text": [
      "200 OK\r\n",
      "Length: 12205 (12K) [image/png]\r\n",
      "Saving to: ‘./MyImageFiles/Image632.png’\r\n",
      "\r\n",
      "\r",
      "Image632.png          0%[                    ]       0  --.-KB/s               \r",
      "Image632.png        100%[===================>]  11.92K  --.-KB/s    in 0s      \r\n",
      "\r\n",
      "2022-11-22 20:01:38 (48.1 MB/s) - ‘./MyImageFiles/Image632.png’ saved [12205/12205]\r\n",
      "\r\n",
      "--2022-11-22 20:01:38--  http://54.243.252.9/ce-5319-webroot/1-Databases/MaterialCracking/UT-881-image_src/Image633.png\r\n",
      "Reusing existing connection to 54.243.252.9:80.\r\n",
      "HTTP request sent, awaiting response... "
     ]
    },
    {
     "name": "stdout",
     "output_type": "stream",
     "text": [
      "200 OK\r\n",
      "Length: 13599 (13K) [image/png]\r\n",
      "Saving to: ‘./MyImageFiles/Image633.png’\r\n",
      "\r\n",
      "\r",
      "Image633.png          0%[                    ]       0  --.-KB/s               \r",
      "Image633.png        100%[===================>]  13.28K  --.-KB/s    in 0s      \r\n",
      "\r\n",
      "2022-11-22 20:01:38 (47.6 MB/s) - ‘./MyImageFiles/Image633.png’ saved [13599/13599]\r\n",
      "\r\n",
      "--2022-11-22 20:01:38--  http://54.243.252.9/ce-5319-webroot/1-Databases/MaterialCracking/UT-881-image_src/Image634.png\r\n",
      "Reusing existing connection to 54.243.252.9:80.\r\n",
      "HTTP request sent, awaiting response... "
     ]
    },
    {
     "name": "stdout",
     "output_type": "stream",
     "text": [
      "200 OK\r\n",
      "Length: 13731 (13K) [image/png]\r\n",
      "Saving to: ‘./MyImageFiles/Image634.png’\r\n",
      "\r\n",
      "\r",
      "Image634.png          0%[                    ]       0  --.-KB/s               \r",
      "Image634.png        100%[===================>]  13.41K  --.-KB/s    in 0s      \r\n",
      "\r\n",
      "2022-11-22 20:01:38 (43.9 MB/s) - ‘./MyImageFiles/Image634.png’ saved [13731/13731]\r\n",
      "\r\n",
      "--2022-11-22 20:01:38--  http://54.243.252.9/ce-5319-webroot/1-Databases/MaterialCracking/UT-881-image_src/Image635.png\r\n",
      "Reusing existing connection to 54.243.252.9:80.\r\n",
      "HTTP request sent, awaiting response... "
     ]
    },
    {
     "name": "stdout",
     "output_type": "stream",
     "text": [
      "200 OK\r\n",
      "Length: 12035 (12K) [image/png]\r\n",
      "Saving to: ‘./MyImageFiles/Image635.png’\r\n",
      "\r\n",
      "\r",
      "Image635.png          0%[                    ]       0  --.-KB/s               \r",
      "Image635.png        100%[===================>]  11.75K  --.-KB/s    in 0s      \r\n",
      "\r\n",
      "2022-11-22 20:01:38 (35.1 MB/s) - ‘./MyImageFiles/Image635.png’ saved [12035/12035]\r\n",
      "\r\n",
      "--2022-11-22 20:01:38--  http://54.243.252.9/ce-5319-webroot/1-Databases/MaterialCracking/UT-881-image_src/Image636.png\r\n",
      "Reusing existing connection to 54.243.252.9:80.\r\n",
      "HTTP request sent, awaiting response... "
     ]
    },
    {
     "name": "stdout",
     "output_type": "stream",
     "text": [
      "200 OK\r\n",
      "Length: 14543 (14K) [image/png]\r\n",
      "Saving to: ‘./MyImageFiles/Image636.png’\r\n",
      "\r\n",
      "\r",
      "Image636.png          0%[                    ]       0  --.-KB/s               \r",
      "Image636.png        100%[===================>]  14.20K  --.-KB/s    in 0s      \r\n",
      "\r\n",
      "2022-11-22 20:01:38 (37.1 MB/s) - ‘./MyImageFiles/Image636.png’ saved [14543/14543]\r\n",
      "\r\n",
      "--2022-11-22 20:01:38--  http://54.243.252.9/ce-5319-webroot/1-Databases/MaterialCracking/UT-881-image_src/Image637.png\r\n",
      "Reusing existing connection to 54.243.252.9:80.\r\n",
      "HTTP request sent, awaiting response... 200 OK\r\n",
      "Length: 14351 (14K) [image/png]\r\n",
      "Saving to: ‘./MyImageFiles/Image637.png’\r\n",
      "\r\n",
      "\r",
      "Image637.png          0%[                    ]       0  --.-KB/s               "
     ]
    },
    {
     "name": "stdout",
     "output_type": "stream",
     "text": [
      "\r",
      "Image637.png        100%[===================>]  14.01K  --.-KB/s    in 0s      \r\n",
      "\r\n",
      "2022-11-22 20:01:38 (36.3 MB/s) - ‘./MyImageFiles/Image637.png’ saved [14351/14351]\r\n",
      "\r\n",
      "--2022-11-22 20:01:38--  http://54.243.252.9/ce-5319-webroot/1-Databases/MaterialCracking/UT-881-image_src/Image638.png\r\n",
      "Reusing existing connection to 54.243.252.9:80.\r\n",
      "HTTP request sent, awaiting response... 200 OK\r\n",
      "Length: 15511 (15K) [image/png]\r\n",
      "Saving to: ‘./MyImageFiles/Image638.png’\r\n",
      "\r\n",
      "\r",
      "Image638.png          0%[                    ]       0  --.-KB/s               \r",
      "Image638.png        100%[===================>]  15.15K  --.-KB/s    in 0s      \r\n",
      "\r\n",
      "2022-11-22 20:01:39 (39.1 MB/s) - ‘./MyImageFiles/Image638.png’ saved [15511/15511]\r\n",
      "\r\n",
      "--2022-11-22 20:01:39--  http://54.243.252.9/ce-5319-webroot/1-Databases/MaterialCracking/UT-881-image_src/Image639.png\r\n",
      "Reusing existing connection to 54.243.252.9:80.\r\n",
      "HTTP request sent, awaiting response... "
     ]
    },
    {
     "name": "stdout",
     "output_type": "stream",
     "text": [
      "200 OK\r\n",
      "Length: 12694 (12K) [image/png]\r\n",
      "Saving to: ‘./MyImageFiles/Image639.png’\r\n",
      "\r\n",
      "\r",
      "Image639.png          0%[                    ]       0  --.-KB/s               \r",
      "Image639.png        100%[===================>]  12.40K  --.-KB/s    in 0s      \r\n",
      "\r\n",
      "2022-11-22 20:01:39 (31.4 MB/s) - ‘./MyImageFiles/Image639.png’ saved [12694/12694]\r\n",
      "\r\n",
      "--2022-11-22 20:01:39--  http://54.243.252.9/ce-5319-webroot/1-Databases/MaterialCracking/UT-881-image_src/Image640.png\r\n",
      "Reusing existing connection to 54.243.252.9:80.\r\n",
      "HTTP request sent, awaiting response... "
     ]
    },
    {
     "name": "stdout",
     "output_type": "stream",
     "text": [
      "200 OK\r\n",
      "Length: 10060 (9.8K) [image/png]\r\n",
      "Saving to: ‘./MyImageFiles/Image640.png’\r\n",
      "\r\n",
      "\r",
      "Image640.png          0%[                    ]       0  --.-KB/s               \r",
      "Image640.png        100%[===================>]   9.82K  --.-KB/s    in 0s      \r\n",
      "\r\n",
      "2022-11-22 20:01:39 (27.2 MB/s) - ‘./MyImageFiles/Image640.png’ saved [10060/10060]\r\n",
      "\r\n",
      "--2022-11-22 20:01:39--  http://54.243.252.9/ce-5319-webroot/1-Databases/MaterialCracking/UT-881-image_src/Image641.png\r\n",
      "Reusing existing connection to 54.243.252.9:80.\r\n",
      "HTTP request sent, awaiting response... "
     ]
    },
    {
     "name": "stdout",
     "output_type": "stream",
     "text": [
      "200 OK\r\n",
      "Length: 12484 (12K) [image/png]\r\n",
      "Saving to: ‘./MyImageFiles/Image641.png’\r\n",
      "\r\n",
      "\r",
      "Image641.png          0%[                    ]       0  --.-KB/s               \r",
      "Image641.png        100%[===================>]  12.19K  --.-KB/s    in 0s      \r\n",
      "\r\n",
      "2022-11-22 20:01:39 (38.6 MB/s) - ‘./MyImageFiles/Image641.png’ saved [12484/12484]\r\n",
      "\r\n",
      "--2022-11-22 20:01:39--  http://54.243.252.9/ce-5319-webroot/1-Databases/MaterialCracking/UT-881-image_src/Image642.png\r\n",
      "Reusing existing connection to 54.243.252.9:80.\r\n",
      "HTTP request sent, awaiting response... "
     ]
    },
    {
     "name": "stdout",
     "output_type": "stream",
     "text": [
      "200 OK\r\n",
      "Length: 14664 (14K) [image/png]\r\n",
      "Saving to: ‘./MyImageFiles/Image642.png’\r\n",
      "\r\n",
      "\r",
      "Image642.png          0%[                    ]       0  --.-KB/s               \r",
      "Image642.png        100%[===================>]  14.32K  --.-KB/s    in 0s      \r\n",
      "\r\n",
      "2022-11-22 20:01:39 (37.0 MB/s) - ‘./MyImageFiles/Image642.png’ saved [14664/14664]\r\n",
      "\r\n",
      "--2022-11-22 20:01:39--  http://54.243.252.9/ce-5319-webroot/1-Databases/MaterialCracking/UT-881-image_src/Image643.png\r\n",
      "Reusing existing connection to 54.243.252.9:80.\r\n",
      "HTTP request sent, awaiting response... "
     ]
    },
    {
     "name": "stdout",
     "output_type": "stream",
     "text": [
      "200 OK\r\n",
      "Length: 10864 (11K) [image/png]\r\n",
      "Saving to: ‘./MyImageFiles/Image643.png’\r\n",
      "\r\n",
      "\r",
      "Image643.png          0%[                    ]       0  --.-KB/s               \r",
      "Image643.png        100%[===================>]  10.61K  --.-KB/s    in 0s      \r\n",
      "\r\n",
      "2022-11-22 20:01:39 (34.1 MB/s) - ‘./MyImageFiles/Image643.png’ saved [10864/10864]\r\n",
      "\r\n",
      "--2022-11-22 20:01:39--  http://54.243.252.9/ce-5319-webroot/1-Databases/MaterialCracking/UT-881-image_src/Image644.png\r\n",
      "Reusing existing connection to 54.243.252.9:80.\r\n",
      "HTTP request sent, awaiting response... "
     ]
    },
    {
     "name": "stdout",
     "output_type": "stream",
     "text": [
      "200 OK\r\n",
      "Length: 11562 (11K) [image/png]\r\n",
      "Saving to: ‘./MyImageFiles/Image644.png’\r\n",
      "\r\n",
      "\r",
      "Image644.png          0%[                    ]       0  --.-KB/s               \r",
      "Image644.png        100%[===================>]  11.29K  --.-KB/s    in 0s      \r\n",
      "\r\n",
      "2022-11-22 20:01:39 (30.1 MB/s) - ‘./MyImageFiles/Image644.png’ saved [11562/11562]\r\n",
      "\r\n",
      "--2022-11-22 20:01:39--  http://54.243.252.9/ce-5319-webroot/1-Databases/MaterialCracking/UT-881-image_src/Image645.png\r\n",
      "Reusing existing connection to 54.243.252.9:80.\r\n",
      "HTTP request sent, awaiting response... 200 OK\r\n",
      "Length: "
     ]
    },
    {
     "name": "stdout",
     "output_type": "stream",
     "text": [
      "13115 (13K) [image/png]\r\n",
      "Saving to: ‘./MyImageFiles/Image645.png’\r\n",
      "\r\n",
      "\r",
      "Image645.png          0%[                    ]       0  --.-KB/s               \r",
      "Image645.png        100%[===================>]  12.81K  --.-KB/s    in 0s      \r\n",
      "\r\n",
      "2022-11-22 20:01:39 (35.5 MB/s) - ‘./MyImageFiles/Image645.png’ saved [13115/13115]\r\n",
      "\r\n",
      "--2022-11-22 20:01:39--  http://54.243.252.9/ce-5319-webroot/1-Databases/MaterialCracking/UT-881-image_src/Image646.png\r\n",
      "Reusing existing connection to 54.243.252.9:80.\r\n",
      "HTTP request sent, awaiting response... 200 OK\r\n",
      "Length: 15171 (15K) [image/png]\r\n",
      "Saving to: ‘./MyImageFiles/Image646.png’\r\n",
      "\r\n",
      "\r",
      "Image646.png          0%[                    ]       0  --.-KB/s               \r",
      "Image646.png        100%[===================>]  14.82K  --.-KB/s    in 0s      \r\n",
      "\r\n",
      "2022-11-22 20:01:39 (48.0 MB/s) - ‘./MyImageFiles/Image646.png’ saved [15171/15171]\r\n",
      "\r\n",
      "--2022-11-22 20:01:39--  http://54.243.252.9/ce-5319-webroot/1-Databases/MaterialCracking/UT-881-image_src/Image647.png\r\n",
      "Reusing existing connection to 54.243.252.9:80.\r\n",
      "HTTP request sent, awaiting response... "
     ]
    },
    {
     "name": "stdout",
     "output_type": "stream",
     "text": [
      "200 OK\r\n",
      "Length: 14031 (14K) [image/png]\r\n",
      "Saving to: ‘./MyImageFiles/Image647.png’\r\n",
      "\r\n",
      "\r",
      "Image647.png          0%[                    ]       0  --.-KB/s               \r",
      "Image647.png        100%[===================>]  13.70K  --.-KB/s    in 0s      \r\n",
      "\r\n",
      "2022-11-22 20:01:39 (38.1 MB/s) - ‘./MyImageFiles/Image647.png’ saved [14031/14031]\r\n",
      "\r\n",
      "--2022-11-22 20:01:39--  http://54.243.252.9/ce-5319-webroot/1-Databases/MaterialCracking/UT-881-image_src/Image648.png\r\n",
      "Reusing existing connection to 54.243.252.9:80.\r\n",
      "HTTP request sent, awaiting response... "
     ]
    },
    {
     "name": "stdout",
     "output_type": "stream",
     "text": [
      "200 OK\r\n",
      "Length: 14456 (14K) [image/png]\r\n",
      "Saving to: ‘./MyImageFiles/Image648.png’\r\n",
      "\r\n",
      "\r",
      "Image648.png          0%[                    ]       0  --.-KB/s               \r",
      "Image648.png        100%[===================>]  14.12K  --.-KB/s    in 0s      \r\n",
      "\r\n",
      "2022-11-22 20:01:39 (30.6 MB/s) - ‘./MyImageFiles/Image648.png’ saved [14456/14456]\r\n",
      "\r\n",
      "--2022-11-22 20:01:39--  http://54.243.252.9/ce-5319-webroot/1-Databases/MaterialCracking/UT-881-image_src/Image649.png\r\n",
      "Reusing existing connection to 54.243.252.9:80.\r\n",
      "HTTP request sent, awaiting response... "
     ]
    },
    {
     "name": "stdout",
     "output_type": "stream",
     "text": [
      "200 OK\r\n",
      "Length: 14502 (14K) [image/png]\r\n",
      "Saving to: ‘./MyImageFiles/Image649.png’\r\n",
      "\r\n",
      "\r",
      "Image649.png          0%[                    ]       0  --.-KB/s               \r",
      "Image649.png        100%[===================>]  14.16K  --.-KB/s    in 0s      \r\n",
      "\r\n",
      "2022-11-22 20:01:39 (36.8 MB/s) - ‘./MyImageFiles/Image649.png’ saved [14502/14502]\r\n",
      "\r\n",
      "--2022-11-22 20:01:39--  http://54.243.252.9/ce-5319-webroot/1-Databases/MaterialCracking/UT-881-image_src/Image650.png\r\n",
      "Reusing existing connection to 54.243.252.9:80.\r\n",
      "HTTP request sent, awaiting response... "
     ]
    },
    {
     "name": "stdout",
     "output_type": "stream",
     "text": [
      "200 OK\r\n",
      "Length: 14741 (14K) [image/png]\r\n",
      "Saving to: ‘./MyImageFiles/Image650.png’\r\n",
      "\r\n",
      "\r",
      "Image650.png          0%[                    ]       0  --.-KB/s               \r",
      "Image650.png        100%[===================>]  14.40K  --.-KB/s    in 0s      \r\n",
      "\r\n",
      "2022-11-22 20:01:39 (44.1 MB/s) - ‘./MyImageFiles/Image650.png’ saved [14741/14741]\r\n",
      "\r\n",
      "--2022-11-22 20:01:39--  http://54.243.252.9/ce-5319-webroot/1-Databases/MaterialCracking/UT-881-image_src/Image651.png\r\n",
      "Reusing existing connection to 54.243.252.9:80.\r\n",
      "HTTP request sent, awaiting response... "
     ]
    },
    {
     "name": "stdout",
     "output_type": "stream",
     "text": [
      "200 OK\r\n",
      "Length: 10321 (10K) [image/png]\r\n",
      "Saving to: ‘./MyImageFiles/Image651.png’\r\n",
      "\r\n",
      "\r",
      "Image651.png          0%[                    ]       0  --.-KB/s               \r",
      "Image651.png        100%[===================>]  10.08K  --.-KB/s    in 0s      \r\n",
      "\r\n",
      "2022-11-22 20:01:39 (31.7 MB/s) - ‘./MyImageFiles/Image651.png’ saved [10321/10321]\r\n",
      "\r\n",
      "--2022-11-22 20:01:39--  http://54.243.252.9/ce-5319-webroot/1-Databases/MaterialCracking/UT-881-image_src/Image652.png\r\n",
      "Reusing existing connection to 54.243.252.9:80.\r\n",
      "HTTP request sent, awaiting response... "
     ]
    },
    {
     "name": "stdout",
     "output_type": "stream",
     "text": [
      "200 OK\r\n",
      "Length: 14547 (14K) [image/png]\r\n",
      "Saving to: ‘./MyImageFiles/Image652.png’\r\n",
      "\r\n",
      "\r",
      "Image652.png          0%[                    ]       0  --.-KB/s               \r",
      "Image652.png        100%[===================>]  14.21K  --.-KB/s    in 0s      \r\n",
      "\r\n",
      "2022-11-22 20:01:39 (37.3 MB/s) - ‘./MyImageFiles/Image652.png’ saved [14547/14547]\r\n",
      "\r\n",
      "--2022-11-22 20:01:39--  http://54.243.252.9/ce-5319-webroot/1-Databases/MaterialCracking/UT-881-image_src/Image653.png\r\n",
      "Reusing existing connection to 54.243.252.9:80.\r\n",
      "HTTP request sent, awaiting response... "
     ]
    },
    {
     "name": "stdout",
     "output_type": "stream",
     "text": [
      "200 OK\r\n",
      "Length: 10061 (9.8K) [image/png]\r\n",
      "Saving to: ‘./MyImageFiles/Image653.png’\r\n",
      "\r\n",
      "\r",
      "Image653.png          0%[                    ]       0  --.-KB/s               \r",
      "Image653.png        100%[===================>]   9.83K  --.-KB/s    in 0s      \r\n",
      "\r\n",
      "2022-11-22 20:01:39 (31.2 MB/s) - ‘./MyImageFiles/Image653.png’ saved [10061/10061]\r\n",
      "\r\n",
      "--2022-11-22 20:01:39--  http://54.243.252.9/ce-5319-webroot/1-Databases/MaterialCracking/UT-881-image_src/Image654.png\r\n",
      "Reusing existing connection to 54.243.252.9:80.\r\n",
      "HTTP request sent, awaiting response... "
     ]
    },
    {
     "name": "stdout",
     "output_type": "stream",
     "text": [
      "200 OK\r\n",
      "Length: 13911 (14K) [image/png]\r\n",
      "Saving to: ‘./MyImageFiles/Image654.png’\r\n",
      "\r\n",
      "\r",
      "Image654.png          0%[                    ]       0  --.-KB/s               \r",
      "Image654.png        100%[===================>]  13.58K  --.-KB/s    in 0s      \r\n",
      "\r\n",
      "2022-11-22 20:01:39 (44.8 MB/s) - ‘./MyImageFiles/Image654.png’ saved [13911/13911]\r\n",
      "\r\n",
      "--2022-11-22 20:01:39--  http://54.243.252.9/ce-5319-webroot/1-Databases/MaterialCracking/UT-881-image_src/Image655.png\r\n",
      "Reusing existing connection to 54.243.252.9:80.\r\n",
      "HTTP request sent, awaiting response... 200 OK\r\n",
      "Length: 15171 (15K) [image/png]\r\n",
      "Saving to: ‘./MyImageFiles/Image655.png’\r\n",
      "\r\n",
      "\r",
      "Image655.png          0%[                    ]       0  --.-KB/s               \r",
      "Image655.png        100%[===================>]  14.82K  --.-KB/s    in 0s      \r\n",
      "\r\n",
      "2022-11-22 20:01:39 (48.7 MB/s) - ‘./MyImageFiles/Image655.png’ saved [15171/15171]\r\n",
      "\r\n",
      "--2022-11-22 20:01:39--  http://54.243.252.9/ce-5319-webroot/1-Databases/MaterialCracking/UT-881-image_src/Image656.png\r\n",
      "Reusing existing connection to 54.243.252.9:80.\r\n",
      "HTTP request sent, awaiting response... "
     ]
    },
    {
     "name": "stdout",
     "output_type": "stream",
     "text": [
      "200 OK\r\n",
      "Length: 13034 (13K) [image/png]\r\n"
     ]
    },
    {
     "name": "stdout",
     "output_type": "stream",
     "text": [
      "Saving to: ‘./MyImageFiles/Image656.png’\r\n",
      "\r\n",
      "\r",
      "Image656.png          0%[                    ]       0  --.-KB/s               \r",
      "Image656.png        100%[===================>]  12.73K  --.-KB/s    in 0s      \r\n",
      "\r\n",
      "2022-11-22 20:01:40 (40.9 MB/s) - ‘./MyImageFiles/Image656.png’ saved [13034/13034]\r\n",
      "\r\n",
      "--2022-11-22 20:01:40--  http://54.243.252.9/ce-5319-webroot/1-Databases/MaterialCracking/UT-881-image_src/Image657.png\r\n",
      "Reusing existing connection to 54.243.252.9:80.\r\n",
      "HTTP request sent, awaiting response... "
     ]
    },
    {
     "name": "stdout",
     "output_type": "stream",
     "text": [
      "200 OK\r\n",
      "Length: 13204 (13K) [image/png]\r\n",
      "Saving to: ‘./MyImageFiles/Image657.png’\r\n",
      "\r\n",
      "\r",
      "Image657.png          0%[                    ]       0  --.-KB/s               \r",
      "Image657.png        100%[===================>]  12.89K  --.-KB/s    in 0s      \r\n",
      "\r\n",
      "2022-11-22 20:01:40 (42.3 MB/s) - ‘./MyImageFiles/Image657.png’ saved [13204/13204]\r\n",
      "\r\n",
      "--2022-11-22 20:01:40--  http://54.243.252.9/ce-5319-webroot/1-Databases/MaterialCracking/UT-881-image_src/Image658.png\r\n",
      "Reusing existing connection to 54.243.252.9:80.\r\n",
      "HTTP request sent, awaiting response... "
     ]
    },
    {
     "name": "stdout",
     "output_type": "stream",
     "text": [
      "200 OK\r\n",
      "Length: 13920 (14K) [image/png]\r\n",
      "Saving to: ‘./MyImageFiles/Image658.png’\r\n",
      "\r\n",
      "\r",
      "Image658.png          0%[                    ]       0  --.-KB/s               \r",
      "Image658.png        100%[===================>]  13.59K  --.-KB/s    in 0s      \r\n",
      "\r\n",
      "2022-11-22 20:01:40 (44.4 MB/s) - ‘./MyImageFiles/Image658.png’ saved [13920/13920]\r\n",
      "\r\n",
      "--2022-11-22 20:01:40--  http://54.243.252.9/ce-5319-webroot/1-Databases/MaterialCracking/UT-881-image_src/Image659.png\r\n",
      "Reusing existing connection to 54.243.252.9:80.\r\n",
      "HTTP request sent, awaiting response... "
     ]
    },
    {
     "name": "stdout",
     "output_type": "stream",
     "text": [
      "200 OK\r\n",
      "Length: 9877 (9.6K) [image/png]\r\n",
      "Saving to: ‘./MyImageFiles/Image659.png’\r\n",
      "\r\n",
      "\r",
      "Image659.png          0%[                    ]       0  --.-KB/s               \r",
      "Image659.png        100%[===================>]   9.65K  --.-KB/s    in 0s      \r\n",
      "\r\n",
      "2022-11-22 20:01:40 (30.7 MB/s) - ‘./MyImageFiles/Image659.png’ saved [9877/9877]\r\n",
      "\r\n",
      "--2022-11-22 20:01:40--  http://54.243.252.9/ce-5319-webroot/1-Databases/MaterialCracking/UT-881-image_src/Image660.png\r\n",
      "Reusing existing connection to 54.243.252.9:80.\r\n",
      "HTTP request sent, awaiting response... "
     ]
    },
    {
     "name": "stdout",
     "output_type": "stream",
     "text": [
      "200 OK\r\n",
      "Length: 14659 (14K) [image/png]\r\n",
      "Saving to: ‘./MyImageFiles/Image660.png’\r\n",
      "\r\n",
      "\r",
      "Image660.png          0%[                    ]       0  --.-KB/s               \r",
      "Image660.png        100%[===================>]  14.32K  --.-KB/s    in 0s      \r\n",
      "\r\n",
      "2022-11-22 20:01:40 (42.0 MB/s) - ‘./MyImageFiles/Image660.png’ saved [14659/14659]\r\n",
      "\r\n",
      "--2022-11-22 20:01:40--  http://54.243.252.9/ce-5319-webroot/1-Databases/MaterialCracking/UT-881-image_src/Image661.png\r\n",
      "Reusing existing connection to 54.243.252.9:80.\r\n",
      "HTTP request sent, awaiting response... "
     ]
    },
    {
     "name": "stdout",
     "output_type": "stream",
     "text": [
      "200 OK\r\n",
      "Length: 11130 (11K) [image/png]\r\n",
      "Saving to: ‘./MyImageFiles/Image661.png’\r\n",
      "\r\n",
      "\r",
      "Image661.png          0%[                    ]       0  --.-KB/s               \r",
      "Image661.png        100%[===================>]  10.87K  --.-KB/s    in 0s      \r\n",
      "\r\n",
      "2022-11-22 20:01:40 (31.6 MB/s) - ‘./MyImageFiles/Image661.png’ saved [11130/11130]\r\n",
      "\r\n",
      "--2022-11-22 20:01:40--  http://54.243.252.9/ce-5319-webroot/1-Databases/MaterialCracking/UT-881-image_src/Image662.png\r\n",
      "Reusing existing connection to 54.243.252.9:80.\r\n",
      "HTTP request sent, awaiting response... 200 OK\r\n",
      "Length: 8989 (8.8K) [image/png]\r\n",
      "Saving to: ‘./MyImageFiles/Image662.png’\r\n",
      "\r\n",
      "\r",
      "Image662.png          0%[                    ]       0  --.-KB/s               "
     ]
    },
    {
     "name": "stdout",
     "output_type": "stream",
     "text": [
      "\r",
      "Image662.png        100%[===================>]   8.78K  --.-KB/s    in 0s      \r\n",
      "\r\n",
      "2022-11-22 20:01:40 (26.4 MB/s) - ‘./MyImageFiles/Image662.png’ saved [8989/8989]\r\n",
      "\r\n",
      "--2022-11-22 20:01:40--  http://54.243.252.9/ce-5319-webroot/1-Databases/MaterialCracking/UT-881-image_src/Image663.png\r\n",
      "Reusing existing connection to 54.243.252.9:80.\r\n",
      "HTTP request sent, awaiting response... 200 OK\r\n",
      "Length: 13062 (13K) [image/png]\r\n",
      "Saving to: ‘./MyImageFiles/Image663.png’\r\n",
      "\r\n",
      "\r",
      "Image663.png          0%[                    ]       0  --.-KB/s               \r",
      "Image663.png        100%[===================>]  12.76K  --.-KB/s    in 0s      \r\n",
      "\r\n",
      "2022-11-22 20:01:40 (33.4 MB/s) - ‘./MyImageFiles/Image663.png’ saved [13062/13062]\r\n",
      "\r\n",
      "--2022-11-22 20:01:40--  http://54.243.252.9/ce-5319-webroot/1-Databases/MaterialCracking/UT-881-image_src/Image664.png\r\n",
      "Reusing existing connection to 54.243.252.9:80.\r\n",
      "HTTP request sent, awaiting response... "
     ]
    },
    {
     "name": "stdout",
     "output_type": "stream",
     "text": [
      "200 OK\r\n",
      "Length: 15209 (15K) [image/png]\r\n",
      "Saving to: ‘./MyImageFiles/Image664.png’\r\n",
      "\r\n",
      "\r",
      "Image664.png          0%[                    ]       0  --.-KB/s               \r",
      "Image664.png        100%[===================>]  14.85K  --.-KB/s    in 0s      \r\n",
      "\r\n",
      "2022-11-22 20:01:40 (34.8 MB/s) - ‘./MyImageFiles/Image664.png’ saved [15209/15209]\r\n",
      "\r\n",
      "--2022-11-22 20:01:40--  http://54.243.252.9/ce-5319-webroot/1-Databases/MaterialCracking/UT-881-image_src/Image665.png\r\n",
      "Reusing existing connection to 54.243.252.9:80.\r\n",
      "HTTP request sent, awaiting response... "
     ]
    },
    {
     "name": "stdout",
     "output_type": "stream",
     "text": [
      "200 OK\r\n",
      "Length: 9870 (9.6K) [image/png]\r\n",
      "Saving to: ‘./MyImageFiles/Image665.png’\r\n",
      "\r\n",
      "\r",
      "Image665.png          0%[                    ]       0  --.-KB/s               \r",
      "Image665.png        100%[===================>]   9.64K  --.-KB/s    in 0s      \r\n",
      "\r\n",
      "2022-11-22 20:01:40 (21.4 MB/s) - ‘./MyImageFiles/Image665.png’ saved [9870/9870]\r\n",
      "\r\n",
      "--2022-11-22 20:01:40--  http://54.243.252.9/ce-5319-webroot/1-Databases/MaterialCracking/UT-881-image_src/Image666.png\r\n",
      "Reusing existing connection to 54.243.252.9:80.\r\n",
      "HTTP request sent, awaiting response... "
     ]
    },
    {
     "name": "stdout",
     "output_type": "stream",
     "text": [
      "200 OK\r\n",
      "Length: 13048 (13K) [image/png]\r\n",
      "Saving to: ‘./MyImageFiles/Image666.png’\r\n",
      "\r\n",
      "\r",
      "Image666.png          0%[                    ]       0  --.-KB/s               \r",
      "Image666.png        100%[===================>]  12.74K  --.-KB/s    in 0s      \r\n",
      "\r\n",
      "2022-11-22 20:01:40 (33.3 MB/s) - ‘./MyImageFiles/Image666.png’ saved [13048/13048]\r\n",
      "\r\n",
      "--2022-11-22 20:01:40--  http://54.243.252.9/ce-5319-webroot/1-Databases/MaterialCracking/UT-881-image_src/Image667.png\r\n",
      "Reusing existing connection to 54.243.252.9:80.\r\n",
      "HTTP request sent, awaiting response... "
     ]
    },
    {
     "name": "stdout",
     "output_type": "stream",
     "text": [
      "200 OK\r\n",
      "Length: 12225 (12K) [image/png]\r\n",
      "Saving to: ‘./MyImageFiles/Image667.png’\r\n",
      "\r\n",
      "\r",
      "Image667.png          0%[                    ]       0  --.-KB/s               \r",
      "Image667.png        100%[===================>]  11.94K  --.-KB/s    in 0s      \r\n",
      "\r\n",
      "2022-11-22 20:01:40 (43.8 MB/s) - ‘./MyImageFiles/Image667.png’ saved [12225/12225]\r\n",
      "\r\n",
      "--2022-11-22 20:01:40--  http://54.243.252.9/ce-5319-webroot/1-Databases/MaterialCracking/UT-881-image_src/Image668.png\r\n",
      "Reusing existing connection to 54.243.252.9:80.\r\n",
      "HTTP request sent, awaiting response... "
     ]
    },
    {
     "name": "stdout",
     "output_type": "stream",
     "text": [
      "200 OK\r\n",
      "Length: 12905 (13K) [image/png]\r\n",
      "Saving to: ‘./MyImageFiles/Image668.png’\r\n",
      "\r\n",
      "\r",
      "Image668.png          0%[                    ]       0  --.-KB/s               \r",
      "Image668.png        100%[===================>]  12.60K  --.-KB/s    in 0s      \r\n",
      "\r\n",
      "2022-11-22 20:01:40 (29.5 MB/s) - ‘./MyImageFiles/Image668.png’ saved [12905/12905]\r\n",
      "\r\n",
      "--2022-11-22 20:01:40--  http://54.243.252.9/ce-5319-webroot/1-Databases/MaterialCracking/UT-881-image_src/Image669.png\r\n",
      "Reusing existing connection to 54.243.252.9:80.\r\n",
      "HTTP request sent, awaiting response... "
     ]
    },
    {
     "name": "stdout",
     "output_type": "stream",
     "text": [
      "200 OK\r\n",
      "Length: 14499 (14K) [image/png]\r\n",
      "Saving to: ‘./MyImageFiles/Image669.png’\r\n",
      "\r\n",
      "\r",
      "Image669.png          0%[                    ]       0  --.-KB/s               \r",
      "Image669.png        100%[===================>]  14.16K  --.-KB/s    in 0s      \r\n",
      "\r\n",
      "2022-11-22 20:01:40 (43.0 MB/s) - ‘./MyImageFiles/Image669.png’ saved [14499/14499]\r\n",
      "\r\n",
      "--2022-11-22 20:01:40--  http://54.243.252.9/ce-5319-webroot/1-Databases/MaterialCracking/UT-881-image_src/Image670.png\r\n",
      "Reusing existing connection to 54.243.252.9:80.\r\n",
      "HTTP request sent, awaiting response... "
     ]
    },
    {
     "name": "stdout",
     "output_type": "stream",
     "text": [
      "200 OK\r\n",
      "Length: 12013 (12K) [image/png]\r\n",
      "Saving to: ‘./MyImageFiles/Image670.png’\r\n",
      "\r\n",
      "\r",
      "Image670.png          0%[                    ]       0  --.-KB/s               \r",
      "Image670.png        100%[===================>]  11.73K  --.-KB/s    in 0s      \r\n",
      "\r\n",
      "2022-11-22 20:01:40 (42.2 MB/s) - ‘./MyImageFiles/Image670.png’ saved [12013/12013]\r\n",
      "\r\n",
      "--2022-11-22 20:01:40--  http://54.243.252.9/ce-5319-webroot/1-Databases/MaterialCracking/UT-881-image_src/Image671.png\r\n",
      "Reusing existing connection to 54.243.252.9:80.\r\n",
      "HTTP request sent, awaiting response... "
     ]
    },
    {
     "name": "stdout",
     "output_type": "stream",
     "text": [
      "200 OK\r\n",
      "Length: 13658 (13K) [image/png]\r\n",
      "Saving to: ‘./MyImageFiles/Image671.png’\r\n",
      "\r\n",
      "\r",
      "Image671.png          0%[                    ]       0  --.-KB/s               \r",
      "Image671.png        100%[===================>]  13.34K  --.-KB/s    in 0s      \r\n",
      "\r\n",
      "2022-11-22 20:01:40 (45.3 MB/s) - ‘./MyImageFiles/Image671.png’ saved [13658/13658]\r\n",
      "\r\n",
      "--2022-11-22 20:01:40--  http://54.243.252.9/ce-5319-webroot/1-Databases/MaterialCracking/UT-881-image_src/Image672.png\r\n",
      "Reusing existing connection to 54.243.252.9:80.\r\n",
      "HTTP request sent, awaiting response... "
     ]
    },
    {
     "name": "stdout",
     "output_type": "stream",
     "text": [
      "200 OK\r\n",
      "Length: 14457 (14K) [image/png]\r\n",
      "Saving to: ‘./MyImageFiles/Image672.png’\r\n",
      "\r\n",
      "\r",
      "Image672.png          0%[                    ]       0  --.-KB/s               \r",
      "Image672.png        100%[===================>]  14.12K  --.-KB/s    in 0s      \r\n",
      "\r\n",
      "2022-11-22 20:01:40 (43.5 MB/s) - ‘./MyImageFiles/Image672.png’ saved [14457/14457]\r\n",
      "\r\n",
      "--2022-11-22 20:01:40--  http://54.243.252.9/ce-5319-webroot/1-Databases/MaterialCracking/UT-881-image_src/Image673.png\r\n",
      "Reusing existing connection to 54.243.252.9:80.\r\n",
      "HTTP request sent, awaiting response... "
     ]
    },
    {
     "name": "stdout",
     "output_type": "stream",
     "text": [
      "200 OK\r\n",
      "Length: 12221 (12K) [image/png]\r\n",
      "Saving to: ‘./MyImageFiles/Image673.png’\r\n",
      "\r\n",
      "\r",
      "Image673.png          0%[                    ]       0  --.-KB/s               \r",
      "Image673.png        100%[===================>]  11.93K  --.-KB/s    in 0s      \r\n",
      "\r\n",
      "2022-11-22 20:01:40 (40.2 MB/s) - ‘./MyImageFiles/Image673.png’ saved [12221/12221]\r\n",
      "\r\n",
      "--2022-11-22 20:01:40--  http://54.243.252.9/ce-5319-webroot/1-Databases/MaterialCracking/UT-881-image_src/Image674.png\r\n",
      "Reusing existing connection to 54.243.252.9:80.\r\n",
      "HTTP request sent, awaiting response... "
     ]
    },
    {
     "name": "stdout",
     "output_type": "stream",
     "text": [
      "200 OK\r\n",
      "Length: 14892 (15K) [image/png]\r\n",
      "Saving to: ‘./MyImageFiles/Image674.png’\r\n",
      "\r\n",
      "\r",
      "Image674.png          0%[                    ]       0  --.-KB/s               \r",
      "Image674.png        100%[===================>]  14.54K  --.-KB/s    in 0s      \r\n",
      "\r\n",
      "2022-11-22 20:01:40 (50.3 MB/s) - ‘./MyImageFiles/Image674.png’ saved [14892/14892]\r\n",
      "\r\n",
      "--2022-11-22 20:01:40--  http://54.243.252.9/ce-5319-webroot/1-Databases/MaterialCracking/UT-881-image_src/Image675.png\r\n",
      "Reusing existing connection to 54.243.252.9:80.\r\n",
      "HTTP request sent, awaiting response... "
     ]
    },
    {
     "name": "stdout",
     "output_type": "stream",
     "text": [
      "200 OK\r\n",
      "Length: 10173 (9.9K) [image/png]\r\n",
      "Saving to: ‘./MyImageFiles/Image675.png’\r\n",
      "\r\n",
      "\r",
      "Image675.png          0%[                    ]       0  --.-KB/s               \r",
      "Image675.png        100%[===================>]   9.93K  --.-KB/s    in 0s      \r\n",
      "\r\n",
      "2022-11-22 20:01:40 (31.5 MB/s) - ‘./MyImageFiles/Image675.png’ saved [10173/10173]\r\n",
      "\r\n",
      "--2022-11-22 20:01:40--  http://54.243.252.9/ce-5319-webroot/1-Databases/MaterialCracking/UT-881-image_src/Image676.png\r\n",
      "Reusing existing connection to 54.243.252.9:80.\r\n",
      "HTTP request sent, awaiting response... "
     ]
    },
    {
     "name": "stdout",
     "output_type": "stream",
     "text": [
      "200 OK\r\n",
      "Length: 11239 (11K) [image/png]\r\n",
      "Saving to: ‘./MyImageFiles/Image676.png’\r\n",
      "\r\n",
      "\r",
      "Image676.png          0%[                    ]       0  --.-KB/s               \r",
      "Image676.png        100%[===================>]  10.98K  --.-KB/s    in 0s      \r\n",
      "\r\n",
      "2022-11-22 20:01:40 (30.1 MB/s) - ‘./MyImageFiles/Image676.png’ saved [11239/11239]\r\n",
      "\r\n",
      "--2022-11-22 20:01:40--  http://54.243.252.9/ce-5319-webroot/1-Databases/MaterialCracking/UT-881-image_src/Image677.png\r\n",
      "Reusing existing connection to 54.243.252.9:80.\r\n",
      "HTTP request sent, awaiting response... 200 OK\r\n",
      "Length: 11776 (12K) [image/png]\r\n",
      "Saving to: ‘./MyImageFiles/Image677.png’\r\n",
      "\r\n",
      "\r",
      "Image677.png          0%[                    ]       0  --.-KB/s               \r",
      "Image677.png        100%[===================>]  11.50K  --.-KB/s    in 0s      \r\n",
      "\r\n",
      "2022-11-22 20:01:41 (33.7 MB/s) - ‘./MyImageFiles/Image677.png’ saved [11776/11776]\r\n",
      "\r\n"
     ]
    },
    {
     "name": "stdout",
     "output_type": "stream",
     "text": [
      "--2022-11-22 20:01:41--  http://54.243.252.9/ce-5319-webroot/1-Databases/MaterialCracking/UT-881-image_src/Image678.png\r\n",
      "Reusing existing connection to 54.243.252.9:80.\r\n",
      "HTTP request sent, awaiting response... "
     ]
    },
    {
     "name": "stdout",
     "output_type": "stream",
     "text": [
      "200 OK\r\n",
      "Length: 9601 (9.4K) [image/png]\r\n",
      "Saving to: ‘./MyImageFiles/Image678.png’\r\n",
      "\r\n",
      "\r",
      "Image678.png          0%[                    ]       0  --.-KB/s               \r",
      "Image678.png        100%[===================>]   9.38K  --.-KB/s    in 0s      \r\n",
      "\r\n",
      "2022-11-22 20:01:41 (35.9 MB/s) - ‘./MyImageFiles/Image678.png’ saved [9601/9601]\r\n",
      "\r\n",
      "--2022-11-22 20:01:41--  http://54.243.252.9/ce-5319-webroot/1-Databases/MaterialCracking/UT-881-image_src/Image679.png\r\n",
      "Reusing existing connection to 54.243.252.9:80.\r\n",
      "HTTP request sent, awaiting response... "
     ]
    },
    {
     "name": "stdout",
     "output_type": "stream",
     "text": [
      "200 OK\r\n",
      "Length: 13684 (13K) [image/png]\r\n",
      "Saving to: ‘./MyImageFiles/Image679.png’\r\n",
      "\r\n",
      "\r",
      "Image679.png          0%[                    ]       0  --.-KB/s               \r",
      "Image679.png        100%[===================>]  13.36K  --.-KB/s    in 0s      \r\n",
      "\r\n",
      "2022-11-22 20:01:41 (56.6 MB/s) - ‘./MyImageFiles/Image679.png’ saved [13684/13684]\r\n",
      "\r\n",
      "--2022-11-22 20:01:41--  http://54.243.252.9/ce-5319-webroot/1-Databases/MaterialCracking/UT-881-image_src/Image680.png\r\n",
      "Reusing existing connection to 54.243.252.9:80.\r\n",
      "HTTP request sent, awaiting response... "
     ]
    },
    {
     "name": "stdout",
     "output_type": "stream",
     "text": [
      "200 OK\r\n",
      "Length: 10249 (10K) [image/png]\r\n",
      "Saving to: ‘./MyImageFiles/Image680.png’\r\n",
      "\r\n",
      "\r",
      "Image680.png          0%[                    ]       0  --.-KB/s               \r",
      "Image680.png        100%[===================>]  10.01K  --.-KB/s    in 0s      \r\n",
      "\r\n",
      "2022-11-22 20:01:41 (34.1 MB/s) - ‘./MyImageFiles/Image680.png’ saved [10249/10249]\r\n",
      "\r\n",
      "--2022-11-22 20:01:41--  http://54.243.252.9/ce-5319-webroot/1-Databases/MaterialCracking/UT-881-image_src/Image681.png\r\n",
      "Reusing existing connection to 54.243.252.9:80.\r\n",
      "HTTP request sent, awaiting response... "
     ]
    },
    {
     "name": "stdout",
     "output_type": "stream",
     "text": [
      "200 OK\r\n",
      "Length: 14480 (14K) [image/png]\r\n",
      "Saving to: ‘./MyImageFiles/Image681.png’\r\n",
      "\r\n",
      "\r",
      "Image681.png          0%[                    ]       0  --.-KB/s               \r",
      "Image681.png        100%[===================>]  14.14K  --.-KB/s    in 0s      \r\n",
      "\r\n",
      "2022-11-22 20:01:41 (41.0 MB/s) - ‘./MyImageFiles/Image681.png’ saved [14480/14480]\r\n",
      "\r\n",
      "--2022-11-22 20:01:41--  http://54.243.252.9/ce-5319-webroot/1-Databases/MaterialCracking/UT-881-image_src/Image682.png\r\n",
      "Reusing existing connection to 54.243.252.9:80.\r\n",
      "HTTP request sent, awaiting response... 200 OK\r\n",
      "Length: 13599 (13K) [image/png]\r\n",
      "Saving to: ‘./MyImageFiles/Image682.png’\r\n",
      "\r\n",
      "\r",
      "Image682.png          0%[                    ]       0  --.-KB/s               \r",
      "Image682.png        100%[===================>]  13.28K  --.-KB/s    in 0s      \r\n",
      "\r\n",
      "2022-11-22 20:01:41 (42.0 MB/s) - ‘./MyImageFiles/Image682.png’ saved [13599/13599]\r\n",
      "\r\n"
     ]
    },
    {
     "name": "stdout",
     "output_type": "stream",
     "text": [
      "--2022-11-22 20:01:41--  http://54.243.252.9/ce-5319-webroot/1-Databases/MaterialCracking/UT-881-image_src/Image683.png\r\n",
      "Reusing existing connection to 54.243.252.9:80.\r\n",
      "HTTP request sent, awaiting response... 200 OK\r\n",
      "Length: 13465 (13K) [image/png]\r\n",
      "Saving to: ‘./MyImageFiles/Image683.png’\r\n",
      "\r\n",
      "\r",
      "Image683.png          0%[                    ]       0  --.-KB/s               \r",
      "Image683.png        100%[===================>]  13.15K  --.-KB/s    in 0s      \r\n",
      "\r\n",
      "2022-11-22 20:01:41 (38.4 MB/s) - ‘./MyImageFiles/Image683.png’ saved [13465/13465]\r\n",
      "\r\n",
      "--2022-11-22 20:01:41--  http://54.243.252.9/ce-5319-webroot/1-Databases/MaterialCracking/UT-881-image_src/Image684.png\r\n",
      "Reusing existing connection to 54.243.252.9:80.\r\n",
      "HTTP request sent, awaiting response... "
     ]
    },
    {
     "name": "stdout",
     "output_type": "stream",
     "text": [
      "200 OK\r\n",
      "Length: 14804 (14K) [image/png]\r\n",
      "Saving to: ‘./MyImageFiles/Image684.png’\r\n",
      "\r\n",
      "\r",
      "Image684.png          0%[                    ]       0  --.-KB/s               \r",
      "Image684.png        100%[===================>]  14.46K  --.-KB/s    in 0s      \r\n",
      "\r\n",
      "2022-11-22 20:01:41 (43.3 MB/s) - ‘./MyImageFiles/Image684.png’ saved [14804/14804]\r\n",
      "\r\n",
      "--2022-11-22 20:01:41--  http://54.243.252.9/ce-5319-webroot/1-Databases/MaterialCracking/UT-881-image_src/Image685.png\r\n",
      "Reusing existing connection to 54.243.252.9:80.\r\n",
      "HTTP request sent, awaiting response... "
     ]
    },
    {
     "name": "stdout",
     "output_type": "stream",
     "text": [
      "200 OK\r\n",
      "Length: 14344 (14K) [image/png]\r\n",
      "Saving to: ‘./MyImageFiles/Image685.png’\r\n",
      "\r\n",
      "\r",
      "Image685.png          0%[                    ]       0  --.-KB/s               \r",
      "Image685.png        100%[===================>]  14.01K  --.-KB/s    in 0s      \r\n",
      "\r\n",
      "2022-11-22 20:01:41 (56.4 MB/s) - ‘./MyImageFiles/Image685.png’ saved [14344/14344]\r\n",
      "\r\n",
      "--2022-11-22 20:01:41--  http://54.243.252.9/ce-5319-webroot/1-Databases/MaterialCracking/UT-881-image_src/Image686.png\r\n",
      "Reusing existing connection to 54.243.252.9:80.\r\n",
      "HTTP request sent, awaiting response... "
     ]
    },
    {
     "name": "stdout",
     "output_type": "stream",
     "text": [
      "200 OK\r\n",
      "Length: 14468 (14K) [image/png]\r\n",
      "Saving to: ‘./MyImageFiles/Image686.png’\r\n",
      "\r\n",
      "\r",
      "Image686.png          0%[                    ]       0  --.-KB/s               \r",
      "Image686.png        100%[===================>]  14.13K  --.-KB/s    in 0s      \r\n",
      "\r\n",
      "2022-11-22 20:01:41 (40.1 MB/s) - ‘./MyImageFiles/Image686.png’ saved [14468/14468]\r\n",
      "\r\n",
      "--2022-11-22 20:01:41--  http://54.243.252.9/ce-5319-webroot/1-Databases/MaterialCracking/UT-881-image_src/Image687.png\r\n",
      "Reusing existing connection to 54.243.252.9:80.\r\n",
      "HTTP request sent, awaiting response... "
     ]
    },
    {
     "name": "stdout",
     "output_type": "stream",
     "text": [
      "200 OK\r\n",
      "Length: 10957 (11K) [image/png]\r\n",
      "Saving to: ‘./MyImageFiles/Image687.png’\r\n",
      "\r\n",
      "\r",
      "Image687.png          0%[                    ]       0  --.-KB/s               \r",
      "Image687.png        100%[===================>]  10.70K  --.-KB/s    in 0s      \r\n",
      "\r\n",
      "2022-11-22 20:01:41 (36.5 MB/s) - ‘./MyImageFiles/Image687.png’ saved [10957/10957]\r\n",
      "\r\n",
      "--2022-11-22 20:01:41--  http://54.243.252.9/ce-5319-webroot/1-Databases/MaterialCracking/UT-881-image_src/Image688.png\r\n",
      "Reusing existing connection to 54.243.252.9:80.\r\n",
      "HTTP request sent, awaiting response... "
     ]
    },
    {
     "name": "stdout",
     "output_type": "stream",
     "text": [
      "200 OK\r\n",
      "Length: 12516 (12K) [image/png]\r\n",
      "Saving to: ‘./MyImageFiles/Image688.png’\r\n",
      "\r\n",
      "\r",
      "Image688.png          0%[                    ]       0  --.-KB/s               \r",
      "Image688.png        100%[===================>]  12.22K  --.-KB/s    in 0s      \r\n",
      "\r\n",
      "2022-11-22 20:01:41 (37.9 MB/s) - ‘./MyImageFiles/Image688.png’ saved [12516/12516]\r\n",
      "\r\n",
      "--2022-11-22 20:01:41--  http://54.243.252.9/ce-5319-webroot/1-Databases/MaterialCracking/UT-881-image_src/Image689.png\r\n",
      "Reusing existing connection to 54.243.252.9:80.\r\n",
      "HTTP request sent, awaiting response... "
     ]
    },
    {
     "name": "stdout",
     "output_type": "stream",
     "text": [
      "200 OK\r\n",
      "Length: 13846 (14K) [image/png]\r\n",
      "Saving to: ‘./MyImageFiles/Image689.png’\r\n",
      "\r\n",
      "\r",
      "Image689.png          0%[                    ]       0  --.-KB/s               \r",
      "Image689.png        100%[===================>]  13.52K  --.-KB/s    in 0s      \r\n",
      "\r\n",
      "2022-11-22 20:01:41 (47.8 MB/s) - ‘./MyImageFiles/Image689.png’ saved [13846/13846]\r\n",
      "\r\n",
      "--2022-11-22 20:01:41--  http://54.243.252.9/ce-5319-webroot/1-Databases/MaterialCracking/UT-881-image_src/Image690.png\r\n",
      "Reusing existing connection to 54.243.252.9:80.\r\n",
      "HTTP request sent, awaiting response... "
     ]
    },
    {
     "name": "stdout",
     "output_type": "stream",
     "text": [
      "200 OK\r\n",
      "Length: 13573 (13K) [image/png]\r\n",
      "Saving to: ‘./MyImageFiles/Image690.png’\r\n",
      "\r\n",
      "\r",
      "Image690.png          0%[                    ]       0  --.-KB/s               \r",
      "Image690.png        100%[===================>]  13.25K  --.-KB/s    in 0s      \r\n",
      "\r\n",
      "2022-11-22 20:01:41 (44.1 MB/s) - ‘./MyImageFiles/Image690.png’ saved [13573/13573]\r\n",
      "\r\n",
      "--2022-11-22 20:01:41--  http://54.243.252.9/ce-5319-webroot/1-Databases/MaterialCracking/UT-881-image_src/Image691.png\r\n",
      "Reusing existing connection to 54.243.252.9:80.\r\n",
      "HTTP request sent, awaiting response... "
     ]
    },
    {
     "name": "stdout",
     "output_type": "stream",
     "text": [
      "200 OK\r\n",
      "Length: 13581 (13K) [image/png]\r\n",
      "Saving to: ‘./MyImageFiles/Image691.png’\r\n",
      "\r\n",
      "\r",
      "Image691.png          0%[                    ]       0  --.-KB/s               \r",
      "Image691.png        100%[===================>]  13.26K  --.-KB/s    in 0s      \r\n",
      "\r\n",
      "2022-11-22 20:01:41 (45.5 MB/s) - ‘./MyImageFiles/Image691.png’ saved [13581/13581]\r\n",
      "\r\n",
      "--2022-11-22 20:01:41--  http://54.243.252.9/ce-5319-webroot/1-Databases/MaterialCracking/UT-881-image_src/Image692.png\r\n",
      "Reusing existing connection to 54.243.252.9:80.\r\n",
      "HTTP request sent, awaiting response... "
     ]
    },
    {
     "name": "stdout",
     "output_type": "stream",
     "text": [
      "200 OK\r\n",
      "Length: 13264 (13K) [image/png]\r\n",
      "Saving to: ‘./MyImageFiles/Image692.png’\r\n",
      "\r\n",
      "\r",
      "Image692.png          0%[                    ]       0  --.-KB/s               \r",
      "Image692.png        100%[===================>]  12.95K  --.-KB/s    in 0s      \r\n",
      "\r\n",
      "2022-11-22 20:01:41 (37.8 MB/s) - ‘./MyImageFiles/Image692.png’ saved [13264/13264]\r\n",
      "\r\n",
      "--2022-11-22 20:01:41--  http://54.243.252.9/ce-5319-webroot/1-Databases/MaterialCracking/UT-881-image_src/Image693.png\r\n",
      "Reusing existing connection to 54.243.252.9:80.\r\n",
      "HTTP request sent, awaiting response... "
     ]
    },
    {
     "name": "stdout",
     "output_type": "stream",
     "text": [
      "200 OK\r\n",
      "Length: 13891 (14K) [image/png]\r\n",
      "Saving to: ‘./MyImageFiles/Image693.png’\r\n",
      "\r\n",
      "\r",
      "Image693.png          0%[                    ]       0  --.-KB/s               \r",
      "Image693.png        100%[===================>]  13.57K  --.-KB/s    in 0s      \r\n",
      "\r\n",
      "2022-11-22 20:01:41 (44.8 MB/s) - ‘./MyImageFiles/Image693.png’ saved [13891/13891]\r\n",
      "\r\n",
      "--2022-11-22 20:01:41--  http://54.243.252.9/ce-5319-webroot/1-Databases/MaterialCracking/UT-881-image_src/Image694.png\r\n",
      "Reusing existing connection to 54.243.252.9:80.\r\n",
      "HTTP request sent, awaiting response... "
     ]
    },
    {
     "name": "stdout",
     "output_type": "stream",
     "text": [
      "200 OK\r\n",
      "Length: 8322 (8.1K) [image/png]\r\n",
      "Saving to: ‘./MyImageFiles/Image694.png’\r\n",
      "\r\n",
      "\r",
      "Image694.png          0%[                    ]       0  --.-KB/s               \r",
      "Image694.png        100%[===================>]   8.13K  --.-KB/s    in 0s      \r\n",
      "\r\n",
      "2022-11-22 20:01:41 (29.5 MB/s) - ‘./MyImageFiles/Image694.png’ saved [8322/8322]\r\n",
      "\r\n",
      "--2022-11-22 20:01:41--  http://54.243.252.9/ce-5319-webroot/1-Databases/MaterialCracking/UT-881-image_src/Image695.png\r\n",
      "Reusing existing connection to 54.243.252.9:80.\r\n",
      "HTTP request sent, awaiting response... "
     ]
    },
    {
     "name": "stdout",
     "output_type": "stream",
     "text": [
      "200 OK\r\n",
      "Length: 11260 (11K) [image/png]\r\n",
      "Saving to: ‘./MyImageFiles/Image695.png’\r\n",
      "\r\n",
      "\r",
      "Image695.png          0%[                    ]       0  --.-KB/s               \r",
      "Image695.png        100%[===================>]  11.00K  --.-KB/s    in 0s      \r\n",
      "\r\n",
      "2022-11-22 20:01:41 (26.5 MB/s) - ‘./MyImageFiles/Image695.png’ saved [11260/11260]\r\n",
      "\r\n",
      "--2022-11-22 20:01:41--  http://54.243.252.9/ce-5319-webroot/1-Databases/MaterialCracking/UT-881-image_src/Image696.png\r\n",
      "Reusing existing connection to 54.243.252.9:80.\r\n",
      "HTTP request sent, awaiting response... "
     ]
    },
    {
     "name": "stdout",
     "output_type": "stream",
     "text": [
      "200 OK\r\n",
      "Length: 14694 (14K) [image/png]\r\n",
      "Saving to: ‘./MyImageFiles/Image696.png’\r\n",
      "\r\n",
      "\r",
      "Image696.png          0%[                    ]       0  --.-KB/s               \r",
      "Image696.png        100%[===================>]  14.35K  --.-KB/s    in 0s      \r\n",
      "\r\n",
      "2022-11-22 20:01:41 (35.2 MB/s) - ‘./MyImageFiles/Image696.png’ saved [14694/14694]\r\n",
      "\r\n",
      "--2022-11-22 20:01:41--  http://54.243.252.9/ce-5319-webroot/1-Databases/MaterialCracking/UT-881-image_src/Image697.png\r\n",
      "Reusing existing connection to 54.243.252.9:80.\r\n",
      "HTTP request sent, awaiting response... 200 OK\r\n",
      "Length: 14049 (14K) [image/png]\r\n",
      "Saving to: ‘./MyImageFiles/Image697.png’\r\n",
      "\r\n",
      "\r",
      "Image697.png          0%[                    ]       0  --.-KB/s               \r",
      "Image697.png        100%[===================>]  13.72K  --.-KB/s    in 0s      \r\n",
      "\r\n",
      "2022-11-22 20:01:42 (39.2 MB/s) - ‘./MyImageFiles/Image697.png’ saved [14049/14049]\r\n",
      "\r\n",
      "--2022-11-22 20:01:42--  http://54.243.252.9/ce-5319-webroot/1-Databases/MaterialCracking/UT-881-image_src/Image698.png\r\n",
      "Reusing existing connection to 54.243.252.9:80.\r\n",
      "HTTP request sent, awaiting response... "
     ]
    },
    {
     "name": "stdout",
     "output_type": "stream",
     "text": [
      "200 OK\r\n",
      "Length: 14293 (14K) [image/png]\r\n",
      "Saving to: ‘./MyImageFiles/Image698.png’\r\n",
      "\r\n",
      "\r",
      "Image698.png          0%[                    ]       0  --.-KB/s               \r",
      "Image698.png        100%[===================>]  13.96K  --.-KB/s    in 0s      \r\n",
      "\r\n",
      "2022-11-22 20:01:42 (33.1 MB/s) - ‘./MyImageFiles/Image698.png’ saved [14293/14293]\r\n",
      "\r\n",
      "--2022-11-22 20:01:42--  http://54.243.252.9/ce-5319-webroot/1-Databases/MaterialCracking/UT-881-image_src/Image699.png\r\n",
      "Reusing existing connection to 54.243.252.9:80.\r\n",
      "HTTP request sent, awaiting response... "
     ]
    },
    {
     "name": "stdout",
     "output_type": "stream",
     "text": [
      "200 OK\r\n",
      "Length: 10467 (10K) [image/png]\r\n",
      "Saving to: ‘./MyImageFiles/Image699.png’\r\n",
      "\r\n",
      "\r",
      "Image699.png          0%[                    ]       0  --.-KB/s               \r",
      "Image699.png        100%[===================>]  10.22K  --.-KB/s    in 0s      \r\n",
      "\r\n",
      "2022-11-22 20:01:42 (31.1 MB/s) - ‘./MyImageFiles/Image699.png’ saved [10467/10467]\r\n",
      "\r\n",
      "--2022-11-22 20:01:42--  http://54.243.252.9/ce-5319-webroot/1-Databases/MaterialCracking/UT-881-image_src/Image700.png\r\n",
      "Reusing existing connection to 54.243.252.9:80.\r\n",
      "HTTP request sent, awaiting response... "
     ]
    },
    {
     "name": "stdout",
     "output_type": "stream",
     "text": [
      "200 OK\r\n",
      "Length: 14500 (14K) [image/png]\r\n",
      "Saving to: ‘./MyImageFiles/Image700.png’\r\n",
      "\r\n",
      "\r",
      "Image700.png          0%[                    ]       0  --.-KB/s               \r",
      "Image700.png        100%[===================>]  14.16K  --.-KB/s    in 0s      \r\n",
      "\r\n",
      "2022-11-22 20:01:42 (31.5 MB/s) - ‘./MyImageFiles/Image700.png’ saved [14500/14500]\r\n",
      "\r\n",
      "--2022-11-22 20:01:42--  http://54.243.252.9/ce-5319-webroot/1-Databases/MaterialCracking/UT-881-image_src/Image701.png\r\n",
      "Reusing existing connection to 54.243.252.9:80.\r\n",
      "HTTP request sent, awaiting response... "
     ]
    },
    {
     "name": "stdout",
     "output_type": "stream",
     "text": [
      "200 OK\r\n",
      "Length: 14498 (14K) [image/png]\r\n",
      "Saving to: ‘./MyImageFiles/Image701.png’\r\n",
      "\r\n",
      "\r",
      "Image701.png          0%[                    ]       0  --.-KB/s               \r",
      "Image701.png        100%[===================>]  14.16K  --.-KB/s    in 0s      \r\n",
      "\r\n",
      "2022-11-22 20:01:42 (37.8 MB/s) - ‘./MyImageFiles/Image701.png’ saved [14498/14498]\r\n",
      "\r\n",
      "--2022-11-22 20:01:42--  http://54.243.252.9/ce-5319-webroot/1-Databases/MaterialCracking/UT-881-image_src/Image702.png\r\n",
      "Connecting to 54.243.252.9:80... "
     ]
    },
    {
     "name": "stdout",
     "output_type": "stream",
     "text": [
      "connected.\r\n",
      "HTTP request sent, awaiting response... "
     ]
    },
    {
     "name": "stdout",
     "output_type": "stream",
     "text": [
      "200 OK\r\n",
      "Length: 10611 (10K) [image/png]\r\n",
      "Saving to: ‘./MyImageFiles/Image702.png’\r\n",
      "\r\n",
      "\r",
      "Image702.png          0%[                    ]       0  --.-KB/s               \r",
      "Image702.png        100%[===================>]  10.36K  --.-KB/s    in 0s      \r\n",
      "\r\n",
      "2022-11-22 20:01:42 (35.4 MB/s) - ‘./MyImageFiles/Image702.png’ saved [10611/10611]\r\n",
      "\r\n",
      "--2022-11-22 20:01:42--  http://54.243.252.9/ce-5319-webroot/1-Databases/MaterialCracking/UT-881-image_src/Image703.png\r\n",
      "Reusing existing connection to 54.243.252.9:80.\r\n",
      "HTTP request sent, awaiting response... "
     ]
    },
    {
     "name": "stdout",
     "output_type": "stream",
     "text": [
      "200 OK\r\n",
      "Length: 13500 (13K) [image/png]\r\n",
      "Saving to: ‘./MyImageFiles/Image703.png’\r\n",
      "\r\n",
      "\r",
      "Image703.png          0%[                    ]       0  --.-KB/s               \r",
      "Image703.png        100%[===================>]  13.18K  --.-KB/s    in 0s      \r\n",
      "\r\n",
      "2022-11-22 20:01:42 (40.9 MB/s) - ‘./MyImageFiles/Image703.png’ saved [13500/13500]\r\n",
      "\r\n",
      "--2022-11-22 20:01:42--  http://54.243.252.9/ce-5319-webroot/1-Databases/MaterialCracking/UT-881-image_src/Image704.png\r\n",
      "Reusing existing connection to 54.243.252.9:80.\r\n",
      "HTTP request sent, awaiting response... "
     ]
    },
    {
     "name": "stdout",
     "output_type": "stream",
     "text": [
      "200 OK\r\n",
      "Length: 12102 (12K) [image/png]\r\n",
      "Saving to: ‘./MyImageFiles/Image704.png’\r\n",
      "\r\n",
      "\r",
      "Image704.png          0%[                    ]       0  --.-KB/s               \r",
      "Image704.png        100%[===================>]  11.82K  --.-KB/s    in 0s      \r\n",
      "\r\n",
      "2022-11-22 20:01:42 (43.4 MB/s) - ‘./MyImageFiles/Image704.png’ saved [12102/12102]\r\n",
      "\r\n",
      "--2022-11-22 20:01:42--  http://54.243.252.9/ce-5319-webroot/1-Databases/MaterialCracking/UT-881-image_src/Image705.png\r\n",
      "Reusing existing connection to 54.243.252.9:80.\r\n",
      "HTTP request sent, awaiting response... "
     ]
    },
    {
     "name": "stdout",
     "output_type": "stream",
     "text": [
      "200 OK\r\n",
      "Length: 13541 (13K) [image/png]\r\n",
      "Saving to: ‘./MyImageFiles/Image705.png’\r\n",
      "\r\n",
      "\r",
      "Image705.png          0%[                    ]       0  --.-KB/s               \r",
      "Image705.png        100%[===================>]  13.22K  --.-KB/s    in 0s      \r\n",
      "\r\n",
      "2022-11-22 20:01:42 (52.8 MB/s) - ‘./MyImageFiles/Image705.png’ saved [13541/13541]\r\n",
      "\r\n",
      "--2022-11-22 20:01:42--  http://54.243.252.9/ce-5319-webroot/1-Databases/MaterialCracking/UT-881-image_src/Image706.png\r\n",
      "Reusing existing connection to 54.243.252.9:80.\r\n",
      "HTTP request sent, awaiting response... "
     ]
    },
    {
     "name": "stdout",
     "output_type": "stream",
     "text": [
      "200 OK\r\n",
      "Length: 14473 (14K) [image/png]\r\n",
      "Saving to: ‘./MyImageFiles/Image706.png’\r\n",
      "\r\n",
      "\r",
      "Image706.png          0%[                    ]       0  --.-KB/s               \r",
      "Image706.png        100%[===================>]  14.13K  --.-KB/s    in 0s      \r\n",
      "\r\n",
      "2022-11-22 20:01:42 (59.3 MB/s) - ‘./MyImageFiles/Image706.png’ saved [14473/14473]\r\n",
      "\r\n",
      "--2022-11-22 20:01:42--  http://54.243.252.9/ce-5319-webroot/1-Databases/MaterialCracking/UT-881-image_src/Image707.png\r\n",
      "Reusing existing connection to 54.243.252.9:80.\r\n",
      "HTTP request sent, awaiting response... "
     ]
    },
    {
     "name": "stdout",
     "output_type": "stream",
     "text": [
      "200 OK\r\n",
      "Length: 10532 (10K) [image/png]\r\n",
      "Saving to: ‘./MyImageFiles/Image707.png’\r\n",
      "\r\n",
      "\r",
      "Image707.png          0%[                    ]       0  --.-KB/s               \r",
      "Image707.png        100%[===================>]  10.29K  --.-KB/s    in 0s      \r\n",
      "\r\n",
      "2022-11-22 20:01:42 (30.2 MB/s) - ‘./MyImageFiles/Image707.png’ saved [10532/10532]\r\n",
      "\r\n",
      "--2022-11-22 20:01:42--  http://54.243.252.9/ce-5319-webroot/1-Databases/MaterialCracking/UT-881-image_src/Image708.png\r\n",
      "Reusing existing connection to 54.243.252.9:80.\r\n",
      "HTTP request sent, awaiting response... "
     ]
    },
    {
     "name": "stdout",
     "output_type": "stream",
     "text": [
      "200 OK\r\n",
      "Length: 13920 (14K) [image/png]\r\n",
      "Saving to: ‘./MyImageFiles/Image708.png’\r\n",
      "\r\n",
      "\r",
      "Image708.png          0%[                    ]       0  --.-KB/s               \r",
      "Image708.png        100%[===================>]  13.59K  --.-KB/s    in 0s      \r\n",
      "\r\n",
      "2022-11-22 20:01:42 (50.4 MB/s) - ‘./MyImageFiles/Image708.png’ saved [13920/13920]\r\n",
      "\r\n",
      "--2022-11-22 20:01:42--  http://54.243.252.9/ce-5319-webroot/1-Databases/MaterialCracking/UT-881-image_src/Image709.png\r\n",
      "Reusing existing connection to 54.243.252.9:80.\r\n",
      "HTTP request sent, awaiting response... "
     ]
    },
    {
     "name": "stdout",
     "output_type": "stream",
     "text": [
      "200 OK\r\n",
      "Length: 10553 (10K) [image/png]\r\n",
      "Saving to: ‘./MyImageFiles/Image709.png’\r\n",
      "\r\n",
      "\r",
      "Image709.png          0%[                    ]       0  --.-KB/s               \r",
      "Image709.png        100%[===================>]  10.31K  --.-KB/s    in 0s      \r\n",
      "\r\n",
      "2022-11-22 20:01:42 (39.3 MB/s) - ‘./MyImageFiles/Image709.png’ saved [10553/10553]\r\n",
      "\r\n",
      "--2022-11-22 20:01:42--  http://54.243.252.9/ce-5319-webroot/1-Databases/MaterialCracking/UT-881-image_src/Image710.png\r\n",
      "Reusing existing connection to 54.243.252.9:80.\r\n",
      "HTTP request sent, awaiting response... "
     ]
    },
    {
     "name": "stdout",
     "output_type": "stream",
     "text": [
      "200 OK\r\n",
      "Length: 12906 (13K) [image/png]\r\n",
      "Saving to: ‘./MyImageFiles/Image710.png’\r\n",
      "\r\n",
      "\r",
      "Image710.png          0%[                    ]       0  --.-KB/s               \r",
      "Image710.png        100%[===================>]  12.60K  --.-KB/s    in 0s      \r\n",
      "\r\n",
      "2022-11-22 20:01:42 (42.4 MB/s) - ‘./MyImageFiles/Image710.png’ saved [12906/12906]\r\n",
      "\r\n",
      "--2022-11-22 20:01:42--  http://54.243.252.9/ce-5319-webroot/1-Databases/MaterialCracking/UT-881-image_src/Image711.png\r\n",
      "Reusing existing connection to 54.243.252.9:80.\r\n",
      "HTTP request sent, awaiting response... "
     ]
    },
    {
     "name": "stdout",
     "output_type": "stream",
     "text": [
      "200 OK\r\n",
      "Length: 10196 (10.0K) [image/png]\r\n",
      "Saving to: ‘./MyImageFiles/Image711.png’\r\n",
      "\r\n",
      "\r",
      "Image711.png          0%[                    ]       0  --.-KB/s               \r",
      "Image711.png        100%[===================>]   9.96K  --.-KB/s    in 0s      \r\n",
      "\r\n",
      "2022-11-22 20:01:42 (38.9 MB/s) - ‘./MyImageFiles/Image711.png’ saved [10196/10196]\r\n",
      "\r\n",
      "--2022-11-22 20:01:42--  http://54.243.252.9/ce-5319-webroot/1-Databases/MaterialCracking/UT-881-image_src/Image712.png\r\n",
      "Reusing existing connection to 54.243.252.9:80.\r\n",
      "HTTP request sent, awaiting response... 200 OK\r\n"
     ]
    },
    {
     "name": "stdout",
     "output_type": "stream",
     "text": [
      "Length: 14722 (14K) [image/png]\r\n",
      "Saving to: ‘./MyImageFiles/Image712.png’\r\n",
      "\r\n",
      "\r",
      "Image712.png          0%[                    ]       0  --.-KB/s               \r",
      "Image712.png        100%[===================>]  14.38K  --.-KB/s    in 0s      \r\n",
      "\r\n",
      "2022-11-22 20:01:42 (42.9 MB/s) - ‘./MyImageFiles/Image712.png’ saved [14722/14722]\r\n",
      "\r\n",
      "--2022-11-22 20:01:42--  http://54.243.252.9/ce-5319-webroot/1-Databases/MaterialCracking/UT-881-image_src/Image713.png\r\n",
      "Reusing existing connection to 54.243.252.9:80.\r\n",
      "HTTP request sent, awaiting response... 200 OK\r\n",
      "Length: 14105 (14K) [image/png]\r\n",
      "Saving to: ‘./MyImageFiles/Image713.png’\r\n",
      "\r\n",
      "\r",
      "Image713.png          0%[                    ]       0  --.-KB/s               \r",
      "Image713.png        100%[===================>]  13.77K  --.-KB/s    in 0s      \r\n",
      "\r\n",
      "2022-11-22 20:01:42 (44.0 MB/s) - ‘./MyImageFiles/Image713.png’ saved [14105/14105]\r\n",
      "\r\n",
      "--2022-11-22 20:01:42--  http://54.243.252.9/ce-5319-webroot/1-Databases/MaterialCracking/UT-881-image_src/Image714.png\r\n"
     ]
    },
    {
     "name": "stdout",
     "output_type": "stream",
     "text": [
      "Reusing existing connection to 54.243.252.9:80.\r\n",
      "HTTP request sent, awaiting response... 200 OK\r\n",
      "Length: 14283 (14K) [image/png]\r\n",
      "Saving to: ‘./MyImageFiles/Image714.png’\r\n",
      "\r\n",
      "\r",
      "Image714.png          0%[                    ]       0  --.-KB/s               \r",
      "Image714.png        100%[===================>]  13.95K  --.-KB/s    in 0s      \r\n",
      "\r\n",
      "2022-11-22 20:01:42 (38.6 MB/s) - ‘./MyImageFiles/Image714.png’ saved [14283/14283]\r\n",
      "\r\n",
      "--2022-11-22 20:01:42--  http://54.243.252.9/ce-5319-webroot/1-Databases/MaterialCracking/UT-881-image_src/Image715.png\r\n",
      "Reusing existing connection to 54.243.252.9:80.\r\n",
      "HTTP request sent, awaiting response... "
     ]
    },
    {
     "name": "stdout",
     "output_type": "stream",
     "text": [
      "200 OK\r\n",
      "Length: 13461 (13K) [image/png]\r\n",
      "Saving to: ‘./MyImageFiles/Image715.png’\r\n",
      "\r\n",
      "\r",
      "Image715.png          0%[                    ]       0  --.-KB/s               \r",
      "Image715.png        100%[===================>]  13.15K  --.-KB/s    in 0s      \r\n",
      "\r\n",
      "2022-11-22 20:01:42 (36.3 MB/s) - ‘./MyImageFiles/Image715.png’ saved [13461/13461]\r\n",
      "\r\n",
      "--2022-11-22 20:01:42--  http://54.243.252.9/ce-5319-webroot/1-Databases/MaterialCracking/UT-881-image_src/Image716.png\r\n",
      "Reusing existing connection to 54.243.252.9:80.\r\n",
      "HTTP request sent, awaiting response... "
     ]
    },
    {
     "name": "stdout",
     "output_type": "stream",
     "text": [
      "200 OK\r\n",
      "Length: 9480 (9.3K) [image/png]\r\n",
      "Saving to: ‘./MyImageFiles/Image716.png’\r\n",
      "\r\n",
      "\r",
      "Image716.png          0%[                    ]       0  --.-KB/s               \r",
      "Image716.png        100%[===================>]   9.26K  --.-KB/s    in 0s      \r\n",
      "\r\n",
      "2022-11-22 20:01:43 (24.0 MB/s) - ‘./MyImageFiles/Image716.png’ saved [9480/9480]\r\n",
      "\r\n",
      "--2022-11-22 20:01:43--  http://54.243.252.9/ce-5319-webroot/1-Databases/MaterialCracking/UT-881-image_src/Image717.png\r\n",
      "Reusing existing connection to 54.243.252.9:80.\r\n",
      "HTTP request sent, awaiting response... "
     ]
    },
    {
     "name": "stdout",
     "output_type": "stream",
     "text": [
      "200 OK\r\n",
      "Length: 11806 (12K) [image/png]\r\n",
      "Saving to: ‘./MyImageFiles/Image717.png’\r\n",
      "\r\n",
      "\r",
      "Image717.png          0%[                    ]       0  --.-KB/s               \r",
      "Image717.png        100%[===================>]  11.53K  --.-KB/s    in 0s      \r\n",
      "\r\n",
      "2022-11-22 20:01:43 (34.5 MB/s) - ‘./MyImageFiles/Image717.png’ saved [11806/11806]\r\n",
      "\r\n",
      "--2022-11-22 20:01:43--  http://54.243.252.9/ce-5319-webroot/1-Databases/MaterialCracking/UT-881-image_src/Image718.png\r\n",
      "Reusing existing connection to 54.243.252.9:80.\r\n",
      "HTTP request sent, awaiting response... "
     ]
    },
    {
     "name": "stdout",
     "output_type": "stream",
     "text": [
      "200 OK\r\n",
      "Length: 10260 (10K) [image/png]\r\n",
      "Saving to: ‘./MyImageFiles/Image718.png’\r\n",
      "\r\n",
      "\r",
      "Image718.png          0%[                    ]       0  --.-KB/s               \r",
      "Image718.png        100%[===================>]  10.02K  --.-KB/s    in 0s      \r\n",
      "\r\n",
      "2022-11-22 20:01:43 (23.7 MB/s) - ‘./MyImageFiles/Image718.png’ saved [10260/10260]\r\n",
      "\r\n",
      "--2022-11-22 20:01:43--  http://54.243.252.9/ce-5319-webroot/1-Databases/MaterialCracking/UT-881-image_src/Image719.png\r\n",
      "Reusing existing connection to 54.243.252.9:80.\r\n",
      "HTTP request sent, awaiting response... "
     ]
    },
    {
     "name": "stdout",
     "output_type": "stream",
     "text": [
      "200 OK\r\n",
      "Length: 14410 (14K) [image/png]\r\n",
      "Saving to: ‘./MyImageFiles/Image719.png’\r\n",
      "\r\n",
      "\r",
      "Image719.png          0%[                    ]       0  --.-KB/s               \r",
      "Image719.png        100%[===================>]  14.07K  --.-KB/s    in 0s      \r\n",
      "\r\n",
      "2022-11-22 20:01:43 (40.3 MB/s) - ‘./MyImageFiles/Image719.png’ saved [14410/14410]\r\n",
      "\r\n",
      "--2022-11-22 20:01:43--  http://54.243.252.9/ce-5319-webroot/1-Databases/MaterialCracking/UT-881-image_src/Image720.png\r\n",
      "Reusing existing connection to 54.243.252.9:80.\r\n",
      "HTTP request sent, awaiting response... "
     ]
    },
    {
     "name": "stdout",
     "output_type": "stream",
     "text": [
      "200 OK\r\n",
      "Length: 14754 (14K) [image/png]\r\n",
      "Saving to: ‘./MyImageFiles/Image720.png’\r\n",
      "\r\n",
      "\r",
      "Image720.png          0%[                    ]       0  --.-KB/s               \r",
      "Image720.png        100%[===================>]  14.41K  --.-KB/s    in 0s      \r\n",
      "\r\n",
      "2022-11-22 20:01:43 (55.4 MB/s) - ‘./MyImageFiles/Image720.png’ saved [14754/14754]\r\n",
      "\r\n",
      "--2022-11-22 20:01:43--  http://54.243.252.9/ce-5319-webroot/1-Databases/MaterialCracking/UT-881-image_src/Image721.png\r\n",
      "Reusing existing connection to 54.243.252.9:80.\r\n",
      "HTTP request sent, awaiting response... "
     ]
    },
    {
     "name": "stdout",
     "output_type": "stream",
     "text": [
      "200 OK\r\n",
      "Length: 14570 (14K) [image/png]\r\n",
      "Saving to: ‘./MyImageFiles/Image721.png’\r\n",
      "\r\n",
      "\r",
      "Image721.png          0%[                    ]       0  --.-KB/s               \r",
      "Image721.png        100%[===================>]  14.23K  --.-KB/s    in 0s      \r\n",
      "\r\n",
      "2022-11-22 20:01:43 (59.8 MB/s) - ‘./MyImageFiles/Image721.png’ saved [14570/14570]\r\n",
      "\r\n",
      "--2022-11-22 20:01:43--  http://54.243.252.9/ce-5319-webroot/1-Databases/MaterialCracking/UT-881-image_src/Image722.png\r\n",
      "Reusing existing connection to 54.243.252.9:80.\r\n",
      "HTTP request sent, awaiting response... "
     ]
    },
    {
     "name": "stdout",
     "output_type": "stream",
     "text": [
      "200 OK\r\n",
      "Length: 9835 (9.6K) [image/png]\r\n",
      "Saving to: ‘./MyImageFiles/Image722.png’\r\n",
      "\r\n",
      "\r",
      "Image722.png          0%[                    ]       0  --.-KB/s               \r",
      "Image722.png        100%[===================>]   9.60K  --.-KB/s    in 0s      \r\n",
      "\r\n",
      "2022-11-22 20:01:43 (34.2 MB/s) - ‘./MyImageFiles/Image722.png’ saved [9835/9835]\r\n",
      "\r\n",
      "--2022-11-22 20:01:43--  http://54.243.252.9/ce-5319-webroot/1-Databases/MaterialCracking/UT-881-image_src/Image723.png\r\n",
      "Reusing existing connection to 54.243.252.9:80.\r\n",
      "HTTP request sent, awaiting response... "
     ]
    },
    {
     "name": "stdout",
     "output_type": "stream",
     "text": [
      "200 OK\r\n",
      "Length: 10983 (11K) [image/png]\r\n",
      "Saving to: ‘./MyImageFiles/Image723.png’\r\n",
      "\r\n",
      "\r",
      "Image723.png          0%[                    ]       0  --.-KB/s               \r",
      "Image723.png        100%[===================>]  10.73K  --.-KB/s    in 0s      \r\n",
      "\r\n",
      "2022-11-22 20:01:43 (43.4 MB/s) - ‘./MyImageFiles/Image723.png’ saved [10983/10983]\r\n",
      "\r\n",
      "--2022-11-22 20:01:43--  http://54.243.252.9/ce-5319-webroot/1-Databases/MaterialCracking/UT-881-image_src/Image724.png\r\n",
      "Reusing existing connection to 54.243.252.9:80.\r\n",
      "HTTP request sent, awaiting response... "
     ]
    },
    {
     "name": "stdout",
     "output_type": "stream",
     "text": [
      "200 OK\r\n",
      "Length: 14297 (14K) [image/png]\r\n",
      "Saving to: ‘./MyImageFiles/Image724.png’\r\n",
      "\r\n",
      "\r",
      "Image724.png          0%[                    ]       0  --.-KB/s               \r",
      "Image724.png        100%[===================>]  13.96K  --.-KB/s    in 0s      \r\n",
      "\r\n",
      "2022-11-22 20:01:43 (48.3 MB/s) - ‘./MyImageFiles/Image724.png’ saved [14297/14297]\r\n",
      "\r\n",
      "--2022-11-22 20:01:43--  http://54.243.252.9/ce-5319-webroot/1-Databases/MaterialCracking/UT-881-image_src/Image725.png\r\n",
      "Reusing existing connection to 54.243.252.9:80.\r\n",
      "HTTP request sent, awaiting response... "
     ]
    },
    {
     "name": "stdout",
     "output_type": "stream",
     "text": [
      "200 OK\r\n",
      "Length: 15194 (15K) [image/png]\r\n",
      "Saving to: ‘./MyImageFiles/Image725.png’\r\n",
      "\r\n",
      "\r",
      "Image725.png          0%[                    ]       0  --.-KB/s               \r",
      "Image725.png        100%[===================>]  14.84K  --.-KB/s    in 0s      \r\n",
      "\r\n",
      "2022-11-22 20:01:43 (60.7 MB/s) - ‘./MyImageFiles/Image725.png’ saved [15194/15194]\r\n",
      "\r\n",
      "--2022-11-22 20:01:43--  http://54.243.252.9/ce-5319-webroot/1-Databases/MaterialCracking/UT-881-image_src/Image726.png\r\n",
      "Reusing existing connection to 54.243.252.9:80.\r\n",
      "HTTP request sent, awaiting response... "
     ]
    },
    {
     "name": "stdout",
     "output_type": "stream",
     "text": [
      "200 OK\r\n",
      "Length: 13924 (14K) [image/png]\r\n",
      "Saving to: ‘./MyImageFiles/Image726.png’\r\n",
      "\r\n",
      "\r",
      "Image726.png          0%[                    ]       0  --.-KB/s               \r",
      "Image726.png        100%[===================>]  13.60K  --.-KB/s    in 0s      \r\n",
      "\r\n",
      "2022-11-22 20:01:43 (37.3 MB/s) - ‘./MyImageFiles/Image726.png’ saved [13924/13924]\r\n",
      "\r\n",
      "--2022-11-22 20:01:43--  http://54.243.252.9/ce-5319-webroot/1-Databases/MaterialCracking/UT-881-image_src/Image727.png\r\n",
      "Reusing existing connection to 54.243.252.9:80.\r\n",
      "HTTP request sent, awaiting response... "
     ]
    },
    {
     "name": "stdout",
     "output_type": "stream",
     "text": [
      "200 OK\r\n",
      "Length: 14794 (14K) [image/png]\r\n",
      "Saving to: ‘./MyImageFiles/Image727.png’\r\n",
      "\r\n",
      "\r",
      "Image727.png          0%[                    ]       0  --.-KB/s               \r",
      "Image727.png        100%[===================>]  14.45K  --.-KB/s    in 0s      \r\n",
      "\r\n",
      "2022-11-22 20:01:43 (48.5 MB/s) - ‘./MyImageFiles/Image727.png’ saved [14794/14794]\r\n",
      "\r\n",
      "--2022-11-22 20:01:43--  http://54.243.252.9/ce-5319-webroot/1-Databases/MaterialCracking/UT-881-image_src/Image728.png\r\n",
      "Reusing existing connection to 54.243.252.9:80.\r\n",
      "HTTP request sent, awaiting response... "
     ]
    },
    {
     "name": "stdout",
     "output_type": "stream",
     "text": [
      "200 OK\r\n",
      "Length: 10663 (10K) [image/png]\r\n",
      "Saving to: ‘./MyImageFiles/Image728.png’\r\n",
      "\r\n",
      "\r",
      "Image728.png          0%[                    ]       0  --.-KB/s               \r",
      "Image728.png        100%[===================>]  10.41K  --.-KB/s    in 0s      \r\n",
      "\r\n",
      "2022-11-22 20:01:43 (34.0 MB/s) - ‘./MyImageFiles/Image728.png’ saved [10663/10663]\r\n",
      "\r\n",
      "--2022-11-22 20:01:43--  http://54.243.252.9/ce-5319-webroot/1-Databases/MaterialCracking/UT-881-image_src/Image729.png\r\n",
      "Reusing existing connection to 54.243.252.9:80.\r\n",
      "HTTP request sent, awaiting response... 200 OK\r\n",
      "Length: "
     ]
    },
    {
     "name": "stdout",
     "output_type": "stream",
     "text": [
      "10553 (10K) [image/png]\r\n",
      "Saving to: ‘./MyImageFiles/Image729.png’\r\n",
      "\r\n",
      "\r",
      "Image729.png          0%[                    ]       0  --.-KB/s               \r",
      "Image729.png        100%[===================>]  10.31K  --.-KB/s    in 0s      \r\n",
      "\r\n",
      "2022-11-22 20:01:43 (27.6 MB/s) - ‘./MyImageFiles/Image729.png’ saved [10553/10553]\r\n",
      "\r\n",
      "--2022-11-22 20:01:43--  http://54.243.252.9/ce-5319-webroot/1-Databases/MaterialCracking/UT-881-image_src/Image730.png\r\n",
      "Reusing existing connection to 54.243.252.9:80.\r\n",
      "HTTP request sent, awaiting response... 200 OK\r\n",
      "Length: 14781 (14K) [image/png]\r\n",
      "Saving to: ‘./MyImageFiles/Image730.png’\r\n",
      "\r\n",
      "\r",
      "Image730.png          0%[                    ]       0  --.-KB/s               \r",
      "Image730.png        100%[===================>]  14.43K  --.-KB/s    in 0s      \r\n",
      "\r\n",
      "2022-11-22 20:01:43 (50.7 MB/s) - ‘./MyImageFiles/Image730.png’ saved [14781/14781]\r\n",
      "\r\n",
      "--2022-11-22 20:01:43--  http://54.243.252.9/ce-5319-webroot/1-Databases/MaterialCracking/UT-881-image_src/Image731.png\r\n"
     ]
    },
    {
     "name": "stdout",
     "output_type": "stream",
     "text": [
      "Reusing existing connection to 54.243.252.9:80.\r\n",
      "HTTP request sent, awaiting response... 200 OK\r\n",
      "Length: 13732 (13K) [image/png]\r\n",
      "Saving to: ‘./MyImageFiles/Image731.png’\r\n",
      "\r\n",
      "\r",
      "Image731.png          0%[                    ]       0  --.-KB/s               \r",
      "Image731.png        100%[===================>]  13.41K  --.-KB/s    in 0s      \r\n",
      "\r\n",
      "2022-11-22 20:01:43 (42.2 MB/s) - ‘./MyImageFiles/Image731.png’ saved [13732/13732]\r\n",
      "\r\n",
      "--2022-11-22 20:01:43--  http://54.243.252.9/ce-5319-webroot/1-Databases/MaterialCracking/UT-881-image_src/Image732.png\r\n",
      "Reusing existing connection to 54.243.252.9:80.\r\n",
      "HTTP request sent, awaiting response... "
     ]
    },
    {
     "name": "stdout",
     "output_type": "stream",
     "text": [
      "200 OK\r\n",
      "Length: 10201 (10.0K) [image/png]\r\n",
      "Saving to: ‘./MyImageFiles/Image732.png’\r\n",
      "\r\n",
      "\r",
      "Image732.png          0%[                    ]       0  --.-KB/s               \r",
      "Image732.png        100%[===================>]   9.96K  --.-KB/s    in 0s      \r\n",
      "\r\n",
      "2022-11-22 20:01:43 (27.1 MB/s) - ‘./MyImageFiles/Image732.png’ saved [10201/10201]\r\n",
      "\r\n",
      "--2022-11-22 20:01:43--  http://54.243.252.9/ce-5319-webroot/1-Databases/MaterialCracking/UT-881-image_src/Image733.png\r\n",
      "Reusing existing connection to 54.243.252.9:80.\r\n",
      "HTTP request sent, awaiting response... "
     ]
    },
    {
     "name": "stdout",
     "output_type": "stream",
     "text": [
      "200 OK\r\n",
      "Length: 14562 (14K) [image/png]\r\n",
      "Saving to: ‘./MyImageFiles/Image733.png’\r\n",
      "\r\n",
      "\r",
      "Image733.png          0%[                    ]       0  --.-KB/s               \r",
      "Image733.png        100%[===================>]  14.22K  --.-KB/s    in 0s      \r\n",
      "\r\n",
      "2022-11-22 20:01:43 (41.6 MB/s) - ‘./MyImageFiles/Image733.png’ saved [14562/14562]\r\n",
      "\r\n",
      "--2022-11-22 20:01:43--  http://54.243.252.9/ce-5319-webroot/1-Databases/MaterialCracking/UT-881-image_src/Image734.png\r\n",
      "Reusing existing connection to 54.243.252.9:80.\r\n",
      "HTTP request sent, awaiting response... "
     ]
    },
    {
     "name": "stdout",
     "output_type": "stream",
     "text": [
      "200 OK\r\n",
      "Length: 9495 (9.3K) [image/png]\r\n",
      "Saving to: ‘./MyImageFiles/Image734.png’\r\n",
      "\r\n",
      "\r",
      "Image734.png          0%[                    ]       0  --.-KB/s               \r",
      "Image734.png        100%[===================>]   9.27K  --.-KB/s    in 0s      \r\n",
      "\r\n",
      "2022-11-22 20:01:43 (33.2 MB/s) - ‘./MyImageFiles/Image734.png’ saved [9495/9495]\r\n",
      "\r\n",
      "--2022-11-22 20:01:43--  http://54.243.252.9/ce-5319-webroot/1-Databases/MaterialCracking/UT-881-image_src/Image735.png\r\n",
      "Reusing existing connection to 54.243.252.9:80.\r\n",
      "HTTP request sent, awaiting response... "
     ]
    },
    {
     "name": "stdout",
     "output_type": "stream",
     "text": [
      "200 OK\r\n",
      "Length: 13203 (13K) [image/png]\r\n",
      "Saving to: ‘./MyImageFiles/Image735.png’\r\n",
      "\r\n",
      "\r",
      "Image735.png          0%[                    ]       0  --.-KB/s               \r",
      "Image735.png        100%[===================>]  12.89K  --.-KB/s    in 0s      \r\n",
      "\r\n",
      "2022-11-22 20:01:43 (33.3 MB/s) - ‘./MyImageFiles/Image735.png’ saved [13203/13203]\r\n",
      "\r\n",
      "--2022-11-22 20:01:43--  http://54.243.252.9/ce-5319-webroot/1-Databases/MaterialCracking/UT-881-image_src/Image736.png\r\n",
      "Reusing existing connection to 54.243.252.9:80.\r\n",
      "HTTP request sent, awaiting response... "
     ]
    },
    {
     "name": "stdout",
     "output_type": "stream",
     "text": [
      "200 OK\r\n",
      "Length: 11132 (11K) [image/png]\r\n",
      "Saving to: ‘./MyImageFiles/Image736.png’\r\n",
      "\r\n",
      "\r",
      "Image736.png          0%[                    ]       0  --.-KB/s               \r",
      "Image736.png        100%[===================>]  10.87K  --.-KB/s    in 0s      \r\n",
      "\r\n",
      "2022-11-22 20:01:44 (29.3 MB/s) - ‘./MyImageFiles/Image736.png’ saved [11132/11132]\r\n",
      "\r\n",
      "--2022-11-22 20:01:44--  http://54.243.252.9/ce-5319-webroot/1-Databases/MaterialCracking/UT-881-image_src/Image737.png\r\n",
      "Reusing existing connection to 54.243.252.9:80.\r\n",
      "HTTP request sent, awaiting response... "
     ]
    },
    {
     "name": "stdout",
     "output_type": "stream",
     "text": [
      "200 OK\r\n",
      "Length: 12963 (13K) [image/png]\r\n",
      "Saving to: ‘./MyImageFiles/Image737.png’\r\n",
      "\r\n",
      "\r",
      "Image737.png          0%[                    ]       0  --.-KB/s               \r",
      "Image737.png        100%[===================>]  12.66K  --.-KB/s    in 0s      \r\n",
      "\r\n",
      "2022-11-22 20:01:44 (28.9 MB/s) - ‘./MyImageFiles/Image737.png’ saved [12963/12963]\r\n",
      "\r\n",
      "--2022-11-22 20:01:44--  http://54.243.252.9/ce-5319-webroot/1-Databases/MaterialCracking/UT-881-image_src/Image738.png\r\n",
      "Reusing existing connection to 54.243.252.9:80.\r\n",
      "HTTP request sent, awaiting response... "
     ]
    },
    {
     "name": "stdout",
     "output_type": "stream",
     "text": [
      "200 OK\r\n",
      "Length: 12919 (13K) [image/png]\r\n",
      "Saving to: ‘./MyImageFiles/Image738.png’\r\n",
      "\r\n",
      "\r",
      "Image738.png          0%[                    ]       0  --.-KB/s               \r",
      "Image738.png        100%[===================>]  12.62K  --.-KB/s    in 0s      \r\n",
      "\r\n",
      "2022-11-22 20:01:44 (38.6 MB/s) - ‘./MyImageFiles/Image738.png’ saved [12919/12919]\r\n",
      "\r\n",
      "--2022-11-22 20:01:44--  http://54.243.252.9/ce-5319-webroot/1-Databases/MaterialCracking/UT-881-image_src/Image739.png\r\n",
      "Reusing existing connection to 54.243.252.9:80.\r\n",
      "HTTP request sent, awaiting response... "
     ]
    },
    {
     "name": "stdout",
     "output_type": "stream",
     "text": [
      "200 OK\r\n",
      "Length: 11429 (11K) [image/png]\r\n",
      "Saving to: ‘./MyImageFiles/Image739.png’\r\n",
      "\r\n",
      "\r",
      "Image739.png          0%[                    ]       0  --.-KB/s               \r",
      "Image739.png        100%[===================>]  11.16K  --.-KB/s    in 0s      \r\n",
      "\r\n",
      "2022-11-22 20:01:44 (33.5 MB/s) - ‘./MyImageFiles/Image739.png’ saved [11429/11429]\r\n",
      "\r\n",
      "--2022-11-22 20:01:44--  http://54.243.252.9/ce-5319-webroot/1-Databases/MaterialCracking/UT-881-image_src/Image740.png\r\n",
      "Reusing existing connection to 54.243.252.9:80.\r\n",
      "HTTP request sent, awaiting response... "
     ]
    },
    {
     "name": "stdout",
     "output_type": "stream",
     "text": [
      "200 OK\r\n",
      "Length: 10375 (10K) [image/png]\r\n",
      "Saving to: ‘./MyImageFiles/Image740.png’\r\n",
      "\r\n",
      "\r",
      "Image740.png          0%[                    ]       0  --.-KB/s               \r",
      "Image740.png        100%[===================>]  10.13K  --.-KB/s    in 0s      \r\n",
      "\r\n",
      "2022-11-22 20:01:44 (38.8 MB/s) - ‘./MyImageFiles/Image740.png’ saved [10375/10375]\r\n",
      "\r\n",
      "--2022-11-22 20:01:44--  http://54.243.252.9/ce-5319-webroot/1-Databases/MaterialCracking/UT-881-image_src/Image741.png\r\n",
      "Reusing existing connection to 54.243.252.9:80.\r\n",
      "HTTP request sent, awaiting response... "
     ]
    },
    {
     "name": "stdout",
     "output_type": "stream",
     "text": [
      "200 OK\r\n",
      "Length: 14577 (14K) [image/png]\r\n",
      "Saving to: ‘./MyImageFiles/Image741.png’\r\n",
      "\r\n",
      "\r",
      "Image741.png          0%[                    ]       0  --.-KB/s               \r",
      "Image741.png        100%[===================>]  14.24K  --.-KB/s    in 0s      \r\n",
      "\r\n",
      "2022-11-22 20:01:44 (35.3 MB/s) - ‘./MyImageFiles/Image741.png’ saved [14577/14577]\r\n",
      "\r\n",
      "--2022-11-22 20:01:44--  http://54.243.252.9/ce-5319-webroot/1-Databases/MaterialCracking/UT-881-image_src/Image742.png\r\n",
      "Reusing existing connection to 54.243.252.9:80.\r\n",
      "HTTP request sent, awaiting response... "
     ]
    },
    {
     "name": "stdout",
     "output_type": "stream",
     "text": [
      "200 OK\r\n",
      "Length: 14440 (14K) [image/png]\r\n",
      "Saving to: ‘./MyImageFiles/Image742.png’\r\n",
      "\r\n",
      "\r",
      "Image742.png          0%[                    ]       0  --.-KB/s               \r",
      "Image742.png        100%[===================>]  14.10K  --.-KB/s    in 0s      \r\n",
      "\r\n",
      "2022-11-22 20:01:44 (48.7 MB/s) - ‘./MyImageFiles/Image742.png’ saved [14440/14440]\r\n",
      "\r\n",
      "--2022-11-22 20:01:44--  http://54.243.252.9/ce-5319-webroot/1-Databases/MaterialCracking/UT-881-image_src/Image743.png\r\n",
      "Reusing existing connection to 54.243.252.9:80.\r\n",
      "HTTP request sent, awaiting response... "
     ]
    },
    {
     "name": "stdout",
     "output_type": "stream",
     "text": [
      "200 OK\r\n",
      "Length: 15134 (15K) [image/png]\r\n",
      "Saving to: ‘./MyImageFiles/Image743.png’\r\n",
      "\r\n",
      "\r",
      "Image743.png          0%[                    ]       0  --.-KB/s               \r",
      "Image743.png        100%[===================>]  14.78K  --.-KB/s    in 0s      \r\n",
      "\r\n",
      "2022-11-22 20:01:44 (48.0 MB/s) - ‘./MyImageFiles/Image743.png’ saved [15134/15134]\r\n",
      "\r\n",
      "--2022-11-22 20:01:44--  http://54.243.252.9/ce-5319-webroot/1-Databases/MaterialCracking/UT-881-image_src/Image744.png\r\n",
      "Reusing existing connection to 54.243.252.9:80.\r\n",
      "HTTP request sent, awaiting response... "
     ]
    },
    {
     "name": "stdout",
     "output_type": "stream",
     "text": [
      "200 OK\r\n",
      "Length: 14235 (14K) [image/png]\r\n",
      "Saving to: ‘./MyImageFiles/Image744.png’\r\n",
      "\r\n",
      "\r",
      "Image744.png          0%[                    ]       0  --.-KB/s               \r",
      "Image744.png        100%[===================>]  13.90K  --.-KB/s    in 0s      \r\n",
      "\r\n",
      "2022-11-22 20:01:44 (42.1 MB/s) - ‘./MyImageFiles/Image744.png’ saved [14235/14235]\r\n",
      "\r\n",
      "--2022-11-22 20:01:44--  http://54.243.252.9/ce-5319-webroot/1-Databases/MaterialCracking/UT-881-image_src/Image745.png\r\n",
      "Reusing existing connection to 54.243.252.9:80.\r\n",
      "HTTP request sent, awaiting response... "
     ]
    },
    {
     "name": "stdout",
     "output_type": "stream",
     "text": [
      "200 OK\r\n",
      "Length: 13405 (13K) [image/png]\r\n",
      "Saving to: ‘./MyImageFiles/Image745.png’\r\n",
      "\r\n",
      "\r",
      "Image745.png          0%[                    ]       0  --.-KB/s               \r",
      "Image745.png        100%[===================>]  13.09K  --.-KB/s    in 0s      \r\n",
      "\r\n",
      "2022-11-22 20:01:44 (33.5 MB/s) - ‘./MyImageFiles/Image745.png’ saved [13405/13405]\r\n",
      "\r\n",
      "--2022-11-22 20:01:44--  http://54.243.252.9/ce-5319-webroot/1-Databases/MaterialCracking/UT-881-image_src/Image746.png\r\n",
      "Reusing existing connection to 54.243.252.9:80.\r\n",
      "HTTP request sent, awaiting response... "
     ]
    },
    {
     "name": "stdout",
     "output_type": "stream",
     "text": [
      "200 OK\r\n",
      "Length: 12937 (13K) [image/png]\r\n",
      "Saving to: ‘./MyImageFiles/Image746.png’\r\n",
      "\r\n",
      "\r",
      "Image746.png          0%[                    ]       0  --.-KB/s               \r",
      "Image746.png        100%[===================>]  12.63K  --.-KB/s    in 0s      \r\n",
      "\r\n",
      "2022-11-22 20:01:44 (37.0 MB/s) - ‘./MyImageFiles/Image746.png’ saved [12937/12937]\r\n",
      "\r\n",
      "--2022-11-22 20:01:44--  http://54.243.252.9/ce-5319-webroot/1-Databases/MaterialCracking/UT-881-image_src/Image747.png\r\n",
      "Reusing existing connection to 54.243.252.9:80.\r\n",
      "HTTP request sent, awaiting response... "
     ]
    },
    {
     "name": "stdout",
     "output_type": "stream",
     "text": [
      "200 OK\r\n",
      "Length: 15127 (15K) [image/png]\r\n",
      "Saving to: ‘./MyImageFiles/Image747.png’\r\n",
      "\r\n",
      "\r",
      "Image747.png          0%[                    ]       0  --.-KB/s               \r",
      "Image747.png        100%[===================>]  14.77K  --.-KB/s    in 0s      \r\n",
      "\r\n",
      "2022-11-22 20:01:44 (31.0 MB/s) - ‘./MyImageFiles/Image747.png’ saved [15127/15127]\r\n",
      "\r\n",
      "--2022-11-22 20:01:44--  http://54.243.252.9/ce-5319-webroot/1-Databases/MaterialCracking/UT-881-image_src/Image748.png\r\n",
      "Reusing existing connection to 54.243.252.9:80.\r\n",
      "HTTP request sent, awaiting response... 200 OK\r\n",
      "Length: 14323 (14K) [image/png]\r\n",
      "Saving to: ‘./MyImageFiles/Image748.png’\r\n",
      "\r\n",
      "\r",
      "Image748.png          0%[                    ]       0  --.-KB/s               \r",
      "Image748.png        100%[===================>]  13.99K  --.-KB/s    in 0s      "
     ]
    },
    {
     "name": "stdout",
     "output_type": "stream",
     "text": [
      "\r\n",
      "\r\n",
      "2022-11-22 20:01:44 (39.7 MB/s) - ‘./MyImageFiles/Image748.png’ saved [14323/14323]\r\n",
      "\r\n",
      "--2022-11-22 20:01:44--  http://54.243.252.9/ce-5319-webroot/1-Databases/MaterialCracking/UT-881-image_src/Image749.png\r\n",
      "Reusing existing connection to 54.243.252.9:80.\r\n",
      "HTTP request sent, awaiting response... 200 OK\r\n",
      "Length: 13964 (14K) [image/png]\r\n",
      "Saving to: ‘./MyImageFiles/Image749.png’\r\n",
      "\r\n",
      "\r",
      "Image749.png          0%[                    ]       0  --.-KB/s               \r",
      "Image749.png        100%[===================>]  13.64K  --.-KB/s    in 0s      \r\n",
      "\r\n",
      "2022-11-22 20:01:44 (39.1 MB/s) - ‘./MyImageFiles/Image749.png’ saved [13964/13964]\r\n",
      "\r\n",
      "--2022-11-22 20:01:44--  http://54.243.252.9/ce-5319-webroot/1-Databases/MaterialCracking/UT-881-image_src/Image750.png\r\n",
      "Reusing existing connection to 54.243.252.9:80.\r\n",
      "HTTP request sent, awaiting response... "
     ]
    },
    {
     "name": "stdout",
     "output_type": "stream",
     "text": [
      "200 OK\r\n",
      "Length: 15477 (15K) [image/png]\r\n",
      "Saving to: ‘./MyImageFiles/Image750.png’\r\n",
      "\r\n",
      "\r",
      "Image750.png          0%[                    ]       0  --.-KB/s               \r",
      "Image750.png        100%[===================>]  15.11K  --.-KB/s    in 0s      \r\n",
      "\r\n",
      "2022-11-22 20:01:44 (42.4 MB/s) - ‘./MyImageFiles/Image750.png’ saved [15477/15477]\r\n",
      "\r\n",
      "--2022-11-22 20:01:44--  http://54.243.252.9/ce-5319-webroot/1-Databases/MaterialCracking/UT-881-image_src/Image751.png\r\n",
      "Reusing existing connection to 54.243.252.9:80.\r\n",
      "HTTP request sent, awaiting response... "
     ]
    },
    {
     "name": "stdout",
     "output_type": "stream",
     "text": [
      "200 OK\r\n",
      "Length: 14023 (14K) [image/png]\r\n",
      "Saving to: ‘./MyImageFiles/Image751.png’\r\n",
      "\r\n",
      "\r",
      "Image751.png          0%[                    ]       0  --.-KB/s               \r",
      "Image751.png        100%[===================>]  13.69K  --.-KB/s    in 0s      \r\n",
      "\r\n",
      "2022-11-22 20:01:44 (32.4 MB/s) - ‘./MyImageFiles/Image751.png’ saved [14023/14023]\r\n",
      "\r\n",
      "--2022-11-22 20:01:44--  http://54.243.252.9/ce-5319-webroot/1-Databases/MaterialCracking/UT-881-image_src/Image752.png\r\n",
      "Reusing existing connection to 54.243.252.9:80.\r\n",
      "HTTP request sent, awaiting response... "
     ]
    },
    {
     "name": "stdout",
     "output_type": "stream",
     "text": [
      "200 OK\r\n",
      "Length: 12798 (12K) [image/png]\r\n",
      "Saving to: ‘./MyImageFiles/Image752.png’\r\n",
      "\r\n",
      "\r",
      "Image752.png          0%[                    ]       0  --.-KB/s               \r",
      "Image752.png        100%[===================>]  12.50K  --.-KB/s    in 0s      \r\n",
      "\r\n",
      "2022-11-22 20:01:44 (35.5 MB/s) - ‘./MyImageFiles/Image752.png’ saved [12798/12798]\r\n",
      "\r\n",
      "--2022-11-22 20:01:44--  http://54.243.252.9/ce-5319-webroot/1-Databases/MaterialCracking/UT-881-image_src/Image753.png\r\n",
      "Reusing existing connection to 54.243.252.9:80.\r\n",
      "HTTP request sent, awaiting response... "
     ]
    },
    {
     "name": "stdout",
     "output_type": "stream",
     "text": [
      "200 OK\r\n",
      "Length: 13544 (13K) [image/png]\r\n",
      "Saving to: ‘./MyImageFiles/Image753.png’\r\n",
      "\r\n",
      "\r",
      "Image753.png          0%[                    ]       0  --.-KB/s               \r",
      "Image753.png        100%[===================>]  13.23K  --.-KB/s    in 0s      \r\n",
      "\r\n",
      "2022-11-22 20:01:44 (35.1 MB/s) - ‘./MyImageFiles/Image753.png’ saved [13544/13544]\r\n",
      "\r\n",
      "--2022-11-22 20:01:44--  http://54.243.252.9/ce-5319-webroot/1-Databases/MaterialCracking/UT-881-image_src/Image754.png\r\n",
      "Reusing existing connection to 54.243.252.9:80.\r\n",
      "HTTP request sent, awaiting response... "
     ]
    },
    {
     "name": "stdout",
     "output_type": "stream",
     "text": [
      "200 OK\r\n",
      "Length: 14678 (14K) [image/png]\r\n",
      "Saving to: ‘./MyImageFiles/Image754.png’\r\n",
      "\r\n",
      "\r",
      "Image754.png          0%[                    ]       0  --.-KB/s               \r",
      "Image754.png        100%[===================>]  14.33K  --.-KB/s    in 0s      \r\n",
      "\r\n",
      "2022-11-22 20:01:44 (33.6 MB/s) - ‘./MyImageFiles/Image754.png’ saved [14678/14678]\r\n",
      "\r\n",
      "--2022-11-22 20:01:44--  http://54.243.252.9/ce-5319-webroot/1-Databases/MaterialCracking/UT-881-image_src/Image755.png\r\n",
      "Reusing existing connection to 54.243.252.9:80.\r\n",
      "HTTP request sent, awaiting response... "
     ]
    },
    {
     "name": "stdout",
     "output_type": "stream",
     "text": [
      "200 OK\r\n",
      "Length: 12113 (12K) [image/png]\r\n",
      "Saving to: ‘./MyImageFiles/Image755.png’\r\n",
      "\r\n",
      "\r",
      "Image755.png          0%[                    ]       0  --.-KB/s               \r",
      "Image755.png        100%[===================>]  11.83K  --.-KB/s    in 0s      \r\n",
      "\r\n",
      "2022-11-22 20:01:45 (32.1 MB/s) - ‘./MyImageFiles/Image755.png’ saved [12113/12113]\r\n",
      "\r\n",
      "--2022-11-22 20:01:45--  http://54.243.252.9/ce-5319-webroot/1-Databases/MaterialCracking/UT-881-image_src/Image756.png\r\n",
      "Reusing existing connection to 54.243.252.9:80.\r\n",
      "HTTP request sent, awaiting response... "
     ]
    },
    {
     "name": "stdout",
     "output_type": "stream",
     "text": [
      "200 OK\r\n",
      "Length: 11236 (11K) [image/png]\r\n",
      "Saving to: ‘./MyImageFiles/Image756.png’\r\n",
      "\r\n",
      "\r",
      "Image756.png          0%[                    ]       0  --.-KB/s               \r",
      "Image756.png        100%[===================>]  10.97K  --.-KB/s    in 0s      \r\n",
      "\r\n",
      "2022-11-22 20:01:45 (26.6 MB/s) - ‘./MyImageFiles/Image756.png’ saved [11236/11236]\r\n",
      "\r\n",
      "--2022-11-22 20:01:45--  http://54.243.252.9/ce-5319-webroot/1-Databases/MaterialCracking/UT-881-image_src/Image757.png\r\n",
      "Reusing existing connection to 54.243.252.9:80.\r\n",
      "HTTP request sent, awaiting response... "
     ]
    },
    {
     "name": "stdout",
     "output_type": "stream",
     "text": [
      "200 OK\r\n",
      "Length: 10876 (11K) [image/png]\r\n",
      "Saving to: ‘./MyImageFiles/Image757.png’\r\n",
      "\r\n",
      "\r",
      "Image757.png          0%[                    ]       0  --.-KB/s               \r",
      "Image757.png        100%[===================>]  10.62K  --.-KB/s    in 0s      \r\n",
      "\r\n",
      "2022-11-22 20:01:45 (38.6 MB/s) - ‘./MyImageFiles/Image757.png’ saved [10876/10876]\r\n",
      "\r\n",
      "--2022-11-22 20:01:45--  http://54.243.252.9/ce-5319-webroot/1-Databases/MaterialCracking/UT-881-image_src/Image758.png\r\n",
      "Reusing existing connection to 54.243.252.9:80.\r\n",
      "HTTP request sent, awaiting response... "
     ]
    },
    {
     "name": "stdout",
     "output_type": "stream",
     "text": [
      "200 OK\r\n",
      "Length: 13757 (13K) [image/png]\r\n",
      "Saving to: ‘./MyImageFiles/Image758.png’\r\n",
      "\r\n",
      "\r",
      "Image758.png          0%[                    ]       0  --.-KB/s               \r",
      "Image758.png        100%[===================>]  13.43K  --.-KB/s    in 0s      \r\n",
      "\r\n",
      "2022-11-22 20:01:45 (35.6 MB/s) - ‘./MyImageFiles/Image758.png’ saved [13757/13757]\r\n",
      "\r\n",
      "--2022-11-22 20:01:45--  http://54.243.252.9/ce-5319-webroot/1-Databases/MaterialCracking/UT-881-image_src/Image759.png\r\n",
      "Reusing existing connection to 54.243.252.9:80.\r\n",
      "HTTP request sent, awaiting response... "
     ]
    },
    {
     "name": "stdout",
     "output_type": "stream",
     "text": [
      "200 OK\r\n",
      "Length: 12351 (12K) [image/png]\r\n",
      "Saving to: ‘./MyImageFiles/Image759.png’\r\n",
      "\r\n",
      "\r",
      "Image759.png          0%[                    ]       0  --.-KB/s               \r",
      "Image759.png        100%[===================>]  12.06K  --.-KB/s    in 0s      \r\n",
      "\r\n",
      "2022-11-22 20:01:45 (31.6 MB/s) - ‘./MyImageFiles/Image759.png’ saved [12351/12351]\r\n",
      "\r\n",
      "--2022-11-22 20:01:45--  http://54.243.252.9/ce-5319-webroot/1-Databases/MaterialCracking/UT-881-image_src/Image760.png\r\n",
      "Reusing existing connection to 54.243.252.9:80.\r\n",
      "HTTP request sent, awaiting response... "
     ]
    },
    {
     "name": "stdout",
     "output_type": "stream",
     "text": [
      "200 OK\r\n",
      "Length: 10960 (11K) [image/png]\r\n",
      "Saving to: ‘./MyImageFiles/Image760.png’\r\n",
      "\r\n",
      "\r",
      "Image760.png          0%[                    ]       0  --.-KB/s               \r",
      "Image760.png        100%[===================>]  10.70K  --.-KB/s    in 0s      \r\n",
      "\r\n",
      "2022-11-22 20:01:45 (38.9 MB/s) - ‘./MyImageFiles/Image760.png’ saved [10960/10960]\r\n",
      "\r\n",
      "--2022-11-22 20:01:45--  http://54.243.252.9/ce-5319-webroot/1-Databases/MaterialCracking/UT-881-image_src/Image761.png\r\n",
      "Reusing existing connection to 54.243.252.9:80.\r\n",
      "HTTP request sent, awaiting response... "
     ]
    },
    {
     "name": "stdout",
     "output_type": "stream",
     "text": [
      "200 OK\r\n",
      "Length: 15276 (15K) [image/png]\r\n",
      "Saving to: ‘./MyImageFiles/Image761.png’\r\n",
      "\r\n",
      "\r",
      "Image761.png          0%[                    ]       0  --.-KB/s               \r",
      "Image761.png        100%[===================>]  14.92K  --.-KB/s    in 0s      \r\n",
      "\r\n",
      "2022-11-22 20:01:45 (43.7 MB/s) - ‘./MyImageFiles/Image761.png’ saved [15276/15276]\r\n",
      "\r\n",
      "--2022-11-22 20:01:45--  http://54.243.252.9/ce-5319-webroot/1-Databases/MaterialCracking/UT-881-image_src/Image762.png\r\n",
      "Reusing existing connection to 54.243.252.9:80.\r\n",
      "HTTP request sent, awaiting response... "
     ]
    },
    {
     "name": "stdout",
     "output_type": "stream",
     "text": [
      "200 OK\r\n",
      "Length: 12362 (12K) [image/png]\r\n",
      "Saving to: ‘./MyImageFiles/Image762.png’\r\n",
      "\r\n",
      "\r",
      "Image762.png          0%[                    ]       0  --.-KB/s               \r",
      "Image762.png        100%[===================>]  12.07K  --.-KB/s    in 0s      \r\n",
      "\r\n",
      "2022-11-22 20:01:45 (43.8 MB/s) - ‘./MyImageFiles/Image762.png’ saved [12362/12362]\r\n",
      "\r\n",
      "--2022-11-22 20:01:45--  http://54.243.252.9/ce-5319-webroot/1-Databases/MaterialCracking/UT-881-image_src/Image763.png\r\n",
      "Reusing existing connection to 54.243.252.9:80.\r\n",
      "HTTP request sent, awaiting response... "
     ]
    },
    {
     "name": "stdout",
     "output_type": "stream",
     "text": [
      "200 OK\r\n",
      "Length: 14534 (14K) [image/png]\r\n",
      "Saving to: ‘./MyImageFiles/Image763.png’\r\n",
      "\r\n",
      "\r",
      "Image763.png          0%[                    ]       0  --.-KB/s               \r",
      "Image763.png        100%[===================>]  14.19K  --.-KB/s    in 0s      \r\n",
      "\r\n",
      "2022-11-22 20:01:45 (49.7 MB/s) - ‘./MyImageFiles/Image763.png’ saved [14534/14534]\r\n",
      "\r\n",
      "--2022-11-22 20:01:45--  http://54.243.252.9/ce-5319-webroot/1-Databases/MaterialCracking/UT-881-image_src/Image764.png\r\n",
      "Reusing existing connection to 54.243.252.9:80.\r\n",
      "HTTP request sent, awaiting response... "
     ]
    },
    {
     "name": "stdout",
     "output_type": "stream",
     "text": [
      "200 OK\r\n",
      "Length: 14521 (14K) [image/png]\r\n",
      "Saving to: ‘./MyImageFiles/Image764.png’\r\n",
      "\r\n",
      "\r",
      "Image764.png          0%[                    ]       0  --.-KB/s               \r",
      "Image764.png        100%[===================>]  14.18K  --.-KB/s    in 0s      \r\n",
      "\r\n",
      "2022-11-22 20:01:45 (33.4 MB/s) - ‘./MyImageFiles/Image764.png’ saved [14521/14521]\r\n",
      "\r\n",
      "--2022-11-22 20:01:45--  http://54.243.252.9/ce-5319-webroot/1-Databases/MaterialCracking/UT-881-image_src/Image765.png\r\n",
      "Reusing existing connection to 54.243.252.9:80.\r\n",
      "HTTP request sent, awaiting response... "
     ]
    },
    {
     "name": "stdout",
     "output_type": "stream",
     "text": [
      "200 OK\r\n",
      "Length: 14357 (14K) [image/png]\r\n",
      "Saving to: ‘./MyImageFiles/Image765.png’\r\n",
      "\r\n",
      "\r",
      "Image765.png          0%[                    ]       0  --.-KB/s               \r",
      "Image765.png        100%[===================>]  14.02K  --.-KB/s    in 0s      \r\n",
      "\r\n",
      "2022-11-22 20:01:45 (37.4 MB/s) - ‘./MyImageFiles/Image765.png’ saved [14357/14357]\r\n",
      "\r\n",
      "--2022-11-22 20:01:45--  http://54.243.252.9/ce-5319-webroot/1-Databases/MaterialCracking/UT-881-image_src/Image766.png\r\n",
      "Reusing existing connection to 54.243.252.9:80.\r\n",
      "HTTP request sent, awaiting response... "
     ]
    },
    {
     "name": "stdout",
     "output_type": "stream",
     "text": [
      "200 OK\r\n",
      "Length: 14372 (14K) [image/png]\r\n",
      "Saving to: ‘./MyImageFiles/Image766.png’\r\n",
      "\r\n",
      "\r",
      "Image766.png          0%[                    ]       0  --.-KB/s               \r",
      "Image766.png        100%[===================>]  14.04K  --.-KB/s    in 0s      \r\n",
      "\r\n",
      "2022-11-22 20:01:45 (38.4 MB/s) - ‘./MyImageFiles/Image766.png’ saved [14372/14372]\r\n",
      "\r\n",
      "--2022-11-22 20:01:45--  http://54.243.252.9/ce-5319-webroot/1-Databases/MaterialCracking/UT-881-image_src/Image767.png\r\n",
      "Reusing existing connection to 54.243.252.9:80.\r\n",
      "HTTP request sent, awaiting response... "
     ]
    },
    {
     "name": "stdout",
     "output_type": "stream",
     "text": [
      "200 OK\r\n",
      "Length: 11310 (11K) [image/png]\r\n",
      "Saving to: ‘./MyImageFiles/Image767.png’\r\n",
      "\r\n",
      "\r",
      "Image767.png          0%[                    ]       0  --.-KB/s               \r",
      "Image767.png        100%[===================>]  11.04K  --.-KB/s    in 0s      \r\n",
      "\r\n",
      "2022-11-22 20:01:45 (26.7 MB/s) - ‘./MyImageFiles/Image767.png’ saved [11310/11310]\r\n",
      "\r\n",
      "--2022-11-22 20:01:45--  http://54.243.252.9/ce-5319-webroot/1-Databases/MaterialCracking/UT-881-image_src/Image768.png\r\n",
      "Reusing existing connection to 54.243.252.9:80.\r\n",
      "HTTP request sent, awaiting response... "
     ]
    },
    {
     "name": "stdout",
     "output_type": "stream",
     "text": [
      "200 OK\r\n",
      "Length: 14691 (14K) [image/png]\r\n",
      "Saving to: ‘./MyImageFiles/Image768.png’\r\n",
      "\r\n",
      "\r",
      "Image768.png          0%[                    ]       0  --.-KB/s               \r",
      "Image768.png        100%[===================>]  14.35K  --.-KB/s    in 0s      \r\n",
      "\r\n",
      "2022-11-22 20:01:45 (31.7 MB/s) - ‘./MyImageFiles/Image768.png’ saved [14691/14691]\r\n",
      "\r\n",
      "--2022-11-22 20:01:45--  http://54.243.252.9/ce-5319-webroot/1-Databases/MaterialCracking/UT-881-image_src/Image769.png\r\n",
      "Reusing existing connection to 54.243.252.9:80.\r\n",
      "HTTP request sent, awaiting response... 200 OK\r\n",
      "Length: 12409 (12K) [image/png]\r\n",
      "Saving to: ‘./MyImageFiles/Image769.png’\r\n",
      "\r\n",
      "\r"
     ]
    },
    {
     "name": "stdout",
     "output_type": "stream",
     "text": [
      "Image769.png          0%[                    ]       0  --.-KB/s               \r",
      "Image769.png        100%[===================>]  12.12K  --.-KB/s    in 0s      \r\n",
      "\r\n",
      "2022-11-22 20:01:45 (37.1 MB/s) - ‘./MyImageFiles/Image769.png’ saved [12409/12409]\r\n",
      "\r\n",
      "--2022-11-22 20:01:45--  http://54.243.252.9/ce-5319-webroot/1-Databases/MaterialCracking/UT-881-image_src/Image770.png\r\n",
      "Reusing existing connection to 54.243.252.9:80.\r\n",
      "HTTP request sent, awaiting response... 200 OK\r\n",
      "Length: 12044 (12K) [image/png]\r\n",
      "Saving to: ‘./MyImageFiles/Image770.png’\r\n",
      "\r\n",
      "\r",
      "Image770.png          0%[                    ]       0  --.-KB/s               \r",
      "Image770.png        100%[===================>]  11.76K  --.-KB/s    in 0s      \r\n",
      "\r\n",
      "2022-11-22 20:01:45 (34.4 MB/s) - ‘./MyImageFiles/Image770.png’ saved [12044/12044]\r\n",
      "\r\n",
      "--2022-11-22 20:01:45--  http://54.243.252.9/ce-5319-webroot/1-Databases/MaterialCracking/UT-881-image_src/Image771.png\r\n",
      "Reusing existing connection to 54.243.252.9:80.\r\n",
      "HTTP request sent, awaiting response... "
     ]
    },
    {
     "name": "stdout",
     "output_type": "stream",
     "text": [
      "200 OK\r\n",
      "Length: 9892 (9.7K) [image/png]\r\n",
      "Saving to: ‘./MyImageFiles/Image771.png’\r\n",
      "\r\n",
      "\r",
      "Image771.png          0%[                    ]       0  --.-KB/s               \r",
      "Image771.png        100%[===================>]   9.66K  --.-KB/s    in 0s      \r\n",
      "\r\n",
      "2022-11-22 20:01:45 (32.8 MB/s) - ‘./MyImageFiles/Image771.png’ saved [9892/9892]\r\n",
      "\r\n",
      "--2022-11-22 20:01:45--  http://54.243.252.9/ce-5319-webroot/1-Databases/MaterialCracking/UT-881-image_src/Image772.png\r\n",
      "Reusing existing connection to 54.243.252.9:80.\r\n",
      "HTTP request sent, awaiting response... "
     ]
    },
    {
     "name": "stdout",
     "output_type": "stream",
     "text": [
      "200 OK\r\n",
      "Length: 12185 (12K) [image/png]\r\n",
      "Saving to: ‘./MyImageFiles/Image772.png’\r\n",
      "\r\n",
      "\r",
      "Image772.png          0%[                    ]       0  --.-KB/s               \r",
      "Image772.png        100%[===================>]  11.90K  --.-KB/s    in 0s      \r\n",
      "\r\n",
      "2022-11-22 20:01:45 (41.8 MB/s) - ‘./MyImageFiles/Image772.png’ saved [12185/12185]\r\n",
      "\r\n",
      "--2022-11-22 20:01:45--  http://54.243.252.9/ce-5319-webroot/1-Databases/MaterialCracking/UT-881-image_src/Image773.png\r\n",
      "Reusing existing connection to 54.243.252.9:80.\r\n",
      "HTTP request sent, awaiting response... "
     ]
    },
    {
     "name": "stdout",
     "output_type": "stream",
     "text": [
      "200 OK\r\n",
      "Length: 13327 (13K) [image/png]\r\n",
      "Saving to: ‘./MyImageFiles/Image773.png’\r\n",
      "\r\n",
      "\r",
      "Image773.png          0%[                    ]       0  --.-KB/s               \r",
      "Image773.png        100%[===================>]  13.01K  --.-KB/s    in 0s      \r\n",
      "\r\n",
      "2022-11-22 20:01:45 (34.1 MB/s) - ‘./MyImageFiles/Image773.png’ saved [13327/13327]\r\n",
      "\r\n",
      "--2022-11-22 20:01:45--  http://54.243.252.9/ce-5319-webroot/1-Databases/MaterialCracking/UT-881-image_src/Image774.png\r\n",
      "Reusing existing connection to 54.243.252.9:80.\r\n",
      "HTTP request sent, awaiting response... "
     ]
    },
    {
     "name": "stdout",
     "output_type": "stream",
     "text": [
      "200 OK\r\n",
      "Length: 11224 (11K) [image/png]\r\n",
      "Saving to: ‘./MyImageFiles/Image774.png’\r\n",
      "\r\n",
      "\r",
      "Image774.png          0%[                    ]       0  --.-KB/s               \r",
      "Image774.png        100%[===================>]  10.96K  --.-KB/s    in 0s      \r\n",
      "\r\n",
      "2022-11-22 20:01:45 (29.0 MB/s) - ‘./MyImageFiles/Image774.png’ saved [11224/11224]\r\n",
      "\r\n",
      "--2022-11-22 20:01:45--  http://54.243.252.9/ce-5319-webroot/1-Databases/MaterialCracking/UT-881-image_src/Image775.png\r\n",
      "Reusing existing connection to 54.243.252.9:80.\r\n",
      "HTTP request sent, awaiting response... "
     ]
    },
    {
     "name": "stdout",
     "output_type": "stream",
     "text": [
      "200 OK\r\n",
      "Length: 11126 (11K) [image/png]\r\n",
      "Saving to: ‘./MyImageFiles/Image775.png’\r\n",
      "\r\n",
      "\r",
      "Image775.png          0%[                    ]       0  --.-KB/s               \r",
      "Image775.png        100%[===================>]  10.87K  --.-KB/s    in 0s      \r\n",
      "\r\n",
      "2022-11-22 20:01:46 (32.9 MB/s) - ‘./MyImageFiles/Image775.png’ saved [11126/11126]\r\n",
      "\r\n",
      "--2022-11-22 20:01:46--  http://54.243.252.9/ce-5319-webroot/1-Databases/MaterialCracking/UT-881-image_src/Image776.png\r\n",
      "Reusing existing connection to 54.243.252.9:80.\r\n",
      "HTTP request sent, awaiting response... "
     ]
    },
    {
     "name": "stdout",
     "output_type": "stream",
     "text": [
      "200 OK\r\n",
      "Length: 11501 (11K) [image/png]\r\n",
      "Saving to: ‘./MyImageFiles/Image776.png’\r\n",
      "\r\n",
      "\r",
      "Image776.png          0%[                    ]       0  --.-KB/s               \r",
      "Image776.png        100%[===================>]  11.23K  --.-KB/s    in 0s      \r\n",
      "\r\n",
      "2022-11-22 20:01:46 (38.0 MB/s) - ‘./MyImageFiles/Image776.png’ saved [11501/11501]\r\n",
      "\r\n",
      "--2022-11-22 20:01:46--  http://54.243.252.9/ce-5319-webroot/1-Databases/MaterialCracking/UT-881-image_src/Image777.png\r\n",
      "Reusing existing connection to 54.243.252.9:80.\r\n",
      "HTTP request sent, awaiting response... "
     ]
    },
    {
     "name": "stdout",
     "output_type": "stream",
     "text": [
      "200 OK\r\n",
      "Length: 12185 (12K) [image/png]\r\n",
      "Saving to: ‘./MyImageFiles/Image777.png’\r\n",
      "\r\n",
      "\r",
      "Image777.png          0%[                    ]       0  --.-KB/s               \r",
      "Image777.png        100%[===================>]  11.90K  --.-KB/s    in 0s      \r\n",
      "\r\n",
      "2022-11-22 20:01:46 (34.9 MB/s) - ‘./MyImageFiles/Image777.png’ saved [12185/12185]\r\n",
      "\r\n",
      "--2022-11-22 20:01:46--  http://54.243.252.9/ce-5319-webroot/1-Databases/MaterialCracking/UT-881-image_src/Image778.png\r\n",
      "Reusing existing connection to 54.243.252.9:80.\r\n",
      "HTTP request sent, awaiting response... "
     ]
    },
    {
     "name": "stdout",
     "output_type": "stream",
     "text": [
      "200 OK\r\n",
      "Length: 14108 (14K) [image/png]\r\n",
      "Saving to: ‘./MyImageFiles/Image778.png’\r\n",
      "\r\n",
      "\r",
      "Image778.png          0%[                    ]       0  --.-KB/s               \r",
      "Image778.png        100%[===================>]  13.78K  --.-KB/s    in 0s      \r\n",
      "\r\n",
      "2022-11-22 20:01:46 (49.5 MB/s) - ‘./MyImageFiles/Image778.png’ saved [14108/14108]\r\n",
      "\r\n",
      "--2022-11-22 20:01:46--  http://54.243.252.9/ce-5319-webroot/1-Databases/MaterialCracking/UT-881-image_src/Image779.png\r\n",
      "Reusing existing connection to 54.243.252.9:80.\r\n",
      "HTTP request sent, awaiting response... "
     ]
    },
    {
     "name": "stdout",
     "output_type": "stream",
     "text": [
      "200 OK\r\n",
      "Length: 13140 (13K) [image/png]\r\n",
      "Saving to: ‘./MyImageFiles/Image779.png’\r\n",
      "\r\n",
      "\r",
      "Image779.png          0%[                    ]       0  --.-KB/s               \r",
      "Image779.png        100%[===================>]  12.83K  --.-KB/s    in 0s      \r\n",
      "\r\n",
      "2022-11-22 20:01:46 (47.0 MB/s) - ‘./MyImageFiles/Image779.png’ saved [13140/13140]\r\n",
      "\r\n",
      "--2022-11-22 20:01:46--  http://54.243.252.9/ce-5319-webroot/1-Databases/MaterialCracking/UT-881-image_src/Image780.png\r\n",
      "Reusing existing connection to 54.243.252.9:80.\r\n",
      "HTTP request sent, awaiting response... "
     ]
    },
    {
     "name": "stdout",
     "output_type": "stream",
     "text": [
      "200 OK\r\n",
      "Length: 10384 (10K) [image/png]\r\n",
      "Saving to: ‘./MyImageFiles/Image780.png’\r\n",
      "\r\n",
      "\r",
      "Image780.png          0%[                    ]       0  --.-KB/s               \r",
      "Image780.png        100%[===================>]  10.14K  --.-KB/s    in 0s      \r\n",
      "\r\n",
      "2022-11-22 20:01:46 (34.2 MB/s) - ‘./MyImageFiles/Image780.png’ saved [10384/10384]\r\n",
      "\r\n",
      "--2022-11-22 20:01:46--  http://54.243.252.9/ce-5319-webroot/1-Databases/MaterialCracking/UT-881-image_src/Image781.png\r\n",
      "Reusing existing connection to 54.243.252.9:80.\r\n",
      "HTTP request sent, awaiting response... "
     ]
    },
    {
     "name": "stdout",
     "output_type": "stream",
     "text": [
      "200 OK\r\n",
      "Length: 10455 (10K) [image/png]\r\n",
      "Saving to: ‘./MyImageFiles/Image781.png’\r\n",
      "\r\n",
      "\r",
      "Image781.png          0%[                    ]       0  --.-KB/s               \r",
      "Image781.png        100%[===================>]  10.21K  --.-KB/s    in 0s      \r\n",
      "\r\n",
      "2022-11-22 20:01:46 (31.0 MB/s) - ‘./MyImageFiles/Image781.png’ saved [10455/10455]\r\n",
      "\r\n",
      "--2022-11-22 20:01:46--  http://54.243.252.9/ce-5319-webroot/1-Databases/MaterialCracking/UT-881-image_src/Image782.png\r\n",
      "Reusing existing connection to 54.243.252.9:80.\r\n",
      "HTTP request sent, awaiting response... "
     ]
    },
    {
     "name": "stdout",
     "output_type": "stream",
     "text": [
      "200 OK\r\n",
      "Length: 13521 (13K) [image/png]\r\n",
      "Saving to: ‘./MyImageFiles/Image782.png’\r\n",
      "\r\n",
      "\r",
      "Image782.png          0%[                    ]       0  --.-KB/s               \r",
      "Image782.png        100%[===================>]  13.20K  --.-KB/s    in 0s      \r\n",
      "\r\n",
      "2022-11-22 20:01:46 (40.8 MB/s) - ‘./MyImageFiles/Image782.png’ saved [13521/13521]\r\n",
      "\r\n",
      "--2022-11-22 20:01:46--  http://54.243.252.9/ce-5319-webroot/1-Databases/MaterialCracking/UT-881-image_src/Image783.png\r\n",
      "Reusing existing connection to 54.243.252.9:80.\r\n",
      "HTTP request sent, awaiting response... 200 OK\r\n",
      "Length: 11983 (12K) [image/png]\r\n",
      "Saving to: ‘./MyImageFiles/Image783.png’\r\n",
      "\r\n",
      "\r",
      "Image783.png          0%[                    ]       0  --.-KB/s               \r",
      "Image783.png        100%[===================>]  11.70K  --.-KB/s    in 0s      \r\n",
      "\r\n",
      "2022-11-22 20:01:46 (32.4 MB/s) - ‘./MyImageFiles/Image783.png’ saved [11983/11983]\r\n",
      "\r\n"
     ]
    },
    {
     "name": "stdout",
     "output_type": "stream",
     "text": [
      "--2022-11-22 20:01:46--  http://54.243.252.9/ce-5319-webroot/1-Databases/MaterialCracking/UT-881-image_src/Image784.png\r\n",
      "Reusing existing connection to 54.243.252.9:80.\r\n",
      "HTTP request sent, awaiting response... 200 OK\r\n",
      "Length: 15048 (15K) [image/png]\r\n",
      "Saving to: ‘./MyImageFiles/Image784.png’\r\n",
      "\r\n",
      "\r",
      "Image784.png          0%[                    ]       0  --.-KB/s               \r",
      "Image784.png        100%[===================>]  14.70K  --.-KB/s    in 0s      \r\n",
      "\r\n",
      "2022-11-22 20:01:46 (38.5 MB/s) - ‘./MyImageFiles/Image784.png’ saved [15048/15048]\r\n",
      "\r\n",
      "--2022-11-22 20:01:46--  http://54.243.252.9/ce-5319-webroot/1-Databases/MaterialCracking/UT-881-image_src/Image785.png\r\n",
      "Reusing existing connection to 54.243.252.9:80.\r\n",
      "HTTP request sent, awaiting response... "
     ]
    },
    {
     "name": "stdout",
     "output_type": "stream",
     "text": [
      "200 OK\r\n",
      "Length: 10940 (11K) [image/png]\r\n",
      "Saving to: ‘./MyImageFiles/Image785.png’\r\n",
      "\r\n",
      "\r",
      "Image785.png          0%[                    ]       0  --.-KB/s               \r",
      "Image785.png        100%[===================>]  10.68K  --.-KB/s    in 0s      \r\n",
      "\r\n",
      "2022-11-22 20:01:46 (28.7 MB/s) - ‘./MyImageFiles/Image785.png’ saved [10940/10940]\r\n",
      "\r\n",
      "--2022-11-22 20:01:46--  http://54.243.252.9/ce-5319-webroot/1-Databases/MaterialCracking/UT-881-image_src/Image786.png\r\n",
      "Reusing existing connection to 54.243.252.9:80.\r\n",
      "HTTP request sent, awaiting response... "
     ]
    },
    {
     "name": "stdout",
     "output_type": "stream",
     "text": [
      "200 OK\r\n",
      "Length: 14486 (14K) [image/png]\r\n",
      "Saving to: ‘./MyImageFiles/Image786.png’\r\n",
      "\r\n",
      "\r",
      "Image786.png          0%[                    ]       0  --.-KB/s               \r",
      "Image786.png        100%[===================>]  14.15K  --.-KB/s    in 0s      \r\n",
      "\r\n",
      "2022-11-22 20:01:46 (31.3 MB/s) - ‘./MyImageFiles/Image786.png’ saved [14486/14486]\r\n",
      "\r\n",
      "--2022-11-22 20:01:46--  http://54.243.252.9/ce-5319-webroot/1-Databases/MaterialCracking/UT-881-image_src/Image787.png\r\n",
      "Reusing existing connection to 54.243.252.9:80.\r\n",
      "HTTP request sent, awaiting response... "
     ]
    },
    {
     "name": "stdout",
     "output_type": "stream",
     "text": [
      "200 OK\r\n",
      "Length: 13534 (13K) [image/png]\r\n",
      "Saving to: ‘./MyImageFiles/Image787.png’\r\n",
      "\r\n",
      "\r",
      "Image787.png          0%[                    ]       0  --.-KB/s               \r",
      "Image787.png        100%[===================>]  13.22K  --.-KB/s    in 0s      \r\n",
      "\r\n",
      "2022-11-22 20:01:46 (34.0 MB/s) - ‘./MyImageFiles/Image787.png’ saved [13534/13534]\r\n",
      "\r\n",
      "--2022-11-22 20:01:46--  http://54.243.252.9/ce-5319-webroot/1-Databases/MaterialCracking/UT-881-image_src/Image788.png\r\n",
      "Reusing existing connection to 54.243.252.9:80.\r\n",
      "HTTP request sent, awaiting response... "
     ]
    },
    {
     "name": "stdout",
     "output_type": "stream",
     "text": [
      "200 OK\r\n",
      "Length: 15050 (15K) [image/png]\r\n",
      "Saving to: ‘./MyImageFiles/Image788.png’\r\n",
      "\r\n",
      "\r",
      "Image788.png          0%[                    ]       0  --.-KB/s               \r",
      "Image788.png        100%[===================>]  14.70K  --.-KB/s    in 0s      \r\n",
      "\r\n",
      "2022-11-22 20:01:46 (35.9 MB/s) - ‘./MyImageFiles/Image788.png’ saved [15050/15050]\r\n",
      "\r\n",
      "--2022-11-22 20:01:46--  http://54.243.252.9/ce-5319-webroot/1-Databases/MaterialCracking/UT-881-image_src/Image789.png\r\n",
      "Reusing existing connection to 54.243.252.9:80.\r\n",
      "HTTP request sent, awaiting response... "
     ]
    },
    {
     "name": "stdout",
     "output_type": "stream",
     "text": [
      "200 OK\r\n",
      "Length: 14540 (14K) [image/png]\r\n",
      "Saving to: ‘./MyImageFiles/Image789.png’\r\n",
      "\r\n",
      "\r",
      "Image789.png          0%[                    ]       0  --.-KB/s               \r",
      "Image789.png        100%[===================>]  14.20K  --.-KB/s    in 0s      \r\n",
      "\r\n",
      "2022-11-22 20:01:46 (36.8 MB/s) - ‘./MyImageFiles/Image789.png’ saved [14540/14540]\r\n",
      "\r\n",
      "--2022-11-22 20:01:46--  http://54.243.252.9/ce-5319-webroot/1-Databases/MaterialCracking/UT-881-image_src/Image790.png\r\n",
      "Reusing existing connection to 54.243.252.9:80.\r\n",
      "HTTP request sent, awaiting response... "
     ]
    },
    {
     "name": "stdout",
     "output_type": "stream",
     "text": [
      "200 OK\r\n",
      "Length: 13159 (13K) [image/png]\r\n",
      "Saving to: ‘./MyImageFiles/Image790.png’\r\n",
      "\r\n",
      "\r",
      "Image790.png          0%[                    ]       0  --.-KB/s               \r",
      "Image790.png        100%[===================>]  12.85K  --.-KB/s    in 0s      \r\n",
      "\r\n",
      "2022-11-22 20:01:46 (34.2 MB/s) - ‘./MyImageFiles/Image790.png’ saved [13159/13159]\r\n",
      "\r\n",
      "--2022-11-22 20:01:46--  http://54.243.252.9/ce-5319-webroot/1-Databases/MaterialCracking/UT-881-image_src/Image791.png\r\n",
      "Reusing existing connection to 54.243.252.9:80.\r\n",
      "HTTP request sent, awaiting response... "
     ]
    },
    {
     "name": "stdout",
     "output_type": "stream",
     "text": [
      "200 OK\r\n",
      "Length: 10623 (10K) [image/png]\r\n",
      "Saving to: ‘./MyImageFiles/Image791.png’\r\n",
      "\r\n",
      "\r",
      "Image791.png          0%[                    ]       0  --.-KB/s               \r",
      "Image791.png        100%[===================>]  10.37K  --.-KB/s    in 0s      \r\n",
      "\r\n",
      "2022-11-22 20:01:46 (35.4 MB/s) - ‘./MyImageFiles/Image791.png’ saved [10623/10623]\r\n",
      "\r\n",
      "--2022-11-22 20:01:46--  http://54.243.252.9/ce-5319-webroot/1-Databases/MaterialCracking/UT-881-image_src/Image792.png\r\n",
      "Reusing existing connection to 54.243.252.9:80.\r\n",
      "HTTP request sent, awaiting response... "
     ]
    },
    {
     "name": "stdout",
     "output_type": "stream",
     "text": [
      "200 OK\r\n",
      "Length: 14181 (14K) [image/png]\r\n",
      "Saving to: ‘./MyImageFiles/Image792.png’\r\n",
      "\r\n",
      "\r",
      "Image792.png          0%[                    ]       0  --.-KB/s               \r",
      "Image792.png        100%[===================>]  13.85K  --.-KB/s    in 0s      \r\n",
      "\r\n",
      "2022-11-22 20:01:46 (42.8 MB/s) - ‘./MyImageFiles/Image792.png’ saved [14181/14181]\r\n",
      "\r\n",
      "--2022-11-22 20:01:46--  http://54.243.252.9/ce-5319-webroot/1-Databases/MaterialCracking/UT-881-image_src/Image793.png\r\n",
      "Reusing existing connection to 54.243.252.9:80.\r\n",
      "HTTP request sent, awaiting response... "
     ]
    },
    {
     "name": "stdout",
     "output_type": "stream",
     "text": [
      "200 OK\r\n",
      "Length: 10817 (11K) [image/png]\r\n",
      "Saving to: ‘./MyImageFiles/Image793.png’\r\n",
      "\r\n",
      "\r",
      "Image793.png          0%[                    ]       0  --.-KB/s               \r",
      "Image793.png        100%[===================>]  10.56K  --.-KB/s    in 0s      \r\n",
      "\r\n",
      "2022-11-22 20:01:46 (38.0 MB/s) - ‘./MyImageFiles/Image793.png’ saved [10817/10817]\r\n",
      "\r\n",
      "--2022-11-22 20:01:46--  http://54.243.252.9/ce-5319-webroot/1-Databases/MaterialCracking/UT-881-image_src/Image794.png\r\n",
      "Reusing existing connection to 54.243.252.9:80.\r\n",
      "HTTP request sent, awaiting response... "
     ]
    },
    {
     "name": "stdout",
     "output_type": "stream",
     "text": [
      "200 OK\r\n",
      "Length: 14472 (14K) [image/png]\r\n",
      "Saving to: ‘./MyImageFiles/Image794.png’\r\n",
      "\r\n",
      "\r",
      "Image794.png          0%[                    ]       0  --.-KB/s               \r",
      "Image794.png        100%[===================>]  14.13K  --.-KB/s    in 0s      \r\n",
      "\r\n",
      "2022-11-22 20:01:46 (50.1 MB/s) - ‘./MyImageFiles/Image794.png’ saved [14472/14472]\r\n",
      "\r\n",
      "--2022-11-22 20:01:46--  http://54.243.252.9/ce-5319-webroot/1-Databases/MaterialCracking/UT-881-image_src/Image795.png\r\n",
      "Reusing existing connection to 54.243.252.9:80.\r\n",
      "HTTP request sent, awaiting response... "
     ]
    },
    {
     "name": "stdout",
     "output_type": "stream",
     "text": [
      "200 OK\r\n",
      "Length: 12944 (13K) [image/png]\r\n",
      "Saving to: ‘./MyImageFiles/Image795.png’\r\n",
      "\r\n",
      "\r",
      "Image795.png          0%[                    ]       0  --.-KB/s               \r",
      "Image795.png        100%[===================>]  12.64K  --.-KB/s    in 0s      \r\n",
      "\r\n",
      "2022-11-22 20:01:46 (39.4 MB/s) - ‘./MyImageFiles/Image795.png’ saved [12944/12944]\r\n",
      "\r\n",
      "--2022-11-22 20:01:46--  http://54.243.252.9/ce-5319-webroot/1-Databases/MaterialCracking/UT-881-image_src/Image796.png\r\n",
      "Reusing existing connection to 54.243.252.9:80.\r\n",
      "HTTP request sent, awaiting response... "
     ]
    },
    {
     "name": "stdout",
     "output_type": "stream",
     "text": [
      "200 OK\r\n",
      "Length: 13733 (13K) [image/png]\r\n",
      "Saving to: ‘./MyImageFiles/Image796.png’\r\n",
      "\r\n",
      "\r",
      "Image796.png          0%[                    ]       0  --.-KB/s               \r",
      "Image796.png        100%[===================>]  13.41K  --.-KB/s    in 0s      \r\n",
      "\r\n",
      "2022-11-22 20:01:47 (41.7 MB/s) - ‘./MyImageFiles/Image796.png’ saved [13733/13733]\r\n",
      "\r\n",
      "--2022-11-22 20:01:47--  http://54.243.252.9/ce-5319-webroot/1-Databases/MaterialCracking/UT-881-image_src/Image797.png\r\n",
      "Reusing existing connection to 54.243.252.9:80.\r\n",
      "HTTP request sent, awaiting response... "
     ]
    },
    {
     "name": "stdout",
     "output_type": "stream",
     "text": [
      "200 OK\r\n",
      "Length: 12851 (13K) [image/png]\r\n",
      "Saving to: ‘./MyImageFiles/Image797.png’\r\n",
      "\r\n",
      "\r",
      "Image797.png          0%[                    ]       0  --.-KB/s               \r",
      "Image797.png        100%[===================>]  12.55K  --.-KB/s    in 0s      \r\n",
      "\r\n",
      "2022-11-22 20:01:47 (28.3 MB/s) - ‘./MyImageFiles/Image797.png’ saved [12851/12851]\r\n",
      "\r\n",
      "--2022-11-22 20:01:47--  http://54.243.252.9/ce-5319-webroot/1-Databases/MaterialCracking/UT-881-image_src/Image798.png\r\n",
      "Reusing existing connection to 54.243.252.9:80.\r\n",
      "HTTP request sent, awaiting response... "
     ]
    },
    {
     "name": "stdout",
     "output_type": "stream",
     "text": [
      "200 OK\r\n",
      "Length: 12291 (12K) [image/png]\r\n",
      "Saving to: ‘./MyImageFiles/Image798.png’\r\n",
      "\r\n",
      "\r",
      "Image798.png          0%[                    ]       0  --.-KB/s               \r",
      "Image798.png        100%[===================>]  12.00K  --.-KB/s    in 0s      \r\n",
      "\r\n",
      "2022-11-22 20:01:47 (29.8 MB/s) - ‘./MyImageFiles/Image798.png’ saved [12291/12291]\r\n",
      "\r\n",
      "--2022-11-22 20:01:47--  http://54.243.252.9/ce-5319-webroot/1-Databases/MaterialCracking/UT-881-image_src/Image799.png\r\n",
      "Reusing existing connection to 54.243.252.9:80.\r\n",
      "HTTP request sent, awaiting response... "
     ]
    },
    {
     "name": "stdout",
     "output_type": "stream",
     "text": [
      "200 OK\r\n",
      "Length: 14871 (15K) [image/png]\r\n",
      "Saving to: ‘./MyImageFiles/Image799.png’\r\n",
      "\r\n",
      "\r",
      "Image799.png          0%[                    ]       0  --.-KB/s               \r",
      "Image799.png        100%[===================>]  14.52K  --.-KB/s    in 0s      \r\n",
      "\r\n",
      "2022-11-22 20:01:47 (30.4 MB/s) - ‘./MyImageFiles/Image799.png’ saved [14871/14871]\r\n",
      "\r\n",
      "--2022-11-22 20:01:47--  http://54.243.252.9/ce-5319-webroot/1-Databases/MaterialCracking/UT-881-image_src/Image800.png\r\n",
      "Reusing existing connection to 54.243.252.9:80.\r\n",
      "HTTP request sent, awaiting response... 200 OK\r\n",
      "Length: 13626 (13K) [image/png]\r\n",
      "Saving to: ‘./MyImageFiles/Image800.png’\r\n",
      "\r\n",
      "\r",
      "Image800.png          0%[                    ]       0  --.-KB/s               \r",
      "Image800.png        100%[===================>]  13.31K  --.-KB/s    in 0s      \r\n",
      "\r\n",
      "2022-11-22 20:01:47 (48.1 MB/s) - ‘./MyImageFiles/Image800.png’ saved [13626/13626]\r\n",
      "\r\n"
     ]
    },
    {
     "name": "stdout",
     "output_type": "stream",
     "text": [
      "--2022-11-22 20:01:47--  http://54.243.252.9/ce-5319-webroot/1-Databases/MaterialCracking/UT-881-image_src/Image801.png\r\n",
      "Reusing existing connection to 54.243.252.9:80.\r\n",
      "HTTP request sent, awaiting response... 200 OK\r\n",
      "Length: 11886 (12K) [image/png]\r\n",
      "Saving to: ‘./MyImageFiles/Image801.png’\r\n",
      "\r\n",
      "\r",
      "Image801.png          0%[                    ]       0  --.-KB/s               \r",
      "Image801.png        100%[===================>]  11.61K  --.-KB/s    in 0s      \r\n",
      "\r\n",
      "2022-11-22 20:01:47 (31.8 MB/s) - ‘./MyImageFiles/Image801.png’ saved [11886/11886]\r\n",
      "\r\n",
      "--2022-11-22 20:01:47--  http://54.243.252.9/ce-5319-webroot/1-Databases/MaterialCracking/UT-881-image_src/Image802.png\r\n",
      "Reusing existing connection to 54.243.252.9:80.\r\n",
      "HTTP request sent, awaiting response... "
     ]
    },
    {
     "name": "stdout",
     "output_type": "stream",
     "text": [
      "200 OK\r\n",
      "Length: 11007 (11K) [image/png]\r\n",
      "Saving to: ‘./MyImageFiles/Image802.png’\r\n",
      "\r\n",
      "\r",
      "Image802.png          0%[                    ]       0  --.-KB/s               \r",
      "Image802.png        100%[===================>]  10.75K  --.-KB/s    in 0s      \r\n",
      "\r\n",
      "2022-11-22 20:01:47 (32.6 MB/s) - ‘./MyImageFiles/Image802.png’ saved [11007/11007]\r\n",
      "\r\n",
      "--2022-11-22 20:01:47--  http://54.243.252.9/ce-5319-webroot/1-Databases/MaterialCracking/UT-881-image_src/Image803.png\r\n",
      "Connecting to 54.243.252.9:80... "
     ]
    },
    {
     "name": "stdout",
     "output_type": "stream",
     "text": [
      "connected.\r\n",
      "HTTP request sent, awaiting response... "
     ]
    },
    {
     "name": "stdout",
     "output_type": "stream",
     "text": [
      "200 OK\r\n",
      "Length: 15085 (15K) [image/png]\r\n",
      "Saving to: ‘./MyImageFiles/Image803.png’\r\n",
      "\r\n",
      "\r",
      "Image803.png          0%[                    ]       0  --.-KB/s               "
     ]
    },
    {
     "name": "stdout",
     "output_type": "stream",
     "text": [
      "\r",
      "Image803.png        100%[===================>]  14.73K  --.-KB/s    in 0.05s   \r\n",
      "\r\n",
      "2022-11-22 20:01:47 (320 KB/s) - ‘./MyImageFiles/Image803.png’ saved [15085/15085]\r\n",
      "\r\n",
      "--2022-11-22 20:01:47--  http://54.243.252.9/ce-5319-webroot/1-Databases/MaterialCracking/UT-881-image_src/Image804.png\r\n",
      "Reusing existing connection to 54.243.252.9:80.\r\n",
      "HTTP request sent, awaiting response... "
     ]
    },
    {
     "name": "stdout",
     "output_type": "stream",
     "text": [
      "200 OK\r\n",
      "Length: 14624 (14K) [image/png]\r\n",
      "Saving to: ‘./MyImageFiles/Image804.png’\r\n",
      "\r\n",
      "\r",
      "Image804.png          0%[                    ]       0  --.-KB/s               \r",
      "Image804.png        100%[===================>]  14.28K  --.-KB/s    in 0s      \r\n",
      "\r\n",
      "2022-11-22 20:01:47 (45.2 MB/s) - ‘./MyImageFiles/Image804.png’ saved [14624/14624]\r\n",
      "\r\n",
      "--2022-11-22 20:01:47--  http://54.243.252.9/ce-5319-webroot/1-Databases/MaterialCracking/UT-881-image_src/Image805.png\r\n",
      "Reusing existing connection to 54.243.252.9:80.\r\n",
      "HTTP request sent, awaiting response... "
     ]
    },
    {
     "name": "stdout",
     "output_type": "stream",
     "text": [
      "200 OK\r\n",
      "Length: 9078 (8.9K) [image/png]\r\n",
      "Saving to: ‘./MyImageFiles/Image805.png’\r\n",
      "\r\n",
      "\r",
      "Image805.png          0%[                    ]       0  --.-KB/s               \r",
      "Image805.png        100%[===================>]   8.87K  --.-KB/s    in 0s      \r\n",
      "\r\n",
      "2022-11-22 20:01:47 (33.6 MB/s) - ‘./MyImageFiles/Image805.png’ saved [9078/9078]\r\n",
      "\r\n",
      "--2022-11-22 20:01:47--  http://54.243.252.9/ce-5319-webroot/1-Databases/MaterialCracking/UT-881-image_src/Image806.png\r\n",
      "Reusing existing connection to 54.243.252.9:80.\r\n",
      "HTTP request sent, awaiting response... "
     ]
    },
    {
     "name": "stdout",
     "output_type": "stream",
     "text": [
      "200 OK\r\n",
      "Length: 11701 (11K) [image/png]\r\n",
      "Saving to: ‘./MyImageFiles/Image806.png’\r\n",
      "\r\n",
      "\r",
      "Image806.png          0%[                    ]       0  --.-KB/s               \r",
      "Image806.png        100%[===================>]  11.43K  --.-KB/s    in 0.005s  \r\n",
      "\r\n",
      "2022-11-22 20:01:47 (2.34 MB/s) - ‘./MyImageFiles/Image806.png’ saved [11701/11701]\r\n",
      "\r\n",
      "--2022-11-22 20:01:47--  http://54.243.252.9/ce-5319-webroot/1-Databases/MaterialCracking/UT-881-image_src/Image807.png\r\n",
      "Reusing existing connection to 54.243.252.9:80.\r\n",
      "HTTP request sent, awaiting response... "
     ]
    },
    {
     "name": "stdout",
     "output_type": "stream",
     "text": [
      "200 OK\r\n",
      "Length: 14223 (14K) [image/png]\r\n",
      "Saving to: ‘./MyImageFiles/Image807.png’\r\n",
      "\r\n",
      "\r",
      "Image807.png          0%[                    ]       0  --.-KB/s               \r",
      "Image807.png        100%[===================>]  13.89K  --.-KB/s    in 0s      \r\n",
      "\r\n",
      "2022-11-22 20:01:47 (57.5 MB/s) - ‘./MyImageFiles/Image807.png’ saved [14223/14223]\r\n",
      "\r\n",
      "--2022-11-22 20:01:47--  http://54.243.252.9/ce-5319-webroot/1-Databases/MaterialCracking/UT-881-image_src/Image808.png\r\n",
      "Reusing existing connection to 54.243.252.9:80.\r\n",
      "HTTP request sent, awaiting response... "
     ]
    },
    {
     "name": "stdout",
     "output_type": "stream",
     "text": [
      "200 OK\r\n",
      "Length: 12944 (13K) [image/png]\r\n",
      "Saving to: ‘./MyImageFiles/Image808.png’\r\n",
      "\r\n",
      "\r",
      "Image808.png          0%[                    ]       0  --.-KB/s               \r",
      "Image808.png        100%[===================>]  12.64K  --.-KB/s    in 0s      \r\n",
      "\r\n",
      "2022-11-22 20:01:47 (63.9 MB/s) - ‘./MyImageFiles/Image808.png’ saved [12944/12944]\r\n",
      "\r\n",
      "--2022-11-22 20:01:47--  http://54.243.252.9/ce-5319-webroot/1-Databases/MaterialCracking/UT-881-image_src/Image809.png\r\n",
      "Reusing existing connection to 54.243.252.9:80.\r\n",
      "HTTP request sent, awaiting response... "
     ]
    },
    {
     "name": "stdout",
     "output_type": "stream",
     "text": [
      "200 OK\r\n",
      "Length: 14527 (14K) [image/png]\r\n",
      "Saving to: ‘./MyImageFiles/Image809.png’\r\n",
      "\r\n",
      "\r",
      "Image809.png          0%[                    ]       0  --.-KB/s               \r",
      "Image809.png        100%[===================>]  14.19K  --.-KB/s    in 0s      \r\n",
      "\r\n",
      "2022-11-22 20:01:47 (49.9 MB/s) - ‘./MyImageFiles/Image809.png’ saved [14527/14527]\r\n",
      "\r\n",
      "--2022-11-22 20:01:47--  http://54.243.252.9/ce-5319-webroot/1-Databases/MaterialCracking/UT-881-image_src/Image810.png\r\n",
      "Reusing existing connection to 54.243.252.9:80.\r\n",
      "HTTP request sent, awaiting response... "
     ]
    },
    {
     "name": "stdout",
     "output_type": "stream",
     "text": [
      "200 OK\r\n",
      "Length: 10838 (11K) [image/png]\r\n",
      "Saving to: ‘./MyImageFiles/Image810.png’\r\n",
      "\r\n",
      "\r",
      "Image810.png          0%[                    ]       0  --.-KB/s               \r",
      "Image810.png        100%[===================>]  10.58K  --.-KB/s    in 0s      \r\n",
      "\r\n",
      "2022-11-22 20:01:47 (42.7 MB/s) - ‘./MyImageFiles/Image810.png’ saved [10838/10838]\r\n",
      "\r\n",
      "--2022-11-22 20:01:47--  http://54.243.252.9/ce-5319-webroot/1-Databases/MaterialCracking/UT-881-image_src/Image811.png\r\n",
      "Reusing existing connection to 54.243.252.9:80.\r\n",
      "HTTP request sent, awaiting response... "
     ]
    },
    {
     "name": "stdout",
     "output_type": "stream",
     "text": [
      "200 OK\r\n",
      "Length: 10697 (10K) [image/png]\r\n",
      "Saving to: ‘./MyImageFiles/Image811.png’\r\n",
      "\r\n",
      "\r",
      "Image811.png          0%[                    ]       0  --.-KB/s               \r",
      "Image811.png        100%[===================>]  10.45K  --.-KB/s    in 0s      \r\n",
      "\r\n",
      "2022-11-22 20:01:47 (42.0 MB/s) - ‘./MyImageFiles/Image811.png’ saved [10697/10697]\r\n",
      "\r\n",
      "--2022-11-22 20:01:47--  http://54.243.252.9/ce-5319-webroot/1-Databases/MaterialCracking/UT-881-image_src/Image812.png\r\n",
      "Reusing existing connection to 54.243.252.9:80.\r\n",
      "HTTP request sent, awaiting response... "
     ]
    },
    {
     "name": "stdout",
     "output_type": "stream",
     "text": [
      "200 OK\r\n",
      "Length: 11343 (11K) [image/png]\r\n",
      "Saving to: ‘./MyImageFiles/Image812.png’\r\n",
      "\r\n",
      "\r",
      "Image812.png          0%[                    ]       0  --.-KB/s               \r",
      "Image812.png        100%[===================>]  11.08K  --.-KB/s    in 0s      \r\n",
      "\r\n",
      "2022-11-22 20:01:47 (36.2 MB/s) - ‘./MyImageFiles/Image812.png’ saved [11343/11343]\r\n",
      "\r\n",
      "--2022-11-22 20:01:47--  http://54.243.252.9/ce-5319-webroot/1-Databases/MaterialCracking/UT-881-image_src/Image813.png\r\n",
      "Reusing existing connection to 54.243.252.9:80.\r\n",
      "HTTP request sent, awaiting response... "
     ]
    },
    {
     "name": "stdout",
     "output_type": "stream",
     "text": [
      "200 OK\r\n",
      "Length: 14439 (14K) [image/png]\r\n",
      "Saving to: ‘./MyImageFiles/Image813.png’\r\n",
      "\r\n",
      "\r",
      "Image813.png          0%[                    ]       0  --.-KB/s               \r",
      "Image813.png        100%[===================>]  14.10K  --.-KB/s    in 0s      \r\n",
      "\r\n",
      "2022-11-22 20:01:47 (33.5 MB/s) - ‘./MyImageFiles/Image813.png’ saved [14439/14439]\r\n",
      "\r\n",
      "--2022-11-22 20:01:47--  http://54.243.252.9/ce-5319-webroot/1-Databases/MaterialCracking/UT-881-image_src/Image814.png\r\n",
      "Reusing existing connection to 54.243.252.9:80.\r\n",
      "HTTP request sent, awaiting response... "
     ]
    },
    {
     "name": "stdout",
     "output_type": "stream",
     "text": [
      "200 OK\r\n",
      "Length: 9451 (9.2K) [image/png]\r\n",
      "Saving to: ‘./MyImageFiles/Image814.png’\r\n",
      "\r\n",
      "\r",
      "Image814.png          0%[                    ]       0  --.-KB/s               \r",
      "Image814.png        100%[===================>]   9.23K  --.-KB/s    in 0s      \r\n",
      "\r\n",
      "2022-11-22 20:01:48 (26.8 MB/s) - ‘./MyImageFiles/Image814.png’ saved [9451/9451]\r\n",
      "\r\n",
      "--2022-11-22 20:01:48--  http://54.243.252.9/ce-5319-webroot/1-Databases/MaterialCracking/UT-881-image_src/Image815.png\r\n",
      "Reusing existing connection to 54.243.252.9:80.\r\n",
      "HTTP request sent, awaiting response... 200 OK\r\n",
      "Length: 10879 (11K) [image/png]\r\n",
      "Saving to: ‘./MyImageFiles/Image815.png’\r\n",
      "\r\n",
      "\r",
      "Image815.png          0%[                    ]       0  --.-KB/s               \r",
      "Image815.png        100%[===================>]  10.62K  --.-KB/s    in 0s      \r\n",
      "\r\n",
      "2022-11-22 20:01:48 (35.3 MB/s) - ‘./MyImageFiles/Image815.png’ saved [10879/10879]\r\n",
      "\r\n",
      "--2022-11-22 20:01:48--  http://54.243.252.9/ce-5319-webroot/1-Databases/MaterialCracking/UT-881-image_src/Image816.png\r\n",
      "Reusing existing connection to 54.243.252.9:80.\r\n",
      "HTTP request sent, awaiting response... "
     ]
    },
    {
     "name": "stdout",
     "output_type": "stream",
     "text": [
      "200 OK\r\n",
      "Length: 13128 (13K) [image/png]\r\n",
      "Saving to: ‘./MyImageFiles/Image816.png’\r\n",
      "\r\n",
      "\r",
      "Image816.png          0%[                    ]       0  --.-KB/s               \r",
      "Image816.png        100%[===================>]  12.82K  --.-KB/s    in 0s      \r\n",
      "\r\n",
      "2022-11-22 20:01:48 (37.9 MB/s) - ‘./MyImageFiles/Image816.png’ saved [13128/13128]\r\n",
      "\r\n",
      "--2022-11-22 20:01:48--  http://54.243.252.9/ce-5319-webroot/1-Databases/MaterialCracking/UT-881-image_src/Image817.png\r\n",
      "Reusing existing connection to 54.243.252.9:80.\r\n",
      "HTTP request sent, awaiting response... "
     ]
    },
    {
     "name": "stdout",
     "output_type": "stream",
     "text": [
      "200 OK\r\n",
      "Length: 15447 (15K) [image/png]\r\n",
      "Saving to: ‘./MyImageFiles/Image817.png’\r\n",
      "\r\n",
      "\r",
      "Image817.png          0%[                    ]       0  --.-KB/s               \r",
      "Image817.png        100%[===================>]  15.08K  --.-KB/s    in 0s      \r\n",
      "\r\n",
      "2022-11-22 20:01:48 (38.1 MB/s) - ‘./MyImageFiles/Image817.png’ saved [15447/15447]\r\n",
      "\r\n",
      "--2022-11-22 20:01:48--  http://54.243.252.9/ce-5319-webroot/1-Databases/MaterialCracking/UT-881-image_src/Image818.png\r\n",
      "Reusing existing connection to 54.243.252.9:80.\r\n",
      "HTTP request sent, awaiting response... "
     ]
    },
    {
     "name": "stdout",
     "output_type": "stream",
     "text": [
      "200 OK\r\n",
      "Length: 14049 (14K) [image/png]\r\n",
      "Saving to: ‘./MyImageFiles/Image818.png’\r\n",
      "\r\n",
      "\r",
      "Image818.png          0%[                    ]       0  --.-KB/s               \r",
      "Image818.png        100%[===================>]  13.72K  --.-KB/s    in 0s      \r\n",
      "\r\n",
      "2022-11-22 20:01:48 (37.2 MB/s) - ‘./MyImageFiles/Image818.png’ saved [14049/14049]\r\n",
      "\r\n",
      "--2022-11-22 20:01:48--  http://54.243.252.9/ce-5319-webroot/1-Databases/MaterialCracking/UT-881-image_src/Image819.png\r\n",
      "Reusing existing connection to 54.243.252.9:80.\r\n",
      "HTTP request sent, awaiting response... "
     ]
    },
    {
     "name": "stdout",
     "output_type": "stream",
     "text": [
      "200 OK\r\n",
      "Length: 12863 (13K) [image/png]\r\n",
      "Saving to: ‘./MyImageFiles/Image819.png’\r\n",
      "\r\n",
      "\r",
      "Image819.png          0%[                    ]       0  --.-KB/s               \r",
      "Image819.png        100%[===================>]  12.56K  --.-KB/s    in 0s      \r\n",
      "\r\n",
      "2022-11-22 20:01:48 (51.1 MB/s) - ‘./MyImageFiles/Image819.png’ saved [12863/12863]\r\n",
      "\r\n",
      "--2022-11-22 20:01:48--  http://54.243.252.9/ce-5319-webroot/1-Databases/MaterialCracking/UT-881-image_src/Image820.png\r\n",
      "Reusing existing connection to 54.243.252.9:80.\r\n",
      "HTTP request sent, awaiting response... "
     ]
    },
    {
     "name": "stdout",
     "output_type": "stream",
     "text": [
      "200 OK\r\n",
      "Length: 13199 (13K) [image/png]\r\n",
      "Saving to: ‘./MyImageFiles/Image820.png’\r\n",
      "\r\n",
      "\r",
      "Image820.png          0%[                    ]       0  --.-KB/s               \r",
      "Image820.png        100%[===================>]  12.89K  --.-KB/s    in 0s      \r\n",
      "\r\n",
      "2022-11-22 20:01:48 (42.4 MB/s) - ‘./MyImageFiles/Image820.png’ saved [13199/13199]\r\n",
      "\r\n",
      "--2022-11-22 20:01:48--  http://54.243.252.9/ce-5319-webroot/1-Databases/MaterialCracking/UT-881-image_src/Image821.png\r\n",
      "Reusing existing connection to 54.243.252.9:80.\r\n",
      "HTTP request sent, awaiting response... "
     ]
    },
    {
     "name": "stdout",
     "output_type": "stream",
     "text": [
      "200 OK\r\n",
      "Length: 14350 (14K) [image/png]\r\n",
      "Saving to: ‘./MyImageFiles/Image821.png’\r\n",
      "\r\n",
      "\r",
      "Image821.png          0%[                    ]       0  --.-KB/s               \r",
      "Image821.png        100%[===================>]  14.01K  --.-KB/s    in 0s      \r\n",
      "\r\n",
      "2022-11-22 20:01:48 (49.5 MB/s) - ‘./MyImageFiles/Image821.png’ saved [14350/14350]\r\n",
      "\r\n",
      "--2022-11-22 20:01:48--  http://54.243.252.9/ce-5319-webroot/1-Databases/MaterialCracking/UT-881-image_src/Image822.png\r\n",
      "Reusing existing connection to 54.243.252.9:80.\r\n",
      "HTTP request sent, awaiting response... "
     ]
    },
    {
     "name": "stdout",
     "output_type": "stream",
     "text": [
      "200 OK\r\n",
      "Length: 10411 (10K) [image/png]\r\n",
      "Saving to: ‘./MyImageFiles/Image822.png’\r\n",
      "\r\n",
      "\r",
      "Image822.png          0%[                    ]       0  --.-KB/s               \r",
      "Image822.png        100%[===================>]  10.17K  --.-KB/s    in 0s      \r\n",
      "\r\n",
      "2022-11-22 20:01:48 (41.4 MB/s) - ‘./MyImageFiles/Image822.png’ saved [10411/10411]\r\n",
      "\r\n",
      "--2022-11-22 20:01:48--  http://54.243.252.9/ce-5319-webroot/1-Databases/MaterialCracking/UT-881-image_src/Image823.png\r\n",
      "Reusing existing connection to 54.243.252.9:80.\r\n",
      "HTTP request sent, awaiting response... "
     ]
    },
    {
     "name": "stdout",
     "output_type": "stream",
     "text": [
      "200 OK\r\n",
      "Length: 14498 (14K) [image/png]\r\n",
      "Saving to: ‘./MyImageFiles/Image823.png’\r\n",
      "\r\n",
      "\r",
      "Image823.png          0%[                    ]       0  --.-KB/s               \r",
      "Image823.png        100%[===================>]  14.16K  --.-KB/s    in 0s      \r\n",
      "\r\n",
      "2022-11-22 20:01:48 (47.8 MB/s) - ‘./MyImageFiles/Image823.png’ saved [14498/14498]\r\n",
      "\r\n",
      "--2022-11-22 20:01:48--  http://54.243.252.9/ce-5319-webroot/1-Databases/MaterialCracking/UT-881-image_src/Image824.png\r\n",
      "Reusing existing connection to 54.243.252.9:80.\r\n",
      "HTTP request sent, awaiting response... "
     ]
    },
    {
     "name": "stdout",
     "output_type": "stream",
     "text": [
      "200 OK\r\n",
      "Length: 13867 (14K) [image/png]\r\n",
      "Saving to: ‘./MyImageFiles/Image824.png’\r\n",
      "\r\n",
      "\r",
      "Image824.png          0%[                    ]       0  --.-KB/s               \r",
      "Image824.png        100%[===================>]  13.54K  --.-KB/s    in 0s      \r\n",
      "\r\n",
      "2022-11-22 20:01:48 (56.1 MB/s) - ‘./MyImageFiles/Image824.png’ saved [13867/13867]\r\n",
      "\r\n",
      "--2022-11-22 20:01:48--  http://54.243.252.9/ce-5319-webroot/1-Databases/MaterialCracking/UT-881-image_src/Image825.png\r\n",
      "Reusing existing connection to 54.243.252.9:80.\r\n",
      "HTTP request sent, awaiting response... "
     ]
    },
    {
     "name": "stdout",
     "output_type": "stream",
     "text": [
      "200 OK\r\n",
      "Length: 14312 (14K) [image/png]\r\n",
      "Saving to: ‘./MyImageFiles/Image825.png’\r\n",
      "\r\n",
      "\r",
      "Image825.png          0%[                    ]       0  --.-KB/s               \r",
      "Image825.png        100%[===================>]  13.98K  --.-KB/s    in 0s      \r\n",
      "\r\n",
      "2022-11-22 20:01:48 (48.1 MB/s) - ‘./MyImageFiles/Image825.png’ saved [14312/14312]\r\n",
      "\r\n",
      "--2022-11-22 20:01:48--  http://54.243.252.9/ce-5319-webroot/1-Databases/MaterialCracking/UT-881-image_src/Image826.png\r\n",
      "Reusing existing connection to 54.243.252.9:80.\r\n",
      "HTTP request sent, awaiting response... "
     ]
    },
    {
     "name": "stdout",
     "output_type": "stream",
     "text": [
      "200 OK\r\n",
      "Length: 14331 (14K) [image/png]\r\n",
      "Saving to: ‘./MyImageFiles/Image826.png’\r\n",
      "\r\n",
      "\r",
      "Image826.png          0%[                    ]       0  --.-KB/s               \r",
      "Image826.png        100%[===================>]  14.00K  --.-KB/s    in 0s      \r\n",
      "\r\n",
      "2022-11-22 20:01:48 (38.7 MB/s) - ‘./MyImageFiles/Image826.png’ saved [14331/14331]\r\n",
      "\r\n",
      "--2022-11-22 20:01:48--  http://54.243.252.9/ce-5319-webroot/1-Databases/MaterialCracking/UT-881-image_src/Image827.png\r\n",
      "Reusing existing connection to 54.243.252.9:80.\r\n",
      "HTTP request sent, awaiting response... "
     ]
    },
    {
     "name": "stdout",
     "output_type": "stream",
     "text": [
      "200 OK\r\n",
      "Length: 14658 (14K) [image/png]\r\n",
      "Saving to: ‘./MyImageFiles/Image827.png’\r\n",
      "\r\n",
      "\r",
      "Image827.png          0%[                    ]       0  --.-KB/s               \r",
      "Image827.png        100%[===================>]  14.31K  --.-KB/s    in 0s      \r\n",
      "\r\n",
      "2022-11-22 20:01:48 (35.0 MB/s) - ‘./MyImageFiles/Image827.png’ saved [14658/14658]\r\n",
      "\r\n",
      "--2022-11-22 20:01:48--  http://54.243.252.9/ce-5319-webroot/1-Databases/MaterialCracking/UT-881-image_src/Image828.png\r\n",
      "Reusing existing connection to 54.243.252.9:80.\r\n",
      "HTTP request sent, awaiting response... "
     ]
    },
    {
     "name": "stdout",
     "output_type": "stream",
     "text": [
      "200 OK\r\n",
      "Length: 14794 (14K) [image/png]\r\n",
      "Saving to: ‘./MyImageFiles/Image828.png’\r\n",
      "\r\n",
      "\r",
      "Image828.png          0%[                    ]       0  --.-KB/s               \r",
      "Image828.png        100%[===================>]  14.45K  --.-KB/s    in 0s      \r\n",
      "\r\n",
      "2022-11-22 20:01:48 (30.6 MB/s) - ‘./MyImageFiles/Image828.png’ saved [14794/14794]\r\n",
      "\r\n",
      "--2022-11-22 20:01:48--  http://54.243.252.9/ce-5319-webroot/1-Databases/MaterialCracking/UT-881-image_src/Image829.png\r\n",
      "Reusing existing connection to 54.243.252.9:80.\r\n",
      "HTTP request sent, awaiting response... "
     ]
    },
    {
     "name": "stdout",
     "output_type": "stream",
     "text": [
      "200 OK\r\n",
      "Length: 14095 (14K) [image/png]\r\n",
      "Saving to: ‘./MyImageFiles/Image829.png’\r\n",
      "\r\n",
      "\r",
      "Image829.png          0%[                    ]       0  --.-KB/s               \r",
      "Image829.png        100%[===================>]  13.76K  --.-KB/s    in 0s      \r\n",
      "\r\n",
      "2022-11-22 20:01:48 (42.1 MB/s) - ‘./MyImageFiles/Image829.png’ saved [14095/14095]\r\n",
      "\r\n",
      "--2022-11-22 20:01:48--  http://54.243.252.9/ce-5319-webroot/1-Databases/MaterialCracking/UT-881-image_src/Image830.png\r\n",
      "Reusing existing connection to 54.243.252.9:80.\r\n",
      "HTTP request sent, awaiting response... 200 OK\r\n",
      "Length: 14473 (14K) [image/png]\r\n",
      "Saving to: ‘./MyImageFiles/Image830.png’\r\n",
      "\r\n",
      "\r",
      "Image830.png          0%[                    ]       0  --.-KB/s               \r",
      "Image830.png        100%[===================>]  14.13K  --.-KB/s    in 0s      \r\n",
      "\r\n",
      "2022-11-22 20:01:48 (44.7 MB/s) - ‘./MyImageFiles/Image830.png’ saved [14473/14473]\r\n",
      "\r\n"
     ]
    },
    {
     "name": "stdout",
     "output_type": "stream",
     "text": [
      "--2022-11-22 20:01:48--  http://54.243.252.9/ce-5319-webroot/1-Databases/MaterialCracking/UT-881-image_src/Image831.png\r\n",
      "Reusing existing connection to 54.243.252.9:80.\r\n",
      "HTTP request sent, awaiting response... 200 OK\r\n",
      "Length: 15527 (15K) [image/png]\r\n",
      "Saving to: ‘./MyImageFiles/Image831.png’\r\n",
      "\r\n",
      "\r",
      "Image831.png          0%[                    ]       0  --.-KB/s               \r",
      "Image831.png        100%[===================>]  15.16K  --.-KB/s    in 0s      \r\n",
      "\r\n",
      "2022-11-22 20:01:48 (78.3 MB/s) - ‘./MyImageFiles/Image831.png’ saved [15527/15527]\r\n",
      "\r\n",
      "--2022-11-22 20:01:48--  http://54.243.252.9/ce-5319-webroot/1-Databases/MaterialCracking/UT-881-image_src/Image832.png\r\n",
      "Reusing existing connection to 54.243.252.9:80.\r\n",
      "HTTP request sent, awaiting response... "
     ]
    },
    {
     "name": "stdout",
     "output_type": "stream",
     "text": [
      "200 OK\r\n",
      "Length: 13757 (13K) [image/png]\r\n",
      "Saving to: ‘./MyImageFiles/Image832.png’\r\n",
      "\r\n",
      "\r",
      "Image832.png          0%[                    ]       0  --.-KB/s               \r",
      "Image832.png        100%[===================>]  13.43K  --.-KB/s    in 0s      \r\n",
      "\r\n",
      "2022-11-22 20:01:48 (52.4 MB/s) - ‘./MyImageFiles/Image832.png’ saved [13757/13757]\r\n",
      "\r\n",
      "--2022-11-22 20:01:48--  http://54.243.252.9/ce-5319-webroot/1-Databases/MaterialCracking/UT-881-image_src/Image833.png\r\n",
      "Reusing existing connection to 54.243.252.9:80.\r\n",
      "HTTP request sent, awaiting response... "
     ]
    },
    {
     "name": "stdout",
     "output_type": "stream",
     "text": [
      "200 OK\r\n",
      "Length: 14366 (14K) [image/png]\r\n",
      "Saving to: ‘./MyImageFiles/Image833.png’\r\n",
      "\r\n",
      "\r",
      "Image833.png          0%[                    ]       0  --.-KB/s               \r",
      "Image833.png        100%[===================>]  14.03K  --.-KB/s    in 0s      \r\n",
      "\r\n",
      "2022-11-22 20:01:48 (35.7 MB/s) - ‘./MyImageFiles/Image833.png’ saved [14366/14366]\r\n",
      "\r\n",
      "--2022-11-22 20:01:48--  http://54.243.252.9/ce-5319-webroot/1-Databases/MaterialCracking/UT-881-image_src/Image834.png\r\n",
      "Reusing existing connection to 54.243.252.9:80.\r\n",
      "HTTP request sent, awaiting response... "
     ]
    },
    {
     "name": "stdout",
     "output_type": "stream",
     "text": [
      "200 OK\r\n",
      "Length: 14073 (14K) [image/png]\r\n",
      "Saving to: ‘./MyImageFiles/Image834.png’\r\n",
      "\r\n",
      "\r",
      "Image834.png          0%[                    ]       0  --.-KB/s               \r",
      "Image834.png        100%[===================>]  13.74K  --.-KB/s    in 0s      \r\n",
      "\r\n",
      "2022-11-22 20:01:49 (35.3 MB/s) - ‘./MyImageFiles/Image834.png’ saved [14073/14073]\r\n",
      "\r\n",
      "--2022-11-22 20:01:49--  http://54.243.252.9/ce-5319-webroot/1-Databases/MaterialCracking/UT-881-image_src/Image835.png\r\n",
      "Reusing existing connection to 54.243.252.9:80.\r\n",
      "HTTP request sent, awaiting response... "
     ]
    },
    {
     "name": "stdout",
     "output_type": "stream",
     "text": [
      "200 OK\r\n",
      "Length: 15063 (15K) [image/png]\r\n",
      "Saving to: ‘./MyImageFiles/Image835.png’\r\n",
      "\r\n",
      "\r",
      "Image835.png          0%[                    ]       0  --.-KB/s               \r",
      "Image835.png        100%[===================>]  14.71K  --.-KB/s    in 0s      \r\n",
      "\r\n",
      "2022-11-22 20:01:49 (37.5 MB/s) - ‘./MyImageFiles/Image835.png’ saved [15063/15063]\r\n",
      "\r\n",
      "--2022-11-22 20:01:49--  http://54.243.252.9/ce-5319-webroot/1-Databases/MaterialCracking/UT-881-image_src/Image836.png\r\n",
      "Reusing existing connection to 54.243.252.9:80.\r\n",
      "HTTP request sent, awaiting response... "
     ]
    },
    {
     "name": "stdout",
     "output_type": "stream",
     "text": [
      "200 OK\r\n",
      "Length: 12710 (12K) [image/png]\r\n",
      "Saving to: ‘./MyImageFiles/Image836.png’\r\n",
      "\r\n",
      "\r",
      "Image836.png          0%[                    ]       0  --.-KB/s               \r",
      "Image836.png        100%[===================>]  12.41K  --.-KB/s    in 0s      \r\n",
      "\r\n",
      "2022-11-22 20:01:49 (31.9 MB/s) - ‘./MyImageFiles/Image836.png’ saved [12710/12710]\r\n",
      "\r\n",
      "--2022-11-22 20:01:49--  http://54.243.252.9/ce-5319-webroot/1-Databases/MaterialCracking/UT-881-image_src/Image837.png\r\n",
      "Reusing existing connection to 54.243.252.9:80.\r\n",
      "HTTP request sent, awaiting response... "
     ]
    },
    {
     "name": "stdout",
     "output_type": "stream",
     "text": [
      "200 OK\r\n",
      "Length: 11799 (12K) [image/png]\r\n",
      "Saving to: ‘./MyImageFiles/Image837.png’\r\n",
      "\r\n",
      "\r",
      "Image837.png          0%[                    ]       0  --.-KB/s               \r",
      "Image837.png        100%[===================>]  11.52K  --.-KB/s    in 0s      \r\n",
      "\r\n",
      "2022-11-22 20:01:49 (39.4 MB/s) - ‘./MyImageFiles/Image837.png’ saved [11799/11799]\r\n",
      "\r\n",
      "--2022-11-22 20:01:49--  http://54.243.252.9/ce-5319-webroot/1-Databases/MaterialCracking/UT-881-image_src/Image838.png\r\n",
      "Reusing existing connection to 54.243.252.9:80.\r\n",
      "HTTP request sent, awaiting response... "
     ]
    },
    {
     "name": "stdout",
     "output_type": "stream",
     "text": [
      "200 OK\r\n",
      "Length: 9342 (9.1K) [image/png]\r\n",
      "Saving to: ‘./MyImageFiles/Image838.png’\r\n",
      "\r\n",
      "\r",
      "Image838.png          0%[                    ]       0  --.-KB/s               \r",
      "Image838.png        100%[===================>]   9.12K  --.-KB/s    in 0.001s  \r\n",
      "\r\n",
      "2022-11-22 20:01:49 (7.64 MB/s) - ‘./MyImageFiles/Image838.png’ saved [9342/9342]\r\n",
      "\r\n",
      "--2022-11-22 20:01:49--  http://54.243.252.9/ce-5319-webroot/1-Databases/MaterialCracking/UT-881-image_src/Image839.png\r\n",
      "Reusing existing connection to 54.243.252.9:80.\r\n",
      "HTTP request sent, awaiting response... "
     ]
    },
    {
     "name": "stdout",
     "output_type": "stream",
     "text": [
      "200 OK\r\n",
      "Length: 14439 (14K) [image/png]\r\n",
      "Saving to: ‘./MyImageFiles/Image839.png’\r\n",
      "\r\n",
      "\r",
      "Image839.png          0%[                    ]       0  --.-KB/s               \r",
      "Image839.png        100%[===================>]  14.10K  --.-KB/s    in 0s      \r\n",
      "\r\n",
      "2022-11-22 20:01:49 (42.9 MB/s) - ‘./MyImageFiles/Image839.png’ saved [14439/14439]\r\n",
      "\r\n",
      "--2022-11-22 20:01:49--  http://54.243.252.9/ce-5319-webroot/1-Databases/MaterialCracking/UT-881-image_src/Image840.png\r\n",
      "Reusing existing connection to 54.243.252.9:80.\r\n",
      "HTTP request sent, awaiting response... "
     ]
    },
    {
     "name": "stdout",
     "output_type": "stream",
     "text": [
      "200 OK\r\n",
      "Length: 14794 (14K) [image/png]\r\n",
      "Saving to: ‘./MyImageFiles/Image840.png’\r\n",
      "\r\n",
      "\r",
      "Image840.png          0%[                    ]       0  --.-KB/s               \r",
      "Image840.png        100%[===================>]  14.45K  --.-KB/s    in 0s      \r\n",
      "\r\n",
      "2022-11-22 20:01:49 (43.7 MB/s) - ‘./MyImageFiles/Image840.png’ saved [14794/14794]\r\n",
      "\r\n",
      "--2022-11-22 20:01:49--  http://54.243.252.9/ce-5319-webroot/1-Databases/MaterialCracking/UT-881-image_src/Image841.png\r\n",
      "Reusing existing connection to 54.243.252.9:80.\r\n",
      "HTTP request sent, awaiting response... "
     ]
    },
    {
     "name": "stdout",
     "output_type": "stream",
     "text": [
      "200 OK\r\n",
      "Length: 15301 (15K) [image/png]\r\n",
      "Saving to: ‘./MyImageFiles/Image841.png’\r\n",
      "\r\n",
      "\r",
      "Image841.png          0%[                    ]       0  --.-KB/s               \r",
      "Image841.png        100%[===================>]  14.94K  --.-KB/s    in 0s      \r\n",
      "\r\n",
      "2022-11-22 20:01:49 (51.7 MB/s) - ‘./MyImageFiles/Image841.png’ saved [15301/15301]\r\n",
      "\r\n",
      "--2022-11-22 20:01:49--  http://54.243.252.9/ce-5319-webroot/1-Databases/MaterialCracking/UT-881-image_src/Image842.png\r\n",
      "Reusing existing connection to 54.243.252.9:80.\r\n",
      "HTTP request sent, awaiting response... "
     ]
    },
    {
     "name": "stdout",
     "output_type": "stream",
     "text": [
      "200 OK\r\n",
      "Length: 14433 (14K) [image/png]\r\n",
      "Saving to: ‘./MyImageFiles/Image842.png’\r\n",
      "\r\n",
      "\r",
      "Image842.png          0%[                    ]       0  --.-KB/s               \r",
      "Image842.png        100%[===================>]  14.09K  --.-KB/s    in 0s      \r\n",
      "\r\n",
      "2022-11-22 20:01:49 (31.2 MB/s) - ‘./MyImageFiles/Image842.png’ saved [14433/14433]\r\n",
      "\r\n",
      "--2022-11-22 20:01:49--  http://54.243.252.9/ce-5319-webroot/1-Databases/MaterialCracking/UT-881-image_src/Image843.png\r\n",
      "Reusing existing connection to 54.243.252.9:80.\r\n",
      "HTTP request sent, awaiting response... "
     ]
    },
    {
     "name": "stdout",
     "output_type": "stream",
     "text": [
      "200 OK\r\n",
      "Length: 13268 (13K) [image/png]\r\n",
      "Saving to: ‘./MyImageFiles/Image843.png’\r\n",
      "\r\n",
      "\r",
      "Image843.png          0%[                    ]       0  --.-KB/s               \r",
      "Image843.png        100%[===================>]  12.96K  --.-KB/s    in 0s      \r\n",
      "\r\n",
      "2022-11-22 20:01:49 (32.0 MB/s) - ‘./MyImageFiles/Image843.png’ saved [13268/13268]\r\n",
      "\r\n",
      "--2022-11-22 20:01:49--  http://54.243.252.9/ce-5319-webroot/1-Databases/MaterialCracking/UT-881-image_src/Image844.png\r\n",
      "Reusing existing connection to 54.243.252.9:80.\r\n",
      "HTTP request sent, awaiting response... "
     ]
    },
    {
     "name": "stdout",
     "output_type": "stream",
     "text": [
      "200 OK\r\n",
      "Length: 11551 (11K) [image/png]\r\n",
      "Saving to: ‘./MyImageFiles/Image844.png’\r\n",
      "\r\n",
      "\r",
      "Image844.png          0%[                    ]       0  --.-KB/s               \r",
      "Image844.png        100%[===================>]  11.28K  --.-KB/s    in 0s      \r\n",
      "\r\n",
      "2022-11-22 20:01:49 (28.9 MB/s) - ‘./MyImageFiles/Image844.png’ saved [11551/11551]\r\n",
      "\r\n",
      "--2022-11-22 20:01:49--  http://54.243.252.9/ce-5319-webroot/1-Databases/MaterialCracking/UT-881-image_src/Image845.png\r\n",
      "Reusing existing connection to 54.243.252.9:80.\r\n",
      "HTTP request sent, awaiting response... "
     ]
    },
    {
     "name": "stdout",
     "output_type": "stream",
     "text": [
      "200 OK\r\n",
      "Length: 10746 (10K) [image/png]\r\n",
      "Saving to: ‘./MyImageFiles/Image845.png’\r\n",
      "\r\n",
      "\r",
      "Image845.png          0%[                    ]       0  --.-KB/s               \r",
      "Image845.png        100%[===================>]  10.49K  --.-KB/s    in 0s      \r\n",
      "\r\n",
      "2022-11-22 20:01:49 (27.6 MB/s) - ‘./MyImageFiles/Image845.png’ saved [10746/10746]\r\n",
      "\r\n",
      "--2022-11-22 20:01:49--  http://54.243.252.9/ce-5319-webroot/1-Databases/MaterialCracking/UT-881-image_src/Image846.png\r\n",
      "Reusing existing connection to 54.243.252.9:80.\r\n",
      "HTTP request sent, awaiting response... "
     ]
    },
    {
     "name": "stdout",
     "output_type": "stream",
     "text": [
      "200 OK\r\n",
      "Length: 14807 (14K) [image/png]\r\n",
      "Saving to: ‘./MyImageFiles/Image846.png’\r\n",
      "\r\n",
      "\r",
      "Image846.png          0%[                    ]       0  --.-KB/s               \r",
      "Image846.png        100%[===================>]  14.46K  --.-KB/s    in 0s      \r\n",
      "\r\n",
      "2022-11-22 20:01:49 (40.4 MB/s) - ‘./MyImageFiles/Image846.png’ saved [14807/14807]\r\n",
      "\r\n",
      "--2022-11-22 20:01:49--  http://54.243.252.9/ce-5319-webroot/1-Databases/MaterialCracking/UT-881-image_src/Image847.png\r\n",
      "Reusing existing connection to 54.243.252.9:80.\r\n",
      "HTTP request sent, awaiting response... "
     ]
    },
    {
     "name": "stdout",
     "output_type": "stream",
     "text": [
      "200 OK\r\n",
      "Length: 9747 (9.5K) [image/png]\r\n",
      "Saving to: ‘./MyImageFiles/Image847.png’\r\n",
      "\r\n",
      "\r",
      "Image847.png          0%[                    ]       0  --.-KB/s               \r",
      "Image847.png        100%[===================>]   9.52K  --.-KB/s    in 0s      \r\n",
      "\r\n",
      "2022-11-22 20:01:49 (28.8 MB/s) - ‘./MyImageFiles/Image847.png’ saved [9747/9747]\r\n",
      "\r\n",
      "--2022-11-22 20:01:49--  http://54.243.252.9/ce-5319-webroot/1-Databases/MaterialCracking/UT-881-image_src/Image848.png\r\n",
      "Reusing existing connection to 54.243.252.9:80.\r\n",
      "HTTP request sent, awaiting response... 200 OK\r\n",
      "Length: "
     ]
    },
    {
     "name": "stdout",
     "output_type": "stream",
     "text": [
      "14017 (14K) [image/png]\r\n",
      "Saving to: ‘./MyImageFiles/Image848.png’\r\n",
      "\r\n",
      "\r",
      "Image848.png          0%[                    ]       0  --.-KB/s               \r",
      "Image848.png        100%[===================>]  13.69K  --.-KB/s    in 0s      \r\n",
      "\r\n",
      "2022-11-22 20:01:49 (34.7 MB/s) - ‘./MyImageFiles/Image848.png’ saved [14017/14017]\r\n",
      "\r\n",
      "--2022-11-22 20:01:49--  http://54.243.252.9/ce-5319-webroot/1-Databases/MaterialCracking/UT-881-image_src/Image849.png\r\n",
      "Reusing existing connection to 54.243.252.9:80.\r\n",
      "HTTP request sent, awaiting response... 200 OK\r\n",
      "Length: 11485 (11K) [image/png]\r\n",
      "Saving to: ‘./MyImageFiles/Image849.png’\r\n",
      "\r\n",
      "\r",
      "Image849.png          0%[                    ]       0  --.-KB/s               \r",
      "Image849.png        100%[===================>]  11.22K  --.-KB/s    in 0s      \r\n",
      "\r\n",
      "2022-11-22 20:01:49 (33.5 MB/s) - ‘./MyImageFiles/Image849.png’ saved [11485/11485]\r\n",
      "\r\n",
      "--2022-11-22 20:01:49--  http://54.243.252.9/ce-5319-webroot/1-Databases/MaterialCracking/UT-881-image_src/Image850.png\r\n",
      "Reusing existing connection to 54.243.252.9:80.\r\n",
      "HTTP request sent, awaiting response... "
     ]
    },
    {
     "name": "stdout",
     "output_type": "stream",
     "text": [
      "200 OK\r\n",
      "Length: 10532 (10K) [image/png]\r\n",
      "Saving to: ‘./MyImageFiles/Image850.png’\r\n",
      "\r\n",
      "\r",
      "Image850.png          0%[                    ]       0  --.-KB/s               \r",
      "Image850.png        100%[===================>]  10.29K  --.-KB/s    in 0s      \r\n",
      "\r\n",
      "2022-11-22 20:01:49 (27.7 MB/s) - ‘./MyImageFiles/Image850.png’ saved [10532/10532]\r\n",
      "\r\n",
      "--2022-11-22 20:01:49--  http://54.243.252.9/ce-5319-webroot/1-Databases/MaterialCracking/UT-881-image_src/Image851.png\r\n",
      "Reusing existing connection to 54.243.252.9:80.\r\n",
      "HTTP request sent, awaiting response... "
     ]
    },
    {
     "name": "stdout",
     "output_type": "stream",
     "text": [
      "200 OK\r\n",
      "Length: 14756 (14K) [image/png]\r\n",
      "Saving to: ‘./MyImageFiles/Image851.png’\r\n",
      "\r\n",
      "\r",
      "Image851.png          0%[                    ]       0  --.-KB/s               \r",
      "Image851.png        100%[===================>]  14.41K  --.-KB/s    in 0s      \r\n",
      "\r\n",
      "2022-11-22 20:01:49 (36.8 MB/s) - ‘./MyImageFiles/Image851.png’ saved [14756/14756]\r\n",
      "\r\n",
      "--2022-11-22 20:01:49--  http://54.243.252.9/ce-5319-webroot/1-Databases/MaterialCracking/UT-881-image_src/Image852.png\r\n",
      "Reusing existing connection to 54.243.252.9:80.\r\n",
      "HTTP request sent, awaiting response... "
     ]
    },
    {
     "name": "stdout",
     "output_type": "stream",
     "text": [
      "200 OK\r\n",
      "Length: 13090 (13K) [image/png]\r\n",
      "Saving to: ‘./MyImageFiles/Image852.png’\r\n",
      "\r\n",
      "\r",
      "Image852.png          0%[                    ]       0  --.-KB/s               \r",
      "Image852.png        100%[===================>]  12.78K  --.-KB/s    in 0s      \r\n",
      "\r\n",
      "2022-11-22 20:01:49 (28.0 MB/s) - ‘./MyImageFiles/Image852.png’ saved [13090/13090]\r\n",
      "\r\n",
      "--2022-11-22 20:01:49--  http://54.243.252.9/ce-5319-webroot/1-Databases/MaterialCracking/UT-881-image_src/Image853.png\r\n",
      "Reusing existing connection to 54.243.252.9:80.\r\n",
      "HTTP request sent, awaiting response... "
     ]
    },
    {
     "name": "stdout",
     "output_type": "stream",
     "text": [
      "200 OK\r\n",
      "Length: 13057 (13K) [image/png]\r\n",
      "Saving to: ‘./MyImageFiles/Image853.png’\r\n",
      "\r\n",
      "\r",
      "Image853.png          0%[                    ]       0  --.-KB/s               \r",
      "Image853.png        100%[===================>]  12.75K  --.-KB/s    in 0s      \r\n",
      "\r\n",
      "2022-11-22 20:01:50 (34.1 MB/s) - ‘./MyImageFiles/Image853.png’ saved [13057/13057]\r\n",
      "\r\n",
      "--2022-11-22 20:01:50--  http://54.243.252.9/ce-5319-webroot/1-Databases/MaterialCracking/UT-881-image_src/Image854.png\r\n",
      "Reusing existing connection to 54.243.252.9:80.\r\n",
      "HTTP request sent, awaiting response... "
     ]
    },
    {
     "name": "stdout",
     "output_type": "stream",
     "text": [
      "200 OK\r\n",
      "Length: 13341 (13K) [image/png]\r\n",
      "Saving to: ‘./MyImageFiles/Image854.png’\r\n",
      "\r\n",
      "\r",
      "Image854.png          0%[                    ]       0  --.-KB/s               \r",
      "Image854.png        100%[===================>]  13.03K  --.-KB/s    in 0s      \r\n",
      "\r\n",
      "2022-11-22 20:01:50 (34.3 MB/s) - ‘./MyImageFiles/Image854.png’ saved [13341/13341]\r\n",
      "\r\n",
      "--2022-11-22 20:01:50--  http://54.243.252.9/ce-5319-webroot/1-Databases/MaterialCracking/UT-881-image_src/Image855.png\r\n",
      "Reusing existing connection to 54.243.252.9:80.\r\n",
      "HTTP request sent, awaiting response... "
     ]
    },
    {
     "name": "stdout",
     "output_type": "stream",
     "text": [
      "200 OK\r\n",
      "Length: 13783 (13K) [image/png]\r\n",
      "Saving to: ‘./MyImageFiles/Image855.png’\r\n",
      "\r\n",
      "\r",
      "Image855.png          0%[                    ]       0  --.-KB/s               \r",
      "Image855.png        100%[===================>]  13.46K  --.-KB/s    in 0s      \r\n",
      "\r\n",
      "2022-11-22 20:01:50 (34.1 MB/s) - ‘./MyImageFiles/Image855.png’ saved [13783/13783]\r\n",
      "\r\n",
      "--2022-11-22 20:01:50--  http://54.243.252.9/ce-5319-webroot/1-Databases/MaterialCracking/UT-881-image_src/Image856.png\r\n",
      "Reusing existing connection to 54.243.252.9:80.\r\n",
      "HTTP request sent, awaiting response... "
     ]
    },
    {
     "name": "stdout",
     "output_type": "stream",
     "text": [
      "200 OK\r\n",
      "Length: 14987 (15K) [image/png]\r\n",
      "Saving to: ‘./MyImageFiles/Image856.png’\r\n",
      "\r\n",
      "\r",
      "Image856.png          0%[                    ]       0  --.-KB/s               \r",
      "Image856.png        100%[===================>]  14.64K  --.-KB/s    in 0s      \r\n",
      "\r\n",
      "2022-11-22 20:01:50 (47.8 MB/s) - ‘./MyImageFiles/Image856.png’ saved [14987/14987]\r\n",
      "\r\n",
      "--2022-11-22 20:01:50--  http://54.243.252.9/ce-5319-webroot/1-Databases/MaterialCracking/UT-881-image_src/Image857.png\r\n",
      "Reusing existing connection to 54.243.252.9:80.\r\n",
      "HTTP request sent, awaiting response... "
     ]
    },
    {
     "name": "stdout",
     "output_type": "stream",
     "text": [
      "200 OK\r\n",
      "Length: 13504 (13K) [image/png]\r\n",
      "Saving to: ‘./MyImageFiles/Image857.png’\r\n",
      "\r\n",
      "\r",
      "Image857.png          0%[                    ]       0  --.-KB/s               \r",
      "Image857.png        100%[===================>]  13.19K  --.-KB/s    in 0s      \r\n",
      "\r\n",
      "2022-11-22 20:01:50 (40.4 MB/s) - ‘./MyImageFiles/Image857.png’ saved [13504/13504]\r\n",
      "\r\n",
      "--2022-11-22 20:01:50--  http://54.243.252.9/ce-5319-webroot/1-Databases/MaterialCracking/UT-881-image_src/Image858.png\r\n",
      "Reusing existing connection to 54.243.252.9:80.\r\n",
      "HTTP request sent, awaiting response... "
     ]
    },
    {
     "name": "stdout",
     "output_type": "stream",
     "text": [
      "200 OK\r\n",
      "Length: 12008 (12K) [image/png]\r\n",
      "Saving to: ‘./MyImageFiles/Image858.png’\r\n",
      "\r\n",
      "\r",
      "Image858.png          0%[                    ]       0  --.-KB/s               \r",
      "Image858.png        100%[===================>]  11.73K  --.-KB/s    in 0s      \r\n",
      "\r\n",
      "2022-11-22 20:01:50 (37.4 MB/s) - ‘./MyImageFiles/Image858.png’ saved [12008/12008]\r\n",
      "\r\n",
      "--2022-11-22 20:01:50--  http://54.243.252.9/ce-5319-webroot/1-Databases/MaterialCracking/UT-881-image_src/Image859.png\r\n",
      "Reusing existing connection to 54.243.252.9:80.\r\n",
      "HTTP request sent, awaiting response... "
     ]
    },
    {
     "name": "stdout",
     "output_type": "stream",
     "text": [
      "200 OK\r\n",
      "Length: 13398 (13K) [image/png]\r\n",
      "Saving to: ‘./MyImageFiles/Image859.png’\r\n",
      "\r\n",
      "\r",
      "Image859.png          0%[                    ]       0  --.-KB/s               \r",
      "Image859.png        100%[===================>]  13.08K  --.-KB/s    in 0s      \r\n",
      "\r\n",
      "2022-11-22 20:01:50 (40.8 MB/s) - ‘./MyImageFiles/Image859.png’ saved [13398/13398]\r\n",
      "\r\n",
      "--2022-11-22 20:01:50--  http://54.243.252.9/ce-5319-webroot/1-Databases/MaterialCracking/UT-881-image_src/Image860.png\r\n",
      "Reusing existing connection to 54.243.252.9:80.\r\n",
      "HTTP request sent, awaiting response... "
     ]
    },
    {
     "name": "stdout",
     "output_type": "stream",
     "text": [
      "200 OK\r\n",
      "Length: 14724 (14K) [image/png]\r\n",
      "Saving to: ‘./MyImageFiles/Image860.png’\r\n",
      "\r\n",
      "\r",
      "Image860.png          0%[                    ]       0  --.-KB/s               \r",
      "Image860.png        100%[===================>]  14.38K  --.-KB/s    in 0s      \r\n",
      "\r\n",
      "2022-11-22 20:01:50 (45.4 MB/s) - ‘./MyImageFiles/Image860.png’ saved [14724/14724]\r\n",
      "\r\n",
      "--2022-11-22 20:01:50--  http://54.243.252.9/ce-5319-webroot/1-Databases/MaterialCracking/UT-881-image_src/Image861.png\r\n",
      "Reusing existing connection to 54.243.252.9:80.\r\n",
      "HTTP request sent, awaiting response... "
     ]
    },
    {
     "name": "stdout",
     "output_type": "stream",
     "text": [
      "200 OK\r\n",
      "Length: 12874 (13K) [image/png]\r\n",
      "Saving to: ‘./MyImageFiles/Image861.png’\r\n",
      "\r\n",
      "\r",
      "Image861.png          0%[                    ]       0  --.-KB/s               \r",
      "Image861.png        100%[===================>]  12.57K  --.-KB/s    in 0s      \r\n",
      "\r\n",
      "2022-11-22 20:01:50 (38.9 MB/s) - ‘./MyImageFiles/Image861.png’ saved [12874/12874]\r\n",
      "\r\n",
      "--2022-11-22 20:01:50--  http://54.243.252.9/ce-5319-webroot/1-Databases/MaterialCracking/UT-881-image_src/Image862.png\r\n",
      "Reusing existing connection to 54.243.252.9:80.\r\n",
      "HTTP request sent, awaiting response... "
     ]
    },
    {
     "name": "stdout",
     "output_type": "stream",
     "text": [
      "200 OK\r\n",
      "Length: 14558 (14K) [image/png]\r\n",
      "Saving to: ‘./MyImageFiles/Image862.png’\r\n",
      "\r\n",
      "\r",
      "Image862.png          0%[                    ]       0  --.-KB/s               \r",
      "Image862.png        100%[===================>]  14.22K  --.-KB/s    in 0s      \r\n",
      "\r\n",
      "2022-11-22 20:01:50 (41.7 MB/s) - ‘./MyImageFiles/Image862.png’ saved [14558/14558]\r\n",
      "\r\n",
      "--2022-11-22 20:01:50--  http://54.243.252.9/ce-5319-webroot/1-Databases/MaterialCracking/UT-881-image_src/Image863.png\r\n",
      "Reusing existing connection to 54.243.252.9:80.\r\n",
      "HTTP request sent, awaiting response... "
     ]
    },
    {
     "name": "stdout",
     "output_type": "stream",
     "text": [
      "200 OK\r\n",
      "Length: 12198 (12K) [image/png]\r\n",
      "Saving to: ‘./MyImageFiles/Image863.png’\r\n",
      "\r\n",
      "\r",
      "Image863.png          0%[                    ]       0  --.-KB/s               \r",
      "Image863.png        100%[===================>]  11.91K  --.-KB/s    in 0s      \r\n",
      "\r\n",
      "2022-11-22 20:01:50 (35.3 MB/s) - ‘./MyImageFiles/Image863.png’ saved [12198/12198]\r\n",
      "\r\n",
      "--2022-11-22 20:01:50--  http://54.243.252.9/ce-5319-webroot/1-Databases/MaterialCracking/UT-881-image_src/Image864.png\r\n",
      "Reusing existing connection to 54.243.252.9:80.\r\n",
      "HTTP request sent, awaiting response... "
     ]
    },
    {
     "name": "stdout",
     "output_type": "stream",
     "text": [
      "200 OK\r\n",
      "Length: 14668 (14K) [image/png]\r\n",
      "Saving to: ‘./MyImageFiles/Image864.png’\r\n",
      "\r\n",
      "\r",
      "Image864.png          0%[                    ]       0  --.-KB/s               \r",
      "Image864.png        100%[===================>]  14.32K  --.-KB/s    in 0s      \r\n",
      "\r\n",
      "2022-11-22 20:01:50 (42.7 MB/s) - ‘./MyImageFiles/Image864.png’ saved [14668/14668]\r\n",
      "\r\n",
      "--2022-11-22 20:01:50--  http://54.243.252.9/ce-5319-webroot/1-Databases/MaterialCracking/UT-881-image_src/Image865.png\r\n",
      "Reusing existing connection to 54.243.252.9:80.\r\n",
      "HTTP request sent, awaiting response... "
     ]
    },
    {
     "name": "stdout",
     "output_type": "stream",
     "text": [
      "200 OK\r\n",
      "Length: 12428 (12K) [image/png]\r\n",
      "Saving to: ‘./MyImageFiles/Image865.png’\r\n",
      "\r\n",
      "\r",
      "Image865.png          0%[                    ]       0  --.-KB/s               \r",
      "Image865.png        100%[===================>]  12.14K  --.-KB/s    in 0s      \r\n",
      "\r\n",
      "2022-11-22 20:01:50 (43.3 MB/s) - ‘./MyImageFiles/Image865.png’ saved [12428/12428]\r\n",
      "\r\n",
      "--2022-11-22 20:01:50--  http://54.243.252.9/ce-5319-webroot/1-Databases/MaterialCracking/UT-881-image_src/Image866.png\r\n",
      "Reusing existing connection to 54.243.252.9:80.\r\n",
      "HTTP request sent, awaiting response... "
     ]
    },
    {
     "name": "stdout",
     "output_type": "stream",
     "text": [
      "200 OK\r\n",
      "Length: 13100 (13K) [image/png]\r\n",
      "Saving to: ‘./MyImageFiles/Image866.png’\r\n",
      "\r\n",
      "\r",
      "Image866.png          0%[                    ]       0  --.-KB/s               \r",
      "Image866.png        100%[===================>]  12.79K  --.-KB/s    in 0.001s  \r\n",
      "\r\n",
      "2022-11-22 20:01:50 (23.2 MB/s) - ‘./MyImageFiles/Image866.png’ saved [13100/13100]\r\n",
      "\r\n",
      "--2022-11-22 20:01:50--  http://54.243.252.9/ce-5319-webroot/1-Databases/MaterialCracking/UT-881-image_src/Image867.png\r\n",
      "Reusing existing connection to 54.243.252.9:80.\r\n",
      "HTTP request sent, awaiting response... "
     ]
    },
    {
     "name": "stdout",
     "output_type": "stream",
     "text": [
      "200 OK\r\n",
      "Length: 11050 (11K) [image/png]\r\n",
      "Saving to: ‘./MyImageFiles/Image867.png’\r\n",
      "\r\n",
      "\r",
      "Image867.png          0%[                    ]       0  --.-KB/s               \r",
      "Image867.png        100%[===================>]  10.79K  --.-KB/s    in 0s      \r\n",
      "\r\n",
      "2022-11-22 20:01:50 (32.8 MB/s) - ‘./MyImageFiles/Image867.png’ saved [11050/11050]\r\n",
      "\r\n",
      "--2022-11-22 20:01:50--  http://54.243.252.9/ce-5319-webroot/1-Databases/MaterialCracking/UT-881-image_src/Image868.png\r\n",
      "Reusing existing connection to 54.243.252.9:80.\r\n",
      "HTTP request sent, awaiting response... 200 OK\r\n",
      "Length: 15445 (15K) [image/png]\r\n",
      "Saving to: ‘./MyImageFiles/Image868.png’\r\n",
      "\r\n",
      "\r",
      "Image868.png          0%[                    ]       0  --.-KB/s               \r",
      "Image868.png        100%[===================>]  15.08K  --.-KB/s    in 0s      \r\n",
      "\r\n",
      "2022-11-22 20:01:50 (42.6 MB/s) - ‘./MyImageFiles/Image868.png’ saved [15445/15445]\r\n",
      "\r\n",
      "--2022-11-22 20:01:50--  http://54.243.252.9/ce-5319-webroot/1-Databases/MaterialCracking/UT-881-image_src/Image869.png\r\n",
      "Reusing existing connection to 54.243.252.9:80.\r\n",
      "HTTP request sent, awaiting response... "
     ]
    },
    {
     "name": "stdout",
     "output_type": "stream",
     "text": [
      "200 OK\r\n",
      "Length: 13819 (13K) [image/png]\r\n",
      "Saving to: ‘./MyImageFiles/Image869.png’\r\n",
      "\r\n",
      "\r",
      "Image869.png          0%[                    ]       0  --.-KB/s               \r",
      "Image869.png        100%[===================>]  13.50K  --.-KB/s    in 0s      \r\n",
      "\r\n",
      "2022-11-22 20:01:50 (31.7 MB/s) - ‘./MyImageFiles/Image869.png’ saved [13819/13819]\r\n",
      "\r\n",
      "--2022-11-22 20:01:50--  http://54.243.252.9/ce-5319-webroot/1-Databases/MaterialCracking/UT-881-image_src/Image870.png\r\n",
      "Reusing existing connection to 54.243.252.9:80.\r\n",
      "HTTP request sent, awaiting response... "
     ]
    },
    {
     "name": "stdout",
     "output_type": "stream",
     "text": [
      "200 OK\r\n",
      "Length: 13851 (14K) [image/png]\r\n",
      "Saving to: ‘./MyImageFiles/Image870.png’\r\n",
      "\r\n",
      "\r",
      "Image870.png          0%[                    ]       0  --.-KB/s               \r",
      "Image870.png        100%[===================>]  13.53K  --.-KB/s    in 0s      \r\n",
      "\r\n",
      "2022-11-22 20:01:50 (33.9 MB/s) - ‘./MyImageFiles/Image870.png’ saved [13851/13851]\r\n",
      "\r\n",
      "--2022-11-22 20:01:50--  http://54.243.252.9/ce-5319-webroot/1-Databases/MaterialCracking/UT-881-image_src/Image871.png\r\n",
      "Reusing existing connection to 54.243.252.9:80.\r\n",
      "HTTP request sent, awaiting response... "
     ]
    },
    {
     "name": "stdout",
     "output_type": "stream",
     "text": [
      "200 OK\r\n",
      "Length: 13148 (13K) [image/png]\r\n",
      "Saving to: ‘./MyImageFiles/Image871.png’\r\n",
      "\r\n",
      "\r",
      "Image871.png          0%[                    ]       0  --.-KB/s               \r",
      "Image871.png        100%[===================>]  12.84K  --.-KB/s    in 0s      \r\n",
      "\r\n",
      "2022-11-22 20:01:50 (27.7 MB/s) - ‘./MyImageFiles/Image871.png’ saved [13148/13148]\r\n",
      "\r\n",
      "--2022-11-22 20:01:50--  http://54.243.252.9/ce-5319-webroot/1-Databases/MaterialCracking/UT-881-image_src/Image872.png\r\n",
      "Reusing existing connection to 54.243.252.9:80.\r\n",
      "HTTP request sent, awaiting response... "
     ]
    },
    {
     "name": "stdout",
     "output_type": "stream",
     "text": [
      "200 OK\r\n",
      "Length: 15137 (15K) [image/png]\r\n",
      "Saving to: ‘./MyImageFiles/Image872.png’\r\n",
      "\r\n",
      "\r",
      "Image872.png          0%[                    ]       0  --.-KB/s               \r",
      "Image872.png        100%[===================>]  14.78K  --.-KB/s    in 0s      \r\n",
      "\r\n",
      "2022-11-22 20:01:50 (35.3 MB/s) - ‘./MyImageFiles/Image872.png’ saved [15137/15137]\r\n",
      "\r\n",
      "--2022-11-22 20:01:50--  http://54.243.252.9/ce-5319-webroot/1-Databases/MaterialCracking/UT-881-image_src/Image873.png\r\n",
      "Reusing existing connection to 54.243.252.9:80.\r\n",
      "HTTP request sent, awaiting response... "
     ]
    },
    {
     "name": "stdout",
     "output_type": "stream",
     "text": [
      "200 OK\r\n",
      "Length: 14366 (14K) [image/png]\r\n",
      "Saving to: ‘./MyImageFiles/Image873.png’\r\n",
      "\r\n",
      "\r",
      "Image873.png          0%[                    ]       0  --.-KB/s               \r",
      "Image873.png        100%[===================>]  14.03K  --.-KB/s    in 0s      \r\n",
      "\r\n",
      "2022-11-22 20:01:51 (34.3 MB/s) - ‘./MyImageFiles/Image873.png’ saved [14366/14366]\r\n",
      "\r\n",
      "--2022-11-22 20:01:51--  http://54.243.252.9/ce-5319-webroot/1-Databases/MaterialCracking/UT-881-image_src/Image874.png\r\n",
      "Reusing existing connection to 54.243.252.9:80.\r\n",
      "HTTP request sent, awaiting response... "
     ]
    },
    {
     "name": "stdout",
     "output_type": "stream",
     "text": [
      "200 OK\r\n",
      "Length: 10442 (10K) [image/png]\r\n",
      "Saving to: ‘./MyImageFiles/Image874.png’\r\n",
      "\r\n",
      "\r",
      "Image874.png          0%[                    ]       0  --.-KB/s               \r",
      "Image874.png        100%[===================>]  10.20K  --.-KB/s    in 0s      \r\n",
      "\r\n",
      "2022-11-22 20:01:51 (25.1 MB/s) - ‘./MyImageFiles/Image874.png’ saved [10442/10442]\r\n",
      "\r\n",
      "--2022-11-22 20:01:51--  http://54.243.252.9/ce-5319-webroot/1-Databases/MaterialCracking/UT-881-image_src/Image875.png\r\n",
      "Reusing existing connection to 54.243.252.9:80.\r\n",
      "HTTP request sent, awaiting response... "
     ]
    },
    {
     "name": "stdout",
     "output_type": "stream",
     "text": [
      "200 OK\r\n",
      "Length: 13563 (13K) [image/png]\r\n",
      "Saving to: ‘./MyImageFiles/Image875.png’\r\n",
      "\r\n",
      "\r",
      "Image875.png          0%[                    ]       0  --.-KB/s               \r",
      "Image875.png        100%[===================>]  13.25K  --.-KB/s    in 0s      \r\n",
      "\r\n",
      "2022-11-22 20:01:51 (33.5 MB/s) - ‘./MyImageFiles/Image875.png’ saved [13563/13563]\r\n",
      "\r\n",
      "--2022-11-22 20:01:51--  http://54.243.252.9/ce-5319-webroot/1-Databases/MaterialCracking/UT-881-image_src/Image876.png\r\n",
      "Reusing existing connection to 54.243.252.9:80.\r\n",
      "HTTP request sent, awaiting response... "
     ]
    },
    {
     "name": "stdout",
     "output_type": "stream",
     "text": [
      "200 OK\r\n",
      "Length: 10668 (10K) [image/png]\r\n",
      "Saving to: ‘./MyImageFiles/Image876.png’\r\n",
      "\r\n",
      "\r",
      "Image876.png          0%[                    ]       0  --.-KB/s               \r",
      "Image876.png        100%[===================>]  10.42K  --.-KB/s    in 0s      \r\n",
      "\r\n",
      "2022-11-22 20:01:51 (29.2 MB/s) - ‘./MyImageFiles/Image876.png’ saved [10668/10668]\r\n",
      "\r\n",
      "--2022-11-22 20:01:51--  http://54.243.252.9/ce-5319-webroot/1-Databases/MaterialCracking/UT-881-image_src/Image877.png\r\n",
      "Reusing existing connection to 54.243.252.9:80.\r\n",
      "HTTP request sent, awaiting response... "
     ]
    },
    {
     "name": "stdout",
     "output_type": "stream",
     "text": [
      "200 OK\r\n",
      "Length: 10743 (10K) [image/png]\r\n",
      "Saving to: ‘./MyImageFiles/Image877.png’\r\n",
      "\r\n",
      "\r",
      "Image877.png          0%[                    ]       0  --.-KB/s               \r",
      "Image877.png        100%[===================>]  10.49K  --.-KB/s    in 0s      \r\n",
      "\r\n",
      "2022-11-22 20:01:51 (34.9 MB/s) - ‘./MyImageFiles/Image877.png’ saved [10743/10743]\r\n",
      "\r\n",
      "--2022-11-22 20:01:51--  http://54.243.252.9/ce-5319-webroot/1-Databases/MaterialCracking/UT-881-image_src/Image878.png\r\n",
      "Reusing existing connection to 54.243.252.9:80.\r\n",
      "HTTP request sent, awaiting response... "
     ]
    },
    {
     "name": "stdout",
     "output_type": "stream",
     "text": [
      "200 OK\r\n",
      "Length: 13848 (14K) [image/png]\r\n",
      "Saving to: ‘./MyImageFiles/Image878.png’\r\n",
      "\r\n",
      "\r",
      "Image878.png          0%[                    ]       0  --.-KB/s               \r",
      "Image878.png        100%[===================>]  13.52K  --.-KB/s    in 0s      \r\n",
      "\r\n",
      "2022-11-22 20:01:51 (44.9 MB/s) - ‘./MyImageFiles/Image878.png’ saved [13848/13848]\r\n",
      "\r\n",
      "--2022-11-22 20:01:51--  http://54.243.252.9/ce-5319-webroot/1-Databases/MaterialCracking/UT-881-image_src/Image879.png\r\n",
      "Reusing existing connection to 54.243.252.9:80.\r\n",
      "HTTP request sent, awaiting response... "
     ]
    },
    {
     "name": "stdout",
     "output_type": "stream",
     "text": [
      "200 OK\r\n",
      "Length: 13953 (14K) [image/png]\r\n",
      "Saving to: ‘./MyImageFiles/Image879.png’\r\n",
      "\r\n",
      "\r",
      "Image879.png          0%[                    ]       0  --.-KB/s               \r",
      "Image879.png        100%[===================>]  13.63K  --.-KB/s    in 0s      \r\n",
      "\r\n",
      "2022-11-22 20:01:51 (41.6 MB/s) - ‘./MyImageFiles/Image879.png’ saved [13953/13953]\r\n",
      "\r\n",
      "--2022-11-22 20:01:51--  http://54.243.252.9/ce-5319-webroot/1-Databases/MaterialCracking/UT-881-image_src/Image880.png\r\n",
      "Reusing existing connection to 54.243.252.9:80.\r\n",
      "HTTP request sent, awaiting response... "
     ]
    },
    {
     "name": "stdout",
     "output_type": "stream",
     "text": [
      "200 OK\r\n",
      "Length: 14527 (14K) [image/png]\r\n",
      "Saving to: ‘./MyImageFiles/Image880.png’\r\n",
      "\r\n",
      "\r",
      "Image880.png          0%[                    ]       0  --.-KB/s               \r",
      "Image880.png        100%[===================>]  14.19K  --.-KB/s    in 0s      \r\n",
      "\r\n",
      "2022-11-22 20:01:51 (40.7 MB/s) - ‘./MyImageFiles/Image880.png’ saved [14527/14527]\r\n",
      "\r\n",
      "--2022-11-22 20:01:51--  http://54.243.252.9/ce-5319-webroot/1-Databases/MaterialCracking/UT-881-image_src/UT-881-GroundTruth.csv\r\n",
      "Reusing existing connection to 54.243.252.9:80.\r\n",
      "HTTP request sent, awaiting response... "
     ]
    },
    {
     "name": "stdout",
     "output_type": "stream",
     "text": [
      "200 OK\r\n",
      "Length: 13112 (13K) [text/csv]\r\n",
      "Saving to: ‘./MyImageFiles/UT-881-GroundTruth.csv’\r\n",
      "\r\n",
      "\r",
      "UT-881-GroundTruth.   0%[                    ]       0  --.-KB/s               \r",
      "UT-881-GroundTruth. 100%[===================>]  12.80K  --.-KB/s    in 0s      \r\n",
      "\r\n",
      "2022-11-22 20:01:51 (41.1 MB/s) - ‘./MyImageFiles/UT-881-GroundTruth.csv’ saved [13112/13112]\r\n",
      "\r\n",
      "--2022-11-22 20:01:51--  http://54.243.252.9/ce-5319-webroot/1-Databases/MaterialCracking/UT-881-image_src/?C=N;O=A\r\n",
      "Reusing existing connection to 54.243.252.9:80.\r\n",
      "HTTP request sent, awaiting response... "
     ]
    },
    {
     "name": "stdout",
     "output_type": "stream",
     "text": [
      "200 OK\r\n",
      "Length: unspecified [text/html]\r\n",
      "Saving to: ‘./MyImageFiles/index.html?C=N;O=A.tmp’\r\n",
      "\r\n",
      "\r",
      "index.html?C=N;O=A.     [<=>                 ]       0  --.-KB/s               "
     ]
    },
    {
     "name": "stdout",
     "output_type": "stream",
     "text": [
      "\r",
      "index.html?C=N;O=A.     [ <=>                ] 176.39K  --.-KB/s    in 0.1s    \r\n",
      "\r\n",
      "2022-11-22 20:01:51 (1.79 MB/s) - ‘./MyImageFiles/index.html?C=N;O=A.tmp’ saved [180622]\r\n",
      "\r\n"
     ]
    },
    {
     "name": "stdout",
     "output_type": "stream",
     "text": [
      "Removing ./MyImageFiles/index.html?C=N;O=A.tmp since it should be rejected.\r\n",
      "\r\n",
      "--2022-11-22 20:01:51--  http://54.243.252.9/ce-5319-webroot/1-Databases/MaterialCracking/UT-881-image_src/?C=M;O=D\r\n",
      "Reusing existing connection to 54.243.252.9:80.\r\n",
      "HTTP request sent, awaiting response... "
     ]
    },
    {
     "name": "stdout",
     "output_type": "stream",
     "text": [
      "200 OK\r\n",
      "Length: unspecified [text/html]\r\n",
      "Saving to: ‘./MyImageFiles/index.html?C=M;O=D.tmp’\r\n",
      "\r\n",
      "\r",
      "index.html?C=M;O=D.     [<=>                 ]       0  --.-KB/s               \r",
      "index.html?C=M;O=D.     [ <=>                ] 176.39K  --.-KB/s    in 0.006s  \r\n",
      "\r\n",
      "2022-11-22 20:01:51 (29.7 MB/s) - ‘./MyImageFiles/index.html?C=M;O=D.tmp’ saved [180622]\r\n",
      "\r\n"
     ]
    },
    {
     "name": "stdout",
     "output_type": "stream",
     "text": [
      "Removing ./MyImageFiles/index.html?C=M;O=D.tmp since it should be rejected.\r\n",
      "\r\n",
      "--2022-11-22 20:01:51--  http://54.243.252.9/ce-5319-webroot/1-Databases/MaterialCracking/UT-881-image_src/?C=S;O=D\r\n",
      "Reusing existing connection to 54.243.252.9:80.\r\n",
      "HTTP request sent, awaiting response... "
     ]
    },
    {
     "name": "stdout",
     "output_type": "stream",
     "text": [
      "200 OK\r\n",
      "Length: unspecified [text/html]\r\n",
      "Saving to: ‘./MyImageFiles/index.html?C=S;O=D.tmp’\r\n",
      "\r\n",
      "\r",
      "index.html?C=S;O=D.     [<=>                 ]       0  --.-KB/s               \r",
      "index.html?C=S;O=D.     [ <=>                ] 176.39K  --.-KB/s    in 0.005s  \r\n",
      "\r\n",
      "2022-11-22 20:01:51 (32.4 MB/s) - ‘./MyImageFiles/index.html?C=S;O=D.tmp’ saved [180622]\r\n",
      "\r\n"
     ]
    },
    {
     "name": "stdout",
     "output_type": "stream",
     "text": [
      "Removing ./MyImageFiles/index.html?C=S;O=D.tmp since it should be rejected.\r\n",
      "\r\n",
      "--2022-11-22 20:01:51--  http://54.243.252.9/ce-5319-webroot/1-Databases/MaterialCracking/UT-881-image_src/?C=D;O=D\r\n",
      "Reusing existing connection to 54.243.252.9:80.\r\n",
      "HTTP request sent, awaiting response... "
     ]
    },
    {
     "name": "stdout",
     "output_type": "stream",
     "text": [
      "200 OK\r\n",
      "Length: unspecified [text/html]\r\n",
      "Saving to: ‘./MyImageFiles/index.html?C=D;O=D.tmp’\r\n",
      "\r\n",
      "\r",
      "index.html?C=D;O=D.     [<=>                 ]       0  --.-KB/s               \r",
      "index.html?C=D;O=D.     [ <=>                ] 176.39K  --.-KB/s    in 0.004s  \r\n",
      "\r\n",
      "2022-11-22 20:01:51 (40.6 MB/s) - ‘./MyImageFiles/index.html?C=D;O=D.tmp’ saved [180622]\r\n",
      "\r\n"
     ]
    },
    {
     "name": "stdout",
     "output_type": "stream",
     "text": [
      "Removing ./MyImageFiles/index.html?C=D;O=D.tmp since it should be rejected.\r\n",
      "\r\n",
      "FINISHED --2022-11-22 20:01:51--\r\n",
      "Total wall clock time: 46s\r\n",
      "Downloaded: 891 files, 12M in 0.7s (17.1 MB/s)\r\n"
     ]
    }
   ],
   "source": [
    "####################################\n",
    "# Here is the directory \"get\" call #\n",
    "####################################\n",
    "! wget -nd -nH --no-parent --reject \"index.html*\" -e robots=off --recursive -P ./MyImageFiles http://54.243.252.9/ce-5319-webroot/1-Databases/MaterialCracking/UT-881-image_src/ \n",
    "#\n",
    "#\n",
    "#\n",
    "#"
   ]
  },
  {
   "cell_type": "code",
   "execution_count": 30,
   "metadata": {},
   "outputs": [
    {
     "name": "stdout",
     "output_type": "stream",
     "text": [
      "Image0.png    Image258.png  Image417.png  Image577.png  Image736.png\r\n",
      "Image1.png    Image259.png  Image418.png  Image578.png  Image737.png\r\n",
      "Image10.png   Image26.png   Image419.png  Image579.png  Image738.png\r\n",
      "Image100.png  Image260.png  Image42.png   Image58.png   Image739.png\r\n",
      "Image101.png  Image261.png  Image420.png  Image580.png  Image74.png\r\n",
      "Image102.png  Image262.png  Image421.png  Image581.png  Image740.png\r\n",
      "Image103.png  Image263.png  Image422.png  Image582.png  Image741.png\r\n",
      "Image104.png  Image264.png  Image423.png  Image583.png  Image742.png\r\n",
      "Image105.png  Image265.png  Image424.png  Image584.png  Image743.png\r\n",
      "Image106.png  Image266.png  Image425.png  Image585.png  Image744.png\r\n",
      "Image107.png  Image267.png  Image426.png  Image586.png  Image745.png\r\n",
      "Image108.png  Image268.png  Image427.png  Image587.png  Image746.png\r\n",
      "Image109.png  Image269.png  Image428.png  Image588.png  Image747.png\r\n",
      "Image11.png   Image27.png   Image429.png  Image589.png  Image748.png\r\n",
      "Image110.png  Image270.png  Image43.png   Image59.png   Image749.png\r\n",
      "Image111.png  Image271.png  Image430.png  Image590.png  Image75.png\r\n",
      "Image112.png  Image272.png  Image431.png  Image591.png  Image750.png\r\n",
      "Image113.png  Image273.png  Image432.png  Image592.png  Image751.png\r\n",
      "Image114.png  Image274.png  Image433.png  Image593.png  Image752.png\r\n",
      "Image115.png  Image275.png  Image434.png  Image594.png  Image753.png\r\n",
      "Image116.png  Image276.png  Image435.png  Image595.png  Image754.png\r\n",
      "Image117.png  Image277.png  Image436.png  Image596.png  Image755.png\r\n",
      "Image118.png  Image278.png  Image437.png  Image597.png  Image756.png\r\n",
      "Image119.png  Image279.png  Image438.png  Image598.png  Image757.png\r\n",
      "Image12.png   Image28.png   Image439.png  Image599.png  Image758.png\r\n",
      "Image120.png  Image280.png  Image44.png   Image6.png    Image759.png\r\n",
      "Image121.png  Image281.png  Image440.png  Image60.png   Image76.png\r\n",
      "Image122.png  Image282.png  Image441.png  Image600.png  Image760.png\r\n",
      "Image123.png  Image283.png  Image442.png  Image601.png  Image761.png\r\n",
      "Image124.png  Image284.png  Image443.png  Image602.png  Image762.png\r\n",
      "Image125.png  Image285.png  Image444.png  Image603.png  Image763.png\r\n",
      "Image126.png  Image286.png  Image445.png  Image604.png  Image764.png\r\n",
      "Image127.png  Image287.png  Image446.png  Image605.png  Image765.png\r\n",
      "Image128.png  Image288.png  Image447.png  Image606.png  Image766.png\r\n",
      "Image129.png  Image289.png  Image448.png  Image607.png  Image767.png\r\n",
      "Image13.png   Image29.png   Image449.png  Image608.png  Image768.png\r\n",
      "Image130.png  Image290.png  Image45.png   Image609.png  Image769.png\r\n",
      "Image131.png  Image291.png  Image450.png  Image61.png   Image77.png\r\n",
      "Image132.png  Image292.png  Image451.png  Image610.png  Image770.png\r\n",
      "Image133.png  Image293.png  Image452.png  Image611.png  Image771.png\r\n",
      "Image134.png  Image294.png  Image453.png  Image612.png  Image772.png\r\n",
      "Image135.png  Image295.png  Image454.png  Image613.png  Image773.png\r\n",
      "Image136.png  Image296.png  Image455.png  Image614.png  Image774.png\r\n",
      "Image137.png  Image297.png  Image456.png  Image615.png  Image775.png\r\n",
      "Image138.png  Image298.png  Image457.png  Image616.png  Image776.png\r\n",
      "Image139.png  Image299.png  Image458.png  Image617.png  Image777.png\r\n",
      "Image14.png   Image3.png    Image459.png  Image618.png  Image778.png\r\n",
      "Image140.png  Image30.png   Image46.png   Image619.png  Image779.png\r\n",
      "Image141.png  Image300.png  Image460.png  Image62.png   Image78.png\r\n",
      "Image142.png  Image301.png  Image461.png  Image620.png  Image780.png\r\n",
      "Image143.png  Image302.png  Image462.png  Image621.png  Image781.png\r\n",
      "Image144.png  Image303.png  Image463.png  Image622.png  Image782.png\r\n",
      "Image145.png  Image304.png  Image464.png  Image623.png  Image783.png\r\n",
      "Image146.png  Image305.png  Image465.png  Image624.png  Image784.png\r\n",
      "Image147.png  Image306.png  Image466.png  Image625.png  Image785.png\r\n",
      "Image148.png  Image307.png  Image467.png  Image626.png  Image786.png\r\n",
      "Image149.png  Image308.png  Image468.png  Image627.png  Image787.png\r\n",
      "Image15.png   Image309.png  Image469.png  Image628.png  Image788.png\r\n",
      "Image150.png  Image31.png   Image47.png   Image629.png  Image789.png\r\n",
      "Image151.png  Image310.png  Image470.png  Image63.png   Image79.png\r\n",
      "Image152.png  Image311.png  Image471.png  Image630.png  Image790.png\r\n",
      "Image153.png  Image312.png  Image472.png  Image631.png  Image791.png\r\n",
      "Image154.png  Image313.png  Image473.png  Image632.png  Image792.png\r\n",
      "Image155.png  Image314.png  Image474.png  Image633.png  Image793.png\r\n",
      "Image156.png  Image315.png  Image475.png  Image634.png  Image794.png\r\n",
      "Image157.png  Image316.png  Image476.png  Image635.png  Image795.png\r\n",
      "Image158.png  Image317.png  Image477.png  Image636.png  Image796.png\r\n",
      "Image159.png  Image318.png  Image478.png  Image637.png  Image797.png\r\n",
      "Image16.png   Image319.png  Image479.png  Image638.png  Image798.png\r\n",
      "Image160.png  Image32.png   Image48.png   Image639.png  Image799.png\r\n",
      "Image161.png  Image320.png  Image480.png  Image64.png   Image8.png\r\n",
      "Image162.png  Image321.png  Image481.png  Image640.png  Image80.png\r\n",
      "Image163.png  Image322.png  Image482.png  Image641.png  Image800.png\r\n",
      "Image164.png  Image323.png  Image483.png  Image642.png  Image801.png\r\n",
      "Image165.png  Image324.png  Image484.png  Image643.png  Image802.png\r\n",
      "Image166.png  Image325.png  Image485.png  Image644.png  Image803.png\r\n",
      "Image167.png  Image326.png  Image486.png  Image645.png  Image804.png\r\n",
      "Image168.png  Image327.png  Image487.png  Image646.png  Image805.png\r\n",
      "Image169.png  Image328.png  Image488.png  Image647.png  Image806.png\r\n",
      "Image17.png   Image329.png  Image489.png  Image648.png  Image807.png\r\n",
      "Image170.png  Image33.png   Image49.png   Image649.png  Image808.png\r\n",
      "Image171.png  Image330.png  Image490.png  Image65.png   Image809.png\r\n",
      "Image172.png  Image331.png  Image491.png  Image650.png  Image81.png\r\n",
      "Image173.png  Image332.png  Image492.png  Image651.png  Image810.png\r\n",
      "Image174.png  Image333.png  Image493.png  Image652.png  Image811.png\r\n",
      "Image175.png  Image334.png  Image494.png  Image653.png  Image812.png\r\n",
      "Image176.png  Image335.png  Image495.png  Image654.png  Image813.png\r\n",
      "Image177.png  Image336.png  Image496.png  Image655.png  Image814.png\r\n",
      "Image178.png  Image337.png  Image497.png  Image656.png  Image815.png\r\n",
      "Image179.png  Image338.png  Image498.png  Image657.png  Image816.png\r\n",
      "Image18.png   Image339.png  Image499.png  Image658.png  Image817.png\r\n",
      "Image180.png  Image34.png   Image5.png    Image659.png  Image818.png\r\n",
      "Image181.png  Image340.png  Image50.png   Image66.png   Image819.png\r\n",
      "Image182.png  Image341.png  Image500.png  Image660.png  Image82.png\r\n",
      "Image183.png  Image342.png  Image501.png  Image661.png  Image820.png\r\n",
      "Image184.png  Image343.png  Image502.png  Image662.png  Image821.png\r\n",
      "Image185.png  Image344.png  Image503.png  Image663.png  Image822.png\r\n",
      "Image186.png  Image345.png  Image504.png  Image664.png  Image823.png\r\n",
      "Image187.png  Image346.png  Image505.png  Image665.png  Image824.png\r\n",
      "Image188.png  Image347.png  Image506.png  Image666.png  Image825.png\r\n",
      "Image189.png  Image348.png  Image507.png  Image667.png  Image826.png\r\n",
      "Image19.png   Image349.png  Image508.png  Image668.png  Image827.png\r\n",
      "Image190.png  Image35.png   Image509.png  Image669.png  Image828.png\r\n",
      "Image191.png  Image350.png  Image51.png   Image67.png   Image829.png\r\n",
      "Image192.png  Image351.png  Image510.png  Image670.png  Image83.png\r\n",
      "Image193.png  Image352.png  Image511.png  Image671.png  Image830.png\r\n",
      "Image194.png  Image353.png  Image512.png  Image672.png  Image831.png\r\n",
      "Image195.png  Image354.png  Image513.png  Image673.png  Image832.png\r\n",
      "Image196.png  Image355.png  Image514.png  Image674.png  Image833.png\r\n",
      "Image197.png  Image356.png  Image515.png  Image675.png  Image834.png\r\n",
      "Image198.png  Image357.png  Image516.png  Image676.png  Image835.png\r\n",
      "Image199.png  Image358.png  Image517.png  Image677.png  Image836.png\r\n",
      "Image2.png    Image359.png  Image518.png  Image678.png  Image837.png\r\n",
      "Image20.png   Image36.png   Image519.png  Image679.png  Image838.png\r\n",
      "Image200.png  Image360.png  Image52.png   Image68.png   Image839.png\r\n",
      "Image201.png  Image361.png  Image520.png  Image680.png  Image84.png\r\n",
      "Image202.png  Image362.png  Image521.png  Image681.png  Image840.png\r\n",
      "Image203.png  Image363.png  Image522.png  Image682.png  Image841.png\r\n",
      "Image204.png  Image364.png  Image523.png  Image683.png  Image842.png\r\n",
      "Image205.png  Image365.png  Image524.png  Image684.png  Image843.png\r\n",
      "Image206.png  Image366.png  Image525.png  Image685.png  Image844.png\r\n",
      "Image207.png  Image367.png  Image526.png  Image686.png  Image845.png\r\n",
      "Image208.png  Image368.png  Image527.png  Image687.png  Image846.png\r\n",
      "Image209.png  Image369.png  Image528.png  Image688.png  Image847.png\r\n",
      "Image21.png   Image37.png   Image529.png  Image689.png  Image848.png\r\n",
      "Image210.png  Image370.png  Image53.png   Image69.png   Image849.png\r\n",
      "Image211.png  Image371.png  Image530.png  Image690.png  Image85.png\r\n",
      "Image212.png  Image372.png  Image531.png  Image691.png  Image850.png\r\n",
      "Image213.png  Image373.png  Image532.png  Image692.png  Image851.png\r\n",
      "Image214.png  Image374.png  Image533.png  Image693.png  Image852.png\r\n",
      "Image215.png  Image375.png  Image534.png  Image694.png  Image853.png\r\n",
      "Image216.png  Image376.png  Image535.png  Image695.png  Image854.png\r\n",
      "Image217.png  Image377.png  Image536.png  Image696.png  Image855.png\r\n",
      "Image218.png  Image378.png  Image537.png  Image697.png  Image856.png\r\n",
      "Image219.png  Image379.png  Image538.png  Image698.png  Image857.png\r\n",
      "Image22.png   Image38.png   Image539.png  Image699.png  Image858.png\r\n",
      "Image220.png  Image380.png  Image54.png   Image7.png    Image859.png\r\n",
      "Image221.png  Image381.png  Image540.png  Image70.png   Image86.png\r\n",
      "Image222.png  Image382.png  Image541.png  Image700.png  Image860.png\r\n",
      "Image223.png  Image383.png  Image542.png  Image701.png  Image861.png\r\n",
      "Image224.png  Image384.png  Image543.png  Image702.png  Image862.png\r\n",
      "Image225.png  Image385.png  Image544.png  Image703.png  Image863.png\r\n",
      "Image226.png  Image386.png  Image545.png  Image704.png  Image864.png\r\n",
      "Image227.png  Image387.png  Image546.png  Image705.png  Image865.png\r\n",
      "Image228.png  Image388.png  Image547.png  Image706.png  Image866.png\r\n",
      "Image229.png  Image389.png  Image548.png  Image707.png  Image867.png\r\n",
      "Image23.png   Image39.png   Image549.png  Image708.png  Image868.png\r\n",
      "Image230.png  Image390.png  Image55.png   Image709.png  Image869.png\r\n",
      "Image231.png  Image391.png  Image550.png  Image71.png   Image87.png\r\n",
      "Image232.png  Image392.png  Image551.png  Image710.png  Image870.png\r\n",
      "Image233.png  Image393.png  Image552.png  Image711.png  Image871.png\r\n",
      "Image234.png  Image394.png  Image553.png  Image712.png  Image872.png\r\n",
      "Image235.png  Image395.png  Image554.png  Image713.png  Image873.png\r\n",
      "Image236.png  Image396.png  Image555.png  Image714.png  Image874.png\r\n",
      "Image237.png  Image397.png  Image556.png  Image715.png  Image875.png\r\n",
      "Image238.png  Image398.png  Image557.png  Image716.png  Image876.png\r\n",
      "Image239.png  Image399.png  Image558.png  Image717.png  Image877.png\r\n",
      "Image24.png   Image4.png    Image559.png  Image718.png  Image878.png\r\n",
      "Image240.png  Image40.png   Image56.png   Image719.png  Image879.png\r\n",
      "Image241.png  Image400.png  Image560.png  Image72.png   Image88.png\r\n",
      "Image242.png  Image401.png  Image561.png  Image720.png  Image880.png\r\n",
      "Image243.png  Image402.png  Image562.png  Image721.png  Image89.png\r\n",
      "Image244.png  Image403.png  Image563.png  Image722.png  Image9.png\r\n",
      "Image245.png  Image404.png  Image564.png  Image723.png  Image90.png\r\n",
      "Image246.png  Image405.png  Image565.png  Image724.png  Image91.png\r\n",
      "Image247.png  Image406.png  Image566.png  Image725.png  Image92.png\r\n",
      "Image248.png  Image407.png  Image567.png  Image726.png  Image93.png\r\n",
      "Image249.png  Image408.png  Image568.png  Image727.png  Image94.png\r\n",
      "Image25.png   Image409.png  Image569.png  Image728.png  Image95.png\r\n",
      "Image250.png  Image41.png   Image57.png   Image729.png  Image96.png\r\n",
      "Image251.png  Image410.png  Image570.png  Image73.png   Image97.png\r\n",
      "Image252.png  Image411.png  Image571.png  Image730.png  Image98.png\r\n",
      "Image253.png  Image412.png  Image572.png  Image731.png  Image99.png\r\n",
      "Image254.png  Image413.png  Image573.png  Image732.png  UT-881-GroundTruth.csv\r\n",
      "Image255.png  Image414.png  Image574.png  Image733.png\r\n",
      "Image256.png  Image415.png  Image575.png  Image734.png\r\n",
      "Image257.png  Image416.png  Image576.png  Image735.png\r\n"
     ]
    }
   ],
   "source": [
    "# magic function to show contents of MyImageFiles \n",
    "# Now we have all the files local to our machine!\n",
    "%ls ./MyImageFiles/"
   ]
  },
  {
   "cell_type": "code",
   "execution_count": 31,
   "metadata": {},
   "outputs": [],
   "source": [
    "import requests # Module to process http/https requests\n",
    "remote_url=\"http://54.243.252.9/ce-5319-webroot/1-Databases/ConcreteMixtures/concreteData.csv\"  # set the url\n",
    "response = requests.get(remote_url, allow_redirects=True)  # get the remote resource, follow imbedded links\n",
    "open('concreteData.csv','wb').write(response.content); # extract from the remote the contents, assign to a local file same name"
   ]
  }
 ],
 "metadata": {
  "kernelspec": {
   "display_name": "Python 3",
   "language": "python",
   "name": "python3"
  },
  "language_info": {
   "codemirror_mode": {
    "name": "ipython",
    "version": 3
   },
   "file_extension": ".py",
   "mimetype": "text/x-python",
   "name": "python",
   "nbconvert_exporter": "python",
   "pygments_lexer": "ipython3",
   "version": "3.8.10"
  }
 },
 "nbformat": 4,
 "nbformat_minor": 4
}