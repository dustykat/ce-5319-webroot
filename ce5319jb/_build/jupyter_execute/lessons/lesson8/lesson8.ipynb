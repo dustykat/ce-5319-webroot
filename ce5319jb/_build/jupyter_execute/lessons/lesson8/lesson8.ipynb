{
 "cells": [
  {
   "cell_type": "markdown",
   "metadata": {},
   "source": [
    "# Exploratory Data Analysis"
   ]
  },
  {
   "cell_type": "markdown",
   "metadata": {},
   "source": [
    "## Concepts\n",
    "\n",
    "Before performing any advanced calculations, it is important to understand the data.  For example image data may be in different structural formats that your code accepts - you have to supply the rotations yourself, the only way to figure out how to wrassle the images is to examine one (as data) to learn the structure.  This effort is solidly in the domain of exploratory data analysis (EDA).\n",
    "\n",
    "EDA was advocated by [Tukey, J (1977) Exploratory Data Analysis](http://54.243.252.9/ce-5319-webroot/3-Readings/102_05_01_Tukey-Exploratory-Data-Analysis-1977.pdf) and its goal is to provide initial insights into the data, and guidance of how to proceede with an analysis. EDA uses summary measures and visualization to understand data. There are no rigorous analyses carried out\n",
    "\n",
    "The objective of EDA is to look for patterns and unique features in the dataset. We try to see things that we do not initially think about. How to do EDA is subjective (there are no set rules;there are no set of tools or procedures) for performing EDA. Knowing some particular data summary and visualization tools is about the best one can do - so we proceede with those.\n",
    "\n",
    "EDA can be reasonably classified into \n",
    "\n",
    "1. Exploratory Analysis using Data Summaries\n",
    "  - Descriptive Statistics\n",
    "  - Record lengths\n",
    "  - Array shapes\n",
    "  - ...\n",
    "  - ...\n",
    "  \n",
    "2. Exploratory Analysis using Visual Summaries\n",
    "  - Scatter plots\n",
    "  - Box-Plots\n",
    "  - Histograms\n",
    "  - Contour Plots\n",
    "  - Violin Plots\n",
    "  - ...\n",
    "  - ...\n",
    "  \n",
    "Tukey himself is credited with the invention of the modern Box-Plot although there is no doubt that it preceeded his introduction of it in his 1977 book (linked above)."
   ]
  },
  {
   "cell_type": "markdown",
   "metadata": {},
   "source": []
  },
  {
   "cell_type": "markdown",
   "metadata": {},
   "source": [
    "lorem ipsum"
   ]
  },
  {
   "cell_type": "markdown",
   "metadata": {},
   "source": [
    "## topic\n",
    "\n",
    "### Subtopic\n",
    "lorem ipsum\n",
    "\n"
   ]
  },
  {
   "cell_type": "markdown",
   "metadata": {},
   "source": [
    "## References\n",
    "1. [Tukey, J (1977). Exploratory Data Analysis. Addison-Wessley (Amazon)](https://www.amazon.com/Exploratory-Data-Analysis-John-Tukey/dp/0201076160)\n",
    "\n",
    "2. [Tukey, J (1977). Exploratory Data Analysis. Addison-Wessley (Copy)](http://54.243.252.9/ce-5319-webroot/3-Readings/102_05_01_Tukey-Exploratory-Data-Analysis-1977.pdf)\n",
    "\n",
    "3. [Applications of Statistics in Water Resources (TWRI Book 4 A3) ](http://54.243.252.9/ce-5319-webroot/3-Readings/tm4a3.pdf)"
   ]
  },
  {
   "cell_type": "code",
   "execution_count": null,
   "metadata": {},
   "outputs": [],
   "source": []
  }
 ],
 "metadata": {
  "kernelspec": {
   "display_name": "Python 3",
   "language": "python",
   "name": "python3"
  },
  "language_info": {
   "codemirror_mode": {
    "name": "ipython",
    "version": 3
   },
   "file_extension": ".py",
   "mimetype": "text/x-python",
   "name": "python",
   "nbconvert_exporter": "python",
   "pygments_lexer": "ipython3",
   "version": "3.8.10"
  }
 },
 "nbformat": 4,
 "nbformat_minor": 4
}