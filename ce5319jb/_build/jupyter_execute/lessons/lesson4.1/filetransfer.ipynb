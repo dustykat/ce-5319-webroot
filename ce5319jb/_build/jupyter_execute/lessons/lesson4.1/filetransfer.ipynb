{
 "cells": [
  {
   "cell_type": "markdown",
   "metadata": {},
   "source": [
    "# Transferring Data Files\n",
    "\n",
    "The purpose of this section is to document file management for ML applications.\n",
    "\n",
    "We need data to feed our learners, we supply than in files.  Where those files reside matters.  This section discusses how to manage local files (on our machine) and access remote files (actually automated downloads)."
   ]
  }
 ],
 "metadata": {
  "kernelspec": {
   "display_name": "Python 3",
   "language": "python",
   "name": "python3"
  },
  "language_info": {
   "codemirror_mode": {
    "name": "ipython",
    "version": 3
   },
   "file_extension": ".py",
   "mimetype": "text/x-python",
   "name": "python",
   "nbconvert_exporter": "python",
   "pygments_lexer": "ipython3",
   "version": "3.8.10"
  }
 },
 "nbformat": 4,
 "nbformat_minor": 4
}