{
 "cells": [
  {
   "cell_type": "markdown",
   "metadata": {},
   "source": [
    "# Non-Linear Regression"
   ]
  },
  {
   "cell_type": "markdown",
   "metadata": {},
   "source": [
    "Nonlinear regression is a form of regression analysis in which observational data are modeled by a function which is a **nonlinear** combination of the model parameters and depends on one or more independent (predictor, explainatory, feature ...) variables. The data are fitted by a method of successive approximations. \n"
   ]
  },
  {
   "cell_type": "markdown",
   "metadata": {},
   "source": [
    "In nonlinear regression, a statistical model of the form,\n",
    "\n",
    "$${\\displaystyle \\mathbf {y} \\sim f(\\mathbf {x} ,{\\boldsymbol {\\beta }})}$$\n",
    "\n",
    "relates a vector of independent variables, $ \\mathbf {x}$ , and its associated observed dependent variables, $\\mathbf {y} $. The function $ f$ is nonlinear in the components of the vector of parameters $ \\beta$ , but otherwise arbitrary. For example, the Michaelis–Menten model for enzyme kinetics has two parameters and one independent variable, related by $ f $ by\n",
    "\n",
    "$$f(x,{\\boldsymbol \\beta })={\\frac {\\beta _{1}x}{\\beta _{2}+x}}$$\n",
    "\n",
    ":::{note}\n",
    "In this example from Wikipedia, domain knowledge is implicit in the machine learning aspect of the example.  As said in class, we have to understand the process we are trying to model to some level, otherwise a mere statistician could ahndle the work (and most can with our guidance!)\n",
    ":::\n",
    "\n",
    "This function is nonlinear because it cannot be expressed as a linear combination of the two $ \\beta $s.\n",
    "\n",
    "Systematic error may be present in the independent variables but its treatment is outside the scope of regression analysis. If the independent variables are not error-free, this is an errors-in-variables model, also outside this scope.\n",
    "\n",
    "Other examples of nonlinear functions include exponential functions, logarithmic functions, trigonometric functions, power functions, Gaussian function, and Lorentz distributions. Some functions, such as the exponential or logarithmic functions, can be transformed so that they are linear. When so transformed, standard linear regression can be performed but must be interpreted with caution. \n",
    "\n",
    "In general, there is no closed-form expression for the best-fitting parameters, as there is in linear regression. Usually numerical **optimization algorithms** are applied to determine the best-fitting parameters. Again in contrast to linear regression, there may be many local minima of the function to be optimized and even the global minimum may produce a biased estimate. In practice, estimated values of the parameters are used, in conjunction with the optimization algorithm, to attempt to find the global minimum of a sum of squares or some other objective (merit, cost, value, quality) function.\n"
   ]
  },
  {
   "cell_type": "markdown",
   "metadata": {},
   "source": [
    "lorem ipsum"
   ]
  },
  {
   "cell_type": "markdown",
   "metadata": {},
   "source": [
    "## topic\n",
    "\n",
    "### Subtopic\n",
    "lorem ipsum\n",
    "\n"
   ]
  },
  {
   "cell_type": "markdown",
   "metadata": {},
   "source": [
    "## References\n",
    "1. Chan, Jamie. Machine Learning With Python For Beginners: A Step-By-Step Guide with Hands-On Projects (Learn Coding Fast with Hands-On Project Book 7) (p. 2). Kindle Edition. "
   ]
  },
  {
   "cell_type": "code",
   "execution_count": null,
   "metadata": {},
   "outputs": [],
   "source": []
  }
 ],
 "metadata": {
  "kernelspec": {
   "display_name": "Python 3",
   "language": "python",
   "name": "python3"
  },
  "language_info": {
   "codemirror_mode": {
    "name": "ipython",
    "version": 3
   },
   "file_extension": ".py",
   "mimetype": "text/x-python",
   "name": "python",
   "nbconvert_exporter": "python",
   "pygments_lexer": "ipython3",
   "version": "3.8.10"
  }
 },
 "nbformat": 4,
 "nbformat_minor": 4
}