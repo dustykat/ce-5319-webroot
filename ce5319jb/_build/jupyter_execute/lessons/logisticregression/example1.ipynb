{
 "cells": [
  {
   "cell_type": "markdown",
   "metadata": {},
   "source": [
    "# Simple Logistic Regression Examples\n",
    "\n",
    "Logistic regression is a type of model fitting exercise where the **observed** responses are binary encoded (0,1).  The input design matrix is a collection of features much like ordinary linear regression. \n",
    "\n",
    "The logistic function is \n",
    "\n",
    "$$\\pi_i(\\beta) = \\frac{e^{X_i~\\beta}}{1+e^{X_i~\\beta}} $$\n",
    "\n",
    "where $X_i$ is the i-th row of the design matrix, and $\\beta$ are unknown coefficients.\n",
    "\n",
    "The associated optimization problem is to minimize some measure of error between the model values (above) and the observed values, typically a squared error is considered.\n",
    "\n",
    "If we consider a single observatyon $Y_i$ its value is either 0 or 1.  So the error is\n",
    "\n",
    "$$\\epsilon_i = Y_i - \\pi_i(\\beta) = Y_i - \\frac{e^{X_i~\\beta}}{1+e^{X_i~\\beta}} $$\n",
    "\n",
    "The function we wish to minimize is \n",
    "\n",
    "$$\\min_{\\beta} (Y - \\pi(\\beta))^T(Y-\\pi(\\beta))$$\n",
    "\n",
    "The minimization method is a matter of analyst preference - these are usually well behaved minimization problems (the examples will use [Powell's Direction Set Method](https://en.wikipedia.org/wiki/Powell%27s_method), and the [Broyden–Fletcher–Goldfarb–Shanno](https://machinelearningmastery.com/bfgs-optimization-in-python/) algorithm; most professional tools operate on the logarithm of the components to avoid numerical overflow during the minimization process.  \n",
    "\n",
    ":::{note}\n",
    "Powell's method is robust and comparatively simple to program, here is some older code [Powell's Method FORTRAN source code](https://github.com/dustykat/powell-search-tool) that is fairly readable and still works today!\n",
    ":::\n",
    "\n",
    "The model result $\\pi_i$ will range between 0 and 1, and can be interpreted as a probability that the inputs predict a value of 1.  Normally the decision boundary is set at 0.5, so when the model is cast into a prediction engine it will first compute a $\\pi_i$ value, then apply the decision boundary rule to either snap the result to 1 or 0 as indicated by the probability.  \n",
    "\n",
    "The example below should help clarify a bit.\n",
    "\n",
    "## Example 1 \n",
    "\n",
    "A systems analyst studied the effect of experience on ability to complete a complex task within a specified time.\n",
    "The participants had varying amounts of experience measured in months as shown in the table below, where E represents months of experience, and S is binary 0=FAIL, 1=SUCCESS\n",
    "\n",
    "```\n",
    " E  S\n",
    "14  0  \n",
    "29  0  \n",
    " 6  0  \n",
    "25  1  \n",
    "18  1  \n",
    " 4  0  \n",
    "18  0  \n",
    "12  0  \n",
    "22  1  \n",
    " 6  0  \n",
    "30  1  \n",
    "11  0  \n",
    "30  1  \n",
    " 5  0  \n",
    "20  1  \n",
    "13  0  \n",
    " 9  0  \n",
    "32  1  \n",
    "24  0  \n",
    "13  1  \n",
    "19  0  \n",
    " 4  0  \n",
    "28  1  \n",
    "22  1  \n",
    " 8  1  \n",
    "```\n",
    "\n",
    "Perform a logistic regression and estimate the experience required to ensure sucess with an empirical probability of 75 percent."
   ]
  },
  {
   "cell_type": "code",
   "execution_count": 1,
   "metadata": {},
   "outputs": [],
   "source": [
    "# Load the data\n",
    "experience=[14,29,6,25,18,4,18,12,22,6,30,11,30,5,20,13,9,32,24,13,19,4,28,22,8]\n",
    "result=[0,0,0,1,1,0,0,0,1,0,1,0,1,0,1,0,0,1,0,1,0,0,1,1,1]"
   ]
  },
  {
   "cell_type": "markdown",
   "metadata": {},
   "source": [
    "Now lets plot the data and see what we can learn, later on we will need a model and data plot on same figure, so just build it here"
   ]
  },
  {
   "cell_type": "code",
   "execution_count": 2,
   "metadata": {},
   "outputs": [],
   "source": [
    "# Load a Plotting Tool\n",
    "import matplotlib.pyplot as plt\n",
    "def make1plot(listx1,listy1,strlablx,strlably,strtitle):\n",
    "    mydata = plt.figure(figsize = (6,6)) # build a square drawing canvass from figure class\n",
    "    plt.plot(listx1,listy1, c='red', marker='o',linewidth=0) # basic data plot\n",
    "    plt.xlabel(strlablx)\n",
    "    plt.ylabel(strlably)\n",
    "    plt.legend(['Data','Model'])# modify for argument insertion\n",
    "    plt.title(strtitle)\n",
    "    plt.grid(axis='y')\n",
    "    plt.show()\n",
    "def make2plot(listx1,listy1,listx2,listy2,strlablx,strlably,strtitle):\n",
    "    mydata = plt.figure(figsize = (6,6)) # build a square drawing canvass from figure class\n",
    "    plt.plot(listx1,listy1, c='red', marker='o',linewidth=0) # basic data plot\n",
    "    plt.plot(listx2,listy2, c='blue',linewidth=1) # basic model plot\n",
    "    plt.xlabel(strlablx)\n",
    "    plt.ylabel(strlably)\n",
    "    plt.legend(['Data','Model'])# modify for argument insertion\n",
    "    plt.title(strtitle)\n",
    "    plt.grid(axis='y')\n",
    "    plt.show()"
   ]
  },
  {
   "cell_type": "markdown",
   "metadata": {},
   "source": [
    "Now plot the data"
   ]
  },
  {
   "cell_type": "code",
   "execution_count": 3,
   "metadata": {},
   "outputs": [
    {
     "data": {
      "image/png": "[encoded data removed]",
      "text/plain": [
       "<Figure size 432x432 with 1 Axes>"
      ]
     },
     "metadata": {
      "filenames": {
       "image/png": "/home/sensei/ce-5319-webroot/ce5319jb/_build/jupyter_execute/lessons/logisticregression/example1_5_0.png"
      },
      "needs_background": "light"
     },
     "output_type": "display_data"
    }
   ],
   "source": [
    "make1plot(experience,result,\"Experience (months)\",\"Success in Task\",\"Success vs Experience\")"
   ]
  },
  {
   "cell_type": "markdown",
   "metadata": {},
   "source": [
    "Now a logistic model, we will need 3 prototype functions; a sigmoid function, an error function (here we use sum of squared error) and a merit function to minimize by changing $\\beta_0$ and $\\beta_1$.\n",
    "\n",
    "The sigmoid function is\n",
    "\n",
    "$$\\pi_i = \\frac{e^{\\beta_0 + \\beta_1 X_i}}{1+e^{\\beta_0 + \\beta_1 X_i}} $$\n"
   ]
  },
  {
   "cell_type": "code",
   "execution_count": 4,
   "metadata": {},
   "outputs": [],
   "source": [
    "def pii(b0,b1,x): #sigmoidal function\n",
    "    import math\n",
    "    pii = math.exp(b0+b1*x)/(1+ math.exp(b0+b1*x))\n",
    "    return(pii)\n",
    "\n",
    "def sse(mod,obs): #compute sse from observations and model values\n",
    "    howmany = len(mod)\n",
    "    sse=0.0\n",
    "    for i in range(howmany):\n",
    "        sse=sse+(mod[i]-obs[i])**2\n",
    "    return(sse)\n",
    "\n",
    "def merit(beta): # merit function to minimize\n",
    "    global result,experience #access lists already defined external to function\n",
    "    mod=[0 for i in range(len(experience))]\n",
    "    for i in range(len(experience)):\n",
    "        mod[i]=pii(beta[0],beta[1],experience[i])\n",
    "    merit = sse(mod,result)\n",
    "    return(merit)"
   ]
  },
  {
   "cell_type": "markdown",
   "metadata": {},
   "source": [
    "Now we will attempt to minimize the merit function by changing values of $\\beta$, first lets apply an initial value and check that our merit function works"
   ]
  },
  {
   "cell_type": "code",
   "execution_count": 5,
   "metadata": {},
   "outputs": [
    {
     "data": {
      "text/plain": [
       "6.25"
      ]
     },
     "execution_count": 5,
     "metadata": {},
     "output_type": "execute_result"
    }
   ],
   "source": [
    "beta = [0,0] #initial guess of betas\n",
    "merit(beta) #check that does not raise an exception"
   ]
  },
  {
   "cell_type": "markdown",
   "metadata": {},
   "source": [
    "Good we obtained a value, and not an error, now an optimizer"
   ]
  },
  {
   "cell_type": "code",
   "execution_count": 6,
   "metadata": {},
   "outputs": [
    {
     "name": "stdout",
     "output_type": "stream",
     "text": [
      "Optimization terminated successfully.\n",
      "         Current function value: 4.199713\n",
      "         Iterations: 5\n",
      "         Function evaluations: 145\n"
     ]
    }
   ],
   "source": [
    "import numpy as np\n",
    "from scipy.optimize import minimize\n",
    "\n",
    "#x0 = np.array([-3.0597,0.1615])\n",
    "x0 = np.array(beta)\n",
    "res = minimize(merit, x0, method='powell',options={'disp': True})"
   ]
  },
  {
   "cell_type": "markdown",
   "metadata": {},
   "source": [
    "Yay! It found some answer, examine and plot the findings"
   ]
  },
  {
   "cell_type": "code",
   "execution_count": 7,
   "metadata": {},
   "outputs": [
    {
     "name": "stdout",
     "output_type": "stream",
     "text": [
      " b0 =  -2.982390266878914\n",
      " b1 =  0.15954743797099522\n"
     ]
    },
    {
     "data": {
      "image/png": "[encoded data removed]",
      "text/plain": [
       "<Figure size 432x432 with 1 Axes>"
      ]
     },
     "metadata": {
      "filenames": {
       "image/png": "/home/sensei/ce-5319-webroot/ce5319jb/_build/jupyter_execute/lessons/logisticregression/example1_13_1.png"
      },
      "needs_background": "light"
     },
     "output_type": "display_data"
    }
   ],
   "source": [
    "fitted=[0 for i in range(40)]\n",
    "xaxis =[0 for i in range(40)]\n",
    "beta[0]=res.x[0]\n",
    "beta[1]=res.x[1]\n",
    "for i in range(40):\n",
    "    xaxis[i]=float(i)\n",
    "    fitted[i]=pii(res.x[0],res.x[1],float(i))\n",
    "    \n",
    "print(\" b0 = \",res.x[0])\n",
    "print(\" b1 = \",res.x[1])\n",
    "plottitle = 'Sucess vs Experience and\\n Fitted Logistic Response Function\\n'+'b0: '+ str(round(res.x[0],4))+ ' b1: ' +str(round(res.x[1],4))\n",
    "make2plot(experience,result,xaxis,fitted,'Experience (months)','Sucess in Task',plottitle)"
   ]
  },
  {
   "cell_type": "markdown",
   "metadata": {},
   "source": [
    "Now to recover estimates of success for different experience levels"
   ]
  },
  {
   "cell_type": "code",
   "execution_count": 8,
   "metadata": {},
   "outputs": [
    {
     "data": {
      "text/plain": [
       "0.7476408418994896"
      ]
     },
     "execution_count": 8,
     "metadata": {},
     "output_type": "execute_result"
    }
   ],
   "source": [
    "guess = 25.5\n",
    "pii(res.x[0],res.x[1],guess)"
   ]
  },
  {
   "cell_type": "markdown",
   "metadata": {},
   "source": [
    "So we expect that someone with 25 to 26 months of experience would have a 75 percent chance of success.  Similarily the time to median success is 18 months and 3 weeks."
   ]
  },
  {
   "cell_type": "code",
   "execution_count": 9,
   "metadata": {},
   "outputs": [
    {
     "data": {
      "text/plain": [
       "0.5022810329444896"
      ]
     },
     "execution_count": 9,
     "metadata": {},
     "output_type": "execute_result"
    }
   ],
   "source": [
    "guess = 18.75\n",
    "pii(res.x[0],res.x[1],guess)"
   ]
  },
  {
   "cell_type": "markdown",
   "metadata": {},
   "source": [
    "Now using the same data, but a formal logistic package"
   ]
  },
  {
   "cell_type": "code",
   "execution_count": 10,
   "metadata": {},
   "outputs": [
    {
     "data": {
      "text/plain": [
       "LogisticRegression(max_iter=10000)"
      ]
     },
     "execution_count": 10,
     "metadata": {},
     "output_type": "execute_result"
    }
   ],
   "source": [
    "# import the class\n",
    "import numpy\n",
    "from sklearn.linear_model import LogisticRegression\n",
    "X = numpy.array(experience)\n",
    "y = numpy.array(result)\n",
    "# instantiate the model (using the default parameters)\n",
    "logreg = LogisticRegression(solver='lbfgs',max_iter=10000)\n",
    "# fit the model with data  -TRAIN the model\n",
    "logreg.fit(X.reshape(-1, 1),y)"
   ]
  },
  {
   "cell_type": "code",
   "execution_count": 11,
   "metadata": {},
   "outputs": [
    {
     "data": {
      "text/plain": [
       "array([[0.1608086]])"
      ]
     },
     "execution_count": 11,
     "metadata": {},
     "output_type": "execute_result"
    }
   ],
   "source": [
    "logreg.coef_"
   ]
  },
  {
   "cell_type": "code",
   "execution_count": 12,
   "metadata": {},
   "outputs": [],
   "source": [
    "xplot = numpy.array(xaxis)\n",
    "y_pred=logreg.predict(xplot.reshape(-1,1))\n",
    "\n",
    "b0 = logreg.intercept_[0]\n",
    "b1 = logreg.coef_[0][0]\n",
    "\n"
   ]
  },
  {
   "cell_type": "code",
   "execution_count": 13,
   "metadata": {},
   "outputs": [
    {
     "data": {
      "image/png": "[encoded data removed]",
      "text/plain": [
       "<Figure size 432x432 with 1 Axes>"
      ]
     },
     "metadata": {
      "filenames": {
       "image/png": "/home/sensei/ce-5319-webroot/ce5319jb/_build/jupyter_execute/lessons/logisticregression/example1_22_0.png"
      },
      "needs_background": "light"
     },
     "output_type": "display_data"
    }
   ],
   "source": [
    "plottitle = 'Sucess vs Experience and\\n Fitted Logistic Response Function\\n Using SKLEARN\\n '+'b0: '+ str(round(b0,4)) + ' b1: ' + str(round(b1,4))\n",
    "make2plot(experience,result,xplot,y_pred,'Experience (months)','Sucess in Task',plottitle)"
   ]
  },
  {
   "cell_type": "code",
   "execution_count": 14,
   "metadata": {},
   "outputs": [
    {
     "data": {
      "image/png": "[encoded data removed]",
      "text/plain": [
       "<Figure size 432x432 with 1 Axes>"
      ]
     },
     "metadata": {
      "filenames": {
       "image/png": "/home/sensei/ce-5319-webroot/ce5319jb/_build/jupyter_execute/lessons/logisticregression/example1_23_0.png"
      },
      "needs_background": "light"
     },
     "output_type": "display_data"
    }
   ],
   "source": [
    "for i in range(40):\n",
    "    xaxis[i]=float(i)\n",
    "    fitted[i]=pii(beta[0],beta[1],float(i))\n",
    "#    fitted[i]=pii(b0,b1,float(i))\n",
    "    if fitted[i] > 0.5:\n",
    "        fitted[i] = 1.0\n",
    "    else:\n",
    "        fitted[i]=0.0\n",
    "\n",
    "plottitle = 'Sucess vs Experience and\\n Fitted Logistic Response Function\\n Using Homebrew and 0.5 decision boundary\\n '+'b0: '+ str(round(beta[0],4)) + ' b1: ' + str(round(beta[1],4))\n",
    "make2plot(experience,result,xaxis,fitted,'Experience (months)','Sucess in Task',plottitle)"
   ]
  },
  {
   "cell_type": "markdown",
   "metadata": {},
   "source": [
    "A proper ML approach would create a hold-out set (split) to provide some test of the model - in this example the data set is too small but to explore the syntax using ML workflow ....\n",
    "\n",
    "### Split the Data Set"
   ]
  },
  {
   "cell_type": "code",
   "execution_count": 15,
   "metadata": {},
   "outputs": [],
   "source": [
    "from sklearn.model_selection import train_test_split\n",
    "X_train,X_test,y_train,y_test=train_test_split(X,y,test_size=0.25,random_state=0)"
   ]
  },
  {
   "cell_type": "markdown",
   "metadata": {},
   "source": [
    "Now perform the ML execrise in typical workflow"
   ]
  },
  {
   "cell_type": "code",
   "execution_count": 16,
   "metadata": {},
   "outputs": [
    {
     "data": {
      "text/plain": [
       "LogisticRegression(max_iter=10000)"
      ]
     },
     "execution_count": 16,
     "metadata": {},
     "output_type": "execute_result"
    }
   ],
   "source": [
    "# instantiate the model (using the default parameters)\n",
    "logreg = LogisticRegression(solver='lbfgs',max_iter=10000)\n",
    "# fit the model with data  -TRAIN the model\n",
    "logreg.fit(X_train.reshape(-1, 1),y_train)"
   ]
  },
  {
   "cell_type": "code",
   "execution_count": 17,
   "metadata": {},
   "outputs": [],
   "source": [
    "xplot = numpy.array(xaxis)\n",
    "y_pred=logreg.predict(X_test.reshape(-1,1))\n",
    "\n",
    "b0 = logreg.intercept_[0]\n",
    "b1 = logreg.coef_[0][0]\n",
    "\n",
    "for i in range(40):\n",
    "    xaxis[i]=float(i)\n",
    "#    fitted[i]=pii(beta[0],beta[1],float(i))\n",
    "    fitted[i]=pii(b0,b1,float(i))\n",
    "    if fitted[i] > 0.5:\n",
    "        fitted[i] = 1.0\n",
    "    else:\n",
    "        fitted[i]=0.0"
   ]
  },
  {
   "cell_type": "code",
   "execution_count": 18,
   "metadata": {},
   "outputs": [
    {
     "data": {
      "image/png": "[encoded data removed]",
      "text/plain": [
       "<Figure size 432x432 with 1 Axes>"
      ]
     },
     "metadata": {
      "filenames": {
       "image/png": "/home/sensei/ce-5319-webroot/ce5319jb/_build/jupyter_execute/lessons/logisticregression/example1_29_0.png"
      },
      "needs_background": "light"
     },
     "output_type": "display_data"
    }
   ],
   "source": [
    "plottitle = 'Sucess vs Experience and\\n Fitted Logistic Response Function\\n Using SKLEARN\\n '+'b0: '+ str(round(b0,4)) + ' b1: ' + str(round(b1,4))\n",
    "make2plot(X_test,y_test,xaxis,fitted,'Experience (months)','Sucess in Task',plottitle)"
   ]
  },
  {
   "cell_type": "markdown",
   "metadata": {},
   "source": [
    "### How to assess the performance of logistic regression?\n",
    "\n",
    "> Binary classification has four possible types of results:\n",
    ">- True negatives: correctly predicted negatives (zeros)\n",
    ">- True positives: correctly predicted positives (ones)\n",
    ">- False negatives: incorrectly predicted negatives (zeros)\n",
    ">- False positives: incorrectly predicted positives (ones)\n",
    "    \n",
    "We usually evaluate the performance of a classifier by comparing the actual and predicted outputs and counting the correct and incorrect predictions.  Our simple graph above conveys the same information, just not as easily interpreted. \n",
    "\n",
    "A confusion matrix is a table that is used to display the performance of a classification model. \n",
    "    \n",
    "<br> ![](https://image.jimcdn.com/app/cms/image/transf/dimension=699x10000:format=png/path/s8ff3310143614e07/image/iab2d53abc26a2bc7/version/1549760945/image.png) <br>\n",
    "\n",
    "Some other indicators of binary classifiers include the following:\n",
    "- The most straightforward indicator of classification accuracy is the ratio of the number of correct predictions to the total number of predictions (or observations). \n",
    "- The positive predictive value is the ratio of the number of true positives to the sum of the numbers of true and false positives.\n",
    "- The negative predictive value is the ratio of the number of true negatives to the sum of the numbers of true and false negatives.\n",
    "- The sensitivity (also known as recall or true positive rate) is the ratio of the number of true positives to the number of actual positives.\n",
    "- The precision score quantifies the ability of a classifier to not label a negative example as positive. The precision score can be interpreted as the probability that a positive prediction made by the classifier is positive.\n",
    "- The specificity (or true negative rate) is the ratio of the number of true negatives to the number of actual negatives. \n",
    "<br>    ![](https://miro.medium.com/max/936/0*R7idSv1bja3CLC8s.png) <br>\n",
    "    \n",
    "The extent of importance of recall and precision depends on the problem. Achieving a high recall is more important than getting a high precision in cases like when we would like to detect as many heart patients as possible. For some other models, like classifying whether a bank customer is a loan defaulter or not, it is desirable to have a high precision since the bank wouldn’t want to lose customers who were denied a loan based on the model’s prediction that they would be defaulters. \n",
    "There are also a lot of situations where both precision and recall are equally important. Then we would aim for not only a high recall but a high precision as well. In such cases, we use something called F1-score. F1-score is the Harmonic mean of the Precision and Recall: \n",
    "<br> ![](https://cdn.analyticsvidhya.com/wp-content/uploads/2019/09/f1score-300x73.png) <br>\n",
    "This is easier to work with since now, instead of balancing precision and recall, we can just aim for a good F1-score and that would be indicative of a good Precision and a good Recall value as well.\n",
    "<br>    ![](https://memegenerator.net/img/instances/85090403.jpg) <br>\n",
    "### Model Evaluation using Confusion Matrix\n",
    "\n",
    "The confusion matrix is a table that is used to evaluate the performance of a classification model. You can also visualize the performance of an algorithm. The fundamental content of a confusion matrix is the number of correct and incorrect predictions are summed up class-wise."
   ]
  },
  {
   "cell_type": "code",
   "execution_count": 19,
   "metadata": {},
   "outputs": [
    {
     "data": {
      "text/plain": [
       "array([[4, 1],\n",
       "       [0, 2]])"
      ]
     },
     "execution_count": 19,
     "metadata": {},
     "output_type": "execute_result"
    }
   ],
   "source": [
    "# import the metrics class\n",
    "from sklearn import metrics\n",
    "cnf_matrix = metrics.confusion_matrix(y_pred, y_test)\n",
    "cnf_matrix"
   ]
  },
  {
   "cell_type": "markdown",
   "metadata": {},
   "source": [
    "However it is often more visible in a heatmap structure"
   ]
  },
  {
   "cell_type": "code",
   "execution_count": 20,
   "metadata": {},
   "outputs": [
    {
     "data": {
      "image/png": "[encoded data removed]",
      "text/plain": [
       "<Figure size 432x288 with 2 Axes>"
      ]
     },
     "metadata": {
      "filenames": {
       "image/png": "/home/sensei/ce-5319-webroot/ce5319jb/_build/jupyter_execute/lessons/logisticregression/example1_33_0.png"
      },
      "needs_background": "light"
     },
     "output_type": "display_data"
    }
   ],
   "source": [
    "import seaborn as sns\n",
    "import pandas as pd\n",
    "class_names=[0,1] # name  of classes\n",
    "fig, ax = plt.subplots()\n",
    "tick_marks = np.arange(len(class_names))\n",
    "plt.xticks(tick_marks, class_names)\n",
    "plt.yticks(tick_marks, class_names)\n",
    "# create heatmap\n",
    "sns.heatmap(pd.DataFrame(cnf_matrix), annot=True, cmap=\"YlGnBu\" ,fmt='g')\n",
    "ax.xaxis.set_label_position(\"top\")\n",
    "plt.tight_layout()\n",
    "plt.title('Confusion matrix', y=1.1)\n",
    "plt.ylabel('Predicted label')\n",
    "plt.xlabel('Actual label');"
   ]
  },
  {
   "cell_type": "markdown",
   "metadata": {},
   "source": [
    "Confusion Matrix Evaluation Metrics: evaluate the model using model evaluation metrics such as accuracy, precision, and recall. Its all built-in to sklearn (although we could get it entirely from our homebrew results too!)"
   ]
  },
  {
   "cell_type": "code",
   "execution_count": 21,
   "metadata": {},
   "outputs": [
    {
     "name": "stdout",
     "output_type": "stream",
     "text": [
      "Accuracy: 0.8571428571428571\n",
      "Precision: 1.0\n",
      "Recall: 0.6666666666666666\n",
      "F1-score: 0.8\n"
     ]
    }
   ],
   "source": [
    "print(\"Accuracy:\",metrics.accuracy_score(y_test, y_pred))\n",
    "print(\"Precision:\",metrics.precision_score(y_test, y_pred))\n",
    "print(\"Recall:\",metrics.recall_score(y_test, y_pred))\n",
    "print(\"F1-score:\",metrics.f1_score(y_test, y_pred))"
   ]
  },
  {
   "cell_type": "code",
   "execution_count": 22,
   "metadata": {},
   "outputs": [
    {
     "name": "stdout",
     "output_type": "stream",
     "text": [
      "              precision    recall  f1-score   support\n",
      "\n",
      "           0       0.80      1.00      0.89         4\n",
      "           1       1.00      0.67      0.80         3\n",
      "\n",
      "    accuracy                           0.86         7\n",
      "   macro avg       0.90      0.83      0.84         7\n",
      "weighted avg       0.89      0.86      0.85         7\n",
      "\n"
     ]
    }
   ],
   "source": [
    "from sklearn.metrics import classification_report\n",
    "print(classification_report(y_test, y_pred))"
   ]
  },
  {
   "cell_type": "code",
   "execution_count": null,
   "metadata": {},
   "outputs": [],
   "source": []
  }
 ],
 "metadata": {
  "kernelspec": {
   "display_name": "Python 3",
   "language": "python",
   "name": "python3"
  },
  "language_info": {
   "codemirror_mode": {
    "name": "ipython",
    "version": 3
   },
   "file_extension": ".py",
   "mimetype": "text/x-python",
   "name": "python",
   "nbconvert_exporter": "python",
   "pygments_lexer": "ipython3",
   "version": "3.8.10"
  }
 },
 "nbformat": 4,
 "nbformat_minor": 4
}