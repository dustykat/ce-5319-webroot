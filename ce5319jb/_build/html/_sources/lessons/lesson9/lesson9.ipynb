{
 "cells": [
  {
   "cell_type": "markdown",
   "metadata": {},
   "source": [
    "# Probability Distributions"
   ]
  },
  {
   "cell_type": "markdown",
   "metadata": {},
   "source": [
    "## topic\n"
   ]
  },
  {
   "cell_type": "markdown",
   "metadata": {},
   "source": [
    "lorem ipsum\n"
   ]
  },
  {
   "cell_type": "markdown",
   "metadata": {},
   "source": [
    "lorem ipsum"
   ]
  },
  {
   "cell_type": "markdown",
   "metadata": {},
   "source": [
    "## Some Common Distributions \n",
    "\n",
    "### Normal (and Log-Normal) Distribution\n",
    "\n",
    "The normal distributions are used to explain central tendencies\n",
    "- Defined using two parameters\n",
    "  - Mean ($\\mu$) and Standard Deviation ($\\sigma$)\n",
    "  - Symmetric distribution\n",
    "  - Represents additive processes\n",
    "- The lognormal distribution stipulates that the log of random variable x (i.e., log(x) is normally distributed\n",
    "  - Does not work for negative data (in orginal space)\n",
    "  - Represents multiplicative process\n",
    "  \n",
    "Lognormal distribution is often appropriate when the data are skewed. (See the Gamma distribution later on)\n",
    "Normal and Lognormal Distributions are best suited to represent central tendencies\n",
    "  \n",
    "#### Python Examples"
   ]
  },
  {
   "cell_type": "markdown",
   "metadata": {},
   "source": [
    "### Gamma Distribution\n",
    "\n",
    "#### Python Examples"
   ]
  },
  {
   "cell_type": "markdown",
   "metadata": {},
   "source": [
    "### Poisson Distribution\n",
    "\n",
    "- A discrete distribution used to represent the number of independent events within a fixed time\n",
    "  - Number of independent rainfall events within a year\n",
    "- Related to Exponential Distribution\n",
    "- Continuous distribution for inter-arrival times\n",
    "- Poisson distribution assumes stationarity\n",
    "- Rate at which events occur is constant\n",
    "\n",
    "An example of application is [Synthetic Rainfall Generation Model for Evaluating Potential Erosion\n",
    "at Highway Construction Sites](http://54.243.252.9/about-me-webroot/about-me/MyWebPapers/thesis/srg_model/srg_model.pdf)\n",
    "\n",
    "#### Python Examples"
   ]
  },
  {
   "cell_type": "markdown",
   "metadata": {},
   "source": [
    "### Exponential Distribution\n",
    "\n",
    "- Often used to model the time between two independent\n",
    "events\n",
    "  - Time between two rainstorms\n",
    "- Exponential distribution is represented by the parameter ($\\lambda$)\n",
    "  - Reciprocal of Average inter-event time\n",
    "- Related to Poisson Distribution\n",
    "- A discrete distribution for number of events in a fixed time\n",
    "\n",
    "#### Python Examples"
   ]
  },
  {
   "cell_type": "markdown",
   "metadata": {},
   "source": [
    "### Binomial Distribution\n",
    "\n",
    "Used when there are two outcomes\n",
    "- Success and Failure\n",
    "- The probability of success for each event is denoted by “p”\n",
    "  - Often assumed stationary\n",
    "- The PMF calculates the probability of success of x out of N total events\n",
    "\n",
    "The binomial distribution is often used for risk and reliability calculations\n",
    "\n",
    "#### Python Examples"
   ]
  },
  {
   "cell_type": "markdown",
   "metadata": {},
   "source": [
    "### Logistic Distribution\n",
    "\n",
    "#### Python Examples"
   ]
  },
  {
   "cell_type": "markdown",
   "metadata": {},
   "source": [
    "### Multinomial Distribution(s)\n",
    "\n",
    "#### Python Examples"
   ]
  },
  {
   "cell_type": "markdown",
   "metadata": {},
   "source": []
  },
  {
   "cell_type": "markdown",
   "metadata": {},
   "source": []
  },
  {
   "cell_type": "markdown",
   "metadata": {},
   "source": []
  },
  {
   "cell_type": "markdown",
   "metadata": {},
   "source": []
  },
  {
   "cell_type": "markdown",
   "metadata": {},
   "source": []
  },
  {
   "cell_type": "markdown",
   "metadata": {},
   "source": []
  },
  {
   "cell_type": "markdown",
   "metadata": {},
   "source": [
    "## References\n",
    "1. Chan, Jamie. Machine Learning With Python For Beginners: A Step-By-Step Guide with Hands-On Projects (Learn Coding Fast with Hands-On Project Book 7) (p. 2). Kindle Edition. \n",
    "2. [Machine Learning for CE Probability Distributions (Fall 2020 Lesson)](http://54.243.252.9/ce-5319-webroot/Fall2020Lessons/Lecture6-MachineLearningforCEProbabilityDistributions.pdf)\n",
    "3. [Synthetic Rainfall Generation Model for Evaluating Potential Erosion\n",
    "at Highway Construction Sites](http://54.243.252.9/about-me-webroot/about-me/MyWebPapers/thesis/srg_model/srg_model.pdf)"
   ]
  },
  {
   "cell_type": "code",
   "execution_count": null,
   "metadata": {},
   "outputs": [],
   "source": []
  }
 ],
 "metadata": {
  "kernelspec": {
   "display_name": "Python 3",
   "language": "python",
   "name": "python3"
  },
  "language_info": {
   "codemirror_mode": {
    "name": "ipython",
    "version": 3
   },
   "file_extension": ".py",
   "mimetype": "text/x-python",
   "name": "python",
   "nbconvert_exporter": "python",
   "pygments_lexer": "ipython3",
   "version": "3.8.10"
  }
 },
 "nbformat": 4,
 "nbformat_minor": 4
}
