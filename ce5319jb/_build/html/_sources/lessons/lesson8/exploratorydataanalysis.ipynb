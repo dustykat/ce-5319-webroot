{
 "cells": [
  {
   "cell_type": "markdown",
   "metadata": {},
   "source": [
    "# Exploratory Analysis using Data Summaries\n",
    "\n",
    "A fundamental part of working with data is **describing** it. \n",
    "Descriptive statistics help simplify and summarize large amounts of data in a sensible manner. Herein, we will discuss **descriptive statistics** and cover a variety of methods for summarizing, describing, and representing datasets to ultimately support our machine learning efforts.\n",
    "\n",
    "Initially consider we are discussing single variables, think like a column in a spreadsheet as the variable.  Its easily extended to collections of related columns, but generally we summarize each column.\n",
    "\n",
    "\n",
    "Here is diagram of some more commonly employed descriptive measures:\n",
    "![](https://slideplayer.com/slide/2346765/8/images/2/Summary+Measures+Describing+Data+Numerically+Central+Tendency.jpg)\n"
   ]
  },
  {
   "cell_type": "markdown",
   "metadata": {},
   "source": [
    "## Measures of Location"
   ]
  },
  {
   "cell_type": "markdown",
   "metadata": {},
   "source": [
    "Location measures give us an estimate of the location of a data distribution in the numberbet (like the alphabet, but a buttload more letters) and a sense of a typical value we would expect to see. \n",
    "\n",
    "The three major measures of location are the mean, median, and mode.  Naturally because mathematicians were involved there are a buttload of diferent kinds of mean (that's mean!)"
   ]
  },
  {
   "cell_type": "markdown",
   "metadata": {},
   "source": [
    "### Arithmetic Mean"
   ]
  },
  {
   "cell_type": "markdown",
   "metadata": {},
   "source": [
    "The arithmetic mean or average is the sum of all the values, divided by the number of values. The mean represents a typical value that acts as a yardstick for all observations.  For discrete data it is quite possible the mean value lies between reportable values.\n",
    "\n",
    "![](https://x-engineer.org/wp-content/uploads/2016/10/Arithmetic-mean-formula-244x142.jpg?a43cfa&a43cfa)\n",
    "\n",
    "Let's calculate the average budget of the Top10 highest-grossing films.  First we have to get the data, we will study this in more datail later in this chapter, but the simple code below should suffice"
   ]
  },
  {
   "cell_type": "code",
   "execution_count": 32,
   "metadata": {
    "collapsed": false,
    "jupyter": {
     "outputs_hidden": false
    }
   },
   "outputs": [],
   "source": [
    "import numpy        # Module with useful arithmetic and linear algebra and array manipulation\n",
    "import pandas       # Module to process panel data (like spreadsheets)\n",
    "import statistics   # Statistics module\n",
    "import scipy.stats  # Another statistics module\n",
    "\n",
    "import requests     # Module to process http/https requests"
   ]
  },
  {
   "cell_type": "code",
   "execution_count": 33,
   "metadata": {
    "collapsed": false,
    "jupyter": {
     "outputs_hidden": false
    }
   },
   "outputs": [],
   "source": [
    "remote_url=\"http://54.243.252.9/ce-5319-webroot/ce5319jb/lessons/lesson8/HighestGrossingMovies.csv\"  # set the url\n",
    "response = requests.get(remote_url, allow_redirects=True)                                            # get the remote resource, follow imbedded links\n",
    "open('HighestGrossingMovies.csv','wb').write(response.content);                                      # extract from the remote the contents, assign to a local file same name"
   ]
  },
  {
   "cell_type": "code",
   "execution_count": 34,
   "metadata": {
    "collapsed": false,
    "jupyter": {
     "outputs_hidden": false
    }
   },
   "outputs": [
    {
     "name": "stdout",
     "output_type": "stream",
     "text": [
      "Mean Budget $ 115.66  million USD\n"
     ]
    }
   ],
   "source": [
    "Movies = pandas.read_csv(\"HighestGrossingMovies.csv\")    \n",
    "Budget = Movies['Budget_million$']\n",
    "print(\"Mean Budget $\",Budget.mean(),\" million USD\")"
   ]
  },
  {
   "cell_type": "markdown",
   "metadata": {
    "jupyter": {
     "outputs_hidden": false
    }
   },
   "source": [
    "A couple of other ways to get the mean values are:"
   ]
  },
  {
   "cell_type": "code",
   "execution_count": 35,
   "metadata": {
    "collapsed": false,
    "jupyter": {
     "outputs_hidden": false
    }
   },
   "outputs": [
    {
     "name": "stdout",
     "output_type": "stream",
     "text": [
      "Mean Budget $ 115.66  million USD\n"
     ]
    }
   ],
   "source": [
    "print(\"Mean Budget $\",numpy.mean(Budget),\" million USD\") # using numpy"
   ]
  },
  {
   "cell_type": "code",
   "execution_count": 36,
   "metadata": {},
   "outputs": [
    {
     "name": "stdout",
     "output_type": "stream",
     "text": [
      "Mean Budget $ 115.66  million USD\n"
     ]
    }
   ],
   "source": [
    "print(\"Mean Budget $\",statistics.mean(Budget),\" million USD\") # using statistics package"
   ]
  },
  {
   "cell_type": "code",
   "execution_count": 37,
   "metadata": {},
   "outputs": [
    {
     "name": "stdout",
     "output_type": "stream",
     "text": [
      "Mean Budget $ 115.66  million USD\n"
     ]
    }
   ],
   "source": [
    "print(\"Mean Budget $\",scipy.stats.describe(Budget)[2],\" million USD\") # using scipy.stats package - a bit weird because describe returns a tuple, and the mean is the 3-rd item"
   ]
  },
  {
   "cell_type": "markdown",
   "metadata": {},
   "source": [
    "### Harmonic Mean\n",
    "\n",
    ":::{note}\n",
    "Recall the wiseass comment about mathematicians!\n",
    ":::"
   ]
  },
  {
   "cell_type": "markdown",
   "metadata": {},
   "source": [
    "The harmonic mean is the reciprocal of the mean of the reciprocals of all items in the dataset.\n",
    "\n",
    "![](https://www.onlinemath4all.com/images/harmonicmean1.png)\n",
    "\n",
    "Let's calculate the harmonic mean for the same dataset:"
   ]
  },
  {
   "cell_type": "code",
   "execution_count": 38,
   "metadata": {
    "collapsed": false,
    "jupyter": {
     "outputs_hidden": false
    }
   },
   "outputs": [
    {
     "name": "stdout",
     "output_type": "stream",
     "text": [
      "Harmonic Mean Budget $  13.38 million USD\n"
     ]
    }
   ],
   "source": [
    "print(\"Harmonic Mean Budget $ \",round(statistics.harmonic_mean(Budget),2),\"million USD\") # via the Statistics library:"
   ]
  },
  {
   "cell_type": "code",
   "execution_count": 39,
   "metadata": {
    "collapsed": false,
    "jupyter": {
     "outputs_hidden": false
    }
   },
   "outputs": [
    {
     "name": "stdout",
     "output_type": "stream",
     "text": [
      "Harmonic Mean Budget  13.38 million USD\n"
     ]
    }
   ],
   "source": [
    "print(\"Harmonic Mean Budget \",round(scipy.stats.hmean(Budget),2),\"million USD\") # via the scipy.stats library:"
   ]
  },
  {
   "cell_type": "markdown",
   "metadata": {},
   "source": [
    "### Geometric Mean"
   ]
  },
  {
   "cell_type": "markdown",
   "metadata": {},
   "source": [
    "The geometric mean is the $n-$th root of the product of all $n$ elements $a_i$ in a dataset.\n",
    "\n",
    "![](https://ncalculators.com/images/formulas/geometric-mean.jpg)\n",
    "\n",
    "Let's calculate the geometric mean for the same set of numbers:"
   ]
  },
  {
   "cell_type": "code",
   "execution_count": 40,
   "metadata": {},
   "outputs": [
    {
     "name": "stdout",
     "output_type": "stream",
     "text": [
      "Geometric Mean Budget $  34.96 million USD\n"
     ]
    }
   ],
   "source": [
    "print(\"Geometric Mean Budget $ \",round(statistics.geometric_mean(Budget),2),\"million USD\") # via the Statistics library:"
   ]
  },
  {
   "cell_type": "code",
   "execution_count": 41,
   "metadata": {},
   "outputs": [
    {
     "name": "stdout",
     "output_type": "stream",
     "text": [
      "Geometric Mean Budget  34.96 million USD\n"
     ]
    }
   ],
   "source": [
    "print(\"Geometric Mean Budget \",round(scipy.stats.gmean(Budget),2),\"million USD\") # via the scipy.stats library:"
   ]
  },
  {
   "cell_type": "markdown",
   "metadata": {},
   "source": [
    "### Arithmetic or Geometric or Harmonic?\n",
    "\n",
    "Naturally we are concerned with which to use,  the useless figure below clarifies the issue (not!)\n",
    "\n",
    "![](https://pbs.twimg.com/media/Dm2BdG2V4AE36xP.jpg)\n"
   ]
  },
  {
   "cell_type": "markdown",
   "metadata": {},
   "source": [
    "- If values have the same units: Use the arithmetic mean. <br>\n",
    "- If values have differing units: Use the geometric mean. | Also, commonly used for growth rates, like population growth or interest rates.<br>\n",
    "- If values are rates: Use the harmonic mean. <br>\n",
    "\n",
    "__If you are interested in knowing more about these 3 and their differences, you may find these interesting:__\n",
    "- \"Arithmetic, Geometric, and Harmonic Means for Machine Learning Arithmetic, Geometric, and Harmonic Means for Machine Learning\"\n",
    "by __*Jason Brownlee*__, available @ https://machinelearningmastery.com/arithmetic-geometric-and-harmonic-means-for-machine-learning/#:~:text=The%20arithmetic%20mean%20is%20appropriate,with%20different%20measures%2C%20called%20rates.\n",
    "\n",
    "- \"On Average, You’re Using the Wrong Average: Geometric & Harmonic Means in Data Analysis\"\n",
    "by __*Daniel McNichol*__, available @ https://towardsdatascience.com/on-average-youre-using-the-wrong-average-geometric-harmonic-means-in-data-analysis-2a703e21ea0"
   ]
  },
  {
   "cell_type": "markdown",
   "metadata": {},
   "source": [
    "#### <font color=crimson>Median</font>"
   ]
  },
  {
   "cell_type": "markdown",
   "metadata": {},
   "source": [
    "Median is the middle element of a sorted dataset. The value where the upper half of the data lies above it and lower half lies below it. In other words, it is the middle value of a data set. To calculate the median, arrange the data points in the increasing (or decreasing) order and the middle value is the median. If the number of elements 𝑛 of the dataset is odd, then the median is the value at the middle position: 0.5(𝑛 + 1). If 𝑛 is even, then the median is the arithmetic mean of the two values in the middle, that is, the items at the positions 0.5𝑛 and 0.5𝑛 + 1.\n",
    "Let's find the median of the gross of the Top10 highest-grossing films: "
   ]
  },
  {
   "cell_type": "code",
   "execution_count": 61,
   "metadata": {
    "collapsed": false,
    "jupyter": {
     "outputs_hidden": false
    }
   },
   "outputs": [],
   "source": [
    "Gross = Movies['Gross_million$']"
   ]
  },
  {
   "cell_type": "code",
   "execution_count": 62,
   "metadata": {
    "collapsed": false,
    "jupyter": {
     "outputs_hidden": false
    },
    "scrolled": true
   },
   "outputs": [
    {
     "name": "stdout",
     "output_type": "stream",
     "text": [
      "The median of gross of the Top10 highest-grossing films is  2673.5 million USD\n",
      "The median of gross of the Top10 highest-grossing films is  2673.5 million USD\n",
      "The median of gross of the Top10 highest-grossing films is  2673.5 million USD\n",
      "        low median : 2549 million USD\n",
      "       high median : 2798 million USD\n"
     ]
    }
   ],
   "source": [
    "print(\"The median of gross of the Top10 highest-grossing films is \",Gross.median(),\"million USD\") #via the Pandas library:\n",
    "print(\"The median of gross of the Top10 highest-grossing films is \",numpy.median(Gross),\"million USD\") #via the Numpy library:\n",
    "print(\"The median of gross of the Top10 highest-grossing films is \",statistics.median(Gross),\"million USD\") #via the Statistics library:\n",
    "print(\"        low median :\",statistics.median_low(Gross),\"million USD\")\n",
    "print(\"       high median :\",statistics.median_high(Gross),\"million USD\")"
   ]
  },
  {
   "cell_type": "markdown",
   "metadata": {},
   "source": [
    "The main difference between the behavior of the mean and median is related to dataset outliers or extremes. The mean is heavily affected by outliers, but the median only depends on outliers either slightly or not at all. You can compare the mean and median as one way to detect outliers and asymmetry in your data. Whether the mean value or the median value is more useful to you depends on the context of your particular problem. The mean is a better choice when there are no extreme values that can affect it. It is a better summary because the information from every observation is included rather than median, which is just the middle value. However, in the presence of outliers, median is considered a better alternative. Check this out:"
   ]
  },
  {
   "cell_type": "code",
   "execution_count": 64,
   "metadata": {
    "collapsed": false,
    "jupyter": {
     "outputs_hidden": false
    }
   },
   "outputs": [
    {
     "name": "stdout",
     "output_type": "stream",
     "text": [
      "12400.7\n",
      "2673.5\n"
     ]
    }
   ],
   "source": [
    "newgross = [99999,3257,3081,3043,2798,2549,2489,2356,2233,2202] #We have replaced 3706 with 99999- an extremely high number (an outlier)\n",
    "newmean = numpy.mean(newgross)\n",
    "newmedian = numpy.median(newgross)\n",
    "print(newmean)   #A huge change from the previous value (115.66) - Mean is very sensitive to outliers and extreme values\n",
    "print(newmedian) #No Change- the median only depends on outliers either slightly or not at all. "
   ]
  },
  {
   "cell_type": "markdown",
   "metadata": {},
   "source": [
    "To read more about the differences of mean and median, check these out:\n"
   ]
  },
  {
   "cell_type": "markdown",
   "metadata": {},
   "source": [
    "#### <font color=crimson>Mode</font>"
   ]
  },
  {
   "cell_type": "markdown",
   "metadata": {},
   "source": [
    "The value that occurs the most number of times in our data set. Closely tied to the concept of frequency, mode provides information on the most recurrent elements in a dataset. When the mode is not unique, we say that the data set is bimodal, while a data set with more than two modes is multimodal. Let's find the mode in the gross of the Top10 highest-grossing films:"
   ]
  },
  {
   "cell_type": "code",
   "execution_count": 46,
   "metadata": {
    "collapsed": false,
    "jupyter": {
     "outputs_hidden": false
    }
   },
   "outputs": [
    {
     "name": "stdout",
     "output_type": "stream",
     "text": [
      "3706\n",
      "0    2202\n",
      "1    2233\n",
      "2    2356\n",
      "3    2489\n",
      "4    2549\n",
      "5    2798\n",
      "6    3043\n",
      "7    3081\n",
      "8    3257\n",
      "9    3706\n",
      "dtype: int64\n",
      "3706\n",
      "[3706, 3257, 3081, 3043, 2798, 2549, 2489, 2356, 2233, 2202]\n",
      "ModeResult(mode=array([2202]), count=array([1]))\n"
     ]
    }
   ],
   "source": [
    "# In primitive Python:\n",
    "# Create a list of all the numbers:\n",
    "gross = [3706,3257,3081,3043,2798,2549,2489,2356,2233,2202]\n",
    "mode1 = max((gross.count(item), item) for item in gross)[1]\n",
    "print(mode1) #Since each item is repeated only once, only the first element is printed- This is a multimodal set. \n",
    "\n",
    "#via the Pandas library:\n",
    "Gross = Movies['Gross_million$']\n",
    "mode2 = Gross.mode()\n",
    "print(mode2) #Returns all modal values- This is a multimodal set. \n",
    "\n",
    "#via the Statistics library:\n",
    "Gross = Movies['Gross_million$']\n",
    "mode3 = statistics.mode(Gross)\n",
    "print(mode3) #Return a single value\n",
    "mode4 = statistics.multimode(Gross)\n",
    "print(mode4) #Returns a list of all modes\n",
    "\n",
    "#via the scipy.stats library:\n",
    "Gross = Movies['Gross_million$']\n",
    "mode5 = scipy.stats.mode(Gross)\n",
    "print(mode5) #Returns the object with the modal value and the number of times it occurs- If multimodal: only the smallest value"
   ]
  },
  {
   "cell_type": "markdown",
   "metadata": {},
   "source": [
    "Mode is not useful when our distribution is flat; i.e., the frequencies of all groups are similar. Mode makes sense when we do not have a numeric-valued data set which is required in case of the mean and the median. For instance:"
   ]
  },
  {
   "cell_type": "code",
   "execution_count": 47,
   "metadata": {
    "collapsed": false,
    "jupyter": {
     "outputs_hidden": false
    }
   },
   "outputs": [
    {
     "name": "stdout",
     "output_type": "stream",
     "text": [
      "James Cameron\n",
      "0    James Cameron\n",
      "dtype: object\n"
     ]
    }
   ],
   "source": [
    "Director = Movies['Director']\n",
    "# via statistics:\n",
    "mode6 = statistics.mode(Director)\n",
    "print(mode6) #\"James Cameron\" with two films (x2 repeats) is the mode\n",
    "# via pandas:\n",
    "mode7 = Director.mode()\n",
    "print(mode7) #\"James Cameron\" with two films (x2 repeats) is the mode"
   ]
  },
  {
   "cell_type": "markdown",
   "metadata": {},
   "source": [
    "To read more about mode, check these out:\n",
    "- \"Mode: A statistical measure of central tendency\"\n",
    ", available @ https://corporatefinanceinstitute.com/resources/knowledge/other/mode/\n",
    "\n",
    "- \"When to use each measure of Central Tendency\"\n",
    ", available @ https://courses.lumenlearning.com/introstats1/chapter/when-to-use-each-measure-of-central-tendency/\n",
    "\n",
    "- \"Mean, Median, Mode: What They Are, How to Find Them\"\n",
    ", available @ https://www.statisticshowto.com/probability-and-statistics/statistics-definitions/mean-median-mode/"
   ]
  },
  {
   "cell_type": "markdown",
   "metadata": {},
   "source": [
    "## Measures of Dispersion"
   ]
  },
  {
   "cell_type": "markdown",
   "metadata": {},
   "source": [
    "Measures of dispersion are values that describe how the data varies. It gives us a sense of how much the data tends to diverge from the typical value. Aka measures of variability, they quantify the spread of data points.The major measures of dispersion include __*range, percentiles, inter-quentile range, variance, standard deviation, skeness and kurtosis*__."
   ]
  },
  {
   "cell_type": "markdown",
   "metadata": {},
   "source": [
    "### Range"
   ]
  },
  {
   "cell_type": "markdown",
   "metadata": {},
   "source": [
    "The range gives a quick sense of the spread of the distribution to those who require only a rough indication of the data. There are some disadvantages of using the range as a measure of spread. One being it does not give any information of the data in between maximum and minimum. Also, the range is very sensitive to extreme values. Let's calculate the range for the budget of the Top10 highest-grossing films: "
   ]
  },
  {
   "cell_type": "code",
   "execution_count": 48,
   "metadata": {
    "collapsed": false,
    "jupyter": {
     "outputs_hidden": false
    }
   },
   "outputs": [
    {
     "name": "stdout",
     "output_type": "stream",
     "text": [
      "The range of the budget of the Top10 highest-grossing films is  352.1 million USD\n",
      "The range of the budget of the Top10 highest-grossing films is  352.1 million USD\n"
     ]
    }
   ],
   "source": [
    "# Primitive Python:\n",
    "budget = [3.9,237,200,11,356,8.2,10.5,13,11,306]\n",
    "range1 = max(budget)-min(budget)\n",
    "print(\"The range of the budget of the Top10 highest-grossing films is \",range1,\"million USD\")\n",
    "\n",
    "# via the Statistics library:\n",
    "Budget = Movies['Budget_million$']\n",
    "range2 = numpy.ptp(Budget) #ptp stands for Peak To Peak\n",
    "print(\"The range of the budget of the Top10 highest-grossing films is \",range2,\"million USD\")"
   ]
  },
  {
   "cell_type": "markdown",
   "metadata": {},
   "source": [
    "#### <font color=crimson>Percentiles and Quartiles</font>"
   ]
  },
  {
   "cell_type": "markdown",
   "metadata": {},
   "source": [
    "A measure which indicates the value below which a given percentage of points in a dataset fall. The sample 𝑝 percentile is the element in the dataset such that 𝑝% of the elements in the dataset are less than or equal to that value. Also, (100 − 𝑝)% of the elements are greater than or equal to that value. For example, median represents the 50th percentile. Similarly, we can have 0th percentile representing the minimum and 100th percentile representing the maximum of all data points. Percentile gives the relative position of a particular value within the dataset. It also helps in comparing the data sets which have different means and deviations.\n",
    "Each dataset has three quartiles, which are the percentiles that divide the dataset into four parts:\n",
    "\n",
    "- The first quartile (Q1) is the sample 25th percentile. It divides roughly 25% of the smallest items from the rest of the dataset.\n",
    "- The second quartile Q2) is the sample 50th percentile or the median. Approximately 25% of the items lie between the first and second quartiles and another 25% between the second and third quartiles.\n",
    "- The third quartile (Q3) is the sample 75th percentile. It divides roughly 25% of the largest items from the rest of the dataset."
   ]
  },
  {
   "cell_type": "code",
   "execution_count": 49,
   "metadata": {
    "collapsed": false,
    "jupyter": {
     "outputs_hidden": false
    }
   },
   "outputs": [
    {
     "name": "stdout",
     "output_type": "stream",
     "text": [
      "The 10th percentile of the budget of the Top10 highest-grossing films is  7.77\n",
      "The 40th and 70th percentile of the budget of the Top10 highest-grossing films are  [ 11.  211.1]\n",
      "The 10th percentile of the budget of the Top10 highest-grossing films is  7.77\n",
      "The quartiles of the budget of the Top10 highest-grossing films is  [10.625, 12.0, 227.75]\n"
     ]
    }
   ],
   "source": [
    "Budget = Movies['Budget_million$']\n",
    "#via Numpy:\n",
    "p10 = numpy.percentile(Budget, 10) #returns the 10th percentile\n",
    "print(\"The 10th percentile of the budget of the Top10 highest-grossing films is \",p10)\n",
    "p4070 = numpy.percentile(Budget, [40,70]) #returns the 40th and 70th percentile\n",
    "print(\"The 40th and 70th percentile of the budget of the Top10 highest-grossing films are \",p4070)\n",
    "#via Pandas:\n",
    "p10n = Budget.quantile(0.10) #returns the 10th percentile - notice the difference from Numpy\n",
    "print(\"The 10th percentile of the budget of the Top10 highest-grossing films is \",p10n)\n",
    "#via Statistics:\n",
    "Qs = statistics.quantiles(Budget, n=4, method='inclusive')     #The parameter n defines the number of resulting equal-probability percentiles: \n",
    "                                                               #n=4 returns the quartiles | n=2 returns the median\n",
    "print(\"The quartiles of the budget of the Top10 highest-grossing films is \",Qs)"
   ]
  },
  {
   "cell_type": "markdown",
   "metadata": {},
   "source": [
    "#### <font color=crimson>InterQuartile Range (IQR)</font>"
   ]
  },
  {
   "cell_type": "markdown",
   "metadata": {},
   "source": [
    "IQR is the difference between the third quartile and the first quartile (Q3-Q1). The interquartile range is a better option than range because it is not affected by outliers. It removes the outliers by just focusing on the distance within the middle 50% of the data."
   ]
  },
  {
   "cell_type": "code",
   "execution_count": 50,
   "metadata": {
    "collapsed": false,
    "jupyter": {
     "outputs_hidden": false
    }
   },
   "outputs": [
    {
     "name": "stdout",
     "output_type": "stream",
     "text": [
      "The IQR of the budget of the Top10 highest-grossing films is  217.125\n",
      "The IQR of the budget of the Top10 highest-grossing films is  217.125\n"
     ]
    }
   ],
   "source": [
    "Budget = Movies['Budget_million$']\n",
    "#via Numpy:\n",
    "IQR1 = numpy.percentile(Budget, 75) - numpy.percentile(Budget, 25)    #returns the IQR = Q3-Q1 = P75-P25\n",
    "print(\"The IQR of the budget of the Top10 highest-grossing films is \",IQR1)\n",
    "#via scipy.stats:\n",
    "IQR2 = scipy.stats.iqr(Budget)    #returns the IQR- Can be used for other percentile differences as well >> iqr(object, rng=(p1, p2))\n",
    "print(\"The IQR of the budget of the Top10 highest-grossing films is \",IQR2)"
   ]
  },
  {
   "cell_type": "markdown",
   "metadata": {},
   "source": [
    "#### <font color=crimson>The Five-number Summary</font>"
   ]
  },
  {
   "cell_type": "markdown",
   "metadata": {},
   "source": [
    "A five-number summary is especially useful in descriptive analyses or during the preliminary investigation of a large data set. A summary consists of five values: the most extreme values in the data set (the maximum and minimum values), the lower and upper quartiles, and the median. Five-number summary can be used to describe any data distribution. Boxplots are extremely useful graphical representation of the 5-number summary that we will discuss later."
   ]
  },
  {
   "cell_type": "code",
   "execution_count": 51,
   "metadata": {
    "collapsed": false,
    "jupyter": {
     "outputs_hidden": false
    }
   },
   "outputs": [
    {
     "data": {
      "text/plain": [
       "count     10.000000\n",
       "mean     115.660000\n",
       "std      142.739991\n",
       "min        3.900000\n",
       "25%       10.625000\n",
       "50%       12.000000\n",
       "75%      227.750000\n",
       "max      356.000000\n",
       "Name: Budget_million$, dtype: float64"
      ]
     },
     "execution_count": 51,
     "metadata": {},
     "output_type": "execute_result"
    }
   ],
   "source": [
    "Budget = Movies['Budget_million$']\n",
    "Budget.describe()     #Remember this jewel from Pandas? -It directly return the 5-number summary AND MORE!"
   ]
  },
  {
   "cell_type": "markdown",
   "metadata": {},
   "source": [
    "Boxplots are extremely useful graphical representation of the 5-number summary. It can show the range, interquartile range, median, mode, outliers, and all quartiles."
   ]
  },
  {
   "cell_type": "code",
   "execution_count": 52,
   "metadata": {
    "collapsed": false,
    "jupyter": {
     "outputs_hidden": false
    }
   },
   "outputs": [
    {
     "data": {
      "image/png": "[encoded data removed]",
      "text/plain": [
       "<Figure size 504x360 with 1 Axes>"
      ]
     },
     "metadata": {
      "needs_background": "light"
     },
     "output_type": "display_data"
    }
   ],
   "source": [
    "import matplotlib.pyplot as plt  #Required for the plot\n",
    "\n",
    "gross = [3706,3257,3081,3043,2798,2549,2489,2356,2233,2202,5000] #same data + an outlier: 5000\n",
    "\n",
    "fig = plt.figure(figsize =(7, 5))\n",
    "plt.boxplot(gross,medianprops={'linewidth': 1, 'color': 'purple'})\n",
    "\n",
    "plt.show()"
   ]
  },
  {
   "cell_type": "markdown",
   "metadata": {},
   "source": [
    "To read more about the 5-number summary, check these out:\n",
    "- \"Find a Five-Number Summary in Statistics: Easy Steps\"\n",
    ", available @ https://www.statisticshowto.com/how-to-find-a-five-number-summary-in-statistics/\n",
    "\n",
    "- \"The Five-Number Summary\"\n",
    ", available @ https://www.purplemath.com/modules/boxwhisk2.htm\n",
    "\n",
    "- \"What Is the 5 Number Summary?\"\n",
    "by __*Courtney Taylor*__, available @ https://www.statisticshowto.com/probability-and-statistics/statistics-definitions/mean-median-mode/"
   ]
  },
  {
   "cell_type": "markdown",
   "metadata": {},
   "source": [
    "#### <font color=crimson>Variance</font>"
   ]
  },
  {
   "cell_type": "markdown",
   "metadata": {},
   "source": [
    "The sample variance quantifies the spread of the data. It shows numerically how far the data points are from the mean. The observations may or may not be meaningful if observations in data sets are highly spread. Let's calculate the variance for budget of the Top10 highest-grossing films.\n",
    "\n",
    "![](https://miro.medium.com/max/666/0*ovSFlxj9RJMgtQoX.png)\n",
    "\n",
    "Note that if we are working with the entire population (and not the sample), the denominator should be \"n\" instead of \"n-1\"."
   ]
  },
  {
   "cell_type": "markdown",
   "metadata": {},
   "source": [
    "Note that if we are working with the entire population (and not the sample), the denominator should be \"n\" instead of \"n-1\"."
   ]
  },
  {
   "cell_type": "code",
   "execution_count": 53,
   "metadata": {
    "collapsed": false,
    "jupyter": {
     "outputs_hidden": false
    }
   },
   "outputs": [
    {
     "name": "stdout",
     "output_type": "stream",
     "text": [
      "The variance of the budget of the Top10 highest-grossing films is  20374.70488888889\n",
      "The variance of the budget of the Top10 highest-grossing films is  20374.70488888889\n"
     ]
    }
   ],
   "source": [
    "# Primitive Python:\n",
    "budget = [3.9,237,200,11,356,8.2,10.5,13,11,306]\n",
    "n = len(budget)\n",
    "mean = sum(budget) / n\n",
    "var1 = sum((item - mean)**2 for item in budget) / (n - 1)\n",
    "print(\"The variance of the budget of the Top10 highest-grossing films is \",var1)\n",
    "\n",
    "# via the Statistics library:\n",
    "Budget = Movies['Budget_million$']\n",
    "var2 = statistics.variance(Budget)\n",
    "print(\"The variance of the budget of the Top10 highest-grossing films is \",var2)"
   ]
  },
  {
   "cell_type": "markdown",
   "metadata": {},
   "source": [
    "#### <font color=crimson>Standard Deviation</font>"
   ]
  },
  {
   "cell_type": "markdown",
   "metadata": {},
   "source": [
    "The sample standard deviation is another measure of data spread. It’s connected to the sample variance, as standard deviation, 𝑠, is the positive square root of the sample variance. The standard deviation is often more convenient than the variance because it has the same unit as the data points.\n",
    "\n",
    "![](https://cdn.kastatic.org/googleusercontent/N8xzWFc6eo0XBHEXZjz1SwvLSnPezvhTRF1P17kdjUG_tnJivGKkyCxbwVe4MZ0-USOxIZBohgcjdi8e7Z4Hswcqfw)\n"
   ]
  },
  {
   "cell_type": "code",
   "execution_count": 54,
   "metadata": {
    "collapsed": false,
    "jupyter": {
     "outputs_hidden": false
    }
   },
   "outputs": [
    {
     "name": "stdout",
     "output_type": "stream",
     "text": [
      "The standard deviation of the budget of the Top10 highest-grossing films is  142.73999050332353 million USD\n",
      "The standard deviation of the budget of the Top10 highest-grossing films is  142.73999050332353 million USD\n"
     ]
    }
   ],
   "source": [
    "# Primitive Python:\n",
    "budget = [3.9,237,200,11,356,8.2,10.5,13,11,306]\n",
    "n = len(budget)\n",
    "mean = sum(budget) / n\n",
    "var = sum((item - mean)**2 for item in budget) / (n - 1)\n",
    "sd1 = var**0.5\n",
    "print(\"The standard deviation of the budget of the Top10 highest-grossing films is \",sd1,\"million USD\")\n",
    "\n",
    "# via the Statistics library:\n",
    "Budget = Movies['Budget_million$']\n",
    "sd2 = statistics.stdev(Budget)\n",
    "print(\"The standard deviation of the budget of the Top10 highest-grossing films is \",sd2,\"million USD\")"
   ]
  },
  {
   "cell_type": "markdown",
   "metadata": {},
   "source": [
    "#### <font color=crimson>Skewness</font>"
   ]
  },
  {
   "cell_type": "markdown",
   "metadata": {},
   "source": [
    "The sample skewness measures the asymmetry of a data sample. There are several mathematical definitions of skewness. The Fisher-Pearson standardized moment coefficient is calculated by using mean, median and standard deviation of the data. \n",
    "\n",
    "![](https://miro.medium.com/max/560/1*B-n9Ujb_IPggKO9P52jrDA.png)\n",
    "\n",
    "Usually, negative skewness values indicate that there’s a dominant tail on the left side. Positive skewness values correspond to a longer or fatter tail on the right side. If the skewness is close to 0 (for example, between −0.5 and 0.5), then the dataset is considered quite symmetrical."
   ]
  },
  {
   "cell_type": "code",
   "execution_count": 55,
   "metadata": {
    "collapsed": false,
    "jupyter": {
     "outputs_hidden": false
    }
   },
   "outputs": [
    {
     "name": "stdout",
     "output_type": "stream",
     "text": [
      "The skewness of the budget of the Top10 highest-grossing films is  0.7636547490528159\n",
      "The skewness of the budget of the Top10 highest-grossing films is  0.763654749052816\n",
      "The skewness of the budget of the Top10 highest-grossing films is  0.763654749052816\n"
     ]
    }
   ],
   "source": [
    "# Primitive Python:\n",
    "budget = [3.9,237,200,11,356,8.2,10.5,13,11,306]\n",
    "n = len(budget)\n",
    "mean = sum(budget) / n\n",
    "var = sum((item - mean)**2 for item in budget) / (n - 1)\n",
    "std = var**0.5\n",
    "skew1 = (sum((item - mean)**3 for item in budget)\n",
    "         * n / ((n - 1) * (n - 2) * std**3))\n",
    "print(\"The skewness of the budget of the Top10 highest-grossing films is \",skew1)\n",
    "\n",
    "# via the scipy.stats library:\n",
    "Budget = Movies['Budget_million$']\n",
    "skew2 = scipy.stats.skew(Budget, bias=False)\n",
    "print(\"The skewness of the budget of the Top10 highest-grossing films is \",skew2)\n",
    "\n",
    "# via the Pandas library:\n",
    "Budget = Movies['Budget_million$']\n",
    "skew3 = Budget.skew()\n",
    "print(\"The skewness of the budget of the Top10 highest-grossing films is \",skew3)"
   ]
  },
  {
   "cell_type": "markdown",
   "metadata": {},
   "source": [
    "#### <font color=crimson>Kurtosis</font>"
   ]
  },
  {
   "cell_type": "markdown",
   "metadata": {},
   "source": [
    "Kurtosis describes the peakedness of the distribution. In other words, Kurtosis identifies whether the tails of a given distribution contain extreme values. While Skewness essentially measures the symmetry of the distribution, kurtosis determines the heaviness of the distribution tails.\n",
    "\n",
    "![](https://miro.medium.com/max/2220/1*-UQjlHtFyW6m5gcyZ6db2A.png)\n",
    "\n",
    "If the distribution is tall and thin it is called a leptokurtic distribution. Values in a leptokurtic distribution are near the mean or at the extremes. A flat distribution where the values are moderately spread out (i.e., unlike leptokurtic) is called platykurtic distribution. A distribution whose shape is in between a leptokurtic distribution and a platykurtic distribution is called a mesokurtic distribution. "
   ]
  },
  {
   "cell_type": "code",
   "execution_count": 56,
   "metadata": {
    "collapsed": false,
    "jupyter": {
     "outputs_hidden": false
    }
   },
   "outputs": [
    {
     "name": "stdout",
     "output_type": "stream",
     "text": [
      "The kurtosis of the budget of the Top10 highest-grossing films is  -1.3110307923262225\n"
     ]
    }
   ],
   "source": [
    "# via the scipy.stats library:\n",
    "Budget = Movies['Budget_million$']\n",
    "Kurt = scipy.stats.kurtosis(Budget)\n",
    "print(\"The kurtosis of the budget of the Top10 highest-grossing films is \",Kurt) #a platykurtic distribution | the tails are heavy\n"
   ]
  },
  {
   "cell_type": "markdown",
   "metadata": {},
   "source": [
    "## References (for this section)\n",
    "\n",
    "- \"Stuck in the middle – mean vs. median\"\n",
    ", available @ https://www.clinfo.eu/mean-median/\n",
    "\n",
    "- \"Mean vs Median: When to Use Which Measure?\"\n",
    ", available @ https://www.datascienceblog.net/post/basic-statistics/mean_vs_median/\n",
    "\n",
    "- \"Mean vs. Median\"\n",
    "by __*AnswerMiner*__, available @ https://www.answerminer.com/blog/mean-vs-median\n",
    "\n",
    "To read more about skewness and kurtosis, check these out:\n",
    "- \"Measures of Skewness and Kurtosis\"\n",
    ", available @ https://www.itl.nist.gov/div898/handbook/eda/section3/eda35b.htm#:~:text=Skewness%20is%20a%20measure%20of,relative%20to%20a%20normal%20distribution.\n",
    "\n",
    "- \"Are the Skewness and Kurtosis Useful Statistics?\"\n",
    ", available @ https://www.spcforexcel.com/knowledge/basic-statistics/are-skewness-and-kurtosis-useful-statistics\n",
    "\n",
    "- \"Skew and Kurtosis: 2 Important Statistics terms you need to know in Data Science\"\n",
    "by __*Diva Dugar*__, available @ https://codeburst.io/2-important-statistics-terms-you-need-to-know-in-data-science-skewness-and-kurtosis-388fef94eeaa\n",
    "\n",
    "- \"Measures of Shape: Skewness and Kurtosis\"\n",
    "by __*Stan Brown*__, available @ https://brownmath.com/stat/shape.htm"
   ]
  },
  {
   "cell_type": "code",
   "execution_count": null,
   "metadata": {},
   "outputs": [],
   "source": []
  }
 ],
 "metadata": {
  "kernelspec": {
   "display_name": "Python 3",
   "language": "python",
   "name": "python3"
  },
  "language_info": {
   "codemirror_mode": {
    "name": "ipython",
    "version": 3
   },
   "file_extension": ".py",
   "mimetype": "text/x-python",
   "name": "python",
   "nbconvert_exporter": "python",
   "pygments_lexer": "ipython3",
   "version": "3.8.10"
  }
 },
 "nbformat": 4,
 "nbformat_minor": 4
}
